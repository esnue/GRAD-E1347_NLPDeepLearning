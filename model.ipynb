{
  "nbformat": 4,
  "nbformat_minor": 0,
  "metadata": {
    "colab": {
      "name": "main_model.ipynb",
      "provenance": [],
      "toc_visible": true,
      "include_colab_link": true
    },
    "kernelspec": {
      "name": "python3",
      "display_name": "Python 3"
    },
    "language_info": {
      "name": "python"
    },
    "accelerator": "GPU"
  },
  "cells": [
    {
      "cell_type": "markdown",
      "metadata": {
        "id": "view-in-github",
        "colab_type": "text"
      },
      "source": [
        "<a href=\"https://colab.research.google.com/github/esnue/ThesisAllocationSystem/blob/main/model.ipynb\" target=\"_parent\"><img src=\"https://colab.research.google.com/assets/colab-badge.svg\" alt=\"Open In Colab\"/></a>"
      ]
    },
    {
      "cell_type": "markdown",
      "metadata": {
        "id": "zzDCH_RhlHCt"
      },
      "source": [
        "## **Model**\n",
        "\n",
        "# Introduction\n",
        "\n",
        "This code script details the steps taken to develop a Transformers- and Pre-Trained based Language multi-label Text-Classification Model. \n",
        "\n",
        "The goal of the model is the ability to match students based on their thesis proposals to supervisors based on the content of their academic papers.\n",
        "\n",
        "Using academic papers as train data is an approach that was proposed by the similarly-working [Toronto Matching System](https://www.cs.toronto.edu/~zemel/documents/tpms.pdf). Instead of matching students to professors, the Toronto Matching Systems assigns Peer-Reviewers based on their academic papers to submitted papers.\n",
        "\n",
        "While thesis proposals tend to be coherent in their structure, academic papers usually have very differing structures, depending on the layout that the publisher demands. Constraining ourselves to few or one particular Journal outlet could have made the cleaning process and possibly the model training easier but would also have considerably reduced the size of the train data. \n",
        "\n",
        "Our multi-label text-classification method is based on Transformers and Pre-Trained Language Models. The Pre-Trained Mode is state-of-art [DistilBert](https://arxiv.org/abs/1910.01108). The Transformers version is [4.4.2](https://huggingface.co/transformers/).\n",
        "\n",
        "We are finetuning a pretrained DistilBERT model for multilabel text classification. This is a very common application of text classification, where a given document can be classified into one or more categories. This approach best mirrors our use case where a thesis proposal could likely be allocated to more than one research area, given the interdisciplinary nature and overlap of research areas between chairs.\n",
        "\n",
        "Before you attempt to run the script, make sure to secure the required modules and datasets."
      ]
    },
    {
      "cell_type": "markdown",
      "metadata": {
        "id": "T6Hc875clTDX"
      },
      "source": [
        "## **Requirements**"
      ]
    },
    {
      "cell_type": "code",
      "metadata": {
        "id": "2e3GrVM9lDTy",
        "colab": {
          "base_uri": "https://localhost:8080/"
        },
        "outputId": "6d921ae1-ffab-4ad7-80bc-246ffa9dcdd0"
      },
      "source": [
        "! pip install transformers==3.0.2"
      ],
      "execution_count": 18,
      "outputs": [
        {
          "output_type": "stream",
          "text": [
            "Requirement already satisfied: transformers==3.0.2 in /usr/local/lib/python3.7/dist-packages (3.0.2)\n",
            "Requirement already satisfied: sentencepiece!=0.1.92 in /usr/local/lib/python3.7/dist-packages (from transformers==3.0.2) (0.1.95)\n",
            "Requirement already satisfied: packaging in /usr/local/lib/python3.7/dist-packages (from transformers==3.0.2) (20.9)\n",
            "Requirement already satisfied: tokenizers==0.8.1.rc1 in /usr/local/lib/python3.7/dist-packages (from transformers==3.0.2) (0.8.1rc1)\n",
            "Requirement already satisfied: sacremoses in /usr/local/lib/python3.7/dist-packages (from transformers==3.0.2) (0.0.43)\n",
            "Requirement already satisfied: filelock in /usr/local/lib/python3.7/dist-packages (from transformers==3.0.2) (3.0.12)\n",
            "Requirement already satisfied: tqdm>=4.27 in /usr/local/lib/python3.7/dist-packages (from transformers==3.0.2) (4.41.1)\n",
            "Requirement already satisfied: numpy in /usr/local/lib/python3.7/dist-packages (from transformers==3.0.2) (1.19.5)\n",
            "Requirement already satisfied: regex!=2019.12.17 in /usr/local/lib/python3.7/dist-packages (from transformers==3.0.2) (2019.12.20)\n",
            "Requirement already satisfied: requests in /usr/local/lib/python3.7/dist-packages (from transformers==3.0.2) (2.23.0)\n",
            "Requirement already satisfied: pyparsing>=2.0.2 in /usr/local/lib/python3.7/dist-packages (from packaging->transformers==3.0.2) (2.4.7)\n",
            "Requirement already satisfied: joblib in /usr/local/lib/python3.7/dist-packages (from sacremoses->transformers==3.0.2) (1.0.1)\n",
            "Requirement already satisfied: six in /usr/local/lib/python3.7/dist-packages (from sacremoses->transformers==3.0.2) (1.15.0)\n",
            "Requirement already satisfied: click in /usr/local/lib/python3.7/dist-packages (from sacremoses->transformers==3.0.2) (7.1.2)\n",
            "Requirement already satisfied: urllib3!=1.25.0,!=1.25.1,<1.26,>=1.21.1 in /usr/local/lib/python3.7/dist-packages (from requests->transformers==3.0.2) (1.24.3)\n",
            "Requirement already satisfied: certifi>=2017.4.17 in /usr/local/lib/python3.7/dist-packages (from requests->transformers==3.0.2) (2020.12.5)\n",
            "Requirement already satisfied: idna<3,>=2.5 in /usr/local/lib/python3.7/dist-packages (from requests->transformers==3.0.2) (2.10)\n",
            "Requirement already satisfied: chardet<4,>=3.0.2 in /usr/local/lib/python3.7/dist-packages (from requests->transformers==3.0.2) (3.0.4)\n"
          ],
          "name": "stdout"
        }
      ]
    },
    {
      "cell_type": "code",
      "metadata": {
        "id": "3JhDfyvQm13A"
      },
      "source": [
        "# Import requirements\n",
        "import warnings\n",
        "warnings.simplefilter('ignore')\n",
        "import numpy as np\n",
        "import pandas as pd\n",
        "from tqdm import tqdm\n",
        "from sklearn import metrics\n",
        "import transformers\n",
        "import torch\n",
        "from torch.utils.data import Dataset, DataLoader, RandomSampler, SequentialSampler\n",
        "from transformers import DistilBertTokenizer, DistilBertModel\n",
        "import logging\n",
        "logging.basicConfig(level=logging.ERROR)"
      ],
      "execution_count": 19,
      "outputs": []
    },
    {
      "cell_type": "code",
      "metadata": {
        "id": "XWdtr0Jmm50S"
      },
      "source": [
        "# Setting up the device for GPU usage\n",
        "\n",
        "from torch import cuda\n",
        "device = 'cuda' if cuda.is_available() else 'cpu'"
      ],
      "execution_count": 20,
      "outputs": []
    },
    {
      "cell_type": "code",
      "metadata": {
        "id": "ZV17pa-CZAnJ"
      },
      "source": [
        "def hamming_score(y_true, y_pred, normalize=True, sample_weight=None):\n",
        "    acc_list = []\n",
        "    for i in range(y_true.shape[0]):\n",
        "        set_true = set( np.where(y_true[i])[0] )\n",
        "        set_pred = set( np.where(y_pred[i])[0] )\n",
        "        tmp_a = None\n",
        "        if len(set_true) == 0 and len(set_pred) == 0:\n",
        "            tmp_a = 1\n",
        "        else:\n",
        "            tmp_a = len(set_true.intersection(set_pred))/\\\n",
        "                    float( len(set_true.union(set_pred)) )\n",
        "        acc_list.append(tmp_a)\n",
        "    return np.mean(acc_list)"
      ],
      "execution_count": 21,
      "outputs": []
    },
    {
      "cell_type": "markdown",
      "metadata": {
        "id": "h_wEr72pnD1y"
      },
      "source": [
        "<a id='section02'></a>\n",
        "### Importing and Pre-Processing the domain data\n",
        "\n",
        "The required data set to run this script is `train-papers-label.csv`. It can be downloaded [here](https://drive.google.com/file/d/1-12x2qro_m9HqWUEwZU_l4njMJ6y1LoX/view?usp=sharing). Please make sure you've stored it on your GDrive or on your computer.\n",
        "\n",
        "The section of the script implements the following tasks:\n",
        "\n",
        "* Load the dataset `train-papers-label.csv`\n",
        "* The dataset is prepared for the DataLoader."
      ]
    },
    {
      "cell_type": "code",
      "metadata": {
        "colab": {
          "base_uri": "https://localhost:8080/"
        },
        "id": "aq-DtMlBnyiU",
        "outputId": "13fb9015-3870-4daf-cc1a-dfe04b42b814"
      },
      "source": [
        "from google.colab import drive\n",
        "drive.mount('/content/drive')"
      ],
      "execution_count": 5,
      "outputs": [
        {
          "output_type": "stream",
          "text": [
            "Drive already mounted at /content/drive; to attempt to forcibly remount, call drive.mount(\"/content/drive\", force_remount=True).\n"
          ],
          "name": "stdout"
        }
      ]
    },
    {
      "cell_type": "markdown",
      "metadata": {
        "id": "V8LKOlxVoO1c"
      },
      "source": [
        "Make sure that list items are correctly stored and read as integers, not as strings, which can happen while saving a data frame as csv. "
      ]
    },
    {
      "cell_type": "code",
      "metadata": {
        "colab": {
          "base_uri": "https://localhost:8080/"
        },
        "id": "bewac5D9oL6u",
        "outputId": "6e796b16-6d0e-4c54-dc9e-c102bea757c9"
      },
      "source": [
        "# Load df\n",
        "new_df = pd.read_csv('/content/drive/MyDrive/ThesisAllocationSystem/data_final/train-papers-label.csv', converters={'labels': eval})\n",
        "\n",
        "# Rename df col\n",
        "new_df.rename(columns={\"content\": \"text\"}, inplace = True)\n",
        "\n",
        "# Check content & type\n",
        "print(new_df.sample(10))\n",
        "print(type(new_df['labels'].iloc[1]))\n",
        "print(type(new_df['labels'].iloc[1][1]))"
      ],
      "execution_count": 22,
      "outputs": [
        {
          "output_type": "stream",
          "text": [
            "                                                  text                                             labels\n",
            "298  b'LEQSPaper76\\n\\n\\n \\n\\n \\n\\nLSE Europe in Que...  [0, 0, 0, 0, 0, 0, 0, 0, 0, 0, 0, 0, 0, 0, 0, ...\n",
            "270  b\"Microsoft Word - Social Origins an Overview-...  [0, 0, 0, 0, 0, 0, 0, 0, 0, 0, 0, 0, 0, 0, 0, ...\n",
            "40   b'Scaling Policy Preferences from Coded Politi...  [0, 1, 0, 0, 0, 0, 0, 0, 0, 0, 0, 0, 0, 0, 0, ...\n",
            "0    b'1 \\n \\n\\nCurry, D., Hammerschmid, G., Jilke,...  [0, 0, 0, 0, 0, 0, 0, 0, 0, 0, 0, 0, 0, 0, 0, ...\n",
            "109  b'Emotionally Driven Robot Control Architectur...  [0, 0, 0, 0, 0, 0, 0, 0, 0, 0, 0, 0, 0, 0, 0, ...\n",
            "768  b'Special Issue on the Economics of Crime:\\nEd...  [0, 0, 0, 0, 0, 0, 0, 0, 0, 0, 0, 0, 0, 0, 0, ...\n",
            "399  b'RSCAS 2017/26 From market integration to cor...  [0, 0, 0, 0, 0, 0, 0, 0, 1, 0, 0, 0, 0, 0, 0, ...\n",
            "134  b'ICON (2018), Vol. 16 No. 1, 128135 doi:10.10...  [0, 0, 0, 0, 0, 0, 0, 0, 0, 0, 0, 0, 1, 0, 0, ...\n",
            "189  b'40 years of global environmental assessments...  [0, 0, 0, 0, 0, 0, 0, 0, 0, 0, 0, 0, 0, 0, 0, ...\n",
            "403  b'From Market Integration to Core State Powers...  [0, 0, 0, 0, 0, 0, 0, 0, 1, 0, 0, 0, 0, 0, 0, ...\n",
            "<class 'list'>\n",
            "<class 'int'>\n"
          ],
          "name": "stdout"
        }
      ]
    },
    {
      "cell_type": "code",
      "metadata": {
        "colab": {
          "base_uri": "https://localhost:8080/"
        },
        "id": "BYFM-i6Ko61S",
        "outputId": "53e5b0b3-fc27-4476-eeb1-09b8116f6041"
      },
      "source": [
        "# Check number of labels\n",
        "print(len(new_df['labels'].iloc[1]))"
      ],
      "execution_count": 23,
      "outputs": [
        {
          "output_type": "stream",
          "text": [
            "29\n"
          ],
          "name": "stdout"
        }
      ]
    },
    {
      "cell_type": "markdown",
      "metadata": {
        "id": "gebxzUbBpS3W"
      },
      "source": [
        "<a id='section03'></a>\n",
        "### Preparing the Dataset and Dataloader\n",
        "\n",
        "First, we define some key variables used for training/fine tuning later on. Next, we create a MultiLabelDataset class alongside a DataLoader specifying how the text is pre-processed prior to sending it to the neural network and the number of batches to be sent to the neural network for training.\n",
        "\n",
        "Dataset and Dataloader are constructs of the PyTorch library for defining and controlling the data pre-processing and its passage to neural network. For further reading into Dataset and Dataloader read the [docs at PyTorch](https://pytorch.org/docs/stable/data.html)\n",
        "\n",
        "#### *MultiLabelDataset* Dataset Class\n",
        "- This class is defined to accept the `tokenizer`, `dataframe` and `max_length` as input and generate tokenized output and tags that is used by the BERT model for training. \n",
        "- We are using the DistilBERT tokenizer to tokenize the data in the `text` column of the dataframe.\n",
        "- The tokenizer uses the `encode_plus` method to perform tokenization and generate the necessary outputs, namely: `ids`, `attention_mask`, `token_type_ids`\n",
        "\n",
        "- To read further into the tokenizer, [refer to this document](https://huggingface.co/transformers/model_doc/distilbert.html#distilberttokenizer)\n",
        "- `targets` is the list of categories labled as `0` or `1` in the dataframe. \n",
        "- The *MultiLabelDataset* class is used to create 2 datasets, for training and for validation.\n",
        "- *Training Dataset* is used to fine tune the model: **currently 80% of the original data, but at later stage we need to include test data from different source**\n",
        "- *Validation Dataset* is used to evaluate the performance of the model. The model has not seen this data during training. \n",
        "\n",
        "#### Dataloader\n",
        "- Dataloader is used to for creating training and validation dataloader that load data to the neural network in a defined manner. This is needed because all the data from the dataset cannot be loaded to the memory at once, hence the amount of dataloaded to the memory and then passed to the neural network needs to be controlled.\n",
        "- This control is achieved using the parameters such as `batch_size` and `max_len`.\n",
        "- Training and Validation dataloaders are used in the training and validation part of the flow respectively"
      ]
    },
    {
      "cell_type": "code",
      "metadata": {
        "id": "e8QW54O8pe2H"
      },
      "source": [
        "# Configurations\n",
        "\n",
        "# Defining key var\n",
        "MAX_LEN = 128\n",
        "TRAIN_BATCH_SIZE = 4\n",
        "VALID_BATCH_SIZE = 4\n",
        "EPOCHS = 3\n",
        "LEARNING_RATE = 1e-05\n",
        "\n",
        "# Import DistilBert Tokenizer\n",
        "tokenizer = DistilBertTokenizer.from_pretrained('distilbert-base-uncased', truncation=True, do_lower_case=True)"
      ],
      "execution_count": 24,
      "outputs": []
    },
    {
      "cell_type": "code",
      "metadata": {
        "id": "fC7zA4nYDGX3"
      },
      "source": [
        "class MultiLabelDataset(Dataset):\n",
        "\n",
        "    def __init__(self, dataframe, tokenizer, max_len):\n",
        "        self.tokenizer = tokenizer\n",
        "        self.data = dataframe\n",
        "        self.text = dataframe.text\n",
        "        self.targets = self.data.labels\n",
        "        self.max_len = max_len\n",
        "\n",
        "    def __len__(self):\n",
        "        return len(self.text)\n",
        "\n",
        "    def __getitem__(self, index):\n",
        "        text = str(self.text[index])\n",
        "        text = \" \".join(text.split())\n",
        "\n",
        "        inputs = self.tokenizer.encode_plus(\n",
        "            text,\n",
        "            None,\n",
        "            add_special_tokens=True,\n",
        "            max_length=self.max_len,\n",
        "            pad_to_max_length=True,\n",
        "            return_token_type_ids=True\n",
        "        )\n",
        "        ids = inputs['input_ids']\n",
        "        mask = inputs['attention_mask']\n",
        "        token_type_ids = inputs[\"token_type_ids\"]\n",
        "\n",
        "\n",
        "        return {\n",
        "            'ids': torch.tensor(ids, dtype=torch.long),\n",
        "            'mask': torch.tensor(mask, dtype=torch.long),\n",
        "            'token_type_ids': torch.tensor(token_type_ids, dtype=torch.long),\n",
        "            'targets': torch.tensor(self.targets[index], dtype=torch.float)\n",
        "        }"
      ],
      "execution_count": 25,
      "outputs": []
    },
    {
      "cell_type": "code",
      "metadata": {
        "id": "qOZWsLfGDOBG",
        "colab": {
          "base_uri": "https://localhost:8080/"
        },
        "outputId": "bd8ae807-541a-4a81-e778-d25bf6ad3604"
      },
      "source": [
        "# Creating the train dataset and dataloader for the neural network\n",
        "train_size = 0.8\n",
        "train_data=new_df.sample(frac=train_size,random_state=200)\n",
        "test_data=new_df.drop(train_data.index).reset_index(drop=True)\n",
        "train_data = train_data.reset_index(drop=True)\n",
        "\n",
        "print(type(train_data['labels'].iloc[1][1]))\n",
        "\n",
        "print(\"FULL Dataset: {}\".format(new_df.shape))\n",
        "print(\"TRAIN Dataset: {}\".format(train_data.shape))\n",
        "print(\"TEST Dataset: {}\".format(test_data.shape))\n",
        "\n",
        "training_set = MultiLabelDataset(train_data, tokenizer, MAX_LEN)\n",
        "testing_set = MultiLabelDataset(test_data, tokenizer, MAX_LEN)"
      ],
      "execution_count": 26,
      "outputs": [
        {
          "output_type": "stream",
          "text": [
            "<class 'int'>\n",
            "FULL Dataset: (811, 2)\n",
            "TRAIN Dataset: (649, 2)\n",
            "TEST Dataset: (162, 2)\n"
          ],
          "name": "stdout"
        }
      ]
    },
    {
      "cell_type": "code",
      "metadata": {
        "id": "ICkvMpj3p4zW"
      },
      "source": [
        "train_params = {'batch_size': TRAIN_BATCH_SIZE,\n",
        "                'shuffle': True,\n",
        "                'num_workers': 0\n",
        "                }\n",
        "\n",
        "test_params = {'batch_size': VALID_BATCH_SIZE,\n",
        "                'shuffle': True,\n",
        "                'num_workers': 0\n",
        "                }\n",
        "\n",
        "training_loader = DataLoader(training_set, **train_params)\n",
        "testing_loader = DataLoader(testing_set, **test_params)"
      ],
      "execution_count": 27,
      "outputs": []
    },
    {
      "cell_type": "markdown",
      "metadata": {
        "id": "j6_YPU38p_wU"
      },
      "source": [
        "<a id='section04'></a>\n",
        "### Creating the Neural Network for Fine Tuning\n",
        "\n",
        "#### Neural Network\n",
        " - We will be creating a neural network with the `DistilBERTClass`. \n",
        " - This network will have the `DistilBERT` model.  Follwed by a `Droput` and `Linear Layer`. They are added for the purpose of **Regularization** and **Classification** respectively. \n",
        " - In the forward loop, there are 2 output from the `DistilBERTClass` layer.\n",
        " - The second output `output_1` or called the `pooled output` is passed to the `Drop Out layer` and the subsequent output is given to the `Linear layer`. \n",
        " - Keep note the number of dimensions for `Linear Layer` is **30** because that is the total number of categories in which we are looking to classify our model\n",
        " - The data will be fed to the `DistilBERTClass` as defined in the dataset. \n",
        " - Final layer outputs is what will be used to calcuate the loss and to determine the accuracy of models prediction. \n",
        " - We will initiate an instance of the network called `model`. This instance will be used for training and then to save the final trained model for future inference. \n",
        " \n",
        "#### Loss Function and Optimizer\n",
        " - The Loss is defined in the next cell as `loss_fn`.\n",
        " - As defined above, the loss function used will be a combination of Binary Cross Entropy which is implemented as [BCELogits Loss](https://pytorch.org/docs/stable/nn.html#bcewithlogitsloss) in PyTorch\n",
        " - `Optimizer` is defined in the next cell.\n",
        " - `Optimizer` is used to update the weights of the neural network to improve its performance."
      ]
    },
    {
      "cell_type": "code",
      "metadata": {
        "id": "FeftvDhjDSPp",
        "colab": {
          "base_uri": "https://localhost:8080/"
        },
        "outputId": "9f2f13a5-eb22-41c6-95aa-e79c716cfe1f"
      },
      "source": [
        "# Creating the customized model, by adding a drop out and a dense layer on top of distil bert to get the final output for the model. \n",
        "\n",
        "class DistilBERTClass(torch.nn.Module):\n",
        "    def __init__(self):\n",
        "        super(DistilBERTClass, self).__init__()\n",
        "        self.l1 = DistilBertModel.from_pretrained(\"distilbert-base-uncased\")\n",
        "        self.pre_classifier = torch.nn.Linear(768, 256)\n",
        "        self.dropout = torch.nn.Dropout(0.1)\n",
        "        self.classifier = torch.nn.Linear(256, 29)\n",
        "\n",
        "    def forward(self, input_ids, attention_mask, token_type_ids):\n",
        "        output_1 = self.l1(input_ids=input_ids, attention_mask=attention_mask)\n",
        "        hidden_state = output_1[0]\n",
        "        pooler = hidden_state[:, 0]\n",
        "        pooler = self.pre_classifier(pooler)\n",
        "        pooler = torch.nn.Tanh()(pooler)\n",
        "        pooler = self.dropout(pooler)\n",
        "        output = self.classifier(pooler)\n",
        "        return output\n",
        "\n",
        "model = DistilBERTClass()\n",
        "model.to(device)"
      ],
      "execution_count": 28,
      "outputs": [
        {
          "output_type": "execute_result",
          "data": {
            "text/plain": [
              "DistilBERTClass(\n",
              "  (l1): DistilBertModel(\n",
              "    (embeddings): Embeddings(\n",
              "      (word_embeddings): Embedding(30522, 768, padding_idx=0)\n",
              "      (position_embeddings): Embedding(512, 768)\n",
              "      (LayerNorm): LayerNorm((768,), eps=1e-12, elementwise_affine=True)\n",
              "      (dropout): Dropout(p=0.1, inplace=False)\n",
              "    )\n",
              "    (transformer): Transformer(\n",
              "      (layer): ModuleList(\n",
              "        (0): TransformerBlock(\n",
              "          (attention): MultiHeadSelfAttention(\n",
              "            (dropout): Dropout(p=0.1, inplace=False)\n",
              "            (q_lin): Linear(in_features=768, out_features=768, bias=True)\n",
              "            (k_lin): Linear(in_features=768, out_features=768, bias=True)\n",
              "            (v_lin): Linear(in_features=768, out_features=768, bias=True)\n",
              "            (out_lin): Linear(in_features=768, out_features=768, bias=True)\n",
              "          )\n",
              "          (sa_layer_norm): LayerNorm((768,), eps=1e-12, elementwise_affine=True)\n",
              "          (ffn): FFN(\n",
              "            (dropout): Dropout(p=0.1, inplace=False)\n",
              "            (lin1): Linear(in_features=768, out_features=3072, bias=True)\n",
              "            (lin2): Linear(in_features=3072, out_features=768, bias=True)\n",
              "          )\n",
              "          (output_layer_norm): LayerNorm((768,), eps=1e-12, elementwise_affine=True)\n",
              "        )\n",
              "        (1): TransformerBlock(\n",
              "          (attention): MultiHeadSelfAttention(\n",
              "            (dropout): Dropout(p=0.1, inplace=False)\n",
              "            (q_lin): Linear(in_features=768, out_features=768, bias=True)\n",
              "            (k_lin): Linear(in_features=768, out_features=768, bias=True)\n",
              "            (v_lin): Linear(in_features=768, out_features=768, bias=True)\n",
              "            (out_lin): Linear(in_features=768, out_features=768, bias=True)\n",
              "          )\n",
              "          (sa_layer_norm): LayerNorm((768,), eps=1e-12, elementwise_affine=True)\n",
              "          (ffn): FFN(\n",
              "            (dropout): Dropout(p=0.1, inplace=False)\n",
              "            (lin1): Linear(in_features=768, out_features=3072, bias=True)\n",
              "            (lin2): Linear(in_features=3072, out_features=768, bias=True)\n",
              "          )\n",
              "          (output_layer_norm): LayerNorm((768,), eps=1e-12, elementwise_affine=True)\n",
              "        )\n",
              "        (2): TransformerBlock(\n",
              "          (attention): MultiHeadSelfAttention(\n",
              "            (dropout): Dropout(p=0.1, inplace=False)\n",
              "            (q_lin): Linear(in_features=768, out_features=768, bias=True)\n",
              "            (k_lin): Linear(in_features=768, out_features=768, bias=True)\n",
              "            (v_lin): Linear(in_features=768, out_features=768, bias=True)\n",
              "            (out_lin): Linear(in_features=768, out_features=768, bias=True)\n",
              "          )\n",
              "          (sa_layer_norm): LayerNorm((768,), eps=1e-12, elementwise_affine=True)\n",
              "          (ffn): FFN(\n",
              "            (dropout): Dropout(p=0.1, inplace=False)\n",
              "            (lin1): Linear(in_features=768, out_features=3072, bias=True)\n",
              "            (lin2): Linear(in_features=3072, out_features=768, bias=True)\n",
              "          )\n",
              "          (output_layer_norm): LayerNorm((768,), eps=1e-12, elementwise_affine=True)\n",
              "        )\n",
              "        (3): TransformerBlock(\n",
              "          (attention): MultiHeadSelfAttention(\n",
              "            (dropout): Dropout(p=0.1, inplace=False)\n",
              "            (q_lin): Linear(in_features=768, out_features=768, bias=True)\n",
              "            (k_lin): Linear(in_features=768, out_features=768, bias=True)\n",
              "            (v_lin): Linear(in_features=768, out_features=768, bias=True)\n",
              "            (out_lin): Linear(in_features=768, out_features=768, bias=True)\n",
              "          )\n",
              "          (sa_layer_norm): LayerNorm((768,), eps=1e-12, elementwise_affine=True)\n",
              "          (ffn): FFN(\n",
              "            (dropout): Dropout(p=0.1, inplace=False)\n",
              "            (lin1): Linear(in_features=768, out_features=3072, bias=True)\n",
              "            (lin2): Linear(in_features=3072, out_features=768, bias=True)\n",
              "          )\n",
              "          (output_layer_norm): LayerNorm((768,), eps=1e-12, elementwise_affine=True)\n",
              "        )\n",
              "        (4): TransformerBlock(\n",
              "          (attention): MultiHeadSelfAttention(\n",
              "            (dropout): Dropout(p=0.1, inplace=False)\n",
              "            (q_lin): Linear(in_features=768, out_features=768, bias=True)\n",
              "            (k_lin): Linear(in_features=768, out_features=768, bias=True)\n",
              "            (v_lin): Linear(in_features=768, out_features=768, bias=True)\n",
              "            (out_lin): Linear(in_features=768, out_features=768, bias=True)\n",
              "          )\n",
              "          (sa_layer_norm): LayerNorm((768,), eps=1e-12, elementwise_affine=True)\n",
              "          (ffn): FFN(\n",
              "            (dropout): Dropout(p=0.1, inplace=False)\n",
              "            (lin1): Linear(in_features=768, out_features=3072, bias=True)\n",
              "            (lin2): Linear(in_features=3072, out_features=768, bias=True)\n",
              "          )\n",
              "          (output_layer_norm): LayerNorm((768,), eps=1e-12, elementwise_affine=True)\n",
              "        )\n",
              "        (5): TransformerBlock(\n",
              "          (attention): MultiHeadSelfAttention(\n",
              "            (dropout): Dropout(p=0.1, inplace=False)\n",
              "            (q_lin): Linear(in_features=768, out_features=768, bias=True)\n",
              "            (k_lin): Linear(in_features=768, out_features=768, bias=True)\n",
              "            (v_lin): Linear(in_features=768, out_features=768, bias=True)\n",
              "            (out_lin): Linear(in_features=768, out_features=768, bias=True)\n",
              "          )\n",
              "          (sa_layer_norm): LayerNorm((768,), eps=1e-12, elementwise_affine=True)\n",
              "          (ffn): FFN(\n",
              "            (dropout): Dropout(p=0.1, inplace=False)\n",
              "            (lin1): Linear(in_features=768, out_features=3072, bias=True)\n",
              "            (lin2): Linear(in_features=3072, out_features=768, bias=True)\n",
              "          )\n",
              "          (output_layer_norm): LayerNorm((768,), eps=1e-12, elementwise_affine=True)\n",
              "        )\n",
              "      )\n",
              "    )\n",
              "  )\n",
              "  (pre_classifier): Linear(in_features=768, out_features=256, bias=True)\n",
              "  (dropout): Dropout(p=0.1, inplace=False)\n",
              "  (classifier): Linear(in_features=256, out_features=29, bias=True)\n",
              ")"
            ]
          },
          "metadata": {
            "tags": []
          },
          "execution_count": 28
        }
      ]
    },
    {
      "cell_type": "code",
      "metadata": {
        "id": "MZ_wI0YwDVJZ"
      },
      "source": [
        "def loss_fn(outputs, targets):\n",
        "    return torch.nn.BCEWithLogitsLoss()(outputs, targets)"
      ],
      "execution_count": 29,
      "outputs": []
    },
    {
      "cell_type": "code",
      "metadata": {
        "id": "oO49FuR9DXsW"
      },
      "source": [
        "optimizer = torch.optim.Adam(params =  model.parameters(), lr=LEARNING_RATE)"
      ],
      "execution_count": 30,
      "outputs": []
    },
    {
      "cell_type": "code",
      "metadata": {
        "id": "fb9-Yr9YDZqo"
      },
      "source": [
        "def train(epoch):\n",
        "    model.train()\n",
        "    for _,data in tqdm(enumerate(training_loader, 0)):\n",
        "        ids = data['ids'].to(device, dtype = torch.long)\n",
        "        mask = data['mask'].to(device, dtype = torch.long)\n",
        "        token_type_ids = data['token_type_ids'].to(device, dtype = torch.long)\n",
        "        targets = data['targets'].to(device, dtype = torch.float)\n",
        "\n",
        "        outputs = model(ids, mask, token_type_ids)\n",
        "\n",
        "        optimizer.zero_grad()\n",
        "        loss = loss_fn(outputs, targets)\n",
        "        if _%5000==0:\n",
        "            print(f'Epoch: {epoch}, Loss:  {loss.item()}')\n",
        "        \n",
        "        optimizer.zero_grad()\n",
        "        loss.backward()\n",
        "        optimizer.step()"
      ],
      "execution_count": 31,
      "outputs": []
    },
    {
      "cell_type": "code",
      "metadata": {
        "id": "Reta6H84DcJq",
        "colab": {
          "base_uri": "https://localhost:8080/"
        },
        "outputId": "d4815cf2-fbd5-4eb9-d330-bfd4bc0bc20d"
      },
      "source": [
        "for epoch in range(EPOCHS):\n",
        "    train(epoch)"
      ],
      "execution_count": 32,
      "outputs": [
        {
          "output_type": "stream",
          "text": [
            "\n",
            "0it [00:00, ?it/s]\u001b[A\n",
            "1it [00:00,  1.08it/s]\u001b[A"
          ],
          "name": "stderr"
        },
        {
          "output_type": "stream",
          "text": [
            "Epoch: 0, Loss:  0.6889526844024658\n"
          ],
          "name": "stdout"
        },
        {
          "output_type": "stream",
          "text": [
            "\n",
            "2it [00:01,  1.22it/s]\u001b[A\n",
            "3it [00:02,  1.24it/s]\u001b[A\n",
            "4it [00:03,  1.28it/s]\u001b[A\n",
            "5it [00:03,  1.27it/s]\u001b[A\n",
            "6it [00:04,  1.28it/s]\u001b[A\n",
            "7it [00:05,  1.31it/s]\u001b[A\n",
            "8it [00:06,  1.31it/s]\u001b[A\n",
            "9it [00:06,  1.38it/s]\u001b[A\n",
            "10it [00:07,  1.24it/s]\u001b[A\n",
            "11it [00:08,  1.21it/s]\u001b[A\n",
            "12it [00:10,  1.01s/it]\u001b[A\n",
            "13it [00:10,  1.04it/s]\u001b[A\n",
            "14it [00:11,  1.08it/s]\u001b[A\n",
            "15it [00:12,  1.12it/s]\u001b[A\n",
            "16it [00:13,  1.19it/s]\u001b[A\n",
            "17it [00:13,  1.25it/s]\u001b[A\n",
            "18it [00:14,  1.29it/s]\u001b[A\n",
            "19it [00:15,  1.28it/s]\u001b[A\n",
            "20it [00:16,  1.31it/s]\u001b[A\n",
            "21it [00:16,  1.27it/s]\u001b[A\n",
            "22it [00:17,  1.29it/s]\u001b[A\n",
            "23it [00:18,  1.23it/s]\u001b[A\n",
            "24it [00:19,  1.21it/s]\u001b[A\n",
            "25it [00:20,  1.17it/s]\u001b[A\n",
            "26it [00:21,  1.23it/s]\u001b[A\n",
            "27it [00:21,  1.28it/s]\u001b[A\n",
            "28it [00:22,  1.31it/s]\u001b[A\n",
            "29it [00:23,  1.30it/s]\u001b[A\n",
            "30it [00:24,  1.35it/s]\u001b[A\n",
            "31it [00:25,  1.07s/it]\u001b[A\n",
            "32it [00:26,  1.06it/s]\u001b[A\n",
            "33it [00:27,  1.17it/s]\u001b[A\n",
            "34it [00:27,  1.21it/s]\u001b[A\n",
            "35it [00:28,  1.31it/s]\u001b[A\n",
            "36it [00:29,  1.36it/s]\u001b[A\n",
            "37it [00:29,  1.38it/s]\u001b[A\n",
            "38it [00:30,  1.28it/s]\u001b[A\n",
            "39it [00:31,  1.22it/s]\u001b[A\n",
            "40it [00:32,  1.22it/s]\u001b[A\n",
            "41it [00:33,  1.21it/s]\u001b[A\n",
            "42it [00:34,  1.18it/s]\u001b[A\n",
            "43it [00:35,  1.24it/s]\u001b[A\n",
            "44it [00:35,  1.23it/s]\u001b[A\n",
            "45it [00:36,  1.26it/s]\u001b[A\n",
            "46it [00:37,  1.29it/s]\u001b[A\n",
            "47it [00:38,  1.30it/s]\u001b[A\n",
            "48it [00:38,  1.32it/s]\u001b[A\n",
            "49it [00:39,  1.31it/s]\u001b[A\n",
            "50it [00:40,  1.39it/s]\u001b[A\n",
            "51it [00:40,  1.37it/s]\u001b[A\n",
            "52it [00:41,  1.36it/s]\u001b[A\n",
            "53it [00:42,  1.39it/s]\u001b[A\n",
            "54it [00:43,  1.37it/s]\u001b[A\n",
            "55it [00:43,  1.36it/s]\u001b[A\n",
            "56it [00:44,  1.39it/s]\u001b[A\n",
            "57it [00:45,  1.43it/s]\u001b[A\n",
            "58it [00:45,  1.53it/s]\u001b[A\n",
            "59it [00:46,  1.46it/s]\u001b[A\n",
            "60it [00:47,  1.12it/s]\u001b[A\n",
            "61it [00:48,  1.12it/s]\u001b[A\n",
            "62it [00:49,  1.18it/s]\u001b[A\n",
            "63it [00:50,  1.23it/s]\u001b[A\n",
            "64it [00:51,  1.24it/s]\u001b[A\n",
            "65it [00:51,  1.18it/s]\u001b[A\n",
            "66it [00:52,  1.24it/s]\u001b[A\n",
            "67it [00:53,  1.28it/s]\u001b[A\n",
            "68it [00:54,  1.30it/s]\u001b[A\n",
            "69it [00:54,  1.39it/s]\u001b[A\n",
            "70it [00:55,  1.46it/s]\u001b[A\n",
            "71it [00:56,  1.45it/s]\u001b[A\n",
            "72it [00:56,  1.38it/s]\u001b[A\n",
            "73it [00:57,  1.38it/s]\u001b[A\n",
            "74it [00:58,  1.41it/s]\u001b[A\n",
            "75it [01:00,  1.06s/it]\u001b[A\n",
            "76it [01:00,  1.05it/s]\u001b[A\n",
            "77it [01:01,  1.13it/s]\u001b[A\n",
            "78it [01:03,  1.22s/it]\u001b[A\n",
            "79it [01:04,  1.05s/it]\u001b[A\n",
            "80it [01:05,  1.04it/s]\u001b[A\n",
            "81it [01:05,  1.16it/s]\u001b[A\n",
            "82it [01:06,  1.20it/s]\u001b[A\n",
            "83it [01:07,  1.27it/s]\u001b[A\n",
            "84it [01:07,  1.29it/s]\u001b[A\n",
            "85it [01:08,  1.30it/s]\u001b[A\n",
            "86it [01:09,  1.22it/s]\u001b[A\n",
            "87it [01:09,  1.41it/s]\u001b[A\n",
            "88it [01:10,  1.52it/s]\u001b[A\n",
            "89it [01:11,  1.37it/s]\u001b[A\n",
            "90it [01:12,  1.25it/s]\u001b[A\n",
            "91it [01:13,  1.19it/s]\u001b[A\n",
            "92it [01:13,  1.32it/s]\u001b[A\n",
            "93it [01:14,  1.33it/s]\u001b[A\n",
            "94it [01:15,  1.23it/s]\u001b[A\n",
            "95it [01:16,  1.26it/s]\u001b[A\n",
            "96it [01:17,  1.24it/s]\u001b[A\n",
            "97it [01:17,  1.27it/s]\u001b[A\n",
            "98it [01:18,  1.25it/s]\u001b[A\n",
            "99it [01:19,  1.24it/s]\u001b[A\n",
            "100it [01:20,  1.29it/s]\u001b[A\n",
            "101it [01:20,  1.35it/s]\u001b[A\n",
            "102it [01:21,  1.40it/s]\u001b[A\n",
            "103it [01:22,  1.46it/s]\u001b[A\n",
            "104it [01:22,  1.40it/s]\u001b[A\n",
            "105it [01:23,  1.33it/s]\u001b[A\n",
            "106it [01:24,  1.31it/s]\u001b[A\n",
            "107it [01:25,  1.31it/s]\u001b[A\n",
            "108it [01:26,  1.35it/s]\u001b[A\n",
            "109it [01:26,  1.34it/s]\u001b[A\n",
            "110it [01:27,  1.49it/s]\u001b[A\n",
            "111it [01:27,  1.63it/s]\u001b[A\n",
            "112it [01:28,  1.53it/s]\u001b[A\n",
            "113it [01:29,  1.44it/s]\u001b[A\n",
            "114it [01:30,  1.41it/s]\u001b[A\n",
            "115it [01:30,  1.42it/s]\u001b[A\n",
            "116it [01:31,  1.42it/s]\u001b[A\n",
            "117it [01:32,  1.51it/s]\u001b[A\n",
            "118it [01:32,  1.48it/s]\u001b[A\n",
            "119it [01:33,  1.51it/s]\u001b[A\n",
            "120it [01:33,  1.54it/s]\u001b[A\n",
            "121it [01:34,  1.45it/s]\u001b[A\n",
            "122it [01:35,  1.18it/s]\u001b[A\n",
            "123it [01:36,  1.22it/s]\u001b[A\n",
            "124it [01:37,  1.27it/s]\u001b[A\n",
            "125it [01:38,  1.29it/s]\u001b[A\n",
            "126it [01:38,  1.39it/s]\u001b[A\n",
            "127it [01:39,  1.45it/s]\u001b[A\n",
            "128it [01:39,  1.50it/s]\u001b[A\n",
            "129it [01:40,  1.44it/s]\u001b[A\n",
            "130it [01:41,  1.41it/s]\u001b[A\n",
            "131it [01:42,  1.41it/s]\u001b[A\n",
            "132it [01:43,  1.33it/s]\u001b[A\n",
            "133it [01:43,  1.39it/s]\u001b[A\n",
            "134it [01:44,  1.41it/s]\u001b[A\n",
            "135it [01:45,  1.40it/s]\u001b[A\n",
            "136it [01:45,  1.46it/s]\u001b[A\n",
            "137it [01:46,  1.41it/s]\u001b[A\n",
            "138it [01:47,  1.38it/s]\u001b[A\n",
            "139it [01:48,  1.31it/s]\u001b[A\n",
            "140it [01:48,  1.34it/s]\u001b[A\n",
            "141it [01:49,  1.40it/s]\u001b[A\n",
            "142it [01:50,  1.27it/s]\u001b[A\n",
            "143it [01:51,  1.37it/s]\u001b[A\n",
            "144it [01:51,  1.41it/s]\u001b[A\n",
            "145it [01:52,  1.47it/s]\u001b[A\n",
            "146it [01:53,  1.32it/s]\u001b[A\n",
            "147it [01:53,  1.34it/s]\u001b[A\n",
            "148it [01:54,  1.31it/s]\u001b[A\n",
            "149it [01:55,  1.23it/s]\u001b[A\n",
            "150it [01:56,  1.26it/s]\u001b[A\n",
            "151it [01:57,  1.25it/s]\u001b[A\n",
            "152it [01:57,  1.30it/s]\u001b[A\n",
            "153it [01:58,  1.29it/s]\u001b[A\n",
            "154it [01:59,  1.28it/s]\u001b[A\n",
            "155it [02:00,  1.23it/s]\u001b[A\n",
            "156it [02:01,  1.04s/it]\u001b[A\n",
            "157it [02:02,  1.01it/s]\u001b[A\n",
            "158it [02:03,  1.08it/s]\u001b[A\n",
            "159it [02:04,  1.15it/s]\u001b[A\n",
            "160it [02:05,  1.19it/s]\u001b[A\n",
            "161it [02:06,  1.13it/s]\u001b[A\n",
            "163it [02:07,  1.28it/s]\n",
            "\n",
            "0it [00:00, ?it/s]\u001b[A\n",
            "1it [00:00,  1.24it/s]\u001b[A"
          ],
          "name": "stderr"
        },
        {
          "output_type": "stream",
          "text": [
            "Epoch: 1, Loss:  0.2861529588699341\n"
          ],
          "name": "stdout"
        },
        {
          "output_type": "stream",
          "text": [
            "\n",
            "2it [00:01,  1.25it/s]\u001b[A\n",
            "3it [00:02,  1.26it/s]\u001b[A\n",
            "4it [00:02,  1.35it/s]\u001b[A\n",
            "5it [00:03,  1.36it/s]\u001b[A\n",
            "6it [00:04,  1.29it/s]\u001b[A\n",
            "7it [00:05,  1.24it/s]\u001b[A\n",
            "8it [00:07,  1.15s/it]\u001b[A\n",
            "9it [00:08,  1.05s/it]\u001b[A\n",
            "10it [00:08,  1.06it/s]\u001b[A\n",
            "11it [00:09,  1.17it/s]\u001b[A\n",
            "12it [00:10,  1.22it/s]\u001b[A\n",
            "13it [00:10,  1.31it/s]\u001b[A\n",
            "14it [00:11,  1.36it/s]\u001b[A\n",
            "15it [00:12,  1.50it/s]\u001b[A\n",
            "16it [00:12,  1.43it/s]\u001b[A\n",
            "17it [00:13,  1.36it/s]\u001b[A\n",
            "18it [00:14,  1.39it/s]\u001b[A\n",
            "19it [00:15,  1.35it/s]\u001b[A\n",
            "20it [00:15,  1.39it/s]\u001b[A\n",
            "21it [00:16,  1.33it/s]\u001b[A\n",
            "22it [00:17,  1.27it/s]\u001b[A\n",
            "23it [00:18,  1.31it/s]\u001b[A\n",
            "24it [00:18,  1.32it/s]\u001b[A\n",
            "25it [00:19,  1.28it/s]\u001b[A\n",
            "26it [00:20,  1.31it/s]\u001b[A\n",
            "27it [00:21,  1.36it/s]\u001b[A\n",
            "28it [00:21,  1.43it/s]\u001b[A\n",
            "29it [00:22,  1.48it/s]\u001b[A\n",
            "30it [00:23,  1.49it/s]\u001b[A\n",
            "31it [00:23,  1.55it/s]\u001b[A\n",
            "32it [00:24,  1.48it/s]\u001b[A\n",
            "33it [00:26,  1.05s/it]\u001b[A\n",
            "34it [00:27,  1.06it/s]\u001b[A\n",
            "35it [00:27,  1.12it/s]\u001b[A\n",
            "36it [00:28,  1.15it/s]\u001b[A\n",
            "37it [00:29,  1.20it/s]\u001b[A\n",
            "38it [00:30,  1.24it/s]\u001b[A\n",
            "39it [00:31,  1.22it/s]\u001b[A\n",
            "40it [00:32,  1.00it/s]\u001b[A\n",
            "41it [00:33,  1.10it/s]\u001b[A\n",
            "42it [00:33,  1.14it/s]\u001b[A\n",
            "43it [00:34,  1.17it/s]\u001b[A\n",
            "44it [00:35,  1.35it/s]\u001b[A\n",
            "45it [00:35,  1.33it/s]\u001b[A\n",
            "46it [00:36,  1.26it/s]\u001b[A\n",
            "47it [00:37,  1.28it/s]\u001b[A\n",
            "48it [00:38,  1.30it/s]\u001b[A\n",
            "49it [00:39,  1.35it/s]\u001b[A\n",
            "50it [00:40,  1.04s/it]\u001b[A\n",
            "51it [00:41,  1.08it/s]\u001b[A\n",
            "52it [00:42,  1.14it/s]\u001b[A\n",
            "53it [00:42,  1.18it/s]\u001b[A\n",
            "54it [00:43,  1.22it/s]\u001b[A\n",
            "55it [00:44,  1.26it/s]\u001b[A\n",
            "56it [00:45,  1.30it/s]\u001b[A\n",
            "57it [00:45,  1.29it/s]\u001b[A\n",
            "58it [00:46,  1.26it/s]\u001b[A\n",
            "59it [00:47,  1.30it/s]\u001b[A\n",
            "60it [00:48,  1.18it/s]\u001b[A\n",
            "61it [00:49,  1.28it/s]\u001b[A\n",
            "62it [00:49,  1.30it/s]\u001b[A\n",
            "63it [00:50,  1.32it/s]\u001b[A\n",
            "64it [00:51,  1.35it/s]\u001b[A\n",
            "65it [00:52,  1.36it/s]\u001b[A\n",
            "66it [00:52,  1.43it/s]\u001b[A\n",
            "67it [00:53,  1.39it/s]\u001b[A\n",
            "68it [00:54,  1.28it/s]\u001b[A\n",
            "69it [00:55,  1.32it/s]\u001b[A\n",
            "70it [00:55,  1.32it/s]\u001b[A\n",
            "71it [00:56,  1.33it/s]\u001b[A\n",
            "72it [00:57,  1.30it/s]\u001b[A\n",
            "73it [00:58,  1.25it/s]\u001b[A\n",
            "74it [00:59,  1.26it/s]\u001b[A\n",
            "75it [00:59,  1.33it/s]\u001b[A\n",
            "76it [01:00,  1.29it/s]\u001b[A\n",
            "77it [01:01,  1.38it/s]\u001b[A\n",
            "78it [01:01,  1.32it/s]\u001b[A\n",
            "79it [01:02,  1.34it/s]\u001b[A\n",
            "80it [01:03,  1.29it/s]\u001b[A\n",
            "81it [01:04,  1.33it/s]\u001b[A\n",
            "82it [01:04,  1.34it/s]\u001b[A\n",
            "83it [01:05,  1.31it/s]\u001b[A\n",
            "84it [01:06,  1.32it/s]\u001b[A\n",
            "85it [01:07,  1.33it/s]\u001b[A\n",
            "86it [01:08,  1.32it/s]\u001b[A\n",
            "87it [01:08,  1.46it/s]\u001b[A\n",
            "88it [01:09,  1.41it/s]\u001b[A\n",
            "89it [01:10,  1.38it/s]\u001b[A\n",
            "90it [01:11,  1.19it/s]\u001b[A\n",
            "91it [01:11,  1.26it/s]\u001b[A\n",
            "92it [01:12,  1.27it/s]\u001b[A\n",
            "93it [01:13,  1.32it/s]\u001b[A\n",
            "94it [01:14,  1.32it/s]\u001b[A\n",
            "95it [01:14,  1.32it/s]\u001b[A\n",
            "96it [01:15,  1.26it/s]\u001b[A\n",
            "97it [01:16,  1.24it/s]\u001b[A\n",
            "98it [01:17,  1.31it/s]\u001b[A\n",
            "99it [01:17,  1.43it/s]\u001b[A\n",
            "100it [01:18,  1.42it/s]\u001b[A\n",
            "101it [01:19,  1.33it/s]\u001b[A\n",
            "102it [01:19,  1.42it/s]\u001b[A\n",
            "103it [01:20,  1.37it/s]\u001b[A\n",
            "104it [01:21,  1.37it/s]\u001b[A\n",
            "105it [01:22,  1.21it/s]\u001b[A\n",
            "106it [01:23,  1.25it/s]\u001b[A\n",
            "107it [01:23,  1.37it/s]\u001b[A\n",
            "108it [01:24,  1.33it/s]\u001b[A\n",
            "109it [01:25,  1.35it/s]\u001b[A\n",
            "110it [01:26,  1.30it/s]\u001b[A\n",
            "111it [01:26,  1.33it/s]\u001b[A\n",
            "112it [01:27,  1.41it/s]\u001b[A\n",
            "113it [01:28,  1.32it/s]\u001b[A\n",
            "114it [01:29,  1.28it/s]\u001b[A\n",
            "115it [01:30,  1.24it/s]\u001b[A\n",
            "116it [01:30,  1.27it/s]\u001b[A\n",
            "117it [01:31,  1.30it/s]\u001b[A\n",
            "118it [01:32,  1.34it/s]\u001b[A\n",
            "119it [01:32,  1.46it/s]\u001b[A\n",
            "120it [01:33,  1.45it/s]\u001b[A\n",
            "121it [01:34,  1.48it/s]\u001b[A\n",
            "122it [01:34,  1.37it/s]\u001b[A\n",
            "123it [01:35,  1.34it/s]\u001b[A\n",
            "124it [01:36,  1.40it/s]\u001b[A\n",
            "125it [01:37,  1.39it/s]\u001b[A\n",
            "126it [01:37,  1.41it/s]\u001b[A\n",
            "127it [01:38,  1.34it/s]\u001b[A\n",
            "128it [01:39,  1.43it/s]\u001b[A\n",
            "129it [01:40,  1.28it/s]\u001b[A\n",
            "130it [01:40,  1.28it/s]\u001b[A\n",
            "131it [01:41,  1.23it/s]\u001b[A\n",
            "132it [01:42,  1.25it/s]\u001b[A\n",
            "133it [01:43,  1.18it/s]\u001b[A\n",
            "134it [01:44,  1.21it/s]\u001b[A\n",
            "135it [01:44,  1.31it/s]\u001b[A\n",
            "136it [01:46,  1.09s/it]\u001b[A\n",
            "137it [01:48,  1.14s/it]\u001b[A\n",
            "138it [01:48,  1.01s/it]\u001b[A\n",
            "139it [01:49,  1.08it/s]\u001b[A\n",
            "140it [01:50,  1.23it/s]\u001b[A\n",
            "141it [01:51,  1.04it/s]\u001b[A\n",
            "142it [01:52,  1.12it/s]\u001b[A\n",
            "143it [01:52,  1.22it/s]\u001b[A\n",
            "144it [01:53,  1.27it/s]\u001b[A\n",
            "145it [01:54,  1.34it/s]\u001b[A\n",
            "146it [01:54,  1.43it/s]\u001b[A\n",
            "147it [01:55,  1.42it/s]\u001b[A\n",
            "148it [01:56,  1.36it/s]\u001b[A\n",
            "149it [01:57,  1.35it/s]\u001b[A\n",
            "150it [01:57,  1.33it/s]\u001b[A\n",
            "151it [01:58,  1.36it/s]\u001b[A\n",
            "152it [01:59,  1.36it/s]\u001b[A\n",
            "153it [02:00,  1.33it/s]\u001b[A\n",
            "154it [02:00,  1.34it/s]\u001b[A\n",
            "155it [02:01,  1.35it/s]\u001b[A\n",
            "156it [02:02,  1.35it/s]\u001b[A\n",
            "157it [02:02,  1.46it/s]\u001b[A\n",
            "158it [02:03,  1.41it/s]\u001b[A\n",
            "159it [02:04,  1.29it/s]\u001b[A\n",
            "160it [02:05,  1.26it/s]\u001b[A\n",
            "161it [02:06,  1.28it/s]\u001b[A\n",
            "162it [02:06,  1.39it/s]\u001b[A\n",
            "163it [02:06,  1.29it/s]\n",
            "\n",
            "0it [00:00, ?it/s]\u001b[A\n",
            "1it [00:00,  1.04it/s]\u001b[A"
          ],
          "name": "stderr"
        },
        {
          "output_type": "stream",
          "text": [
            "Epoch: 2, Loss:  0.2279970943927765\n"
          ],
          "name": "stdout"
        },
        {
          "output_type": "stream",
          "text": [
            "\n",
            "2it [00:01,  1.25it/s]\u001b[A\n",
            "3it [00:02,  1.28it/s]\u001b[A\n",
            "4it [00:02,  1.24it/s]\u001b[A\n",
            "5it [00:04,  1.14it/s]\u001b[A\n",
            "6it [00:05,  1.05it/s]\u001b[A\n",
            "7it [00:05,  1.11it/s]\u001b[A\n",
            "8it [00:06,  1.29it/s]\u001b[A\n",
            "9it [00:07,  1.21it/s]\u001b[A\n",
            "10it [00:08,  1.20it/s]\u001b[A\n",
            "11it [00:08,  1.25it/s]\u001b[A\n",
            "12it [00:09,  1.24it/s]\u001b[A\n",
            "13it [00:10,  1.31it/s]\u001b[A\n",
            "14it [00:11,  1.36it/s]\u001b[A\n",
            "15it [00:12,  1.23it/s]\u001b[A\n",
            "16it [00:12,  1.27it/s]\u001b[A\n",
            "17it [00:13,  1.28it/s]\u001b[A\n",
            "18it [00:14,  1.29it/s]\u001b[A\n",
            "19it [00:15,  1.33it/s]\u001b[A\n",
            "20it [00:15,  1.45it/s]\u001b[A\n",
            "21it [00:16,  1.45it/s]\u001b[A\n",
            "22it [00:17,  1.32it/s]\u001b[A\n",
            "23it [00:17,  1.37it/s]\u001b[A\n",
            "24it [00:18,  1.39it/s]\u001b[A\n",
            "25it [00:19,  1.39it/s]\u001b[A\n",
            "26it [00:20,  1.35it/s]\u001b[A\n",
            "27it [00:20,  1.36it/s]\u001b[A\n",
            "28it [00:21,  1.35it/s]\u001b[A\n",
            "29it [00:22,  1.31it/s]\u001b[A\n",
            "30it [00:22,  1.38it/s]\u001b[A\n",
            "31it [00:23,  1.35it/s]\u001b[A\n",
            "32it [00:24,  1.37it/s]\u001b[A\n",
            "33it [00:25,  1.43it/s]\u001b[A\n",
            "34it [00:25,  1.37it/s]\u001b[A\n",
            "35it [00:26,  1.26it/s]\u001b[A\n",
            "36it [00:28,  1.05it/s]\u001b[A\n",
            "37it [00:29,  1.08it/s]\u001b[A\n",
            "38it [00:29,  1.18it/s]\u001b[A\n",
            "39it [00:30,  1.27it/s]\u001b[A\n",
            "40it [00:31,  1.32it/s]\u001b[A\n",
            "41it [00:31,  1.33it/s]\u001b[A\n",
            "42it [00:33,  1.10it/s]\u001b[A\n",
            "43it [00:34,  1.17s/it]\u001b[A\n",
            "44it [00:35,  1.02s/it]\u001b[A\n",
            "45it [00:36,  1.03it/s]\u001b[A\n",
            "46it [00:37,  1.12it/s]\u001b[A\n",
            "47it [00:37,  1.17it/s]\u001b[A\n",
            "48it [00:38,  1.19it/s]\u001b[A\n",
            "49it [00:39,  1.34it/s]\u001b[A\n",
            "50it [00:39,  1.36it/s]\u001b[A\n",
            "51it [00:40,  1.46it/s]\u001b[A\n",
            "52it [00:41,  1.44it/s]\u001b[A\n",
            "53it [00:41,  1.42it/s]\u001b[A\n",
            "54it [00:42,  1.41it/s]\u001b[A\n",
            "55it [00:42,  1.64it/s]\u001b[A\n",
            "56it [00:43,  1.64it/s]\u001b[A\n",
            "57it [00:44,  1.57it/s]\u001b[A\n",
            "58it [00:44,  1.51it/s]\u001b[A\n",
            "59it [00:45,  1.50it/s]\u001b[A\n",
            "60it [00:46,  1.46it/s]\u001b[A\n",
            "61it [00:47,  1.37it/s]\u001b[A\n",
            "62it [00:48,  1.31it/s]\u001b[A\n",
            "63it [00:49,  1.07it/s]\u001b[A\n",
            "64it [00:50,  1.14it/s]\u001b[A\n",
            "65it [00:50,  1.18it/s]\u001b[A\n",
            "66it [00:51,  1.23it/s]\u001b[A\n",
            "67it [00:52,  1.26it/s]\u001b[A\n",
            "68it [00:53,  1.24it/s]\u001b[A\n",
            "69it [00:54,  1.26it/s]\u001b[A\n",
            "70it [00:54,  1.30it/s]\u001b[A\n",
            "71it [00:55,  1.29it/s]\u001b[A\n",
            "72it [00:56,  1.39it/s]\u001b[A\n",
            "73it [00:56,  1.41it/s]\u001b[A\n",
            "74it [00:57,  1.36it/s]\u001b[A\n",
            "75it [00:58,  1.30it/s]\u001b[A\n",
            "76it [00:59,  1.22it/s]\u001b[A\n",
            "77it [01:00,  1.29it/s]\u001b[A\n",
            "78it [01:00,  1.32it/s]\u001b[A\n",
            "79it [01:01,  1.33it/s]\u001b[A\n",
            "80it [01:02,  1.25it/s]\u001b[A\n",
            "81it [01:03,  1.35it/s]\u001b[A\n",
            "82it [01:03,  1.36it/s]\u001b[A\n",
            "83it [01:04,  1.38it/s]\u001b[A\n",
            "84it [01:05,  1.30it/s]\u001b[A\n",
            "85it [01:06,  1.30it/s]\u001b[A\n",
            "86it [01:06,  1.25it/s]\u001b[A\n",
            "87it [01:08,  1.12s/it]\u001b[A\n",
            "88it [01:09,  1.05s/it]\u001b[A\n",
            "89it [01:10,  1.07it/s]\u001b[A\n",
            "90it [01:11,  1.13it/s]\u001b[A\n",
            "91it [01:11,  1.20it/s]\u001b[A\n",
            "92it [01:12,  1.24it/s]\u001b[A\n",
            "93it [01:13,  1.23it/s]\u001b[A\n",
            "94it [01:14,  1.29it/s]\u001b[A\n",
            "95it [01:15,  1.18it/s]\u001b[A\n",
            "96it [01:15,  1.29it/s]\u001b[A\n",
            "97it [01:16,  1.36it/s]\u001b[A\n",
            "98it [01:17,  1.38it/s]\u001b[A\n",
            "99it [01:17,  1.48it/s]\u001b[A\n",
            "100it [01:18,  1.34it/s]\u001b[A\n",
            "101it [01:19,  1.34it/s]\u001b[A\n",
            "102it [01:20,  1.32it/s]\u001b[A\n",
            "103it [01:20,  1.30it/s]\u001b[A\n",
            "104it [01:21,  1.30it/s]\u001b[A\n",
            "105it [01:22,  1.26it/s]\u001b[A\n",
            "106it [01:23,  1.29it/s]\u001b[A\n",
            "107it [01:23,  1.30it/s]\u001b[A\n",
            "108it [01:24,  1.34it/s]\u001b[A\n",
            "109it [01:25,  1.43it/s]\u001b[A\n",
            "110it [01:25,  1.42it/s]\u001b[A\n",
            "111it [01:26,  1.42it/s]\u001b[A\n",
            "112it [01:27,  1.63it/s]\u001b[A\n",
            "113it [01:27,  1.70it/s]\u001b[A\n",
            "114it [01:28,  1.55it/s]\u001b[A\n",
            "115it [01:29,  1.47it/s]\u001b[A\n",
            "116it [01:29,  1.38it/s]\u001b[A\n",
            "117it [01:30,  1.33it/s]\u001b[A\n",
            "118it [01:31,  1.31it/s]\u001b[A\n",
            "119it [01:32,  1.33it/s]\u001b[A\n",
            "120it [01:33,  1.31it/s]\u001b[A\n",
            "121it [01:33,  1.28it/s]\u001b[A\n",
            "122it [01:34,  1.23it/s]\u001b[A\n",
            "123it [01:35,  1.22it/s]\u001b[A\n",
            "124it [01:36,  1.20it/s]\u001b[A\n",
            "125it [01:37,  1.22it/s]\u001b[A\n",
            "126it [01:38,  1.24it/s]\u001b[A\n",
            "127it [01:38,  1.28it/s]\u001b[A\n",
            "128it [01:39,  1.40it/s]\u001b[A\n",
            "129it [01:40,  1.40it/s]\u001b[A\n",
            "130it [01:40,  1.48it/s]\u001b[A\n",
            "131it [01:41,  1.50it/s]\u001b[A\n",
            "132it [01:42,  1.40it/s]\u001b[A\n",
            "133it [01:42,  1.39it/s]\u001b[A\n",
            "134it [01:43,  1.47it/s]\u001b[A\n",
            "135it [01:44,  1.42it/s]\u001b[A\n",
            "136it [01:44,  1.38it/s]\u001b[A\n",
            "137it [01:45,  1.38it/s]\u001b[A\n",
            "138it [01:46,  1.45it/s]\u001b[A\n",
            "139it [01:47,  1.39it/s]\u001b[A\n",
            "140it [01:48,  1.28it/s]\u001b[A\n",
            "141it [01:48,  1.29it/s]\u001b[A\n",
            "142it [01:49,  1.28it/s]\u001b[A\n",
            "143it [01:50,  1.25it/s]\u001b[A\n",
            "144it [01:51,  1.32it/s]\u001b[A\n",
            "145it [01:51,  1.36it/s]\u001b[A\n",
            "146it [01:53,  1.02s/it]\u001b[A\n",
            "147it [01:54,  1.01s/it]\u001b[A\n",
            "148it [01:55,  1.09it/s]\u001b[A\n",
            "149it [01:55,  1.13it/s]\u001b[A\n",
            "150it [01:56,  1.19it/s]\u001b[A\n",
            "151it [01:57,  1.20it/s]\u001b[A\n",
            "152it [01:58,  1.24it/s]\u001b[A\n",
            "153it [01:59,  1.24it/s]\u001b[A\n",
            "154it [02:00,  1.10s/it]\u001b[A\n",
            "155it [02:01,  1.06it/s]\u001b[A\n",
            "156it [02:02,  1.13it/s]\u001b[A\n",
            "157it [02:03,  1.15it/s]\u001b[A\n",
            "158it [02:03,  1.15it/s]\u001b[A\n",
            "159it [02:04,  1.10it/s]\u001b[A\n",
            "160it [02:05,  1.19it/s]\u001b[A\n",
            "161it [02:06,  1.25it/s]\u001b[A\n",
            "162it [02:07,  1.27it/s]\u001b[A\n",
            "163it [02:07,  1.28it/s]\n"
          ],
          "name": "stderr"
        }
      ]
    },
    {
      "cell_type": "markdown",
      "metadata": {
        "id": "cUiMOXPBs6fj"
      },
      "source": [
        "As we can see, the loss rates convert but are still pretty high. This is something we will need to work on during the next weeks. "
      ]
    },
    {
      "cell_type": "markdown",
      "metadata": {
        "id": "J1c-jQ3yq-Ky"
      },
      "source": [
        "<a id='section06'></a>\n",
        "### Validating the Model\n",
        "\n",
        "During the validation stage we pass the unseen data(Testing Dataset) to the model. This step determines how good the model performs on the unseen data. \n",
        "\n",
        "** ANPASSEN **\n",
        "This unseen data is the 20% of `train.csv` which was seperated during the Dataset creation stage. \n",
        "During the validation stage the weights of the model are not updated. Only the final output is compared to the actual value. This comparison is then used to calcuate the accuracy of the model. \n",
        "** ANPASSEN **\n",
        "\n",
        "As defined above to get a measure of our models performance we are using the following metrics. \n",
        "- Hamming Score\n",
        "- Hamming Loss"
      ]
    },
    {
      "cell_type": "code",
      "metadata": {
        "id": "2UB8UlcerEqg"
      },
      "source": [
        "def validation(testing_loader):\n",
        "    model.eval()\n",
        "    fin_targets=[]\n",
        "    fin_outputs=[]\n",
        "    with torch.no_grad():\n",
        "        for _, data in tqdm(enumerate(testing_loader, 0)):\n",
        "            ids = data['ids'].to(device, dtype = torch.long)\n",
        "            mask = data['mask'].to(device, dtype = torch.long)\n",
        "            token_type_ids = data['token_type_ids'].to(device, dtype = torch.long)\n",
        "            targets = data['targets'].to(device, dtype = torch.float)\n",
        "            outputs = model(ids, mask, token_type_ids)\n",
        "            fin_targets.extend(targets.cpu().detach().numpy().tolist())\n",
        "            fin_outputs.extend(torch.sigmoid(outputs).cpu().detach().numpy().tolist())\n",
        "    return fin_outputs, fin_targets"
      ],
      "execution_count": 33,
      "outputs": []
    },
    {
      "cell_type": "code",
      "metadata": {
        "colab": {
          "base_uri": "https://localhost:8080/"
        },
        "id": "c48IvQmlrI-S",
        "outputId": "d3333d65-af27-4788-dcce-0c3b7c23e41e"
      },
      "source": [
        "outputs, targets = validation(testing_loader)\n",
        "\n",
        "final_outputs = np.array(outputs) >=0.5"
      ],
      "execution_count": 34,
      "outputs": [
        {
          "output_type": "stream",
          "text": [
            "\n",
            "0it [00:00, ?it/s]\u001b[A\n",
            "1it [00:00,  1.32it/s]\u001b[A\n",
            "2it [00:01,  1.33it/s]\u001b[A\n",
            "3it [00:02,  1.34it/s]\u001b[A\n",
            "4it [00:03,  1.02it/s]\u001b[A\n",
            "5it [00:04,  1.10it/s]\u001b[A\n",
            "6it [00:05,  1.17it/s]\u001b[A\n",
            "7it [00:06,  1.09it/s]\u001b[A\n",
            "8it [00:07,  1.15it/s]\u001b[A\n",
            "9it [00:07,  1.18it/s]\u001b[A\n",
            "10it [00:08,  1.36it/s]\u001b[A\n",
            "11it [00:09,  1.36it/s]\u001b[A\n",
            "12it [00:09,  1.35it/s]\u001b[A\n",
            "13it [00:10,  1.37it/s]\u001b[A\n",
            "14it [00:11,  1.39it/s]\u001b[A\n",
            "15it [00:11,  1.35it/s]\u001b[A\n",
            "16it [00:12,  1.36it/s]\u001b[A\n",
            "17it [00:13,  1.37it/s]\u001b[A\n",
            "18it [00:14,  1.33it/s]\u001b[A\n",
            "19it [00:14,  1.35it/s]\u001b[A\n",
            "20it [00:15,  1.51it/s]\u001b[A\n",
            "21it [00:16,  1.47it/s]\u001b[A\n",
            "22it [00:16,  1.44it/s]\u001b[A\n",
            "23it [00:17,  1.44it/s]\u001b[A\n",
            "24it [00:18,  1.47it/s]\u001b[A\n",
            "25it [00:19,  1.04it/s]\u001b[A\n",
            "26it [00:20,  1.15it/s]\u001b[A\n",
            "27it [00:22,  1.13s/it]\u001b[A\n",
            "28it [00:22,  1.01s/it]\u001b[A\n",
            "29it [00:23,  1.12it/s]\u001b[A\n",
            "30it [00:24,  1.25it/s]\u001b[A\n",
            "31it [00:24,  1.27it/s]\u001b[A\n",
            "32it [00:25,  1.38it/s]\u001b[A\n",
            "33it [00:26,  1.25it/s]\u001b[A\n",
            "34it [00:27,  1.28it/s]\u001b[A\n",
            "35it [00:27,  1.29it/s]\u001b[A\n",
            "36it [00:28,  1.32it/s]\u001b[A\n",
            "37it [00:29,  1.29it/s]\u001b[A\n",
            "38it [00:29,  1.44it/s]\u001b[A\n",
            "39it [00:30,  1.41it/s]\u001b[A\n",
            "40it [00:31,  1.39it/s]\u001b[A\n",
            "41it [00:31,  1.29it/s]\n"
          ],
          "name": "stderr"
        }
      ]
    },
    {
      "cell_type": "code",
      "metadata": {
        "colab": {
          "base_uri": "https://localhost:8080/"
        },
        "id": "MwyBV2zCrKrU",
        "outputId": "044014c9-efb0-4af8-f793-2bbd3a68e503"
      },
      "source": [
        "val_hamming_loss = metrics.hamming_loss(targets, final_outputs)\n",
        "val_hamming_score = hamming_score(np.array(targets), np.array(final_outputs))\n",
        "\n",
        "print(f\"Hamming Score = {val_hamming_score}\")\n",
        "print(f\"Hamming Loss = {val_hamming_loss}\")"
      ],
      "execution_count": 35,
      "outputs": [
        {
          "output_type": "stream",
          "text": [
            "Hamming Score = 0.08024691358024691\n",
            "Hamming Loss = 0.031715623669646656\n"
          ],
          "name": "stdout"
        }
      ]
    },
    {
      "cell_type": "markdown",
      "metadata": {
        "id": "4Pno_zqstPhm"
      },
      "source": [
        "Hamming Loss: 3 % incorrectly predicted labels."
      ]
    },
    {
      "cell_type": "markdown",
      "metadata": {
        "id": "SweDmI_xrN2g"
      },
      "source": [
        "<a id='section07'></a>\n",
        "### Saving the trained model for inference\n",
        "\n",
        "This is the final step in the process of fine tuning the model. \n",
        "\n",
        "The model and its vocabulary are saved locally. These files are then used to make inferences on new inputs of student research proposals."
      ]
    },
    {
      "cell_type": "markdown",
      "metadata": {
        "id": "CwnWF9HNrkQy"
      },
      "source": [
        "BA LINH: Ich weiß nicht wie man das Vocab speichert"
      ]
    },
    {
      "cell_type": "code",
      "metadata": {
        "colab": {
          "base_uri": "https://localhost:8080/"
        },
        "id": "zva4tkgErMve",
        "outputId": "1273b7cf-469c-45d7-d269-880abdf00d3c"
      },
      "source": [
        "# Saving the files for inference\n",
        "\n",
        "#output_model_file = 'pytorch_distilbert_papers.bin'\n",
        "#output_vocab_file = 'vocab_distilbert_papers.bin'\n",
        "\n",
        "path = F\"/content/drive/MyDrive/ThesisAllocationSystem/models/pytorch_distilbert_papers_3.bin\" \n",
        "torch.save(model.state_dict(), path)\n",
        "\n",
        "#path2 = F\"/content/drive/MyDrive/ThesisAllocationSystem/models/pytorch_distilbert_papers.bin\" \n",
        "#tokenizer.save_vocabulary(output_vocab_file.state_dict(), path)\n",
        "\n",
        "#torch.save(model, output_model_file)\n",
        "#tokenizer.save_vocabulary(output_vocab_file)\n",
        "\n",
        "print('Saved')"
      ],
      "execution_count": 36,
      "outputs": [
        {
          "output_type": "stream",
          "text": [
            "Saved\n"
          ],
          "name": "stdout"
        }
      ]
    }
  ]
}