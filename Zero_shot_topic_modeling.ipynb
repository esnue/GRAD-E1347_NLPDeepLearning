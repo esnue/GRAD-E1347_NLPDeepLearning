{
  "nbformat": 4,
  "nbformat_minor": 0,
  "metadata": {
    "accelerator": "GPU",
    "colab": {
      "name": "Zero-shot topic modeling",
      "provenance": [],
      "collapsed_sections": [
        "W8Je_kudwYqE"
      ],
      "include_colab_link": true
    },
    "kernelspec": {
      "display_name": "Python 3",
      "name": "python3"
    },
    "widgets": {
      "application/vnd.jupyter.widget-state+json": {
        "07cf40e9c11e475fa0699ece7ac341d1": {
          "model_module": "@jupyter-widgets/controls",
          "model_name": "HBoxModel",
          "state": {
            "_view_name": "HBoxView",
            "_dom_classes": [],
            "_model_name": "HBoxModel",
            "_view_module": "@jupyter-widgets/controls",
            "_model_module_version": "1.5.0",
            "_view_count": null,
            "_view_module_version": "1.5.0",
            "box_style": "",
            "layout": "IPY_MODEL_61e296e3d053493d8e0c8942c0895fe1",
            "_model_module": "@jupyter-widgets/controls",
            "children": [
              "IPY_MODEL_0de841b94aed4a009ab2f6cd5232a289",
              "IPY_MODEL_5959eadaa1994443bf5c888ba618640b",
              "IPY_MODEL_be076e47d6094f5eb7ec3db102ad79c3"
            ]
          }
        },
        "61e296e3d053493d8e0c8942c0895fe1": {
          "model_module": "@jupyter-widgets/base",
          "model_name": "LayoutModel",
          "state": {
            "_view_name": "LayoutView",
            "grid_template_rows": null,
            "right": null,
            "justify_content": null,
            "_view_module": "@jupyter-widgets/base",
            "overflow": null,
            "_model_module_version": "1.2.0",
            "_view_count": null,
            "flex_flow": null,
            "width": null,
            "min_width": null,
            "border": null,
            "align_items": null,
            "bottom": null,
            "_model_module": "@jupyter-widgets/base",
            "top": null,
            "grid_column": null,
            "overflow_y": null,
            "overflow_x": null,
            "grid_auto_flow": null,
            "grid_area": null,
            "grid_template_columns": null,
            "flex": null,
            "_model_name": "LayoutModel",
            "justify_items": null,
            "grid_row": null,
            "max_height": null,
            "align_content": null,
            "visibility": null,
            "align_self": null,
            "height": null,
            "min_height": null,
            "padding": null,
            "grid_auto_rows": null,
            "grid_gap": null,
            "max_width": null,
            "order": null,
            "_view_module_version": "1.2.0",
            "grid_template_areas": null,
            "object_position": null,
            "object_fit": null,
            "grid_auto_columns": null,
            "margin": null,
            "display": null,
            "left": null
          }
        },
        "0de841b94aed4a009ab2f6cd5232a289": {
          "model_module": "@jupyter-widgets/controls",
          "model_name": "HTMLModel",
          "state": {
            "_view_name": "HTMLView",
            "style": "IPY_MODEL_4b289d15dff54f43a7831d4aa434794f",
            "_dom_classes": [],
            "description": "",
            "_model_name": "HTMLModel",
            "placeholder": "​",
            "_view_module": "@jupyter-widgets/controls",
            "_model_module_version": "1.5.0",
            "value": "Batches: 100%",
            "_view_count": null,
            "_view_module_version": "1.5.0",
            "description_tooltip": null,
            "_model_module": "@jupyter-widgets/controls",
            "layout": "IPY_MODEL_2a98471f521246659e395ec528620d58"
          }
        },
        "5959eadaa1994443bf5c888ba618640b": {
          "model_module": "@jupyter-widgets/controls",
          "model_name": "FloatProgressModel",
          "state": {
            "_view_name": "ProgressView",
            "style": "IPY_MODEL_b61c2d49969345168d631ca30cf39752",
            "_dom_classes": [],
            "description": "",
            "_model_name": "FloatProgressModel",
            "bar_style": "success",
            "max": 5,
            "_view_module": "@jupyter-widgets/controls",
            "_model_module_version": "1.5.0",
            "value": 5,
            "_view_count": null,
            "_view_module_version": "1.5.0",
            "orientation": "horizontal",
            "min": 0,
            "description_tooltip": null,
            "_model_module": "@jupyter-widgets/controls",
            "layout": "IPY_MODEL_665273e380844973aa07e9a5841ac888"
          }
        },
        "be076e47d6094f5eb7ec3db102ad79c3": {
          "model_module": "@jupyter-widgets/controls",
          "model_name": "HTMLModel",
          "state": {
            "_view_name": "HTMLView",
            "style": "IPY_MODEL_a16aead81d094d008b1656b646e0a71f",
            "_dom_classes": [],
            "description": "",
            "_model_name": "HTMLModel",
            "placeholder": "​",
            "_view_module": "@jupyter-widgets/controls",
            "_model_module_version": "1.5.0",
            "value": " 5/5 [00:14&lt;00:00,  2.54s/it]",
            "_view_count": null,
            "_view_module_version": "1.5.0",
            "description_tooltip": null,
            "_model_module": "@jupyter-widgets/controls",
            "layout": "IPY_MODEL_79e457224c8849c4be8ab0678adce81c"
          }
        },
        "4b289d15dff54f43a7831d4aa434794f": {
          "model_module": "@jupyter-widgets/controls",
          "model_name": "DescriptionStyleModel",
          "state": {
            "_view_name": "StyleView",
            "_model_name": "DescriptionStyleModel",
            "description_width": "",
            "_view_module": "@jupyter-widgets/base",
            "_model_module_version": "1.5.0",
            "_view_count": null,
            "_view_module_version": "1.2.0",
            "_model_module": "@jupyter-widgets/controls"
          }
        },
        "2a98471f521246659e395ec528620d58": {
          "model_module": "@jupyter-widgets/base",
          "model_name": "LayoutModel",
          "state": {
            "_view_name": "LayoutView",
            "grid_template_rows": null,
            "right": null,
            "justify_content": null,
            "_view_module": "@jupyter-widgets/base",
            "overflow": null,
            "_model_module_version": "1.2.0",
            "_view_count": null,
            "flex_flow": null,
            "width": null,
            "min_width": null,
            "border": null,
            "align_items": null,
            "bottom": null,
            "_model_module": "@jupyter-widgets/base",
            "top": null,
            "grid_column": null,
            "overflow_y": null,
            "overflow_x": null,
            "grid_auto_flow": null,
            "grid_area": null,
            "grid_template_columns": null,
            "flex": null,
            "_model_name": "LayoutModel",
            "justify_items": null,
            "grid_row": null,
            "max_height": null,
            "align_content": null,
            "visibility": null,
            "align_self": null,
            "height": null,
            "min_height": null,
            "padding": null,
            "grid_auto_rows": null,
            "grid_gap": null,
            "max_width": null,
            "order": null,
            "_view_module_version": "1.2.0",
            "grid_template_areas": null,
            "object_position": null,
            "object_fit": null,
            "grid_auto_columns": null,
            "margin": null,
            "display": null,
            "left": null
          }
        },
        "b61c2d49969345168d631ca30cf39752": {
          "model_module": "@jupyter-widgets/controls",
          "model_name": "ProgressStyleModel",
          "state": {
            "_view_name": "StyleView",
            "_model_name": "ProgressStyleModel",
            "description_width": "",
            "_view_module": "@jupyter-widgets/base",
            "_model_module_version": "1.5.0",
            "_view_count": null,
            "_view_module_version": "1.2.0",
            "bar_color": null,
            "_model_module": "@jupyter-widgets/controls"
          }
        },
        "665273e380844973aa07e9a5841ac888": {
          "model_module": "@jupyter-widgets/base",
          "model_name": "LayoutModel",
          "state": {
            "_view_name": "LayoutView",
            "grid_template_rows": null,
            "right": null,
            "justify_content": null,
            "_view_module": "@jupyter-widgets/base",
            "overflow": null,
            "_model_module_version": "1.2.0",
            "_view_count": null,
            "flex_flow": null,
            "width": null,
            "min_width": null,
            "border": null,
            "align_items": null,
            "bottom": null,
            "_model_module": "@jupyter-widgets/base",
            "top": null,
            "grid_column": null,
            "overflow_y": null,
            "overflow_x": null,
            "grid_auto_flow": null,
            "grid_area": null,
            "grid_template_columns": null,
            "flex": null,
            "_model_name": "LayoutModel",
            "justify_items": null,
            "grid_row": null,
            "max_height": null,
            "align_content": null,
            "visibility": null,
            "align_self": null,
            "height": null,
            "min_height": null,
            "padding": null,
            "grid_auto_rows": null,
            "grid_gap": null,
            "max_width": null,
            "order": null,
            "_view_module_version": "1.2.0",
            "grid_template_areas": null,
            "object_position": null,
            "object_fit": null,
            "grid_auto_columns": null,
            "margin": null,
            "display": null,
            "left": null
          }
        },
        "a16aead81d094d008b1656b646e0a71f": {
          "model_module": "@jupyter-widgets/controls",
          "model_name": "DescriptionStyleModel",
          "state": {
            "_view_name": "StyleView",
            "_model_name": "DescriptionStyleModel",
            "description_width": "",
            "_view_module": "@jupyter-widgets/base",
            "_model_module_version": "1.5.0",
            "_view_count": null,
            "_view_module_version": "1.2.0",
            "_model_module": "@jupyter-widgets/controls"
          }
        },
        "79e457224c8849c4be8ab0678adce81c": {
          "model_module": "@jupyter-widgets/base",
          "model_name": "LayoutModel",
          "state": {
            "_view_name": "LayoutView",
            "grid_template_rows": null,
            "right": null,
            "justify_content": null,
            "_view_module": "@jupyter-widgets/base",
            "overflow": null,
            "_model_module_version": "1.2.0",
            "_view_count": null,
            "flex_flow": null,
            "width": null,
            "min_width": null,
            "border": null,
            "align_items": null,
            "bottom": null,
            "_model_module": "@jupyter-widgets/base",
            "top": null,
            "grid_column": null,
            "overflow_y": null,
            "overflow_x": null,
            "grid_auto_flow": null,
            "grid_area": null,
            "grid_template_columns": null,
            "flex": null,
            "_model_name": "LayoutModel",
            "justify_items": null,
            "grid_row": null,
            "max_height": null,
            "align_content": null,
            "visibility": null,
            "align_self": null,
            "height": null,
            "min_height": null,
            "padding": null,
            "grid_auto_rows": null,
            "grid_gap": null,
            "max_width": null,
            "order": null,
            "_view_module_version": "1.2.0",
            "grid_template_areas": null,
            "object_position": null,
            "object_fit": null,
            "grid_auto_columns": null,
            "margin": null,
            "display": null,
            "left": null
          }
        }
      }
    }
  },
  "cells": [
    {
      "cell_type": "markdown",
      "metadata": {
        "id": "view-in-github",
        "colab_type": "text"
      },
      "source": [
        "<a href=\"https://colab.research.google.com/github/esnue/ThesisAllocationSystem/blob/main/Zero_shot_topic_modeling.ipynb\" target=\"_parent\"><img src=\"https://colab.research.google.com/assets/colab-badge.svg\" alt=\"Open In Colab\"/></a>"
      ]
    },
    {
      "cell_type": "markdown",
      "metadata": {
        "id": "qmZ1uZecv7qW"
      },
      "source": [
        "## Zero-shot topic modeling with ZeroShotTM\n",
        "\n",
        "\n",
        "We are going to use our **Zero-Shot Topic Model** to get the topics out of the collection of academic papers we have for all Hertie School supervisor. \n",
        "\n",
        "## Topic Models \n",
        "\n",
        "Topic models allow you to discover latent topics in your documents in a completely unsupervised way. Just use your documents and get topics out.\n",
        "\n",
        "## Contextualized Topic Models\n",
        "\n",
        "What are Contextualized Topic Models? **CTMs** are a family of topic models that combine the expressive power of BERT embeddings with the unsupervised capabilities of topic models to get topics out of documents.\n"
      ]
    },
    {
      "cell_type": "markdown",
      "metadata": {
        "id": "ln23-soXeQk3"
      },
      "source": [
        "# Enabling the GPU\n",
        "\n",
        "First, you'll need to enable GPUs for the notebook:\n",
        "\n",
        "- Navigate to Edit→Notebook Settings\n",
        "- select GPU from the Hardware Accelerator drop-down\n",
        "\n",
        "[Reference](https://colab.research.google.com/notebooks/gpu.ipynb)"
      ]
    },
    {
      "cell_type": "markdown",
      "metadata": {
        "id": "QsNRo8I8Yem2"
      },
      "source": [
        "# Installing Contextualized Topic Models\n",
        "\n",
        "First, we install the contextualized topic model library"
      ]
    },
    {
      "cell_type": "code",
      "metadata": {
        "id": "BUw5EQi8v9r1"
      },
      "source": [
        "%%capture\n",
        "!pip install contextualized-topic-models\n",
        "!pip install torch==1.6.0+cu101 torchvision==0.7.0+cu101 -f https://download.pytorch.org/whl/torch_stable.html\n",
        "!pip install -U tqdm"
      ],
      "execution_count": 1,
      "outputs": []
    },
    {
      "cell_type": "markdown",
      "metadata": {
        "id": "9AzfVSJfZE2f"
      },
      "source": [
        "## Restart the Notebook\n",
        "\n",
        "For the changes to take effect, we now need to restart the notebook.\n",
        "\n",
        "From the Menu:\n",
        "\n",
        "Runtime → Restart Runtime"
      ]
    },
    {
      "cell_type": "markdown",
      "metadata": {
        "id": "sgxRbgSZ9MsB"
      },
      "source": [
        "# Data\n",
        "\n",
        "We are going to need some data. You should upload a file with one document per line. We assume you haven't run any preprocessing script.\n",
        "\n",
        "However, if you want to first test the model without uploading your data, you can simply use the test file I'm putting here"
      ]
    },
    {
      "cell_type": "code",
      "metadata": {
        "id": "QMu2722V4Reu",
        "colab": {
          "base_uri": "https://localhost:8080/"
        },
        "outputId": "e88854c3-9bb7-4e4f-c0a7-dd41e093eee1"
      },
      "source": [
        "from google.colab import drive\n",
        "drive.mount('/content/drive')"
      ],
      "execution_count": 2,
      "outputs": [
        {
          "output_type": "stream",
          "text": [
            "Mounted at /content/drive\n"
          ],
          "name": "stdout"
        }
      ]
    },
    {
      "cell_type": "code",
      "metadata": {
        "id": "cd8PEe8rjysB",
        "colab": {
          "base_uri": "https://localhost:8080/"
        },
        "outputId": "44d2b402-7754-4736-c4d5-2444c4d4f198"
      },
      "source": [
        "import pandas as pd\n",
        "\n",
        "file = pd.read_csv(\"/content/drive/MyDrive/ThesisAllocationSystem/data_final/train-papers-final.csv\")\n",
        "#transform content column row values into a list\n",
        "text_file = file['Content'][1:].values.tolist()\n",
        "\n",
        "#print(text_file)\n",
        "print(type(text_file))"
      ],
      "execution_count": 32,
      "outputs": [
        {
          "output_type": "stream",
          "text": [
            "<class 'list'>\n"
          ],
          "name": "stdout"
        }
      ]
    },
    {
      "cell_type": "markdown",
      "metadata": {
        "id": "M0c_ftxjxY_H"
      },
      "source": [
        "# Importing what we need"
      ]
    },
    {
      "cell_type": "code",
      "metadata": {
        "id": "SZmTpQUov8y8"
      },
      "source": [
        "from contextualized_topic_models.models.ctm import ZeroShotTM\n",
        "from contextualized_topic_models.utils.data_preparation import TopicModelDataPreparation\n",
        "from contextualized_topic_models.utils.preprocessing import WhiteSpacePreprocessing\n",
        "import nltk"
      ],
      "execution_count": 33,
      "outputs": []
    },
    {
      "cell_type": "markdown",
      "metadata": {
        "id": "CQkeIrdWLU2m"
      },
      "source": [
        "## Preprocessing"
      ]
    },
    {
      "cell_type": "markdown",
      "metadata": {
        "id": "V-AM070Ez6lW"
      },
      "source": [
        "Why do we use the **preprocessed text** here? We need text without punctuation to build the bag of word. Also, we might want only to have the most frequent words inside the BoW. Too many words might not help."
      ]
    },
    {
      "cell_type": "code",
      "metadata": {
        "id": "HoKrSIkxaNBt",
        "colab": {
          "base_uri": "https://localhost:8080/"
        },
        "outputId": "cf3a1e56-03cb-433e-dea1-12b10b9de3c8"
      },
      "source": [
        "nltk.download('stopwords')\n",
        "\n",
        "documents = text_file\n",
        "#documents = [line.strip() for line in open(text_file, encoding=\"utf-8\").readlines()]\n",
        "sp = WhiteSpacePreprocessing(documents, stopwords_language='english')\n",
        "preprocessed_documents, unpreprocessed_corpus, vocab = sp.preprocess()"
      ],
      "execution_count": 34,
      "outputs": [
        {
          "output_type": "stream",
          "text": [
            "[nltk_data] Downloading package stopwords to /root/nltk_data...\n",
            "[nltk_data]   Package stopwords is already up-to-date!\n"
          ],
          "name": "stdout"
        }
      ]
    },
    {
      "cell_type": "code",
      "metadata": {
        "colab": {
          "base_uri": "https://localhost:8080/"
        },
        "id": "IDxo_ERVonRE",
        "outputId": "0c1e4314-6521-4881-8201-cd501683321b"
      },
      "source": [
        "preprocessed_documents[:10]"
      ],
      "execution_count": 36,
      "outputs": [
        {
          "output_type": "execute_result",
          "data": {
            "text/plain": [
              "['nsee discussions author publication https www researchgate net publication incentive preferences issues strategies local government first evidence narticle authors including nsome authors publication also working related projects open innovative governments view project public sector future view project publications nsee profile school governance publications nsee profile nall content following page september nthe user downloaded nhttps www researchgate net publication motivation incentive preferences issues strategies local government first evidence austria enrichid rgreq xxx enrichsource el esc publicationcoverpdf nhttps www researchgate net publication motivation incentive preferences issues strategies local government first evidence austria enrichid rgreq xxx enrichsource el esc publicationcoverpdf nhttps www researchgate net project open innovative governments enrichid rgreq xxx enrichsource el esc publicationcoverpdf nhttps www researchgate net project public sector future enrichid rgreq xxx enrichsource el esc publicationcoverpdf nhttps www researchgate net enrichid rgreq xxx enrichsource el esc publicationcoverpdf nhttps www researchgate net profile enrichid rgreq xxx enrichsource el esc publicationcoverpdf nhttps www researchgate net profile enrichid rgreq xxx enrichsource el esc publicationcoverpdf nhttps www researchgate net institution enrichid rgreq xxx enrichsource el esc publicationcoverpdf nhttps www researchgate net profile enrichid rgreq xxx enrichsource el esc publicationcoverpdf nhttps www researchgate net profile enrichid rgreq xxx enrichsource el esc publicationcoverpdf nhttps www researchgate net profile enrichid rgreq xxx enrichsource el esc publicationcoverpdf nhttps www researchgate net institution hertie school governance enrichid rgreq xxx enrichsource el esc publicationcoverpdf nhttps www researchgate net profile enrichid rgreq xxx enrichsource el esc publicationcoverpdf nhttps www researchgate net profile enrichid rgreq xxx enrichsource el esc publicationcoverpdf incentive preferences issues strategies local government nfirst evidence austria nabstract many countries contexts questions public service motivation topic empirical studies lack research german ncountries specific observed although exists nresearch civil service motivation specific recent time research little paid effects recent efforts initiatives implement management instruments perceptions values job public sector employees nin paper research concept public motivation public administration german context thereby focus government level german countries often argued npm reforms present first results na current public management research project based broad survey city quite different policy fields sample several features characteristics strong logic last years also became reform initiatives along ideas new public management nour research focus question specific dimensions characteristics public service value preferences observed differ according various factors size unit policy field type activity personal factors age duration nof employment private sector experience education gender nin analysis also link concept public service motivation independent variable issues public management reform survey includes questions job incentive preferences various types well assessment public management reforms various types nmanagement instruments interested far specific public sector motivation specific incentives respondents assessment various measures nmanagement instruments proposed paper forms part research project public service motivation characteristics public administration opportunities incentives public der page introduction research public sector motivation identity last decade context concept public service motivation developed us defined respond motives primarily public ninstitutions organizations authors followed used instance describe force nthat individuals perform public service general motivation serve interests community state nation addition although model specifically towards united states us american model model nthat also found european region different researchers analyze public service behavior without especially european authors use like public service conceptual discussions increasing last years nand applied empirical studies different countries several studies used dependent nand independent variable relationship public service motivation nand job organizational commitment performance organizational members high levels appear contribute various ways engage public interest higher levels organizational believe jobs important turn leads working likely high job less likely leave jobs overall nresearch far central issue strategies identity motivation important cultural dimension cannot one socio historical context next together empirical application within research questions national differences npublic sector motivation relevance page nof outside us recent research holds differences npublic service motivation different countries phenomenon needs nresearch cross cultural context nin order problem regional differences authors nwhich cover sense also types value behavioral instance values go beyond self interest organizational interest concern interest na larger political individuals act appropriate na definition according work values general values seen work values recent equally based initial definition nin research design draw original nthey argue motivation act specific way must rational costs benefits rather rational normative motives individuals highly public service work based three categories nin various studies support also found cross sector found nthat public private managers significant differences perceptions different types contrast private managers public managers public service work others important higher pay less important similar conclusions preferences government hybrid business sector managers understood series studies developed measure distinct dimensions public policy making commitment public interest self dimensions distinction three categories motives mentioned public npolicy making category rational motives involves actions utility participation public policy making ones self importance commitment public interest nthe category norm based motives self category motives help others one personal understood page neither normative type state nthe four different dimensions measured multiple scale however measure developed used studies fact across ndifferent empirical studies another opinion needs attention different dimensions kind overall suggested dimension distinct potentially unique form follow study supported different dimensions many recent studies using questions use overall score dimension rather studying effects dimensions especially socio contexts four dimensions nthis overall score many countries contexts questions public service motivation nhave increasingly topic empirical studies observe lack research ngerman countries specific although nhas research civil service motivation specific recent years field nbeen followed little attention paid effects recent efforts initiatives nto implement management concepts instruments perceptions values job public sector employees paper research concept public sector motivation public administration na german research context focus local government level ngerman countries often argued npm reforms present first results current npublic management research project based broad survey city quite different policy fields sample public employees features characteristics administration strong logic last years administrative reform initiatives along ideas npm also reputation one regions europe providing proposed paper part research project public service motivation characteristics public administration opportunities incentives public nmanagement der page nhigh quality life quality life survey based survey nof international city highest quality life within nthe european union nour research focus question specific dimensions characteristics npublic service motivation value preferences observed specific context nhow differ according various factors size unit policy field type personal factors age duration employment private sector experience neducation gender analysis also link concept public service motivation nto various issues public management reform survey includes questions job incentive preferences various types nof incentives well assessment public management reforms various types nmanagement instruments interested far specific public sector motivation preferences specific incentives respondents assessment measures management instruments particular interest different dimensions show similar significantly different relationships nwith factors need separate nan overall research strategy nas data collection recently present nresults early stage research paper therefore statistics nto descriptive results first complex regression analyses influence several independent variables dimensions next step features public administration austria nas organizational practices socially rule sets dependent institutional managerial work attention need country specific data similarly public management literature factors characteristics legal culture understanding public sector change nour study focus austria country described home administration specifically city first time nthat concept applied german public administration believe nis necessary discuss concept specific context page germany institutional logic public characterized approach still theory law first constitution rational form authority idea rules established stable political applied equal independent central flexibility strongly constitutional principles nas principle principle regulations consequence public administration strong emphasis rules together relatively high amount internal orientation described legal performance results although nthese features common austria nthe home administration system hierarchical administration civil shows law nand objective civil great sense expertise stability special professional state nin austria elements professional identity different forms expertise bodies knowledge health education infrastructure social especially legal central role public executives background legal studies strong legal focus nof training system public employment system detailed regulations relatively private sector employment little mobility within systems austria germany administrative observe specific professional civil specific relation state nand public tasks resulting germany see includes core elements civil identity around ideas towards nand citizen action political changes great sense administrative expertise office public interest societal interests features life ntime status protection including based page nthese general features public sector logic identity equally run levels thus also city administration capital republic austria million city far governance system specific features takes unique position austria city federal state federal constitution art federal state legislation city council state executive body wider power compared due role state also due historical reasons function capital city state characterized large size broad variety functions na high complexity governance system city trend source austria employees enterprises na specific feature considerable impact administration political one party social democratic party period often city na far way era first city population people social democratic government political culture policy means national education social policy main local social democratic administration various elements local welfare system type top nof government seen achieved important working class nbased city still ii held years coalition party end majority council nas already long term one political party leads na complex local government political private actors sense described form social democratic urban ngovernance et al responsible broad tasks areas education social affairs environmental protection employment state addition city administration responsible broad city administration functions related urban development culture management public management page city administration currently regional latter responsible nthe along system federal administration units developed quite distinct corporate identities often strong professional status within specific policy field decades hierarchical governance nsystem recently liberal models line npolitical eu countries et al late city administration became management initiatives along ideas npm similar federal administration nwith international trends order promote entrepreneurial city large addition according administrative led city self understanding refers large company focus citizens efficiency criteria nintroduction new management instruments contract management planning nthe concept relationship features developments would point direction high npublic interest political required public servants would make relatively motivation policy making hand new entrepreneurial clear opposition traditional self relation public servants nresearch interested extent features system social democratic influence legal hierarchical culture influence various dimensions well public sector general addition interested whether observe new logic starting values federal tasks according constitution art either federal authorities purpose authorities state level called federal administration case page data method study based mail employees city well one autonomous unit mit administrative job types addition also paper form selection nbased several criteria different policy fields cultural social internal external services core autonomous units included open questions general towards npublic services including questions job incentives management public administration asked personal background ninformation pre lower level executives prior survey employees mentioned city received executive study employees complete office hours data database form added database nwith respondents response rate mentioned sample area persons functions included leads overall sample although study public sector broad findings representative study whole city nnumber respondents also different questions questions nthe sample female male respondents years generally relatively force public sector regarding family status majority nin children concerning background majority public executives sample low middle level education degree whereas university degree respondents working capacity member npolitical party regard employment working npublic sector years relatively new five employment refer employment private sector',\n",
              " 'governance infrastructure npublished oxford university press oxford challenges infrastructure complexity search better ngovernance nthis chapter key challenges infrastructure governance particular complexity field multiple come chapter volume contributions context discussion nabout infrastructure works improve nthe wider literature governance need relevance perspective takes decades governance research particular limits simple solutions complex problems implications diverse actor field infrastructure governance theoretical perspectives infrastructure governance political choice nthis chapter political decision making infrastructure investments light trends towards independent expert bodies process chapter complexity infrastructure governance leads patterns decision making nby mechanisms perception concept political also shows current debates independent expert bodies often seek political logic one instead ways increase political processes institutional design debates effects formal institutional changes role political dynamics overall institutional design debate infrastructure governance consider institutional reforms attempts policy process tools rational analysis accountability challenges governance infrastructure conditions policy makers likely additional social accountability order increase legitimacy thereby risk public may significant even chapter suggests ntime main concern policy makers establish accountability mechanisms order transparency increase information available public main concerns impacts infrastructure social mechanisms tend focus negotiations least providing information concerned however cases effort technical arguments debates social risks nto new uncertainty policy making process required infrastructure principle hand anheier describe development programmes time nthe principle hand systematic seeking projects processes actually lead certain outcomes nthis chapter recent principle related concepts economics multiple two critical dimensions infrastructure overall four proposed hand hand hand hand associated leading potential benefits well leading potentially consequences hand offered argument support planning beyond approaches ii infrastructure risk management technological economic political nthat appear unique region even country high political private nhas decision makers past take decisions without risk risk nmanagement activity life rather process project management chapter life cycle points effective risk management scientific point important apply methods developed theory statistics also focus information processes developing appropriate critical tasks risk change management require information technical economic financial impacts risk actions public private framework private sector involvement public projects nthe discussion around public versus private key infrastructure projects nby several years across never cycle current setting seems call degree private actors public infrastructure projects chapter reasons nature involvement usually npublic private arrangements basis available research international argued short terms actual outcomes although times causes results motives taking nmany features arrangements make particularly nthe public governments capacity effective complex contracts scale risk cost electricity infrastructure governance npolicy implications nthis chapter focuses topic growing importance infrastructure governance cost nwhen project budget chapter presents results linear analysis costs involved electricity infrastructure projects nbetween countries included sample power plants utility scale wind projects required investment nmore capacity chapter shows larger projects power plants highly cost wind finding implies smaller flexible systems factors make less nthe risk public procurement npublic procurement accounts significant countries gdp offers large potential times improve effectiveness infrastructure investments many ncountries taken various steps public procurement processes however due available options governments increasingly challenge objectives ones largest potential benefits chapter well countries managed introduce innovative strategies tools ntheir public procurement processes using response theory countries policy implementation set indicators five key areas efficiency public infrastructure procurement analysis countries vary capacities procurement processes governments perform well across five areas iii regional challenges infrastructure corruption risks infrastructure provision across europe involves public funds highly complex projects nto central eastern european countries engage public infrastructure higher corruption risk western european countries public goals least three direct ways spending structure project design prices low quality provision even non analyses first two assess problem findings indicate infrastructure spending towards high value investment projects prices nby per cent average largest high corruption risk regions based nthese findings chapter infrastructure using open nstate art analytical tools spending closely linked user demand implementation regime applied large european union projects risks large infrastructure projects germany nthis chapter analyses learning effects planning large infrastructure projects germany insights analysis database large scale infrastructure projects also known nas across sectors time four case studies wind nalthough previous studies found learning takes place chapter finds variation effects across sectors building sectors learning previous experience takes place power plants wind positive learning nin analysis wind shows sectors nwhere project technology competitive private industry certain risk factors become cost time governance infrastructure nthis chapter political institutional factors explaining performance infrastructure investment programmes rather simply infrastructure economic growth productivity chapter focuses npolitical reasons choices led time analysis political institutional dynamics identify interest groups affected nby infrastructure policy political actors involved making choices focusing non preferences relative powers actors well interaction terms management determined political determinants policy choices outcomes trade policy areas crucial given general nature choices strategic environmental assessment public participation infrastructure wind energy nthe use strategic environmental assessment way assess impacts earlier less well understood assessment practice implications future public participation chapter presents case wind energy first us nto implement wind energy using environmental impact assessment nthe findings detailed chapter indicate agreement local created opportunity support wind development limited future opportunities case questions role strategic environmental assessment renewable energy development right local communities',\n",
              " 'working paper public sector future www eu npublic sector future project background paper working paper van de march project background paper working paper nabout nthe project public sector future assess impact new public management reforms nin european countries team european public administration scholars countries impact reforms public management npublic services address citizens service needs social europe nthe extent consequences resulting need nfor coordination key part impacts european framework programme small medium scale focused research nabout authors van de professor public administration nuniversity professor public financial management school governance berlin nthe research leading results received funding european framework programme agreement project economic sciences project background paper working paper public sector future project background paper nabstract nthis first working paper background project concept new public management npm set managerial public sector set new ideas role government presents overview state art impact npm number major current studies impact npm reforms nthese include limited coverage european countries overall lack cross national nresearch limited empirical base many npm focus elements npm reforms specific policy sectors rather public sector general furthermore identify two effects npm reforms nthat impact public sector ability build social one public sector effects innovative practices provide answer two challenges nwe end working paper first empirical evidence emerging governance public services beyond npm including outcome based whole government models reflect implications financial developments nkeywords nnew public management europe evaluation coordination project background paper working paper public sector future project background paper impact new public management beyond know impact new public management reforms public sector specific npolicy new public management well defined set reforms instead set similar reform ideas practices cannot easily reduced evaluation relative impact studies result overview effects new public management european comparative perspective however studies exist na major contribution project bring together highest quality work develop integrated perspective use policy makers europe innovative practices beyond new public management widely nhave within specific national contexts using specific common attempt address public sectors need ever complex world citizens diverse nsocial thus becomes key challenge nin background paper argue number major current studies nthe impact new public management reforms include limited coverage european ncountries overall lack cross national research limited empirical base many new public management focus specific elements reforms specific policy sectors rather public sector reforms general identify two effects npm reforms impact nthe public sector ability build social one public sector effects reforms practices provide answer two challenges nthis background paper first concept new public management attempts nto define cross national variety npm set public sector npm set new ideas role ngovernment introduce two major effects npm reforms nand present current empirical evidence impact npm public sector project background paper working paper policy specific attention studies effect npm npublic sector social end background paper section first empirical evidence emerging models governance npublic services beyond npm including outcome based approaches whole government reflect implications financial crisis developments impact defined concept impact npm aspects efficiency effectiveness accountability nsocial etc npm well defined set nof ideas number changes public sector management nthat started develop many associated reforms implemented point time nnew public management hybrid used term collection trends also used describe changes public sectors market based npublic administration post bureaucratic organisation entrepreneurial ngovernment etc means order impact analyses number key trends like et al concept npm empirical nthere considerable discussion nature npm npm model authors npm much wider range business like managerial type reform efficiency last decades century npm management theories business liberal economy nbetween four widely different models npm model model na model model based different assumptions nand principles nall makes npm term fully established concept makes impact difficult defined nature npm nhas times described et al management ideas considerable npm npm project background paper working paper nis words consistent integrated theory public sector nbut better characterized wave reforms reform ideas reform initiatives various et al impact npm crucial distinguish nbetween studying example nand us little actual implementation addition reform without action public sectors often introduced specific npm without also npm public choice na first set changes npm managerial innovation nnew ways role nature government public administration public choice theory series less reforms public sectors rise would later known new public nmanagement new public management attempt implement management ideas business private sector nthe public services identified productivity orientation policy accountability results key global public management et nal developed four npm models efficiency search public service orientation et nal review literature many different npm common core article public management widely nthe key source new public management npm entrepreneurial management explicit standards measures performance output controls competition provision public services stress private sector management resource allocation nother characteristics political decision making direct management nand community governance often added list et al project background paper working paper nsuch wide set characteristics several ways study impact npm fundamental others though changed public sector changes seen marginal implementation attempts ideas na key new public management away public sector many cases actually solutions competition nbetween new units controls units operate markets processes lead greater public nthese reforms dominant large nto better able better staff policy implementation efficiency though scale public choice argued could work lead ninformation self behaviour organisations new led nof tasks regulation policy advice ownership functions control etc together separate units nthis practice public sector autonomous agencies business units nand competing public market non profit bodies turn also come pressure early line service nover country organizations also npm reforms always sustainable project project evaluate impact new public nmanagement npm reforms european public sectors analysis studies survey public sector officials three sectors neuropean countries work na second set changes npm ideas role government nnew public management set managerial service nalso based set ideas nature role state society project background paper working paper nits public choice school ideas also later npm largely nbased new right agenda small state ideas visible npm reforms npm focus individual rights rather collective rights individual interest key principle strong markets core also real perceived services public sector job security npm reforms indeed public sector unions ncountries critical reforms others van de start reforms search public performance seen na welfare state reforms services general interest nand former state potential negative effects social time correlation npm emphasis nand political nthe emergence npm shift values public sector new values traditional values etc central shift public sector organisations ndifferent private sector organisations claim therefore seen introduction new nmanagement methods also new role state public research focused changes public servants shifts citizens changes nin administrative law good governance principles changes role ngovernment providing services etc also received attention et al com et al nwhile private sector ideas public sector reform nhave recently seen emergence new models role public public value many public sectors ever npm ideas even countries sectors ndifferent uk new whether core assumptions non npm based actually started since project background paper working paper growing many npm ideas new ninstitutional economics may actually based assumptions including idea nthat cannot work state big public sector economic development etc project project effects years reforms government attitudes towards values npm work npm reform cross national european study impacts necessary become global reform movement least existence nan active npm increasing policy transfer activity role international norganizations public management committee common oecd countries considered core npm countries list uk us new also extent sweden according npm comprehensive movement three countries uk new nin npm studies countries others includes especially new widely one early examples npm et al public management researchers know details new reforms would able even key germany wide reforms sector italy france public management reforms time long strategic planning resulting de public sector countries tend policy others uk closely us new much less npublic management reform france often leads nthat fact nbecause clear certain sets ideas rise particular countries nhave npm beyond project background paper working paper developing countries new democracies nthe npm west state building efforts central eastern early thus adoption similar ideas nthe npm well post communist countries like big state one sector economies large scale however several studies npm particularly nand even new democracies despite npm beyond western world et al argue npm introduced single nmodel instead seen various elements aspects npm nhave introduced countries focus focusing private others output controls etc means studying npm done taking wider context often npm presented service single country context nthere many npm reforms across et al et al due nature npm implemented european countries van et al definition implementation npm depending non different national cultural institutional settings may also administrative law countries nbetween four major reform models western countries maintain different countries tend follow different models two broad types reform first broad reforms largely economic second american reform process na rather content nthis npm implementation four main types public sector reforms focus non elements reform change comprehensive major commitment range measures project background paper working paper based similar sets ideas npm national public sector reforms differ variety reforms even greater variety systems administrative europe led considerable npm implementation across europe despite quite similar npm literature single model npm administrative reforms countries considerable discussion whether convergence taking place national public sector reform broad trends much national variation nand convergence generally assumed see clear differences core npm group new uk sometimes us second group european continue give state central role reason processes convergence public sector received considerable attention understanding national variation essential european administrative space differ widely especially europe means ncountries government administrative law different role nand et al therefore come elements reforms failed nin countries et al et al national regional variation means impact npm look single country one particular ngroup countries furthermore exists considerable methods approaches used making cross national difficult project impact new public management requires national within europe npm values better nsome administrative others research includes partners major administrative europe project also development cross national number neuropean countries project background paper working paper effects npm reforms coordination public sector none key npm movement large public bodies series single purpose bodies public tasks private profit sector distribution functions would result lines control boundaries competition new performance using specific detailed sets indicators targets van et al related increase accountability control systems focusing objectives public services public managers work creating focus coordination became institutional development ndevelopment strategic expertise institutional memory early identified effect reforms coordination seen key problem making npm nwork structural public sector seen lead coordination even report reform public sector reforms new public became seen major effect npm reforms identified focus short term production annual actions rather ndevelopment long term strategic planning nnew systems control evaluation incentives collaboration nwith services despite big idea collaboration public may lead traditional department based new types nthe reforms led previously public sector related strategic capacity centre government rather effective entrepreneurial public sectors npm states states government become one key challenges future npublic sector furthermore reforms seen political control project background paper working paper nthe political administrative functions wide overall political control became difficult problem low capacity control agencies agents policy functions extensive short term employment contracts nthe strategies perspectives et al relatively overall assessment total impact npm reforms public sector analysis effect npm ninstitutional institutional performance british local authorities nthat one key assumptions npm leads better performance nthat large organisations poor hold indeed subsequent nresearch suggested large organizational units likely benefit administrative study npolicy found effects npm reforms policy nas result real perceived recent trends seen towards overall capacity government new agenda et al new focusing npolicy public sector emerged governments nto certain degree control tasks new regulation agenda nthe towards towards development whole ngovernment approaches good trend nabout administrative ideas back move towards smaller organisations large move towards organisations networks back structures uk good example public sector npublic sector better able design implement policies way order nto achieve broad social outcomes social project background paper working paper project project assess extent new public nmanagement reforms led managerial npublic sector work reforms effect social reforms widely associated liberal ntheir effect public service un equal treatment citizens decline local communities npm ideas nfor public sector context especially sometimes seen shared public values',\n",
              " 'administrative management reforms comparison agency executive accountability four countries terms conditions access use found nhttps www tandfonline com action npublic management review online journal https www tandfonline com management comparison agency executive four ncountries van nto article van administrative management reforms comparison agency executive four countries public management review doi nto link article https doi org npublished online article journal narticle views related articles crossmark data articles view articles nhttps www tandfonline com action nhttps www tandfonline com nhttps www tandfonline com action doi nhttps doi org nhttps www tandfonline com action show nhttps www tandfonline com action show nhttps www tandfonline com doi nhttps www tandfonline com doi nhttp crossmark crossref org doi domain pdf date nhttp crossmark crossref org doi domain pdf date nhttps www tandfonline com doi nhttps www tandfonline com doi management reforms na comparison agency executive accountability countries van political science university public institute management research university school governance berlin germany competence public nmanagement university switzerland nabstract nthis article perceived accountability patterns national agencies four countries theoretical potential managerial reforms administrative using survey data countries old new forms requirements legal financial accountability results accountability switzerland netherlands score highest non results accountability though combination legal financial account dominant germany austria nation specific characteristics important core values public administration model nkeywords administrative accountability public sector organisations management reform public administration nintroduction five years nnew public management npm public particular claim early npm ncountries towards single model shown empirical national institutions reforms like et al however differences convergence serve useful legitimacy administrative reforms na key explanation administrative reforms shared nations administrative ideas nature government define types reforms department political science university np box uk limited trading group npublic management review nhttp dx doi org nhttp org nhttp www tandfonline com nhttp crossmark crossref org doi domain pdf nare considered appropriate institutions government define rules nof game reform activities consequence ideas assumed cultural likely dominant ideas values local context nthis article aims study interaction administrative reform four countries austria germany netherlands switzerland often considered towards managerial reforms argue systems reform reforms usually require changes moreover civil servants administrative law nmay find difficult shift managerial performance oriented perspective nthis article theoretical expectations underlying values npm reforms ntion cf nthe empirical focus relevance distinct administrative values relations nof accountability et al accountability executives autonomous agencies ntheir hierarchical ministries national level also nwe interested content accountability perceived account central research questions patterns agency executives observed national level nthe four countries extent patterns similar variation national administrative reforms finally patterns perceived accountability vary according organizational national context nthe next section effects nand accountability arrangements agencies ministries number expected lack ncountries agencies put test using survey data four countries results draw conclusions findings nthe administrative values nmanagement reforms nit almost become conditions public management reforms nin european countries differ american parts world differences notion administrative common law idea rules applied objective equal independent nand politically central european key feature consistent nof law system administrative courts consequence public et al nmanagement countries understood application administrative decisions always potentially subject judicial review nthis article administrative administrative reforms nthe analytical administrative values main argument administrative reforms particular administrative values distinct nmodel good administration values trade administrative expectations good administration actor policy makers latter use public officials account however reforms may challenge dominant values get back reforms developing hypotheses nalthough various starting conditions many developed countries least npm context several authors argued npm traditional public administration result values underlying models widely article nature npm reform nmodel based distinct set administrative values conflict nwith values associated traditional administration main emphasis resources tasks given goals standard good administration control output nthe bureaucracy necessary assess efficiency another set values nare administrative conduct values put nthe terms emphasis job nis done rather output control third standard administrative success nthe bureaucracy conditions standard success service nand provision security survival associated input processes argues cannot time moreover points npm assume neu given values leads empirical question whether reforms long run similar trade government rule driven government efficiency flexibility rules called output orientation likely result innovative flexible government government less nmore open corruption difficult balancing administrative values nature principles organizational design time space argues bureaucratic organizations democratic npublic management review members consequences npm reforms democratic governance nand managerial reforms existence npublic service institution nthis article question competing administrative values rule administration test wide assumption managerial reforms focus performance measuring strong emphasis nand formal rules procedures four european countries part complex npm reforms et al reforms based nthat government executive regulatory single purpose agencies business like instruments would performance exchange autonomy agencies would however also nhave report performance section short overview four countries study looking back long public agencies authorities outside ministerial reforms become popular involved creation independent fully ngovernment organizations law based public private law became increasingly popular budget civil service laws also allowed public sector nthe within federal government accountability issues government new type agency status selected govern nment units flexible use financial resources basis performance agreements contrast agencies remain within federal legal framework germany long public law based outside ministerial large number federal agencies post war period whereas since reforms involved existing organizations well formal limited nnumber public law agencies changing legal status independent organizations reforms later germany western european ncountries implementation remained rather limited least federal nlevel administrative reforms focus related strong principle according nto ministries much autonomy agencies nthey held swiss pattern administrative reforms change reforms occur since public law bodies budgetary autonomy performance et al introduced autonomous organizations addition independent units public private law created including organizations swiss swiss post though increased politics main developments government fully managerial model possibility directly however existence modern agencies created ngovernment recently comprehensive reform governing nments agencies nthe netherlands long creation agencies van however influence npm nthe number agencies particular independent similar austria led political debate reports poor legal accountability arrangements government creating new type autonomous agency nwould remain closer government limited autonomy full ministerial account debate agencies focuses ministerial accountability limited however boundaries nof limited accountability ministries control agencies van form contract sum large variety arrangements despite law van agency reforms four countries theoretical expectations regarding impact agency reforms agency executives countries reforms administrative values accountability important concept npm although different different reasons one hand accountability none main forces implement administrative reforms npm new forms accountability introduced especially autonomous agencies van van et al new types accountability include towards stakeholders users et al horizontal etc hierarchical agencies new types seem relevance dimension towards ministries solution nnew accountability concerns traditional accountability ministries accountability relations npm reforms focus individual managerial accountability rather political accountability focus processes com rules input output results traditional accountability accountability processes nbeen increased efficiency competition cost npublic management review elements managerial accountability individual different politicians strategic agencies practice create politicians civil servants find difficult intervention even managerial matters result may choose existing accountability new elements would effect reduce autonomy agencies even previous requirements nthe characterized emphasis input rather output control different address different sets values input control associated democratic accountability control line nto follow rules procedures managerial values stress output control nand performance efficiency countries adopt logic npm accountability become focused mostly results performance agencies provide information ex post rather ex et al put gives preference results compliance input controls pre processes governments model quite change traditional focus nof decisions expenditures analyses include three indicator control linked input indicator control linked organizations tasks results indicator performance control nto shared administrative countries therefore comparative analysis national patterns agency accountability take account country specific nalso different public sector organizations might different types values patterns accountability might among similar rather within national contexts analytical following nnational patterns approach four countries represent nmodel germany austria type model yet also nthe netherlands switzerland strongly nthat countries also considerable differences nfor instance austria germany switzerland independent administrative case netherlands moreover whereas germany na degree austria civil service system public sector employ nment netherlands switzerland less clearly private finally countries netherlands federal state structure nand could federal agencies perform different tasks national agencies control task policy sector analysis three hypotheses administrative reforms see table overview hypotheses et al nthe first hypothesis hypothesis administrative lead effects balancing different values accountability designed changed idea administrative reform institutional design specific objectives nalthough administrative particularly assumed reforms mean nthat reforms administrative one factor administrative reform processes yet ning design possible important implications conceptual administrative question whether changes balance administrative values significant change nthe nature administrative cf return nto question third hypothesis hypothesis input process standards accountability output standards accountability nin countries npm reforms agency reforms four countries described see also well general administrative reforms countries consider netherlands switzerland nmore compared austria germany hypothesis assume traditional values rather nthat performance accountability taken dominant position nin contrast hypothesis suggests high degree stability hence accountability patterns four ncountries would expect high financial legal associated input process control patterns performance accountability output control argument reform success depends nthe cultural underlying values reform nnational context ntable hypotheses nnational patterns approach hypothesis executives held performance rather process countries comprehensive npm netherlands switzerland hypothesis executives held input process rather non performance shared administrative nthe four countries hypothesis executives held input process output ncountries comprehensive npm reforms netherlands switzerland patterns approach agency type hypothesis formally autonomous agencies report lower dimensions autonomy accountability hypothesis nmore formally autonomous agencies results nbut less input process agency funding hypothesis agency budget self lower financial npublic management review administrative stable cannot easily changed accountability patterns countries performance core value nthe third hypothesis provides analytical middle hypotheses hypothesis suggests reforms existing system rather new elements existing system nthrough process addition traditional elements assumption state implies combination traditional values values thus administrative continue although version regard administrative account relations implies shift balance ex ex post complete former terms accountability arrangements equal emphasis legal results accountability countries managerial reforms nhave patterns approach na perspective suggests patterns executive accountability agencies similar values similar organizations et al article focuses two ntional characteristics agency type agency financing institutional choice formal legal structures result design nand structures matter actual patterns decision making differences formal autonomy variation actual relationship ministries accountability relations particularly relevant decision makers limited structural elements legal public organizations nthe agency type hypothesis suggests executives formally agencies report lower accountability dimensions nhowever central npm performance accountability go hand hand high managerial autonomy autonomy accountability balance hypothesis suggests formally agencies results less input nand process modern agency characterized high autonomy use sum management organization agency specific well high focus results et al administrative reforms used model would hence expect effect degree autonomy perceived levels accountability namely results nand less financial legal accountability agency financing also affect day day agency governance ministries agencies fully self use financial instrument high et al self generated funds may even relationships may rely agencies revenues self agencies use resources et al agency hypothesis suggests higher self funding lower accountability specifically regard financial accountability ndata methods ndata collected similar surveys agency executives four countries nthis research part network international research project nhas countries table reports information sample size nand response rates response rates average surveys entire organization nnational compared population regard organizational found representative population terms relevant organizational characteristics agency type nwere executives entire population agencies four ncountries asked answer organization rather personal views executives approach comparative research agency autonomy accountability organizational level analysis et al although executives cannot every day day management organization position deal knowledge demands organization ministry',\n",
              " 'public private recent austria countries nabstract nthis paper analyses path towards public governance increasingly en many political programs current literature non strongly features bias recent nfrom austria european presented based analysis recently failed project factors put forward rational approaches dynamics also normative cultural cognitive factors approaches thereby understand nas distinct innovative organizational also npolicy tool underlying part general implications regarding relevance countries nkeywords public goods theory public private procurement public management professor public management university nof economics business administration executive romania candidate university economics business administration last decade many countries experienced increasing public private often new management reforms earlier see equally governments european union institutions commission international organizations group actors interests development seen one important challenges norganizations public private domain first decade nnew na large growing academic literature public private considerable contributions uk et al usa netherlands even ninternational journal public private literature different theoretical following theoretical literature nature organizational public management literature public governance community development literature empirical literature process impact nnot countries public interest administrative also countries distinct european public stronger public germany austria become popular found way government programs discussion et al similar developments observed ncountries countries nthe european union arrangements particularly nfor candidate countries central also academic nresearch countries found access journal political science general regional policy successful public private nthe paper review current literature rational choice economic especially public management literature oriented literature focus best practices implementation countries put forward perspective based analysis recently project austria possible value especially countries general towards specific project public private model first kind set various implementation problems leading contract parties june contract parties claims paper question high strategic relevance infrastructure project rational approaches theory concept limitations concept high private sector involvement civil society ideas well network society public ngovernance fundamental change role government nfrom increasing traditional sector et al new governance strong political science increased societal actors private public third civil society combination ntheir resources current german nan cooperative state political science governance debate similarly prominent contemporary public management reform term used npublic private nnot world also adopted many nother countries nthe cooperation private npublic sector simple joint informal arrangements multiple following concept notion paper follow interactions nbetween government business actors cooperation develop identities partners remain sense countries understood nnew form organizational social innovation et al nthe international discussion currently strongly focused meet public infrastructure investment needs uk npublic finance initiative widely example main areas management also health energy high arrangements various models potential infrastructure investments us year also special relevance ncountries eastern europe lack financial nand knowledge wide range national urban infrastructure potential volume ncountries estimated us nin contrast political programs official academic research total rather main variable often well understood working well certain conditions although positive cost widely report uk national office private finance initiative consequences broader evaluation goals quality due process access democracy public participation journal political science npolicy process accountability widely open short time cost benefits seem long term consequences relation nthese aspects seem far less practice nthe idea nalso empirical research indicates implementation still resulting project mainly small group countries including nthe usa uk significant investment countries germany show relatively limited number cases nwe public private sense statistics potential volume strongly north latin america eu candidate countries line nthe gap regard governance scheme seems substantial especially europe stronger public law fact shared topics field public sector reform choice approaches reasons current empirical results find wide range formation management reform outcomes capacities private finance increasing value money public legitimacy risk public sector power sharing argued basis powerful key drivers nsuch markets technological increasing fiscal governments rational trend et al current debate process reforms non language public sector actors decision understood possible benefits possible risks background nof specific less self interests npublic private nthe public sector view argued nbe financial investments increased efficiency private sector know experience creation value innovative solutions higher flexibility increased possible negative consequences public actors described risks due different market npower information private partners financial risks possible partner political loss support democratic risks public interest political private sector described new investment business profit gains access public administration expertise long term public contributions investments risks profit reducing public interests higher costs loss socio political risks risk political nwe often find literature view general risks least right arrangements place based case study analyses factors accounting problems literature general nfor best practices well academic literature therefore often well designed processes organizational structures case solutions importance clear goals nan efficient sharing risks incentives monitoring npolitical support within regulatory environment critical success factors based case study nanalysis often explicitly nfrom rational choice approaches institutional economics npublic choice game theory et al based formation existence decline governance like networks one forms nof governance market reference individual micro level arrangements take journal political science information public sector nand agent private sector incentives rules game power clear comprehensive user rights nto based individual case analysis problems leading permanent problems behaviour information leading quality hold moral theory policy processes series negotiations nbetween two partners crucial success failure nof offers wide range general behaviour nin european countries debate also strong focus legal aspects similar rational possible barriers regulatory constitutional law administrative law tax law law legal design specific net al based assumption interests partners public interest government interests means influence control sanctions find common argument detailed contract primary condition cooperation nto sum rational choice literature arrangements like exchange utility nby resources arrangements nwhich resources produced individual networks contracts derived solutions problems institutional societal context nin contrast based work similar political science march focus institutional environment organizations normative cultural cognitive structures provide meaning stability according nthis theory individual preferences organizational interests well npublic private journal political science nthe social practices ninstitutional environment institutions create powerful pressures norganizations seek legitimacy social nthrough adoption structure action powell structures appear ways cannot explained efficiency competitive interaction nbetween organizations theory thereby offers explanation face considerable implementation critical outcomes suggest absence evidence demonstrate based primary motivation provide account new assessment management practices highly values western culture achieved like last decades seen rise managerial ideas also within public sector based na general performance private sector public sector along literature nbe understood structure action strongly values increasingly pressures provides government nwith new legitimacy allows governments notion et al nfor dynamics concept nof institutional logics seems interest ntheir article stress importance understanding society nas potentially inter institutional system ninstitutional order causal ninstitutional logics thereby understood sets material practices nand fields organizing available organizations individuals cognitive systems nby participants field focus attention give activities goals values indicate appropriate means npublic private neconomic forces organizations actors nthe meaning consequences economic forces institutional logics within new focus institutional change number studies et al et al central role institutional logics similar emergence new governance structures practices nthey key understanding organizational change et al new governance structures largely based changing leading way et al nas central interaction actors nfrom different public private sector assume two distinct competing institutional logics public forms distinct area institutional life sense field considerable within field public administration fundamental differences compared private sector german political science nis long distinction relatively independent action state economy seen fundamental modern society following principles nof although na trend towards convergence introduction management ideas language public sector along broad often new public management ntwo different institutional logics still seem place nin non economic literature find broad differences described different values net al cultural identities et al logics choice approaches also different motives goals interest high level et al institutional understanding contrast often cultural institutional public private domain constant journal political science nand threat success many currently high many ncountries view related competing institutional logics nthe dynamics competing institutional logics relevance nfor understanding changing governance structures nin studies often focusing professional fields previous logic increasingly managerial logic et al et al et al nresearch competing institutional logics difficult dynamics strategic responses institutional processes et nal emergence hybrid organizational forms nbased professional managerial logics nit mainly organizational forms regard ninstitutional logics concept understanding dynamics seen claims appropriate institutional within public private sector nan case study theory importance institutional institutional logics one country regarding austria similar ngermany would expect diffusion implementation relatively public private sector public sector nwith political described public sector traditional bureaucratic regulatory model nonly use market instruments called home administration nbased institutional context see major austria regarding various dimensions ninstitutional logics table ntable public private sector institutional logics npublic sector private sector ninstitutional logic institutional logic state business organization nby power within competitive full environment nstate tasks based democratic based market public business success logic structure hierarchical system nsystem authority based based managerial non comprehensive autonomy political administrative authority company attention politics private good monetary criteria profits ngovernance governance based governance based rules results performance measurement strategy focused strategy focused growth expansion logic strongly market return primary investments logic investments nin march public sector nwith strong legal emphasis action similarly legitimacy procedures often oriented towards past private sector economic management emphasis action logic nof results efficiency managerial stronger focused developments na central question institutional logics nas cannot directly measured studies indicate variety approaches indicators npublic private et al nwe assume possible find access accounts development institutional become parties explain others selection specific means nbetween especially case call work nfor analysis therefore took closer look claims arguments problems final project thereby better understanding specific institutional logics values nat work analysis based media coverage including articles press political period found specific sample articles also included expect direct link specific npublic sector institutional logics material fall project nthe project federal ngovernment set wide security network light organisations system action among different public security norganizations national existing nof quite communication new nsystem based neuropean standard digital professional neuropean standard institute feature communication system et al nthe project responsibility federal government federal ministry strong ministry nwith total capital expenditure estimated range designed contract years base private sector public service journal political science public sectors involvement limited output build operate model capital expenditure nthrough paid network users private capital along na federal budget programme important nfor design project high nlevel political public attention strong presence nin public media also european wide relevance nfirst nation wide project europe nin course european wide process september nthe companies formally interest first three remained mostly considerable state influence around ninternational technology government project presented features nthe public day published successful phase strongly npublic relation campaigns expectations financial importance organizations state level system main commercial users enterprises included net allow even non april project joint representation community services decision argued mainly case annual costs federal government federal authority led nto legal arguments even constitutional court three months july claim finally technical open later agreement commercial nuse net condition clear public users making second frequency npublic necessary side npublic private nto fixed annual user users federal ngovernment agreement additional users organisations network according business plan nthe first phase already nby',\n",
              " 'public administration reform europe executives countries cross national report part research project van de public sector future www eu nhttp www eu work cross national report july page nabout nthe project public sector future assess impact new public management reforms neuropean countries team european public administration scholars countries analyses impact reforms public management public address citizens service needs social europe extent resulting need coordination part impacts european unions framework small medium scale focused research project nabout authors professor public financial nmanagement hertie school governance berlin van de professor public administration university public management university centre et de et research hertie school ngovernance berlin nthe research leading results received funding european unions programme agreement project socio economic work cross national report july page summary introduction public management public administration reform central government work context central government executives relevance direction public administration reforms impact public administration reform public administration reform employment sector relevance direction public administration reforms impact public administration reform public administration reform health sector relevance direction public administration reforms impact public administration reform figures work cross national report july page summary nthis report aggregate results comparative executive survey public reform europe based countries targeted making comparative empirical dataset european administrative reforms report offers executives public administration developments across europe nin work context generally characterized low management autonomy rather high goal politicization netherlands uk executives factors full adoption managerial logic performance management fact managerial ideas instruments clear targets measurement use information implemented across european public structural npm reforms reform trends closely network understanding government open government well cooperation among different public sector actors fiscal crisis might important trends public sector stronger focus outcomes nresults reduction internal bureaucracy overall countries uk nand netherlands appear active spain france austria nwith regard management tools overall impact public administration reforms executives make assessment netherlands extent germany rather executives spain survey countries uk extent italy austria assessment potential factors service cost higher public seems influence overall perception reforms policy field level seen relation managerial aspects cost efficiency service innovation also concerning transparency treatment citizens behavior among public servants associated issues nof staff motivation public sector social especially trust government despite direction clear evidence negative internal dimensions result reforms countries management tend find even higher levels social capital trust nand work also relatively lower organizational commitment need nmore detailed analysis employment health sectors also surveys focus assess reforms rather central government management generally relevant also sectors find reforms also considered successful health find importance central government employment nwhile considerable variation identified countries regarding reform intensity reform trends important similar might indicate sense purpose across europe public management reforms work cross national report july page introduction public sector future one largest public management research projects europe provide comprehensive challenges european public sector future systematically impact new public management npm reforms europe project public administration scholars countries european unions framework programme january june nthe research comparative evidence based existing data innovative new qualitative data collection project executive public sector reform europe original survey public sector executives neuropean countries currently largest kind implemented europe survey nthe executives perceptions regard work context public reforms impact factors public sector performance generally attention given employment health policy sectors nin survey team approach building set nof rules data collection allowing degree flexibility order nto ensure good response rates different national contexts goal text original conceptual across nall countries sample could allow systematic comparative analyses ndata collection strategy produced statistically sufficient responses nan original core developed survey team first nby national team respective language questions added assumed certain countries sample research team targeted executive knowledge also play essential role policy making type approach nover last years et al method argue top managers best point entire system according et al position based definition executives efficient comparative research organizational differences across system managerial roles may appear principle structural likely good informal functional na degree achieved hand elite surveys significant sources bias elite surveys focus one actors perception cannot taken representative whole organisation et al may nhave interest reporting outcomes new policy initiatives order present na positive successful line current government place also nbe expected different interests needs university hertie school governance berlin university university nuniversity university university university university technology information project available www eu nhttp www eu work cross national report july page lower levels simply results swiss respond nto concerns regarding possible sample included top different nto three hierarchical levels organization types ministries agencies npolicy fields allow broader views also noted perceptions observations high level executives et al argue study western beliefs rather actual behavior words act nwith regard executive survey based full government ministries agencies based principles followed national sample top level public sector executives due respective positions expected nbe public administration reform processes also affected reforms within central government ministries agencies two administrative levels addressed cases also executives third level nwhen due policy relevance appropriate local government service levels excluded purpose survey fields employment health focus areas regional lower level government also included relevant however direct service levels nthe survey may implemented two may july november two combined high civil servants first countries via post email survey online created national country flexibility allowed even strategies used nby national access targeted respondents due major differences administrative countries whereas countries via email via post third category used approach november according procedure countries details see research report et al end available nfrom countries overall response rate see table ntable number response rates survey country sample ncountry survey response rate ngermany number represents final number failure etc work cross national report july page nthe present cross national report results joint dataset provide overview executives public administration developments countries austria france germany italy netherlands spain uk especially explore country overall survey means based equal countries one work detailed national reports nwhich survey results country comparative dimension first set conclusions overall dataset national together survey research report used see et al found www eu goals terms reference survey focuses executives government also particularly employment health sectors described reasons survey sample targeted civil servants considered nto policy relevant role context reforms including regional sub national following report results presented three major areas survey central government employment health central government sample report sample executives ministries central government level policy sectors across countries germany spain due federal structure regional levels play key policy role levels also included nthe two particular sub considered report result overall nresearch design employment health sample working policy field employment ministries agencies ngovernment levels sample executives health sector ministries agencies government levels analysis different clearly separate offers overview developments potential trends across european public based central government sub sample selection key survey nresults related work experience civil servants section relevance direction npublic administration reforms section impact reforms section cover employment health sub respectively present selection results nin policy areas focus differences central government potential limitations taken data survey presents much systematic empirical evidence regarding nthe dynamics public administration reforms europe offers results large employment health policy sectors particular interest survey nthese sectors defined broader attempt gain high number responses nin order central government sample agencies government third hierarchical level lower two particular policy sectors nhttp www eu work cross national report july page european wide sample national administrative europe moreover cross country dataset comparative reforms trends difficult otherwise limited national nlevel data collected present field important nwhich sets survey executives surveys public administration nthat fact represents full target population defined process cannot claim full data results cannot entire target population public sector executives european however response rates well line public sector executive cover substantial part targeted population distribution respondents policy field hierarchical level organization type rather closely distribution nin full target population good far representative european public collected overview research current public administration research see et al work cross national report july page public management public administration reform central ngovernment nin chapter present results executives working central government including government executives health employment sectors work context central government executives nthe success management practices like performance management public sector extent specific work context public administration behind npm chapter analyses top civil servants work extent results indicate management practices public administration performance management result orientation difficult implement goals nare perceived activities results less observed executives asked extent goals clearly whether number goals whether measure activities figure aggregate mean items per ncountry find goal perceived countries overall rather rather high average various ncountries lower degree goal perceived executives united followed netherlands countries performance management reforms executives ngermany france however higher degree goal nthe average means public sector goals perceived particularly countries seems case especially countries management rather long history public sectors nfigure goal aggregate mean four items per country low goal high goal goals clearly goals staff high nnumber goals observe measure activities kingdom nthe netherlands ngermany work cross national report july page autonomy variable management practices nthe public sector degree executives autonomy asked extent autonomy regard managerial aspects services budget decisions well changing structure items extent policy autonomy policies two items figure aggregate mean items per country nwe find autonomy across countries executives netherlands rather high degree autonomy followed germany public officials italy spain particularly low autonomy overall average nfigure degree management policy autonomy aggregate mean items per country low high autonomy politicization important public administration work context public sector institutions make decisions based expertise knowledge subject political processes politicization difficult role executives government management cf der et al et al executives asked extent politicians respect technical expertise administration nwhat extent politicians influence level whether figure aggregate mean three items results rather across countries highest degree politicization perceived spain followed italy executives netherlands particularly low nlevel politicization similar united kingdom overall average clear indicator existence nsome politicization european public politicians respect technical expertise administration aggregate mean work cross national report july page nfigure degree politicization aggregate mean three items per country low degree politicization high politicization nin sum work context executives countries especially autonomy politicization whereas executives countries like netherlands kingdom high degree autonomy low politicization countries spain italy austria lower autonomy higher politicization whether high autonomy nmanagement reforms practices whether introduction management tools observe countries management reforms nalso higher levels management autonomy goal perceived rather countries much smaller cross country relevance direction public administration reform nthis section provides information public sector executives perception implementation npublic administration reforms survey questions follow current public management literature et al npm reforms public ngovernance post npm reforms characterized stronger emphasis coordination nand forms governance respondents asked assess type reform trends policy field organization work policy field level importance reform trends public administration reform trends ndifferent characteristics regard content implementation dynamics reforms include measures like performance management orientation employment reforms nand aim transparency citizen participation reducing bureaucracy figure nthe overall average highest country average reform trend trends work cross national report july page nare terms importance important reform trends european public currently clearly digital government mean collaboration among different public sector actors transparency open government contrast npm type reforms less important nfigure importance reform trends important following reform trends policy area nall large extent overall average highest country average line indicates average reform trends nthis may suggest main wave npm reforms already implemented past findings also nwith initiatives european countries agencies provision services seen important trend overall assumption project post ngovernment different npublic sector government npublic sector nresults users employment ngovernment participation initiatives state new work cross national report july page area public sectors efforts reduce policy nat time however state provision new areas fiscal background also visible great importance public stronger focusing outcomes results reduction bureaucracy nit also considerable variation across countries regard central employment focusing outcomes reform trends much way across countries thus take closer look reform trends high degree variation across ncountries wide cross country variation public sector see figure nalthough mostly due rather low relevance trend clearly important trend uk france netherlands nwith public budget least nimportant mean',\n",
              " 'introduction public administration reforms europe nhttps multi open access research documents whether documents may come research institutions france public private research et diffusion de documents de non des et de des nintroduction public administration reforms europe van de nto version van de introduction public administration europe de public administration reforms europe view top pp nhttps nhttps introduction public administration europe van de nintroduction npublic administration reform programmes often real change sometimes statements real perceived policy problems aim certain actual reforms gov introduce quite different presented public nand effects reforms frequently nwas possible effects study npublic administration reform effects one therefore needs beyond discourse reform self social bias civil servants organisations subject reforms reform ideas administrative indeed many studies public administration reform non interviews top executives key seen reforms many cases civil servants nhave reform programmes public sector nand responsible implementation specific reforms even development entire reform nfor book top public sector executives nin european countries views state public administration administrative reform effects address nnational executives specifically maintain nhave role administrative reform policies key bureaucratic institutions analyses present provide na unique public administration reforms european countries including many countries often included comparative studies far van de online account public administration reforms europe reform debates public administration npublic administration reforms long topic public throughout europe beyond starting governments uk united states since across business like reforms associated nthe new public management npm response perceived bureaucratic structures increasingly nand public sector recent years however often negative effects npm increasing public challenges social npublic service within government response alternative reform linked ideas network public governance internal coordination nat time new citizen involvement participation nto improve user demands especially nthrough innovative technologies europe three major reform nand public sector top executive survey book based capture elements reform na first reform implementation structures processes systems formal procedures due rule law npower remain characteristics many public europe countries introduced based systems nthe late early others implement nthe foundations independent autonomous public bureaucracy one core elements public administration reform communist countries europe civil service reform basic elements public ntion based principles many scholars crucial importance bureaucratic features well governments time bureaucratic roles identities within characteristics na second reform often new public management van de online account introduction npm reforms mainly concerned introduction nmarket type mechanisms business management logic public reforms typically implemented improve efficiency government accountability npm related reforms nthrough european public sector influence govern nments day countries beyond npm ideas managerial tools remain permanent within european public countries npm still main reform nwhich administrative emphasis efficiency per innovation key characteristics nthe third reform together elements nwith aspects npm describe attempt npm instruments designed citizens public demands within context argue nfor state authors believe npm era governance network approaches following npm reforms central npolitical control et al approaches second generation post npm reforms nand third generation reforms nfor represent new public governance nthe used refer third reform remains key characteristics associated evolution include focus coordination effectiveness outcomes nwhile clear impact administrative practice also often capacity empirical national administrative reforms reforms come derived one processes nof bureaucratic politics dimension nof administrative reforms leads reforms within public organisations increases complexity variety nof reform within different countries dynamics suggest nthat understanding national administrative reform patterns requires comparative research aimed reform van de online account public administration reforms europe nmany reforms little knowledge nabout outcomes public administration reforms europe nis little systematic research whether npublic sector reforms implemented outcomes existing research specific countries npolicy fields government areas making patterns learning solutions difficult van de nand reform available tend nto often cover specific elements given addition generally made years nthe reforms may little relation aims reform programme fact analysis reform nations across european public sectors another part project found important reform never governments see time academic accounts provided comprehensive public reforms europe instead typically focus specific reform single countries overview see high quality comparative data nhas research efforts regard recently researchers interested public reforms across europe largely work public management reform international comparison first published oecd organisation economic nco operation development studies work focused specific political administrative relations see civil reform see van der et al publication first government com wealth statistics indicators public made broader base information public administration available data sources also increasingly used public sector change across europe including world banks governance indicators sustainable governance indicators foundation survey based work quality government institute global competitiveness world competitiveness van de nin addition european public administration network produced reports provide comparative npublic administration reforms european countries van de online account introduction nin context great project offer systematic country comparative approach data nthat common developed inter nnational team researchers different nresearch aimed full top central government executives na large number european countries become largest survey never conducted europe kind focus book nhow top public sector executives european central governments nthe dynamics outcomes public administration reforms ning views key group stakeholders unique perspective based common measurement applied ncountries contribute growing body comparative data european focus european npublic administration reform reform europe many across time countries reform nand highly efficient public sectors others seen nas public nby patterns time reforms clearly countries others nin countries npm still countries variety post npm ideas others npm publicly reforms implemented show na associated npm variation reform high depends administrative also different starting points government systems see reform used across countries also case may different reforms even based non similar sets ideas national public administration reforms differ variety reforms even greater administrative systems administrative europe nhas led considerable heterogeneity reform practice across europe nat time considerable discussion whether taking place national public sector reform especially european level due increasing integration emergence called european administrative space see van de online account public administration reforms europe whole broad much national variation convergence generally assumed identified clear differences core group including new uk us second group european sweden netherlands state na central role recently nhave categories nof reform activities reason processes convergence public administration reform continue receive considerable na combination eu need bring new member nstates administration recent nin europe put central role public administration countries neconomic development agenda efficient public administration seen critical successful growth hence interest public administration reform especially among international organisations neuropean commission first time included institutional efficient public administration objective nin current eu strategy period also npublished quality public administration nto support public administration nin european member states new developments neuropean level clearly need empirical evidence comparative administrative reform unique country comparative dataset book aims growing body evidence public administration reform nits effects performance previous research focusing administrative reform top public sector executives limited sets nin interviews document analysis secondary data nin contrast able draw currently largest academic top public sector executives ever europe seek real administrative practices beyond reform book reports reforms european ncountries taking account countries included nin countries covered book austria france germany italy netherlands spain sweden nthe united kingdom van de online account introduction nthe project one largest never public management research europe nthis book product research project nthe european commissions framework programme public sector future nwas set european aim comparative impact public administration across finding nto current challenges future public sector nthrough different general purpose impact npm reforms european countries especially nas explore emerging reform approaches nnot least following financial crisis total researchers within nthe project related research work analysis impact npm efficiency effectiveness social analysis changing role government looking npm government survey top public managers perceived impacts npm study choice european public sectors nwhere citizens become analysis innovative coordination practices public nmanagement emerging reform trends effects policy social study financial crisis public sector emerging challenge development public administration reform projects number reports articles nand full list www eu current result third work nresearch institutions core project nuniversity hertie school governance university university university technology nuniversity university university university french national center scientific research nwith many institutions van de online account public administration reforms europe nfor purpose top public executive survey university economics business business technology university public administration technical university nthe fund political university university agency public management book nthis book follows chapter public executive survey provides information nthe sample behind made research also involved cross national research public ntion challenges perceptions respondents social scientific research chapter nat values attitudes top public sector thereby providing unique bureaucratic elite neuropean central governments four sets country studies nare presented four parts europe central eastern europe part ii europe part nand europe part iv country studies follow similar first overview recent public administration reforms ncountry given public administration reform trends country question compared ncountries nthe part analyses major challenges outcomes reforms europe cross comparative ntive chapter shows top executives assess reform process ntheir country management tools instruments used effects fiscal crisis european public ntions chapter recent reform initiatives improve coordination within public administration following chapter reform outcomes nand compared detail chapter key findings general conclusions perspectives nfor future public sector europe van de online account introduction data countries nit require local knowledge also access respondents top public sector executives many countries rather ning challenge go executives throughout nthe european supported survey nwere share research many researchers nboth government agencies many public servants nhave us top public survey findings public sector nthrough reports articles addition authors would like thank following persons ntions made survey success former research university economics business professor commission help survey respondents nand department political science public management nuniversity denmark financial assistance nthe survey university technology ministerial advisers ministry finance research assistance support ngermany german federal ministry internal german employment agency professor national university public department public reform public administration department university nof technology civil service department ministry staff office nof prime minister nthe netherlands van de online account public administration reforms europe professor technical university nand fund nfor political university south state ministry justice public management con survey sweden kingdom research nin addition would like thank number institutions us make project success nmost want thank nfrom public governance institute essential making research project success nthe book publication public nmanagement reform comparative analysis furthermore thank nour project european commission research nand innovation employees mar country representatives us dis providing european group npublic administration particular nfinally thank particular general support research leading results received funding european unions framework programme agreement project economic sciences van de new public management citizens local service efficiency effectiveness npublic management review whole government approach npublic sector reform public administration review van de online account introduction eds centre political control western democracies university press bureaucracy organization government third generation reforms new public policy administration public management public administration global public management report governance institution press toward new era administrative reform post npm new governance new public management na public administration review time bureaucracy journal public research theory governing institution building institutional theory european experiments democratic organization oxford new york university press new public governance public management review politics bureaucracy london convergence europe nin van eds new public management adaptation pp public management reform comparative nanalysis new public management governance state oxford oxford university press impacts performance oriented nmanagement reform review european literature public performance nmanagement review eds european public shared identity studies public administration compared uk public administration de state journal policy analysis de impact new public nmanagement challenges coordination european public review administrative culture der eds civil service systems century van de online account',\n",
              " 'influence activities objective approach influence activities nan objective approach nabstract activity central organizations wide range nof theoretical empirical research studies field rely either actors article notion norganizations actors socially influence social practices whose shape meaning derived social embedded paper argue necessary gain activities organizational contexts strategies applied objective analyses focus influence within three organizational contexts nkeywords influence context power objective sense making social activity organizational life exercise influence core effective leadership power organizations according nand idea influence analysis general understanding influence activities attempts get done way however go beyond interests strategies influence social na empirical studies influence nresearch structural perspective norganizations two decades although programme core assumptions much research done field influence frequently applied research instrument organizational influence strategies see also et al et al et al influence nstudies publications london new authors nwww org doi strategies aspects like frequency targets conditions impact categories independent control variables characteristics nthe individual aspects perceived power actors involved demographic factors change leadership roles focusing political behaviour organizations team see et al measured influence based perceptions targets perceived organizational climate nmost empirical studies field build schemes neither actors assumed across social situations schemes value however nalso limitations identified nin terms action part nwith regard social context embedded thus creating nof underlying power rather absence noted nthe dominant approaches studies influence operate nin regarding theories power based limited perspectives reference understanding power capacity get actors nthey would otherwise influence thus nof power notion interests structure based power nthat approaches pay little attention social setting power effective power key point arrangements nof social system work compliance based consensus nand influence necessary work nfrom emphasis formal control post power cover whole social body analysis influence limitations nthat underlying notion power influence classification schemes clear bias towards action non action nof first face power power dimensions nand exercise power nand specific relation organizational knowledge expertise nto legitimacy interests identities agents et al nand power remain largely nthe focus types organization studies organizational impact taken knowledge nwhile traditional studies influence draw strategic nof actors structural approaches run risk active making activities agents capacity action nan understanding influence activity social practice nby agents needs us sense making process goals strategies works influence behaviour might agents post socially available accounts nthe logic action exercise influence act individual decision part social form takes whether claim accepted nwhether agents specific act influence activity nis outcome processes take place within social nwe assume limitations related assumptions research area influence analyses influence activities research design agents sense making nthey regard influence activities however research strategy point agents influence activities ntheir meaning context embedded argue without meaning context see contexts presence absence form type content specific activities actors nin paper suggest objective et al et al capture sense making underlying approach new research outside german community basic assumptions implications limitations nan objective approach nthe main goal objective individual structures meaning social practices nand structures outcome provide nthe meaning context social coordination practices actors knowledge independent nof sense objective et al influence activities close approaches nbut several points attention towards create interaction situations time providing interaction partners nwith interpretation see various ntion analysis organization interaction nand establish ntive principles coordination social action particularly expressed language objective focuses less practices subject independent structures social rules actors draw upon nto make sense action thus subject independent rules via nthe actors nin order interpretation focuses interaction text components nit action nthe rules point nof thereby go actual features specific structure nin words process underlying necessary first whole meaning potential nall available options second characteristics nthe specific situation focusing actual selection made nthis requires material available thus fixed methods general organizational provide material produced without research process however study specific research makes draw actors accounts influence interaction process underlying knowledge structure nare crucial organizational documents likely influence process dynamics especially support process make sense requires nthe relevant characteristics social context need work especially accounting gives shape nto meaning structures social context base analysis assumption mean ning act relation social context embedded nthus analysis social practices influence activities underlying meaning structure assume nthese structures although largely practices accounts detailed analysis see suggest provides approach research assumptions several implications organization studies nresearch interest research focuses social phenomenon nanalysis influence analysis social system specific organization develop influence activities sense regard nthese types forms influence within equally ntional meaning contexts analysis regard influence activities nsocial conduct comparative case analysis study social organizational type nas objective basic underlying meaning structure even instance interaction thus material nis process space context specific knowledge nis requires parts text ntion use etc included interpretation process whereas nthe context knowledge within text variety possible context outside text may see cases nwere selected basis theoretical variation principle three organizations na medium trading company large bank public sector agency operate different environment data analysis depends possible degree interviews purposes study see appendix aims organizational meaning structures nare independent differences cases nare affected kind organizational members member nof management selected organizational level likely nto affected influence claims analysis based two methods ntive et al see interpretation methods work amount material quality central concern strategies results used course process interpretation conducted group authors nto ensure assumptions text thus used support individual unit analysis nthe interpretation followed detailed steps interpretation previous analysis cross additional ndata organizations objective look challenge meaning structure et al influence activities nin following section influence activities experienced nas standard situations logics nof actions characteristics organizational meaning context compared third step call attention nto core structural activities final section article taken conclusions concerning influence activities social phenomenon nand objective research method nthe standard situation influence three different nin following exercise influence taken organizational life nof features consider activities standard situations nthe trading company work long get right arguments trading company nthe standard situation trading company make decisions nwithin area general nthe decisions regarding effectiveness logic explain decisions account make actually nevertheless challenge latter pro arguments give original issue long takes hand nthe put point go explaining arguments solutions proposed person formally initial decision nif one explain words nto additional benefits could bring still want well mean could looking reasons done way three times well work trading company nthe bank nit good see information stress enough every every second like bank nthe bank also primarily formal way act na lack understanding neither provides specific decision organization studies including made fact discuss instead simply nthe information makes first questions asked includes potential sanctions always go nwith see horizontal influence specific question decisions made higher hierarchical even logic nfor banks benefit would well explain nif would would quite whole even even decision made called different levels want run lines nthe public sector benefits point whole nwhat want deal offer side much public nthe public sector rely nthey first place neither rely done matter direction implies make formal claim rather right issue nthe public sector nof trading company public sector others even made position public bring next time form future opportunities action achieve public sector academic people way example good long way away position ones public sector nthe meaning influence activities rational experts meaning nand nin accounts organizational influence activities agents different aspects trading company nis concerned arguments technical professional discussions successful influence always et al influence activities ability discussions first place npublic sector influence seems planning nand support organizations within complex fields nare designed relation multiple rules agents understand people act nonly know situation means nand standard situations organizational influence crucial effect best underlying structures calls attention nsuch taken aspects makes self nand underlying order clearly kind activity nthus understand also understand people thus focus agents efforts come nto terms influence providing expert solutions organizational trading company mean like like good explain good far im concerned course better lower im mean explain work way trading company nfrom perspective primary function nof leadership professional problems organization influence activity making decisions standard form influence based assumption nthat organizational order rational competition ideas organizational members best idea according view formal technical nto go hand hand increasing expertise skills nwith decision making persons authority linked ntheir status expert status way influence question nwhich decisions based however also implies nof decisions represents challenge well would hierarchical position nthe offers discussions issues following logic technical rational organizational provide opportunity related professional aspects regarding leadership organization studies nthe working climate etc questions decision taken expertise nis challenge demand rational put time question nto prior decision consequence nthe end discussions like one nbut alternative either work get company case trading company influence transmission shared values bank least think peoples put like whether made enough think im individual ever instead like words actually three times bank logic influence claims value structure nthan solutions organizational problems nthe primary function organizational values nthis value rational demands value benefit system highly agents interests requirements technical authority based hierarchical position assumed nto indicator knowledge benefit system nhas standard form influence make corresponding decisions language able understand nas rational stage activity questions indicate either failed nmore nthe value system expertise professional competence nof potential sources point failed prime leadership tasks possible sources attempt improve providing examples nby influence sense together successful people think least show sign requires permanent work made nan example challenge panel like open nis bank et al influence activities influence non ministry look good like one around nby test nthe situation make get together public sector exercise influence personal company bank ministry however nwhile former two influence along formal ministry taken present option views political interest led agents na certain uncertainty sense social situations pay social networks organizational order formal important mainly nbecause higher positions better opportunities actors extent seen able initiatives skill ntheir job related objectives influence claims nand multiple options without loss face nsince including exposure situation open nin medium long run however influence following exchange logic social resources options wide network crucial capacity influence outcome long skills essential technical expertise value system key success factor done nis non successful influence based setting capacity agent ability get others initiatives nthe agenda ones issues next move important nnot pressure time second nthat think negative arguments could advance public sector na comparative view nin cases discussed logics action see table',\n",
              " 'political control politicization level european countries narticle nmore npolitical control level nin european countries political science university school governance germany european center economic research germany nabstract nthis article literature politicization increase npolitical control public often substantial managerial policy using data large scale executive survey central government agencies european countries article provides comprehensive national cross organizational analysis autonomy politicization drivers politicization level find nnational patterns politicization well country defined nby administrative others nat organizational level find evidence efforts politicians nfor autonomy level yet provide effects formal informal organizational characteristics non patterns politicization analyses show politicization nis lower organizations agency status higher organizational social capital higher autonomy extensive use management tools article thereby nonly offers comprehensive evidence cross country differences politicization also literature sub national variation organizational ntive study european context npublic policy administration vol author narticle com ndoi com home author department political science university box nhttps uk com en nhttps doi org com home nhttp crossmark crossref org doi domain pdf date nkeywords political control politicization public sector reform civil nintroduction nthe exercise control highly nof permanent officials challenge executive politicians must expertise capacity permanent bureaucracy na common strategy ensure political selection party political rather et al according several increased involvement politicians nlevel page development driven executive politicians attempts loss control increasingly et al argue strategy go effect administrative resulting loss capacity democratic accountability nto deal forces governments administrative capacity prime ministers et al political ministers policy making political management politicization level represents another strategy loss formal control bureaucracy nthe increase seems especially ncountries strong countries et al countries new public management npm reforms european potentially notion nof managerial autonomy however nthere little systematic evidence scope changes whether present day knowledge cross national differ address research gap compare level european countries whether observed variation country administrative mair page nand concept administrative long term fundamental aspects administrative relations including political influence bureaucracy cross country analysis politics administration risk national differences within country variation observation especially relevant public policy administration nthe background increasingly nature modern governments multiple ministries agencies public bodies growing national comparative perspective within country variation sectors differ types public organizations mair bottom line politicians incentives exercise control nover bureaucracy public sector organizations article unique analysis politicization level nments different types public organizations particular examine whether politicians use political limited control nover specific aspects public organizations activities zero sum relationship nbetween bureaucratic autonomy political control political control public organizations autonomy decision making managerial policy decisions would expect high levels organizational stronger political influence level alternative mechanism political control hierarchical control nthe organization time organizational characteristics might also level politicization may nhave negative effects administrative performance nthe article uses data public sector nthe future survey public managers working central govern nment organizations ministries agencies european countries et al nthis allows us conduct one comparative studies existing based expert surveys et al nand interviews public officials analysis moreover factors organizational nlevel contribute growing research agenda variation research mair nthe next section differences civil service politicization administrative develop hypotheses organizational level data methods report nthe results analysis finally discuss findings draw conclusions nfor research nthe political control bureaucracy nthrough nthe politicization bureaucracy core various literature political parties party power parties nto people positions public public life mair et al literature finds party purpose control public sector rather nthan party electoral success et al executive politics scholars developed perspective politicization formal defined political influence de selection functional politicization understood con political jobs et al scholars added third dimension administrative politicization political interventions principles con associated professional civil service finally us scholars particular problem effects officials nment based competence bureaucratic performance nand nthis article studies politicians influence officials formal politicization defined political criteria nbased criteria selection public service formal politicization ncan function means minister ensure party political nbut also provide additional well providing minister nan based relationship personal trust hence formal politicization top level positions different practices aim personal employment within public page moreover politicization lack professional competence instance top officials ngermany politically yet usually civil service back however degree executive politicians influence officials shown vary sub countries et al well organizations nwithin country context following nan explanation cross country variation politicization based notion nnational patterns nthere well established literature national differences regarding degree npolitical involvement civil servants page identify three main patterns politicization different towards political bureaucracy see also include civil service nments united kingdom denmark civil service public policy administration nin top positions sweden germany systems party key within civil service even lower levels austria belgium spain alternative whether govern nment officials well differences officials officials nment party political settings politicization post communist countries type nment clearly different politicization ministerial bureaucracy either top nlevel including lower hierarchical levels common germany nand third type non politicization characterized non officials government changes internal na party politically civil service key nmodel features uk civil service relations page hence politicization bureaucratic many including whether executive politicians formal powers upon taking office whether formal powers apply top level candidate officials nthis article focuses politicians influence level taking comparative perspective assume political influence embedded administrative understood patterns administrative practice among country groups according nto literature typically politically civil service contrast countries nand central eastern european countries characterized countries take position level politicization although levels countries far hence might also expect variation countries within austria germany page sweden countries et al france less nthan countries moreover common communist countries developed quite differ background country specific conditions differences nin patterns government pre administrative however despite non variation within country et al nwe propose administrative developing cross country variation political influence highest countries countries whereas european countries take middle position patterns nalthough international nmany relevant insights national large variety norganizations distinct tasks reason believe politicians use political public sector norganizations mair bottom line driven politicians control given organization nmay characteristics organization following develop hypotheses drivers barriers organizational level nfirst executive politicians may use lack nother means control public organizations key managerial provide politics administration nhowever autonomy ning political control bureaucracy assumptions according several managerial reforms nwhich distance politics day day management public patterns increasing politicization ntime et al administrative reforms many previously control actions bureaucracy time autonomy bureaucracy nto implement using managerial instead traditional instruments npolitical control moreover even politicians nhave formally powers bureaucracy usually held account et al conditions attempts political controls control nmost literature takes perspective patterns level entire government organizational nlevel results study regulatory agencies shows party politicization officials increases formal thus supporting argument contrast managerial autonomy politicization agency sweden finds empirical support claim yet shows nhow politicization according organizational characteristics public policy administration high degree organizational high degree politicization test nthis often made assumption build established body literature various dimensions organizational autonomy within public van extent public norganizations use financial resources key management although politicians usually financial autonomy public organizations may latter nuse financial moreover research relations high levels financial autonomy increase agencies actual autonomy nfrom ministries therefore consider financial management particularly relevant dimension test argument bureaucratic autonomy use financial resources politicians influence level nthey gain influence use financial resources higher level financial management autonomy higher npolitical influence organizational autonomy bureaucratic policy dimension relative power nof politicians permanent policy key administrative relations administrative reforms aimed autonomy matters politicians strategic decisions however nthis roles politicians incentives get details especially appear according logic nwould expect politicians politically organizations high levels policy autonomy setting policy taking specific course action policy implementation van organizations policy autonomy might reflect politicians management policy operations would expect lack control bureaucracy high levels indicate low levels political intervention hence non side politicians substantial degree though policy autonomy much bureaucratic autonomy public organizations nby legislation executive regulations et al rather result ning political micro management upon single issues politicians attention higher level policy autonomy higher political influence nsecond investigate use managerial instruments alternative political control affects politicization level nfor instance number scholars quality npm et al reform elements nand major nmore autonomous bureaucracy policy implementation political con policy goals latter performance contracts considered nimportant control mechanisms bureaucratic activities politicians policy according managerial logic npolitical control via decisions strategic planning direction setting line political performance target setting measuring ntions use strategic planning performance management reduce incentives politicians control via level higher use management tools lower political influence organizational characteristics likely control via degree ntional according organizations institutions developing shared values yet organizations may vary according degree nof highly organizations clear defined widely shared understanding central tasks nof agency characterized shared organization organizational members achieve organizations internal management organizational staff achieve objective public management scholars na high degree organizational performance nthe argument proposed marginal costs highly organizations potentially benefits increased con similar argument related technical see et al organizations share organizations norms values may organizational performance officials relevant organizations norms values nmay lead organizational capacity decline motivation risk officials organizations norms increases level political influence level equal expect executive politicians less likely highly organizations avoid negative organizational performance higher degree organizational lower npolitical influence public policy administration na key question organizational design whether tasks within political leadership whether administrative leadership tasks agencies implies tasks would within ministerial department top level agency officials usually tasks whereas top level ministry officials closely politicians basis et al although several studies agency variation terms level differences politicization ministerial nand agencies nin recent study et al find differences agency officials regarding risk de selection retirement increased time groups contrast mair show generally ministries compared agencies following assume implies de politicization organizational design therefore expect nmore among ministry officials possibility agency loss formal due levels formal agency autonomy politicians incentives influence level agencies yet politicians exercise stronger influence nover agency compared ministry control would run politicians incentives formal powers influence level compared agencies level political influence higher ministries nthan agencies ndata methods nthe article survey among executives european countries austria denmark france germany italy netherlands spain united kingdom conducted et al team researchers developed survey nwhich local survey targeted entire executives central government ministries three levels full agencies two hierarchical levels full selection relevant agencies ensure consistent sample based non detailed government structure executive positions ngermany spain also executives regional level ministries et al nwere targeted central government accounts general government countries nfor countries included article executives nthe overall response rate ngiven high level positions respondents also survey nby far comprehensive analysis executives europe collected et al distribution respondents policy sector hierarchical level organization type closely nthe distribution full target population et al nof respondents ministries agencies clear majority male top hierarchical level test nnon response bias comparing early late respondents via time trend ntion significant differences groups nthe influence executive politicians level difficult different ways et al contrast research based expert rely perceptions actors nthe phenomenon hand officials research design nwould also target executive politicians group respondents nwas included survey measure dependent variable use politicians influence level organization point scale strongly strongly nthe first set independent variables respondents perceived autonomy using including following items financial nmanagement autonomy respondents asked assess degree making autonomy regard budget point scale low high autonomy policy autonomy respondents autonomy policy choice design policy scale management tools survey included point scale question respondents use various management instruments used instruments business strategic planning quality systems management objectives results index nthe degree organizational measured related organizational social capital social relation within organization particular refer social capital collective goals values shared organizational elements central understand ning organizations variable via three previously used organizational research people public policy administration organization share organization collective goals view part organizations direction nfinally whether works ministry agency measured',\n",
              " 'new public management reforms europe effects findings country top executive survey narticle ninternational nnew public management reforms nin europe effects country top survey school governance germany van de belgium university uk business school uk nabstract nthis article impact new public management npm reforms neuropean countries perceived top public sector officials using data survey conducted european countries look relationship nbetween five key npm reforms flexible employment practices four dimensions public sector cost efficiency service quality policy coordination access services structural service flexible employment related non four dimensions performance related efficiency also associated quality creation autonomous agencies performance nthis suggests policy makers seeking public sector prior managerial reforms within public organizations structural author hertie school governance berlin germany hertie school org ninternational review sciences vol author narticle com ndoi com home nhttp org nmailto hertie org nhttp uk com en nhttp dx doi org com home nhttp crossmark crossref org doi domain pdf date nfor article provides perspective top public sector impact npm public sector reforms number dimensions allows better understand relationship strategies outcomes european administration allows com top executives countries nkeywords new public management performance npublic sector reform top officials nintroduction nnew public management npm reforms public sector europe still many countries though new reform emerged impact npm governments europe still little systematic research evidence effects npm reforms nthe performance public sector across european countries nof npm reforms tend focused limited aspects outcomes moreover research large scale data analysis draw effects npm across countries nthis article new data debates impact npm top public sector officials perceptions changes public service european countries non four dimensions cost efficiency quality policy coordination equal access services nthese perceptions related five key npm reforms orientation flexible employment practices article comprehensive perceived npm reforms previously different dimensions public performance overall national provide insights administrative elite europe main drivers high public administration nthe article first current progress public sector reform address critical issues npm reforms explore nthe potentially positive negative effects npm reforms performance nof public services unique dataset study top public european countries introduced analytical model pre descriptive country level findings presented results international review administrative sciences model perceptions npm reforms perceived discussed article nthe implications theory practice public sector reform public sector reform field nresearch nresearch npm look changes structures processes nmost statements outcomes broad trends observations perhaps given nthe relatively far yet sometimes nature npm reforms van de npm described using public choice practice however administrative reforms practice experience purpose implementation process addition pre reform data typically difficult especially far reform makes evaluation nin recent study npm reforms europe nand found studies application npm within europe works offer direct empirical nanalysis small reforms particular outcomes evaluation nof specific european npm reforms perhaps reforms identified nfrom wider programmes trends van de oecd data researchers identify important country extent impact key npm reforms net al work effects public sector size employ nment nevertheless important challenges remain data comparative npm nin europe governments implemented different reforms often time becomes increasingly design studies establish effects et al moreover limited set indicators may available npm reforms example several studies impact reform internal processes procedures much attention paid relationship public service quality nresearch often focused range outcomes costs efficiency important goal npm reforms europe many npm cost see studies et al range outcomes et al evaluation relationship nbetween reforms public service efficiency van de study effects efficiency effectiveness local government examples multiple reforms outcomes npublic management reforms many trade nand may draw non existing data sources identify impact specific reforms within specific however administrative change across entire ngovernment require information outcomes different policy areas one way assess nments use large scale expert surveys draw upon survey data top public officials european ncountries give expert opinion relative importance different within policy area performance public services within ntheir country reforms public sector performance reforms make public sector work better nand cost less emphasis cost efficiency na greater focus service users attempts practices achieved reforms public sector business like give managers freedom however focused npm cause service provision distributed across different nsocial groups time possibility nand established lines accountability nhas costs benefits npm reforms europe past three decades see many npm require us various outcomes nour study therefore provides empirical analysis relationship npm reforms multiple outcomes across european countries nin focus five key structural managerial reforms nbeen prominent within central governments across europe aimed costs reforms create autonomous agencies place gov ministries reforms put public services orientation reforms increase ntion public service providers users flexible employment practices international review administrative sciences reforms make civil service less performance government state new right political united kingdom united states nto emergence npm key nearly npm reforms nin europe therefore bureaucracy argument government seek efficiency quality indeed even government suggested may public sector found despite decades structural within uk government costs rather nthe academic literature accounts benefits often organizational particular nwhere resources needed respond environmental change service quality et al although capacity government activities may loss key expertise expenditure seem likely result cost reason propose related efficiency related dimensions performance performance large government organizations autonomous units structural reform force organizations control professional managers politicians according agencies greater control resources public managers search efficient solutions service problems nmany cases process involves nand providing functions within public organizations order ning agents production prices pressure managers creating lines accountability nthrough assumed improve public administration overall nhowever certain functions direct administrative control organizational within government et al may potential et al gains indeed trend towards de coordination problems recently observed within government hence advance related efficiency related dimensions performance performance nthe motivation government contract services nthat costs public choice rights theories indicate service production away public competitive market nthe quality hypothesis et al private con may costs reducing quality public services provided groups usually public service quality nand turn lead government bring services back house nand nevertheless profit incentive private still likely generate cost services result suggest related efficiency nbut related dimensions performance orientation performance na key managerial reform associated npm move public citizens consumers efforts orientation public organizations reflect emphasis nthe private sectors market pressures nwhere citizens general public service users particular better nand better able influence decisions public service providers direct resources way day suggest initiatives lead service providers citizens thereby equal access key et al indeed pressure public yet time access groups seen npm reform debates van de although evidence international review administrative sciences non effects local public service users found actually perceptions different nsocial groups van de given potential aspects public service therefore treatment service users positive dimensions public service performance employment performance nin many european countries npm reforms focused ntional based model public employment towards position based one nwith flexible employment conditions et al position based per systems competitive entry flexible working arrangements related van de et al suggested civil servants position based systems may strongly based ones et al flexibility often associated loss job security effect workers commitment organization increasing nto however also provide employees design jobs since nmost public sector work flexible employment practices positive relationship public service performance outcomes overall performance ngiven focus npm reforms cost efficiency seems likely reforms performance may relationship perceptions overall public administration however also reforms nthat related across multiple performance dimensions nmore important determinants overall performance based arguments regarding positive effects managerial structural reforms final hypothesis managerial reforms stronger positive relationship nall public administration performance structural reforms et al ndata method ndata come survey part one largest comparative public research projects europe european commissions framework program public future www eu et al survey entire population top executives central government ministries nand agencies european countries see appendix surveys nin public administration survey first two levels executives well third hierarchical level countries ncountry designed international list respondents following designed et al nthrough team number countries result either email top executives france germany following initial response netherlands distributed nthe dataset article responses nthese countries overall response rate percent see although cannot claim full survey data nthe demographic characteristics sample respondents similar population public managers europe see oecd nwe define central government ministries percent respondents well government bodies central government level percent made spain germany two highly countries included regional state ministries percent one percent respondents top hierarchical level within ntheir organization another percent percent second third level public officials respectively terms npolicy fields respondents employed within general government per finance percent economic affairs percent justice public percent also well variables perceived performance performance outcomes perceived respondents significantly significantly scale used study survey questions policy area last five years nhow would rate way public administration following cost efficiency service quality policy ntion equal access services first well resources extent government price second well public services managed government high quality third international review administrative sciences nhttp www eu npublic policy quality policy development implementation nfinally availability services social ngroups extent poor people access public services people prior research found managers perceptions performance nbe sensitive ntable shows country level perceptions four performance across countries respondents positive nabout cost efficiency service quality less changes policy coordination equal access executives positive cost executives much less french negative service quality whereas executives positive executives see clear coordination whereas executives negative nthis finally french executives less positive equal access nto services whereas executives positive nabout performance dimension ntable perceived year change outcomes means ncountry npolicy nand coordination access nto services ngermany nthe netherlands nall countries significantly significantly total score based country et al also asked perception overall performance nof public administration country answer eu wide survey special question asked citizens specifically respondents asked scale better compared five years nwould developed comes way public country self report capture top perception well public sector managed whole nthe single measure hence dimensions measure organizational capacity measure overall quality government nfigure presents means standard measure performance across entire sample shows executives denmark netherlands sweden although mean one countries spain executives indicate overall public administration performance variables nthe presence npm reforms respondents point scale large extent importance reforms policy area public sector better mean ngermany nthe netherlands nfigure perceived year change public administration performance better mean international review administrative sciences des france creation autonomous law state agencies work programme uk treatment service users open government initiative flexible employment civil service law germany nfigure presents top public executives rate importance npm policy area across countries service users important reform followed autonomous agencies less important one likely explanation reforms mainly nin past nbecause npm reforms distributed across policy fields variables policy area added controls structural country controls added second part model nwe country policy field products country policy field made difference nto results expert developments npolicy area organization explain individual nlevel variation reason controls respondents age gender educational background added autonomous agencies employment npublic sector service users nfigure importance npm reform trends countries large extent score based equal country et al model structural process nwhich perceived importance npm reforms four ndifferent performance dimensions relationships dimensions nand overall evaluation public administration model factors able estimate total effects reform overall public administration performance well overall model figure model nthe overall measurement model good comparative index index mean since study variables using data respondents may generate common bias number ex post measures taken et al ex items non npm reforms perceived effects different parts single factor test offers evidence model nwhich indicators single factor poor furthermore nbetween npm reform variables outcome variables npublic sector npolicy users nas npublic administration nis run npolicy field ncountry controls access nto services nfigure model reform trends perceived outcomes international review administrative sciences nanalysis nthe results shown policy field country control estimates nwere results presented panel table show relationship nbetween four npm reform trends cost efficiency service quality policy coordination equal access services results panel indicate association respondents perceptions outcomes perceived overall public administration npm reforms public sector nthe creation autonomous agencies mostly performance positive ntable results reform trends outcomes efficiency npublic sector autonomous agencies service users employment quality npublic sector autonomous agencies service users employment npolicy coordination npublic sector autonomous agencies service users employment access services npublic sector autonomous agencies service users employment outcomes overall perceptions efficiency quality npolicy coordination access services et al nand statistically significant cost efficiency results nwhich hypotheses theoretical npolicy arguments reforms']"
            ]
          },
          "metadata": {
            "tags": []
          },
          "execution_count": 36
        }
      ]
    },
    {
      "cell_type": "markdown",
      "metadata": {
        "id": "TuazFYIPl-J1"
      },
      "source": [
        "Stopwords coming from layout, publisher etc still in there. Authors names as well "
      ]
    },
    {
      "cell_type": "markdown",
      "metadata": {
        "id": "stAb2Q4eBB3W"
      },
      "source": [
        "We don't discard the non-preprocessed texts, because we are going to use them as input for obtaining the contextualized document representations. \n",
        "\n",
        "Let's pass our files with preprocess and unpreprocessed data to our `TopicModelDataPreparation` object. This object takes care of creating the bag of words for you and of obtaining the contextualized BERT representations of documents. This operation allows us to create our training dataset. "
      ]
    },
    {
      "cell_type": "code",
      "metadata": {
        "id": "KhLt6VA3wvCB",
        "colab": {
          "base_uri": "https://localhost:8080/",
          "height": 49,
          "referenced_widgets": [
            "07cf40e9c11e475fa0699ece7ac341d1",
            "61e296e3d053493d8e0c8942c0895fe1",
            "0de841b94aed4a009ab2f6cd5232a289",
            "5959eadaa1994443bf5c888ba618640b",
            "be076e47d6094f5eb7ec3db102ad79c3",
            "4b289d15dff54f43a7831d4aa434794f",
            "2a98471f521246659e395ec528620d58",
            "b61c2d49969345168d631ca30cf39752",
            "665273e380844973aa07e9a5841ac888",
            "a16aead81d094d008b1656b646e0a71f",
            "79e457224c8849c4be8ab0678adce81c"
          ]
        },
        "outputId": "765df72f-b4b9-4b5c-e45b-e16245f3aa3f"
      },
      "source": [
        "#Note: Here we use the contextualized model \"distiluse-base-multilingual-cased\", because we need a multilingual model for performing cross-lingual predictions later. Maybe switch to English at a later point\n",
        "tp = TopicModelDataPreparation(\"distiluse-base-multilingual-cased\")\n",
        "\n",
        "training_dataset = tp.create_training_set(text_for_contextual=unpreprocessed_corpus, text_for_bow=preprocessed_documents)"
      ],
      "execution_count": 37,
      "outputs": [
        {
          "output_type": "display_data",
          "data": {
            "application/vnd.jupyter.widget-view+json": {
              "model_id": "07cf40e9c11e475fa0699ece7ac341d1",
              "version_minor": 0,
              "version_major": 2
            },
            "text/plain": [
              "Batches:   0%|          | 0/5 [00:00<?, ?it/s]"
            ]
          },
          "metadata": {
            "tags": []
          }
        }
      ]
    },
    {
      "cell_type": "markdown",
      "metadata": {
        "id": "-aevSxSBbYZG"
      },
      "source": [
        "Let's check the first thirty words of the vocabulary "
      ]
    },
    {
      "cell_type": "code",
      "metadata": {
        "colab": {
          "base_uri": "https://localhost:8080/"
        },
        "id": "evwSKgdyyhWq",
        "outputId": "d78b3481-0899-43bc-cbb8-bd57162d36d6"
      },
      "source": [
        "tp.vocab[:30]"
      ],
      "execution_count": 39,
      "outputs": [
        {
          "output_type": "execute_result",
          "data": {
            "text/plain": [
              "['ability',\n",
              " 'able',\n",
              " 'absence',\n",
              " 'ac',\n",
              " 'academic',\n",
              " 'accepted',\n",
              " 'access',\n",
              " 'according',\n",
              " 'account',\n",
              " 'accountability',\n",
              " 'accounting',\n",
              " 'accounts',\n",
              " 'achieve',\n",
              " 'achieved',\n",
              " 'across',\n",
              " 'act',\n",
              " 'action',\n",
              " 'actions',\n",
              " 'active',\n",
              " 'activities',\n",
              " 'activity',\n",
              " 'actor',\n",
              " 'actors',\n",
              " 'actual',\n",
              " 'actually',\n",
              " 'ad',\n",
              " 'adaptation',\n",
              " 'added',\n",
              " 'addition',\n",
              " 'additional']"
            ]
          },
          "metadata": {
            "tags": []
          },
          "execution_count": 39
        }
      ]
    },
    {
      "cell_type": "markdown",
      "metadata": {
        "id": "4x-esnySk7uO"
      },
      "source": [
        "## Training our Zero-Shot Contextualized Topic Model\n",
        "\n",
        "Finally, we can fit our new topic model. We will ask the model to find 50 topics in our collection (n_component parameter of the CTM object)."
      ]
    },
    {
      "cell_type": "code",
      "metadata": {
        "id": "9I3ThmBf0BcK",
        "colab": {
          "base_uri": "https://localhost:8080/"
        },
        "outputId": "9a864e48-b564-425b-c1b9-5fa221756be8"
      },
      "source": [
        "ctm = ZeroShotTM(input_size=len(tp.vocab), bert_input_size=512, n_components=50, num_epochs=15)\n",
        "ctm.fit(training_dataset) # run the model\n"
      ],
      "execution_count": 41,
      "outputs": [
        {
          "output_type": "stream",
          "text": [
            "Epoch: [15/15]\t Seen Samples: [12150/12150]\tTrain Loss: 13821.533410493827\tTime: 0:00:00.416182: : 15it [00:06,  2.39it/s]\n"
          ],
          "name": "stderr"
        }
      ]
    },
    {
      "cell_type": "markdown",
      "metadata": {
        "id": "-SEBG6wj9Zdu"
      },
      "source": [
        "# Topics\n",
        "\n",
        "After training, now it is the time to look at our topics: we can use the \n",
        "\n",
        "```\n",
        "get_topic_lists\n",
        "```\n",
        "\n",
        "function to get the topics. It also accepts a parameter that allows you to select how many words you want to see for each topic.\n",
        "\n",
        "If you look at the topics, you will see that they all make sense and are representative of a collection of documents that comes from Wikipedia (general knowledge). Notice that the topics are in English, because we trained the model on English documents."
      ]
    },
    {
      "cell_type": "code",
      "metadata": {
        "id": "lxcKgjbx3V2o",
        "colab": {
          "base_uri": "https://localhost:8080/"
        },
        "outputId": "f22e3e49-504a-4145-c1c4-65d7ce06accf"
      },
      "source": [
        "ctm.get_topic_lists(5)"
      ],
      "execution_count": 42,
      "outputs": [
        {
          "output_type": "execute_result",
          "data": {
            "text/plain": [
              "[['research', 'higher', 'cognitive', 'effect', 'social'],\n",
              " ['task', 'al', 'www', 'innovation', 'dual'],\n",
              " ['size', 'price', 'majority', 'funds', 'analysis'],\n",
              " ['new', 'may', 'productivity', 'et', 'firms'],\n",
              " ['increases', 'range', 'small', 'often', 'likely'],\n",
              " ['sector', 'bank', 'often', 'concern', 'expenditures'],\n",
              " ['data', 'use', 'information', 'policy', 'bank'],\n",
              " ['informal', 'analysis', 'normative', 'vote', 'de'],\n",
              " ['fertility', 'nand', 'research', 'sector', 'data'],\n",
              " ['issue', 'dominant', 'increases', 'probability', 'good'],\n",
              " ['et', 'increases', 'law', 'legislation', 'uses'],\n",
              " ['social', 'energy', 'based', 'low', 'policy'],\n",
              " ['governments', 'private', 'governance', 'regimes', 'government'],\n",
              " ['model', 'growth', 'nthe', 'global', 'welfare'],\n",
              " ['countries', 'economy', 'country', 'organizations', 'nsome'],\n",
              " ['vote', 'support', 'change', 'parties', 'global'],\n",
              " ['online', 'voters', 'term', 'participants', 'found'],\n",
              " ['migration', 'system', 'market', 'new', 'research'],\n",
              " ['integration', 'analysis', 'use', 'policies', 'germany'],\n",
              " ['social', 'people', 'small', 'formation', 'others'],\n",
              " ['dominant', 'published', 'berlin', 'otherwise', 'limitations'],\n",
              " ['firms', 'nfigure', 'energy', 'new', 'europe'],\n",
              " ['argument', 'lack', 'majority', 'der', 'first'],\n",
              " ['et', 'research', 'one', 'set', 'al'],\n",
              " ['article', 'education', 'nand', 'regulations', 'energy'],\n",
              " ['nh', 'nkeywords', 'ne', 'direction', 'continue'],\n",
              " ['core', 'capacity', 'study', 'journal', 'cambridge'],\n",
              " ['energy', 'digital', 'associated', 'wage', 'impact'],\n",
              " ['rights', 'system', 'robot', 'groups', 'convention'],\n",
              " ['state', 'energy', 'research', 'terms', 'economic'],\n",
              " ['governments', 'vote', 'administration', 'management', 'sharing'],\n",
              " ['per', 'public', 'significant', 'global', 'nwe'],\n",
              " ['impact', 'eu', 'role', 'internet', 'less'],\n",
              " ['rights', 'germany', 'human', 'school', 'www'],\n",
              " ['quantitative', 'economic', 'estimated', 'pp', 'us'],\n",
              " ['education', 'affects', 'nbecause', 'pre', 'nwe'],\n",
              " ['value', 'actors', 'policy', 'school', 'us'],\n",
              " ['programme', 'statistical', 'eurostat', 'report', 'south'],\n",
              " ['state', 'policy', 'trade', 'und', 'die'],\n",
              " ['state', 'found', 'income', 'economics', 'fertility'],\n",
              " ['management', 'value', 'capital', 'presence', 'quality'],\n",
              " ['nthe', 'international', 'ntive', 'power', 'law'],\n",
              " ['et', 'however', 'al', 'states', 'nto'],\n",
              " ['social', 'performance', 'nu', 'np', 'organizational'],\n",
              " ['unique', 'sufficient', 'depend', 'efficient', 'words'],\n",
              " ['org', 'environment', 'data', 'published', 'und'],\n",
              " ['care', 'one', 'day', 'media', 'ne'],\n",
              " ['human', 'costs', 'sector', 'financial', 'international'],\n",
              " ['management', 'countries', 'resources', 'two', 'vote'],\n",
              " ['rights', 'states', 'state', 'countries', 'und']]"
            ]
          },
          "metadata": {
            "tags": []
          },
          "execution_count": 42
        }
      ]
    }
  ]
}