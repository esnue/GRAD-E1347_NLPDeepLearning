{
  "nbformat": 4,
  "nbformat_minor": 0,
  "metadata": {
    "colab": {
      "name": "Visualization.ipynb",
      "provenance": [],
      "include_colab_link": true
    },
    "kernelspec": {
      "name": "python3",
      "display_name": "Python 3"
    },
    "language_info": {
      "name": "python"
    }
  },
  "cells": [
    {
      "cell_type": "markdown",
      "metadata": {
        "id": "view-in-github",
        "colab_type": "text"
      },
      "source": [
        "<a href=\"https://colab.research.google.com/github/esnue/ThesisAllocationSystem/blob/main/4_Visualization.ipynb\" target=\"_parent\"><img src=\"https://colab.research.google.com/assets/colab-badge.svg\" alt=\"Open In Colab\"/></a>"
      ]
    },
    {
      "cell_type": "markdown",
      "metadata": {
        "id": "VWjDwnqJdYht"
      },
      "source": [
        "# Visualization of CTM output results\n",
        "In this notebook, we will visualize our CTM output. "
      ]
    },
    {
      "cell_type": "markdown",
      "metadata": {
        "id": "JTudzMQqeCZV"
      },
      "source": [
        "## Import what we need"
      ]
    },
    {
      "cell_type": "code",
      "metadata": {
        "id": "66vi-i35dhGD"
      },
      "source": [
        "import pandas as pd\n",
        "import numpy as np\n",
        "import matplotlib.pyplot as plt\n",
        "from collections import Counter\n",
        "import matplotlib.colors as mcolors"
      ],
      "execution_count": 2,
      "outputs": []
    },
    {
      "cell_type": "markdown",
      "metadata": {
        "id": "PF42c6exdo5N"
      },
      "source": [
        "## Data\n",
        "Let's import the dataframe that holds all of the relevant CTM outputs for our corpus of academic papers. "
      ]
    },
    {
      "cell_type": "code",
      "metadata": {
        "colab": {
          "base_uri": "https://localhost:8080/"
        },
        "id": "eO_o0RrsdmD7",
        "outputId": "49664a9e-69da-46c8-bd81-d47c1ef72f12"
      },
      "source": [
        "from google.colab import drive\n",
        "drive.mount('/content/drive')"
      ],
      "execution_count": null,
      "outputs": [
        {
          "output_type": "stream",
          "text": [
            "Drive already mounted at /content/drive; to attempt to forcibly remount, call drive.mount(\"/content/drive\", force_remount=True).\n"
          ],
          "name": "stdout"
        }
      ]
    },
    {
      "cell_type": "code",
      "metadata": {
        "colab": {
          "base_uri": "https://localhost:8080/"
        },
        "id": "M7CttUE0d5-T",
        "outputId": "dc8a7593-d753-4981-feaf-b1c0d612eaba"
      },
      "source": [
        "topics_df = pd.read_csv('/content/drive/MyDrive/ThesisAllocationSystem/data_final/ctm_label/train-label.csv')\n",
        "\n",
        "print(topics_df.sample(5))\n",
        "print(\"There are \", len(topics_df.topic_id.unique()), \"topics in total.\")"
      ],
      "execution_count": null,
      "outputs": [
        {
          "output_type": "stream",
          "text": [
            "             prof  ...                                       distribution\n",
            "69   Jankin31.txt  ...  [0.3047329291701317, 0.03640054653515108, 0.07...\n",
            "252    Graf19.txt  ...  [0.024429706582981225, 0.10361603614691325, 0....\n",
            "632    Mair40.txt  ...  [0.17695424752309918, 0.032866972556803375, 0....\n",
            "687      reh3.txt  ...  [0.03768790876492858, 0.15055828373879193, 0.0...\n",
            "435  kayser29.txt  ...  [0.032081148817087526, 0.053705329436343166, 0...\n",
            "\n",
            "[5 rows x 4 columns]\n",
            "There are  14 topics in total.\n"
          ],
          "name": "stdout"
        }
      ]
    },
    {
      "cell_type": "markdown",
      "metadata": {
        "id": "oNa1mn2CRz1i"
      },
      "source": [
        "## Create wide & long format"
      ]
    },
    {
      "cell_type": "code",
      "metadata": {
        "colab": {
          "base_uri": "https://localhost:8080/",
          "height": 195
        },
        "id": "huhss1ZzOAol",
        "outputId": "b21b2c1a-3eb6-45ef-d204-f8b73903da3c"
      },
      "source": [
        "# Extract list of topic proportions \n",
        "list_prop = topics_df.iloc[:,3]\n",
        "\n",
        "# Convert to float array\n",
        "ar_float = np.array([[float(i) for i in j[1:-1].split(', ')] for j in list_prop])\n",
        "\n",
        "# Create col labels \n",
        "topics = []\n",
        "for i in list(range(0, 14)):\n",
        "     topics.append('Topic' + str(i))\n",
        "\n",
        "# Add col labels to float array\n",
        "topiclab_df = pd.DataFrame(data = ar_float, columns=topics)\n",
        "topiclab_df.head()"
      ],
      "execution_count": null,
      "outputs": [
        {
          "output_type": "execute_result",
          "data": {
            "text/html": [
              "<div>\n",
              "<style scoped>\n",
              "    .dataframe tbody tr th:only-of-type {\n",
              "        vertical-align: middle;\n",
              "    }\n",
              "\n",
              "    .dataframe tbody tr th {\n",
              "        vertical-align: top;\n",
              "    }\n",
              "\n",
              "    .dataframe thead th {\n",
              "        text-align: right;\n",
              "    }\n",
              "</style>\n",
              "<table border=\"1\" class=\"dataframe\">\n",
              "  <thead>\n",
              "    <tr style=\"text-align: right;\">\n",
              "      <th></th>\n",
              "      <th>Topic0</th>\n",
              "      <th>Topic1</th>\n",
              "      <th>Topic2</th>\n",
              "      <th>Topic3</th>\n",
              "      <th>Topic4</th>\n",
              "      <th>Topic5</th>\n",
              "      <th>Topic6</th>\n",
              "      <th>Topic7</th>\n",
              "      <th>Topic8</th>\n",
              "      <th>Topic9</th>\n",
              "      <th>Topic10</th>\n",
              "      <th>Topic11</th>\n",
              "      <th>Topic12</th>\n",
              "      <th>Topic13</th>\n",
              "    </tr>\n",
              "  </thead>\n",
              "  <tbody>\n",
              "    <tr>\n",
              "      <th>0</th>\n",
              "      <td>0.029148</td>\n",
              "      <td>0.048317</td>\n",
              "      <td>0.042798</td>\n",
              "      <td>0.414977</td>\n",
              "      <td>0.024886</td>\n",
              "      <td>0.010979</td>\n",
              "      <td>0.015934</td>\n",
              "      <td>0.020120</td>\n",
              "      <td>0.045134</td>\n",
              "      <td>0.119140</td>\n",
              "      <td>0.035784</td>\n",
              "      <td>0.031800</td>\n",
              "      <td>0.120523</td>\n",
              "      <td>0.040462</td>\n",
              "    </tr>\n",
              "    <tr>\n",
              "      <th>1</th>\n",
              "      <td>0.059049</td>\n",
              "      <td>0.042824</td>\n",
              "      <td>0.050354</td>\n",
              "      <td>0.098719</td>\n",
              "      <td>0.059226</td>\n",
              "      <td>0.030231</td>\n",
              "      <td>0.024346</td>\n",
              "      <td>0.030732</td>\n",
              "      <td>0.044437</td>\n",
              "      <td>0.406889</td>\n",
              "      <td>0.045451</td>\n",
              "      <td>0.034186</td>\n",
              "      <td>0.030652</td>\n",
              "      <td>0.042904</td>\n",
              "    </tr>\n",
              "    <tr>\n",
              "      <th>2</th>\n",
              "      <td>0.074832</td>\n",
              "      <td>0.020230</td>\n",
              "      <td>0.431732</td>\n",
              "      <td>0.022440</td>\n",
              "      <td>0.037525</td>\n",
              "      <td>0.034745</td>\n",
              "      <td>0.063733</td>\n",
              "      <td>0.168694</td>\n",
              "      <td>0.052268</td>\n",
              "      <td>0.040004</td>\n",
              "      <td>0.007308</td>\n",
              "      <td>0.027191</td>\n",
              "      <td>0.010105</td>\n",
              "      <td>0.009194</td>\n",
              "    </tr>\n",
              "    <tr>\n",
              "      <th>3</th>\n",
              "      <td>0.022292</td>\n",
              "      <td>0.025449</td>\n",
              "      <td>0.048664</td>\n",
              "      <td>0.168182</td>\n",
              "      <td>0.027363</td>\n",
              "      <td>0.013397</td>\n",
              "      <td>0.012804</td>\n",
              "      <td>0.020017</td>\n",
              "      <td>0.044615</td>\n",
              "      <td>0.477421</td>\n",
              "      <td>0.039641</td>\n",
              "      <td>0.026206</td>\n",
              "      <td>0.041068</td>\n",
              "      <td>0.032882</td>\n",
              "    </tr>\n",
              "    <tr>\n",
              "      <th>4</th>\n",
              "      <td>0.055413</td>\n",
              "      <td>0.075328</td>\n",
              "      <td>0.044877</td>\n",
              "      <td>0.174996</td>\n",
              "      <td>0.050884</td>\n",
              "      <td>0.017417</td>\n",
              "      <td>0.020037</td>\n",
              "      <td>0.033000</td>\n",
              "      <td>0.053647</td>\n",
              "      <td>0.109604</td>\n",
              "      <td>0.104331</td>\n",
              "      <td>0.048740</td>\n",
              "      <td>0.161123</td>\n",
              "      <td>0.050602</td>\n",
              "    </tr>\n",
              "  </tbody>\n",
              "</table>\n",
              "</div>"
            ],
            "text/plain": [
              "     Topic0    Topic1    Topic2  ...   Topic11   Topic12   Topic13\n",
              "0  0.029148  0.048317  0.042798  ...  0.031800  0.120523  0.040462\n",
              "1  0.059049  0.042824  0.050354  ...  0.034186  0.030652  0.042904\n",
              "2  0.074832  0.020230  0.431732  ...  0.027191  0.010105  0.009194\n",
              "3  0.022292  0.025449  0.048664  ...  0.026206  0.041068  0.032882\n",
              "4  0.055413  0.075328  0.044877  ...  0.048740  0.161123  0.050602\n",
              "\n",
              "[5 rows x 14 columns]"
            ]
          },
          "metadata": {
            "tags": []
          },
          "execution_count": 7
        }
      ]
    },
    {
      "cell_type": "code",
      "metadata": {
        "id": "uWmXGGEzFXpZ"
      },
      "source": [
        "# Change col name \n",
        "topics_df.rename(columns={\"topic\": \"topic_words\"}, inplace = True)\n",
        "\n",
        "# Append wide format to topics_df\n",
        "topics_df_wide = pd.concat([topics_df.iloc[:, 0:3], topiclab_df], axis = 1)\n",
        "\n",
        "# Reshape to long format\n",
        "topics_df_long = topics_df_wide.melt(id_vars = ['prof', 'topic_id', 'topic_words'],\n",
        "                                     var_name = 'topic',\n",
        "                                     value_name = 'topic_prop')"
      ],
      "execution_count": null,
      "outputs": []
    },
    {
      "cell_type": "code",
      "metadata": {
        "id": "2BtfScfcWvp8",
        "colab": {
          "base_uri": "https://localhost:8080/"
        },
        "outputId": "92922c89-d36c-4d2b-f89a-87b280c09071"
      },
      "source": [
        "print(\"This is the wide format.\\n\", topics_df_wide.head(5))\n",
        "print(\"This is the long format.\\n\", topics_df_long.head(5))"
      ],
      "execution_count": null,
      "outputs": [
        {
          "output_type": "stream",
          "text": [
            "This is the wide format.\n",
            "                 prof  topic_id  ...   Topic12   Topic13\n",
            "0  Hammerschmid1.txt         3  ...  0.120523  0.040462\n",
            "1  Hammerschmid2.txt         9  ...  0.030652  0.042904\n",
            "2  Hammerschmid3.txt         2  ...  0.010105  0.009194\n",
            "3  Hammerschmid4.txt         9  ...  0.041068  0.032882\n",
            "4  Hammerschmid5.txt         3  ...  0.161123  0.050602\n",
            "\n",
            "[5 rows x 17 columns]\n",
            "This is the long format.\n",
            "                 prof  topic_id  ...   topic topic_prop\n",
            "0  Hammerschmid1.txt         3  ...  Topic0   0.029148\n",
            "1  Hammerschmid2.txt         9  ...  Topic0   0.059049\n",
            "2  Hammerschmid3.txt         2  ...  Topic0   0.074832\n",
            "3  Hammerschmid4.txt         9  ...  Topic0   0.022292\n",
            "4  Hammerschmid5.txt         3  ...  Topic0   0.055413\n",
            "\n",
            "[5 rows x 5 columns]\n"
          ],
          "name": "stdout"
        }
      ]
    },
    {
      "cell_type": "code",
      "metadata": {
        "id": "6I98ELh5BOxz"
      },
      "source": [
        "# Save wide and long formats \n",
        "topics_df_wide.to_csv('/content/drive/MyDrive/ThesisAllocationSystem/data_final/ctm_label/train-label_wide.csv', index = False)\n",
        "topics_df_wide.to_csv('/content/drive/MyDrive/ThesisAllocationSystem/data_final/ctm_label/train-label_long.csv', index = False)"
      ],
      "execution_count": null,
      "outputs": []
    },
    {
      "cell_type": "markdown",
      "metadata": {
        "id": "DJROyYUCo8Eq"
      },
      "source": [
        "## Stacked Bar Chart"
      ]
    },
    {
      "cell_type": "code",
      "metadata": {
        "id": "yYiHZpuOv66R",
        "colab": {
          "base_uri": "https://localhost:8080/",
          "height": 402
        },
        "outputId": "bc74b662-0af8-4f82-edca-2fa880cb4343"
      },
      "source": [
        "topics_df_wide.iloc[:, 4:31]"
      ],
      "execution_count": null,
      "outputs": [
        {
          "output_type": "execute_result",
          "data": {
            "text/html": [
              "<div>\n",
              "<style scoped>\n",
              "    .dataframe tbody tr th:only-of-type {\n",
              "        vertical-align: middle;\n",
              "    }\n",
              "\n",
              "    .dataframe tbody tr th {\n",
              "        vertical-align: top;\n",
              "    }\n",
              "\n",
              "    .dataframe thead th {\n",
              "        text-align: right;\n",
              "    }\n",
              "</style>\n",
              "<table border=\"1\" class=\"dataframe\">\n",
              "  <thead>\n",
              "    <tr style=\"text-align: right;\">\n",
              "      <th></th>\n",
              "      <th>Topic1</th>\n",
              "      <th>Topic2</th>\n",
              "      <th>Topic3</th>\n",
              "      <th>Topic4</th>\n",
              "      <th>Topic5</th>\n",
              "      <th>Topic6</th>\n",
              "      <th>Topic7</th>\n",
              "      <th>Topic8</th>\n",
              "      <th>Topic9</th>\n",
              "      <th>Topic10</th>\n",
              "      <th>Topic11</th>\n",
              "      <th>Topic12</th>\n",
              "      <th>Topic13</th>\n",
              "    </tr>\n",
              "  </thead>\n",
              "  <tbody>\n",
              "    <tr>\n",
              "      <th>0</th>\n",
              "      <td>0.048317</td>\n",
              "      <td>0.042798</td>\n",
              "      <td>0.414977</td>\n",
              "      <td>0.024886</td>\n",
              "      <td>0.010979</td>\n",
              "      <td>0.015934</td>\n",
              "      <td>0.020120</td>\n",
              "      <td>0.045134</td>\n",
              "      <td>0.119140</td>\n",
              "      <td>0.035784</td>\n",
              "      <td>0.031800</td>\n",
              "      <td>0.120523</td>\n",
              "      <td>0.040462</td>\n",
              "    </tr>\n",
              "    <tr>\n",
              "      <th>1</th>\n",
              "      <td>0.042824</td>\n",
              "      <td>0.050354</td>\n",
              "      <td>0.098719</td>\n",
              "      <td>0.059226</td>\n",
              "      <td>0.030231</td>\n",
              "      <td>0.024346</td>\n",
              "      <td>0.030732</td>\n",
              "      <td>0.044437</td>\n",
              "      <td>0.406889</td>\n",
              "      <td>0.045451</td>\n",
              "      <td>0.034186</td>\n",
              "      <td>0.030652</td>\n",
              "      <td>0.042904</td>\n",
              "    </tr>\n",
              "    <tr>\n",
              "      <th>2</th>\n",
              "      <td>0.020230</td>\n",
              "      <td>0.431732</td>\n",
              "      <td>0.022440</td>\n",
              "      <td>0.037525</td>\n",
              "      <td>0.034745</td>\n",
              "      <td>0.063733</td>\n",
              "      <td>0.168694</td>\n",
              "      <td>0.052268</td>\n",
              "      <td>0.040004</td>\n",
              "      <td>0.007308</td>\n",
              "      <td>0.027191</td>\n",
              "      <td>0.010105</td>\n",
              "      <td>0.009194</td>\n",
              "    </tr>\n",
              "    <tr>\n",
              "      <th>3</th>\n",
              "      <td>0.025449</td>\n",
              "      <td>0.048664</td>\n",
              "      <td>0.168182</td>\n",
              "      <td>0.027363</td>\n",
              "      <td>0.013397</td>\n",
              "      <td>0.012804</td>\n",
              "      <td>0.020017</td>\n",
              "      <td>0.044615</td>\n",
              "      <td>0.477421</td>\n",
              "      <td>0.039641</td>\n",
              "      <td>0.026206</td>\n",
              "      <td>0.041068</td>\n",
              "      <td>0.032882</td>\n",
              "    </tr>\n",
              "    <tr>\n",
              "      <th>4</th>\n",
              "      <td>0.075328</td>\n",
              "      <td>0.044877</td>\n",
              "      <td>0.174996</td>\n",
              "      <td>0.050884</td>\n",
              "      <td>0.017417</td>\n",
              "      <td>0.020037</td>\n",
              "      <td>0.033000</td>\n",
              "      <td>0.053647</td>\n",
              "      <td>0.109604</td>\n",
              "      <td>0.104331</td>\n",
              "      <td>0.048740</td>\n",
              "      <td>0.161123</td>\n",
              "      <td>0.050602</td>\n",
              "    </tr>\n",
              "    <tr>\n",
              "      <th>...</th>\n",
              "      <td>...</td>\n",
              "      <td>...</td>\n",
              "      <td>...</td>\n",
              "      <td>...</td>\n",
              "      <td>...</td>\n",
              "      <td>...</td>\n",
              "      <td>...</td>\n",
              "      <td>...</td>\n",
              "      <td>...</td>\n",
              "      <td>...</td>\n",
              "      <td>...</td>\n",
              "      <td>...</td>\n",
              "      <td>...</td>\n",
              "    </tr>\n",
              "    <tr>\n",
              "      <th>804</th>\n",
              "      <td>0.062753</td>\n",
              "      <td>0.030189</td>\n",
              "      <td>0.174324</td>\n",
              "      <td>0.036210</td>\n",
              "      <td>0.027832</td>\n",
              "      <td>0.034370</td>\n",
              "      <td>0.051825</td>\n",
              "      <td>0.077760</td>\n",
              "      <td>0.115790</td>\n",
              "      <td>0.088033</td>\n",
              "      <td>0.051666</td>\n",
              "      <td>0.103583</td>\n",
              "      <td>0.052541</td>\n",
              "    </tr>\n",
              "    <tr>\n",
              "      <th>805</th>\n",
              "      <td>0.130309</td>\n",
              "      <td>0.043891</td>\n",
              "      <td>0.054486</td>\n",
              "      <td>0.028472</td>\n",
              "      <td>0.022347</td>\n",
              "      <td>0.027582</td>\n",
              "      <td>0.039934</td>\n",
              "      <td>0.042507</td>\n",
              "      <td>0.068508</td>\n",
              "      <td>0.067624</td>\n",
              "      <td>0.045281</td>\n",
              "      <td>0.264126</td>\n",
              "      <td>0.051174</td>\n",
              "    </tr>\n",
              "    <tr>\n",
              "      <th>806</th>\n",
              "      <td>0.065257</td>\n",
              "      <td>0.053638</td>\n",
              "      <td>0.062761</td>\n",
              "      <td>0.080346</td>\n",
              "      <td>0.029300</td>\n",
              "      <td>0.031227</td>\n",
              "      <td>0.048830</td>\n",
              "      <td>0.036084</td>\n",
              "      <td>0.081297</td>\n",
              "      <td>0.153285</td>\n",
              "      <td>0.038173</td>\n",
              "      <td>0.124845</td>\n",
              "      <td>0.040819</td>\n",
              "    </tr>\n",
              "    <tr>\n",
              "      <th>807</th>\n",
              "      <td>0.110885</td>\n",
              "      <td>0.060119</td>\n",
              "      <td>0.072842</td>\n",
              "      <td>0.039532</td>\n",
              "      <td>0.036266</td>\n",
              "      <td>0.037323</td>\n",
              "      <td>0.034770</td>\n",
              "      <td>0.046310</td>\n",
              "      <td>0.041758</td>\n",
              "      <td>0.059900</td>\n",
              "      <td>0.051411</td>\n",
              "      <td>0.257348</td>\n",
              "      <td>0.065576</td>\n",
              "    </tr>\n",
              "    <tr>\n",
              "      <th>808</th>\n",
              "      <td>0.049499</td>\n",
              "      <td>0.155102</td>\n",
              "      <td>0.033816</td>\n",
              "      <td>0.037992</td>\n",
              "      <td>0.050297</td>\n",
              "      <td>0.119430</td>\n",
              "      <td>0.109893</td>\n",
              "      <td>0.034393</td>\n",
              "      <td>0.027391</td>\n",
              "      <td>0.056662</td>\n",
              "      <td>0.260915</td>\n",
              "      <td>0.029725</td>\n",
              "      <td>0.010131</td>\n",
              "    </tr>\n",
              "  </tbody>\n",
              "</table>\n",
              "<p>809 rows × 13 columns</p>\n",
              "</div>"
            ],
            "text/plain": [
              "       Topic1    Topic2    Topic3  ...   Topic11   Topic12   Topic13\n",
              "0    0.048317  0.042798  0.414977  ...  0.031800  0.120523  0.040462\n",
              "1    0.042824  0.050354  0.098719  ...  0.034186  0.030652  0.042904\n",
              "2    0.020230  0.431732  0.022440  ...  0.027191  0.010105  0.009194\n",
              "3    0.025449  0.048664  0.168182  ...  0.026206  0.041068  0.032882\n",
              "4    0.075328  0.044877  0.174996  ...  0.048740  0.161123  0.050602\n",
              "..        ...       ...       ...  ...       ...       ...       ...\n",
              "804  0.062753  0.030189  0.174324  ...  0.051666  0.103583  0.052541\n",
              "805  0.130309  0.043891  0.054486  ...  0.045281  0.264126  0.051174\n",
              "806  0.065257  0.053638  0.062761  ...  0.038173  0.124845  0.040819\n",
              "807  0.110885  0.060119  0.072842  ...  0.051411  0.257348  0.065576\n",
              "808  0.049499  0.155102  0.033816  ...  0.260915  0.029725  0.010131\n",
              "\n",
              "[809 rows x 13 columns]"
            ]
          },
          "metadata": {
            "tags": []
          },
          "execution_count": 10
        }
      ]
    },
    {
      "cell_type": "code",
      "metadata": {
        "colab": {
          "base_uri": "https://localhost:8080/"
        },
        "id": "nY2PUFB0oc5g",
        "outputId": "018fba65-57c3-4754-afcd-d9db0303510c"
      },
      "source": [
        "# Confirm percentage distribution by summing the percentages in each topic\n",
        "topics_df_wide.iloc[:, 4:31].sum(axis=1) "
      ],
      "execution_count": null,
      "outputs": [
        {
          "output_type": "execute_result",
          "data": {
            "text/plain": [
              "0      0.970852\n",
              "1      0.940951\n",
              "2      0.925168\n",
              "3      0.977708\n",
              "4      0.944587\n",
              "         ...   \n",
              "804    0.906876\n",
              "805    0.886241\n",
              "806    0.845861\n",
              "807    0.914041\n",
              "808    0.975248\n",
              "Length: 809, dtype: float64"
            ]
          },
          "metadata": {
            "tags": []
          },
          "execution_count": 11
        }
      ]
    },
    {
      "cell_type": "code",
      "metadata": {
        "id": "79Jsf4whspSL"
      },
      "source": [
        "# Remove number and .txt from prof\n",
        "topics_df_wide['prof'] = topics_df_wide['prof'].str.replace('[0-9]', '').str.replace('\\.txt', '').str.upper()\n",
        "\n",
        "# Create bar chart df \n",
        "bardat1 = pd.concat([topics_df_wide['prof'], topics_df_wide.iloc[:, 3:31]], axis = 1)"
      ],
      "execution_count": null,
      "outputs": []
    },
    {
      "cell_type": "code",
      "metadata": {
        "colab": {
          "base_uri": "https://localhost:8080/"
        },
        "id": "zvvbYn-9K2wp",
        "outputId": "619c00f9-690f-443a-b965-a1def0292953"
      },
      "source": [
        "# Solution 1: Average topic proportions per professor \n",
        "bardat2 = bardat1.groupby('prof').mean().reset_index()\n",
        "print(bardat2.head(5))"
      ],
      "execution_count": null,
      "outputs": [
        {
          "output_type": "stream",
          "text": [
            "        prof    Topic0    Topic1  ...   Topic11   Topic12   Topic13\n",
            "0    ANHEIER  0.040446  0.050941  ...  0.096038  0.061919  0.042222\n",
            "1     BRYSON  0.087904  0.043664  ...  0.039731  0.020097  0.032208\n",
            "2       CALI  0.014002  0.598022  ...  0.135978  0.029262  0.012222\n",
            "3  CINGOLANI  0.072019  0.053463  ...  0.043417  0.086562  0.059086\n",
            "4        CIS  0.032580  0.055990  ...  0.043216  0.043860  0.026285\n",
            "\n",
            "[5 rows x 15 columns]\n"
          ],
          "name": "stdout"
        }
      ]
    },
    {
      "cell_type": "code",
      "metadata": {
        "colab": {
          "base_uri": "https://localhost:8080/",
          "height": 951
        },
        "id": "OGLeQbW-4UYo",
        "outputId": "987f185a-fc99-4064-8bbe-22232962cea5"
      },
      "source": [
        "plt.rcParams[\"figure.figsize\"] = [20,16]\n",
        "bardat2.plot(\n",
        "    x = 'prof',\n",
        "    kind = 'barh',\n",
        "    stacked = True,\n",
        "    title = 'Distribution of Professors in Topics',\n",
        "    mark_right = True)"
      ],
      "execution_count": null,
      "outputs": [
        {
          "output_type": "execute_result",
          "data": {
            "text/plain": [
              "<matplotlib.axes._subplots.AxesSubplot at 0x7fb5419d4f50>"
            ]
          },
          "metadata": {
            "tags": []
          },
          "execution_count": 14
        },
        {
          "output_type": "display_data",
          "data": {
            "image/png": "[encoded data removed]",
            "text/plain": [
              "<Figure size 1440x1152 with 1 Axes>"
            ]
          },
          "metadata": {
            "tags": [],
            "needs_background": "light"
          }
        }
      ]
    },
    {
      "cell_type": "code",
      "metadata": {
        "id": "CnW1IN_02ssc",
        "colab": {
          "base_uri": "https://localhost:8080/",
          "height": 951
        },
        "outputId": "9b67487a-9016-47b8-be40-127704804f3f"
      },
      "source": [
        "# Sort by topics\n",
        "bardat2 = bardat2.sort_values('Topic0')\n",
        "plt.rcParams[\"figure.figsize\"] = [20,16]\n",
        "bardat2.plot(\n",
        "    x = 'prof',\n",
        "    kind = 'barh',\n",
        "    stacked = True,\n",
        "    title = 'Distribution of Professors in Topics',\n",
        "    mark_right = True)\n"
      ],
      "execution_count": null,
      "outputs": [
        {
          "output_type": "execute_result",
          "data": {
            "text/plain": [
              "<matplotlib.axes._subplots.AxesSubplot at 0x7fb540f0eb50>"
            ]
          },
          "metadata": {
            "tags": []
          },
          "execution_count": 15
        },
        {
          "output_type": "display_data",
          "data": {
            "image/png": "[encoded data removed]",
            "text/plain": [
              "<Figure size 1440x1152 with 1 Axes>"
            ]
          },
          "metadata": {
            "tags": [],
            "needs_background": "light"
          }
        }
      ]
    },
    {
      "cell_type": "markdown",
      "metadata": {
        "id": "dO-lg7xdomOl"
      },
      "source": [
        "## Bar Chart: Word Counts of Topic Keywords"
      ]
    },
    {
      "cell_type": "code",
      "metadata": {
        "id": "iVzvhCgKuPTm",
        "colab": {
          "base_uri": "https://localhost:8080/",
          "height": 195
        },
        "outputId": "b94013eb-a22a-45a4-ee4a-551cf230a6b5"
      },
      "source": [
        "topics_df_long.head(5)"
      ],
      "execution_count": null,
      "outputs": [
        {
          "output_type": "execute_result",
          "data": {
            "text/html": [
              "<div>\n",
              "<style scoped>\n",
              "    .dataframe tbody tr th:only-of-type {\n",
              "        vertical-align: middle;\n",
              "    }\n",
              "\n",
              "    .dataframe tbody tr th {\n",
              "        vertical-align: top;\n",
              "    }\n",
              "\n",
              "    .dataframe thead th {\n",
              "        text-align: right;\n",
              "    }\n",
              "</style>\n",
              "<table border=\"1\" class=\"dataframe\">\n",
              "  <thead>\n",
              "    <tr style=\"text-align: right;\">\n",
              "      <th></th>\n",
              "      <th>prof</th>\n",
              "      <th>topic_id</th>\n",
              "      <th>topic_words</th>\n",
              "      <th>topic</th>\n",
              "      <th>topic_prop</th>\n",
              "    </tr>\n",
              "  </thead>\n",
              "  <tbody>\n",
              "    <tr>\n",
              "      <th>0</th>\n",
              "      <td>Hammerschmid1.txt</td>\n",
              "      <td>3</td>\n",
              "      <td>['party', 'political', 'economic', 'election',...</td>\n",
              "      <td>Topic0</td>\n",
              "      <td>0.029148</td>\n",
              "    </tr>\n",
              "    <tr>\n",
              "      <th>1</th>\n",
              "      <td>Hammerschmid2.txt</td>\n",
              "      <td>9</td>\n",
              "      <td>['social', 'business', 'entrepreneurship', 'ns...</td>\n",
              "      <td>Topic0</td>\n",
              "      <td>0.059049</td>\n",
              "    </tr>\n",
              "    <tr>\n",
              "      <th>2</th>\n",
              "      <td>Hammerschmid3.txt</td>\n",
              "      <td>2</td>\n",
              "      <td>['ngovernance', 'nthose', 'billion', 'learn', ...</td>\n",
              "      <td>Topic0</td>\n",
              "      <td>0.074832</td>\n",
              "    </tr>\n",
              "    <tr>\n",
              "      <th>3</th>\n",
              "      <td>Hammerschmid4.txt</td>\n",
              "      <td>9</td>\n",
              "      <td>['social', 'business', 'entrepreneurship', 'ns...</td>\n",
              "      <td>Topic0</td>\n",
              "      <td>0.022292</td>\n",
              "    </tr>\n",
              "    <tr>\n",
              "      <th>4</th>\n",
              "      <td>Hammerschmid5.txt</td>\n",
              "      <td>3</td>\n",
              "      <td>['party', 'political', 'economic', 'election',...</td>\n",
              "      <td>Topic0</td>\n",
              "      <td>0.055413</td>\n",
              "    </tr>\n",
              "  </tbody>\n",
              "</table>\n",
              "</div>"
            ],
            "text/plain": [
              "                prof  topic_id  ...   topic topic_prop\n",
              "0  Hammerschmid1.txt         3  ...  Topic0   0.029148\n",
              "1  Hammerschmid2.txt         9  ...  Topic0   0.059049\n",
              "2  Hammerschmid3.txt         2  ...  Topic0   0.074832\n",
              "3  Hammerschmid4.txt         9  ...  Topic0   0.022292\n",
              "4  Hammerschmid5.txt         3  ...  Topic0   0.055413\n",
              "\n",
              "[5 rows x 5 columns]"
            ]
          },
          "metadata": {
            "tags": []
          },
          "execution_count": 16
        }
      ]
    },
    {
      "cell_type": "code",
      "metadata": {
        "colab": {
          "base_uri": "https://localhost:8080/",
          "height": 195
        },
        "id": "ceDrg6dRpnjh",
        "outputId": "11cb7fdd-63f6-4e3e-8f3e-3c0c5238a4c5"
      },
      "source": [
        "bardat = topics_df_long.iloc[:, 1:3]\n",
        "bardat.head(5)"
      ],
      "execution_count": null,
      "outputs": [
        {
          "output_type": "execute_result",
          "data": {
            "text/html": [
              "<div>\n",
              "<style scoped>\n",
              "    .dataframe tbody tr th:only-of-type {\n",
              "        vertical-align: middle;\n",
              "    }\n",
              "\n",
              "    .dataframe tbody tr th {\n",
              "        vertical-align: top;\n",
              "    }\n",
              "\n",
              "    .dataframe thead th {\n",
              "        text-align: right;\n",
              "    }\n",
              "</style>\n",
              "<table border=\"1\" class=\"dataframe\">\n",
              "  <thead>\n",
              "    <tr style=\"text-align: right;\">\n",
              "      <th></th>\n",
              "      <th>topic_id</th>\n",
              "      <th>topic_words</th>\n",
              "    </tr>\n",
              "  </thead>\n",
              "  <tbody>\n",
              "    <tr>\n",
              "      <th>0</th>\n",
              "      <td>3</td>\n",
              "      <td>['party', 'political', 'economic', 'election',...</td>\n",
              "    </tr>\n",
              "    <tr>\n",
              "      <th>1</th>\n",
              "      <td>9</td>\n",
              "      <td>['social', 'business', 'entrepreneurship', 'ns...</td>\n",
              "    </tr>\n",
              "    <tr>\n",
              "      <th>2</th>\n",
              "      <td>2</td>\n",
              "      <td>['ngovernance', 'nthose', 'billion', 'learn', ...</td>\n",
              "    </tr>\n",
              "    <tr>\n",
              "      <th>3</th>\n",
              "      <td>9</td>\n",
              "      <td>['social', 'business', 'entrepreneurship', 'ns...</td>\n",
              "    </tr>\n",
              "    <tr>\n",
              "      <th>4</th>\n",
              "      <td>3</td>\n",
              "      <td>['party', 'political', 'economic', 'election',...</td>\n",
              "    </tr>\n",
              "  </tbody>\n",
              "</table>\n",
              "</div>"
            ],
            "text/plain": [
              "   topic_id                                        topic_words\n",
              "0         3  ['party', 'political', 'economic', 'election',...\n",
              "1         9  ['social', 'business', 'entrepreneurship', 'ns...\n",
              "2         2  ['ngovernance', 'nthose', 'billion', 'learn', ...\n",
              "3         9  ['social', 'business', 'entrepreneurship', 'ns...\n",
              "4         3  ['party', 'political', 'economic', 'election',..."
            ]
          },
          "metadata": {
            "tags": []
          },
          "execution_count": 56
        }
      ]
    },
    {
      "cell_type": "code",
      "metadata": {
        "id": "a459g4SB3o-O"
      },
      "source": [
        "# remove leading white space's & split by delimiter\n",
        "bardat['topic_words'] = bardat['topic_words'].str.strip()\\\n",
        "    .str.replace(\",\\s+\", \",\")\\\n",
        "    .str.split(',')\n",
        "\n",
        "# apply group by to get count of each word.\n",
        "bardat2  = bardat.explode(column='topic_words').groupby([\"topic_id\",\"topic_words\"]).size().reset_index(name='count')"
      ],
      "execution_count": null,
      "outputs": []
    },
    {
      "cell_type": "code",
      "metadata": {
        "id": "V7CWBGS74C4J",
        "colab": {
          "base_uri": "https://localhost:8080/",
          "height": 195
        },
        "outputId": "b7d5a08f-d9c6-4100-9e66-169222d0cb85"
      },
      "source": [
        "bardat3 = bardat.groupby(['topic_id']).count().reset_index().rename(columns={\"topic_words\": \"count\"})\n",
        "bardat3.head(5)"
      ],
      "execution_count": null,
      "outputs": [
        {
          "output_type": "execute_result",
          "data": {
            "text/html": [
              "<div>\n",
              "<style scoped>\n",
              "    .dataframe tbody tr th:only-of-type {\n",
              "        vertical-align: middle;\n",
              "    }\n",
              "\n",
              "    .dataframe tbody tr th {\n",
              "        vertical-align: top;\n",
              "    }\n",
              "\n",
              "    .dataframe thead th {\n",
              "        text-align: right;\n",
              "    }\n",
              "</style>\n",
              "<table border=\"1\" class=\"dataframe\">\n",
              "  <thead>\n",
              "    <tr style=\"text-align: right;\">\n",
              "      <th></th>\n",
              "      <th>topic_id</th>\n",
              "      <th>count</th>\n",
              "    </tr>\n",
              "  </thead>\n",
              "  <tbody>\n",
              "    <tr>\n",
              "      <th>0</th>\n",
              "      <td>0</td>\n",
              "      <td>882</td>\n",
              "    </tr>\n",
              "    <tr>\n",
              "      <th>1</th>\n",
              "      <td>1</td>\n",
              "      <td>686</td>\n",
              "    </tr>\n",
              "    <tr>\n",
              "      <th>2</th>\n",
              "      <td>2</td>\n",
              "      <td>476</td>\n",
              "    </tr>\n",
              "    <tr>\n",
              "      <th>3</th>\n",
              "      <td>3</td>\n",
              "      <td>1288</td>\n",
              "    </tr>\n",
              "    <tr>\n",
              "      <th>4</th>\n",
              "      <td>4</td>\n",
              "      <td>868</td>\n",
              "    </tr>\n",
              "  </tbody>\n",
              "</table>\n",
              "</div>"
            ],
            "text/plain": [
              "   topic_id  count\n",
              "0         0    882\n",
              "1         1    686\n",
              "2         2    476\n",
              "3         3   1288\n",
              "4         4    868"
            ]
          },
          "metadata": {
            "tags": []
          },
          "execution_count": 129
        }
      ]
    },
    {
      "cell_type": "code",
      "metadata": {
        "id": "n3PZWzjk9vI_",
        "colab": {
          "base_uri": "https://localhost:8080/",
          "height": 462
        },
        "outputId": "1ee31aca-7316-4fb3-f495-2af9b53517c3"
      },
      "source": [
        "bardat3"
      ],
      "execution_count": null,
      "outputs": [
        {
          "output_type": "execute_result",
          "data": {
            "text/html": [
              "<div>\n",
              "<style scoped>\n",
              "    .dataframe tbody tr th:only-of-type {\n",
              "        vertical-align: middle;\n",
              "    }\n",
              "\n",
              "    .dataframe tbody tr th {\n",
              "        vertical-align: top;\n",
              "    }\n",
              "\n",
              "    .dataframe thead th {\n",
              "        text-align: right;\n",
              "    }\n",
              "</style>\n",
              "<table border=\"1\" class=\"dataframe\">\n",
              "  <thead>\n",
              "    <tr style=\"text-align: right;\">\n",
              "      <th></th>\n",
              "      <th>topic_id</th>\n",
              "      <th>count</th>\n",
              "      <th>topic_words</th>\n",
              "    </tr>\n",
              "  </thead>\n",
              "  <tbody>\n",
              "    <tr>\n",
              "      <th>0</th>\n",
              "      <td>0</td>\n",
              "      <td>882</td>\n",
              "      <td>0</td>\n",
              "    </tr>\n",
              "    <tr>\n",
              "      <th>1</th>\n",
              "      <td>1</td>\n",
              "      <td>686</td>\n",
              "      <td>0</td>\n",
              "    </tr>\n",
              "    <tr>\n",
              "      <th>2</th>\n",
              "      <td>2</td>\n",
              "      <td>476</td>\n",
              "      <td>0</td>\n",
              "    </tr>\n",
              "    <tr>\n",
              "      <th>3</th>\n",
              "      <td>3</td>\n",
              "      <td>1288</td>\n",
              "      <td>0</td>\n",
              "    </tr>\n",
              "    <tr>\n",
              "      <th>4</th>\n",
              "      <td>4</td>\n",
              "      <td>868</td>\n",
              "      <td>0</td>\n",
              "    </tr>\n",
              "    <tr>\n",
              "      <th>5</th>\n",
              "      <td>5</td>\n",
              "      <td>560</td>\n",
              "      <td>0</td>\n",
              "    </tr>\n",
              "    <tr>\n",
              "      <th>6</th>\n",
              "      <td>6</td>\n",
              "      <td>546</td>\n",
              "      <td>0</td>\n",
              "    </tr>\n",
              "    <tr>\n",
              "      <th>7</th>\n",
              "      <td>7</td>\n",
              "      <td>770</td>\n",
              "      <td>0</td>\n",
              "    </tr>\n",
              "    <tr>\n",
              "      <th>8</th>\n",
              "      <td>8</td>\n",
              "      <td>672</td>\n",
              "      <td>0</td>\n",
              "    </tr>\n",
              "    <tr>\n",
              "      <th>9</th>\n",
              "      <td>9</td>\n",
              "      <td>1232</td>\n",
              "      <td>0</td>\n",
              "    </tr>\n",
              "    <tr>\n",
              "      <th>10</th>\n",
              "      <td>10</td>\n",
              "      <td>714</td>\n",
              "      <td>0</td>\n",
              "    </tr>\n",
              "    <tr>\n",
              "      <th>11</th>\n",
              "      <td>11</td>\n",
              "      <td>700</td>\n",
              "      <td>0</td>\n",
              "    </tr>\n",
              "    <tr>\n",
              "      <th>12</th>\n",
              "      <td>12</td>\n",
              "      <td>994</td>\n",
              "      <td>0</td>\n",
              "    </tr>\n",
              "    <tr>\n",
              "      <th>13</th>\n",
              "      <td>13</td>\n",
              "      <td>938</td>\n",
              "      <td>0</td>\n",
              "    </tr>\n",
              "  </tbody>\n",
              "</table>\n",
              "</div>"
            ],
            "text/plain": [
              "    topic_id  count topic_words\n",
              "0          0    882           0\n",
              "1          1    686           0\n",
              "2          2    476           0\n",
              "3          3   1288           0\n",
              "4          4    868           0\n",
              "5          5    560           0\n",
              "6          6    546           0\n",
              "7          7    770           0\n",
              "8          8    672           0\n",
              "9          9   1232           0\n",
              "10        10    714           0\n",
              "11        11    700           0\n",
              "12        12    994           0\n",
              "13        13    938           0"
            ]
          },
          "metadata": {
            "tags": []
          },
          "execution_count": 128
        }
      ]
    },
    {
      "cell_type": "code",
      "metadata": {
        "id": "lYwfs9R472KH",
        "colab": {
          "base_uri": "https://localhost:8080/",
          "height": 53
        },
        "outputId": "d4d50122-7f69-4ed4-ee09-397b68d5c52e"
      },
      "source": [
        "''.join([bardat3['topic_id'].to_string(), str1])"
      ],
      "execution_count": null,
      "outputs": [
        {
          "output_type": "execute_result",
          "data": {
            "application/vnd.google.colaboratory.intrinsic+json": {
              "type": "string"
            },
            "text/plain": [
              "\"0      0\\n1      1\\n2      2\\n3      3\\n4      4\\n5      5\\n6      6\\n7      7\\n8      8\\n9      9\\n10    10\\n11    11\\n12    12\\n13    130['party','political','economic',\""
            ]
          },
          "metadata": {
            "tags": []
          },
          "execution_count": 105
        }
      ]
    },
    {
      "cell_type": "code",
      "metadata": {
        "id": "nWenoSXq49Vl",
        "colab": {
          "base_uri": "https://localhost:8080/",
          "height": 656
        },
        "outputId": "5b392314-30a6-444a-f680-df5c96183082"
      },
      "source": [
        "# Plot\n",
        "plt.rcParams[\"figure.figsize\"] = [16,10]\n",
        "bardat3.plot(\n",
        "    x = 'topic_id',\n",
        "    kind = \"bar\",\n",
        "    stacked = False,\n",
        "    title = 'Distribution of Topics',\n",
        "    mark_right = True)\n",
        "plt.xticks(rotation=0)"
      ],
      "execution_count": null,
      "outputs": [
        {
          "output_type": "execute_result",
          "data": {
            "text/plain": [
              "(array([ 0,  1,  2,  3,  4,  5,  6,  7,  8,  9, 10, 11, 12, 13]),\n",
              " <a list of 14 Text major ticklabel objects>)"
            ]
          },
          "metadata": {
            "tags": []
          },
          "execution_count": 99
        },
        {
          "output_type": "display_data",
          "data": {
            "image/png": "[encoded data removed]",
            "text/plain": [
              "<Figure size 1152x720 with 1 Axes>"
            ]
          },
          "metadata": {
            "tags": [],
            "needs_background": "light"
          }
        }
      ]
    },
    {
      "cell_type": "markdown",
      "metadata": {
        "id": "p1Ts9GmWDQmR"
      },
      "source": [
        "Visualize Loss"
      ]
    },
    {
      "cell_type": "code",
      "metadata": {
        "id": "xwGmkETQDPyC",
        "outputId": "905d0551-9206-4554-9c13-075de0ae8aab",
        "colab": {
          "base_uri": "https://localhost:8080/",
          "height": 632
        }
      },
      "source": [
        "epochs = [5, 15, 25, 30, 45]\n",
        "\n",
        "loss = [12288.245, 11944.792, 11861.608, 11827.34, 11703.930]\n",
        "\n",
        "x_unit_length = 5\n",
        "y_unit_length = 5000\n",
        "\n",
        "#for e, l in itertools.zip_longest(epochs, loss):\n",
        "plt.rcParams[\"figure.figsize\"] = [15, 10]\n",
        "plt.title(\"Train Loss across Epochs\", fontsize=20)\n",
        "plt.xlabel(\"Epochs\", fontsize=15)\n",
        "plt.ylabel(\"Train Loss\", fontsize=15)\n",
        "plt.plot(epochs, loss)\n",
        "plt.show()\n"
      ],
      "execution_count": 8,
      "outputs": [
        {
          "output_type": "display_data",
          "data": {
            "image/png": "[encoded data removed]",
            "text/plain": [
              "<Figure size 1080x720 with 1 Axes>"
            ]
          },
          "metadata": {
            "tags": [],
            "needs_background": "light"
          }
        }
      ]
    }
  ]
}