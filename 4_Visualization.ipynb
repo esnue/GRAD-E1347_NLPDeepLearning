{
  "nbformat": 4,
  "nbformat_minor": 0,
  "metadata": {
    "colab": {
      "name": "Visualization.ipynb",
      "provenance": [],
      "include_colab_link": true
    },
    "kernelspec": {
      "name": "python3",
      "display_name": "Python 3"
    },
    "language_info": {
      "name": "python"
    }
  },
  "cells": [
    {
      "cell_type": "markdown",
      "metadata": {
        "id": "view-in-github",
        "colab_type": "text"
      },
      "source": [
        "<a href=\"https://colab.research.google.com/github/esnue/ThesisAllocationSystem/blob/main/4_Visualization.ipynb\" target=\"_parent\"><img src=\"https://colab.research.google.com/assets/colab-badge.svg\" alt=\"Open In Colab\"/></a>"
      ]
    },
    {
      "cell_type": "markdown",
      "metadata": {
        "id": "VWjDwnqJdYht"
      },
      "source": [
        "# Visualization of CTM output results\n",
        "In this notebook, we will visualize our CTM output. "
      ]
    },
    {
      "cell_type": "markdown",
      "metadata": {
        "id": "JTudzMQqeCZV"
      },
      "source": [
        "## Import what we need"
      ]
    },
    {
      "cell_type": "code",
      "metadata": {
        "id": "66vi-i35dhGD"
      },
      "source": [
        "import pandas as pd\n",
        "import numpy as np\n",
        "import matplotlib.pyplot as plt\n",
        "from collections import Counter\n",
        "import matplotlib.colors as mcolors"
      ],
      "execution_count": null,
      "outputs": []
    },
    {
      "cell_type": "markdown",
      "metadata": {
        "id": "PF42c6exdo5N"
      },
      "source": [
        "## Data\n",
        "Let's import the dataframe that holds all of the relevant CTM outputs for our corpus of academic papers. "
      ]
    },
    {
      "cell_type": "code",
      "metadata": {
        "colab": {
          "base_uri": "https://localhost:8080/"
        },
        "id": "eO_o0RrsdmD7",
        "outputId": "b4f0aa14-38aa-4815-b302-2d6ecf9c81a9"
      },
      "source": [
        "from google.colab import drive\n",
        "drive.mount('/content/drive')"
      ],
      "execution_count": null,
      "outputs": [
        {
          "output_type": "stream",
          "text": [
            "Mounted at /content/drive\n"
          ],
          "name": "stdout"
        }
      ]
    },
    {
      "cell_type": "code",
      "metadata": {
        "colab": {
          "base_uri": "https://localhost:8080/"
        },
        "id": "M7CttUE0d5-T",
        "outputId": "bdcf91d8-1703-4d21-a47b-76e2a0f88c72"
      },
      "source": [
        "topics_df = pd.read_csv('/content/drive/MyDrive/ThesisAllocationSystem/data_final/ctm_label/train-label.csv')\n",
        "\n",
        "print(topics_df.sample(5))\n",
        "print(\"There are \", len(topics_df.topic_id.unique()), \"topics in total.\")"
      ],
      "execution_count": null,
      "outputs": [
        {
          "output_type": "stream",
          "text": [
            "                 prof  ...                                       distribution\n",
            "218  Hallerberg15.txt  ...  [0.01870953633915633, 0.0746513114310801, 0.04...\n",
            "407       kayser1.txt  ...  [0.02701671237591654, 0.5007744565606117, 0.04...\n",
            "327      Hustedt7.txt  ...  [0.04129392929571907, 0.004289108056425306, 0....\n",
            "321      Hustedt1.txt  ...  [0.01177513024304062, 0.011798383179120719, 0....\n",
            "143        Cali24.txt  ...  [0.005997200147248805, 0.012763956387061626, 0...\n",
            "\n",
            "[5 rows x 4 columns]\n",
            "There are  14 topics in total.\n"
          ],
          "name": "stdout"
        }
      ]
    },
    {
      "cell_type": "markdown",
      "metadata": {
        "id": "oNa1mn2CRz1i"
      },
      "source": [
        "## Create wide & long format"
      ]
    },
    {
      "cell_type": "code",
      "metadata": {
        "colab": {
          "base_uri": "https://localhost:8080/",
          "height": 204
        },
        "id": "huhss1ZzOAol",
        "outputId": "58485988-6345-4287-902a-6a3cf13a89fa"
      },
      "source": [
        "# Extract list of topic proportions \n",
        "list_prop = topics_df.iloc[:,3]\n",
        "\n",
        "# Convert to float array\n",
        "ar_float = np.array([[float(i) for i in j[1:-1].split(', ')] for j in list_prop])\n",
        "\n",
        "# Create col labels \n",
        "topics = []\n",
        "for i in list(range(0, 14)):\n",
        "     topics.append('Topic' + str(i))\n",
        "\n",
        "# Add col labels to float array\n",
        "topiclab_df = pd.DataFrame(data = ar_float, columns=topics)\n",
        "topiclab_df.head()"
      ],
      "execution_count": null,
      "outputs": [
        {
          "output_type": "execute_result",
          "data": {
            "text/html": [
              "<div>\n",
              "<style scoped>\n",
              "    .dataframe tbody tr th:only-of-type {\n",
              "        vertical-align: middle;\n",
              "    }\n",
              "\n",
              "    .dataframe tbody tr th {\n",
              "        vertical-align: top;\n",
              "    }\n",
              "\n",
              "    .dataframe thead th {\n",
              "        text-align: right;\n",
              "    }\n",
              "</style>\n",
              "<table border=\"1\" class=\"dataframe\">\n",
              "  <thead>\n",
              "    <tr style=\"text-align: right;\">\n",
              "      <th></th>\n",
              "      <th>Topic0</th>\n",
              "      <th>Topic1</th>\n",
              "      <th>Topic2</th>\n",
              "      <th>Topic3</th>\n",
              "      <th>Topic4</th>\n",
              "      <th>Topic5</th>\n",
              "      <th>Topic6</th>\n",
              "      <th>Topic7</th>\n",
              "      <th>Topic8</th>\n",
              "      <th>Topic9</th>\n",
              "      <th>Topic10</th>\n",
              "      <th>Topic11</th>\n",
              "      <th>Topic12</th>\n",
              "      <th>Topic13</th>\n",
              "    </tr>\n",
              "  </thead>\n",
              "  <tbody>\n",
              "    <tr>\n",
              "      <th>0</th>\n",
              "      <td>0.009234</td>\n",
              "      <td>0.013933</td>\n",
              "      <td>0.027286</td>\n",
              "      <td>0.019762</td>\n",
              "      <td>0.014530</td>\n",
              "      <td>0.023150</td>\n",
              "      <td>0.045658</td>\n",
              "      <td>0.041960</td>\n",
              "      <td>0.089979</td>\n",
              "      <td>0.014097</td>\n",
              "      <td>0.020300</td>\n",
              "      <td>0.638849</td>\n",
              "      <td>0.028969</td>\n",
              "      <td>0.012292</td>\n",
              "    </tr>\n",
              "    <tr>\n",
              "      <th>1</th>\n",
              "      <td>0.102841</td>\n",
              "      <td>0.021754</td>\n",
              "      <td>0.066687</td>\n",
              "      <td>0.027214</td>\n",
              "      <td>0.022265</td>\n",
              "      <td>0.042572</td>\n",
              "      <td>0.027066</td>\n",
              "      <td>0.235141</td>\n",
              "      <td>0.099709</td>\n",
              "      <td>0.057614</td>\n",
              "      <td>0.024836</td>\n",
              "      <td>0.199737</td>\n",
              "      <td>0.031868</td>\n",
              "      <td>0.040697</td>\n",
              "    </tr>\n",
              "    <tr>\n",
              "      <th>2</th>\n",
              "      <td>0.009742</td>\n",
              "      <td>0.015430</td>\n",
              "      <td>0.034784</td>\n",
              "      <td>0.140046</td>\n",
              "      <td>0.010870</td>\n",
              "      <td>0.057932</td>\n",
              "      <td>0.021482</td>\n",
              "      <td>0.099077</td>\n",
              "      <td>0.014048</td>\n",
              "      <td>0.069009</td>\n",
              "      <td>0.027499</td>\n",
              "      <td>0.009451</td>\n",
              "      <td>0.302332</td>\n",
              "      <td>0.188296</td>\n",
              "    </tr>\n",
              "    <tr>\n",
              "      <th>3</th>\n",
              "      <td>0.025711</td>\n",
              "      <td>0.015608</td>\n",
              "      <td>0.040852</td>\n",
              "      <td>0.023090</td>\n",
              "      <td>0.012962</td>\n",
              "      <td>0.031231</td>\n",
              "      <td>0.034215</td>\n",
              "      <td>0.095307</td>\n",
              "      <td>0.070767</td>\n",
              "      <td>0.027278</td>\n",
              "      <td>0.033543</td>\n",
              "      <td>0.532386</td>\n",
              "      <td>0.031209</td>\n",
              "      <td>0.025839</td>\n",
              "    </tr>\n",
              "    <tr>\n",
              "      <th>4</th>\n",
              "      <td>0.039954</td>\n",
              "      <td>0.020790</td>\n",
              "      <td>0.046773</td>\n",
              "      <td>0.044506</td>\n",
              "      <td>0.031542</td>\n",
              "      <td>0.049812</td>\n",
              "      <td>0.046903</td>\n",
              "      <td>0.122773</td>\n",
              "      <td>0.123714</td>\n",
              "      <td>0.034530</td>\n",
              "      <td>0.057081</td>\n",
              "      <td>0.322406</td>\n",
              "      <td>0.033792</td>\n",
              "      <td>0.025425</td>\n",
              "    </tr>\n",
              "  </tbody>\n",
              "</table>\n",
              "</div>"
            ],
            "text/plain": [
              "     Topic0    Topic1    Topic2  ...   Topic11   Topic12   Topic13\n",
              "0  0.009234  0.013933  0.027286  ...  0.638849  0.028969  0.012292\n",
              "1  0.102841  0.021754  0.066687  ...  0.199737  0.031868  0.040697\n",
              "2  0.009742  0.015430  0.034784  ...  0.009451  0.302332  0.188296\n",
              "3  0.025711  0.015608  0.040852  ...  0.532386  0.031209  0.025839\n",
              "4  0.039954  0.020790  0.046773  ...  0.322406  0.033792  0.025425\n",
              "\n",
              "[5 rows x 14 columns]"
            ]
          },
          "metadata": {
            "tags": []
          },
          "execution_count": 7
        }
      ]
    },
    {
      "cell_type": "code",
      "metadata": {
        "id": "uWmXGGEzFXpZ"
      },
      "source": [
        "# Change col name \n",
        "topics_df.rename(columns={\"topic\": \"topic_words\"}, inplace = True)\n",
        "\n",
        "# Append wide format to topics_df\n",
        "topics_df_wide = pd.concat([topics_df.iloc[:, 0:3], topiclab_df], axis = 1)\n",
        "\n",
        "# Reshape to long format\n",
        "topics_df_long = topics_df_wide.melt(id_vars = ['prof', 'topic_id', 'topic_words'],\n",
        "                                     var_name = 'topic',\n",
        "                                     value_name = 'topic_prop')"
      ],
      "execution_count": null,
      "outputs": []
    },
    {
      "cell_type": "code",
      "metadata": {
        "id": "2BtfScfcWvp8",
        "colab": {
          "base_uri": "https://localhost:8080/"
        },
        "outputId": "37530d6c-6c3f-40f3-cdf5-c535a26dc6c4"
      },
      "source": [
        "print(\"This is the wide format.\\n\", topics_df_wide.head(5))\n",
        "print(\"This is the long format.\\n\", topics_df_long.head(5))"
      ],
      "execution_count": null,
      "outputs": [
        {
          "output_type": "stream",
          "text": [
            "This is the wide format.\n",
            "                 prof  topic_id  ...   Topic12   Topic13\n",
            "0  Hammerschmid1.txt        11  ...  0.028969  0.012292\n",
            "1  Hammerschmid2.txt         7  ...  0.031868  0.040697\n",
            "2  Hammerschmid3.txt        12  ...  0.302332  0.188296\n",
            "3  Hammerschmid4.txt        11  ...  0.031209  0.025839\n",
            "4  Hammerschmid5.txt        11  ...  0.033792  0.025425\n",
            "\n",
            "[5 rows x 17 columns]\n",
            "This is the long format.\n",
            "                 prof  topic_id  ...   topic topic_prop\n",
            "0  Hammerschmid1.txt        11  ...  Topic0   0.009234\n",
            "1  Hammerschmid2.txt         7  ...  Topic0   0.102841\n",
            "2  Hammerschmid3.txt        12  ...  Topic0   0.009742\n",
            "3  Hammerschmid4.txt        11  ...  Topic0   0.025711\n",
            "4  Hammerschmid5.txt        11  ...  Topic0   0.039954\n",
            "\n",
            "[5 rows x 5 columns]\n"
          ],
          "name": "stdout"
        }
      ]
    },
    {
      "cell_type": "code",
      "metadata": {
        "id": "6I98ELh5BOxz"
      },
      "source": [
        "# Save wide and long formats \n",
        "topics_df_wide.to_csv('/content/drive/MyDrive/ThesisAllocationSystem/data_final/ctm_label/train-label_wide.csv', index = False)\n",
        "topics_df_wide.to_csv('/content/drive/MyDrive/ThesisAllocationSystem/data_final/ctm_label/train-label_long.csv', index = False)"
      ],
      "execution_count": null,
      "outputs": []
    },
    {
      "cell_type": "markdown",
      "metadata": {
        "id": "DJROyYUCo8Eq"
      },
      "source": [
        "## Stacked Bar Chart"
      ]
    },
    {
      "cell_type": "code",
      "metadata": {
        "id": "yYiHZpuOv66R",
        "colab": {
          "base_uri": "https://localhost:8080/",
          "height": 419
        },
        "outputId": "a89d9816-a071-4d49-d4c4-2890f54d90fe"
      },
      "source": [
        "topics_df_wide.iloc[:, 4:31]"
      ],
      "execution_count": null,
      "outputs": [
        {
          "output_type": "execute_result",
          "data": {
            "text/html": [
              "<div>\n",
              "<style scoped>\n",
              "    .dataframe tbody tr th:only-of-type {\n",
              "        vertical-align: middle;\n",
              "    }\n",
              "\n",
              "    .dataframe tbody tr th {\n",
              "        vertical-align: top;\n",
              "    }\n",
              "\n",
              "    .dataframe thead th {\n",
              "        text-align: right;\n",
              "    }\n",
              "</style>\n",
              "<table border=\"1\" class=\"dataframe\">\n",
              "  <thead>\n",
              "    <tr style=\"text-align: right;\">\n",
              "      <th></th>\n",
              "      <th>Topic1</th>\n",
              "      <th>Topic2</th>\n",
              "      <th>Topic3</th>\n",
              "      <th>Topic4</th>\n",
              "      <th>Topic5</th>\n",
              "      <th>Topic6</th>\n",
              "      <th>Topic7</th>\n",
              "      <th>Topic8</th>\n",
              "      <th>Topic9</th>\n",
              "      <th>Topic10</th>\n",
              "      <th>Topic11</th>\n",
              "      <th>Topic12</th>\n",
              "      <th>Topic13</th>\n",
              "    </tr>\n",
              "  </thead>\n",
              "  <tbody>\n",
              "    <tr>\n",
              "      <th>0</th>\n",
              "      <td>0.013933</td>\n",
              "      <td>0.027286</td>\n",
              "      <td>0.019762</td>\n",
              "      <td>0.014530</td>\n",
              "      <td>0.023150</td>\n",
              "      <td>0.045658</td>\n",
              "      <td>0.041960</td>\n",
              "      <td>0.089979</td>\n",
              "      <td>0.014097</td>\n",
              "      <td>0.020300</td>\n",
              "      <td>0.638849</td>\n",
              "      <td>0.028969</td>\n",
              "      <td>0.012292</td>\n",
              "    </tr>\n",
              "    <tr>\n",
              "      <th>1</th>\n",
              "      <td>0.021754</td>\n",
              "      <td>0.066687</td>\n",
              "      <td>0.027214</td>\n",
              "      <td>0.022265</td>\n",
              "      <td>0.042572</td>\n",
              "      <td>0.027066</td>\n",
              "      <td>0.235141</td>\n",
              "      <td>0.099709</td>\n",
              "      <td>0.057614</td>\n",
              "      <td>0.024836</td>\n",
              "      <td>0.199737</td>\n",
              "      <td>0.031868</td>\n",
              "      <td>0.040697</td>\n",
              "    </tr>\n",
              "    <tr>\n",
              "      <th>2</th>\n",
              "      <td>0.015430</td>\n",
              "      <td>0.034784</td>\n",
              "      <td>0.140046</td>\n",
              "      <td>0.010870</td>\n",
              "      <td>0.057932</td>\n",
              "      <td>0.021482</td>\n",
              "      <td>0.099077</td>\n",
              "      <td>0.014048</td>\n",
              "      <td>0.069009</td>\n",
              "      <td>0.027499</td>\n",
              "      <td>0.009451</td>\n",
              "      <td>0.302332</td>\n",
              "      <td>0.188296</td>\n",
              "    </tr>\n",
              "    <tr>\n",
              "      <th>3</th>\n",
              "      <td>0.015608</td>\n",
              "      <td>0.040852</td>\n",
              "      <td>0.023090</td>\n",
              "      <td>0.012962</td>\n",
              "      <td>0.031231</td>\n",
              "      <td>0.034215</td>\n",
              "      <td>0.095307</td>\n",
              "      <td>0.070767</td>\n",
              "      <td>0.027278</td>\n",
              "      <td>0.033543</td>\n",
              "      <td>0.532386</td>\n",
              "      <td>0.031209</td>\n",
              "      <td>0.025839</td>\n",
              "    </tr>\n",
              "    <tr>\n",
              "      <th>4</th>\n",
              "      <td>0.020790</td>\n",
              "      <td>0.046773</td>\n",
              "      <td>0.044506</td>\n",
              "      <td>0.031542</td>\n",
              "      <td>0.049812</td>\n",
              "      <td>0.046903</td>\n",
              "      <td>0.122773</td>\n",
              "      <td>0.123714</td>\n",
              "      <td>0.034530</td>\n",
              "      <td>0.057081</td>\n",
              "      <td>0.322406</td>\n",
              "      <td>0.033792</td>\n",
              "      <td>0.025425</td>\n",
              "    </tr>\n",
              "    <tr>\n",
              "      <th>...</th>\n",
              "      <td>...</td>\n",
              "      <td>...</td>\n",
              "      <td>...</td>\n",
              "      <td>...</td>\n",
              "      <td>...</td>\n",
              "      <td>...</td>\n",
              "      <td>...</td>\n",
              "      <td>...</td>\n",
              "      <td>...</td>\n",
              "      <td>...</td>\n",
              "      <td>...</td>\n",
              "      <td>...</td>\n",
              "      <td>...</td>\n",
              "    </tr>\n",
              "    <tr>\n",
              "      <th>804</th>\n",
              "      <td>0.055109</td>\n",
              "      <td>0.069124</td>\n",
              "      <td>0.038464</td>\n",
              "      <td>0.033517</td>\n",
              "      <td>0.037459</td>\n",
              "      <td>0.076925</td>\n",
              "      <td>0.109003</td>\n",
              "      <td>0.076005</td>\n",
              "      <td>0.051844</td>\n",
              "      <td>0.050341</td>\n",
              "      <td>0.297547</td>\n",
              "      <td>0.028391</td>\n",
              "      <td>0.040144</td>\n",
              "    </tr>\n",
              "    <tr>\n",
              "      <th>805</th>\n",
              "      <td>0.023928</td>\n",
              "      <td>0.023847</td>\n",
              "      <td>0.060471</td>\n",
              "      <td>0.032534</td>\n",
              "      <td>0.018095</td>\n",
              "      <td>0.074888</td>\n",
              "      <td>0.049627</td>\n",
              "      <td>0.329680</td>\n",
              "      <td>0.028053</td>\n",
              "      <td>0.038140</td>\n",
              "      <td>0.220996</td>\n",
              "      <td>0.030138</td>\n",
              "      <td>0.039636</td>\n",
              "    </tr>\n",
              "    <tr>\n",
              "      <th>806</th>\n",
              "      <td>0.039845</td>\n",
              "      <td>0.041148</td>\n",
              "      <td>0.027699</td>\n",
              "      <td>0.082687</td>\n",
              "      <td>0.058817</td>\n",
              "      <td>0.042756</td>\n",
              "      <td>0.077143</td>\n",
              "      <td>0.086556</td>\n",
              "      <td>0.130926</td>\n",
              "      <td>0.022249</td>\n",
              "      <td>0.192086</td>\n",
              "      <td>0.050220</td>\n",
              "      <td>0.071029</td>\n",
              "    </tr>\n",
              "    <tr>\n",
              "      <th>807</th>\n",
              "      <td>0.050753</td>\n",
              "      <td>0.037925</td>\n",
              "      <td>0.087591</td>\n",
              "      <td>0.043280</td>\n",
              "      <td>0.035339</td>\n",
              "      <td>0.080730</td>\n",
              "      <td>0.036897</td>\n",
              "      <td>0.257894</td>\n",
              "      <td>0.024282</td>\n",
              "      <td>0.044911</td>\n",
              "      <td>0.155101</td>\n",
              "      <td>0.035473</td>\n",
              "      <td>0.078982</td>\n",
              "    </tr>\n",
              "    <tr>\n",
              "      <th>808</th>\n",
              "      <td>0.018270</td>\n",
              "      <td>0.034831</td>\n",
              "      <td>0.125646</td>\n",
              "      <td>0.067465</td>\n",
              "      <td>0.011736</td>\n",
              "      <td>0.064773</td>\n",
              "      <td>0.006828</td>\n",
              "      <td>0.034035</td>\n",
              "      <td>0.014193</td>\n",
              "      <td>0.045096</td>\n",
              "      <td>0.015794</td>\n",
              "      <td>0.322134</td>\n",
              "      <td>0.232208</td>\n",
              "    </tr>\n",
              "  </tbody>\n",
              "</table>\n",
              "<p>809 rows × 13 columns</p>\n",
              "</div>"
            ],
            "text/plain": [
              "       Topic1    Topic2    Topic3  ...   Topic11   Topic12   Topic13\n",
              "0    0.013933  0.027286  0.019762  ...  0.638849  0.028969  0.012292\n",
              "1    0.021754  0.066687  0.027214  ...  0.199737  0.031868  0.040697\n",
              "2    0.015430  0.034784  0.140046  ...  0.009451  0.302332  0.188296\n",
              "3    0.015608  0.040852  0.023090  ...  0.532386  0.031209  0.025839\n",
              "4    0.020790  0.046773  0.044506  ...  0.322406  0.033792  0.025425\n",
              "..        ...       ...       ...  ...       ...       ...       ...\n",
              "804  0.055109  0.069124  0.038464  ...  0.297547  0.028391  0.040144\n",
              "805  0.023928  0.023847  0.060471  ...  0.220996  0.030138  0.039636\n",
              "806  0.039845  0.041148  0.027699  ...  0.192086  0.050220  0.071029\n",
              "807  0.050753  0.037925  0.087591  ...  0.155101  0.035473  0.078982\n",
              "808  0.018270  0.034831  0.125646  ...  0.015794  0.322134  0.232208\n",
              "\n",
              "[809 rows x 13 columns]"
            ]
          },
          "metadata": {
            "tags": []
          },
          "execution_count": 11
        }
      ]
    },
    {
      "cell_type": "code",
      "metadata": {
        "colab": {
          "base_uri": "https://localhost:8080/"
        },
        "id": "nY2PUFB0oc5g",
        "outputId": "fb3059f7-7429-43b9-b672-bf7072585691"
      },
      "source": [
        "# Confirm percentage distribution by summing the percentages in each topic\n",
        "topics_df_wide.iloc[:, 4:31].sum(axis=1) "
      ],
      "execution_count": null,
      "outputs": [
        {
          "output_type": "execute_result",
          "data": {
            "text/plain": [
              "0      0.990766\n",
              "1      0.897159\n",
              "2      0.990258\n",
              "3      0.974289\n",
              "4      0.960046\n",
              "         ...   \n",
              "804    0.963873\n",
              "805    0.970032\n",
              "806    0.923161\n",
              "807    0.969160\n",
              "808    0.993010\n",
              "Length: 809, dtype: float64"
            ]
          },
          "metadata": {
            "tags": []
          },
          "execution_count": 12
        }
      ]
    },
    {
      "cell_type": "code",
      "metadata": {
        "id": "79Jsf4whspSL"
      },
      "source": [
        "# Remove number and .txt from prof\n",
        "topics_df_wide['prof'] = topics_df_wide['prof'].str.replace('[0-9]', '').str.replace('\\.txt', '').str.upper()\n",
        "\n",
        "# Create bar chart df \n",
        "bardat1 = pd.concat([topics_df_wide['prof'], topics_df_wide.iloc[:, 3:31]], axis = 1)"
      ],
      "execution_count": null,
      "outputs": []
    },
    {
      "cell_type": "code",
      "metadata": {
        "colab": {
          "base_uri": "https://localhost:8080/"
        },
        "id": "zvvbYn-9K2wp",
        "outputId": "692d1aa5-867e-4fd6-99c4-dc1e4a90af71"
      },
      "source": [
        "# Solution 1: Average topic proportions per professor \n",
        "bardat2 = bardat1.groupby('prof').mean().reset_index()\n",
        "print(bardat2.head(5))"
      ],
      "execution_count": 26,
      "outputs": [
        {
          "output_type": "stream",
          "text": [
            "        prof    Topic0    Topic1  ...   Topic11   Topic12   Topic13\n",
            "0    ANHEIER  0.107425  0.026417  ...  0.061358  0.078765  0.078190\n",
            "1     BRYSON  0.095244  0.045108  ...  0.019430  0.042421  0.051368\n",
            "2       CALI  0.012389  0.009484  ...  0.012882  0.053842  0.162673\n",
            "3  CINGOLANI  0.094849  0.048708  ...  0.143340  0.038007  0.039318\n",
            "4        CIS  0.054074  0.051568  ...  0.048452  0.039280  0.055832\n",
            "\n",
            "[5 rows x 15 columns]\n"
          ],
          "name": "stdout"
        }
      ]
    },
    {
      "cell_type": "code",
      "metadata": {
        "colab": {
          "base_uri": "https://localhost:8080/",
          "height": 951
        },
        "id": "OGLeQbW-4UYo",
        "outputId": "c6a07563-3610-45cc-bd24-a2c1e5a09330"
      },
      "source": [
        "plt.rcParams[\"figure.figsize\"] = [20,16]\n",
        "bardat2.plot(\n",
        "    x = 'prof',\n",
        "    kind = 'barh',\n",
        "    stacked = True,\n",
        "    title = 'Distribution of Professors in Topics',\n",
        "    mark_right = True,\n",
        "    cmap=\"tab20c\")"
      ],
      "execution_count": 28,
      "outputs": [
        {
          "output_type": "execute_result",
          "data": {
            "text/plain": [
              "<matplotlib.axes._subplots.AxesSubplot at 0x7f8c81538e90>"
            ]
          },
          "metadata": {
            "tags": []
          },
          "execution_count": 28
        },
        {
          "output_type": "display_data",
          "data": {
            "image/png": "[encoded data removed]",
            "text/plain": [
              "<Figure size 1440x1152 with 1 Axes>"
            ]
          },
          "metadata": {
            "tags": [],
            "needs_background": "light"
          }
        }
      ]
    },
    {
      "cell_type": "code",
      "metadata": {
        "id": "CnW1IN_02ssc",
        "colab": {
          "base_uri": "https://localhost:8080/",
          "height": 951
        },
        "outputId": "3c0de0e4-9217-4114-e40b-cf8483b3716b"
      },
      "source": [
        "# Sort by topics\n",
        "bardat2 = bardat2.sort_values('Topic0')\n",
        "plt.rcParams[\"figure.figsize\"] = [20,16]\n",
        "bardat2.plot(\n",
        "    x = 'prof',\n",
        "    kind = 'barh',\n",
        "    stacked = True,\n",
        "    title = 'Distribution of Professors in Topics',\n",
        "    mark_right = True,\n",
        "    cmap=\"tab20c\")\n"
      ],
      "execution_count": 30,
      "outputs": [
        {
          "output_type": "execute_result",
          "data": {
            "text/plain": [
              "<matplotlib.axes._subplots.AxesSubplot at 0x7f8c811c05d0>"
            ]
          },
          "metadata": {
            "tags": []
          },
          "execution_count": 30
        },
        {
          "output_type": "display_data",
          "data": {
            "image/png": "[encoded data removed]",
            "text/plain": [
              "<Figure size 1440x1152 with 1 Axes>"
            ]
          },
          "metadata": {
            "tags": [],
            "needs_background": "light"
          }
        }
      ]
    },
    {
      "cell_type": "markdown",
      "metadata": {
        "id": "dO-lg7xdomOl"
      },
      "source": [
        "## Bar Chart: Word Counts of Topic Keywords"
      ]
    },
    {
      "cell_type": "code",
      "metadata": {
        "id": "iVzvhCgKuPTm",
        "colab": {
          "base_uri": "https://localhost:8080/",
          "height": 204
        },
        "outputId": "fcb9ce19-08c2-4b87-f83f-69c4dacffc60"
      },
      "source": [
        "topics_df_long.head(5)"
      ],
      "execution_count": null,
      "outputs": [
        {
          "output_type": "execute_result",
          "data": {
            "text/html": [
              "<div>\n",
              "<style scoped>\n",
              "    .dataframe tbody tr th:only-of-type {\n",
              "        vertical-align: middle;\n",
              "    }\n",
              "\n",
              "    .dataframe tbody tr th {\n",
              "        vertical-align: top;\n",
              "    }\n",
              "\n",
              "    .dataframe thead th {\n",
              "        text-align: right;\n",
              "    }\n",
              "</style>\n",
              "<table border=\"1\" class=\"dataframe\">\n",
              "  <thead>\n",
              "    <tr style=\"text-align: right;\">\n",
              "      <th></th>\n",
              "      <th>prof</th>\n",
              "      <th>topic_id</th>\n",
              "      <th>topic_words</th>\n",
              "      <th>topic</th>\n",
              "      <th>topic_prop</th>\n",
              "    </tr>\n",
              "  </thead>\n",
              "  <tbody>\n",
              "    <tr>\n",
              "      <th>0</th>\n",
              "      <td>Hammerschmid1.txt</td>\n",
              "      <td>11</td>\n",
              "      <td>['political', 'public', 'government', 'parties...</td>\n",
              "      <td>Topic0</td>\n",
              "      <td>0.009234</td>\n",
              "    </tr>\n",
              "    <tr>\n",
              "      <th>1</th>\n",
              "      <td>Hammerschmid2.txt</td>\n",
              "      <td>7</td>\n",
              "      <td>['organizations', 'business', 'social', 'entre...</td>\n",
              "      <td>Topic0</td>\n",
              "      <td>0.102841</td>\n",
              "    </tr>\n",
              "    <tr>\n",
              "      <th>2</th>\n",
              "      <td>Hammerschmid3.txt</td>\n",
              "      <td>12</td>\n",
              "      <td>['ngiven', 'always', 'extend', 'codes', 'const...</td>\n",
              "      <td>Topic0</td>\n",
              "      <td>0.009742</td>\n",
              "    </tr>\n",
              "    <tr>\n",
              "      <th>3</th>\n",
              "      <td>Hammerschmid4.txt</td>\n",
              "      <td>11</td>\n",
              "      <td>['political', 'public', 'government', 'parties...</td>\n",
              "      <td>Topic0</td>\n",
              "      <td>0.025711</td>\n",
              "    </tr>\n",
              "    <tr>\n",
              "      <th>4</th>\n",
              "      <td>Hammerschmid5.txt</td>\n",
              "      <td>11</td>\n",
              "      <td>['political', 'public', 'government', 'parties...</td>\n",
              "      <td>Topic0</td>\n",
              "      <td>0.039954</td>\n",
              "    </tr>\n",
              "  </tbody>\n",
              "</table>\n",
              "</div>"
            ],
            "text/plain": [
              "                prof  topic_id  ...   topic topic_prop\n",
              "0  Hammerschmid1.txt        11  ...  Topic0   0.009234\n",
              "1  Hammerschmid2.txt         7  ...  Topic0   0.102841\n",
              "2  Hammerschmid3.txt        12  ...  Topic0   0.009742\n",
              "3  Hammerschmid4.txt        11  ...  Topic0   0.025711\n",
              "4  Hammerschmid5.txt        11  ...  Topic0   0.039954\n",
              "\n",
              "[5 rows x 5 columns]"
            ]
          },
          "metadata": {
            "tags": []
          },
          "execution_count": 17
        }
      ]
    },
    {
      "cell_type": "code",
      "metadata": {
        "colab": {
          "base_uri": "https://localhost:8080/",
          "height": 204
        },
        "id": "ceDrg6dRpnjh",
        "outputId": "04d03221-157d-47b5-b868-19b05a2d2823"
      },
      "source": [
        "bardat = topics_df_long.iloc[:, 1:3]\n",
        "bardat.head(5)"
      ],
      "execution_count": null,
      "outputs": [
        {
          "output_type": "execute_result",
          "data": {
            "text/html": [
              "<div>\n",
              "<style scoped>\n",
              "    .dataframe tbody tr th:only-of-type {\n",
              "        vertical-align: middle;\n",
              "    }\n",
              "\n",
              "    .dataframe tbody tr th {\n",
              "        vertical-align: top;\n",
              "    }\n",
              "\n",
              "    .dataframe thead th {\n",
              "        text-align: right;\n",
              "    }\n",
              "</style>\n",
              "<table border=\"1\" class=\"dataframe\">\n",
              "  <thead>\n",
              "    <tr style=\"text-align: right;\">\n",
              "      <th></th>\n",
              "      <th>topic_id</th>\n",
              "      <th>topic_words</th>\n",
              "    </tr>\n",
              "  </thead>\n",
              "  <tbody>\n",
              "    <tr>\n",
              "      <th>0</th>\n",
              "      <td>11</td>\n",
              "      <td>['political', 'public', 'government', 'parties...</td>\n",
              "    </tr>\n",
              "    <tr>\n",
              "      <th>1</th>\n",
              "      <td>7</td>\n",
              "      <td>['organizations', 'business', 'social', 'entre...</td>\n",
              "    </tr>\n",
              "    <tr>\n",
              "      <th>2</th>\n",
              "      <td>12</td>\n",
              "      <td>['ngiven', 'always', 'extend', 'codes', 'const...</td>\n",
              "    </tr>\n",
              "    <tr>\n",
              "      <th>3</th>\n",
              "      <td>11</td>\n",
              "      <td>['political', 'public', 'government', 'parties...</td>\n",
              "    </tr>\n",
              "    <tr>\n",
              "      <th>4</th>\n",
              "      <td>11</td>\n",
              "      <td>['political', 'public', 'government', 'parties...</td>\n",
              "    </tr>\n",
              "  </tbody>\n",
              "</table>\n",
              "</div>"
            ],
            "text/plain": [
              "   topic_id                                        topic_words\n",
              "0        11  ['political', 'public', 'government', 'parties...\n",
              "1         7  ['organizations', 'business', 'social', 'entre...\n",
              "2        12  ['ngiven', 'always', 'extend', 'codes', 'const...\n",
              "3        11  ['political', 'public', 'government', 'parties...\n",
              "4        11  ['political', 'public', 'government', 'parties..."
            ]
          },
          "metadata": {
            "tags": []
          },
          "execution_count": 18
        }
      ]
    },
    {
      "cell_type": "code",
      "metadata": {
        "id": "a459g4SB3o-O"
      },
      "source": [
        "# remove leading white space's & split by delimiter\n",
        "bardat['topic_words'] = bardat['topic_words'].str.strip()\\\n",
        "    .str.replace(\",\\s+\", \",\")\\\n",
        "    .str.split(',')\n",
        "\n",
        "# apply group by to get count of each word.\n",
        "bardat2  = bardat.explode(column='topic_words').groupby([\"topic_id\",\"topic_words\"]).size().reset_index(name='count')"
      ],
      "execution_count": null,
      "outputs": []
    },
    {
      "cell_type": "code",
      "metadata": {
        "id": "V7CWBGS74C4J",
        "colab": {
          "base_uri": "https://localhost:8080/",
          "height": 204
        },
        "outputId": "13a99c57-96f8-4560-ca5b-a6b89bc7161c"
      },
      "source": [
        "bardat3 = bardat.groupby(['topic_id']).count().reset_index().rename(columns={\"topic_words\": \"count\"})\n",
        "bardat3.head(5)"
      ],
      "execution_count": null,
      "outputs": [
        {
          "output_type": "execute_result",
          "data": {
            "text/html": [
              "<div>\n",
              "<style scoped>\n",
              "    .dataframe tbody tr th:only-of-type {\n",
              "        vertical-align: middle;\n",
              "    }\n",
              "\n",
              "    .dataframe tbody tr th {\n",
              "        vertical-align: top;\n",
              "    }\n",
              "\n",
              "    .dataframe thead th {\n",
              "        text-align: right;\n",
              "    }\n",
              "</style>\n",
              "<table border=\"1\" class=\"dataframe\">\n",
              "  <thead>\n",
              "    <tr style=\"text-align: right;\">\n",
              "      <th></th>\n",
              "      <th>topic_id</th>\n",
              "      <th>count</th>\n",
              "    </tr>\n",
              "  </thead>\n",
              "  <tbody>\n",
              "    <tr>\n",
              "      <th>0</th>\n",
              "      <td>0</td>\n",
              "      <td>616</td>\n",
              "    </tr>\n",
              "    <tr>\n",
              "      <th>1</th>\n",
              "      <td>1</td>\n",
              "      <td>588</td>\n",
              "    </tr>\n",
              "    <tr>\n",
              "      <th>2</th>\n",
              "      <td>2</td>\n",
              "      <td>714</td>\n",
              "    </tr>\n",
              "    <tr>\n",
              "      <th>3</th>\n",
              "      <td>3</td>\n",
              "      <td>756</td>\n",
              "    </tr>\n",
              "    <tr>\n",
              "      <th>4</th>\n",
              "      <td>4</td>\n",
              "      <td>1134</td>\n",
              "    </tr>\n",
              "  </tbody>\n",
              "</table>\n",
              "</div>"
            ],
            "text/plain": [
              "   topic_id  count\n",
              "0         0    616\n",
              "1         1    588\n",
              "2         2    714\n",
              "3         3    756\n",
              "4         4   1134"
            ]
          },
          "metadata": {
            "tags": []
          },
          "execution_count": 20
        }
      ]
    },
    {
      "cell_type": "code",
      "metadata": {
        "id": "n3PZWzjk9vI_",
        "colab": {
          "base_uri": "https://localhost:8080/",
          "height": 483
        },
        "outputId": "36489c7c-b49d-4a06-aa65-cbadb94ae446"
      },
      "source": [
        "bardat3"
      ],
      "execution_count": null,
      "outputs": [
        {
          "output_type": "execute_result",
          "data": {
            "text/html": [
              "<div>\n",
              "<style scoped>\n",
              "    .dataframe tbody tr th:only-of-type {\n",
              "        vertical-align: middle;\n",
              "    }\n",
              "\n",
              "    .dataframe tbody tr th {\n",
              "        vertical-align: top;\n",
              "    }\n",
              "\n",
              "    .dataframe thead th {\n",
              "        text-align: right;\n",
              "    }\n",
              "</style>\n",
              "<table border=\"1\" class=\"dataframe\">\n",
              "  <thead>\n",
              "    <tr style=\"text-align: right;\">\n",
              "      <th></th>\n",
              "      <th>topic_id</th>\n",
              "      <th>count</th>\n",
              "    </tr>\n",
              "  </thead>\n",
              "  <tbody>\n",
              "    <tr>\n",
              "      <th>0</th>\n",
              "      <td>0</td>\n",
              "      <td>616</td>\n",
              "    </tr>\n",
              "    <tr>\n",
              "      <th>1</th>\n",
              "      <td>1</td>\n",
              "      <td>588</td>\n",
              "    </tr>\n",
              "    <tr>\n",
              "      <th>2</th>\n",
              "      <td>2</td>\n",
              "      <td>714</td>\n",
              "    </tr>\n",
              "    <tr>\n",
              "      <th>3</th>\n",
              "      <td>3</td>\n",
              "      <td>756</td>\n",
              "    </tr>\n",
              "    <tr>\n",
              "      <th>4</th>\n",
              "      <td>4</td>\n",
              "      <td>1134</td>\n",
              "    </tr>\n",
              "    <tr>\n",
              "      <th>5</th>\n",
              "      <td>5</td>\n",
              "      <td>826</td>\n",
              "    </tr>\n",
              "    <tr>\n",
              "      <th>6</th>\n",
              "      <td>6</td>\n",
              "      <td>784</td>\n",
              "    </tr>\n",
              "    <tr>\n",
              "      <th>7</th>\n",
              "      <td>7</td>\n",
              "      <td>1078</td>\n",
              "    </tr>\n",
              "    <tr>\n",
              "      <th>8</th>\n",
              "      <td>8</td>\n",
              "      <td>1134</td>\n",
              "    </tr>\n",
              "    <tr>\n",
              "      <th>9</th>\n",
              "      <td>9</td>\n",
              "      <td>630</td>\n",
              "    </tr>\n",
              "    <tr>\n",
              "      <th>10</th>\n",
              "      <td>10</td>\n",
              "      <td>924</td>\n",
              "    </tr>\n",
              "    <tr>\n",
              "      <th>11</th>\n",
              "      <td>11</td>\n",
              "      <td>1260</td>\n",
              "    </tr>\n",
              "    <tr>\n",
              "      <th>12</th>\n",
              "      <td>12</td>\n",
              "      <td>504</td>\n",
              "    </tr>\n",
              "    <tr>\n",
              "      <th>13</th>\n",
              "      <td>13</td>\n",
              "      <td>378</td>\n",
              "    </tr>\n",
              "  </tbody>\n",
              "</table>\n",
              "</div>"
            ],
            "text/plain": [
              "    topic_id  count\n",
              "0          0    616\n",
              "1          1    588\n",
              "2          2    714\n",
              "3          3    756\n",
              "4          4   1134\n",
              "5          5    826\n",
              "6          6    784\n",
              "7          7   1078\n",
              "8          8   1134\n",
              "9          9    630\n",
              "10        10    924\n",
              "11        11   1260\n",
              "12        12    504\n",
              "13        13    378"
            ]
          },
          "metadata": {
            "tags": []
          },
          "execution_count": 21
        }
      ]
    },
    {
      "cell_type": "code",
      "metadata": {
        "id": "lYwfs9R472KH",
        "colab": {
          "base_uri": "https://localhost:8080/",
          "height": 163
        },
        "outputId": "3b232ca1-dde2-4fb2-ef56-5a955ee704e6"
      },
      "source": [
        "''.join([bardat3['topic_id'].to_string(), str1])"
      ],
      "execution_count": null,
      "outputs": [
        {
          "output_type": "error",
          "ename": "NameError",
          "evalue": "ignored",
          "traceback": [
            "\u001b[0;31m---------------------------------------------------------------------------\u001b[0m",
            "\u001b[0;31mNameError\u001b[0m                                 Traceback (most recent call last)",
            "\u001b[0;32m<ipython-input-22-5f6ad0fffbd5>\u001b[0m in \u001b[0;36m<module>\u001b[0;34m()\u001b[0m\n\u001b[0;32m----> 1\u001b[0;31m \u001b[0;34m''\u001b[0m\u001b[0;34m.\u001b[0m\u001b[0mjoin\u001b[0m\u001b[0;34m(\u001b[0m\u001b[0;34m[\u001b[0m\u001b[0mbardat3\u001b[0m\u001b[0;34m[\u001b[0m\u001b[0;34m'topic_id'\u001b[0m\u001b[0;34m]\u001b[0m\u001b[0;34m.\u001b[0m\u001b[0mto_string\u001b[0m\u001b[0;34m(\u001b[0m\u001b[0;34m)\u001b[0m\u001b[0;34m,\u001b[0m \u001b[0mstr1\u001b[0m\u001b[0;34m]\u001b[0m\u001b[0;34m)\u001b[0m\u001b[0;34m\u001b[0m\u001b[0;34m\u001b[0m\u001b[0m\n\u001b[0m",
            "\u001b[0;31mNameError\u001b[0m: name 'str1' is not defined"
          ]
        }
      ]
    },
    {
      "cell_type": "code",
      "metadata": {
        "id": "nWenoSXq49Vl",
        "colab": {
          "base_uri": "https://localhost:8080/",
          "height": 656
        },
        "outputId": "cf5b7f7e-8035-49e5-928f-8cb0d0d72e97"
      },
      "source": [
        "# Plot\n",
        "plt.rcParams[\"figure.figsize\"] = [16,10]\n",
        "bardat3.plot(\n",
        "    x = 'topic_id',\n",
        "    kind = \"bar\",\n",
        "    stacked = False,\n",
        "    title = 'Distribution of Topics',\n",
        "    mark_right = True,\n",
        "    cmap = \"tab20c\")\n",
        "plt.xticks(rotation=0)"
      ],
      "execution_count": 32,
      "outputs": [
        {
          "output_type": "execute_result",
          "data": {
            "text/plain": [
              "(array([ 0,  1,  2,  3,  4,  5,  6,  7,  8,  9, 10, 11, 12, 13]),\n",
              " <a list of 14 Text major ticklabel objects>)"
            ]
          },
          "metadata": {
            "tags": []
          },
          "execution_count": 32
        },
        {
          "output_type": "display_data",
          "data": {
            "image/png": "[encoded data removed]",
            "text/plain": [
              "<Figure size 1152x720 with 1 Axes>"
            ]
          },
          "metadata": {
            "tags": [],
            "needs_background": "light"
          }
        }
      ]
    },
    {
      "cell_type": "markdown",
      "metadata": {
        "id": "p1Ts9GmWDQmR"
      },
      "source": [
        "Visualize Loss"
      ]
    },
    {
      "cell_type": "code",
      "metadata": {
        "colab": {
          "base_uri": "https://localhost:8080/",
          "height": 632
        },
        "id": "xwGmkETQDPyC",
        "outputId": "1fca3f01-bc76-42a4-a56d-a03e16d9e148"
      },
      "source": [
        "epochs = [5, 15, 25, 30, 45]\n",
        "\n",
        "loss = [12288.245, 11944.792, 11850.689, 11827.34, 11703.930]\n",
        "\n",
        "x_unit_length = 5\n",
        "y_unit_length = 5000\n",
        "\n",
        "#for e, l in itertools.zip_longest(epochs, loss):\n",
        "plt.rcParams[\"figure.figsize\"] = [15, 10]\n",
        "plt.title(\"Train Loss across Epochs\", fontsize=20)\n",
        "plt.xlabel(\"Epochs\", fontsize=15)\n",
        "plt.ylabel(\"Train Loss\", fontsize=15)\n",
        "plt.plot(epochs, loss)\n",
        "plt.show()\n"
      ],
      "execution_count": null,
      "outputs": [
        {
          "output_type": "display_data",
          "data": {
            "image/png": "[encoded data removed]",
            "text/plain": [
              "<Figure size 1080x720 with 1 Axes>"
            ]
          },
          "metadata": {
            "tags": [],
            "needs_background": "light"
          }
        }
      ]
    }
  ]
}