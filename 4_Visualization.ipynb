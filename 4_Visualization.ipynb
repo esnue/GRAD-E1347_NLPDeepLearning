{
  "nbformat": 4,
  "nbformat_minor": 0,
  "metadata": {
    "colab": {
      "name": "Visualization.ipynb",
      "provenance": [],
      "include_colab_link": true
    },
    "kernelspec": {
      "name": "python3",
      "display_name": "Python 3"
    },
    "language_info": {
      "name": "python"
    }
  },
  "cells": [
    {
      "cell_type": "markdown",
      "metadata": {
        "id": "view-in-github",
        "colab_type": "text"
      },
      "source": [
        "<a href=\"https://colab.research.google.com/github/esnue/ThesisAllocationSystem/blob/main/4_Visualization.ipynb\" target=\"_parent\"><img src=\"https://colab.research.google.com/assets/colab-badge.svg\" alt=\"Open In Colab\"/></a>"
      ]
    },
    {
      "cell_type": "markdown",
      "metadata": {
        "id": "VWjDwnqJdYht"
      },
      "source": [
        "# Visualization of CTM output results\n",
        "In this notebook, we will visualize our CTM output. "
      ]
    },
    {
      "cell_type": "markdown",
      "metadata": {
        "id": "JTudzMQqeCZV"
      },
      "source": [
        "## Import what we need"
      ]
    },
    {
      "cell_type": "code",
      "metadata": {
        "id": "66vi-i35dhGD"
      },
      "source": [
        "import pandas as pd\n",
        "import numpy as np\n",
        "import matplotlib.pyplot as plt\n",
        "from collections import Counter\n",
        "import matplotlib.colors as mcolors"
      ],
      "execution_count": 1,
      "outputs": []
    },
    {
      "cell_type": "markdown",
      "metadata": {
        "id": "PF42c6exdo5N"
      },
      "source": [
        "## Data\n",
        "Let's import the dataframe that holds all of the relevant CTM outputs for our corpus of academic papers. "
      ]
    },
    {
      "cell_type": "code",
      "metadata": {
        "colab": {
          "base_uri": "https://localhost:8080/"
        },
        "id": "eO_o0RrsdmD7",
        "outputId": "b8124fd5-03a6-4f85-89f2-a6add5e85005"
      },
      "source": [
        "from google.colab import drive\n",
        "drive.mount('/content/drive')"
      ],
      "execution_count": 2,
      "outputs": [
        {
          "output_type": "stream",
          "text": [
            "Mounted at /content/drive\n"
          ],
          "name": "stdout"
        }
      ]
    },
    {
      "cell_type": "code",
      "metadata": {
        "colab": {
          "base_uri": "https://localhost:8080/"
        },
        "id": "M7CttUE0d5-T",
        "outputId": "d6952c6b-eee4-4742-b374-8c64d6095287"
      },
      "source": [
        "topics_df = pd.read_csv('/content/drive/MyDrive/ThesisAllocationSystem/data_final/ctm_label/train-label.csv')\n",
        "\n",
        "print(topics_df.sample(5))\n",
        "print(\"There are \", len(topics_df.topic_id.unique()), \"topics in total.\")"
      ],
      "execution_count": 3,
      "outputs": [
        {
          "output_type": "stream",
          "text": [
            "                     prof  ...                                       distribution\n",
            "461             cis26.txt  ...  [0.0271460801246576, 0.018349743215367198, 0.0...\n",
            "574  Mungiu-Pippidi30.txt  ...  [0.09766255738213658, 0.02841243763687089, 0.0...\n",
            "571  Mungiu-Pippidi26.txt  ...  [0.018741169149429866, 0.02175863759787413, 0....\n",
            "318          Hassel32.txt  ...  [0.02252316160593182, 0.0638505607843399, 0.03...\n",
            "150         Costello3.txt  ...  [0.021206064120633528, 0.016523351171053947, 0...\n",
            "\n",
            "[5 rows x 4 columns]\n",
            "There are  14 topics in total.\n"
          ],
          "name": "stdout"
        }
      ]
    },
    {
      "cell_type": "markdown",
      "metadata": {
        "id": "oNa1mn2CRz1i"
      },
      "source": [
        "## Create wide & long format"
      ]
    },
    {
      "cell_type": "code",
      "metadata": {
        "colab": {
          "base_uri": "https://localhost:8080/",
          "height": 195
        },
        "id": "huhss1ZzOAol",
        "outputId": "4227b459-5651-4119-ebbe-34144f7abab9"
      },
      "source": [
        "# Extract list of topic proportions \n",
        "list_prop = topics_df.iloc[:,3]\n",
        "\n",
        "# Convert to float array\n",
        "ar_float = np.array([[float(i) for i in j[1:-1].split(', ')] for j in list_prop])\n",
        "\n",
        "# Create col labels \n",
        "topics = []\n",
        "for i in list(range(0, 14)):\n",
        "     topics.append('Topic' + str(i))\n",
        "\n",
        "# Add col labels to float array\n",
        "topiclab_df = pd.DataFrame(data = ar_float, columns=topics)\n",
        "topiclab_df.head()"
      ],
      "execution_count": 4,
      "outputs": [
        {
          "output_type": "execute_result",
          "data": {
            "text/html": [
              "<div>\n",
              "<style scoped>\n",
              "    .dataframe tbody tr th:only-of-type {\n",
              "        vertical-align: middle;\n",
              "    }\n",
              "\n",
              "    .dataframe tbody tr th {\n",
              "        vertical-align: top;\n",
              "    }\n",
              "\n",
              "    .dataframe thead th {\n",
              "        text-align: right;\n",
              "    }\n",
              "</style>\n",
              "<table border=\"1\" class=\"dataframe\">\n",
              "  <thead>\n",
              "    <tr style=\"text-align: right;\">\n",
              "      <th></th>\n",
              "      <th>Topic0</th>\n",
              "      <th>Topic1</th>\n",
              "      <th>Topic2</th>\n",
              "      <th>Topic3</th>\n",
              "      <th>Topic4</th>\n",
              "      <th>Topic5</th>\n",
              "      <th>Topic6</th>\n",
              "      <th>Topic7</th>\n",
              "      <th>Topic8</th>\n",
              "      <th>Topic9</th>\n",
              "      <th>Topic10</th>\n",
              "      <th>Topic11</th>\n",
              "      <th>Topic12</th>\n",
              "      <th>Topic13</th>\n",
              "    </tr>\n",
              "  </thead>\n",
              "  <tbody>\n",
              "    <tr>\n",
              "      <th>0</th>\n",
              "      <td>0.761311</td>\n",
              "      <td>0.057480</td>\n",
              "      <td>0.018308</td>\n",
              "      <td>0.005360</td>\n",
              "      <td>0.011729</td>\n",
              "      <td>0.009344</td>\n",
              "      <td>0.008888</td>\n",
              "      <td>0.053072</td>\n",
              "      <td>0.003732</td>\n",
              "      <td>0.012903</td>\n",
              "      <td>0.011730</td>\n",
              "      <td>0.006997</td>\n",
              "      <td>0.034081</td>\n",
              "      <td>0.005064</td>\n",
              "    </tr>\n",
              "    <tr>\n",
              "      <th>1</th>\n",
              "      <td>0.546687</td>\n",
              "      <td>0.083571</td>\n",
              "      <td>0.055169</td>\n",
              "      <td>0.032054</td>\n",
              "      <td>0.032806</td>\n",
              "      <td>0.020551</td>\n",
              "      <td>0.024105</td>\n",
              "      <td>0.038918</td>\n",
              "      <td>0.031414</td>\n",
              "      <td>0.014969</td>\n",
              "      <td>0.020595</td>\n",
              "      <td>0.015033</td>\n",
              "      <td>0.026796</td>\n",
              "      <td>0.057330</td>\n",
              "    </tr>\n",
              "    <tr>\n",
              "      <th>2</th>\n",
              "      <td>0.081703</td>\n",
              "      <td>0.018837</td>\n",
              "      <td>0.033404</td>\n",
              "      <td>0.071922</td>\n",
              "      <td>0.045205</td>\n",
              "      <td>0.291806</td>\n",
              "      <td>0.025276</td>\n",
              "      <td>0.013646</td>\n",
              "      <td>0.078218</td>\n",
              "      <td>0.237980</td>\n",
              "      <td>0.016144</td>\n",
              "      <td>0.049807</td>\n",
              "      <td>0.011770</td>\n",
              "      <td>0.024281</td>\n",
              "    </tr>\n",
              "    <tr>\n",
              "      <th>3</th>\n",
              "      <td>0.775538</td>\n",
              "      <td>0.127827</td>\n",
              "      <td>0.009821</td>\n",
              "      <td>0.004559</td>\n",
              "      <td>0.012252</td>\n",
              "      <td>0.007293</td>\n",
              "      <td>0.006242</td>\n",
              "      <td>0.021990</td>\n",
              "      <td>0.002604</td>\n",
              "      <td>0.007097</td>\n",
              "      <td>0.007869</td>\n",
              "      <td>0.005649</td>\n",
              "      <td>0.007621</td>\n",
              "      <td>0.003639</td>\n",
              "    </tr>\n",
              "    <tr>\n",
              "      <th>4</th>\n",
              "      <td>0.670124</td>\n",
              "      <td>0.035505</td>\n",
              "      <td>0.022101</td>\n",
              "      <td>0.016260</td>\n",
              "      <td>0.025384</td>\n",
              "      <td>0.016416</td>\n",
              "      <td>0.014526</td>\n",
              "      <td>0.046487</td>\n",
              "      <td>0.009201</td>\n",
              "      <td>0.016545</td>\n",
              "      <td>0.041123</td>\n",
              "      <td>0.013186</td>\n",
              "      <td>0.033493</td>\n",
              "      <td>0.039648</td>\n",
              "    </tr>\n",
              "  </tbody>\n",
              "</table>\n",
              "</div>"
            ],
            "text/plain": [
              "     Topic0    Topic1    Topic2  ...   Topic11   Topic12   Topic13\n",
              "0  0.761311  0.057480  0.018308  ...  0.006997  0.034081  0.005064\n",
              "1  0.546687  0.083571  0.055169  ...  0.015033  0.026796  0.057330\n",
              "2  0.081703  0.018837  0.033404  ...  0.049807  0.011770  0.024281\n",
              "3  0.775538  0.127827  0.009821  ...  0.005649  0.007621  0.003639\n",
              "4  0.670124  0.035505  0.022101  ...  0.013186  0.033493  0.039648\n",
              "\n",
              "[5 rows x 14 columns]"
            ]
          },
          "metadata": {
            "tags": []
          },
          "execution_count": 4
        }
      ]
    },
    {
      "cell_type": "code",
      "metadata": {
        "id": "uWmXGGEzFXpZ"
      },
      "source": [
        "# Change col name \n",
        "topics_df.rename(columns={\"topic\": \"topic_words\"}, inplace = True)\n",
        "\n",
        "# Append wide format to topics_df\n",
        "topics_df_wide = pd.concat([topics_df.iloc[:, 0:3], topiclab_df], axis = 1)\n",
        "\n",
        "# Reshape to long format\n",
        "topics_df_long = topics_df_wide.melt(id_vars = ['prof', 'topic_id', 'topic_words'],\n",
        "                                     var_name = 'topic',\n",
        "                                     value_name = 'topic_prop')"
      ],
      "execution_count": 5,
      "outputs": []
    },
    {
      "cell_type": "code",
      "metadata": {
        "id": "2BtfScfcWvp8",
        "colab": {
          "base_uri": "https://localhost:8080/"
        },
        "outputId": "65f3e702-78e9-44eb-bb28-7ff624b50d71"
      },
      "source": [
        "print(\"This is the wide format.\\n\", topics_df_wide.head(5))\n",
        "print(\"This is the long format.\\n\", topics_df_long.head(5))"
      ],
      "execution_count": 6,
      "outputs": [
        {
          "output_type": "stream",
          "text": [
            "This is the wide format.\n",
            "                 prof  topic_id  ...   Topic12   Topic13\n",
            "0  Hammerschmid1.txt         0  ...  0.034081  0.005064\n",
            "1  Hammerschmid2.txt         0  ...  0.026796  0.057330\n",
            "2  Hammerschmid3.txt         5  ...  0.011770  0.024281\n",
            "3  Hammerschmid4.txt         0  ...  0.007621  0.003639\n",
            "4  Hammerschmid5.txt         0  ...  0.033493  0.039648\n",
            "\n",
            "[5 rows x 17 columns]\n",
            "This is the long format.\n",
            "                 prof  topic_id  ...   topic topic_prop\n",
            "0  Hammerschmid1.txt         0  ...  Topic0   0.761311\n",
            "1  Hammerschmid2.txt         0  ...  Topic0   0.546687\n",
            "2  Hammerschmid3.txt         5  ...  Topic0   0.081703\n",
            "3  Hammerschmid4.txt         0  ...  Topic0   0.775538\n",
            "4  Hammerschmid5.txt         0  ...  Topic0   0.670124\n",
            "\n",
            "[5 rows x 5 columns]\n"
          ],
          "name": "stdout"
        }
      ]
    },
    {
      "cell_type": "code",
      "metadata": {
        "id": "6I98ELh5BOxz"
      },
      "source": [
        "# Save wide and long formats \n",
        "topics_df_wide.to_csv('/content/drive/MyDrive/ThesisAllocationSystem/data_final/ctm_label/train-label_wide.csv', index = False)\n",
        "topics_df_wide.to_csv('/content/drive/MyDrive/ThesisAllocationSystem/data_final/ctm_label/train-label_long.csv', index = False)"
      ],
      "execution_count": null,
      "outputs": []
    },
    {
      "cell_type": "markdown",
      "metadata": {
        "id": "DJROyYUCo8Eq"
      },
      "source": [
        "## Stacked Bar Chart"
      ]
    },
    {
      "cell_type": "code",
      "metadata": {
        "id": "yYiHZpuOv66R",
        "outputId": "b507d7da-d042-4dce-980b-332242161c77",
        "colab": {
          "base_uri": "https://localhost:8080/",
          "height": 402
        }
      },
      "source": [
        "topics_df_wide.iloc[:, 4:31]"
      ],
      "execution_count": 14,
      "outputs": [
        {
          "output_type": "execute_result",
          "data": {
            "text/html": [
              "<div>\n",
              "<style scoped>\n",
              "    .dataframe tbody tr th:only-of-type {\n",
              "        vertical-align: middle;\n",
              "    }\n",
              "\n",
              "    .dataframe tbody tr th {\n",
              "        vertical-align: top;\n",
              "    }\n",
              "\n",
              "    .dataframe thead th {\n",
              "        text-align: right;\n",
              "    }\n",
              "</style>\n",
              "<table border=\"1\" class=\"dataframe\">\n",
              "  <thead>\n",
              "    <tr style=\"text-align: right;\">\n",
              "      <th></th>\n",
              "      <th>Topic1</th>\n",
              "      <th>Topic2</th>\n",
              "      <th>Topic3</th>\n",
              "      <th>Topic4</th>\n",
              "      <th>Topic5</th>\n",
              "      <th>Topic6</th>\n",
              "      <th>Topic7</th>\n",
              "      <th>Topic8</th>\n",
              "      <th>Topic9</th>\n",
              "      <th>Topic10</th>\n",
              "      <th>Topic11</th>\n",
              "      <th>Topic12</th>\n",
              "      <th>Topic13</th>\n",
              "    </tr>\n",
              "  </thead>\n",
              "  <tbody>\n",
              "    <tr>\n",
              "      <th>0</th>\n",
              "      <td>0.057480</td>\n",
              "      <td>0.018308</td>\n",
              "      <td>0.005360</td>\n",
              "      <td>0.011729</td>\n",
              "      <td>0.009344</td>\n",
              "      <td>0.008888</td>\n",
              "      <td>0.053072</td>\n",
              "      <td>0.003732</td>\n",
              "      <td>0.012903</td>\n",
              "      <td>0.011730</td>\n",
              "      <td>0.006997</td>\n",
              "      <td>0.034081</td>\n",
              "      <td>0.005064</td>\n",
              "    </tr>\n",
              "    <tr>\n",
              "      <th>1</th>\n",
              "      <td>0.083571</td>\n",
              "      <td>0.055169</td>\n",
              "      <td>0.032054</td>\n",
              "      <td>0.032806</td>\n",
              "      <td>0.020551</td>\n",
              "      <td>0.024105</td>\n",
              "      <td>0.038918</td>\n",
              "      <td>0.031414</td>\n",
              "      <td>0.014969</td>\n",
              "      <td>0.020595</td>\n",
              "      <td>0.015033</td>\n",
              "      <td>0.026796</td>\n",
              "      <td>0.057330</td>\n",
              "    </tr>\n",
              "    <tr>\n",
              "      <th>2</th>\n",
              "      <td>0.018837</td>\n",
              "      <td>0.033404</td>\n",
              "      <td>0.071922</td>\n",
              "      <td>0.045205</td>\n",
              "      <td>0.291806</td>\n",
              "      <td>0.025276</td>\n",
              "      <td>0.013646</td>\n",
              "      <td>0.078218</td>\n",
              "      <td>0.237980</td>\n",
              "      <td>0.016144</td>\n",
              "      <td>0.049807</td>\n",
              "      <td>0.011770</td>\n",
              "      <td>0.024281</td>\n",
              "    </tr>\n",
              "    <tr>\n",
              "      <th>3</th>\n",
              "      <td>0.127827</td>\n",
              "      <td>0.009821</td>\n",
              "      <td>0.004559</td>\n",
              "      <td>0.012252</td>\n",
              "      <td>0.007293</td>\n",
              "      <td>0.006242</td>\n",
              "      <td>0.021990</td>\n",
              "      <td>0.002604</td>\n",
              "      <td>0.007097</td>\n",
              "      <td>0.007869</td>\n",
              "      <td>0.005649</td>\n",
              "      <td>0.007621</td>\n",
              "      <td>0.003639</td>\n",
              "    </tr>\n",
              "    <tr>\n",
              "      <th>4</th>\n",
              "      <td>0.035505</td>\n",
              "      <td>0.022101</td>\n",
              "      <td>0.016260</td>\n",
              "      <td>0.025384</td>\n",
              "      <td>0.016416</td>\n",
              "      <td>0.014526</td>\n",
              "      <td>0.046487</td>\n",
              "      <td>0.009201</td>\n",
              "      <td>0.016545</td>\n",
              "      <td>0.041123</td>\n",
              "      <td>0.013186</td>\n",
              "      <td>0.033493</td>\n",
              "      <td>0.039648</td>\n",
              "    </tr>\n",
              "    <tr>\n",
              "      <th>...</th>\n",
              "      <td>...</td>\n",
              "      <td>...</td>\n",
              "      <td>...</td>\n",
              "      <td>...</td>\n",
              "      <td>...</td>\n",
              "      <td>...</td>\n",
              "      <td>...</td>\n",
              "      <td>...</td>\n",
              "      <td>...</td>\n",
              "      <td>...</td>\n",
              "      <td>...</td>\n",
              "      <td>...</td>\n",
              "      <td>...</td>\n",
              "    </tr>\n",
              "    <tr>\n",
              "      <th>804</th>\n",
              "      <td>0.087523</td>\n",
              "      <td>0.044263</td>\n",
              "      <td>0.024575</td>\n",
              "      <td>0.063884</td>\n",
              "      <td>0.030713</td>\n",
              "      <td>0.056769</td>\n",
              "      <td>0.076277</td>\n",
              "      <td>0.015310</td>\n",
              "      <td>0.025569</td>\n",
              "      <td>0.033842</td>\n",
              "      <td>0.024708</td>\n",
              "      <td>0.194195</td>\n",
              "      <td>0.038309</td>\n",
              "    </tr>\n",
              "    <tr>\n",
              "      <th>805</th>\n",
              "      <td>0.010572</td>\n",
              "      <td>0.026055</td>\n",
              "      <td>0.023941</td>\n",
              "      <td>0.024507</td>\n",
              "      <td>0.035897</td>\n",
              "      <td>0.007052</td>\n",
              "      <td>0.124567</td>\n",
              "      <td>0.014115</td>\n",
              "      <td>0.028932</td>\n",
              "      <td>0.107249</td>\n",
              "      <td>0.051610</td>\n",
              "      <td>0.449391</td>\n",
              "      <td>0.048878</td>\n",
              "    </tr>\n",
              "    <tr>\n",
              "      <th>806</th>\n",
              "      <td>0.036570</td>\n",
              "      <td>0.043192</td>\n",
              "      <td>0.086792</td>\n",
              "      <td>0.067944</td>\n",
              "      <td>0.041886</td>\n",
              "      <td>0.026488</td>\n",
              "      <td>0.118018</td>\n",
              "      <td>0.103172</td>\n",
              "      <td>0.037033</td>\n",
              "      <td>0.031321</td>\n",
              "      <td>0.024530</td>\n",
              "      <td>0.158282</td>\n",
              "      <td>0.040524</td>\n",
              "    </tr>\n",
              "    <tr>\n",
              "      <th>807</th>\n",
              "      <td>0.066559</td>\n",
              "      <td>0.032286</td>\n",
              "      <td>0.028446</td>\n",
              "      <td>0.049417</td>\n",
              "      <td>0.035247</td>\n",
              "      <td>0.023898</td>\n",
              "      <td>0.139395</td>\n",
              "      <td>0.023011</td>\n",
              "      <td>0.048894</td>\n",
              "      <td>0.047934</td>\n",
              "      <td>0.061900</td>\n",
              "      <td>0.259467</td>\n",
              "      <td>0.063656</td>\n",
              "    </tr>\n",
              "    <tr>\n",
              "      <th>808</th>\n",
              "      <td>0.015172</td>\n",
              "      <td>0.009123</td>\n",
              "      <td>0.021746</td>\n",
              "      <td>0.033737</td>\n",
              "      <td>0.422042</td>\n",
              "      <td>0.016819</td>\n",
              "      <td>0.077061</td>\n",
              "      <td>0.017655</td>\n",
              "      <td>0.226564</td>\n",
              "      <td>0.095841</td>\n",
              "      <td>0.014730</td>\n",
              "      <td>0.021679</td>\n",
              "      <td>0.009028</td>\n",
              "    </tr>\n",
              "  </tbody>\n",
              "</table>\n",
              "<p>809 rows × 13 columns</p>\n",
              "</div>"
            ],
            "text/plain": [
              "       Topic1    Topic2    Topic3  ...   Topic11   Topic12   Topic13\n",
              "0    0.057480  0.018308  0.005360  ...  0.006997  0.034081  0.005064\n",
              "1    0.083571  0.055169  0.032054  ...  0.015033  0.026796  0.057330\n",
              "2    0.018837  0.033404  0.071922  ...  0.049807  0.011770  0.024281\n",
              "3    0.127827  0.009821  0.004559  ...  0.005649  0.007621  0.003639\n",
              "4    0.035505  0.022101  0.016260  ...  0.013186  0.033493  0.039648\n",
              "..        ...       ...       ...  ...       ...       ...       ...\n",
              "804  0.087523  0.044263  0.024575  ...  0.024708  0.194195  0.038309\n",
              "805  0.010572  0.026055  0.023941  ...  0.051610  0.449391  0.048878\n",
              "806  0.036570  0.043192  0.086792  ...  0.024530  0.158282  0.040524\n",
              "807  0.066559  0.032286  0.028446  ...  0.061900  0.259467  0.063656\n",
              "808  0.015172  0.009123  0.021746  ...  0.014730  0.021679  0.009028\n",
              "\n",
              "[809 rows x 13 columns]"
            ]
          },
          "metadata": {
            "tags": []
          },
          "execution_count": 14
        }
      ]
    },
    {
      "cell_type": "code",
      "metadata": {
        "colab": {
          "base_uri": "https://localhost:8080/"
        },
        "id": "nY2PUFB0oc5g",
        "outputId": "2d48a9e0-c62e-4832-af7b-7d9db49dde0e"
      },
      "source": [
        "# Confirm percentage distribution by summing the percentages in each topic\n",
        "topics_df_wide.iloc[:, 4:31].sum(axis=1) "
      ],
      "execution_count": 7,
      "outputs": [
        {
          "output_type": "execute_result",
          "data": {
            "text/plain": [
              "0      0.238689\n",
              "1      0.453313\n",
              "2      0.918297\n",
              "3      0.224462\n",
              "4      0.329876\n",
              "         ...   \n",
              "804    0.715937\n",
              "805    0.952766\n",
              "806    0.815752\n",
              "807    0.880109\n",
              "808    0.981199\n",
              "Length: 809, dtype: float64"
            ]
          },
          "metadata": {
            "tags": []
          },
          "execution_count": 7
        }
      ]
    },
    {
      "cell_type": "code",
      "metadata": {
        "id": "79Jsf4whspSL"
      },
      "source": [
        "# Remove number and .txt from prof\n",
        "topics_df_wide['prof'] = topics_df_wide['prof'].str.replace('[0-9]', '').str.replace('\\.txt', '').str.upper()\n",
        "\n",
        "# Create bar chart df \n",
        "bardat1 = pd.concat([topics_df_wide['prof'], topics_df_wide.iloc[:, 3:31]], axis = 1)"
      ],
      "execution_count": 66,
      "outputs": []
    },
    {
      "cell_type": "code",
      "metadata": {
        "colab": {
          "base_uri": "https://localhost:8080/"
        },
        "id": "zvvbYn-9K2wp",
        "outputId": "3fa9f749-84fd-4be1-ba54-26852142aa73"
      },
      "source": [
        "# Solution 1: Average topic proportions per professor \n",
        "bardat2 = bardat1.groupby('prof').mean().reset_index()\n",
        "print(bardat2.head(5))"
      ],
      "execution_count": 67,
      "outputs": [
        {
          "output_type": "stream",
          "text": [
            "        prof    Topic0    Topic1  ...   Topic11   Topic12   Topic13\n",
            "0    ANHEIER  0.186823  0.059203  ...  0.032670  0.059333  0.027762\n",
            "1     BRYSON  0.059318  0.032181  ...  0.066458  0.043419  0.079759\n",
            "2       CALI  0.018110  0.009559  ...  0.012739  0.012505  0.011679\n",
            "3  CINGOLANI  0.125993  0.068655  ...  0.036453  0.063086  0.085083\n",
            "4        CIS  0.042938  0.031070  ...  0.030610  0.032677  0.031447\n",
            "\n",
            "[5 rows x 15 columns]\n"
          ],
          "name": "stdout"
        }
      ]
    },
    {
      "cell_type": "code",
      "metadata": {
        "colab": {
          "base_uri": "https://localhost:8080/",
          "height": 951
        },
        "id": "OGLeQbW-4UYo",
        "outputId": "60b5a3d0-2ed6-469d-94ec-21d0024a1550"
      },
      "source": [
        "plt.rcParams[\"figure.figsize\"] = [20,16]\n",
        "bardat2.plot(\n",
        "    x = 'prof',\n",
        "    kind = 'barh',\n",
        "    stacked = True,\n",
        "    title = 'Distribution of Professors in Topics',\n",
        "    mark_right = True)"
      ],
      "execution_count": 79,
      "outputs": [
        {
          "output_type": "execute_result",
          "data": {
            "text/plain": [
              "<matplotlib.axes._subplots.AxesSubplot at 0x7fa8bcb81f10>"
            ]
          },
          "metadata": {
            "tags": []
          },
          "execution_count": 79
        },
        {
          "output_type": "display_data",
          "data": {
            "image/png": "[encoded data removed]",
            "text/plain": [
              "<Figure size 1440x1152 with 1 Axes>"
            ]
          },
          "metadata": {
            "tags": [],
            "needs_background": "light"
          }
        }
      ]
    },
    {
      "cell_type": "code",
      "metadata": {
        "id": "CnW1IN_02ssc",
        "outputId": "e1a560ed-39b1-436f-f49d-b50896ec38d5",
        "colab": {
          "base_uri": "https://localhost:8080/",
          "height": 951
        }
      },
      "source": [
        "# Sort by topics\n",
        "bardat2 = bardat2.sort_values('Topic0')\n",
        "plt.rcParams[\"figure.figsize\"] = [20,16]\n",
        "bardat2.plot(\n",
        "    x = 'prof',\n",
        "    kind = 'barh',\n",
        "    stacked = True,\n",
        "    title = 'Distribution of Professors in Topics',\n",
        "    mark_right = True)\n"
      ],
      "execution_count": 81,
      "outputs": [
        {
          "output_type": "execute_result",
          "data": {
            "text/plain": [
              "<matplotlib.axes._subplots.AxesSubplot at 0x7fa8bc4e55d0>"
            ]
          },
          "metadata": {
            "tags": []
          },
          "execution_count": 81
        },
        {
          "output_type": "display_data",
          "data": {
            "image/png": "[encoded data removed]",
            "text/plain": [
              "<Figure size 1440x1152 with 1 Axes>"
            ]
          },
          "metadata": {
            "tags": [],
            "needs_background": "light"
          }
        }
      ]
    },
    {
      "cell_type": "markdown",
      "metadata": {
        "id": "dO-lg7xdomOl"
      },
      "source": [
        "## Bar Chart: Word Counts of Topic Keywords"
      ]
    },
    {
      "cell_type": "code",
      "metadata": {
        "colab": {
          "base_uri": "https://localhost:8080/",
          "height": 195
        },
        "id": "ceDrg6dRpnjh",
        "outputId": "84623f54-b628-4031-a23a-45133fb4cef5"
      },
      "source": [
        "topics_df_long.head(5)"
      ],
      "execution_count": 83,
      "outputs": [
        {
          "output_type": "execute_result",
          "data": {
            "text/html": [
              "<div>\n",
              "<style scoped>\n",
              "    .dataframe tbody tr th:only-of-type {\n",
              "        vertical-align: middle;\n",
              "    }\n",
              "\n",
              "    .dataframe tbody tr th {\n",
              "        vertical-align: top;\n",
              "    }\n",
              "\n",
              "    .dataframe thead th {\n",
              "        text-align: right;\n",
              "    }\n",
              "</style>\n",
              "<table border=\"1\" class=\"dataframe\">\n",
              "  <thead>\n",
              "    <tr style=\"text-align: right;\">\n",
              "      <th></th>\n",
              "      <th>prof</th>\n",
              "      <th>topic_id</th>\n",
              "      <th>topic_words</th>\n",
              "      <th>topic</th>\n",
              "      <th>topic_prop</th>\n",
              "    </tr>\n",
              "  </thead>\n",
              "  <tbody>\n",
              "    <tr>\n",
              "      <th>0</th>\n",
              "      <td>Hammerschmid1.txt</td>\n",
              "      <td>0</td>\n",
              "      <td>['sector', 'public', 'management', 'npublic', ...</td>\n",
              "      <td>Topic0</td>\n",
              "      <td>0.761311</td>\n",
              "    </tr>\n",
              "    <tr>\n",
              "      <th>1</th>\n",
              "      <td>Hammerschmid2.txt</td>\n",
              "      <td>0</td>\n",
              "      <td>['sector', 'public', 'management', 'npublic', ...</td>\n",
              "      <td>Topic0</td>\n",
              "      <td>0.546687</td>\n",
              "    </tr>\n",
              "    <tr>\n",
              "      <th>2</th>\n",
              "      <td>Hammerschmid3.txt</td>\n",
              "      <td>5</td>\n",
              "      <td>['ed', 'art', 'component', 'come', 'received',...</td>\n",
              "      <td>Topic0</td>\n",
              "      <td>0.081703</td>\n",
              "    </tr>\n",
              "    <tr>\n",
              "      <th>3</th>\n",
              "      <td>Hammerschmid4.txt</td>\n",
              "      <td>0</td>\n",
              "      <td>['sector', 'public', 'management', 'npublic', ...</td>\n",
              "      <td>Topic0</td>\n",
              "      <td>0.775538</td>\n",
              "    </tr>\n",
              "    <tr>\n",
              "      <th>4</th>\n",
              "      <td>Hammerschmid5.txt</td>\n",
              "      <td>0</td>\n",
              "      <td>['sector', 'public', 'management', 'npublic', ...</td>\n",
              "      <td>Topic0</td>\n",
              "      <td>0.670124</td>\n",
              "    </tr>\n",
              "  </tbody>\n",
              "</table>\n",
              "</div>"
            ],
            "text/plain": [
              "                prof  topic_id  ...   topic topic_prop\n",
              "0  Hammerschmid1.txt         0  ...  Topic0   0.761311\n",
              "1  Hammerschmid2.txt         0  ...  Topic0   0.546687\n",
              "2  Hammerschmid3.txt         5  ...  Topic0   0.081703\n",
              "3  Hammerschmid4.txt         0  ...  Topic0   0.775538\n",
              "4  Hammerschmid5.txt         0  ...  Topic0   0.670124\n",
              "\n",
              "[5 rows x 5 columns]"
            ]
          },
          "metadata": {
            "tags": []
          },
          "execution_count": 83
        }
      ]
    },
    {
      "cell_type": "code",
      "metadata": {
        "id": "N8axYQaUi6xY"
      },
      "source": [
        "#from: https://www.machinelearningplus.com/nlp/topic-modeling-visualization-how-to-present-results-lda-models/\n",
        "# Plot Word Count and Weights of Topic Keywords\n",
        "topics = topics_df[\"topic_words\"]\n",
        "topic_id = topics_df[\"topic_id\"]\n",
        "dist = topics_df[\"distribution\"]\n",
        "\n",
        "#too many loops -> breaks RAM \n",
        "out = []\n",
        "for word in topics:\n",
        "    for d in dist:\n",
        "      for i in topic_id:\n",
        "          out.append([word, dist, i]) #we don't have word count from the CTM -> could it be added?\n",
        "\n",
        "\n",
        "df = pd.DataFrame(out, columns=['word', 'topic_id', 'importance', 'word_count'])        \n",
        "\n",
        "# Plot Word Count and Weights of Topic Keywords\n",
        "fig, axes = plt.subplots(2, 2, figsize=(16,10), sharey=True, dpi=160)\n",
        "cols = [color for name, color in mcolors.TABLEAU_COLORS.items()]\n",
        "for i, ax in enumerate(axes.flatten()):\n",
        "    ax.bar(x='word', height=\"word_count\", data=df.loc[df.topic_id==i, :], color=cols[i], width=0.5, alpha=0.3, label='Word Count')\n",
        "    ax_twin = ax.twinx()\n",
        "    ax_twin.bar(x='word', height=\"importance\", data=df.loc[df.topic_id==i, :], color=cols[i], width=0.2, label='Weights')\n",
        "    ax.set_ylabel('Word Count', color=cols[i])\n",
        "    ax_twin.set_ylim(0, 0.030); ax.set_ylim(0, 3500)\n",
        "    ax.set_title('Topic: ' + str(i), color=cols[i], fontsize=16)\n",
        "    ax.tick_params(axis='y', left=False)\n",
        "    ax.set_xticklabels(df.loc[df.topic_id==i, 'word'], rotation=30, horizontalalignment= 'right')\n",
        "    ax.legend(loc='upper left'); ax_twin.legend(loc='upper right')\n",
        "\n",
        "fig.tight_layout(w_pad=2)    \n",
        "fig.suptitle('Word Count and Importance of Topic Keywords', fontsize=22, y=1.05)    \n",
        "plt.show()"
      ],
      "execution_count": null,
      "outputs": []
    }
  ]
}