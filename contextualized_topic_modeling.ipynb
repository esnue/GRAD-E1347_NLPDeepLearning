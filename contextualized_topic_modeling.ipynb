{
  "nbformat": 4,
  "nbformat_minor": 0,
  "metadata": {
    "accelerator": "GPU",
    "colab": {
      "name": "Tutorial (v1.8.1): Contextualized Topic Modeling with your Documents (with preprocessing). ",
      "provenance": [],
      "collapsed_sections": [],
      "toc_visible": true,
      "include_colab_link": true
    },
    "kernelspec": {
      "display_name": "Python 3",
      "name": "python3"
    },
    "widgets": {
      "application/vnd.jupyter.widget-state+json": {
        "7eae40cf9f8d470dbf59e5fee9bc642e": {
          "model_module": "@jupyter-widgets/controls",
          "model_name": "HBoxModel",
          "state": {
            "_view_name": "HBoxView",
            "_dom_classes": [],
            "_model_name": "HBoxModel",
            "_view_module": "@jupyter-widgets/controls",
            "_model_module_version": "1.5.0",
            "_view_count": null,
            "_view_module_version": "1.5.0",
            "box_style": "",
            "layout": "IPY_MODEL_b009fed8dbac4ff69d45f3d6217297a3",
            "_model_module": "@jupyter-widgets/controls",
            "children": [
              "IPY_MODEL_59ede88ac8f64d4bb7410d2ef6bc9091",
              "IPY_MODEL_9f8fb24715374dc0b83e694e2dc8eacf",
              "IPY_MODEL_d56dda0b2d024d24bc4c0dd274ae609e"
            ]
          }
        },
        "b009fed8dbac4ff69d45f3d6217297a3": {
          "model_module": "@jupyter-widgets/base",
          "model_name": "LayoutModel",
          "state": {
            "_view_name": "LayoutView",
            "grid_template_rows": null,
            "right": null,
            "justify_content": null,
            "_view_module": "@jupyter-widgets/base",
            "overflow": null,
            "_model_module_version": "1.2.0",
            "_view_count": null,
            "flex_flow": null,
            "width": null,
            "min_width": null,
            "border": null,
            "align_items": null,
            "bottom": null,
            "_model_module": "@jupyter-widgets/base",
            "top": null,
            "grid_column": null,
            "overflow_y": null,
            "overflow_x": null,
            "grid_auto_flow": null,
            "grid_area": null,
            "grid_template_columns": null,
            "flex": null,
            "_model_name": "LayoutModel",
            "justify_items": null,
            "grid_row": null,
            "max_height": null,
            "align_content": null,
            "visibility": null,
            "align_self": null,
            "height": null,
            "min_height": null,
            "padding": null,
            "grid_auto_rows": null,
            "grid_gap": null,
            "max_width": null,
            "order": null,
            "_view_module_version": "1.2.0",
            "grid_template_areas": null,
            "object_position": null,
            "object_fit": null,
            "grid_auto_columns": null,
            "margin": null,
            "display": null,
            "left": null
          }
        },
        "59ede88ac8f64d4bb7410d2ef6bc9091": {
          "model_module": "@jupyter-widgets/controls",
          "model_name": "HTMLModel",
          "state": {
            "_view_name": "HTMLView",
            "style": "IPY_MODEL_c4fbe7d3baee47fa8a1e7a785bc39cda",
            "_dom_classes": [],
            "description": "",
            "_model_name": "HTMLModel",
            "placeholder": "​",
            "_view_module": "@jupyter-widgets/controls",
            "_model_module_version": "1.5.0",
            "value": "Batches: 100%",
            "_view_count": null,
            "_view_module_version": "1.5.0",
            "description_tooltip": null,
            "_model_module": "@jupyter-widgets/controls",
            "layout": "IPY_MODEL_844702ebe7394d0391d65e770b360eec"
          }
        },
        "9f8fb24715374dc0b83e694e2dc8eacf": {
          "model_module": "@jupyter-widgets/controls",
          "model_name": "FloatProgressModel",
          "state": {
            "_view_name": "ProgressView",
            "style": "IPY_MODEL_119897a1bbd848abbc8bbc684791b81c",
            "_dom_classes": [],
            "description": "",
            "_model_name": "FloatProgressModel",
            "bar_style": "success",
            "max": 5,
            "_view_module": "@jupyter-widgets/controls",
            "_model_module_version": "1.5.0",
            "value": 5,
            "_view_count": null,
            "_view_module_version": "1.5.0",
            "orientation": "horizontal",
            "min": 0,
            "description_tooltip": null,
            "_model_module": "@jupyter-widgets/controls",
            "layout": "IPY_MODEL_a61a2973bbf341959b76178f32980999"
          }
        },
        "d56dda0b2d024d24bc4c0dd274ae609e": {
          "model_module": "@jupyter-widgets/controls",
          "model_name": "HTMLModel",
          "state": {
            "_view_name": "HTMLView",
            "style": "IPY_MODEL_a2c80861bde1435c9b8d5514f04ab722",
            "_dom_classes": [],
            "description": "",
            "_model_name": "HTMLModel",
            "placeholder": "​",
            "_view_module": "@jupyter-widgets/controls",
            "_model_module_version": "1.5.0",
            "value": " 5/5 [00:21&lt;00:00,  3.59s/it]",
            "_view_count": null,
            "_view_module_version": "1.5.0",
            "description_tooltip": null,
            "_model_module": "@jupyter-widgets/controls",
            "layout": "IPY_MODEL_a2062c579e0d437e9d25b40ea64aa36d"
          }
        },
        "c4fbe7d3baee47fa8a1e7a785bc39cda": {
          "model_module": "@jupyter-widgets/controls",
          "model_name": "DescriptionStyleModel",
          "state": {
            "_view_name": "StyleView",
            "_model_name": "DescriptionStyleModel",
            "description_width": "",
            "_view_module": "@jupyter-widgets/base",
            "_model_module_version": "1.5.0",
            "_view_count": null,
            "_view_module_version": "1.2.0",
            "_model_module": "@jupyter-widgets/controls"
          }
        },
        "844702ebe7394d0391d65e770b360eec": {
          "model_module": "@jupyter-widgets/base",
          "model_name": "LayoutModel",
          "state": {
            "_view_name": "LayoutView",
            "grid_template_rows": null,
            "right": null,
            "justify_content": null,
            "_view_module": "@jupyter-widgets/base",
            "overflow": null,
            "_model_module_version": "1.2.0",
            "_view_count": null,
            "flex_flow": null,
            "width": null,
            "min_width": null,
            "border": null,
            "align_items": null,
            "bottom": null,
            "_model_module": "@jupyter-widgets/base",
            "top": null,
            "grid_column": null,
            "overflow_y": null,
            "overflow_x": null,
            "grid_auto_flow": null,
            "grid_area": null,
            "grid_template_columns": null,
            "flex": null,
            "_model_name": "LayoutModel",
            "justify_items": null,
            "grid_row": null,
            "max_height": null,
            "align_content": null,
            "visibility": null,
            "align_self": null,
            "height": null,
            "min_height": null,
            "padding": null,
            "grid_auto_rows": null,
            "grid_gap": null,
            "max_width": null,
            "order": null,
            "_view_module_version": "1.2.0",
            "grid_template_areas": null,
            "object_position": null,
            "object_fit": null,
            "grid_auto_columns": null,
            "margin": null,
            "display": null,
            "left": null
          }
        },
        "119897a1bbd848abbc8bbc684791b81c": {
          "model_module": "@jupyter-widgets/controls",
          "model_name": "ProgressStyleModel",
          "state": {
            "_view_name": "StyleView",
            "_model_name": "ProgressStyleModel",
            "description_width": "",
            "_view_module": "@jupyter-widgets/base",
            "_model_module_version": "1.5.0",
            "_view_count": null,
            "_view_module_version": "1.2.0",
            "bar_color": null,
            "_model_module": "@jupyter-widgets/controls"
          }
        },
        "a61a2973bbf341959b76178f32980999": {
          "model_module": "@jupyter-widgets/base",
          "model_name": "LayoutModel",
          "state": {
            "_view_name": "LayoutView",
            "grid_template_rows": null,
            "right": null,
            "justify_content": null,
            "_view_module": "@jupyter-widgets/base",
            "overflow": null,
            "_model_module_version": "1.2.0",
            "_view_count": null,
            "flex_flow": null,
            "width": null,
            "min_width": null,
            "border": null,
            "align_items": null,
            "bottom": null,
            "_model_module": "@jupyter-widgets/base",
            "top": null,
            "grid_column": null,
            "overflow_y": null,
            "overflow_x": null,
            "grid_auto_flow": null,
            "grid_area": null,
            "grid_template_columns": null,
            "flex": null,
            "_model_name": "LayoutModel",
            "justify_items": null,
            "grid_row": null,
            "max_height": null,
            "align_content": null,
            "visibility": null,
            "align_self": null,
            "height": null,
            "min_height": null,
            "padding": null,
            "grid_auto_rows": null,
            "grid_gap": null,
            "max_width": null,
            "order": null,
            "_view_module_version": "1.2.0",
            "grid_template_areas": null,
            "object_position": null,
            "object_fit": null,
            "grid_auto_columns": null,
            "margin": null,
            "display": null,
            "left": null
          }
        },
        "a2c80861bde1435c9b8d5514f04ab722": {
          "model_module": "@jupyter-widgets/controls",
          "model_name": "DescriptionStyleModel",
          "state": {
            "_view_name": "StyleView",
            "_model_name": "DescriptionStyleModel",
            "description_width": "",
            "_view_module": "@jupyter-widgets/base",
            "_model_module_version": "1.5.0",
            "_view_count": null,
            "_view_module_version": "1.2.0",
            "_model_module": "@jupyter-widgets/controls"
          }
        },
        "a2062c579e0d437e9d25b40ea64aa36d": {
          "model_module": "@jupyter-widgets/base",
          "model_name": "LayoutModel",
          "state": {
            "_view_name": "LayoutView",
            "grid_template_rows": null,
            "right": null,
            "justify_content": null,
            "_view_module": "@jupyter-widgets/base",
            "overflow": null,
            "_model_module_version": "1.2.0",
            "_view_count": null,
            "flex_flow": null,
            "width": null,
            "min_width": null,
            "border": null,
            "align_items": null,
            "bottom": null,
            "_model_module": "@jupyter-widgets/base",
            "top": null,
            "grid_column": null,
            "overflow_y": null,
            "overflow_x": null,
            "grid_auto_flow": null,
            "grid_area": null,
            "grid_template_columns": null,
            "flex": null,
            "_model_name": "LayoutModel",
            "justify_items": null,
            "grid_row": null,
            "max_height": null,
            "align_content": null,
            "visibility": null,
            "align_self": null,
            "height": null,
            "min_height": null,
            "padding": null,
            "grid_auto_rows": null,
            "grid_gap": null,
            "max_width": null,
            "order": null,
            "_view_module_version": "1.2.0",
            "grid_template_areas": null,
            "object_position": null,
            "object_fit": null,
            "grid_auto_columns": null,
            "margin": null,
            "display": null,
            "left": null
          }
        },
        "a8b422c142a743ab978d73ed1fb5bf80": {
          "model_module": "@jupyter-widgets/controls",
          "model_name": "HBoxModel",
          "state": {
            "_view_name": "HBoxView",
            "_dom_classes": [],
            "_model_name": "HBoxModel",
            "_view_module": "@jupyter-widgets/controls",
            "_model_module_version": "1.5.0",
            "_view_count": null,
            "_view_module_version": "1.5.0",
            "box_style": "",
            "layout": "IPY_MODEL_0169d42419414959838df1b21d10c05f",
            "_model_module": "@jupyter-widgets/controls",
            "children": [
              "IPY_MODEL_ac0fdec130b74d4a8d29ed84df8dcd42",
              "IPY_MODEL_e4f3f6f7848542c8bc1045817f2f676b",
              "IPY_MODEL_6460a6c5617044009a11d666e3005b1f"
            ]
          }
        },
        "0169d42419414959838df1b21d10c05f": {
          "model_module": "@jupyter-widgets/base",
          "model_name": "LayoutModel",
          "state": {
            "_view_name": "LayoutView",
            "grid_template_rows": null,
            "right": null,
            "justify_content": null,
            "_view_module": "@jupyter-widgets/base",
            "overflow": null,
            "_model_module_version": "1.2.0",
            "_view_count": null,
            "flex_flow": null,
            "width": null,
            "min_width": null,
            "border": null,
            "align_items": null,
            "bottom": null,
            "_model_module": "@jupyter-widgets/base",
            "top": null,
            "grid_column": null,
            "overflow_y": null,
            "overflow_x": null,
            "grid_auto_flow": null,
            "grid_area": null,
            "grid_template_columns": null,
            "flex": null,
            "_model_name": "LayoutModel",
            "justify_items": null,
            "grid_row": null,
            "max_height": null,
            "align_content": null,
            "visibility": null,
            "align_self": null,
            "height": null,
            "min_height": null,
            "padding": null,
            "grid_auto_rows": null,
            "grid_gap": null,
            "max_width": null,
            "order": null,
            "_view_module_version": "1.2.0",
            "grid_template_areas": null,
            "object_position": null,
            "object_fit": null,
            "grid_auto_columns": null,
            "margin": null,
            "display": null,
            "left": null
          }
        },
        "ac0fdec130b74d4a8d29ed84df8dcd42": {
          "model_module": "@jupyter-widgets/controls",
          "model_name": "HTMLModel",
          "state": {
            "_view_name": "HTMLView",
            "style": "IPY_MODEL_5c48f1a232cc4556929c096be08df14b",
            "_dom_classes": [],
            "description": "",
            "_model_name": "HTMLModel",
            "placeholder": "​",
            "_view_module": "@jupyter-widgets/controls",
            "_model_module_version": "1.5.0",
            "value": "Batches: 100%",
            "_view_count": null,
            "_view_module_version": "1.5.0",
            "description_tooltip": null,
            "_model_module": "@jupyter-widgets/controls",
            "layout": "IPY_MODEL_b6cb2459c4f4435598081b879f901040"
          }
        },
        "e4f3f6f7848542c8bc1045817f2f676b": {
          "model_module": "@jupyter-widgets/controls",
          "model_name": "FloatProgressModel",
          "state": {
            "_view_name": "ProgressView",
            "style": "IPY_MODEL_60e17b22a96c4902b499580b9a61aa89",
            "_dom_classes": [],
            "description": "",
            "_model_name": "FloatProgressModel",
            "bar_style": "success",
            "max": 1,
            "_view_module": "@jupyter-widgets/controls",
            "_model_module_version": "1.5.0",
            "value": 1,
            "_view_count": null,
            "_view_module_version": "1.5.0",
            "orientation": "horizontal",
            "min": 0,
            "description_tooltip": null,
            "_model_module": "@jupyter-widgets/controls",
            "layout": "IPY_MODEL_53334e901b764e5e86327e0dc9d43c5b"
          }
        },
        "6460a6c5617044009a11d666e3005b1f": {
          "model_module": "@jupyter-widgets/controls",
          "model_name": "HTMLModel",
          "state": {
            "_view_name": "HTMLView",
            "style": "IPY_MODEL_4302bb935b6d47b7b9fc4491a9343578",
            "_dom_classes": [],
            "description": "",
            "_model_name": "HTMLModel",
            "placeholder": "​",
            "_view_module": "@jupyter-widgets/controls",
            "_model_module_version": "1.5.0",
            "value": " 1/1 [00:00&lt;00:00,  8.10it/s]",
            "_view_count": null,
            "_view_module_version": "1.5.0",
            "description_tooltip": null,
            "_model_module": "@jupyter-widgets/controls",
            "layout": "IPY_MODEL_81a56efa85f24984b0fd1964f32058dd"
          }
        },
        "5c48f1a232cc4556929c096be08df14b": {
          "model_module": "@jupyter-widgets/controls",
          "model_name": "DescriptionStyleModel",
          "state": {
            "_view_name": "StyleView",
            "_model_name": "DescriptionStyleModel",
            "description_width": "",
            "_view_module": "@jupyter-widgets/base",
            "_model_module_version": "1.5.0",
            "_view_count": null,
            "_view_module_version": "1.2.0",
            "_model_module": "@jupyter-widgets/controls"
          }
        },
        "b6cb2459c4f4435598081b879f901040": {
          "model_module": "@jupyter-widgets/base",
          "model_name": "LayoutModel",
          "state": {
            "_view_name": "LayoutView",
            "grid_template_rows": null,
            "right": null,
            "justify_content": null,
            "_view_module": "@jupyter-widgets/base",
            "overflow": null,
            "_model_module_version": "1.2.0",
            "_view_count": null,
            "flex_flow": null,
            "width": null,
            "min_width": null,
            "border": null,
            "align_items": null,
            "bottom": null,
            "_model_module": "@jupyter-widgets/base",
            "top": null,
            "grid_column": null,
            "overflow_y": null,
            "overflow_x": null,
            "grid_auto_flow": null,
            "grid_area": null,
            "grid_template_columns": null,
            "flex": null,
            "_model_name": "LayoutModel",
            "justify_items": null,
            "grid_row": null,
            "max_height": null,
            "align_content": null,
            "visibility": null,
            "align_self": null,
            "height": null,
            "min_height": null,
            "padding": null,
            "grid_auto_rows": null,
            "grid_gap": null,
            "max_width": null,
            "order": null,
            "_view_module_version": "1.2.0",
            "grid_template_areas": null,
            "object_position": null,
            "object_fit": null,
            "grid_auto_columns": null,
            "margin": null,
            "display": null,
            "left": null
          }
        },
        "60e17b22a96c4902b499580b9a61aa89": {
          "model_module": "@jupyter-widgets/controls",
          "model_name": "ProgressStyleModel",
          "state": {
            "_view_name": "StyleView",
            "_model_name": "ProgressStyleModel",
            "description_width": "",
            "_view_module": "@jupyter-widgets/base",
            "_model_module_version": "1.5.0",
            "_view_count": null,
            "_view_module_version": "1.2.0",
            "bar_color": null,
            "_model_module": "@jupyter-widgets/controls"
          }
        },
        "53334e901b764e5e86327e0dc9d43c5b": {
          "model_module": "@jupyter-widgets/base",
          "model_name": "LayoutModel",
          "state": {
            "_view_name": "LayoutView",
            "grid_template_rows": null,
            "right": null,
            "justify_content": null,
            "_view_module": "@jupyter-widgets/base",
            "overflow": null,
            "_model_module_version": "1.2.0",
            "_view_count": null,
            "flex_flow": null,
            "width": null,
            "min_width": null,
            "border": null,
            "align_items": null,
            "bottom": null,
            "_model_module": "@jupyter-widgets/base",
            "top": null,
            "grid_column": null,
            "overflow_y": null,
            "overflow_x": null,
            "grid_auto_flow": null,
            "grid_area": null,
            "grid_template_columns": null,
            "flex": null,
            "_model_name": "LayoutModel",
            "justify_items": null,
            "grid_row": null,
            "max_height": null,
            "align_content": null,
            "visibility": null,
            "align_self": null,
            "height": null,
            "min_height": null,
            "padding": null,
            "grid_auto_rows": null,
            "grid_gap": null,
            "max_width": null,
            "order": null,
            "_view_module_version": "1.2.0",
            "grid_template_areas": null,
            "object_position": null,
            "object_fit": null,
            "grid_auto_columns": null,
            "margin": null,
            "display": null,
            "left": null
          }
        },
        "4302bb935b6d47b7b9fc4491a9343578": {
          "model_module": "@jupyter-widgets/controls",
          "model_name": "DescriptionStyleModel",
          "state": {
            "_view_name": "StyleView",
            "_model_name": "DescriptionStyleModel",
            "description_width": "",
            "_view_module": "@jupyter-widgets/base",
            "_model_module_version": "1.5.0",
            "_view_count": null,
            "_view_module_version": "1.2.0",
            "_model_module": "@jupyter-widgets/controls"
          }
        },
        "81a56efa85f24984b0fd1964f32058dd": {
          "model_module": "@jupyter-widgets/base",
          "model_name": "LayoutModel",
          "state": {
            "_view_name": "LayoutView",
            "grid_template_rows": null,
            "right": null,
            "justify_content": null,
            "_view_module": "@jupyter-widgets/base",
            "overflow": null,
            "_model_module_version": "1.2.0",
            "_view_count": null,
            "flex_flow": null,
            "width": null,
            "min_width": null,
            "border": null,
            "align_items": null,
            "bottom": null,
            "_model_module": "@jupyter-widgets/base",
            "top": null,
            "grid_column": null,
            "overflow_y": null,
            "overflow_x": null,
            "grid_auto_flow": null,
            "grid_area": null,
            "grid_template_columns": null,
            "flex": null,
            "_model_name": "LayoutModel",
            "justify_items": null,
            "grid_row": null,
            "max_height": null,
            "align_content": null,
            "visibility": null,
            "align_self": null,
            "height": null,
            "min_height": null,
            "padding": null,
            "grid_auto_rows": null,
            "grid_gap": null,
            "max_width": null,
            "order": null,
            "_view_module_version": "1.2.0",
            "grid_template_areas": null,
            "object_position": null,
            "object_fit": null,
            "grid_auto_columns": null,
            "margin": null,
            "display": null,
            "left": null
          }
        },
        "4ac9e2e9ecde4156846d96a54758f33b": {
          "model_module": "@jupyter-widgets/controls",
          "model_name": "HBoxModel",
          "state": {
            "_view_name": "HBoxView",
            "_dom_classes": [],
            "_model_name": "HBoxModel",
            "_view_module": "@jupyter-widgets/controls",
            "_model_module_version": "1.5.0",
            "_view_count": null,
            "_view_module_version": "1.5.0",
            "box_style": "",
            "layout": "IPY_MODEL_f7dd7ec68ccc408abe2173204499de5a",
            "_model_module": "@jupyter-widgets/controls",
            "children": [
              "IPY_MODEL_e78820906cd24845ae72109d53d2aba4",
              "IPY_MODEL_c649e8587a2b4a01856b8063ac13bf21",
              "IPY_MODEL_c0d204106b004aacb9c20757b958cfe7"
            ]
          }
        },
        "f7dd7ec68ccc408abe2173204499de5a": {
          "model_module": "@jupyter-widgets/base",
          "model_name": "LayoutModel",
          "state": {
            "_view_name": "LayoutView",
            "grid_template_rows": null,
            "right": null,
            "justify_content": null,
            "_view_module": "@jupyter-widgets/base",
            "overflow": null,
            "_model_module_version": "1.2.0",
            "_view_count": null,
            "flex_flow": null,
            "width": null,
            "min_width": null,
            "border": null,
            "align_items": null,
            "bottom": null,
            "_model_module": "@jupyter-widgets/base",
            "top": null,
            "grid_column": null,
            "overflow_y": null,
            "overflow_x": null,
            "grid_auto_flow": null,
            "grid_area": null,
            "grid_template_columns": null,
            "flex": null,
            "_model_name": "LayoutModel",
            "justify_items": null,
            "grid_row": null,
            "max_height": null,
            "align_content": null,
            "visibility": null,
            "align_self": null,
            "height": null,
            "min_height": null,
            "padding": null,
            "grid_auto_rows": null,
            "grid_gap": null,
            "max_width": null,
            "order": null,
            "_view_module_version": "1.2.0",
            "grid_template_areas": null,
            "object_position": null,
            "object_fit": null,
            "grid_auto_columns": null,
            "margin": null,
            "display": null,
            "left": null
          }
        },
        "e78820906cd24845ae72109d53d2aba4": {
          "model_module": "@jupyter-widgets/controls",
          "model_name": "HTMLModel",
          "state": {
            "_view_name": "HTMLView",
            "style": "IPY_MODEL_49aee8c3d0b8464891f8a62390c470f8",
            "_dom_classes": [],
            "description": "",
            "_model_name": "HTMLModel",
            "placeholder": "​",
            "_view_module": "@jupyter-widgets/controls",
            "_model_module_version": "1.5.0",
            "value": "Batches: 100%",
            "_view_count": null,
            "_view_module_version": "1.5.0",
            "description_tooltip": null,
            "_model_module": "@jupyter-widgets/controls",
            "layout": "IPY_MODEL_f33d1e7c36b84e3da35432e6ff186854"
          }
        },
        "c649e8587a2b4a01856b8063ac13bf21": {
          "model_module": "@jupyter-widgets/controls",
          "model_name": "FloatProgressModel",
          "state": {
            "_view_name": "ProgressView",
            "style": "IPY_MODEL_fb8ceaa6ad95488a9c537850d2f58b1d",
            "_dom_classes": [],
            "description": "",
            "_model_name": "FloatProgressModel",
            "bar_style": "success",
            "max": 1,
            "_view_module": "@jupyter-widgets/controls",
            "_model_module_version": "1.5.0",
            "value": 1,
            "_view_count": null,
            "_view_module_version": "1.5.0",
            "orientation": "horizontal",
            "min": 0,
            "description_tooltip": null,
            "_model_module": "@jupyter-widgets/controls",
            "layout": "IPY_MODEL_84f549c28a9a489ea1e5980c0e779420"
          }
        },
        "c0d204106b004aacb9c20757b958cfe7": {
          "model_module": "@jupyter-widgets/controls",
          "model_name": "HTMLModel",
          "state": {
            "_view_name": "HTMLView",
            "style": "IPY_MODEL_2eb8acdf45ea472589552e45874e0de1",
            "_dom_classes": [],
            "description": "",
            "_model_name": "HTMLModel",
            "placeholder": "​",
            "_view_module": "@jupyter-widgets/controls",
            "_model_module_version": "1.5.0",
            "value": " 1/1 [00:00&lt;00:00,  2.02it/s]",
            "_view_count": null,
            "_view_module_version": "1.5.0",
            "description_tooltip": null,
            "_model_module": "@jupyter-widgets/controls",
            "layout": "IPY_MODEL_e2646740616d49b798e99c14b30ab12f"
          }
        },
        "49aee8c3d0b8464891f8a62390c470f8": {
          "model_module": "@jupyter-widgets/controls",
          "model_name": "DescriptionStyleModel",
          "state": {
            "_view_name": "StyleView",
            "_model_name": "DescriptionStyleModel",
            "description_width": "",
            "_view_module": "@jupyter-widgets/base",
            "_model_module_version": "1.5.0",
            "_view_count": null,
            "_view_module_version": "1.2.0",
            "_model_module": "@jupyter-widgets/controls"
          }
        },
        "f33d1e7c36b84e3da35432e6ff186854": {
          "model_module": "@jupyter-widgets/base",
          "model_name": "LayoutModel",
          "state": {
            "_view_name": "LayoutView",
            "grid_template_rows": null,
            "right": null,
            "justify_content": null,
            "_view_module": "@jupyter-widgets/base",
            "overflow": null,
            "_model_module_version": "1.2.0",
            "_view_count": null,
            "flex_flow": null,
            "width": null,
            "min_width": null,
            "border": null,
            "align_items": null,
            "bottom": null,
            "_model_module": "@jupyter-widgets/base",
            "top": null,
            "grid_column": null,
            "overflow_y": null,
            "overflow_x": null,
            "grid_auto_flow": null,
            "grid_area": null,
            "grid_template_columns": null,
            "flex": null,
            "_model_name": "LayoutModel",
            "justify_items": null,
            "grid_row": null,
            "max_height": null,
            "align_content": null,
            "visibility": null,
            "align_self": null,
            "height": null,
            "min_height": null,
            "padding": null,
            "grid_auto_rows": null,
            "grid_gap": null,
            "max_width": null,
            "order": null,
            "_view_module_version": "1.2.0",
            "grid_template_areas": null,
            "object_position": null,
            "object_fit": null,
            "grid_auto_columns": null,
            "margin": null,
            "display": null,
            "left": null
          }
        },
        "fb8ceaa6ad95488a9c537850d2f58b1d": {
          "model_module": "@jupyter-widgets/controls",
          "model_name": "ProgressStyleModel",
          "state": {
            "_view_name": "StyleView",
            "_model_name": "ProgressStyleModel",
            "description_width": "",
            "_view_module": "@jupyter-widgets/base",
            "_model_module_version": "1.5.0",
            "_view_count": null,
            "_view_module_version": "1.2.0",
            "bar_color": null,
            "_model_module": "@jupyter-widgets/controls"
          }
        },
        "84f549c28a9a489ea1e5980c0e779420": {
          "model_module": "@jupyter-widgets/base",
          "model_name": "LayoutModel",
          "state": {
            "_view_name": "LayoutView",
            "grid_template_rows": null,
            "right": null,
            "justify_content": null,
            "_view_module": "@jupyter-widgets/base",
            "overflow": null,
            "_model_module_version": "1.2.0",
            "_view_count": null,
            "flex_flow": null,
            "width": null,
            "min_width": null,
            "border": null,
            "align_items": null,
            "bottom": null,
            "_model_module": "@jupyter-widgets/base",
            "top": null,
            "grid_column": null,
            "overflow_y": null,
            "overflow_x": null,
            "grid_auto_flow": null,
            "grid_area": null,
            "grid_template_columns": null,
            "flex": null,
            "_model_name": "LayoutModel",
            "justify_items": null,
            "grid_row": null,
            "max_height": null,
            "align_content": null,
            "visibility": null,
            "align_self": null,
            "height": null,
            "min_height": null,
            "padding": null,
            "grid_auto_rows": null,
            "grid_gap": null,
            "max_width": null,
            "order": null,
            "_view_module_version": "1.2.0",
            "grid_template_areas": null,
            "object_position": null,
            "object_fit": null,
            "grid_auto_columns": null,
            "margin": null,
            "display": null,
            "left": null
          }
        },
        "2eb8acdf45ea472589552e45874e0de1": {
          "model_module": "@jupyter-widgets/controls",
          "model_name": "DescriptionStyleModel",
          "state": {
            "_view_name": "StyleView",
            "_model_name": "DescriptionStyleModel",
            "description_width": "",
            "_view_module": "@jupyter-widgets/base",
            "_model_module_version": "1.5.0",
            "_view_count": null,
            "_view_module_version": "1.2.0",
            "_model_module": "@jupyter-widgets/controls"
          }
        },
        "e2646740616d49b798e99c14b30ab12f": {
          "model_module": "@jupyter-widgets/base",
          "model_name": "LayoutModel",
          "state": {
            "_view_name": "LayoutView",
            "grid_template_rows": null,
            "right": null,
            "justify_content": null,
            "_view_module": "@jupyter-widgets/base",
            "overflow": null,
            "_model_module_version": "1.2.0",
            "_view_count": null,
            "flex_flow": null,
            "width": null,
            "min_width": null,
            "border": null,
            "align_items": null,
            "bottom": null,
            "_model_module": "@jupyter-widgets/base",
            "top": null,
            "grid_column": null,
            "overflow_y": null,
            "overflow_x": null,
            "grid_auto_flow": null,
            "grid_area": null,
            "grid_template_columns": null,
            "flex": null,
            "_model_name": "LayoutModel",
            "justify_items": null,
            "grid_row": null,
            "max_height": null,
            "align_content": null,
            "visibility": null,
            "align_self": null,
            "height": null,
            "min_height": null,
            "padding": null,
            "grid_auto_rows": null,
            "grid_gap": null,
            "max_width": null,
            "order": null,
            "_view_module_version": "1.2.0",
            "grid_template_areas": null,
            "object_position": null,
            "object_fit": null,
            "grid_auto_columns": null,
            "margin": null,
            "display": null,
            "left": null
          }
        }
      }
    }
  },
  "cells": [
    {
      "cell_type": "markdown",
      "metadata": {
        "id": "view-in-github",
        "colab_type": "text"
      },
      "source": [
        "<a href=\"https://colab.research.google.com/github/esnue/ThesisAllocationSystem/blob/main/contextualized_topic_modeling.ipynb\" target=\"_parent\"><img src=\"https://colab.research.google.com/assets/colab-badge.svg\" alt=\"Open In Colab\"/></a>"
      ]
    },
    {
      "cell_type": "markdown",
      "metadata": {
        "id": "qmZ1uZecv7qW"
      },
      "source": [
        "## Contextualized Topic Models \n",
        "\n",
        "We are going to use contextualized topic modeling to get topics out of a supervisors' academic papers, student proposals and supervision plans.\n",
        "\n",
        "## Topic Models \n",
        "\n",
        "Topic models allow you to discover latent topics in your documents in a completely unsupervised way. Just use your documents and get topics out.\n",
        "\n",
        "## Contextualized Topic Models\n",
        "\n",
        "\n",
        "What are Contextualized Topic Models? **CTMs** are a family of topic models that combine the expressive power of BERT embeddings with the unsupervised capabilities of topic models to get topics out of documents.\n",
        "\n",
        "\n"
      ]
    },
    {
      "cell_type": "markdown",
      "metadata": {
        "id": "ln23-soXeQk3"
      },
      "source": [
        "# Enabling the GPU\n",
        "\n",
        "First, you'll need to enable GPUs for the notebook:\n",
        "\n",
        "- Navigate to Edit→Notebook Settings\n",
        "- select GPU from the Hardware Accelerator drop-down\n",
        "\n",
        "[Reference](https://colab.research.google.com/notebooks/gpu.ipynb)"
      ]
    },
    {
      "cell_type": "markdown",
      "metadata": {
        "id": "QsNRo8I8Yem2"
      },
      "source": [
        "# Installing Contextualized Topic Models\n",
        "\n",
        "Now, we install the contextualized topic model library"
      ]
    },
    {
      "cell_type": "code",
      "metadata": {
        "id": "BUw5EQi8v9r1"
      },
      "source": [
        "%%capture\n",
        "!pip install contextualized-topic-models==1.8.1\n",
        "!pip install torch==1.6.0+cu101 torchvision==0.7.0+cu101 -f https://download.pytorch.org/whl/torch_stable.html"
      ],
      "execution_count": 1,
      "outputs": []
    },
    {
      "cell_type": "markdown",
      "metadata": {
        "id": "sxeqAVYqsLle"
      },
      "source": [
        "## Data"
      ]
    },
    {
      "cell_type": "code",
      "metadata": {
        "id": "eB9ZJDmXXtjT",
        "colab": {
          "base_uri": "https://localhost:8080/"
        },
        "outputId": "7e33bc82-1fc4-403a-a9fb-8ece8746815d"
      },
      "source": [
        "from google.colab import drive\n",
        "drive.mount('/content/drive')"
      ],
      "execution_count": 2,
      "outputs": [
        {
          "output_type": "stream",
          "text": [
            "Mounted at /content/drive\n"
          ],
          "name": "stdout"
        }
      ]
    },
    {
      "cell_type": "code",
      "metadata": {
        "id": "KiJ3PMgOXrCH",
        "colab": {
          "base_uri": "https://localhost:8080/"
        },
        "outputId": "68a44aa8-2787-4406-cc07-db635e015384"
      },
      "source": [
        "import pandas as pd\n",
        "\n",
        "#academic papers\n",
        "file1 = pd.read_csv(\"/content/drive/MyDrive/ThesisAllocationSystem/data_final/train-papers-final.csv\")\n",
        "#transform content column row values into a list\n",
        "train_file = file1['Content'][1:].values.tolist()\n",
        "\n",
        "print(train_file[5])\n",
        "print(type(train_file))\n",
        "\n",
        "#thesis proposals\n",
        "file2 = pd.read_csv(\"/content/drive/MyDrive/ThesisAllocationSystem/data_final/test-proposals-final.csv\")\n",
        "test_file = file2['Content'][1:].values.tolist()\n",
        "\n",
        "print(test_file[2])\n",
        "print(type(test_file))\n",
        "\n",
        "#supervision plans\n",
        "file3 = pd.read_csv(\"/content/drive/MyDrive/ThesisAllocationSystem/data_final/supervisors-final.csv\")\n",
        "val_file = file3['Content'][1:].values.tolist()\n",
        "\n",
        "print(val_file[5])\n",
        "print(type(val_file))"
      ],
      "execution_count": 22,
      "outputs": [
        {
          "output_type": "stream",
          "text": [
            "b'Master_Thesis_Proposal\\n\\n\\nMaster Thesis Proposal \\n\\nClass: 2021 \\n\\nAY: 2020-2021\\n\\n\\n1. What is your research topic?\\n\\nTopic: Forecasting election results of federal and state-level elections in Germany using \\ndifferent machine learning techniques with macro-economic data as input.\\n\\nAcademic Fields: \\n1. Political Science:\\n-> Political behavior and voting\\n-> Election forecasting\\n2. Data Science: \\n-> Machine Learning \\n-> Artificial neural networks\\n\\n2. What is your research question?\\n\\nWhat role do changes in the over all economy of an election district play regarding the \\napproval, i.e. the vote share, of an incumbent direct-candidate in the respective election \\ndistrict. To analyze the factors that actually have the biggest influence on the vote share of \\nan incumbent candidate, several macro-economic variables are analyzed using different \\nmachine learning techniques (potentially including neural networks). \\n\\nStudied objects: \\n- General elections from 1994-2017\\n- 299 electoral districts for general election in Germany\\n- Incumbent candidates in the respective districts \\n- Predicting the changes in vote share of incumbent direct candidates for the upcoming \\n\\ngeneral election 2020 \\n\\nDependent Variable: Normalized change in vote share of incumbent (or change in \\ncandidate of the incumbent party-dummy) \\n\\nIV: Macro-economic data on district-level for all 299 districts from 1994-2017 (examples: \\nGDP, rent level, \\xa0unemployment rate, \\xa0 population,   R&D spending \\n(public&private),  economic development compared to neighboring districts, Property \\nprices,  median income, investments )\\n\\n1 AY: 2020-2021\\n\\n\\n\\nPossible Controls (on election district level): average city size in district, population density, \\nchange of candidate own party, change of candidate other parties, former election results \\n(direct and indirect vote, difference in vote share compared to other candidates), change in \\nnumber of candidates running in the district, east/west state, gender of candidate, gender of \\nmost promising rival from other parties, academic title of candidate \\n\\nPossible methods applied: Naive Bayes, Support Vector Machine, Random Forest, Linear \\nand Logistic Regression\\n\\nAlternative but very much related topic idea: \\nIdentification of Swing States in Germany: Constituencies where the average change in the \\nvote share of all parties is greater than the national average change in voteshare; clustering \\nof these constituencies and identification of characteristics using machine learning \\ntechniques; analysis of the influence of macro-economic data in a second step.\\n\\n3. Why would you like to explore this topic and question?\\n\\nI think the topic and the research question are highly relevant because they answer the question to what degree macro-economic developments effect voting decision. The findings are important not only for the scientific community but also for parties and \\npolticidal candidates searching reelection. Moreover, I find particularly interesting to assess \\nnot only who wins an election, but also who vote shares change even though there was no \\nchange in office. Additionally, I am very much interested in machine learning and deep \\nlearning techniques and look forward to deepen my knowledge in these areas by applying \\ntheir techniques as part of my master thesis research. \\n\\n4. What are the debates to which your dissertation will relate?\\n\\nIts the economy, stupid! The most important debate my research will touch upon is the \\nquestion to what degree economic developments influence election outcomes. It also relates \\nto the debate which factors are most important regarding election decisions and wether the \\ninfluence of economic factors is negligible or not. Moreover, it will relate to an ongoing \\ndiscussion and research about the possibilities and best methods to predict election \\noutcomes. \\n\\n5. What is your proposed methodology?\\n\\nMy proposed methodology is mostly quantitate using analytical modeling.\\n\\n2 AY: 2020-2021\\n\\n\\n\\nTo predict election outcomes and analyze the scope of the influence of certain economic \\nindicators on the vote share (and also to potentially cluster different districts) I am planning \\non using different machine learning techniques such as Naive Bayes, Support Vector \\nMachine, Random Forest, Linear and Logistic Regression. Especially for the forecasting \\npart of the thesis I am also planning on using artificial neural networks. \\n\\n6. What type of data do you need? \\n\\nAll of the data needed is public and most likely early accessible. It could be that the \\neconomic data is not available tailored to election districts (which problem could be solves \\nwith some data manipulation).\\n\\n- German general elections results on district level from 1994-2017\\n- German general elections candidates on district level from 1994-2017\\n- Macro-economic data (several indicators) on district level from 1994-2020\\n\\n7. Who are your proposed supervisors?\\n\\n1st:  Prof. Simon Munzert \\n2nd:  Prof. Slava Jankin \\n3rd:  Prof. Mark Kayser \\n\\n3 AY: 2020-2021'\n"
          ],
          "name": "stdout"
        }
      ]
    },
    {
      "cell_type": "markdown",
      "metadata": {
        "id": "M0c_ftxjxY_H"
      },
      "source": [
        "## Importing what we need"
      ]
    },
    {
      "cell_type": "markdown",
      "metadata": {
        "id": "sYpCc6tdA8Cg"
      },
      "source": [
        "For some reasons it gives an error put when the cell runs at first time, just try again and it should work."
      ]
    },
    {
      "cell_type": "code",
      "metadata": {
        "id": "SZmTpQUov8y8"
      },
      "source": [
        "from contextualized_topic_models.models.ctm import CombinedTM\n",
        "from contextualized_topic_models.utils.data_preparation import bert_embeddings_from_list, TopicModelDataPreparation\n",
        "from contextualized_topic_models.datasets.dataset import CTMDataset\n",
        "from contextualized_topic_models.evaluation.measures import CoherenceNPMI, InvertedRBO\n",
        "from gensim.corpora.dictionary import Dictionary\n",
        "from gensim.test.utils import common_texts\n",
        "from gensim.models import ldamodel \n",
        "from contextualized_topic_models.utils.preprocessing import WhiteSpacePreprocessing\n",
        "import nltk\n",
        "import os\n",
        "import pickle"
      ],
      "execution_count": 8,
      "outputs": []
    },
    {
      "cell_type": "markdown",
      "metadata": {
        "id": "CQkeIrdWLU2m"
      },
      "source": [
        "## Preprocessing"
      ]
    },
    {
      "cell_type": "markdown",
      "metadata": {
        "id": "V-AM070Ez6lW"
      },
      "source": [
        "Let's pass our file with preprocess data to our text handler object. This object takes care of creating the bag of words for you.\n",
        "\n",
        "Why do we use the **preprocessed text** here? we need text without punctuation to build the bag of word. Also, we might want only to have the most frequent words inside the BoW. Too many words might not help."
      ]
    },
    {
      "cell_type": "code",
      "metadata": {
        "id": "HoKrSIkxaNBt",
        "colab": {
          "base_uri": "https://localhost:8080/"
        },
        "outputId": "9014a5c1-1af9-4ee2-d063-411cea8148c0"
      },
      "source": [
        "nltk.download('stopwords')\n",
        "\n",
        "documents = train_file\n",
        "#documents = [line.strip() for line in open(text_file, encoding=\"utf-8\").readlines()]\n",
        "sp = WhiteSpacePreprocessing(documents, \"english\")\n",
        "train_preprocessed_documents_for_bow, train_unpreprocessed_corpus_for_contextual, vocab = sp.preprocess()"
      ],
      "execution_count": 9,
      "outputs": [
        {
          "output_type": "stream",
          "text": [
            "[nltk_data] Downloading package stopwords to /root/nltk_data...\n",
            "[nltk_data]   Unzipping corpora/stopwords.zip.\n"
          ],
          "name": "stdout"
        }
      ]
    },
    {
      "cell_type": "code",
      "metadata": {
        "id": "dhUjirOKu2dj"
      },
      "source": [
        "documents = test_file\n",
        "#documents = [line.strip() for line in open(text_file, encoding=\"utf-8\").readlines()]\n",
        "sp = WhiteSpacePreprocessing(documents, \"english\")\n",
        "test_preprocessed_documents_for_bow, test_unpreprocessed_corpus_for_contextual, vocab = sp.preprocess()"
      ],
      "execution_count": 10,
      "outputs": []
    },
    {
      "cell_type": "code",
      "metadata": {
        "id": "_dZTaftuBD8J"
      },
      "source": [
        "documents = val_file\n",
        "#documents = [line.strip() for line in open(text_file, encoding=\"utf-8\").readlines()]\n",
        "sp = WhiteSpacePreprocessing(documents, \"english\")\n",
        "val_preprocessed_documents_for_bow, val_unpreprocessed_corpus_for_contextual, vocab = sp.preprocess()"
      ],
      "execution_count": 11,
      "outputs": []
    },
    {
      "cell_type": "markdown",
      "metadata": {
        "id": "vu0HY7KWGrk1"
      },
      "source": [
        "You might want to pickle the **training_dataset** object to avoid recomputing the BoW multiple times"
      ]
    },
    {
      "cell_type": "code",
      "metadata": {
        "id": "KhLt6VA3wvCB",
        "colab": {
          "base_uri": "https://localhost:8080/",
          "height": 66,
          "referenced_widgets": [
            "7eae40cf9f8d470dbf59e5fee9bc642e",
            "b009fed8dbac4ff69d45f3d6217297a3",
            "59ede88ac8f64d4bb7410d2ef6bc9091",
            "9f8fb24715374dc0b83e694e2dc8eacf",
            "d56dda0b2d024d24bc4c0dd274ae609e",
            "c4fbe7d3baee47fa8a1e7a785bc39cda",
            "844702ebe7394d0391d65e770b360eec",
            "119897a1bbd848abbc8bbc684791b81c",
            "a61a2973bbf341959b76178f32980999",
            "a2c80861bde1435c9b8d5514f04ab722",
            "a2062c579e0d437e9d25b40ea64aa36d"
          ]
        },
        "outputId": "11b3d048-4ff1-44cf-c364-05005e32dca1"
      },
      "source": [
        "qt = TopicModelDataPreparation(\"bert-base-nli-mean-tokens\")\n",
        "\n",
        "training_dataset = qt.create_training_set(train_unpreprocessed_corpus_for_contextual, train_preprocessed_documents_for_bow)"
      ],
      "execution_count": 12,
      "outputs": [
        {
          "output_type": "stream",
          "text": [
            "100%|██████████| 405M/405M [00:15<00:00, 26.1MB/s]\n"
          ],
          "name": "stderr"
        },
        {
          "output_type": "display_data",
          "data": {
            "application/vnd.jupyter.widget-view+json": {
              "model_id": "7eae40cf9f8d470dbf59e5fee9bc642e",
              "version_minor": 0,
              "version_major": 2
            },
            "text/plain": [
              "Batches:   0%|          | 0/5 [00:00<?, ?it/s]"
            ]
          },
          "metadata": {
            "tags": []
          }
        }
      ]
    },
    {
      "cell_type": "code",
      "metadata": {
        "id": "9kakuf-0BbDm"
      },
      "source": [
        "#pickle the training dataset\n",
        "with open('training.pickle', 'wb') as f:\n",
        "    pickle.dump(training_dataset, f)"
      ],
      "execution_count": 13,
      "outputs": []
    },
    {
      "cell_type": "markdown",
      "metadata": {
        "id": "i5agbVqhxdnY"
      },
      "source": [
        "## Training our Contextualized Topic Model\n",
        "\n",
        "Finally, we can fit our new topic model. We will ask the model to find 28 topics in our collection (n_component parameter of the CTM object), equal to number of supervisors"
      ]
    },
    {
      "cell_type": "code",
      "metadata": {
        "id": "dALamw7HxLj-",
        "colab": {
          "base_uri": "https://localhost:8080/"
        },
        "outputId": "41dca25d-0ed1-4362-b0e8-6258a10a345a"
      },
      "source": [
        "ctm = CombinedTM(input_size=len(qt.vocab), bert_input_size=768, n_components=28, num_epochs=20)\n",
        "\n",
        "ctm.fit(training_dataset) "
      ],
      "execution_count": 45,
      "outputs": [
        {
          "output_type": "stream",
          "text": [
            "Epoch: [20/20]\t Seen Samples: [16200/16200]\tTrain Loss: 13034.064429012345\tTime: 0:00:00.444786: : 20it [00:08,  2.26it/s]\n"
          ],
          "name": "stderr"
        }
      ]
    },
    {
      "cell_type": "markdown",
      "metadata": {
        "id": "NVNmZrvGDgoL"
      },
      "source": [
        "## Saving the Model"
      ]
    },
    {
      "cell_type": "code",
      "metadata": {
        "colab": {
          "base_uri": "https://localhost:8080/"
        },
        "id": "o_gXYJNyvV7L",
        "outputId": "5e3eae9b-0224-4d13-b799-45e1d81d8e01"
      },
      "source": [
        "path = F\"/content/drive/MyDrive/ThesisAllocationSystem/models/ctm.bin\" \n",
        "ctm.save(path)"
      ],
      "execution_count": 46,
      "outputs": [
        {
          "output_type": "stream",
          "text": [
            "/usr/local/lib/python3.7/dist-packages/contextualized_topic_models/models/ctm.py:388: Warning: This is an experimental feature that we has not been fully tested. Refer to the following issue:https://github.com/MilaNLProc/contextualized-topic-models/issues/38\n",
            "  Warning)\n"
          ],
          "name": "stderr"
        }
      ]
    },
    {
      "cell_type": "markdown",
      "metadata": {
        "id": "KKAMm2eRDic6"
      },
      "source": [
        "## Loading the Model "
      ]
    },
    {
      "cell_type": "code",
      "metadata": {
        "id": "IlkU_lg4DmiU"
      },
      "source": [
        "del ctm"
      ],
      "execution_count": 31,
      "outputs": []
    },
    {
      "cell_type": "code",
      "metadata": {
        "id": "295mzsUFDp2i",
        "outputId": "b9c6c4f0-397e-4ad6-da11-8c7c1a468ac4",
        "colab": {
          "base_uri": "https://localhost:8080/",
          "height": 404
        }
      },
      "source": [
        "ctm = CombinedTM(input_size=len(qt.vocab), bert_input_size=768, num_epochs=100, n_components=50)\n",
        "\n",
        "ctm.load(\"/content/drive/MyDrive/ThesisAllocationSystem/models/ctm.bin/contextualized_topic_model_nc_25_tpm_0.0_tpv_0.96_hs_prodLDA_ac_(100, 100)_do_softplus_lr_0.2_mo_0.002_rp_0.99/epoch_14.pth\", epoch = 14)"
      ],
      "execution_count": 37,
      "outputs": [
        {
          "output_type": "stream",
          "text": [
            "/usr/local/lib/python3.7/dist-packages/contextualized_topic_models/models/ctm.py:413: Warning: This is an experimental feature that we has not been fully tested. Refer to the following issue:https://github.com/MilaNLProc/contextualized-topic-models/issues/38\n",
            "  Warning)\n"
          ],
          "name": "stderr"
        },
        {
          "output_type": "error",
          "ename": "NotADirectoryError",
          "evalue": "ignored",
          "traceback": [
            "\u001b[0;31m---------------------------------------------------------------------------\u001b[0m",
            "\u001b[0;31mNotADirectoryError\u001b[0m                        Traceback (most recent call last)",
            "\u001b[0;32m<ipython-input-37-6347d78ab620>\u001b[0m in \u001b[0;36m<module>\u001b[0;34m()\u001b[0m\n\u001b[1;32m      1\u001b[0m \u001b[0mctm\u001b[0m \u001b[0;34m=\u001b[0m \u001b[0mCombinedTM\u001b[0m\u001b[0;34m(\u001b[0m\u001b[0minput_size\u001b[0m\u001b[0;34m=\u001b[0m\u001b[0mlen\u001b[0m\u001b[0;34m(\u001b[0m\u001b[0mqt\u001b[0m\u001b[0;34m.\u001b[0m\u001b[0mvocab\u001b[0m\u001b[0;34m)\u001b[0m\u001b[0;34m,\u001b[0m \u001b[0mbert_input_size\u001b[0m\u001b[0;34m=\u001b[0m\u001b[0;36m768\u001b[0m\u001b[0;34m,\u001b[0m \u001b[0mnum_epochs\u001b[0m\u001b[0;34m=\u001b[0m\u001b[0;36m100\u001b[0m\u001b[0;34m,\u001b[0m \u001b[0mn_components\u001b[0m\u001b[0;34m=\u001b[0m\u001b[0;36m50\u001b[0m\u001b[0;34m)\u001b[0m\u001b[0;34m\u001b[0m\u001b[0;34m\u001b[0m\u001b[0m\n\u001b[1;32m      2\u001b[0m \u001b[0;34m\u001b[0m\u001b[0m\n\u001b[0;32m----> 3\u001b[0;31m \u001b[0mctm\u001b[0m\u001b[0;34m.\u001b[0m\u001b[0mload\u001b[0m\u001b[0;34m(\u001b[0m\u001b[0;34m\"/content/drive/MyDrive/ThesisAllocationSystem/models/ctm.bin/contextualized_topic_model_nc_25_tpm_0.0_tpv_0.96_hs_prodLDA_ac_(100, 100)_do_softplus_lr_0.2_mo_0.002_rp_0.99/epoch_14.pth\"\u001b[0m\u001b[0;34m,\u001b[0m \u001b[0mepoch\u001b[0m \u001b[0;34m=\u001b[0m \u001b[0;36m14\u001b[0m\u001b[0;34m)\u001b[0m\u001b[0;34m\u001b[0m\u001b[0;34m\u001b[0m\u001b[0m\n\u001b[0m",
            "\u001b[0;32m/usr/local/lib/python3.7/dist-packages/contextualized_topic_models/models/ctm.py\u001b[0m in \u001b[0;36mload\u001b[0;34m(self, model_dir, epoch)\u001b[0m\n\u001b[1;32m    415\u001b[0m         \u001b[0mepoch_file\u001b[0m \u001b[0;34m=\u001b[0m \u001b[0;34m\"epoch_\"\u001b[0m \u001b[0;34m+\u001b[0m \u001b[0mstr\u001b[0m\u001b[0;34m(\u001b[0m\u001b[0mepoch\u001b[0m\u001b[0;34m)\u001b[0m \u001b[0;34m+\u001b[0m \u001b[0;34m\".pth\"\u001b[0m\u001b[0;34m\u001b[0m\u001b[0;34m\u001b[0m\u001b[0m\n\u001b[1;32m    416\u001b[0m         \u001b[0mmodel_file\u001b[0m \u001b[0;34m=\u001b[0m \u001b[0mos\u001b[0m\u001b[0;34m.\u001b[0m\u001b[0mpath\u001b[0m\u001b[0;34m.\u001b[0m\u001b[0mjoin\u001b[0m\u001b[0;34m(\u001b[0m\u001b[0mmodel_dir\u001b[0m\u001b[0;34m,\u001b[0m \u001b[0mepoch_file\u001b[0m\u001b[0;34m)\u001b[0m\u001b[0;34m\u001b[0m\u001b[0;34m\u001b[0m\u001b[0m\n\u001b[0;32m--> 417\u001b[0;31m         \u001b[0;32mwith\u001b[0m \u001b[0mopen\u001b[0m\u001b[0;34m(\u001b[0m\u001b[0mmodel_file\u001b[0m\u001b[0;34m,\u001b[0m \u001b[0;34m'rb'\u001b[0m\u001b[0;34m)\u001b[0m \u001b[0;32mas\u001b[0m \u001b[0mmodel_dict\u001b[0m\u001b[0;34m:\u001b[0m\u001b[0;34m\u001b[0m\u001b[0;34m\u001b[0m\u001b[0m\n\u001b[0m\u001b[1;32m    418\u001b[0m             \u001b[0mcheckpoint\u001b[0m \u001b[0;34m=\u001b[0m \u001b[0mtorch\u001b[0m\u001b[0;34m.\u001b[0m\u001b[0mload\u001b[0m\u001b[0;34m(\u001b[0m\u001b[0mmodel_dict\u001b[0m\u001b[0;34m)\u001b[0m\u001b[0;34m\u001b[0m\u001b[0;34m\u001b[0m\u001b[0m\n\u001b[1;32m    419\u001b[0m \u001b[0;34m\u001b[0m\u001b[0m\n",
            "\u001b[0;31mNotADirectoryError\u001b[0m: [Errno 20] Not a directory: '/content/drive/MyDrive/ThesisAllocationSystem/models/ctm.bin/contextualized_topic_model_nc_25_tpm_0.0_tpv_0.96_hs_prodLDA_ac_(100, 100)_do_softplus_lr_0.2_mo_0.002_rp_0.99/epoch_14.pth/epoch_14.pth'"
          ]
        }
      ]
    },
    {
      "cell_type": "markdown",
      "metadata": {
        "id": "ZSOGU7RgENqT"
      },
      "source": [
        "Loading from Colab directory doesn't seem to work. "
      ]
    },
    {
      "cell_type": "markdown",
      "metadata": {
        "id": "-SEBG6wj9Zdu"
      },
      "source": [
        "# Topics\n",
        "\n",
        "After training, now it is the time to look at our topics: we can use the \n",
        "\n",
        "```\n",
        "get_topic_lists\n",
        "```\n",
        "\n",
        "function to get the topics. It also accepts a parameter that allows you to select how many words you want to see for each topic.\n",
        "\n",
        "If you look at the topics, you will see that they all make sense and are representative of a collection of documents that comes from Wikipedia (general knowledge)."
      ]
    },
    {
      "cell_type": "code",
      "metadata": {
        "id": "lxcKgjbx3V2o",
        "colab": {
          "base_uri": "https://localhost:8080/"
        },
        "outputId": "88bbb805-0950-413e-d003-5b99f057f2ce"
      },
      "source": [
        "ctm.get_topic_lists(5)"
      ],
      "execution_count": 47,
      "outputs": [
        {
          "output_type": "execute_result",
          "data": {
            "text/plain": [
              "[['energy', 'price', 'al', 'climate', 'emissions'],\n",
              " ['groups', 'states', 'conflict', 'violence', 'conflicts'],\n",
              " ['training', 'higher', 'firm', 'firms', 'vocational'],\n",
              " ['social', 'policy', 'public', 'different', 'problems'],\n",
              " ['public', 'sector', 'management', 'policy', 'governance'],\n",
              " ['state', 'states', 'conflict', 'member', 'actors'],\n",
              " ['price', 'firm', 'lower', 'firms', 'prices'],\n",
              " ['states', 'european', 'eu', 'law', 'state'],\n",
              " ['nwould', 'calls', 'seekers', 'bring', 'ninstitutional'],\n",
              " ['crossmark', 'ngovernments', 'throughout', 'nwould', 'sometimes'],\n",
              " ['information', 'parties', 'online', 'media', 'party'],\n",
              " ['law', 'international', 'court', 'human', 'rights'],\n",
              " ['nn', 'nd', 'ne', 'results', 'ns'],\n",
              " ['social', 'economic', 'people', 'business', 'entrepreneurs'],\n",
              " ['presence', 'sometimes', 'body', 'whole', 'strength'],\n",
              " ['party', 'vote', 'election', 'parties', 'elections'],\n",
              " ['time', 'germany', 'german', 'employment', 'child'],\n",
              " ['countries', 'government', 'financial', 'tax', 'bank'],\n",
              " ['political', 'policy', 'use', 'party', 'information'],\n",
              " ['existence', 'promote', 'arguments', 'calls', 'kind'],\n",
              " ['election', 'economic', 'vote', 'social', 'people'],\n",
              " ['countries', 'women', 'germany', 'nn', 'birth'],\n",
              " ['nwe', 'time', 'used', 'model', 'results'],\n",
              " ['firms', 'economy', 'sector', 'bank', 'services'],\n",
              " ['government', 'political', 'public', 'advisers', 'service'],\n",
              " ['employment', 'union', 'member', 'wage', 'unions'],\n",
              " ['human', 'law', 'international', 'rights', 'eds'],\n",
              " ['results', 'used', 'data', 'time', 'price']]"
            ]
          },
          "metadata": {
            "tags": []
          },
          "execution_count": 47
        }
      ]
    },
    {
      "cell_type": "markdown",
      "metadata": {
        "id": "jeNJfHvzjD2R"
      },
      "source": [
        "### Let's find our documents' topics\n",
        "\n",
        "Ok now we can take a document and see which topic has been asigned to it. Results will obviously change with respect to the documents you are using. For example, let's predict the topic of the first preprocessed document."
      ]
    },
    {
      "cell_type": "code",
      "metadata": {
        "id": "Zl5O1HExjI0e",
        "colab": {
          "base_uri": "https://localhost:8080/"
        },
        "outputId": "211725be-53b7-496d-cd42-0a75a06986de"
      },
      "source": [
        "topics_predictions = ctm.get_doc_topic_distribution(training_dataset, n_samples=20) # get all the topic predictions"
      ],
      "execution_count": 48,
      "outputs": [
        {
          "output_type": "stream",
          "text": [
            "Sampling: [20/20]: : 20it [00:08,  2.48it/s]\n"
          ],
          "name": "stderr"
        }
      ]
    },
    {
      "cell_type": "code",
      "metadata": {
        "id": "fFWsIxDYj0pC",
        "colab": {
          "base_uri": "https://localhost:8080/",
          "height": 120
        },
        "outputId": "c68557c4-b7f5-468d-ae32-f67f18a17652"
      },
      "source": [
        "train_preprocessed_documents_for_bow[0] # see the text of the first preprocessed document"
      ],
      "execution_count": 49,
      "outputs": [
        {
          "output_type": "execute_result",
          "data": {
            "application/vnd.google.colaboratory.intrinsic+json": {
              "type": "string"
            },
            "text/plain": [
              "'nsee discussions author publication https www researchgate net publication incentive preferences issues strategies local government first evidence narticle authors including nsome authors publication also working related projects open innovative governments view project public sector future view project publications nsee profile school governance publications nsee profile nall content following page september nthe user downloaded nhttps www researchgate net publication motivation incentive preferences issues strategies local government first evidence austria enrichid rgreq xxx enrichsource el esc publicationcoverpdf nhttps www researchgate net publication motivation incentive preferences issues strategies local government first evidence austria enrichid rgreq xxx enrichsource el esc publicationcoverpdf nhttps www researchgate net project open innovative governments enrichid rgreq xxx enrichsource el esc publicationcoverpdf nhttps www researchgate net project public sector future enrichid rgreq xxx enrichsource el esc publicationcoverpdf nhttps www researchgate net enrichid rgreq xxx enrichsource el esc publicationcoverpdf nhttps www researchgate net profile enrichid rgreq xxx enrichsource el esc publicationcoverpdf nhttps www researchgate net profile enrichid rgreq xxx enrichsource el esc publicationcoverpdf nhttps www researchgate net institution enrichid rgreq xxx enrichsource el esc publicationcoverpdf nhttps www researchgate net profile enrichid rgreq xxx enrichsource el esc publicationcoverpdf nhttps www researchgate net profile enrichid rgreq xxx enrichsource el esc publicationcoverpdf nhttps www researchgate net profile enrichid rgreq xxx enrichsource el esc publicationcoverpdf nhttps www researchgate net institution hertie school governance enrichid rgreq xxx enrichsource el esc publicationcoverpdf nhttps www researchgate net profile enrichid rgreq xxx enrichsource el esc publicationcoverpdf nhttps www researchgate net profile enrichid rgreq xxx enrichsource el esc publicationcoverpdf incentive preferences issues strategies local government nfirst evidence austria nabstract many countries contexts questions public service motivation topic empirical studies lack research german ncountries specific observed although exists nresearch civil service motivation specific recent time research little paid effects recent efforts initiatives implement management instruments perceptions values job public sector employees nin paper research concept public motivation public administration german context thereby focus government level german countries often argued npm reforms present first results na current public management research project based broad survey city quite different policy fields sample several features characteristics strong logic last years also became reform initiatives along ideas new public management nour research focus question specific dimensions characteristics public service value preferences observed differ according various factors size unit policy field type activity personal factors age duration nof employment private sector experience education gender nin analysis also link concept public service motivation independent variable issues public management reform survey includes questions job incentive preferences various types well assessment public management reforms various types nmanagement instruments interested far specific public sector motivation specific incentives respondents assessment various measures nmanagement instruments proposed paper forms part research project public service motivation characteristics public administration opportunities incentives public der page introduction research public sector motivation identity last decade context concept public service motivation developed us defined respond motives primarily public ninstitutions organizations authors followed used instance describe force nthat individuals perform public service general motivation serve interests community state nation addition although model specifically towards united states us american model model nthat also found european region different researchers analyze public service behavior without especially european authors use like public service conceptual discussions increasing last years nand applied empirical studies different countries several studies used dependent nand independent variable relationship public service motivation nand job organizational commitment performance organizational members high levels appear contribute various ways engage public interest higher levels organizational believe jobs important turn leads working likely high job less likely leave jobs overall nresearch far central issue strategies identity motivation important cultural dimension cannot one socio historical context next together empirical application within research questions national differences npublic sector motivation relevance page nof outside us recent research holds differences npublic service motivation different countries phenomenon needs nresearch cross cultural context nin order problem regional differences authors nwhich cover sense also types value behavioral instance values go beyond self interest organizational interest concern interest na larger political individuals act appropriate na definition according work values general values seen work values recent equally based initial definition nin research design draw original nthey argue motivation act specific way must rational costs benefits rather rational normative motives individuals highly public service work based three categories nin various studies support also found cross sector found nthat public private managers significant differences perceptions different types contrast private managers public managers public service work others important higher pay less important similar conclusions preferences government hybrid business sector managers understood series studies developed measure distinct dimensions public policy making commitment public interest self dimensions distinction three categories motives mentioned public npolicy making category rational motives involves actions utility participation public policy making ones self importance commitment public interest nthe category norm based motives self category motives help others one personal understood page neither normative type state nthe four different dimensions measured multiple scale however measure developed used studies fact across ndifferent empirical studies another opinion needs attention different dimensions kind overall suggested dimension distinct potentially unique form follow study supported different dimensions many recent studies using questions use overall score dimension rather studying effects dimensions especially socio contexts four dimensions nthis overall score many countries contexts questions public service motivation nhave increasingly topic empirical studies observe lack research ngerman countries specific although nhas research civil service motivation specific recent years field nbeen followed little attention paid effects recent efforts initiatives nto implement management concepts instruments perceptions values job public sector employees paper research concept public sector motivation public administration na german research context focus local government level ngerman countries often argued npm reforms present first results current npublic management research project based broad survey city quite different policy fields sample public employees features characteristics administration strong logic last years administrative reform initiatives along ideas npm also reputation one regions europe providing proposed paper part research project public service motivation characteristics public administration opportunities incentives public nmanagement der page nhigh quality life quality life survey based survey nof international city highest quality life within nthe european union nour research focus question specific dimensions characteristics npublic service motivation value preferences observed specific context nhow differ according various factors size unit policy field type personal factors age duration employment private sector experience neducation gender analysis also link concept public service motivation nto various issues public management reform survey includes questions job incentive preferences various types nof incentives well assessment public management reforms various types nmanagement instruments interested far specific public sector motivation preferences specific incentives respondents assessment measures management instruments particular interest different dimensions show similar significantly different relationships nwith factors need separate nan overall research strategy nas data collection recently present nresults early stage research paper therefore statistics nto descriptive results first complex regression analyses influence several independent variables dimensions next step features public administration austria nas organizational practices socially rule sets dependent institutional managerial work attention need country specific data similarly public management literature factors characteristics legal culture understanding public sector change nour study focus austria country described home administration specifically city first time nthat concept applied german public administration believe nis necessary discuss concept specific context page germany institutional logic public characterized approach still theory law first constitution rational form authority idea rules established stable political applied equal independent central flexibility strongly constitutional principles nas principle principle regulations consequence public administration strong emphasis rules together relatively high amount internal orientation described legal performance results although nthese features common austria nthe home administration system hierarchical administration civil shows law nand objective civil great sense expertise stability special professional state nin austria elements professional identity different forms expertise bodies knowledge health education infrastructure social especially legal central role public executives background legal studies strong legal focus nof training system public employment system detailed regulations relatively private sector employment little mobility within systems austria germany administrative observe specific professional civil specific relation state nand public tasks resulting germany see includes core elements civil identity around ideas towards nand citizen action political changes great sense administrative expertise office public interest societal interests features life ntime status protection including based page nthese general features public sector logic identity equally run levels thus also city administration capital republic austria million city far governance system specific features takes unique position austria city federal state federal constitution art federal state legislation city council state executive body wider power compared due role state also due historical reasons function capital city state characterized large size broad variety functions na high complexity governance system city trend source austria employees enterprises na specific feature considerable impact administration political one party social democratic party period often city na far way era first city population people social democratic government political culture policy means national education social policy main local social democratic administration various elements local welfare system type top nof government seen achieved important working class nbased city still ii held years coalition party end majority council nas already long term one political party leads na complex local government political private actors sense described form social democratic urban ngovernance et al responsible broad tasks areas education social affairs environmental protection employment state addition city administration responsible broad city administration functions related urban development culture management public management page city administration currently regional latter responsible nthe along system federal administration units developed quite distinct corporate identities often strong professional status within specific policy field decades hierarchical governance nsystem recently liberal models line npolitical eu countries et al late city administration became management initiatives along ideas npm similar federal administration nwith international trends order promote entrepreneurial city large addition according administrative led city self understanding refers large company focus citizens efficiency criteria nintroduction new management instruments contract management planning nthe concept relationship features developments would point direction high npublic interest political required public servants would make relatively motivation policy making hand new entrepreneurial clear opposition traditional self relation public servants nresearch interested extent features system social democratic influence legal hierarchical culture influence various dimensions well public sector general addition interested whether observe new logic starting values federal tasks according constitution art either federal authorities purpose authorities state level called federal administration case page data method study based mail employees city well one autonomous unit mit administrative job types addition also paper form selection nbased several criteria different policy fields cultural social internal external services core autonomous units included open questions general towards npublic services including questions job incentives management public administration asked personal background ninformation pre lower level executives prior survey employees mentioned city received executive study employees complete office hours data database form added database nwith respondents response rate mentioned sample area persons functions included leads overall sample although study public sector broad findings representative study whole city nnumber respondents also different questions questions nthe sample female male respondents years generally relatively force public sector regarding family status majority nin children concerning background majority public executives sample low middle level education degree whereas university degree respondents working capacity member npolitical party regard employment working npublic sector years relatively new five employment refer employment private sector'"
            ]
          },
          "metadata": {
            "tags": []
          },
          "execution_count": 49
        }
      ]
    },
    {
      "cell_type": "code",
      "metadata": {
        "id": "kJf1bP5PjqOQ",
        "colab": {
          "base_uri": "https://localhost:8080/"
        },
        "outputId": "bbc2815b-cdc3-40dd-c2a5-ccd26baca7e3"
      },
      "source": [
        "import numpy as np\n",
        "topic_number = np.argmax(topics_predictions[0]) # get the topic id of the first document\n",
        "topic_number"
      ],
      "execution_count": 50,
      "outputs": [
        {
          "output_type": "execute_result",
          "data": {
            "text/plain": [
              "4"
            ]
          },
          "metadata": {
            "tags": []
          },
          "execution_count": 50
        }
      ]
    },
    {
      "cell_type": "code",
      "metadata": {
        "id": "yMA9vUsgjwOi",
        "colab": {
          "base_uri": "https://localhost:8080/"
        },
        "outputId": "817e1ac9-1de5-415a-b487-c2a28b09dfda"
      },
      "source": [
        "ctm.get_topic_lists(4)[topic_number] #and the topic should and could be about public management related things"
      ],
      "execution_count": 51,
      "outputs": [
        {
          "output_type": "execute_result",
          "data": {
            "text/plain": [
              "['public', 'sector', 'management', 'policy']"
            ]
          },
          "metadata": {
            "tags": []
          },
          "execution_count": 51
        }
      ]
    },
    {
      "cell_type": "markdown",
      "metadata": {
        "id": "galVyA1MsvRe"
      },
      "source": [
        "## Test\n",
        "\n",
        "We are using the test set to predict for unseen documents. "
      ]
    },
    {
      "cell_type": "code",
      "metadata": {
        "colab": {
          "base_uri": "https://localhost:8080/",
          "height": 66,
          "referenced_widgets": [
            "a8b422c142a743ab978d73ed1fb5bf80",
            "0169d42419414959838df1b21d10c05f",
            "ac0fdec130b74d4a8d29ed84df8dcd42",
            "e4f3f6f7848542c8bc1045817f2f676b",
            "6460a6c5617044009a11d666e3005b1f",
            "5c48f1a232cc4556929c096be08df14b",
            "b6cb2459c4f4435598081b879f901040",
            "60e17b22a96c4902b499580b9a61aa89",
            "53334e901b764e5e86327e0dc9d43c5b",
            "4302bb935b6d47b7b9fc4491a9343578",
            "81a56efa85f24984b0fd1964f32058dd"
          ]
        },
        "id": "zIq7_IUgs0kA",
        "outputId": "24acf426-96ca-467e-b7ae-e8290b9c358b"
      },
      "source": [
        "testing_dataset = qt.create_test_set(test_unpreprocessed_corpus_for_contextual, test_preprocessed_documents_for_bow) # create dataset for the testset\n",
        "test_predictions = ctm.get_doc_topic_distribution(testing_dataset, n_samples=3)"
      ],
      "execution_count": 56,
      "outputs": [
        {
          "output_type": "display_data",
          "data": {
            "application/vnd.jupyter.widget-view+json": {
              "model_id": "a8b422c142a743ab978d73ed1fb5bf80",
              "version_minor": 0,
              "version_major": 2
            },
            "text/plain": [
              "Batches:   0%|          | 0/1 [00:00<?, ?it/s]"
            ]
          },
          "metadata": {
            "tags": []
          }
        },
        {
          "output_type": "stream",
          "text": [
            "Sampling: [3/3]: : 3it [00:00,  5.09it/s]\n"
          ],
          "name": "stderr"
        }
      ]
    },
    {
      "cell_type": "code",
      "metadata": {
        "colab": {
          "base_uri": "https://localhost:8080/"
        },
        "id": "To-IcPtsv8bV",
        "outputId": "9000e138-2bc6-48bd-c76e-a9b734cf31c7"
      },
      "source": [
        "print(test_unpreprocessed_corpus_for_contextual[4])\n",
        "\n",
        "topic_index = np.argmax(predictions[4])\n",
        "ctm.get_topic_lists(5)[topic_index]"
      ],
      "execution_count": 59,
      "outputs": [
        {
          "output_type": "stream",
          "text": [
            "b'New Thesis Proposal Form \\n\\nAY 2020-2021 \\n\\n0. Students \\n\\n- Babatunde Williams (MPP): 191277 \\n- Ba Linh Le (MPP): 701162  \\n\\n \\n1. What is your research topic? \\n\\n \\nThe research topic area is womens rights - programme development. \\n \\n\\n2. What is your research question? \\n\\n \\nWhich type of perpetrator prevention programme is most effective in a post-conflict \\nrefugee camp setting?  \\n \\n\\nThe three types of perpetrator prevention programme that will be explored are: Mother \\nand son, Father and son, Sons alone.  \\n \\n\\n3. Why would you like to explore this topic and question? \\n\\n \\nThere is a significant body of evidence that suggests that exposure to violence and \\ntrauma in childhood, can lead to an increased likelihood of experiencing or inflicting \\ndomestic violence in adulthood. \\n \\nKurdistan has high rates of domestic violence. And those in its refugee camps have \\noften both experienced and fled violence. This makes the young people in its camps, \\nespecially men, as violence is a gendered action, at high risk of being perpetrators later \\nin life due to the combination of learned behaviours and trauma. \\n \\n\\n4. What are the debates to which your dissertation will relate? \\n\\n \\n- Are perpetrator programmes a worthwhile investment considering the money could \\n\\nbe better spent on programmes directly working on women and girls? \\n- Can perpetrator programmes improve the empathy towards victims of violence? \\n\\n \\n5. What is your proposed methodology? \\n\\n \\n- Mixed: quantitative & qualitative.  \\n\\n \\n6. What type of data do you need?  \\n\\n \\n\\n- Mixed: quantitative & qualitative. Both provided by the partner organization.  \\n \\n\\n7. Who are your proposed supervisors? \\n \\n\\n- Prof. Mujaheed Shaikh  \\n- Prof. Michaela Kreyenfeld  \\n- Prof. Helmut K. Anheier'\n"
          ],
          "name": "stdout"
        },
        {
          "output_type": "execute_result",
          "data": {
            "text/plain": [
              "['crossmark', 'ngovernments', 'throughout', 'nwould', 'sometimes']"
            ]
          },
          "metadata": {
            "tags": []
          },
          "execution_count": 59
        }
      ]
    },
    {
      "cell_type": "markdown",
      "metadata": {
        "id": "mOrKAWcbDBP1"
      },
      "source": [
        "Topics seem to show little validity here, might be due to shortness of the proposal text as well as the small sample size. Hopefully this will improve"
      ]
    },
    {
      "cell_type": "markdown",
      "metadata": {
        "id": "ja_Zzz80B664"
      },
      "source": [
        "## Validation\n",
        "\n",
        "We are using the supervision plans to predict for topics that professors offer their students to write their thesis about."
      ]
    },
    {
      "cell_type": "code",
      "metadata": {
        "id": "rx0yT4urCvSS",
        "outputId": "365339bb-6f54-4f9d-e1e9-82eec7ca7d67",
        "colab": {
          "base_uri": "https://localhost:8080/",
          "height": 66,
          "referenced_widgets": [
            "4ac9e2e9ecde4156846d96a54758f33b",
            "f7dd7ec68ccc408abe2173204499de5a",
            "e78820906cd24845ae72109d53d2aba4",
            "c649e8587a2b4a01856b8063ac13bf21",
            "c0d204106b004aacb9c20757b958cfe7",
            "49aee8c3d0b8464891f8a62390c470f8",
            "f33d1e7c36b84e3da35432e6ff186854",
            "fb8ceaa6ad95488a9c537850d2f58b1d",
            "84f549c28a9a489ea1e5980c0e779420",
            "2eb8acdf45ea472589552e45874e0de1",
            "e2646740616d49b798e99c14b30ab12f"
          ]
        }
      },
      "source": [
        "validation_dataset = qt.create_test_set(val_unpreprocessed_corpus_for_contextual, val_preprocessed_documents_for_bow) # create dataset for the test set\n",
        "predictions = ctm.get_doc_topic_distribution(validation_dataset, n_samples=5)"
      ],
      "execution_count": 64,
      "outputs": [
        {
          "output_type": "display_data",
          "data": {
            "application/vnd.jupyter.widget-view+json": {
              "model_id": "4ac9e2e9ecde4156846d96a54758f33b",
              "version_minor": 0,
              "version_major": 2
            },
            "text/plain": [
              "Batches:   0%|          | 0/1 [00:00<?, ?it/s]"
            ]
          },
          "metadata": {
            "tags": []
          }
        },
        {
          "output_type": "stream",
          "text": [
            "Sampling: [5/5]: : 5it [00:00,  5.08it/s]\n"
          ],
          "name": "stderr"
        }
      ]
    },
    {
      "cell_type": "code",
      "metadata": {
        "id": "K9XftG7oFB_d",
        "outputId": "a388eba1-24cc-4776-9ed9-f315e9c123b6",
        "colab": {
          "base_uri": "https://localhost:8080/"
        }
      },
      "source": [
        "print(val_unpreprocessed_corpus_for_contextual[4])\n",
        "\n",
        "topic_index = np.argmax(predictions[3])\n",
        "ctm.get_topic_lists(5)[topic_index]"
      ],
      "execution_count": 65,
      "outputs": [
        {
          "output_type": "stream",
          "text": [
            "b'MIA/MPP - Supervision Plan AY2020/2021        1 \\n\\n \\n \\n\\nMaster Thesis Supervision Plan \\nAcademic Year 2020-2021 \\n\\nMIA/MPP \\n \\n\\nName: Thurid Hustedt  \\n\\nProfessor of Public Administration and Management \\n\\n  \\nAdvisor Information  \\n\\nOffice 3.12.1 \\n\\nE-Mail hustedt@hertie-school.org \\n\\nFaculty Assistant Jonida Popi, popi@hertie-school.org \\n\\nOffice Hours Please make an appointment by email \\n\\n \\n \\nResearch & Advising Profile: \\nGeneral Academic Field: What is your academic field, and what are your areas of supervision? \\n\\nMy general academic field is public administration, public management and public policy.  \\n\\n \\n\\n \\n\\n \\n\\n \\n\\n \\n\\nSpecific Expertise: What is your specific area of expertise, and what topics are you supervising? \\n\\nMy research focusses on politico-administrative relations, public sector change dynamics and \\n\\ncomparative public administration. I am interested in structures and processes of government \\n\\ncoordination, decision-making and policy formulation, the organization and dynamics of policy advice \\n\\nand the governance of wicked problems and public sector digitalization both with a focus on single \\n\\ncountry cases and in a comparative perspective. I am very happy to supervise topics in these areas \\n\\nand I highly encourage students to develop their own research question and design. \\n\\n \\n\\n \\n\\n \\n\\n \\n\\n \\n\\n\\n\\n  MIA/MPP - Supervision Plan AY2020/2021        2 \\n\\nMethodology: What methodologies and methods are you able to supervise?  \\n\\nI supervise projects with a qualitative designs and mixed methods and cover the collection and \\nanalysis of qualitative data such as interviews in my colloquium.  \\n\\n \\n\\n \\n\\n \\n\\n \\nSupervision Style: Please include information on what your advisees can expect from you in terms \\nof supervision format (for instance, are you supervising by colloquium only; are you offering \\nindividual meetings; are you supervising team projects?) Please be informed that there will be both \\nonsite/online options according to your availability: \\n\\nI will meet students inside and outside the colloquium. I expect regular and active participation in \\nthe colloquium. Besides advisees are welcome to contact me for individual appointments. I am \\nhappy to provide comments on thesis outlines, research questions and designs as well as table of \\ncontents, i.e. the overall approach and structure of the thesis. \\n\\n \\nExamples of Previously Supervised Thesis Topics:  \\n\\n Coordination of EU circular economy policy in transnational city networks: Insights from \\n\\nEUROCITIES; \\n\\n  The effect of government fragmentation on broadband diffusion in OECD countries; \\n\\n  The mines and energy sector of Colombia: Coordination in the auction for long-term \\n\\nrenewable energy contracts; \\n\\n  Dual Leadership Models in German Federal Ministries; \\n\\n  The roles of Delivery Units in the Brazilian local level - The Experience of the Municipality \\nof Jundia\\xed (2017-2020);  \\n \\n\\n What Factors Have Shaped the Policy Designs of the Conflict-Ridden Policy Problem of \\nClimate Change in the US? A Comparative-Historical Analysis of US Climate Change Policy \\nSince 1992; \\n\\n \\n\\n Innovative Public Private Partnership for Marine Conservation: Case Study of an \\nEntrepreneurial Marine Protected Area in the Dominican Republic. \\n\\n \\n\\nRecommended General Readings: (if applicable) \\nThe following texts are general readings material relevant for all advisees: \\n\\nThe following texts are general readings material relevant for all advisees: \\n \\nBell, Judith/Waters, Stephen (2018): Doing your research project. A guide for first-time researchers. \\nSeventh Edition. McGraw-Hill Education. \\n \\nFlick, Uwe (2015): Introducing research methodology. Los Angeles et al: Sage. \\n\\n \\n\\n\\n\\n  MIA/MPP - Supervision Plan AY2020/2021        3 \\n\\nProposed Projects: (if applicable)  \\n\\nProject Title Practice Partner (if applicable) \\n\\nCoordinating digitalisation in government   \\n\\nGovernment organisation in and for the digital age   \\n\\nCase studies on the use of knowledge/advice in bureaucracy   \\n\\nThe role of political advisors (impact, accountability, scandals, \\n\\ndemographics) \\n \\n\\nChanging politico-administrative relations (causes and \\n\\nconsequences) \\n \\n\\nCase studies on governance mechanisms for selected wicked \\n\\nproblems  \\n \\n\\n \\n\\nPlagiarism:  \\n\\nPlagiarism is an infringement of \\xa7 11 Good Academic Conduct, 2a: Infringements of the standards of \\n\\ngood academic conduct include for instance to use wordings, ideas or other intellectual work of others \\n\\nin an academic work without clearly indicating the author. The obligation to indicate the authorship of \\n\\nothers shall apply irrespective of whether or not the sources used are protected by copyright (See: \\n\\nExam Rules, \\xa7 11 Good Academic Conduct for more information). \\n\\nIt is vital to keep track of your sources and to cite all material properly. \\n\\nThe Library will offer a session available to all students on resource management and proper citation. \\n\\n \\n\\nExtra (individual) note on plagiarism  \\n\\nAttendance:  \\n\\nStudents receive 8 ECTS for the Master\\xb4s thesis colloquium. Attendance for supervisionwhether \\n\\nin the form of a colloquium or an individual meetingis compulsory. Students are expected to be \\n\\npresent, prepared, and engaged in each session, and to adhere to deadlines set for assignments.  \\n\\nIn case of an excused absence, students must notify their supervisor. Absence must be compensated \\n\\nwith an additional assignment.  \\n\\nStudents on an academic exchange programme in the Fall Semester should be given the opportunity \\n\\nof remote supervision.  \\n\\n \\n\\n \\n\\nParticipation & Milestones: \\n\\n \\n\\n Fully-Fledged Thesis Proposal \\n\\nStudents are expected to draft a proposal of their thesis including (I) elaboration of the research \\n\\nproblem/research question, (II) brief outline of the relevant literature, (III) core concepts/theoretical \\n\\napproach, (IV) research design and data, (V) draft table of content and (VI) preliminary list of \\n\\nreferences.   \\n\\n\\n\\n  MIA/MPP - Supervision Plan AY2020/2021        4 \\n\\nThe proposal should be no longer than 2000 words (+/- 10%). The thesis proposal is due on the 26th \\n\\nNovember 2019. Please submit your thesis proposal by email. \\n\\n \\n\\n Literature Review  \\n\\nStudents will prepare a review of the literature that they use in their thesis and will summarize, discuss, \\n\\ncriticise and reflect on the extant literature to arrive at concise depictions of the state of the art of the \\n\\nparticular strands of research students want to contribute to with their MA thesis. The literature \\n\\nreview should be no longer than 1800 words (+/- 10%). The literature review is due one week before \\n\\nthe fourth session of the colloquium. Please submit your thesis proposal by email. \\n\\n \\n\\n Thesis presentation  \\n\\nStudents will present their thesis outline in sessions 5 and 6 of the colloquium. Students will prepare \\n\\nindividual presentations of about 10 minutes. Presentations will take place in a conference-format, i.e. \\n\\na discussant will be assigned to each presentation and is expected to provide detailed comments to \\n\\nthe outline and presentation before all classmates are invited to provide feedback. Accordingly, every \\n\\nstudent will present his/her own thesis and take the role of the discussant for a classmate`s \\n\\npresentation. Every student will prepare a one-/two-pager of the outline and send to the discussant \\n\\nand the supervisor two days before the presentation.  \\n\\n \\n\\nColloquium & Meeting Information: \\n\\n Colloquium Dates Session Title \\n\\nMeeting times  \\n\\n(suggested) \\n\\nSession 1: November/December 2020  \\n\\nSession 2: November /December 2020  \\n\\nSession 3: Early February 2021 (online)  \\n\\nSession 4: Mid-February/Beginning March \\n\\n2021 (online) \\n\\n \\n\\nSession 5: Late March 2021 (online)  \\n\\nSession 6: Beginning/Mid-April 2021 (online)  \\n\\nI will be on sabbatical in the spring term 2021.  \\n\\nColloquium Sessions: \\n\\nSession 1: xx.xx.2020 \\n\\nThesis outline: Organizing a research process \\n\\nAim How to organize a research process and structure a thesis  \\n\\nAssignment (e.g. thesis \\n\\nproposal) \\n\\nElaborated thesis proposal (see above)  \\n\\nReadings (if applicable) Bell, Judith/Waters, Stephen (2018): Doing your research project. A \\n\\nguide for first-time researchers. Seventh Edition. McGraw-Hill \\n\\n\\n\\n  MIA/MPP - Supervision Plan AY2020/2021        5 \\n\\nEducation, chapters 1 and 2. (Available in the top section of the \\n\\nMoodle page or in the reserve collection for this Master Thesis \\n\\nColloquium.) \\n\\n \\n\\n \\n\\nSession 2: xx.xx.2020 \\n\\nProblem definition: Formulating a research question \\n\\nAim How to elaborate, justify and formulate a research problem and question \\n\\nAssignment (e.g. \\n\\nliterature review) \\n\\n \\n\\nReadings (if applicable) Gerring, John (2012): Social Science Methodology. A Unified Framework. \\n\\nSecond Edition. Cambridge: Cambridge University Press, pp. 37-57. \\n\\n \\n\\n \\n\\nSession 3: xx.xx.2021 \\n\\nIndividual appointments \\n\\nAim To discuss your thesis proposal on an individual basis  \\n\\nAssignment (e.g. \\n\\nempirical findings) \\n\\n \\n\\nReadings (if applicable) Your own thesis proposal  \\n\\n \\n\\n \\n\\nSession 4: xx.xx.2021 \\n\\nLiterature review: Why and how to work with extant literature \\n\\nAim How to relate your thesis to the extant literature  \\n\\nAssignment (e.g. first \\n\\nchapter) \\n\\nWrite a literature review (see above) \\n\\nReadings (if applicable) Bell, Judith/Waters, Stephen (2018): Doing your research project. A guide \\n\\nfor first-time researchers. Seventh Edition. McGraw-Hill Education, \\n\\nchapter 7. (Available in the top section of the Moodle page or in the \\n\\nreserve collection for this Master Thesis Colloquium.) \\n\\nFlick, Uwe (2015): Introducing research methodology. Los Angeles et al: \\n\\nSage, chapter 5.  \\n\\n \\n\\n \\n\\n \\n\\n \\n\\n \\n\\n \\n\\n \\n\\n \\n\\n\\n\\n  MIA/MPP - Supervision Plan AY2020/2021        6 \\n\\nSession 5: xx.xx.2021 \\n\\nPresenting your thesis I \\n\\nAim Present your thesis and receive feedback  \\n\\nAssignment  Brief presentation of your thesis (5-10 minutes), role of the discussant, \\n\\nfeedback to others (see above) \\n\\nReadings (if applicable)  \\n\\n \\n\\n \\n\\nSession 6: xx.xx.2021 \\n\\nPresenting your thesis II \\n\\nAim Present your thesis and receive feedback  \\n\\nAssignment  Brief presentation of your thesis (5-10 minutes), role of the discussant, \\n\\nfeedback to others (see above) \\n\\nReadings (if applicable)'\n"
          ],
          "name": "stdout"
        },
        {
          "output_type": "execute_result",
          "data": {
            "text/plain": [
              "['nwould', 'calls', 'seekers', 'bring', 'ninstitutional']"
            ]
          },
          "metadata": {
            "tags": []
          },
          "execution_count": 65
        }
      ]
    }
  ]
}