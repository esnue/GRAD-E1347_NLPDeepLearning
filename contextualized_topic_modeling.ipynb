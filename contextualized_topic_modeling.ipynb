{
  "nbformat": 4,
  "nbformat_minor": 0,
  "metadata": {
    "accelerator": "GPU",
    "colab": {
      "name": "Tutorial (v1.8.1): Contextualized Topic Modeling with your Documents (with preprocessing). ",
      "provenance": [],
      "collapsed_sections": [],
      "toc_visible": true,
      "include_colab_link": true
    },
    "kernelspec": {
      "display_name": "Python 3",
      "name": "python3"
    },
    "widgets": {
      "application/vnd.jupyter.widget-state+json": {
        "4c5f4495987d4d56bb35e258a5aa08c2": {
          "model_module": "@jupyter-widgets/controls",
          "model_name": "HBoxModel",
          "state": {
            "_view_name": "HBoxView",
            "_dom_classes": [],
            "_model_name": "HBoxModel",
            "_view_module": "@jupyter-widgets/controls",
            "_model_module_version": "1.5.0",
            "_view_count": null,
            "_view_module_version": "1.5.0",
            "box_style": "",
            "layout": "IPY_MODEL_a137c5cbba824cd28c1cd1d1af0addc2",
            "_model_module": "@jupyter-widgets/controls",
            "children": [
              "IPY_MODEL_3e7cbccdfe0b45f193b5379095c33c66",
              "IPY_MODEL_b9af5e66761d4f4ba16305db0a4c1470",
              "IPY_MODEL_b0d07659270c4c899706c4f65ae5c1eb"
            ]
          }
        },
        "a137c5cbba824cd28c1cd1d1af0addc2": {
          "model_module": "@jupyter-widgets/base",
          "model_name": "LayoutModel",
          "state": {
            "_view_name": "LayoutView",
            "grid_template_rows": null,
            "right": null,
            "justify_content": null,
            "_view_module": "@jupyter-widgets/base",
            "overflow": null,
            "_model_module_version": "1.2.0",
            "_view_count": null,
            "flex_flow": null,
            "width": null,
            "min_width": null,
            "border": null,
            "align_items": null,
            "bottom": null,
            "_model_module": "@jupyter-widgets/base",
            "top": null,
            "grid_column": null,
            "overflow_y": null,
            "overflow_x": null,
            "grid_auto_flow": null,
            "grid_area": null,
            "grid_template_columns": null,
            "flex": null,
            "_model_name": "LayoutModel",
            "justify_items": null,
            "grid_row": null,
            "max_height": null,
            "align_content": null,
            "visibility": null,
            "align_self": null,
            "height": null,
            "min_height": null,
            "padding": null,
            "grid_auto_rows": null,
            "grid_gap": null,
            "max_width": null,
            "order": null,
            "_view_module_version": "1.2.0",
            "grid_template_areas": null,
            "object_position": null,
            "object_fit": null,
            "grid_auto_columns": null,
            "margin": null,
            "display": null,
            "left": null
          }
        },
        "3e7cbccdfe0b45f193b5379095c33c66": {
          "model_module": "@jupyter-widgets/controls",
          "model_name": "HTMLModel",
          "state": {
            "_view_name": "HTMLView",
            "style": "IPY_MODEL_b0e5b6ecc3814556b7375ba9b54a3121",
            "_dom_classes": [],
            "description": "",
            "_model_name": "HTMLModel",
            "placeholder": "​",
            "_view_module": "@jupyter-widgets/controls",
            "_model_module_version": "1.5.0",
            "value": "Batches: 100%",
            "_view_count": null,
            "_view_module_version": "1.5.0",
            "description_tooltip": null,
            "_model_module": "@jupyter-widgets/controls",
            "layout": "IPY_MODEL_abd161a8219b472386e47c71b6a67155"
          }
        },
        "b9af5e66761d4f4ba16305db0a4c1470": {
          "model_module": "@jupyter-widgets/controls",
          "model_name": "FloatProgressModel",
          "state": {
            "_view_name": "ProgressView",
            "style": "IPY_MODEL_c8647615a6c4437797cc6d3b34dc325a",
            "_dom_classes": [],
            "description": "",
            "_model_name": "FloatProgressModel",
            "bar_style": "success",
            "max": 5,
            "_view_module": "@jupyter-widgets/controls",
            "_model_module_version": "1.5.0",
            "value": 5,
            "_view_count": null,
            "_view_module_version": "1.5.0",
            "orientation": "horizontal",
            "min": 0,
            "description_tooltip": null,
            "_model_module": "@jupyter-widgets/controls",
            "layout": "IPY_MODEL_125dd2b4b2bd4a47a36801cc969c969c"
          }
        },
        "b0d07659270c4c899706c4f65ae5c1eb": {
          "model_module": "@jupyter-widgets/controls",
          "model_name": "HTMLModel",
          "state": {
            "_view_name": "HTMLView",
            "style": "IPY_MODEL_464b8e819a7f4164ad243d5514dfca6d",
            "_dom_classes": [],
            "description": "",
            "_model_name": "HTMLModel",
            "placeholder": "​",
            "_view_module": "@jupyter-widgets/controls",
            "_model_module_version": "1.5.0",
            "value": " 5/5 [00:21&lt;00:00,  3.70s/it]",
            "_view_count": null,
            "_view_module_version": "1.5.0",
            "description_tooltip": null,
            "_model_module": "@jupyter-widgets/controls",
            "layout": "IPY_MODEL_d69acaf08fee42c6bdf1c87d3699cc07"
          }
        },
        "b0e5b6ecc3814556b7375ba9b54a3121": {
          "model_module": "@jupyter-widgets/controls",
          "model_name": "DescriptionStyleModel",
          "state": {
            "_view_name": "StyleView",
            "_model_name": "DescriptionStyleModel",
            "description_width": "",
            "_view_module": "@jupyter-widgets/base",
            "_model_module_version": "1.5.0",
            "_view_count": null,
            "_view_module_version": "1.2.0",
            "_model_module": "@jupyter-widgets/controls"
          }
        },
        "abd161a8219b472386e47c71b6a67155": {
          "model_module": "@jupyter-widgets/base",
          "model_name": "LayoutModel",
          "state": {
            "_view_name": "LayoutView",
            "grid_template_rows": null,
            "right": null,
            "justify_content": null,
            "_view_module": "@jupyter-widgets/base",
            "overflow": null,
            "_model_module_version": "1.2.0",
            "_view_count": null,
            "flex_flow": null,
            "width": null,
            "min_width": null,
            "border": null,
            "align_items": null,
            "bottom": null,
            "_model_module": "@jupyter-widgets/base",
            "top": null,
            "grid_column": null,
            "overflow_y": null,
            "overflow_x": null,
            "grid_auto_flow": null,
            "grid_area": null,
            "grid_template_columns": null,
            "flex": null,
            "_model_name": "LayoutModel",
            "justify_items": null,
            "grid_row": null,
            "max_height": null,
            "align_content": null,
            "visibility": null,
            "align_self": null,
            "height": null,
            "min_height": null,
            "padding": null,
            "grid_auto_rows": null,
            "grid_gap": null,
            "max_width": null,
            "order": null,
            "_view_module_version": "1.2.0",
            "grid_template_areas": null,
            "object_position": null,
            "object_fit": null,
            "grid_auto_columns": null,
            "margin": null,
            "display": null,
            "left": null
          }
        },
        "c8647615a6c4437797cc6d3b34dc325a": {
          "model_module": "@jupyter-widgets/controls",
          "model_name": "ProgressStyleModel",
          "state": {
            "_view_name": "StyleView",
            "_model_name": "ProgressStyleModel",
            "description_width": "",
            "_view_module": "@jupyter-widgets/base",
            "_model_module_version": "1.5.0",
            "_view_count": null,
            "_view_module_version": "1.2.0",
            "bar_color": null,
            "_model_module": "@jupyter-widgets/controls"
          }
        },
        "125dd2b4b2bd4a47a36801cc969c969c": {
          "model_module": "@jupyter-widgets/base",
          "model_name": "LayoutModel",
          "state": {
            "_view_name": "LayoutView",
            "grid_template_rows": null,
            "right": null,
            "justify_content": null,
            "_view_module": "@jupyter-widgets/base",
            "overflow": null,
            "_model_module_version": "1.2.0",
            "_view_count": null,
            "flex_flow": null,
            "width": null,
            "min_width": null,
            "border": null,
            "align_items": null,
            "bottom": null,
            "_model_module": "@jupyter-widgets/base",
            "top": null,
            "grid_column": null,
            "overflow_y": null,
            "overflow_x": null,
            "grid_auto_flow": null,
            "grid_area": null,
            "grid_template_columns": null,
            "flex": null,
            "_model_name": "LayoutModel",
            "justify_items": null,
            "grid_row": null,
            "max_height": null,
            "align_content": null,
            "visibility": null,
            "align_self": null,
            "height": null,
            "min_height": null,
            "padding": null,
            "grid_auto_rows": null,
            "grid_gap": null,
            "max_width": null,
            "order": null,
            "_view_module_version": "1.2.0",
            "grid_template_areas": null,
            "object_position": null,
            "object_fit": null,
            "grid_auto_columns": null,
            "margin": null,
            "display": null,
            "left": null
          }
        },
        "464b8e819a7f4164ad243d5514dfca6d": {
          "model_module": "@jupyter-widgets/controls",
          "model_name": "DescriptionStyleModel",
          "state": {
            "_view_name": "StyleView",
            "_model_name": "DescriptionStyleModel",
            "description_width": "",
            "_view_module": "@jupyter-widgets/base",
            "_model_module_version": "1.5.0",
            "_view_count": null,
            "_view_module_version": "1.2.0",
            "_model_module": "@jupyter-widgets/controls"
          }
        },
        "d69acaf08fee42c6bdf1c87d3699cc07": {
          "model_module": "@jupyter-widgets/base",
          "model_name": "LayoutModel",
          "state": {
            "_view_name": "LayoutView",
            "grid_template_rows": null,
            "right": null,
            "justify_content": null,
            "_view_module": "@jupyter-widgets/base",
            "overflow": null,
            "_model_module_version": "1.2.0",
            "_view_count": null,
            "flex_flow": null,
            "width": null,
            "min_width": null,
            "border": null,
            "align_items": null,
            "bottom": null,
            "_model_module": "@jupyter-widgets/base",
            "top": null,
            "grid_column": null,
            "overflow_y": null,
            "overflow_x": null,
            "grid_auto_flow": null,
            "grid_area": null,
            "grid_template_columns": null,
            "flex": null,
            "_model_name": "LayoutModel",
            "justify_items": null,
            "grid_row": null,
            "max_height": null,
            "align_content": null,
            "visibility": null,
            "align_self": null,
            "height": null,
            "min_height": null,
            "padding": null,
            "grid_auto_rows": null,
            "grid_gap": null,
            "max_width": null,
            "order": null,
            "_view_module_version": "1.2.0",
            "grid_template_areas": null,
            "object_position": null,
            "object_fit": null,
            "grid_auto_columns": null,
            "margin": null,
            "display": null,
            "left": null
          }
        },
        "62f46dcb71834ecca2f8e8b843a7ec97": {
          "model_module": "@jupyter-widgets/controls",
          "model_name": "HBoxModel",
          "state": {
            "_view_name": "HBoxView",
            "_dom_classes": [],
            "_model_name": "HBoxModel",
            "_view_module": "@jupyter-widgets/controls",
            "_model_module_version": "1.5.0",
            "_view_count": null,
            "_view_module_version": "1.5.0",
            "box_style": "",
            "layout": "IPY_MODEL_73b8775a99c5418b90dd15e0e45516b1",
            "_model_module": "@jupyter-widgets/controls",
            "children": [
              "IPY_MODEL_24461fe0a65a4303b15bc51a21fb5704",
              "IPY_MODEL_da667d9a555b4dfab2fc3b35b8720620",
              "IPY_MODEL_426458f0d1b44177848ae20ea85637f9"
            ]
          }
        },
        "73b8775a99c5418b90dd15e0e45516b1": {
          "model_module": "@jupyter-widgets/base",
          "model_name": "LayoutModel",
          "state": {
            "_view_name": "LayoutView",
            "grid_template_rows": null,
            "right": null,
            "justify_content": null,
            "_view_module": "@jupyter-widgets/base",
            "overflow": null,
            "_model_module_version": "1.2.0",
            "_view_count": null,
            "flex_flow": null,
            "width": null,
            "min_width": null,
            "border": null,
            "align_items": null,
            "bottom": null,
            "_model_module": "@jupyter-widgets/base",
            "top": null,
            "grid_column": null,
            "overflow_y": null,
            "overflow_x": null,
            "grid_auto_flow": null,
            "grid_area": null,
            "grid_template_columns": null,
            "flex": null,
            "_model_name": "LayoutModel",
            "justify_items": null,
            "grid_row": null,
            "max_height": null,
            "align_content": null,
            "visibility": null,
            "align_self": null,
            "height": null,
            "min_height": null,
            "padding": null,
            "grid_auto_rows": null,
            "grid_gap": null,
            "max_width": null,
            "order": null,
            "_view_module_version": "1.2.0",
            "grid_template_areas": null,
            "object_position": null,
            "object_fit": null,
            "grid_auto_columns": null,
            "margin": null,
            "display": null,
            "left": null
          }
        },
        "24461fe0a65a4303b15bc51a21fb5704": {
          "model_module": "@jupyter-widgets/controls",
          "model_name": "HTMLModel",
          "state": {
            "_view_name": "HTMLView",
            "style": "IPY_MODEL_55219ff287e845cabca4ecbf55fa7e37",
            "_dom_classes": [],
            "description": "",
            "_model_name": "HTMLModel",
            "placeholder": "​",
            "_view_module": "@jupyter-widgets/controls",
            "_model_module_version": "1.5.0",
            "value": "Batches: 100%",
            "_view_count": null,
            "_view_module_version": "1.5.0",
            "description_tooltip": null,
            "_model_module": "@jupyter-widgets/controls",
            "layout": "IPY_MODEL_fb413b97f56247c69443d0c0e0cf1a7b"
          }
        },
        "da667d9a555b4dfab2fc3b35b8720620": {
          "model_module": "@jupyter-widgets/controls",
          "model_name": "FloatProgressModel",
          "state": {
            "_view_name": "ProgressView",
            "style": "IPY_MODEL_0381b13b22064add93a97a879f63d75f",
            "_dom_classes": [],
            "description": "",
            "_model_name": "FloatProgressModel",
            "bar_style": "success",
            "max": 1,
            "_view_module": "@jupyter-widgets/controls",
            "_model_module_version": "1.5.0",
            "value": 1,
            "_view_count": null,
            "_view_module_version": "1.5.0",
            "orientation": "horizontal",
            "min": 0,
            "description_tooltip": null,
            "_model_module": "@jupyter-widgets/controls",
            "layout": "IPY_MODEL_6aaf18ad3f0a47b3823d3c843c8164d1"
          }
        },
        "426458f0d1b44177848ae20ea85637f9": {
          "model_module": "@jupyter-widgets/controls",
          "model_name": "HTMLModel",
          "state": {
            "_view_name": "HTMLView",
            "style": "IPY_MODEL_53caf811d2d6429a91aaeea028bbf968",
            "_dom_classes": [],
            "description": "",
            "_model_name": "HTMLModel",
            "placeholder": "​",
            "_view_module": "@jupyter-widgets/controls",
            "_model_module_version": "1.5.0",
            "value": " 1/1 [00:00&lt;00:00,  8.12it/s]",
            "_view_count": null,
            "_view_module_version": "1.5.0",
            "description_tooltip": null,
            "_model_module": "@jupyter-widgets/controls",
            "layout": "IPY_MODEL_0706da25be0d4a2a8f64c3be81b84553"
          }
        },
        "55219ff287e845cabca4ecbf55fa7e37": {
          "model_module": "@jupyter-widgets/controls",
          "model_name": "DescriptionStyleModel",
          "state": {
            "_view_name": "StyleView",
            "_model_name": "DescriptionStyleModel",
            "description_width": "",
            "_view_module": "@jupyter-widgets/base",
            "_model_module_version": "1.5.0",
            "_view_count": null,
            "_view_module_version": "1.2.0",
            "_model_module": "@jupyter-widgets/controls"
          }
        },
        "fb413b97f56247c69443d0c0e0cf1a7b": {
          "model_module": "@jupyter-widgets/base",
          "model_name": "LayoutModel",
          "state": {
            "_view_name": "LayoutView",
            "grid_template_rows": null,
            "right": null,
            "justify_content": null,
            "_view_module": "@jupyter-widgets/base",
            "overflow": null,
            "_model_module_version": "1.2.0",
            "_view_count": null,
            "flex_flow": null,
            "width": null,
            "min_width": null,
            "border": null,
            "align_items": null,
            "bottom": null,
            "_model_module": "@jupyter-widgets/base",
            "top": null,
            "grid_column": null,
            "overflow_y": null,
            "overflow_x": null,
            "grid_auto_flow": null,
            "grid_area": null,
            "grid_template_columns": null,
            "flex": null,
            "_model_name": "LayoutModel",
            "justify_items": null,
            "grid_row": null,
            "max_height": null,
            "align_content": null,
            "visibility": null,
            "align_self": null,
            "height": null,
            "min_height": null,
            "padding": null,
            "grid_auto_rows": null,
            "grid_gap": null,
            "max_width": null,
            "order": null,
            "_view_module_version": "1.2.0",
            "grid_template_areas": null,
            "object_position": null,
            "object_fit": null,
            "grid_auto_columns": null,
            "margin": null,
            "display": null,
            "left": null
          }
        },
        "0381b13b22064add93a97a879f63d75f": {
          "model_module": "@jupyter-widgets/controls",
          "model_name": "ProgressStyleModel",
          "state": {
            "_view_name": "StyleView",
            "_model_name": "ProgressStyleModel",
            "description_width": "",
            "_view_module": "@jupyter-widgets/base",
            "_model_module_version": "1.5.0",
            "_view_count": null,
            "_view_module_version": "1.2.0",
            "bar_color": null,
            "_model_module": "@jupyter-widgets/controls"
          }
        },
        "6aaf18ad3f0a47b3823d3c843c8164d1": {
          "model_module": "@jupyter-widgets/base",
          "model_name": "LayoutModel",
          "state": {
            "_view_name": "LayoutView",
            "grid_template_rows": null,
            "right": null,
            "justify_content": null,
            "_view_module": "@jupyter-widgets/base",
            "overflow": null,
            "_model_module_version": "1.2.0",
            "_view_count": null,
            "flex_flow": null,
            "width": null,
            "min_width": null,
            "border": null,
            "align_items": null,
            "bottom": null,
            "_model_module": "@jupyter-widgets/base",
            "top": null,
            "grid_column": null,
            "overflow_y": null,
            "overflow_x": null,
            "grid_auto_flow": null,
            "grid_area": null,
            "grid_template_columns": null,
            "flex": null,
            "_model_name": "LayoutModel",
            "justify_items": null,
            "grid_row": null,
            "max_height": null,
            "align_content": null,
            "visibility": null,
            "align_self": null,
            "height": null,
            "min_height": null,
            "padding": null,
            "grid_auto_rows": null,
            "grid_gap": null,
            "max_width": null,
            "order": null,
            "_view_module_version": "1.2.0",
            "grid_template_areas": null,
            "object_position": null,
            "object_fit": null,
            "grid_auto_columns": null,
            "margin": null,
            "display": null,
            "left": null
          }
        },
        "53caf811d2d6429a91aaeea028bbf968": {
          "model_module": "@jupyter-widgets/controls",
          "model_name": "DescriptionStyleModel",
          "state": {
            "_view_name": "StyleView",
            "_model_name": "DescriptionStyleModel",
            "description_width": "",
            "_view_module": "@jupyter-widgets/base",
            "_model_module_version": "1.5.0",
            "_view_count": null,
            "_view_module_version": "1.2.0",
            "_model_module": "@jupyter-widgets/controls"
          }
        },
        "0706da25be0d4a2a8f64c3be81b84553": {
          "model_module": "@jupyter-widgets/base",
          "model_name": "LayoutModel",
          "state": {
            "_view_name": "LayoutView",
            "grid_template_rows": null,
            "right": null,
            "justify_content": null,
            "_view_module": "@jupyter-widgets/base",
            "overflow": null,
            "_model_module_version": "1.2.0",
            "_view_count": null,
            "flex_flow": null,
            "width": null,
            "min_width": null,
            "border": null,
            "align_items": null,
            "bottom": null,
            "_model_module": "@jupyter-widgets/base",
            "top": null,
            "grid_column": null,
            "overflow_y": null,
            "overflow_x": null,
            "grid_auto_flow": null,
            "grid_area": null,
            "grid_template_columns": null,
            "flex": null,
            "_model_name": "LayoutModel",
            "justify_items": null,
            "grid_row": null,
            "max_height": null,
            "align_content": null,
            "visibility": null,
            "align_self": null,
            "height": null,
            "min_height": null,
            "padding": null,
            "grid_auto_rows": null,
            "grid_gap": null,
            "max_width": null,
            "order": null,
            "_view_module_version": "1.2.0",
            "grid_template_areas": null,
            "object_position": null,
            "object_fit": null,
            "grid_auto_columns": null,
            "margin": null,
            "display": null,
            "left": null
          }
        },
        "56c349e1e726498086266c299eff4b2e": {
          "model_module": "@jupyter-widgets/controls",
          "model_name": "HBoxModel",
          "state": {
            "_view_name": "HBoxView",
            "_dom_classes": [],
            "_model_name": "HBoxModel",
            "_view_module": "@jupyter-widgets/controls",
            "_model_module_version": "1.5.0",
            "_view_count": null,
            "_view_module_version": "1.5.0",
            "box_style": "",
            "layout": "IPY_MODEL_99d10d0bf89d43638e337a52f419bad4",
            "_model_module": "@jupyter-widgets/controls",
            "children": [
              "IPY_MODEL_5021ba23d0b04952b836b7aac2564b10",
              "IPY_MODEL_7a2b45391358450fa07de2f802bf76a0",
              "IPY_MODEL_b74e5f3a3b7a4a969bc91b0086b39e1e"
            ]
          }
        },
        "99d10d0bf89d43638e337a52f419bad4": {
          "model_module": "@jupyter-widgets/base",
          "model_name": "LayoutModel",
          "state": {
            "_view_name": "LayoutView",
            "grid_template_rows": null,
            "right": null,
            "justify_content": null,
            "_view_module": "@jupyter-widgets/base",
            "overflow": null,
            "_model_module_version": "1.2.0",
            "_view_count": null,
            "flex_flow": null,
            "width": null,
            "min_width": null,
            "border": null,
            "align_items": null,
            "bottom": null,
            "_model_module": "@jupyter-widgets/base",
            "top": null,
            "grid_column": null,
            "overflow_y": null,
            "overflow_x": null,
            "grid_auto_flow": null,
            "grid_area": null,
            "grid_template_columns": null,
            "flex": null,
            "_model_name": "LayoutModel",
            "justify_items": null,
            "grid_row": null,
            "max_height": null,
            "align_content": null,
            "visibility": null,
            "align_self": null,
            "height": null,
            "min_height": null,
            "padding": null,
            "grid_auto_rows": null,
            "grid_gap": null,
            "max_width": null,
            "order": null,
            "_view_module_version": "1.2.0",
            "grid_template_areas": null,
            "object_position": null,
            "object_fit": null,
            "grid_auto_columns": null,
            "margin": null,
            "display": null,
            "left": null
          }
        },
        "5021ba23d0b04952b836b7aac2564b10": {
          "model_module": "@jupyter-widgets/controls",
          "model_name": "HTMLModel",
          "state": {
            "_view_name": "HTMLView",
            "style": "IPY_MODEL_3d27526002214dd3ae7d2841ed06b8b5",
            "_dom_classes": [],
            "description": "",
            "_model_name": "HTMLModel",
            "placeholder": "​",
            "_view_module": "@jupyter-widgets/controls",
            "_model_module_version": "1.5.0",
            "value": "Batches: 100%",
            "_view_count": null,
            "_view_module_version": "1.5.0",
            "description_tooltip": null,
            "_model_module": "@jupyter-widgets/controls",
            "layout": "IPY_MODEL_35b994407d214b4cbcef8f57d976a2af"
          }
        },
        "7a2b45391358450fa07de2f802bf76a0": {
          "model_module": "@jupyter-widgets/controls",
          "model_name": "FloatProgressModel",
          "state": {
            "_view_name": "ProgressView",
            "style": "IPY_MODEL_ed6eddefeb964b34a4d632ce331e4b45",
            "_dom_classes": [],
            "description": "",
            "_model_name": "FloatProgressModel",
            "bar_style": "success",
            "max": 1,
            "_view_module": "@jupyter-widgets/controls",
            "_model_module_version": "1.5.0",
            "value": 1,
            "_view_count": null,
            "_view_module_version": "1.5.0",
            "orientation": "horizontal",
            "min": 0,
            "description_tooltip": null,
            "_model_module": "@jupyter-widgets/controls",
            "layout": "IPY_MODEL_579d668255b14de3ac9279fc856744e5"
          }
        },
        "b74e5f3a3b7a4a969bc91b0086b39e1e": {
          "model_module": "@jupyter-widgets/controls",
          "model_name": "HTMLModel",
          "state": {
            "_view_name": "HTMLView",
            "style": "IPY_MODEL_ab6790919e4049e78a57b81598880d23",
            "_dom_classes": [],
            "description": "",
            "_model_name": "HTMLModel",
            "placeholder": "​",
            "_view_module": "@jupyter-widgets/controls",
            "_model_module_version": "1.5.0",
            "value": " 1/1 [00:00&lt;00:00,  2.09it/s]",
            "_view_count": null,
            "_view_module_version": "1.5.0",
            "description_tooltip": null,
            "_model_module": "@jupyter-widgets/controls",
            "layout": "IPY_MODEL_aae66e0f56c148a488cab96cf786caa7"
          }
        },
        "3d27526002214dd3ae7d2841ed06b8b5": {
          "model_module": "@jupyter-widgets/controls",
          "model_name": "DescriptionStyleModel",
          "state": {
            "_view_name": "StyleView",
            "_model_name": "DescriptionStyleModel",
            "description_width": "",
            "_view_module": "@jupyter-widgets/base",
            "_model_module_version": "1.5.0",
            "_view_count": null,
            "_view_module_version": "1.2.0",
            "_model_module": "@jupyter-widgets/controls"
          }
        },
        "35b994407d214b4cbcef8f57d976a2af": {
          "model_module": "@jupyter-widgets/base",
          "model_name": "LayoutModel",
          "state": {
            "_view_name": "LayoutView",
            "grid_template_rows": null,
            "right": null,
            "justify_content": null,
            "_view_module": "@jupyter-widgets/base",
            "overflow": null,
            "_model_module_version": "1.2.0",
            "_view_count": null,
            "flex_flow": null,
            "width": null,
            "min_width": null,
            "border": null,
            "align_items": null,
            "bottom": null,
            "_model_module": "@jupyter-widgets/base",
            "top": null,
            "grid_column": null,
            "overflow_y": null,
            "overflow_x": null,
            "grid_auto_flow": null,
            "grid_area": null,
            "grid_template_columns": null,
            "flex": null,
            "_model_name": "LayoutModel",
            "justify_items": null,
            "grid_row": null,
            "max_height": null,
            "align_content": null,
            "visibility": null,
            "align_self": null,
            "height": null,
            "min_height": null,
            "padding": null,
            "grid_auto_rows": null,
            "grid_gap": null,
            "max_width": null,
            "order": null,
            "_view_module_version": "1.2.0",
            "grid_template_areas": null,
            "object_position": null,
            "object_fit": null,
            "grid_auto_columns": null,
            "margin": null,
            "display": null,
            "left": null
          }
        },
        "ed6eddefeb964b34a4d632ce331e4b45": {
          "model_module": "@jupyter-widgets/controls",
          "model_name": "ProgressStyleModel",
          "state": {
            "_view_name": "StyleView",
            "_model_name": "ProgressStyleModel",
            "description_width": "",
            "_view_module": "@jupyter-widgets/base",
            "_model_module_version": "1.5.0",
            "_view_count": null,
            "_view_module_version": "1.2.0",
            "bar_color": null,
            "_model_module": "@jupyter-widgets/controls"
          }
        },
        "579d668255b14de3ac9279fc856744e5": {
          "model_module": "@jupyter-widgets/base",
          "model_name": "LayoutModel",
          "state": {
            "_view_name": "LayoutView",
            "grid_template_rows": null,
            "right": null,
            "justify_content": null,
            "_view_module": "@jupyter-widgets/base",
            "overflow": null,
            "_model_module_version": "1.2.0",
            "_view_count": null,
            "flex_flow": null,
            "width": null,
            "min_width": null,
            "border": null,
            "align_items": null,
            "bottom": null,
            "_model_module": "@jupyter-widgets/base",
            "top": null,
            "grid_column": null,
            "overflow_y": null,
            "overflow_x": null,
            "grid_auto_flow": null,
            "grid_area": null,
            "grid_template_columns": null,
            "flex": null,
            "_model_name": "LayoutModel",
            "justify_items": null,
            "grid_row": null,
            "max_height": null,
            "align_content": null,
            "visibility": null,
            "align_self": null,
            "height": null,
            "min_height": null,
            "padding": null,
            "grid_auto_rows": null,
            "grid_gap": null,
            "max_width": null,
            "order": null,
            "_view_module_version": "1.2.0",
            "grid_template_areas": null,
            "object_position": null,
            "object_fit": null,
            "grid_auto_columns": null,
            "margin": null,
            "display": null,
            "left": null
          }
        },
        "ab6790919e4049e78a57b81598880d23": {
          "model_module": "@jupyter-widgets/controls",
          "model_name": "DescriptionStyleModel",
          "state": {
            "_view_name": "StyleView",
            "_model_name": "DescriptionStyleModel",
            "description_width": "",
            "_view_module": "@jupyter-widgets/base",
            "_model_module_version": "1.5.0",
            "_view_count": null,
            "_view_module_version": "1.2.0",
            "_model_module": "@jupyter-widgets/controls"
          }
        },
        "aae66e0f56c148a488cab96cf786caa7": {
          "model_module": "@jupyter-widgets/base",
          "model_name": "LayoutModel",
          "state": {
            "_view_name": "LayoutView",
            "grid_template_rows": null,
            "right": null,
            "justify_content": null,
            "_view_module": "@jupyter-widgets/base",
            "overflow": null,
            "_model_module_version": "1.2.0",
            "_view_count": null,
            "flex_flow": null,
            "width": null,
            "min_width": null,
            "border": null,
            "align_items": null,
            "bottom": null,
            "_model_module": "@jupyter-widgets/base",
            "top": null,
            "grid_column": null,
            "overflow_y": null,
            "overflow_x": null,
            "grid_auto_flow": null,
            "grid_area": null,
            "grid_template_columns": null,
            "flex": null,
            "_model_name": "LayoutModel",
            "justify_items": null,
            "grid_row": null,
            "max_height": null,
            "align_content": null,
            "visibility": null,
            "align_self": null,
            "height": null,
            "min_height": null,
            "padding": null,
            "grid_auto_rows": null,
            "grid_gap": null,
            "max_width": null,
            "order": null,
            "_view_module_version": "1.2.0",
            "grid_template_areas": null,
            "object_position": null,
            "object_fit": null,
            "grid_auto_columns": null,
            "margin": null,
            "display": null,
            "left": null
          }
        }
      }
    }
  },
  "cells": [
    {
      "cell_type": "markdown",
      "metadata": {
        "id": "view-in-github",
        "colab_type": "text"
      },
      "source": [
        "<a href=\"https://colab.research.google.com/github/esnue/ThesisAllocationSystem/blob/main/contextualized_topic_modeling.ipynb\" target=\"_parent\"><img src=\"https://colab.research.google.com/assets/colab-badge.svg\" alt=\"Open In Colab\"/></a>"
      ]
    },
    {
      "cell_type": "markdown",
      "metadata": {
        "id": "aIH2ZY7eUGW1"
      },
      "source": [
        "\n",
        "adapted from: https://github.com/MilaNLProc/contextualized-topic-models"
      ]
    },
    {
      "cell_type": "markdown",
      "metadata": {
        "id": "qmZ1uZecv7qW"
      },
      "source": [
        "## Contextualized Topic Models \n",
        "\n",
        "We are going to use contextualized topic modeling to get topics out of a supervisors' academic papers, student proposals and supervision plans.\n",
        "\n",
        "## Topic Models \n",
        "\n",
        "Topic models allow you to discover latent topics in text documents in a completely unsupervised way. \n",
        "\n",
        "## Contextualized Topic Models\n",
        "\n",
        "What are Contextualized Topic Models? **CTMs** are a family of topic models that combine the expressive power of BERT embeddings with the unsupervised capabilities of topic models to get topics out of documents.\n",
        "\n",
        "\n"
      ]
    },
    {
      "cell_type": "markdown",
      "metadata": {
        "id": "ln23-soXeQk3"
      },
      "source": [
        "# Enabling the GPU\n",
        "\n",
        "First, you'll need to enable GPUs for the notebook:\n",
        "\n",
        "- Navigate to Edit→Notebook Settings\n",
        "- select GPU from the Hardware Accelerator drop-down\n",
        "\n",
        "[Reference](https://colab.research.google.com/notebooks/gpu.ipynb)"
      ]
    },
    {
      "cell_type": "markdown",
      "metadata": {
        "id": "QsNRo8I8Yem2"
      },
      "source": [
        "# Installing Contextualized Topic Models\n",
        "\n",
        "Now, we install the contextualized topic model library"
      ]
    },
    {
      "cell_type": "code",
      "metadata": {
        "id": "BUw5EQi8v9r1"
      },
      "source": [
        "%%capture\n",
        "!pip install contextualized-topic-models==1.8.1\n",
        "!pip install torch==1.6.0+cu101 torchvision==0.7.0+cu101 -f https://download.pytorch.org/whl/torch_stable.html"
      ],
      "execution_count": 1,
      "outputs": []
    },
    {
      "cell_type": "markdown",
      "metadata": {
        "id": "sxeqAVYqsLle"
      },
      "source": [
        "## Data"
      ]
    },
    {
      "cell_type": "code",
      "metadata": {
        "id": "eB9ZJDmXXtjT",
        "colab": {
          "base_uri": "https://localhost:8080/"
        },
        "outputId": "aea6be13-0e3c-49f9-f1c8-65daa0b6851d"
      },
      "source": [
        "from google.colab import drive\n",
        "drive.mount('/content/drive')"
      ],
      "execution_count": 2,
      "outputs": [
        {
          "output_type": "stream",
          "text": [
            "Mounted at /content/drive\n"
          ],
          "name": "stdout"
        }
      ]
    },
    {
      "cell_type": "code",
      "metadata": {
        "id": "KiJ3PMgOXrCH",
        "colab": {
          "base_uri": "https://localhost:8080/"
        },
        "outputId": "b7149e35-625f-47f3-dbff-1cd993e64931"
      },
      "source": [
        "import pandas as pd\n",
        "\n",
        "#academic papers\n",
        "file1 = pd.read_csv(\"/content/drive/MyDrive/ThesisAllocationSystem/data_final/train-papers-final.csv\")\n",
        "#transform content column row values into a list\n",
        "train_file = file1['Content'][1:].values.tolist()\n",
        "\n",
        "print(train_file[5])\n",
        "print(type(train_file))\n",
        "\n",
        "#thesis proposals\n",
        "file2 = pd.read_csv(\"/content/drive/MyDrive/ThesisAllocationSystem/data_final/test-proposals-final.csv\")\n",
        "test_file = file2['Content'][1:].values.tolist()\n",
        "\n",
        "print(test_file[2])\n",
        "print(type(test_file))\n",
        "\n",
        "#supervision plans\n",
        "file3 = pd.read_csv(\"/content/drive/MyDrive/ThesisAllocationSystem/data_final/supervisors-final.csv\")\n",
        "val_file = file3['Content'][1:].values.tolist()\n",
        "\n",
        "print(val_file[5])\n",
        "print(type(val_file))"
      ],
      "execution_count": 3,
      "outputs": [
        {
          "output_type": "stream",
          "text": [
            "b\"Public Administration Reform in Europe  \\n\\nViews and Experiences from Senior Executives in 10 Countries \\n\\n \\nWP3 Cross-national Report as part of the COCOPS Research Project \\n\\n \\n\\n  \\n \\n\\n \\n\\n \\n\\n \\n\\n \\n\\n \\n\\n \\n\\n \\n\\n \\n\\n \\n\\n \\n\\n \\n\\n \\n\\n \\n\\n \\n\\nGerhard Hammerschmid \\nSteven Van de Walle \\n\\nRhys Andrews \\nPhilippe Bezes \\nAnja G\\xf6rnitz \\nAnca Oprisor \\n\\nVid timac \\n\\n \\n\\nJuly 2013 \\n\\n \\n\\n \\n\\n \\n\\n \\n\\n \\n\\nCoordination for Cohesion in the Public Sector of the Future (COCOPS): www.cocops.eu \\n\\n  \\n\\n \\n\\nhttp://www.cocops.eu/\\n\\n\\nCOCOPS Work Package 3  Cross-national Report, July 2013 Page 2 \\n\\nAbout COCOPS \\n\\nThe COCOPS project (Coordinating for Cohesion in the Public Sector of the Future) seeks to \\n\\ncomparatively and quantitatively assess the impact of New Public Management-style reforms in \\n\\nEuropean countries, drawing on a team of European public administration scholars from 11 \\n\\nuniversities in 10 countries. It analyses the impact of reforms in public management and public \\n\\nservices that address citizens service needs and social cohesion in Europe. Evaluating the extent and \\n\\nconsequences of NPMs alleged fragmenting tendencies and the resulting need for coordination is a \\n\\nkey part of assessing these impacts. It is funded under the European Unions 7th Framework \\n\\nProgramme as a Small or Medium-Scale Focused Research Project (2011-2014). \\n\\n \\n\\n \\n\\nAbout the Authors \\n\\nProf. Dr. Gerhard Hammerschmid is Associate Dean and Professor of Public and Financial \\nManagement at the Hertie School of Governance, Berlin.  \\n \\nProf. Dr. Steven Van de Walle is Professor of Public Administration at Erasmus University Rotterdam.  \\n \\nDr. Rhys Andrews is Reader in Public Management at Cardiff University.  \\n\\nDr. Philippe Bezes is researcher at the Centre d'\\xe9tudes et de recherches administratives et politiques \\n(CERSA), Paris. \\n \\nDr. Anja G\\xf6rnitz, Anca Oprisor and Vid timac are Research Associates at the Hertie School of \\n\\nGovernance, Berlin. \\n\\n \\n\\n \\n\\n \\n\\n \\n\\n \\n\\n \\n\\n \\n\\nThe research leading to these results has received funding from the European Unions Seventh \\n\\nFramework Programme under grant agreement No. 266887 (Project COCOPS), Socio-economic \\n\\nSciences & Humanities.  \\n\\n \\n\\n \\n\\n\\n\\nCOCOPS Work Package 3  Cross-national Report, July 2013 Page 3 \\n\\nContents \\n\\n \\n\\nExecutive summary ................................................................................................................................. 4 \\n\\n1. Introduction ......................................................................................................................................... 5 \\n\\n2. Public Management and Public Administration Reform in Central Government ............................... 9 \\n\\n2.1 The Work Context of Central Government Executives ................................................................. 9 \\n\\n2.2 Relevance and Direction of Public Administration Reforms ....................................................... 11 \\n\\n2.3 Impact of Public Administration Reform ..................................................................................... 29 \\n\\n3. Public Administration Reform in the Employment Sector ................................................................ 38 \\n\\n3.1 Relevance and Direction of Public Administration Reforms ....................................................... 38 \\n\\n3.2 Impact of Public Administration Reform ..................................................................................... 43 \\n\\n4. Public Administration Reform in the Health Sector .......................................................................... 49 \\n\\n4.1 Relevance and Direction of Public administration Reforms ........................................................ 49 \\n\\n4.2 Impact of Public Administration Reform ..................................................................................... 54 \\n\\n5. Conclusion and Outlook .................................................................................................................... 60 \\n\\nTables and Figures ................................................................................................................................. 64 \\n\\nReferences ............................................................................................................................................. 66 \\n\\n \\n\\n  \\n\\n\\n\\nCOCOPS Work Package 3  Cross-national Report, July 2013 Page 4 \\n\\nExecutive summary \\n \\n\\nThis report summarizes the aggregate results of the comparative COCOPS Executive Survey on Public \\n\\nSector Reform in Europe. Based on 4814 answers from the ten countries targeted (making this the \\n\\nlargest comparative empirical dataset on European administrative reforms), the report offers an \\n\\noverview of senior executives assessments of public administration developments across Europe.  \\n\\nIn a work context generally characterized by low management autonomy, but rather high goal \\n\\nambiguity and politicization (exceptions here are the Netherlands, Norway and the UK), executives \\n\\nclearly perceive factors limiting a full adoption of a managerial logic and performance management \\n\\nconcepts: in fact managerial ideas and instruments such as clear targets, measurement and use of \\n\\nperformance information are only moderately implemented across in European public \\n\\nadministrations. The tide of typical, structural NPM reforms (such as privatization, contracting out or \\n\\nagencification) has by now subsided, replaced by reform trends more closely connected to a network-\\n\\noriented understanding of government: transparent, open and/or e-government, as well as \\n\\ncollaboration and cooperation among different public sector actors. The ongoing fiscal crisis might \\n\\naccount for other important trends, such as public sector downsizing, stronger focus on outcomes and \\n\\nresults, and the reduction of internal bureaucracy. Overall, countries such as the UK, Estonia, Norway \\n\\nand the Netherlands appear to be more active, while Spain, France, Austria and Hungary are hesitant \\n\\nwith regard to implementing management tools. \\n\\nConcerning the overall impact of public administration reforms, executives make a predominantly \\n\\npositive assessment in Norway, Netherlands, Estonia, Hungary and to a lesser extent in Germany; \\n\\nreforms are judged  rather critically by executives in Spain and in the other survey countries (UK, \\n\\nFrance and, to a lesser extent, Italy and Austria), the assessment is mixed. Considering potential \\n\\nsuccess factors, aiming at service improvements (as opposed to solely cost-cutting), and higher public \\n\\ninvolvement seems to positively influence the overall perception of reforms. At policy field level \\n\\nmoderate improvement is seen in relation to managerial aspects such as cost and efficiency, service \\n\\nquality and innovation, but also concerning transparency and openness, fair treatment of citizens and \\n\\nethical behavior among public servants. On the contrary, slight deteriorations are associated to issues \\n\\nof staff motivation, attractiveness of the public sector as an employer, social cohesion and especially \\n\\ncitizen trust in government. Despite fears in this direction, we discover no clear evidence of negative \\n\\nimpacts on internal cohesion dimensions as a result of reforms: in countries with more pronounced \\n\\nperformance management we tend to find even somewhat higher levels of social capital and trust \\n\\nand work satisfaction, but also relatively lower organizational commitment, indicating the need for \\n\\nmore detailed analysis.  \\n\\nExecutives in the employment and health sectors, also under the surveys focus, assess reforms rather \\n\\nsimilarly to their counterparts in central government, with the exception that management \\n\\ninstruments are generally regarded as more relevant. Also, in both sectors we find that reforms \\n\\nassessed as more demanding are also considered more successful. Exceptionally, in health, we find a \\n\\ngreater importance of downsizing than in central government and employment.  \\n\\nWhile considerable variation can be identified between countries regarding reform intensity, those \\n\\ntypes of reform trends which are regarded as important are strikingly similar  which might indicate a \\n\\nshared sense of purpose across Europe with regards to public management reforms. \\n\\n  \\n\\n\\n\\nCOCOPS Work Package 3  Cross-national Report, July 2013 Page 5 \\n\\n1. Introduction \\n \\n\\nCoordinating for Cohesion in the Public Sector of the Future (COCOPS), as one of the largest \\n\\ncomparative public management research projects in Europe, intends to provide a comprehensive \\n\\npicture of the challenges facing the European public sector of the future and to systematically \\n\\nexplore the impact of New Public Management (NPM)-style reforms in Europe. The project brings \\n\\ntogether public administration scholars from eleven universities in ten countries\\n1\\n and is funded as \\n\\npart of the European Unions 7th Framework Programme; it runs from January 2011 until June 2014.\\n2\\n \\n\\nThe research is comparative and evidence-based, drawing on both existing data and innovative new \\n\\nquantitative and qualitative data collection. A cornerstone of the project is the COCOPS Executive \\n\\nSurvey on Public Sector Reform in Europe, an original survey of public sector senior executives in ten \\n\\nEuropean countries, and currently the largest of its kind implemented in Europe. The survey explores \\n\\nthe executives perceptions, experiences and opinions with regard to their work context and public \\n\\nadministrative reforms and the impact of these factors on public sector performance more generally; \\n\\nparticular attention is given to the employment and health policy sectors. \\n\\n \\n\\nIn designing the survey, the COCOPS team opted for a balanced approach, building on a binding set \\n\\nof rules with regards to sampling and data collection, but allowing for a degree of flexibility in order \\n\\nto ensure good response rates in the very different national contexts. The goal was to obtain 1) a \\n\\nquestionnaire text (in original and translated versions) which assured conceptual equivalence across \\n\\nall participating countries; 2) a sample which could allow systematic comparative analyses and 3) a \\n\\ndata collection strategy which produced (statistically sufficient) valid and informative responses.  \\n\\n \\n\\nAn original core questionnaire was developed by the survey team, first in English and then translated \\n\\nby each national team in their respective language(s); optional questions were added when assumed \\n\\nhelpful in certain countries. In defining the sample, the research team targeted senior executive, as \\n\\nkey knowledge carriers (Walker, Enticott 2004) who also play an essential role in policy making \\n\\n(Christensen, L\\xe6greid 1999; Ridder, Spier 2006). This type of approach has been debated intensively \\n\\nover the last years (e.g. Moyser, Wagstaffe 1987; Enticott et al. 2008; Walker and Enticott 2004). \\n\\nDefenders of this method argue that top managers should be surveyed because they have the best \\n\\nvantage point for viewing the entire organisational system (Enticott 2004, p. 320). According to \\n\\nAberbach et al. 1981 such a position-based definition of senior executives is the most efficient \\n\\napproach when doing comparative research where organizational differences are huge across the \\n\\nadministrative system but senior managerial roles may appear to be equivalent. In principle, this \\n\\nformal structural equivalence is likely to be a good proxy to informal functional equivalence, and so \\n\\na degree of respondent comparability can be achieved. On the other hand, elite surveys can \\n\\nintroduce significant sources of bias. Elite surveys only focus on one actors perception, which cannot \\n\\nnecessarily be taken as representative for the whole organisation (Enticott et al. 2008) as they may \\n\\nhave a vested interest in reporting favorable outcomes from new policy initiatives in order to present \\n\\na positive and successful image and to be in line with the current government in place. They can also \\n\\nbe expected to have different interests, needs and experiences than frontline bureaucrats, be more \\n\\n                                                           \\n1\\n Erasmus University Rotterdam, Hertie School of Governance Berlin, University of Bergen, Bocconi University, \\n\\nUniversity of Cantabria, Cardiff University, CNRS Paris, Corvinus University Budapest, University of Exeter, KU \\nLeuven, Tallinn University of Technology.  \\n2\\n More information on the project is available at www.cocops.eu.  \\n\\nhttp://www.cocops.eu/\\n\\n\\nCOCOPS Work Package 3  Cross-national Report, July 2013 Page 6 \\n\\ndisconnected from lower levels or simply overestimate results (Frazier and Swiss 2008). To respond \\n\\nto such concerns regarding possible biases, the sample included top bureaucrats from different  up \\n\\nto three  hierarchical levels, organization types (both Ministries and subordinated agencies) and \\n\\npolicy fields to allow for a broader diversity of views and experiences. It also should be noted that the \\n\\nsurvey explores the opinions, perceptions and observations of high-level executives, and not their \\n\\nbehavior. As Aberbach et al. 1981 argue in their study of Western bureaucrats, beliefs and \\n\\nperceptions are rather reliable predictors of actual behavior (1981:32), in other words, the closest \\n\\nindicators we have in establishing what and how bureaucrats decide and act.  \\n\\nWith regard to representativeness, the COCOPS executive survey is based on a full census of all \\n\\ncentral government ministries and agencies. Based on the binding sampling principles followed by all \\n\\nteams and reflecting a thorough mapping of national administrations, the sample covers all top and \\n\\nhigher-level public sector executives who, due to their respective positions, can be expected both to \\n\\nbe shaping the public administration reform processes but also be affected by such reforms. \\n\\nGenerally, within all central government ministries and subordinated agencies the two administrative \\n\\ntop-levels are addressed; in some cases invitations were also sent to executives on the third level \\n\\nwhen, due to their policy relevance, this was deemed appropriate. Local government and service \\n\\ndelivery levels are excluded for the purpose of this survey. In the fields of employment and health, as \\n\\nspecial focus areas, regional and lower level government entities are also included if relevant  \\n\\nwithout addressing however direct service delivery levels. \\n\\nThe survey was launched in May 2012 and implemented in two rounds (May-July 2012 and \\n\\nSeptember-November 2012). In these two rounds combined, it was sent out to over 20.000 high \\n\\nranking civil servants in the first ten participating countries via post and email. The survey was \\n\\nimplemented online, with standardized versions of the webpage being created in the national \\n\\nlanguage(s) for each country. Flexibility was allowed, and even recommended, in the strategies used \\n\\nby national teams to access the targeted respondents, due to major differences in administrative \\n\\ncultures between the countries; whereas some countries opted to send all invitations via email, \\n\\nothers sent them via post; and a third category used a mixed mode approach. November 2012 all \\n\\nsurveys were closed, and all datasets were cleaned, checked and harmonized according to a \\n\\nstandardised procedure for all countries (for details see the research report on the COCOPS \\n\\nwebpage; Hammerschmid et al. 2013). By the end of 2012 there were 4814 valid answers available \\n\\nfrom ten participating countries, amounting to an overall response rate of 23.7% (see Table 1).  \\n \\n\\nTable 1: Number of invitations and response rates of the COCOPS survey (10 country sample) \\n\\nCountry Invitations Sent* Survey completions Response rate % \\n\\nAustria 1745 637 36.50 \\n\\nEstonia 913 321 35.16 \\n\\nFrance 5297 1193 22.52 \\n\\nGermany  2295 566 24.66 \\n\\nHungary 1200 351 29.25 \\n\\nItaly 1703 343 20.14 \\n\\nNetherlands 977 293 29.99 \\n\\nNorway 1299 436 33.56 \\n\\nSpain 1778 321 18.05 \\n\\nUK 3100 353 11.39 \\n\\nTotal 20307 4814 23.71 \\n\\n*The number represents the final number of invitations, after the exclusion of any failure deliveries, wrong addresses etc.  \\n\\n\\n\\nCOCOPS Work Package 3  Cross-national Report, July 2013 Page 7 \\n\\n \\n\\nThe present cross-national report summarizes the aggregated results of the joint dataset with the \\n\\naim to provide an overview of senior executives assessments of public administration developments \\n\\nacross the participating countries (Austria, Estonia, France, Germany, Hungary, Italy, Netherlands, \\n\\nNorway, Spain and the UK) and especially explore country variations. The overall survey means \\n\\npresented are based on equal weighting assigned to each of the ten countries. As one of the \\n\\ndeliverables of the COCOPS Work Package 3, it complements the more detailed National Reports, \\n\\nwhich contextualize the survey results from each country, by adding a comparative dimension and \\n\\nintroducing a first set of overarching conclusions from the overall COCOPS dataset. The National \\n\\nReports, together with the Survey Research Report (detailing the methodology used; see \\n\\nHammerschmid et al. 2013) can be found at www.cocops.eu. \\n\\n \\n\\nFollowing the goals outlined in the COCOPS terms of reference, the survey focuses on executives in \\n\\ncentral government, and also more particularly in the employment and health sectors. As described \\n\\nabove, for reasons of representativeness, the survey sample has targeted all civil servants considered \\n\\nto have a policy relevant role in the context of reforms, including those at regional and sub-national \\n\\nlevels. For the following report the results are presented separately for the three major areas \\n\\ncovered by the survey: central government, employment and health. The central government sample \\n\\nreferred to in this report (or Sample 1) contains all answers by senior executives from ministries and \\n\\nagencies at central government level in all policy sectors and across all participant countries; in the \\n\\ncase of Germany and Spain, where due to the federal structure regional levels play a key policy role, \\n\\nresponses from these levels were also exceptionally included\\n3\\n (n=3173).  \\n\\nThe two other particular sub-samples considered in this report as a result of the COCOPS overall \\n\\nresearch design are the employment and health. As such, sample 2 consists of all answers by senior \\n\\nexecutives working in the policy field of employment both in ministries, agencies and at all \\n\\ngovernment levels (n=872); sample 3 consists of all answers by senior executives in the health sector \\n\\n(n=760) both in ministries, agencies and at all government levels. To delineate the analysis of these \\n\\nthree different samples more clearly, they have been analyzed in separate chapters.  \\n\\nChapter 2 offers an overview of developments and potential trends across European public \\n\\nadministrations based on the central government sub-sample and on a selection of the key survey \\n\\nresults related to the work experience of civil servants (section 2.1.), the relevance and direction of \\n\\npublic administration reforms (section 2.2.) and the impact of these reforms (section 2.3.). Chapters \\n\\n3 and 4 cover the employment and health sub-samples respectively and present a selection of results \\n\\nin these policy areas which focus on the differences between these and the central government \\n\\nsample. \\n\\nDespite the potential limitations and biases, which have to be taken into consideration when \\n\\ninterpreting the data, the survey presents much-lacking systematic and empirical evidence regarding \\n\\nthe dynamics of public administration reforms in Europe. It offers results from a large, \\n\\n                                                           \\n3\\n As the employment and health policy sectors were of particular interest for the COCOPS survey, the samples in \\n\\nthese sectors were defined more broadly broader in an attempt to gain a sufficiently high number of responses; \\n\\nin order to preserve the consistency of the central government sample, the answers from the agencies or \\n\\nsubordinate government (third hierarchical level or lower) in these two particular policy sectors have been \\n\\nexcluded. \\n\\nhttp://www.cocops.eu/\\n\\n\\nCOCOPS Work Package 3  Cross-national Report, July 2013 Page 8 \\n\\ncomprehensive European-wide sample, built on a thorough mapping of national administrative \\n\\nstructures in Europe. Moreover, through its cross-country dataset, it brings a comparative \\n\\nperspective on such reforms trends, difficult to extract otherwise from the more limited national-\\n\\nlevel data which has been predominantly collected until present in this field\\n4\\n. An important aspect, \\n\\nwhich sets the COCOPS survey apart from most other executives surveys in public administration is \\n\\nthat fact that it represents a full census of the target population defined and that there has been no \\n\\nsampling process. We cannot claim full representativeness for the data and the results cannot be \\n\\ngeneralized to the entire target population of senior public sector executives in European \\n\\nadministrations. However the response rates are well in line with other public sector executive \\n\\nsurveys, cover a substantial part of the targeted population and the distribution of respondents with \\n\\nregard to policy field, hierarchical level and organization type rather closely matches the distribution \\n\\nin the full target population and can be regarded as a good proxy and by far the most representative \\n\\ndataset for European public administrations collected up until now. \\n\\n \\n\\n \\n\\n  \\n\\n                                                           \\n4\\n For an overview of research gaps in current public administration research see Fitzpatrick et al. 2011; Pollitt, \\n\\nBouckaert 2011; Raadschelders, Lee 2011.  \\n\\n\\n\\nCOCOPS Work Package 3  Cross-national Report, July 2013 Page 9 \\n\\n2. Public Management and Public Administration Reform in Central \\n\\nGovernment \\n \\n\\nIn this chapter we present the results for senior executives working in central government, including \\n\\ncentral government executives from the Health and Employment sectors (n=3173).  \\n\\n2.1 The Work Context of Central Government Executives \\n\\nThe success of introducing management practices like performance management to the public sector \\n\\ndepends on the extent to which the specific work context in public administration resonates with the \\n\\nlogic behind the NPM paradigm. This chapter analyses how the top civil servants perceive their work \\n\\ncontext and evaluates to what extent the results indicate that management practices can be \\n\\ntransferred successfully to public administration. \\n\\nGoal ambiguity. Performance management and result-orientation is difficult to implement if goals \\n\\nare perceived to be ambiguous and activities or results are less measureable and easy to be observed \\n\\n(Rainy, Jung 2010). The senior executives were asked to what extent their goals are clearly stated and \\n\\ncommunicated, whether the number of goals they have is manageable and whether it is easy to \\n\\nobserve and measure their activities. Figure 1 depicts the aggregate mean for these items per \\n\\ncountry\\n5\\n. We find that goal ambiguity is perceived in all countries, albeit in overall to a rather modest \\n\\ndegree, and that there is a rather high homogeneity of the average assessments in the various \\n\\ncountries. A slightly lower degree of goal ambiguity is perceived by senior executives in the United \\n\\nKingdom (3.00), followed by the Netherlands and Estonia (3.36 resp. 3.53) indicating a somewhat \\n\\nhigher openness of these countries for performance management reforms. Senior executives in \\n\\nGermany and France, however, perceive a slightly higher degree of goal ambiguity (3.93 resp. 3.91). \\n\\nThe average is 3.60, which means that public sector goals are not perceived as particularly \\n\\nambiguous in all countries. This seems to be the case especially in countries where management \\n\\ntools have a rather long history in the public sectors.  \\n\\nFigure 1: Goal ambiguity (aggregate mean for four items per country; 1= very low goal ambiguity, 7=very high goal \\nambiguity) \\n\\n \\n \\n\\n                                                           \\n5\\n Item 1 Our goals are clearly stated; item 2 Our goals are communicated to all staff; item 3 We have a high \\n\\nnumber of goals (reversed); item 4 It is easy to observe and measure our activities. \\n\\n1 2 3 4 5 6 7\\n\\nUnited Kingdom\\n\\nThe Netherlands\\n\\nEstonia\\n\\nSpain\\n\\nAustria\\n\\nAverage\\n\\nNorway\\n\\nItaly\\n\\nHungary\\n\\nFrance\\n\\nGermany\\n\\n\\n\\nCOCOPS Work Package 3  Cross-national Report, July 2013 Page 10 \\n\\nDegree of autonomy. A further variable influencing the transferability of management practices to \\n\\nthe public sector is the degree to which senior executives dispose of autonomy. The senior \\n\\nexecutives were asked to what extent they have autonomy with regard to managerial aspects \\n\\n(contracting out services, personnel and budget decisions as well as changing the structure of the \\n\\norganization  6 items) and to what extent they have policy autonomy (choosing, designing and \\n\\nimplementing policies  two items). Figure 2 depicts the aggregate mean for these items per country. \\n\\nWe find that autonomy differs considerably across countries. Senior executives in the Netherlands \\n\\nperceive a rather high degree of autonomy (5.69), followed by those in Norway and Germany (4.97 \\n\\nresp. 4.91). Public officials in Italy and Spain perceive particularly low degrees of autonomy (3.39 \\n\\nresp. 3.45). The overall average is 4.31. \\n\\nFigure 2: Degree of management and policy autonomy (aggregate mean for eight items per country; 1=very low \\nautonomy, 7=very high autonomy) \\n\\n \\n\\nDegree of politicization. A further important aspect of the public administration work context is the \\n\\nextent to which public sector institutions can make decisions based on their expertise and knowledge \\n\\nor are subject to being influenced by political processes (on politicization and the difficult role of \\n\\nsenior executives between government and management cf. Derlien 2003; Schwanke, Ebinger 2005; \\n\\nvan der Meer et al. 2007; Aberbach et al. 1981; Peters, Pierre 2004). Senior executives in the COCOPS \\n\\nsurvey were asked to what extent politicians respect the technical expertise of the administration, to \\n\\nwhat extent politicians influence senior-level appointments and whether they interfere in routine \\n\\nactivities. Figure 3 depicts the aggregate mean for these three items\\n6\\n. Again, the results are rather \\n\\ndiverse across countries. The highest degree of politicization is perceived in Spain (4.54), followed by \\n\\nAustria and Italy (4.11 resp. 4.06). Senior executives in the Netherlands perceive a particularly low \\n\\nlevel of politicization (2.95) with similar assessments for Norway (3.30) and the United Kingdom \\n\\n(3.34). The overall average is 3.70 and can be interpreted as a clear indicator for the existence of \\n\\nsome (albeit modest) politicization in European public administrations. \\n\\n \\n\\n                                                           \\n6\\n Item 1 (Politicians respect the technical expertise of the administration) has been reversed for the \\n\\ncalculation of the aggregate mean. \\n\\n\\n\\nCOCOPS Work Package 3  Cross-national Report, July 2013 Page 11 \\n\\nFigure 3: Degree of politicization (aggregate mean of three items per country; 1=very low degree of politicization, 7=high \\ndegree of politicization) \\n\\n \\n\\n \\n\\nIn sum, the work context of senior executives in the ten countries varies considerably especially with \\n\\nregard to autonomy and politicization. Whereas executives in countries like the Netherlands, the \\n\\nUnited Kingdom and Norway perceive a high degree of autonomy and low politicization, countries \\n\\nlike Spain, Italy, Hungary and Austria perceive considerably lower degrees of autonomy and higher \\n\\ndegrees of politicization. It is not obvious whether high degrees of autonomy are conducive to \\n\\nmanagement reforms and practices or whether the introduction of management tools enhances \\n\\nautonomy. Here, we observe that those countries with the longest tradition of management reforms \\n\\nalso perceive higher levels of management autonomy. Goal ambiguity is perceived as rather \\n\\nmoderate in all countries with much smaller cross-country variations.  \\n\\n \\n\\n2.2 Relevance and Direction of Public Administration Reform \\n\\nThis section provides information on public sector executives perception of the implementation of \\n\\npublic administration reforms. The survey questions follow current public management literature \\n\\n(e.g. Lynn 2006; Raadschelders et al. 2007; Christensen, L\\xe6greid 1999; Christensen, L\\xe6greid 2011; \\n\\nPollitt, Bouckaert 2011; Raadschelders, Lee 2011;) distinguishing between NPM reforms and public \\n\\ngovernance or post-NPM reforms which are characterized by a stronger emphasis on coordination \\n\\nand networked forms of governance. The respondents have been asked to assess the type and \\n\\ncharacter of reform trends in their policy field (a), their organization (b) and in their own work (c). \\n\\n(a) Policy field level \\n\\nContent and importance of reform trends. Public administration reform trends can have very \\n\\ndifferent characteristics both with regard to content and implementation dynamics. While classical \\n\\nNPM reforms include measures like performance management, customer orientation, contracting \\n\\nout, privatization or the flexibilisation of employment, other reforms are of a more generic character \\n\\nand aim at enhancing transparency, citizen participation or reducing bureaucracy. Figure 4 depicts \\n\\nthe overall average plus the highest and lowest country average for each reform trend. The trends \\n\\n\\n\\nCOCOPS Work Package 3  Cross-national Report, July 2013 Page 12 \\n\\nare ordered in terms of importance. The most important reform trends in European public \\n\\nadministrations currently are clearly digital or e-government (with a mean of 5.12), collaboration and \\n\\ncooperation among different public sector actors (5.06) and transparency and open government \\n\\n(5.02). In contrast, classical NPM-type reforms such as privatization (2.62), \\n\\nagencification/corporatization (3.33) and contracting out (3.64) are considerably less important.  \\n\\n \\nFigure 4: Importance of reform trends (Q: How important are the following reform trends in your policy area?; 1=Not at \\nall, 7=To a large extent), graph depicts overall average plus highest/lowest country average; the red line indicates the \\noverall average for all reform trends \\n\\n \\n \\n\\n \\n \\n\\nThis may suggest that the main wave of NPM-style reforms is over, possibly because the bulk of \\n\\nprivatizations and agencifications hast already been implemented in the past. The findings also align \\n\\nwith initiatives in some European countries to re-departmentalize and merge agencies and to \\n\\ninsource provision of some services. Mergers are seen as a more important trend than \\n\\nautonomization. This again confirms the overall assumption in the COCOPS project that in a post-\\n\\n1\\n\\n2\\n\\n3\\n\\n4\\n\\n5\\n\\n6\\n\\n7\\n\\nDigital or e-\\ngovernment\\n\\nCollaboration and\\ncooperation\\n\\namong different\\npublic sector\\n\\nactors\\n\\nTransparency and\\nopen government\\n\\nPublic sector\\ndownsizing\\n\\nFocusing on\\noutcomes and\\n\\nresults\\n\\nInternal\\nbureaucracy\\nreduction /\\n\\ncutting red tape\\n\\nTreatment of\\nservice users as\\n\\ncustomers\\n\\nExternal\\npartnerships and\\nstrategic alliances\\n\\n1\\n\\n2\\n\\n3\\n\\n4\\n\\n5\\n\\n6\\n\\n7\\n\\nFlexible employment Mergers of\\ngovernment\\n\\norganisations\\n\\nCitizen participation\\nmethods/initiatives\\n\\nContracting out Extending state\\nprovision into new\\n\\nareas\\n\\nCreation of\\nautonomous\\nagencies or\\n\\ncorporatization\\n\\nPrivatisation\\n\\n\\n\\nCOCOPS Work Package 3  Cross-national Report, July 2013 Page 13 \\n\\nNPM area, public sectors are investing heavily in efforts to reduce policy and delivery fragmentation. \\n\\nAt the same time, however, state provision not commonly extended into new areas (3.56). The fiscal \\n\\ncrisis slumbers in the background. This is also visible in the great importance attributed to public \\n\\nsector downsizing (4.97), a stronger focusing on outcomes and results (4.81), and the reduction of \\n\\ninternal bureaucracy (4.75).  \\n\\n \\n\\nIt is also remarkable that there is considerable variation across countries with regard to central \\n\\ntrends such as downsizing, flexibilisation of employment, and focusing on outcomes. The more \\n\\ngeneric reform trends are answered in a much more homogeneous way across countries.  It is thus \\n\\ninteresting to take a closer look at the reform trends that exhibit a high degree of variation across the \\n\\ncountries. Wide cross-country variation is observable for public sector downsizing (see Figure 5) \\n\\nalthough mostly due to a rather low relevance of this trend in Norway. It is a clearly important \\n\\nreform trend in the UK (5.67), France (5.60), Estonia (5.49) and the Netherlands (5.45). This aligns \\n\\nwith public announcements on budget and workforce restructuring. Downsizing is the least \\n\\nimportant in Norway (with a mean of only 3.14), which is obviously attribut\"\n",
            "<class 'list'>\n",
            "b'Master_Thesis_Proposal\\n\\n\\nMaster Thesis Proposal \\n\\nClass: 2021 \\n\\nAY: 2020-2021\\n\\n\\n1. What is your research topic?\\n\\nTopic: Forecasting election results of federal and state-level elections in Germany using \\ndifferent machine learning techniques with macro-economic data as input.\\n\\nAcademic Fields: \\n1. Political Science:\\n-> Political behavior and voting\\n-> Election forecasting\\n2. Data Science: \\n-> Machine Learning \\n-> Artificial neural networks\\n\\n2. What is your research question?\\n\\nWhat role do changes in the over all economy of an election district play regarding the \\napproval, i.e. the vote share, of an incumbent direct-candidate in the respective election \\ndistrict. To analyze the factors that actually have the biggest influence on the vote share of \\nan incumbent candidate, several macro-economic variables are analyzed using different \\nmachine learning techniques (potentially including neural networks). \\n\\nStudied objects: \\n- General elections from 1994-2017\\n- 299 electoral districts for general election in Germany\\n- Incumbent candidates in the respective districts \\n- Predicting the changes in vote share of incumbent direct candidates for the upcoming \\n\\ngeneral election 2020 \\n\\nDependent Variable: Normalized change in vote share of incumbent (or change in \\ncandidate of the incumbent party-dummy) \\n\\nIV: Macro-economic data on district-level for all 299 districts from 1994-2017 (examples: \\nGDP, rent level, \\xa0unemployment rate, \\xa0 population,   R&D spending \\n(public&private),  economic development compared to neighboring districts, Property \\nprices,  median income, investments )\\n\\n1 AY: 2020-2021\\n\\n\\n\\nPossible Controls (on election district level): average city size in district, population density, \\nchange of candidate own party, change of candidate other parties, former election results \\n(direct and indirect vote, difference in vote share compared to other candidates), change in \\nnumber of candidates running in the district, east/west state, gender of candidate, gender of \\nmost promising rival from other parties, academic title of candidate \\n\\nPossible methods applied: Naive Bayes, Support Vector Machine, Random Forest, Linear \\nand Logistic Regression\\n\\nAlternative but very much related topic idea: \\nIdentification of Swing States in Germany: Constituencies where the average change in the \\nvote share of all parties is greater than the national average change in voteshare; clustering \\nof these constituencies and identification of characteristics using machine learning \\ntechniques; analysis of the influence of macro-economic data in a second step.\\n\\n3. Why would you like to explore this topic and question?\\n\\nI think the topic and the research question are highly relevant because they answer the question to what degree macro-economic developments effect voting decision. The findings are important not only for the scientific community but also for parties and \\npolticidal candidates searching reelection. Moreover, I find particularly interesting to assess \\nnot only who wins an election, but also who vote shares change even though there was no \\nchange in office. Additionally, I am very much interested in machine learning and deep \\nlearning techniques and look forward to deepen my knowledge in these areas by applying \\ntheir techniques as part of my master thesis research. \\n\\n4. What are the debates to which your dissertation will relate?\\n\\nIts the economy, stupid! The most important debate my research will touch upon is the \\nquestion to what degree economic developments influence election outcomes. It also relates \\nto the debate which factors are most important regarding election decisions and wether the \\ninfluence of economic factors is negligible or not. Moreover, it will relate to an ongoing \\ndiscussion and research about the possibilities and best methods to predict election \\noutcomes. \\n\\n5. What is your proposed methodology?\\n\\nMy proposed methodology is mostly quantitate using analytical modeling.\\n\\n2 AY: 2020-2021\\n\\n\\n\\nTo predict election outcomes and analyze the scope of the influence of certain economic \\nindicators on the vote share (and also to potentially cluster different districts) I am planning \\non using different machine learning techniques such as Naive Bayes, Support Vector \\nMachine, Random Forest, Linear and Logistic Regression. Especially for the forecasting \\npart of the thesis I am also planning on using artificial neural networks. \\n\\n6. What type of data do you need? \\n\\nAll of the data needed is public and most likely early accessible. It could be that the \\neconomic data is not available tailored to election districts (which problem could be solves \\nwith some data manipulation).\\n\\n- German general elections results on district level from 1994-2017\\n- German general elections candidates on district level from 1994-2017\\n- Macro-economic data (several indicators) on district level from 1994-2020\\n\\n7. Who are your proposed supervisors?\\n\\n1st:  Prof. Simon Munzert \\n2nd:  Prof. Slava Jankin \\n3rd:  Prof. Mark Kayser \\n\\n3 AY: 2020-2021'\n",
            "<class 'list'>\n",
            "b'MIA/MPP - Supervision Plan AY2020/2021        1 \\n\\n \\n \\n\\nMaster Thesis Supervision Plan \\nAcademic Year 2020-2021 \\n\\nMIA/MPP \\n \\n\\nName: Prof. Mark Kayser \\n\\nProfessor of Applied Methods and Comparative Politics \\n\\n  \\nAdvisor Information  \\n\\nOffice 2.54 \\n\\nE-Mail kayser@hertie-school.org \\n\\nFaculty Assistant Dayna Sadow (sadow@hertie-school.org) \\n\\nOffice Hours tba \\n\\n \\n \\nResearch & Advising Profile: \\nGeneral Academic Field: What is your academic field, and what are your areas of supervision? \\n\\nMark Kayser teaches applied quantitative methods and comparative politics at the Hertie School \\nin Berlin. His core research interests address the economic underpinnings of democracy, \\nincluding populism, and the effect of electoral competition  both in elections and in coalition \\ngovernments  on policy-making. He previously was an assistant professor of political science \\nat the University of Rochester, a Postdoctoral Prize Research Fellow at Nuffield College, Oxford \\nand a fellow at the Center for Advanced Studies in the Behavioral Sciences at Stanford \\nUniversity. He is the co-author of a book on the effect of electoral systems on regulation and \\nprice levels (Cambridge University Press, 2011) and the author or co-author of articles in the \\nAmerican Political Science Review, American Journal of Political Science, Political Analysis and \\nother leading journals. He is a former recipient of the GESIS/Klingemann research award and \\nformer Senior Editor for Comparative Political Economy of the Oxford Research Encyclopdia. He \\ncurrently serves on several advisory and editorial boards. \\n\\n \\n\\nSpecific Expertise: What is your specific area of expertise, and what topics are you supervising? \\n\\nMark Kaysers research generally centers on the economic underpinnings of democracy with a \\nparticular focus on elections, voter behavior, parties, and political economy.  Questions about how \\nwell governments represent interests  and whose interests  and the extent of electoral \\naccountability in democracies motivate much of his research. Current major projects focus on \\npartisan responses to economic crisis, the electoral effects of media reporting of the economy, \\nsocial mobility, populism, and the effect of electoral competitiveness on government \\nresponsiveness.  View his research at www.mark-kayser.com to get a better idea of his interests. \\n\\n \\n\\nMethodology: What methodologies and methods are you able to supervise?  \\n\\nPreferred methodology:  observational or experimental statistics. \\n\\n \\n\\nmailto:sadow@hertie-school.org)\\nhttp://www.mark-kayser.com/\\n\\n\\n  MIA/MPP - Supervision Plan AY2020/2021        2 \\n\\nSupervision Style: Please include information on what your advisees can expect from you in terms \\nof supervision format. \\n\\nMy role is to guide, but not co-author, your research.  As such, I am happy to discuss outlines and \\ncolloquium presentations but I do not read drafts. Substantively, I believe that a thesis should \\ninclude a thesis (really!). A surprising number of theses might more accurately be called topics.  A \\nthesis is a statement about a causal relationship or a normative argument.  In the case of the former, \\nyou will be arguing that X causes Y and persuading your audience through careful research design, \\nsystematic (often logical and deductive) argumentation and empirical tests in an attempt to create \\nknowledge.  This can be a rewarding experience.  I expect my supervisees to write a thesis, not a \\ntopic. \\n\\n \\nExamples of Previously Supervised Thesis Topics: (if applicable) \\n\\n Polish Peoples Voting Reactions to Media Endorsements: Evidence from a survey \\n\\nexperiment  \\n\\n Globalization, Trade and Populism in Germany: Analyzing the Effects of Trade \\n\\nExposure on Voting Behavior in the 2013 and 2017 German Federal Elections. \\n\\n Varieties of Capitalism revisited: Empirical Testing of Country Cluster \\n\\nClassifications and the Implications for Other Empirical Work  \\n\\n Rebel Groups Turned Political Parties  Democratic Consolidation through Postwar \\n\\nParty System Institutionalization  \\n\\n Improving Forecasting for Foreign Policy: Identifying drivers of accuracy in a \\n\\nforecasting tournament  \\n\\n Does Political Instability Induce Election Violence? \\n\\n \\n\\n \\nRecommended General Readings: (if applicable) \\n\\n Geddes, Barbara.  2003. Paradigms and sand castles: Theory building and research \\n\\ndesign in comparative politics. University of Michigan Press. \\n\\n Strunk, William and E.B. White.  1999. The Elements of Style. Tissot; 4th edition \\n\\n Kellstedt, Paul. M., & Whitten, Guy D. (2018). The fundamentals of political science \\n\\nresearch. Cambridge University Press. \\n\\n \\n\\nPlagiarism:  \\n\\nPlagiarism is an infringement of \\xa7 11 Good Academic Conduct, 2a: Infringements of the standards of \\n\\ngood academic conduct include for instance to use wordings, ideas or other intellectual work of others \\n\\nin an academic work without clearly indicating the author. The obligation to indicate the authorship \\n\\nof others shall apply irrespective of whether or not the sources used are protected by copyright (See: \\n\\nExam Rules, \\xa7 11 Good Academic Conduct for more information). \\n\\nIt is vital to keep track of your sources and to cite all material properly. \\n\\nThe Library will offer a session available to all students on resource management and proper citation. \\n\\nExtra (individual) note on plagiarism  \\n\\n\\n\\n  MIA/MPP - Supervision Plan AY2020/2021        3 \\n\\nAttendance:  \\n\\nStudents receive 8 ECTS for the Master\\xb4s thesis colloquium. Attendance for supervisionwhether \\n\\nin the form of a colloquium or an individual meetingis compulsory. Students are expected to be \\n\\npresent, prepared, and engaged in each session, and to adhere to deadlines set for assignments.  \\n\\nIn case of an excused absence, students must notify their supervisor. Absence must be \\n\\ncompensated with an additional assignment.  \\n\\nStudents on an academic exchange programme in the Fall Semester should be given the \\n\\nopportunity of remote supervision.  \\n\\n \\n\\nParticipation & Milestones: \\n\\nSee Colloquium Sessions Section \\n\\n \\n\\nColloquium & Meeting Information: \\n\\n Colloquium Dates Session Title \\n\\nMeeting times  \\n\\n(suggested) \\n\\nSession 1: 18.11.2020 From Topic to Thesis \\n\\nSession 2: 06.12.2020 Initial thesis statements & \\n\\nresearch design \\n\\nSession 3: 10.02.2021 Revised thesis statements & \\n\\ndata availability \\n\\nSession 4: 02.03.2021 Initial results & literature \\n\\nSession 5: 30.03.2021 First cut presentation \\n\\nSession 6: 20.04.2021 Polished presentation \\n\\nColloquium Sessions: \\n\\nSession 1: 18.11.2020 \\n\\nFrom Topic to Thesis \\n\\nAim  \\n\\nAssignment (e.g. thesis \\n\\nproposal) \\n\\nWe will discuss your interests and possible thesis topics.  Emphasis \\n\\nwill be placed on identifying plausible projects with the potential to \\n\\ngenerate generalizable and substantively meaningful results. \\n\\n \\n\\nSession 2: 06.12.2020 \\n\\nInitial Thesis Statement and Research Design \\n\\nAim  \\n\\nAssignment (e.g. \\n\\nliterature review) \\n\\nPresent an initial thesis statement and identify clearly falsifiable \\n\\nhypotheses that can be tested on available data. \\n\\n \\n\\n\\n\\n  MIA/MPP - Supervision Plan AY2020/2021        4 \\n\\nSession 3: 10.02.2021 \\n\\nRevised Thesis Statement and Data Availability \\n\\nAim  \\n\\nAssignment (e.g. \\n\\nempirical findings) \\n\\nPresent a refined thesis statement incorporating earlier feedback.  Also \\n\\npresent descriptive statistics from the data needed for your empirical \\n\\nwork as evidence of availability.  Discuss relevant work in the literature \\n\\nand your potential value added to existing work. \\n\\n \\n\\nSession 4: 02.03.2021 \\n\\nInitial Results and Literature \\n\\nAim  \\n\\nAssignment (e.g. first \\n\\nchapter) \\n\\nPresent initial models and results.  Motivate in contrast to extant \\n\\nliterature. \\n\\n \\n\\nSession 5: 30.03.2021 \\n\\nFirst Cut Presentations \\n\\nAim  \\n\\nAssignment  Penultimate thesis presentation.    \\n\\n \\n\\nSession 6: 20.04.2021 \\n\\nPolished Presentations \\n\\nAim  \\n\\nAssignment  Final presentations'\n",
            "<class 'list'>\n"
          ],
          "name": "stdout"
        }
      ]
    },
    {
      "cell_type": "markdown",
      "metadata": {
        "id": "M0c_ftxjxY_H"
      },
      "source": [
        "## Importing what we need"
      ]
    },
    {
      "cell_type": "markdown",
      "metadata": {
        "id": "sYpCc6tdA8Cg"
      },
      "source": [
        "For some reasons it gives an error when the cell runs at first time, just try again and it should work."
      ]
    },
    {
      "cell_type": "code",
      "metadata": {
        "id": "SZmTpQUov8y8"
      },
      "source": [
        "from contextualized_topic_models.models.ctm import CombinedTM\n",
        "from contextualized_topic_models.utils.data_preparation import bert_embeddings_from_list, TopicModelDataPreparation\n",
        "from contextualized_topic_models.datasets.dataset import CTMDataset\n",
        "from contextualized_topic_models.evaluation.measures import CoherenceNPMI, InvertedRBO\n",
        "from gensim.corpora.dictionary import Dictionary\n",
        "from gensim.test.utils import common_texts\n",
        "from gensim.models import ldamodel \n",
        "from contextualized_topic_models.utils.preprocessing import WhiteSpacePreprocessing\n",
        "import nltk\n",
        "import os\n",
        "import pickle"
      ],
      "execution_count": 5,
      "outputs": []
    },
    {
      "cell_type": "markdown",
      "metadata": {
        "id": "CQkeIrdWLU2m"
      },
      "source": [
        "## Preprocessing"
      ]
    },
    {
      "cell_type": "markdown",
      "metadata": {
        "id": "V-AM070Ez6lW"
      },
      "source": [
        "Let's pass our file with preprocess data to our text handler object. This object takes care of creating the bag of words for you.\n",
        "\n",
        "Why do we use the **preprocessed text** here? we need text without punctuation to build the bag of word. Also, we might want only to have the most frequent words inside the BoW. Too many words might not help."
      ]
    },
    {
      "cell_type": "markdown",
      "metadata": {
        "id": "lP-t9rDmK0PU"
      },
      "source": [
        "#### Train data"
      ]
    },
    {
      "cell_type": "code",
      "metadata": {
        "id": "HoKrSIkxaNBt",
        "colab": {
          "base_uri": "https://localhost:8080/"
        },
        "outputId": "ecd74e45-0ea4-4c5a-c190-a14d533bd096"
      },
      "source": [
        "nltk.download('stopwords')\n",
        "\n",
        "documents = train_file\n",
        "#documents = [line.strip() for line in open(text_file, encoding=\"utf-8\").readlines()]\n",
        "sp = WhiteSpacePreprocessing(documents, \"english\")\n",
        "train_preprocessed_documents_for_bow, train_unpreprocessed_corpus_for_contextual, vocab = sp.preprocess()"
      ],
      "execution_count": 6,
      "outputs": [
        {
          "output_type": "stream",
          "text": [
            "[nltk_data] Downloading package stopwords to /root/nltk_data...\n",
            "[nltk_data]   Unzipping corpora/stopwords.zip.\n"
          ],
          "name": "stdout"
        }
      ]
    },
    {
      "cell_type": "markdown",
      "metadata": {
        "id": "MQ4_WReiK2xW"
      },
      "source": [
        "#### Test data"
      ]
    },
    {
      "cell_type": "code",
      "metadata": {
        "id": "dhUjirOKu2dj"
      },
      "source": [
        "documents = test_file\n",
        "#documents = [line.strip() for line in open(text_file, encoding=\"utf-8\").readlines()]\n",
        "sp = WhiteSpacePreprocessing(documents, \"english\")\n",
        "test_preprocessed_documents_for_bow, test_unpreprocessed_corpus_for_contextual, vocab = sp.preprocess()"
      ],
      "execution_count": 7,
      "outputs": []
    },
    {
      "cell_type": "markdown",
      "metadata": {
        "id": "siaiAyp5K4n2"
      },
      "source": [
        "### Validation Data"
      ]
    },
    {
      "cell_type": "code",
      "metadata": {
        "id": "_dZTaftuBD8J"
      },
      "source": [
        "documents = val_file\n",
        "#documents = [line.strip() for line in open(text_file, encoding=\"utf-8\").readlines()]\n",
        "sp = WhiteSpacePreprocessing(documents, \"english\")\n",
        "val_preprocessed_documents_for_bow, val_unpreprocessed_corpus_for_contextual, vocab = sp.preprocess()"
      ],
      "execution_count": 8,
      "outputs": []
    },
    {
      "cell_type": "markdown",
      "metadata": {
        "id": "vu0HY7KWGrk1"
      },
      "source": [
        "You might want to pickle the **training_dataset** object to avoid recomputing the BoW multiple times"
      ]
    },
    {
      "cell_type": "code",
      "metadata": {
        "id": "KhLt6VA3wvCB",
        "colab": {
          "base_uri": "https://localhost:8080/",
          "height": 66,
          "referenced_widgets": [
            "4c5f4495987d4d56bb35e258a5aa08c2",
            "a137c5cbba824cd28c1cd1d1af0addc2",
            "3e7cbccdfe0b45f193b5379095c33c66",
            "b9af5e66761d4f4ba16305db0a4c1470",
            "b0d07659270c4c899706c4f65ae5c1eb",
            "b0e5b6ecc3814556b7375ba9b54a3121",
            "abd161a8219b472386e47c71b6a67155",
            "c8647615a6c4437797cc6d3b34dc325a",
            "125dd2b4b2bd4a47a36801cc969c969c",
            "464b8e819a7f4164ad243d5514dfca6d",
            "d69acaf08fee42c6bdf1c87d3699cc07"
          ]
        },
        "outputId": "700aed5e-481c-4d9f-b32a-86bca8728c4b"
      },
      "source": [
        "qt = TopicModelDataPreparation(\"bert-base-nli-mean-tokens\")\n",
        "\n",
        "training_dataset = qt.create_training_set(train_unpreprocessed_corpus_for_contextual, train_preprocessed_documents_for_bow)"
      ],
      "execution_count": 9,
      "outputs": [
        {
          "output_type": "stream",
          "text": [
            "100%|██████████| 405M/405M [00:24<00:00, 16.7MB/s]\n"
          ],
          "name": "stderr"
        },
        {
          "output_type": "display_data",
          "data": {
            "application/vnd.jupyter.widget-view+json": {
              "model_id": "4c5f4495987d4d56bb35e258a5aa08c2",
              "version_minor": 0,
              "version_major": 2
            },
            "text/plain": [
              "Batches:   0%|          | 0/5 [00:00<?, ?it/s]"
            ]
          },
          "metadata": {
            "tags": []
          }
        }
      ]
    },
    {
      "cell_type": "code",
      "metadata": {
        "id": "9kakuf-0BbDm"
      },
      "source": [
        "#pickle the training dataset\n",
        "with open('training.pickle', 'wb') as f:\n",
        "    pickle.dump(training_dataset, f)"
      ],
      "execution_count": 10,
      "outputs": []
    },
    {
      "cell_type": "markdown",
      "metadata": {
        "id": "i5agbVqhxdnY"
      },
      "source": [
        "## Training our Contextualized Topic Model\n",
        "\n",
        "Finally, we can fit our new topic model. We will ask the model to find 28 topics in our collection (n_component parameter of the CTM object), equal to number of supervisors"
      ]
    },
    {
      "cell_type": "code",
      "metadata": {
        "id": "dALamw7HxLj-",
        "colab": {
          "base_uri": "https://localhost:8080/"
        },
        "outputId": "e08f5853-b802-489b-d16c-9958ca5bca49"
      },
      "source": [
        "ctm = CombinedTM(input_size=len(qt.vocab), bert_input_size=768, n_components=28, num_epochs=20)\n",
        "\n",
        "ctm.fit(training_dataset) "
      ],
      "execution_count": 11,
      "outputs": [
        {
          "output_type": "stream",
          "text": [
            "Epoch: [20/20]\t Seen Samples: [16200/16200]\tTrain Loss: 13033.494290123457\tTime: 0:00:00.387779: : 20it [00:07,  2.59it/s]\n"
          ],
          "name": "stderr"
        }
      ]
    },
    {
      "cell_type": "markdown",
      "metadata": {
        "id": "NVNmZrvGDgoL"
      },
      "source": [
        "## Saving the Model"
      ]
    },
    {
      "cell_type": "code",
      "metadata": {
        "colab": {
          "base_uri": "https://localhost:8080/"
        },
        "id": "o_gXYJNyvV7L",
        "outputId": "6d29884c-6b64-4543-d86f-d8ab0be5168f"
      },
      "source": [
        "path = F\"/content/drive/MyDrive/ThesisAllocationSystem/models/ctm.bin\" \n",
        "ctm.save(path)"
      ],
      "execution_count": 12,
      "outputs": [
        {
          "output_type": "stream",
          "text": [
            "/usr/local/lib/python3.7/dist-packages/contextualized_topic_models/models/ctm.py:388: Warning: This is an experimental feature that we has not been fully tested. Refer to the following issue:https://github.com/MilaNLProc/contextualized-topic-models/issues/38\n",
            "  Warning)\n"
          ],
          "name": "stderr"
        }
      ]
    },
    {
      "cell_type": "markdown",
      "metadata": {
        "id": "KKAMm2eRDic6"
      },
      "source": [
        "## Loading the Model "
      ]
    },
    {
      "cell_type": "code",
      "metadata": {
        "id": "IlkU_lg4DmiU"
      },
      "source": [
        "#del ctm"
      ],
      "execution_count": null,
      "outputs": []
    },
    {
      "cell_type": "markdown",
      "metadata": {
        "id": "tNZzxirhiD0E"
      },
      "source": [
        "Q HANNAH: how to open saved model"
      ]
    },
    {
      "cell_type": "code",
      "metadata": {
        "id": "295mzsUFDp2i"
      },
      "source": [
        "#ctm = CombinedTM(input_size=len(qt.vocab), bert_input_size=768, num_epochs=100, n_components=50)\n",
        "\n",
        "#ctm.load(\"/content/drive/MyDrive/ThesisAllocationSystem/models/ctm.bin/contextualized_topic_model_nc_25_tpm_0.0_tpv_0.96_hs_prodLDA_ac_(100, 100)_do_softplus_lr_0.2_mo_0.002_rp_0.99/epoch_14.pth\", epoch = 14)"
      ],
      "execution_count": null,
      "outputs": []
    },
    {
      "cell_type": "markdown",
      "metadata": {
        "id": "ZSOGU7RgENqT"
      },
      "source": [
        "Loading from Colab directory doesn't seem to work. "
      ]
    },
    {
      "cell_type": "markdown",
      "metadata": {
        "id": "-SEBG6wj9Zdu"
      },
      "source": [
        "# Topics\n",
        "\n",
        "After training, now it is the time to look at our topics: we can use the \n",
        "\n",
        "```\n",
        "get_topic_lists\n",
        "```\n",
        "\n",
        "function to get the topics. It also accepts a parameter that allows you to select how many words you want to see for each topic.\n",
        "\n",
        "If you look at the topics, you will see that they all make sense and are representative of a collection of documents that comes from Wikipedia (general knowledge)."
      ]
    },
    {
      "cell_type": "code",
      "metadata": {
        "id": "lxcKgjbx3V2o",
        "colab": {
          "base_uri": "https://localhost:8080/"
        },
        "outputId": "bb88e344-f67f-4094-c0dd-584b656a24bf"
      },
      "source": [
        "ctm.get_topic_lists(20)"
      ],
      "execution_count": 14,
      "outputs": [
        {
          "output_type": "execute_result",
          "data": {
            "text/plain": [
              "[['data',\n",
              "  'used',\n",
              "  'et',\n",
              "  'al',\n",
              "  'results',\n",
              "  'different',\n",
              "  'energy',\n",
              "  'nd',\n",
              "  'using',\n",
              "  'nn',\n",
              "  'one',\n",
              "  'value',\n",
              "  'use',\n",
              "  'two',\n",
              "  'model',\n",
              "  'party',\n",
              "  'large',\n",
              "  'ns',\n",
              "  'analysis',\n",
              "  'nin'],\n",
              " ['distinguish',\n",
              "  'phenomenon',\n",
              "  'closer',\n",
              "  'get',\n",
              "  'seek',\n",
              "  'causes',\n",
              "  'wider',\n",
              "  'remained',\n",
              "  'mail',\n",
              "  'horizontal',\n",
              "  'added',\n",
              "  'effectively',\n",
              "  'attempts',\n",
              "  'indicates',\n",
              "  'inclusion',\n",
              "  'body',\n",
              "  'furthermore',\n",
              "  'distributed',\n",
              "  'affects',\n",
              "  'earlier'],\n",
              " ['states',\n",
              "  'european',\n",
              "  'eu',\n",
              "  'member',\n",
              "  'making',\n",
              "  'actors',\n",
              "  'decision',\n",
              "  'nthe',\n",
              "  'international',\n",
              "  'legitimacy',\n",
              "  'see',\n",
              "  'state',\n",
              "  'process',\n",
              "  'journal',\n",
              "  'council',\n",
              "  'asylum',\n",
              "  'union',\n",
              "  'central',\n",
              "  'political',\n",
              "  'core'],\n",
              " ['germany',\n",
              "  'german',\n",
              "  'education',\n",
              "  'fertility',\n",
              "  'higher',\n",
              "  'birth',\n",
              "  'low',\n",
              "  'women',\n",
              "  'employment',\n",
              "  'power',\n",
              "  'market',\n",
              "  'time',\n",
              "  'study',\n",
              "  'high',\n",
              "  'kreyenfeld',\n",
              "  'training',\n",
              "  'age',\n",
              "  'family',\n",
              "  'system',\n",
              "  'level'],\n",
              " ['government',\n",
              "  'political',\n",
              "  'policy',\n",
              "  'parties',\n",
              "  'actors',\n",
              "  'public',\n",
              "  'european',\n",
              "  'state',\n",
              "  'making',\n",
              "  'administrative',\n",
              "  'party',\n",
              "  'national',\n",
              "  'member',\n",
              "  'politics',\n",
              "  'civil',\n",
              "  'rules',\n",
              "  'role',\n",
              "  'union',\n",
              "  'reform',\n",
              "  'policies'],\n",
              " ['countries',\n",
              "  'government',\n",
              "  'political',\n",
              "  'likely',\n",
              "  'economic',\n",
              "  'party',\n",
              "  'crisis',\n",
              "  'electoral',\n",
              "  'economy',\n",
              "  'terms',\n",
              "  'voters',\n",
              "  'governments',\n",
              "  'media',\n",
              "  'parties',\n",
              "  'reforms',\n",
              "  'information',\n",
              "  'org',\n",
              "  'support',\n",
              "  'utc',\n",
              "  'employment'],\n",
              " ['eu',\n",
              "  'member',\n",
              "  'states',\n",
              "  'european',\n",
              "  'state',\n",
              "  'actors',\n",
              "  'making',\n",
              "  'commission',\n",
              "  'policy',\n",
              "  'policies',\n",
              "  'political',\n",
              "  'public',\n",
              "  'central',\n",
              "  'government',\n",
              "  'rules',\n",
              "  'politics',\n",
              "  'union',\n",
              "  'national',\n",
              "  'role',\n",
              "  'decision'],\n",
              " ['results',\n",
              "  'firms',\n",
              "  'level',\n",
              "  'one',\n",
              "  'productivity',\n",
              "  'also',\n",
              "  'use',\n",
              "  'analysis',\n",
              "  'firm',\n",
              "  'average',\n",
              "  'however',\n",
              "  'sample',\n",
              "  'table',\n",
              "  'period',\n",
              "  'share',\n",
              "  'increase',\n",
              "  'product',\n",
              "  'impact',\n",
              "  'size',\n",
              "  'growth'],\n",
              " ['health',\n",
              "  'used',\n",
              "  'el',\n",
              "  'researchgate',\n",
              "  'publicationcoverpdf',\n",
              "  'nwe',\n",
              "  'using',\n",
              "  'enrichid',\n",
              "  'previous',\n",
              "  'vote',\n",
              "  'nfigure',\n",
              "  'countries',\n",
              "  'rgreq',\n",
              "  'voters',\n",
              "  'xxx',\n",
              "  'number',\n",
              "  'gdp',\n",
              "  'share',\n",
              "  'table',\n",
              "  'relative'],\n",
              " ['used',\n",
              "  'results',\n",
              "  'information',\n",
              "  'using',\n",
              "  'nto',\n",
              "  'robot',\n",
              "  'party',\n",
              "  'nd',\n",
              "  'na',\n",
              "  'online',\n",
              "  'data',\n",
              "  'nn',\n",
              "  'users',\n",
              "  'model',\n",
              "  'text',\n",
              "  'vote',\n",
              "  'use',\n",
              "  'error',\n",
              "  'two',\n",
              "  'ne'],\n",
              " ['organizations',\n",
              "  'social',\n",
              "  'sector',\n",
              "  'institutional',\n",
              "  'training',\n",
              "  'actors',\n",
              "  'nonprofit',\n",
              "  'vet',\n",
              "  'public',\n",
              "  'new',\n",
              "  'institutions',\n",
              "  'education',\n",
              "  'governance',\n",
              "  'vocational',\n",
              "  'different',\n",
              "  'research',\n",
              "  'management',\n",
              "  'service',\n",
              "  'germany',\n",
              "  'work'],\n",
              " ['public',\n",
              "  'government',\n",
              "  'political',\n",
              "  'state',\n",
              "  'actors',\n",
              "  'central',\n",
              "  'institutions',\n",
              "  'making',\n",
              "  'policy',\n",
              "  'sector',\n",
              "  'organizations',\n",
              "  'organizational',\n",
              "  'institutional',\n",
              "  'autonomy',\n",
              "  'civil',\n",
              "  'nand',\n",
              "  'literature',\n",
              "  'capacity',\n",
              "  'media',\n",
              "  'administration'],\n",
              " ['nsee',\n",
              "  'crossmark',\n",
              "  'ties',\n",
              "  'resulting',\n",
              "  'frequently',\n",
              "  'team',\n",
              "  'ngovernments',\n",
              "  'call',\n",
              "  'nresults',\n",
              "  'successful',\n",
              "  'tool',\n",
              "  'collected',\n",
              "  'seem',\n",
              "  'comparing',\n",
              "  'analyze',\n",
              "  'look',\n",
              "  'systematically',\n",
              "  'gives',\n",
              "  'professor',\n",
              "  'comments'],\n",
              " ['results',\n",
              "  'nin',\n",
              "  'ne',\n",
              "  'nn',\n",
              "  'income',\n",
              "  'na',\n",
              "  'growth',\n",
              "  'al',\n",
              "  'data',\n",
              "  'firms',\n",
              "  'np',\n",
              "  'nd',\n",
              "  'tax',\n",
              "  'nt',\n",
              "  'level',\n",
              "  'nm',\n",
              "  'size',\n",
              "  'nof',\n",
              "  'competition',\n",
              "  'changes'],\n",
              " ['social',\n",
              "  'organizations',\n",
              "  'organizational',\n",
              "  'international',\n",
              "  'governance',\n",
              "  'states',\n",
              "  'process',\n",
              "  'der',\n",
              "  'die',\n",
              "  'entrepreneurship',\n",
              "  'community',\n",
              "  'global',\n",
              "  'society',\n",
              "  'problems',\n",
              "  'practices',\n",
              "  'rights',\n",
              "  'state',\n",
              "  'often',\n",
              "  'legal',\n",
              "  'institutional'],\n",
              " ['firms',\n",
              "  'firm',\n",
              "  'productivity',\n",
              "  'export',\n",
              "  'size',\n",
              "  'paper',\n",
              "  'product',\n",
              "  'products',\n",
              "  'competition',\n",
              "  'markets',\n",
              "  'sector',\n",
              "  'exports',\n",
              "  'business',\n",
              "  'average',\n",
              "  'level',\n",
              "  'larger',\n",
              "  'total',\n",
              "  'bank',\n",
              "  'section',\n",
              "  'world'],\n",
              " ['power',\n",
              "  'energy',\n",
              "  'price',\n",
              "  'costs',\n",
              "  'prices',\n",
              "  'system',\n",
              "  'marginal',\n",
              "  'technology',\n",
              "  'low',\n",
              "  'wind',\n",
              "  'load',\n",
              "  'electricity',\n",
              "  'market',\n",
              "  'value',\n",
              "  'year',\n",
              "  'generation',\n",
              "  'cost',\n",
              "  'renewable',\n",
              "  'plant',\n",
              "  'carbon'],\n",
              " ['germany',\n",
              "  'birth',\n",
              "  'time',\n",
              "  'women',\n",
              "  'first',\n",
              "  'child',\n",
              "  'fertility',\n",
              "  'german',\n",
              "  'study',\n",
              "  'rates',\n",
              "  'education',\n",
              "  'family',\n",
              "  'kreyenfeld',\n",
              "  'demographic',\n",
              "  'educational',\n",
              "  'sample',\n",
              "  'employment',\n",
              "  'western',\n",
              "  'research',\n",
              "  'age'],\n",
              " ['firms',\n",
              "  'countries',\n",
              "  'level',\n",
              "  'et',\n",
              "  'size',\n",
              "  'higher',\n",
              "  'productivity',\n",
              "  'average',\n",
              "  'firm',\n",
              "  'income',\n",
              "  'data',\n",
              "  'results',\n",
              "  'however',\n",
              "  'product',\n",
              "  'sample',\n",
              "  'increase',\n",
              "  'literature',\n",
              "  'rate',\n",
              "  'bank',\n",
              "  'country'],\n",
              " ['election',\n",
              "  'use',\n",
              "  'parties',\n",
              "  'vote',\n",
              "  'information',\n",
              "  'nin',\n",
              "  'party',\n",
              "  'first',\n",
              "  'electoral',\n",
              "  'results',\n",
              "  'share',\n",
              "  'used',\n",
              "  'ne',\n",
              "  'na',\n",
              "  'time',\n",
              "  'voters',\n",
              "  'nn',\n",
              "  'politics',\n",
              "  'respondents',\n",
              "  'elections'],\n",
              " ['law',\n",
              "  'rights',\n",
              "  'international',\n",
              "  'human',\n",
              "  'states',\n",
              "  'see',\n",
              "  'eu',\n",
              "  'european',\n",
              "  'court',\n",
              "  'member',\n",
              "  'asylum',\n",
              "  'protection',\n",
              "  'courts',\n",
              "  'case',\n",
              "  'convention',\n",
              "  'domestic',\n",
              "  'treaty',\n",
              "  'union',\n",
              "  'legal',\n",
              "  'council'],\n",
              " ['actors',\n",
              "  'institutional',\n",
              "  'public',\n",
              "  'policy',\n",
              "  'sector',\n",
              "  'role',\n",
              "  'social',\n",
              "  'organizations',\n",
              "  'institutions',\n",
              "  'collective',\n",
              "  'unions',\n",
              "  'new',\n",
              "  'political',\n",
              "  'management',\n",
              "  'different',\n",
              "  'employers',\n",
              "  'bargaining',\n",
              "  'process',\n",
              "  'agreements',\n",
              "  'organizational'],\n",
              " ['attempt',\n",
              "  'team',\n",
              "  'nsee',\n",
              "  'closer',\n",
              "  'distinguish',\n",
              "  'narticle',\n",
              "  'nresults',\n",
              "  'ngovernments',\n",
              "  'analyze',\n",
              "  'nwork',\n",
              "  'descriptive',\n",
              "  'causes',\n",
              "  'requirements',\n",
              "  'seek',\n",
              "  'cycle',\n",
              "  'explained',\n",
              "  'tool',\n",
              "  'comments',\n",
              "  'gives',\n",
              "  'publicly'],\n",
              " ['law',\n",
              "  'international',\n",
              "  'rights',\n",
              "  'states',\n",
              "  'protection',\n",
              "  'convention',\n",
              "  'court',\n",
              "  'human',\n",
              "  'european',\n",
              "  'refugee',\n",
              "  'treaty',\n",
              "  'refugees',\n",
              "  'asylum',\n",
              "  'application',\n",
              "  'courts',\n",
              "  'see',\n",
              "  'member',\n",
              "  'un',\n",
              "  'eu',\n",
              "  'nrights'],\n",
              " ['rights',\n",
              "  'nthe',\n",
              "  'human',\n",
              "  'law',\n",
              "  'nrights',\n",
              "  'states',\n",
              "  'asylum',\n",
              "  'european',\n",
              "  'cases',\n",
              "  'international',\n",
              "  'article',\n",
              "  'legal',\n",
              "  'convention',\n",
              "  'treaty',\n",
              "  'robot',\n",
              "  'court',\n",
              "  'eu',\n",
              "  'refugee',\n",
              "  'protection',\n",
              "  'press'],\n",
              " ['average',\n",
              "  'increase',\n",
              "  'supply',\n",
              "  'et',\n",
              "  'paper',\n",
              "  'number',\n",
              "  'larger',\n",
              "  'al',\n",
              "  'positive',\n",
              "  'energy',\n",
              "  'nwe',\n",
              "  'different',\n",
              "  'economics',\n",
              "  'impact',\n",
              "  'value',\n",
              "  'competition',\n",
              "  'behavior',\n",
              "  'demand',\n",
              "  'goods',\n",
              "  'markets'],\n",
              " ['die',\n",
              "  'und',\n",
              "  'der',\n",
              "  'auf',\n",
              "  'den',\n",
              "  'social',\n",
              "  'xfcr',\n",
              "  'zu',\n",
              "  'von',\n",
              "  'im',\n",
              "  'activities',\n",
              "  'mit',\n",
              "  'des',\n",
              "  'organizations',\n",
              "  'entrepreneurship',\n",
              "  'organization',\n",
              "  'nsocial',\n",
              "  'business',\n",
              "  'governance',\n",
              "  'identity'],\n",
              " ['different',\n",
              "  'social',\n",
              "  'firms',\n",
              "  'nthe',\n",
              "  'research',\n",
              "  'management',\n",
              "  'used',\n",
              "  'business',\n",
              "  'productivity',\n",
              "  'robot',\n",
              "  'value',\n",
              "  'competition',\n",
              "  'activities',\n",
              "  'entrepreneurship',\n",
              "  'organizations',\n",
              "  'example',\n",
              "  'large',\n",
              "  'services',\n",
              "  'new',\n",
              "  'products']]"
            ]
          },
          "metadata": {
            "tags": []
          },
          "execution_count": 14
        }
      ]
    },
    {
      "cell_type": "markdown",
      "metadata": {
        "id": "wb3haV_IpG87"
      },
      "source": [
        "We see that most topics are coherent, however the input data needs further cleaning during preprocessing, to avoid topics such as `['nu', 'nn', 'nm', 'na', 'ne']`"
      ]
    },
    {
      "cell_type": "markdown",
      "metadata": {
        "id": "jeNJfHvzjD2R"
      },
      "source": [
        "### Let's find our documents' topics\n",
        "\n",
        "Ok now we can take a document and see which topic has been asigned to it. Results will obviously change with respect to the documents you are using. For example, let's predict the topic of the first preprocessed document."
      ]
    },
    {
      "cell_type": "code",
      "metadata": {
        "id": "Zl5O1HExjI0e",
        "colab": {
          "base_uri": "https://localhost:8080/"
        },
        "outputId": "a94e1a16-7249-4106-bd40-110ce9d750b4"
      },
      "source": [
        "topics_predictions = ctm.get_doc_topic_distribution(training_dataset, n_samples=20) # get all the topic predictions"
      ],
      "execution_count": 24,
      "outputs": [
        {
          "output_type": "execute_result",
          "data": {
            "text/plain": [
              "array([[0.01577941, 0.01985348, 0.00950735, ..., 0.034477  , 0.03437557,\n",
              "        0.03375748],\n",
              "       [0.00491125, 0.19862895, 0.00410378, ..., 0.00671453, 0.00933267,\n",
              "        0.00760665],\n",
              "       [0.00710162, 0.00816241, 0.0148982 , ..., 0.03847799, 0.0513298 ,\n",
              "        0.03427094],\n",
              "       ...,\n",
              "       [0.03092527, 0.02049915, 0.04270892, ..., 0.03363015, 0.04208795,\n",
              "        0.01618558],\n",
              "       [0.01175864, 0.01497844, 0.03490946, ..., 0.01981825, 0.01961549,\n",
              "        0.02873682],\n",
              "       [0.02214756, 0.01380935, 0.06567344, ..., 0.03097284, 0.02318731,\n",
              "        0.02864021]])"
            ]
          },
          "metadata": {
            "tags": []
          },
          "execution_count": 24
        }
      ]
    },
    {
      "cell_type": "code",
      "metadata": {
        "id": "fFWsIxDYj0pC",
        "colab": {
          "base_uri": "https://localhost:8080/",
          "height": 120
        },
        "outputId": "f51c7ccb-535c-45db-e86a-6c542bba8d58"
      },
      "source": [
        "train_preprocessed_documents_for_bow[0] # see the text of the first preprocessed document"
      ],
      "execution_count": 16,
      "outputs": [
        {
          "output_type": "execute_result",
          "data": {
            "application/vnd.google.colaboratory.intrinsic+json": {
              "type": "string"
            },
            "text/plain": [
              "'nsee discussions author publication https www researchgate net publication incentive preferences issues strategies local government first evidence narticle authors including nsome authors publication also working related projects open innovative governments view project public sector future view project publications nsee profile school governance publications nsee profile nall content following page september nthe user downloaded nhttps www researchgate net publication motivation incentive preferences issues strategies local government first evidence austria enrichid rgreq xxx enrichsource el esc publicationcoverpdf nhttps www researchgate net publication motivation incentive preferences issues strategies local government first evidence austria enrichid rgreq xxx enrichsource el esc publicationcoverpdf nhttps www researchgate net project open innovative governments enrichid rgreq xxx enrichsource el esc publicationcoverpdf nhttps www researchgate net project public sector future enrichid rgreq xxx enrichsource el esc publicationcoverpdf nhttps www researchgate net enrichid rgreq xxx enrichsource el esc publicationcoverpdf nhttps www researchgate net profile enrichid rgreq xxx enrichsource el esc publicationcoverpdf nhttps www researchgate net profile enrichid rgreq xxx enrichsource el esc publicationcoverpdf nhttps www researchgate net institution enrichid rgreq xxx enrichsource el esc publicationcoverpdf nhttps www researchgate net profile enrichid rgreq xxx enrichsource el esc publicationcoverpdf nhttps www researchgate net profile enrichid rgreq xxx enrichsource el esc publicationcoverpdf nhttps www researchgate net profile enrichid rgreq xxx enrichsource el esc publicationcoverpdf nhttps www researchgate net institution hertie school governance enrichid rgreq xxx enrichsource el esc publicationcoverpdf nhttps www researchgate net profile enrichid rgreq xxx enrichsource el esc publicationcoverpdf nhttps www researchgate net profile enrichid rgreq xxx enrichsource el esc publicationcoverpdf incentive preferences issues strategies local government nfirst evidence austria nabstract many countries contexts questions public service motivation topic empirical studies lack research german ncountries specific observed although exists nresearch civil service motivation specific recent time research little paid effects recent efforts initiatives implement management instruments perceptions values job public sector employees nin paper research concept public motivation public administration german context thereby focus government level german countries often argued npm reforms present first results na current public management research project based broad survey city quite different policy fields sample several features characteristics strong logic last years also became reform initiatives along ideas new public management nour research focus question specific dimensions characteristics public service value preferences observed differ according various factors size unit policy field type activity personal factors age duration nof employment private sector experience education gender nin analysis also link concept public service motivation independent variable issues public management reform survey includes questions job incentive preferences various types well assessment public management reforms various types nmanagement instruments interested far specific public sector motivation specific incentives respondents assessment various measures nmanagement instruments proposed paper forms part research project public service motivation characteristics public administration opportunities incentives public der page introduction research public sector motivation identity last decade context concept public service motivation developed us defined respond motives primarily public ninstitutions organizations authors followed used instance describe force nthat individuals perform public service general motivation serve interests community state nation addition although model specifically towards united states us american model model nthat also found european region different researchers analyze public service behavior without especially european authors use like public service conceptual discussions increasing last years nand applied empirical studies different countries several studies used dependent nand independent variable relationship public service motivation nand job organizational commitment performance organizational members high levels appear contribute various ways engage public interest higher levels organizational believe jobs important turn leads working likely high job less likely leave jobs overall nresearch far central issue strategies identity motivation important cultural dimension cannot one socio historical context next together empirical application within research questions national differences npublic sector motivation relevance page nof outside us recent research holds differences npublic service motivation different countries phenomenon needs nresearch cross cultural context nin order problem regional differences authors nwhich cover sense also types value behavioral instance values go beyond self interest organizational interest concern interest na larger political individuals act appropriate na definition according work values general values seen work values recent equally based initial definition nin research design draw original nthey argue motivation act specific way must rational costs benefits rather rational normative motives individuals highly public service work based three categories nin various studies support also found cross sector found nthat public private managers significant differences perceptions different types contrast private managers public managers public service work others important higher pay less important similar conclusions preferences government hybrid business sector managers understood series studies developed measure distinct dimensions public policy making commitment public interest self dimensions distinction three categories motives mentioned public npolicy making category rational motives involves actions utility participation public policy making ones self importance commitment public interest nthe category norm based motives self category motives help others one personal understood page neither normative type state nthe four different dimensions measured multiple scale however measure developed used studies fact across ndifferent empirical studies another opinion needs attention different dimensions kind overall suggested dimension distinct potentially unique form follow study supported different dimensions many recent studies using questions use overall score dimension rather studying effects dimensions especially socio contexts four dimensions nthis overall score many countries contexts questions public service motivation nhave increasingly topic empirical studies observe lack research ngerman countries specific although nhas research civil service motivation specific recent years field nbeen followed little attention paid effects recent efforts initiatives nto implement management concepts instruments perceptions values job public sector employees paper research concept public sector motivation public administration na german research context focus local government level ngerman countries often argued npm reforms present first results current npublic management research project based broad survey city quite different policy fields sample public employees features characteristics administration strong logic last years administrative reform initiatives along ideas npm also reputation one regions europe providing proposed paper part research project public service motivation characteristics public administration opportunities incentives public nmanagement der page nhigh quality life quality life survey based survey nof international city highest quality life within nthe european union nour research focus question specific dimensions characteristics npublic service motivation value preferences observed specific context nhow differ according various factors size unit policy field type personal factors age duration employment private sector experience neducation gender analysis also link concept public service motivation nto various issues public management reform survey includes questions job incentive preferences various types nof incentives well assessment public management reforms various types nmanagement instruments interested far specific public sector motivation preferences specific incentives respondents assessment measures management instruments particular interest different dimensions show similar significantly different relationships nwith factors need separate nan overall research strategy nas data collection recently present nresults early stage research paper therefore statistics nto descriptive results first complex regression analyses influence several independent variables dimensions next step features public administration austria nas organizational practices socially rule sets dependent institutional managerial work attention need country specific data similarly public management literature factors characteristics legal culture understanding public sector change nour study focus austria country described home administration specifically city first time nthat concept applied german public administration believe nis necessary discuss concept specific context page germany institutional logic public characterized approach still theory law first constitution rational form authority idea rules established stable political applied equal independent central flexibility strongly constitutional principles nas principle principle regulations consequence public administration strong emphasis rules together relatively high amount internal orientation described legal performance results although nthese features common austria nthe home administration system hierarchical administration civil shows law nand objective civil great sense expertise stability special professional state nin austria elements professional identity different forms expertise bodies knowledge health education infrastructure social especially legal central role public executives background legal studies strong legal focus nof training system public employment system detailed regulations relatively private sector employment little mobility within systems austria germany administrative observe specific professional civil specific relation state nand public tasks resulting germany see includes core elements civil identity around ideas towards nand citizen action political changes great sense administrative expertise office public interest societal interests features life ntime status protection including based page nthese general features public sector logic identity equally run levels thus also city administration capital republic austria million city far governance system specific features takes unique position austria city federal state federal constitution art federal state legislation city council state executive body wider power compared due role state also due historical reasons function capital city state characterized large size broad variety functions na high complexity governance system city trend source austria employees enterprises na specific feature considerable impact administration political one party social democratic party period often city na far way era first city population people social democratic government political culture policy means national education social policy main local social democratic administration various elements local welfare system type top nof government seen achieved important working class nbased city still ii held years coalition party end majority council nas already long term one political party leads na complex local government political private actors sense described form social democratic urban ngovernance et al responsible broad tasks areas education social affairs environmental protection employment state addition city administration responsible broad city administration functions related urban development culture management public management page city administration currently regional latter responsible nthe along system federal administration units developed quite distinct corporate identities often strong professional status within specific policy field decades hierarchical governance nsystem recently liberal models line npolitical eu countries et al late city administration became management initiatives along ideas npm similar federal administration nwith international trends order promote entrepreneurial city large addition according administrative led city self understanding refers large company focus citizens efficiency criteria nintroduction new management instruments contract management planning nthe concept relationship features developments would point direction high npublic interest political required public servants would make relatively motivation policy making hand new entrepreneurial clear opposition traditional self relation public servants nresearch interested extent features system social democratic influence legal hierarchical culture influence various dimensions well public sector general addition interested whether observe new logic starting values federal tasks according constitution art either federal authorities purpose authorities state level called federal administration case page data method study based mail employees city well one autonomous unit mit administrative job types addition also paper form selection nbased several criteria different policy fields cultural social internal external services core autonomous units included open questions general towards npublic services including questions job incentives management public administration asked personal background ninformation pre lower level executives prior survey employees mentioned city received executive study employees complete office hours data database form added database nwith respondents response rate mentioned sample area persons functions included leads overall sample although study public sector broad findings representative study whole city nnumber respondents also different questions questions nthe sample female male respondents years generally relatively force public sector regarding family status majority nin children concerning background majority public executives sample low middle level education degree whereas university degree respondents working capacity member npolitical party regard employment working npublic sector years relatively new five employment refer employment private sector'"
            ]
          },
          "metadata": {
            "tags": []
          },
          "execution_count": 16
        }
      ]
    },
    {
      "cell_type": "code",
      "metadata": {
        "id": "kJf1bP5PjqOQ",
        "colab": {
          "base_uri": "https://localhost:8080/"
        },
        "outputId": "3b5f698d-8c30-4044-d83e-d793538d9266"
      },
      "source": [
        "import numpy as np\n",
        "topic_number = np.argmax(topics_predictions[0]) # get the topic id of the first document\n",
        "topic_number"
      ],
      "execution_count": 17,
      "outputs": [
        {
          "output_type": "execute_result",
          "data": {
            "text/plain": [
              "11"
            ]
          },
          "metadata": {
            "tags": []
          },
          "execution_count": 17
        }
      ]
    },
    {
      "cell_type": "code",
      "metadata": {
        "id": "yMA9vUsgjwOi",
        "colab": {
          "base_uri": "https://localhost:8080/"
        },
        "outputId": "eba16afa-c6c7-4c06-d03d-0775ddd875a6"
      },
      "source": [
        "ctm.get_topic_lists(20)[topic_number] #and the topic should and could be about public management related things"
      ],
      "execution_count": 19,
      "outputs": [
        {
          "output_type": "execute_result",
          "data": {
            "text/plain": [
              "['public',\n",
              " 'government',\n",
              " 'political',\n",
              " 'state',\n",
              " 'actors',\n",
              " 'central',\n",
              " 'institutions',\n",
              " 'making',\n",
              " 'policy',\n",
              " 'sector',\n",
              " 'organizations',\n",
              " 'organizational',\n",
              " 'institutional',\n",
              " 'autonomy',\n",
              " 'civil',\n",
              " 'nand',\n",
              " 'literature',\n",
              " 'capacity',\n",
              " 'media',\n",
              " 'administration']"
            ]
          },
          "metadata": {
            "tags": []
          },
          "execution_count": 19
        }
      ]
    },
    {
      "cell_type": "markdown",
      "metadata": {
        "id": "ND8mG7WlWQIc"
      },
      "source": [
        "### Visualization of a topic\n",
        "\n",
        "We can visualize `topic 11`, which is our first document's topic id. We want the wordcloud to display 20 words of the topic."
      ]
    },
    {
      "cell_type": "code",
      "metadata": {
        "colab": {
          "base_uri": "https://localhost:8080/",
          "height": 686
        },
        "id": "95aVGj1jWO5x",
        "outputId": "85f68cf1-35e6-441b-e8e9-3bc4041308a6"
      },
      "source": [
        "ctm.get_wordcloud(topic_id=11, n_words=20)"
      ],
      "execution_count": 20,
      "outputs": [
        {
          "output_type": "display_data",
          "data": {
            "image/png": "[encoded data removed]",
            "text/plain": [
              "<Figure size 2000x800 with 1 Axes>"
            ]
          },
          "metadata": {
            "tags": [],
            "needs_background": "light"
          }
        }
      ]
    },
    {
      "cell_type": "code",
      "metadata": {
        "colab": {
          "base_uri": "https://localhost:8080/"
        },
        "id": "CmbLUC3HU9Kg",
        "outputId": "10de4362-5348-4d37-dbd3-3aa9b1ccf54e"
      },
      "source": [
        "print(type(topics_predictions))\n",
        "print(len(topics_predictions))\n",
        "\n",
        "\n",
        "#workaround, number of test files available\n",
        "docs =  list(range(810))\n",
        "\n",
        "topic_id = []\n",
        "topic_labels = []\n",
        "#get all topic ids for each document in the train data set\n",
        "for doc in docs: \n",
        "    topic_index = np.argmax(topics_predictions[doc])\n",
        "    topic_id.append(topic_index)\n",
        "    topic = ctm.get_topic_lists(20)[topic_index]\n",
        "    topic_labels.append(topic)\n",
        "\n",
        "#this list contains the topic ids for all test documents\n",
        "topic_id\n",
        "print(len(topic_id))\n",
        "# this list contains the labels for all test documents given their respective topic id\n",
        "topic_labels"
      ],
      "execution_count": 36,
      "outputs": [
        {
          "output_type": "stream",
          "text": [
            "810\n"
          ],
          "name": "stdout"
        }
      ]
    },
    {
      "cell_type": "markdown",
      "metadata": {
        "id": "rroW2JpBZNrd"
      },
      "source": [
        "We are using the created topics with each 20 words to contain test data content, but without the inherent bias coming from writing style and word choice. Furthermore, we use the topic ids as labels which we then plan to input into a distilBERT classifier model. "
      ]
    },
    {
      "cell_type": "code",
      "metadata": {
        "id": "LtGly2toU38H"
      },
      "source": [
        "import pandas as pd\n",
        "\n",
        "train_label_df = pd.DataFrame()\n",
        "\n",
        "train_label_df[\"topic_id\"] = topic_id\n",
        "train_label_df[\"topic\"] = topic_labels\n",
        "train_label_df\n",
        "\n",
        "train_label_df.to_csv('/content/drive/MyDrive/ThesisAllocationSystem/data_final/ctm_label/train-label.csv', index = False)"
      ],
      "execution_count": 51,
      "outputs": []
    },
    {
      "cell_type": "markdown",
      "metadata": {
        "id": "galVyA1MsvRe"
      },
      "source": [
        "## Test\n",
        "\n",
        "We are using the test set to predict for unseen documents. "
      ]
    },
    {
      "cell_type": "code",
      "metadata": {
        "colab": {
          "base_uri": "https://localhost:8080/",
          "height": 66,
          "referenced_widgets": [
            "62f46dcb71834ecca2f8e8b843a7ec97",
            "73b8775a99c5418b90dd15e0e45516b1",
            "24461fe0a65a4303b15bc51a21fb5704",
            "da667d9a555b4dfab2fc3b35b8720620",
            "426458f0d1b44177848ae20ea85637f9",
            "55219ff287e845cabca4ecbf55fa7e37",
            "fb413b97f56247c69443d0c0e0cf1a7b",
            "0381b13b22064add93a97a879f63d75f",
            "6aaf18ad3f0a47b3823d3c843c8164d1",
            "53caf811d2d6429a91aaeea028bbf968",
            "0706da25be0d4a2a8f64c3be81b84553"
          ]
        },
        "id": "zIq7_IUgs0kA",
        "outputId": "c34fbd0b-8cf1-4f13-ea60-9a4f9f6700b0"
      },
      "source": [
        "testing_dataset = qt.create_test_set(test_unpreprocessed_corpus_for_contextual, test_preprocessed_documents_for_bow) # create dataset for the testset\n",
        "predictions = ctm.get_doc_topic_distribution(testing_dataset, n_samples=10)"
      ],
      "execution_count": 58,
      "outputs": [
        {
          "output_type": "display_data",
          "data": {
            "application/vnd.jupyter.widget-view+json": {
              "model_id": "62f46dcb71834ecca2f8e8b843a7ec97",
              "version_minor": 0,
              "version_major": 2
            },
            "text/plain": [
              "Batches:   0%|          | 0/1 [00:00<?, ?it/s]"
            ]
          },
          "metadata": {
            "tags": []
          }
        },
        {
          "output_type": "stream",
          "text": [
            "Sampling: [10/10]: : 10it [00:01,  5.88it/s]\n"
          ],
          "name": "stderr"
        }
      ]
    },
    {
      "cell_type": "code",
      "metadata": {
        "colab": {
          "base_uri": "https://localhost:8080/"
        },
        "id": "To-IcPtsv8bV",
        "outputId": "0f366c3f-3dae-44c7-b041-3d41cf6c3061"
      },
      "source": [
        "print(test_unpreprocessed_corpus_for_contextual[3])\n",
        "\n",
        "topic_index = np.argmax(predictions[3])\n",
        "ctm.get_topic_lists(20)[topic_index]"
      ],
      "execution_count": 59,
      "outputs": [
        {
          "output_type": "stream",
          "text": [
            "b'Thesis Proposal \\n\\nCitizen Perceptions and Preferences on Hate Speech Declaration and Hate Speech \\n\\nRegulations \\n\\nJoshita Pai \\n\\nSona Jose \\n\\nIntroduction \\n\\nWhile its effect is disputably unquantifiable, targeted anti-Semitic attacks on Jewish journalists \\n\\nand the stirring of ethnic conflicts in Myanmar are attributable to sustained bouts of offensive \\n\\nspeech circulated online.   \\n\\nFrom triggering polarization to creating riot-like situations (Arun et al., 2016), Governments \\n\\nacross the world regard hate speech as outside the bounds of free speech and insist digital \\n\\nplatform providers to evaluate their community standards and to prevent the spread of online \\n\\nhate speech. The larger emphasis has been on the policies by respective governments and \\n\\nplatform regulations. However, this research project is an attempt to understand citizen \\n\\npreferences in terms of online hate speech regulation and also their perceptions regarding what \\n\\nessentially constitutes hate speech. \\n\\nThere is no single universally accepted definition of hate speech whether it is online or offline. \\n\\nNevertheless, the most commonly used notion of hate speech is that it is bias-motivated, hostile, \\n\\nand malicious language targeted at a person or a group because of their actual or perceived \\n\\ninnate characteristics (Cohen-Almagor 2011; Faris et al. 2016). Existing definitions of hate \\n\\nspeech as well as the legal definition of what constitutes hate speech could be extremely broad \\n\\nor fairly narrow. Recently, the digital platforms themselves have come up with the definition \\n\\nof online hate speech. For example, Facebook defines hate speech as a direct attack on people \\n\\nbased on what they call protected characteristics  race, ethnicity, national origin, religious \\n\\naffiliation, sexual orientation, caste, sex, gender, gender identity, and serious disease or \\n\\ndisability (Facebook, 2018).  \\n\\nThere is no consensus in these definitions about hate speech and what constitutes hate speech \\n\\ncould be subjective at times depending on individual contexts. A 2016 study by Wike observed \\n\\nthat Americans are more tolerant of offensive speech (Wike, 2016). The relevance of this \\n\\nproject emerges from the fact that neither government nor platform actions appear to be \\n\\ninformed by public preferences. Public preferences of what speech may be regarded offensive \\n\\n\\n\\ndiffer from context to context and these factors in the same vein, affect individuals preferences \\n\\nfor regulation.  \\n\\n \\n\\nResearch Question \\n\\nThe research question pertains to exploring and comparing the attributes that shape the \\n\\nperception of hate speech declarations and the preference for hate speech regulations in US and \\n\\nGermany. The second objective is to explore whether these public perceptions of hate speech \\n\\ndeclaration determine/shape the preferences for hate speech regulation in both the countries. \\n\\nScope of the Study \\n\\nThe overall scope of the project is confined to exploring the overlapping individual \\n\\ncharacteristics between peoples perceptions of hate speech and their corresponding preference \\n\\nfor the need for and form of regulation in US and Germany.  \\n\\nResearch Design \\n\\nTo explore the influence of individual characteristics on their opinion of hate speech and \\n\\npreference for regulation, Principal Component Analysis can be conducted. This is done so as \\n\\nto not prematurely remove variables which may contribute to explaining the variance in the \\n\\nmodel, and instead reduce the dimensionality of the variables. The variables may have different \\n\\neffects on what constitutes hate speech and on preferences for hate speech regulation.  \\n\\n Methodology  \\n\\nThe data on exploring the preferences for hate speech declaration and regulation is derived \\n\\nfrom the opt-in web panel data in US and Germany. The data entails multiple waves of survey \\n\\nconducted between 2018-2019 of 1300 respondents in each country.  \\n\\nFindings under Hate speech declaration and hate speech responsibility items will be the \\n\\nsubject matter of the project. Each item contains specific options for the respondents to choose \\n\\nfrom to sharpen the findings. The survey presented the respondents with a variety of posts \\n\\nwhich entail different issues from Muslim immigrants to posts targeting women to posts on \\n\\npolitical leaders. The preferences for hate speech vary within the range of these posts. \\n\\nSimilarly, the preference for hate speech regulation and the nature of regulation preferred also \\n\\nvaries.  \\n\\n\\n\\nThe data provides demographic and other necessary information of the respondents including \\n\\npolitical orientation and extent of use of social media etc., which offers insight into their \\n\\nbackground, against which their responses on the two items will be analyzed.  \\n\\nVariables under individual characteristics influence public opinion on classifying a certain \\n\\nspeech as hate speech and the same characteristics can also influence the preference for hate \\n\\nspeech regulation.  \\n\\nFew of the possibly overlapping variables to include: \\n\\n \\n\\nVariable Hate Speech Declaration Hate Speech Responsibility \\n\\nGender Are women more likely to find posts \\n\\nobjectifying or targeting women, more \\n\\noffensive than men? \\n\\nWomen are more likely to opt for \\n\\nregulations (perhaps platform \\n\\nregulations and not necessarily in \\n\\nthe form of government \\n\\nregulations).   \\n\\nPolitical \\n\\norientation   \\n\\nRespondents identifying more with the \\n\\nleft are very likely to declare speech \\n\\ntargeting any community to be \\n\\noffensive.  \\n\\nPeople identifying more with the \\n\\nright may opt for regulations and the \\n\\nones leaning to the left are likely to \\n\\nbe shy of choosing government \\n\\nrestrictions on online speech.   \\n\\nLevel of \\n\\nEducation \\n\\nPeople with higher education may be \\n\\nmore conscious of or have better means \\n\\nto express themselves so they are more \\n\\nlikely to discern speech from \\n\\noffensive/hate.  \\n\\nThe effect of education on the one \\n\\nhand may contribute to skepticism \\n\\ntowards government regulation on \\n\\nspeech but people with higher \\n\\neducation are less likely to deem that \\n\\nvictims deal with hate speech by \\n\\nthemselves.   \\n\\nMedia use and \\n\\npolitical \\n\\ninformation \\n\\nA higher exposure to the internet \\n\\nplatforms, especially for consumption \\n\\nof political information is likely to \\n\\nincrease the acceptance of purportedly \\n\\noffensive speech.  \\n\\nIf the threshold for offensive speech \\n\\nis lowered by increased exposure, \\n\\nthe individual may be less likely to \\n\\nopt for a regulation.  \\n\\n\\n\\nSocial media use Use of Facebook, Twitter and now \\n\\nWhatsapp is more likely to evoke strong \\n\\nperceptions of hate speech declarations, \\n\\nmay be by lowering the threshold again \\n\\nof offensive speech, compared to use of \\n\\nLinkedIn.  \\n\\nPreference for regulations, \\n\\nespecially platform regulations is \\n\\nlikely to be affected by regular users, \\n\\nespecially of Twitter, Facebook etc.  \\n\\nGeneral attitude \\n\\ntowards politics \\n\\n Individuals indifferent to politics are \\n\\nlikely to accept regulating hate \\n\\nspeech.  \\n\\nParties and \\n\\ncandidates \\n\\nIndividuals with affiliation to political \\n\\nparties on the right of the spectrum are \\n\\nmore likely to find posts on Muslim \\n\\nimmigrants, women etc. to be more \\n\\nacceptable than offensive.  \\n\\nThis is an interesting intersection. \\n\\nIncreasing platform regulations are \\n\\nviewed by right wing political party \\n\\naffiliates as a move by tech giants to \\n\\nsuppress the voices on the left. \\n\\nHowever, support for government \\n\\nregulations in form of censorships is \\n\\nwelcomed by those associated with \\n\\npolitical parties on the right.'\n"
          ],
          "name": "stdout"
        },
        {
          "output_type": "execute_result",
          "data": {
            "text/plain": [
              "['attempt',\n",
              " 'team',\n",
              " 'nsee',\n",
              " 'closer',\n",
              " 'distinguish',\n",
              " 'narticle',\n",
              " 'nresults',\n",
              " 'ngovernments',\n",
              " 'analyze',\n",
              " 'nwork',\n",
              " 'descriptive',\n",
              " 'causes',\n",
              " 'requirements',\n",
              " 'seek',\n",
              " 'cycle',\n",
              " 'explained',\n",
              " 'tool',\n",
              " 'comments',\n",
              " 'gives',\n",
              " 'publicly']"
            ]
          },
          "metadata": {
            "tags": []
          },
          "execution_count": 59
        }
      ]
    },
    {
      "cell_type": "markdown",
      "metadata": {
        "id": "mOrKAWcbDBP1"
      },
      "source": [
        "Topics seem to show mixed validity here, might be due to shortness of the proposal text as well as the small sample size. Hopefully this will improve"
      ]
    },
    {
      "cell_type": "code",
      "metadata": {
        "colab": {
          "base_uri": "https://localhost:8080/"
        },
        "id": "SoFcwE0eKiI2",
        "outputId": "3350a0fb-6f81-47e2-c887-0c30e97d7a91"
      },
      "source": [
        "print(type(topics_predictions))\n",
        "#print(topics_predictions)\n",
        "\n",
        "print(len(test_file))\n",
        "\n",
        "#workaround, number of test files available\n",
        "docs =  list(range(6))\n",
        "\n",
        "topic_id = []\n",
        "topic_labels = []\n",
        "#get all topic ids for each document in the test data set\n",
        "for doc in docs: \n",
        "    topic_index = np.argmax(topics_predictions[doc])\n",
        "    topic_id.append(topic_index)\n",
        "    topic = ctm.get_topic_lists(20)[topic_index]\n",
        "    topic_labels.append(topic)\n",
        "\n",
        "#this list contains the topic ids for all test documents\n",
        "topic_id\n",
        "# this list contains the labels for all test documents given their respective topic id\n",
        "topic_labels\n"
      ],
      "execution_count": 61,
      "outputs": [
        {
          "output_type": "stream",
          "text": [
            "<class 'numpy.ndarray'>\n",
            "5\n"
          ],
          "name": "stdout"
        },
        {
          "output_type": "execute_result",
          "data": {
            "text/plain": [
              "[['public',\n",
              "  'government',\n",
              "  'political',\n",
              "  'state',\n",
              "  'actors',\n",
              "  'central',\n",
              "  'institutions',\n",
              "  'making',\n",
              "  'policy',\n",
              "  'sector',\n",
              "  'organizations',\n",
              "  'organizational',\n",
              "  'institutional',\n",
              "  'autonomy',\n",
              "  'civil',\n",
              "  'nand',\n",
              "  'literature',\n",
              "  'capacity',\n",
              "  'media',\n",
              "  'administration'],\n",
              " ['attempt',\n",
              "  'team',\n",
              "  'nsee',\n",
              "  'closer',\n",
              "  'distinguish',\n",
              "  'narticle',\n",
              "  'nresults',\n",
              "  'ngovernments',\n",
              "  'analyze',\n",
              "  'nwork',\n",
              "  'descriptive',\n",
              "  'causes',\n",
              "  'requirements',\n",
              "  'seek',\n",
              "  'cycle',\n",
              "  'explained',\n",
              "  'tool',\n",
              "  'comments',\n",
              "  'gives',\n",
              "  'publicly'],\n",
              " ['organizations',\n",
              "  'social',\n",
              "  'sector',\n",
              "  'institutional',\n",
              "  'training',\n",
              "  'actors',\n",
              "  'nonprofit',\n",
              "  'vet',\n",
              "  'public',\n",
              "  'new',\n",
              "  'institutions',\n",
              "  'education',\n",
              "  'governance',\n",
              "  'vocational',\n",
              "  'different',\n",
              "  'research',\n",
              "  'management',\n",
              "  'service',\n",
              "  'germany',\n",
              "  'work'],\n",
              " ['public',\n",
              "  'government',\n",
              "  'political',\n",
              "  'state',\n",
              "  'actors',\n",
              "  'central',\n",
              "  'institutions',\n",
              "  'making',\n",
              "  'policy',\n",
              "  'sector',\n",
              "  'organizations',\n",
              "  'organizational',\n",
              "  'institutional',\n",
              "  'autonomy',\n",
              "  'civil',\n",
              "  'nand',\n",
              "  'literature',\n",
              "  'capacity',\n",
              "  'media',\n",
              "  'administration'],\n",
              " ['actors',\n",
              "  'institutional',\n",
              "  'public',\n",
              "  'policy',\n",
              "  'sector',\n",
              "  'role',\n",
              "  'social',\n",
              "  'organizations',\n",
              "  'institutions',\n",
              "  'collective',\n",
              "  'unions',\n",
              "  'new',\n",
              "  'political',\n",
              "  'management',\n",
              "  'different',\n",
              "  'employers',\n",
              "  'bargaining',\n",
              "  'process',\n",
              "  'agreements',\n",
              "  'organizational'],\n",
              " ['public',\n",
              "  'government',\n",
              "  'political',\n",
              "  'state',\n",
              "  'actors',\n",
              "  'central',\n",
              "  'institutions',\n",
              "  'making',\n",
              "  'policy',\n",
              "  'sector',\n",
              "  'organizations',\n",
              "  'organizational',\n",
              "  'institutional',\n",
              "  'autonomy',\n",
              "  'civil',\n",
              "  'nand',\n",
              "  'literature',\n",
              "  'capacity',\n",
              "  'media',\n",
              "  'administration']]"
            ]
          },
          "metadata": {
            "tags": []
          },
          "execution_count": 61
        }
      ]
    },
    {
      "cell_type": "code",
      "metadata": {
        "id": "YcZvYiZIp_pq"
      },
      "source": [
        "test_label_df = pd.DataFrame()\n",
        "\n",
        "#test_label_df['text'] = file2['Content']\n",
        "test_label_df[\"topic_id\"] = topic_id\n",
        "test_label_df[\"topic\"] = topic_labels\n",
        "test_label_df\n",
        "\n",
        "test_label_df.to_csv('/content/drive/MyDrive/ThesisAllocationSystem/data_final/ctm_label/test-label.csv', index = False)"
      ],
      "execution_count": 62,
      "outputs": []
    },
    {
      "cell_type": "markdown",
      "metadata": {
        "id": "ja_Zzz80B664"
      },
      "source": [
        "## Validation\n",
        "\n",
        "We are using the supervision plans to predict for topics that professors offer their students to write their thesis about."
      ]
    },
    {
      "cell_type": "code",
      "metadata": {
        "colab": {
          "base_uri": "https://localhost:8080/",
          "height": 66,
          "referenced_widgets": [
            "56c349e1e726498086266c299eff4b2e",
            "99d10d0bf89d43638e337a52f419bad4",
            "5021ba23d0b04952b836b7aac2564b10",
            "7a2b45391358450fa07de2f802bf76a0",
            "b74e5f3a3b7a4a969bc91b0086b39e1e",
            "3d27526002214dd3ae7d2841ed06b8b5",
            "35b994407d214b4cbcef8f57d976a2af",
            "ed6eddefeb964b34a4d632ce331e4b45",
            "579d668255b14de3ac9279fc856744e5",
            "ab6790919e4049e78a57b81598880d23",
            "aae66e0f56c148a488cab96cf786caa7"
          ]
        },
        "id": "rx0yT4urCvSS",
        "outputId": "0f0b1522-2ace-48ce-da4f-b7ab8c0bcedd"
      },
      "source": [
        "validation_dataset = qt.create_test_set(val_unpreprocessed_corpus_for_contextual, val_preprocessed_documents_for_bow) # create dataset for the test set\n",
        "predictions = ctm.get_doc_topic_distribution(validation_dataset, n_samples=10)"
      ],
      "execution_count": 63,
      "outputs": [
        {
          "output_type": "display_data",
          "data": {
            "application/vnd.jupyter.widget-view+json": {
              "model_id": "56c349e1e726498086266c299eff4b2e",
              "version_minor": 0,
              "version_major": 2
            },
            "text/plain": [
              "Batches:   0%|          | 0/1 [00:00<?, ?it/s]"
            ]
          },
          "metadata": {
            "tags": []
          }
        },
        {
          "output_type": "stream",
          "text": [
            "Sampling: [5/5]: : 5it [00:00,  5.71it/s]\n"
          ],
          "name": "stderr"
        }
      ]
    },
    {
      "cell_type": "code",
      "metadata": {
        "colab": {
          "base_uri": "https://localhost:8080/"
        },
        "id": "K9XftG7oFB_d",
        "outputId": "c82deee6-efc1-4954-9e52-08591bd1e198"
      },
      "source": [
        "print(val_unpreprocessed_corpus_for_contextual[4])\n",
        "\n",
        "topic_index = np.argmax(predictions[3])\n",
        "ctm.get_topic_lists(20)[topic_index]"
      ],
      "execution_count": 64,
      "outputs": [
        {
          "output_type": "stream",
          "text": [
            "b'MIA/MPP - Supervision Plan AY2020/2021        1 \\n\\n \\n \\n\\nMaster Thesis Supervision Plan \\nAcademic Year 2020-2021 \\n\\nMIA/MPP \\n \\n\\nName: Thurid Hustedt  \\n\\nProfessor of Public Administration and Management \\n\\n  \\nAdvisor Information  \\n\\nOffice 3.12.1 \\n\\nE-Mail hustedt@hertie-school.org \\n\\nFaculty Assistant Jonida Popi, popi@hertie-school.org \\n\\nOffice Hours Please make an appointment by email \\n\\n \\n \\nResearch & Advising Profile: \\nGeneral Academic Field: What is your academic field, and what are your areas of supervision? \\n\\nMy general academic field is public administration, public management and public policy.  \\n\\n \\n\\n \\n\\n \\n\\n \\n\\n \\n\\nSpecific Expertise: What is your specific area of expertise, and what topics are you supervising? \\n\\nMy research focusses on politico-administrative relations, public sector change dynamics and \\n\\ncomparative public administration. I am interested in structures and processes of government \\n\\ncoordination, decision-making and policy formulation, the organization and dynamics of policy advice \\n\\nand the governance of wicked problems and public sector digitalization both with a focus on single \\n\\ncountry cases and in a comparative perspective. I am very happy to supervise topics in these areas \\n\\nand I highly encourage students to develop their own research question and design. \\n\\n \\n\\n \\n\\n \\n\\n \\n\\n \\n\\n\\n\\n  MIA/MPP - Supervision Plan AY2020/2021        2 \\n\\nMethodology: What methodologies and methods are you able to supervise?  \\n\\nI supervise projects with a qualitative designs and mixed methods and cover the collection and \\nanalysis of qualitative data such as interviews in my colloquium.  \\n\\n \\n\\n \\n\\n \\n\\n \\nSupervision Style: Please include information on what your advisees can expect from you in terms \\nof supervision format (for instance, are you supervising by colloquium only; are you offering \\nindividual meetings; are you supervising team projects?) Please be informed that there will be both \\nonsite/online options according to your availability: \\n\\nI will meet students inside and outside the colloquium. I expect regular and active participation in \\nthe colloquium. Besides advisees are welcome to contact me for individual appointments. I am \\nhappy to provide comments on thesis outlines, research questions and designs as well as table of \\ncontents, i.e. the overall approach and structure of the thesis. \\n\\n \\nExamples of Previously Supervised Thesis Topics:  \\n\\n Coordination of EU circular economy policy in transnational city networks: Insights from \\n\\nEUROCITIES; \\n\\n  The effect of government fragmentation on broadband diffusion in OECD countries; \\n\\n  The mines and energy sector of Colombia: Coordination in the auction for long-term \\n\\nrenewable energy contracts; \\n\\n  Dual Leadership Models in German Federal Ministries; \\n\\n  The roles of Delivery Units in the Brazilian local level - The Experience of the Municipality \\nof Jundia\\xed (2017-2020);  \\n \\n\\n What Factors Have Shaped the Policy Designs of the Conflict-Ridden Policy Problem of \\nClimate Change in the US? A Comparative-Historical Analysis of US Climate Change Policy \\nSince 1992; \\n\\n \\n\\n Innovative Public Private Partnership for Marine Conservation: Case Study of an \\nEntrepreneurial Marine Protected Area in the Dominican Republic. \\n\\n \\n\\nRecommended General Readings: (if applicable) \\nThe following texts are general readings material relevant for all advisees: \\n\\nThe following texts are general readings material relevant for all advisees: \\n \\nBell, Judith/Waters, Stephen (2018): Doing your research project. A guide for first-time researchers. \\nSeventh Edition. McGraw-Hill Education. \\n \\nFlick, Uwe (2015): Introducing research methodology. Los Angeles et al: Sage. \\n\\n \\n\\n\\n\\n  MIA/MPP - Supervision Plan AY2020/2021        3 \\n\\nProposed Projects: (if applicable)  \\n\\nProject Title Practice Partner (if applicable) \\n\\nCoordinating digitalisation in government   \\n\\nGovernment organisation in and for the digital age   \\n\\nCase studies on the use of knowledge/advice in bureaucracy   \\n\\nThe role of political advisors (impact, accountability, scandals, \\n\\ndemographics) \\n \\n\\nChanging politico-administrative relations (causes and \\n\\nconsequences) \\n \\n\\nCase studies on governance mechanisms for selected wicked \\n\\nproblems  \\n \\n\\n \\n\\nPlagiarism:  \\n\\nPlagiarism is an infringement of \\xa7 11 Good Academic Conduct, 2a: Infringements of the standards of \\n\\ngood academic conduct include for instance to use wordings, ideas or other intellectual work of others \\n\\nin an academic work without clearly indicating the author. The obligation to indicate the authorship of \\n\\nothers shall apply irrespective of whether or not the sources used are protected by copyright (See: \\n\\nExam Rules, \\xa7 11 Good Academic Conduct for more information). \\n\\nIt is vital to keep track of your sources and to cite all material properly. \\n\\nThe Library will offer a session available to all students on resource management and proper citation. \\n\\n \\n\\nExtra (individual) note on plagiarism  \\n\\nAttendance:  \\n\\nStudents receive 8 ECTS for the Master\\xb4s thesis colloquium. Attendance for supervisionwhether \\n\\nin the form of a colloquium or an individual meetingis compulsory. Students are expected to be \\n\\npresent, prepared, and engaged in each session, and to adhere to deadlines set for assignments.  \\n\\nIn case of an excused absence, students must notify their supervisor. Absence must be compensated \\n\\nwith an additional assignment.  \\n\\nStudents on an academic exchange programme in the Fall Semester should be given the opportunity \\n\\nof remote supervision.  \\n\\n \\n\\n \\n\\nParticipation & Milestones: \\n\\n \\n\\n Fully-Fledged Thesis Proposal \\n\\nStudents are expected to draft a proposal of their thesis including (I) elaboration of the research \\n\\nproblem/research question, (II) brief outline of the relevant literature, (III) core concepts/theoretical \\n\\napproach, (IV) research design and data, (V) draft table of content and (VI) preliminary list of \\n\\nreferences.   \\n\\n\\n\\n  MIA/MPP - Supervision Plan AY2020/2021        4 \\n\\nThe proposal should be no longer than 2000 words (+/- 10%). The thesis proposal is due on the 26th \\n\\nNovember 2019. Please submit your thesis proposal by email. \\n\\n \\n\\n Literature Review  \\n\\nStudents will prepare a review of the literature that they use in their thesis and will summarize, discuss, \\n\\ncriticise and reflect on the extant literature to arrive at concise depictions of the state of the art of the \\n\\nparticular strands of research students want to contribute to with their MA thesis. The literature \\n\\nreview should be no longer than 1800 words (+/- 10%). The literature review is due one week before \\n\\nthe fourth session of the colloquium. Please submit your thesis proposal by email. \\n\\n \\n\\n Thesis presentation  \\n\\nStudents will present their thesis outline in sessions 5 and 6 of the colloquium. Students will prepare \\n\\nindividual presentations of about 10 minutes. Presentations will take place in a conference-format, i.e. \\n\\na discussant will be assigned to each presentation and is expected to provide detailed comments to \\n\\nthe outline and presentation before all classmates are invited to provide feedback. Accordingly, every \\n\\nstudent will present his/her own thesis and take the role of the discussant for a classmate`s \\n\\npresentation. Every student will prepare a one-/two-pager of the outline and send to the discussant \\n\\nand the supervisor two days before the presentation.  \\n\\n \\n\\nColloquium & Meeting Information: \\n\\n Colloquium Dates Session Title \\n\\nMeeting times  \\n\\n(suggested) \\n\\nSession 1: November/December 2020  \\n\\nSession 2: November /December 2020  \\n\\nSession 3: Early February 2021 (online)  \\n\\nSession 4: Mid-February/Beginning March \\n\\n2021 (online) \\n\\n \\n\\nSession 5: Late March 2021 (online)  \\n\\nSession 6: Beginning/Mid-April 2021 (online)  \\n\\nI will be on sabbatical in the spring term 2021.  \\n\\nColloquium Sessions: \\n\\nSession 1: xx.xx.2020 \\n\\nThesis outline: Organizing a research process \\n\\nAim How to organize a research process and structure a thesis  \\n\\nAssignment (e.g. thesis \\n\\nproposal) \\n\\nElaborated thesis proposal (see above)  \\n\\nReadings (if applicable) Bell, Judith/Waters, Stephen (2018): Doing your research project. A \\n\\nguide for first-time researchers. Seventh Edition. McGraw-Hill \\n\\n\\n\\n  MIA/MPP - Supervision Plan AY2020/2021        5 \\n\\nEducation, chapters 1 and 2. (Available in the top section of the \\n\\nMoodle page or in the reserve collection for this Master Thesis \\n\\nColloquium.) \\n\\n \\n\\n \\n\\nSession 2: xx.xx.2020 \\n\\nProblem definition: Formulating a research question \\n\\nAim How to elaborate, justify and formulate a research problem and question \\n\\nAssignment (e.g. \\n\\nliterature review) \\n\\n \\n\\nReadings (if applicable) Gerring, John (2012): Social Science Methodology. A Unified Framework. \\n\\nSecond Edition. Cambridge: Cambridge University Press, pp. 37-57. \\n\\n \\n\\n \\n\\nSession 3: xx.xx.2021 \\n\\nIndividual appointments \\n\\nAim To discuss your thesis proposal on an individual basis  \\n\\nAssignment (e.g. \\n\\nempirical findings) \\n\\n \\n\\nReadings (if applicable) Your own thesis proposal  \\n\\n \\n\\n \\n\\nSession 4: xx.xx.2021 \\n\\nLiterature review: Why and how to work with extant literature \\n\\nAim How to relate your thesis to the extant literature  \\n\\nAssignment (e.g. first \\n\\nchapter) \\n\\nWrite a literature review (see above) \\n\\nReadings (if applicable) Bell, Judith/Waters, Stephen (2018): Doing your research project. A guide \\n\\nfor first-time researchers. Seventh Edition. McGraw-Hill Education, \\n\\nchapter 7. (Available in the top section of the Moodle page or in the \\n\\nreserve collection for this Master Thesis Colloquium.) \\n\\nFlick, Uwe (2015): Introducing research methodology. Los Angeles et al: \\n\\nSage, chapter 5.  \\n\\n \\n\\n \\n\\n \\n\\n \\n\\n \\n\\n \\n\\n \\n\\n \\n\\n\\n\\n  MIA/MPP - Supervision Plan AY2020/2021        6 \\n\\nSession 5: xx.xx.2021 \\n\\nPresenting your thesis I \\n\\nAim Present your thesis and receive feedback  \\n\\nAssignment  Brief presentation of your thesis (5-10 minutes), role of the discussant, \\n\\nfeedback to others (see above) \\n\\nReadings (if applicable)  \\n\\n \\n\\n \\n\\nSession 6: xx.xx.2021 \\n\\nPresenting your thesis II \\n\\nAim Present your thesis and receive feedback  \\n\\nAssignment  Brief presentation of your thesis (5-10 minutes), role of the discussant, \\n\\nfeedback to others (see above) \\n\\nReadings (if applicable)'\n"
          ],
          "name": "stdout"
        },
        {
          "output_type": "execute_result",
          "data": {
            "text/plain": [
              "['nsee',\n",
              " 'crossmark',\n",
              " 'ties',\n",
              " 'resulting',\n",
              " 'frequently',\n",
              " 'team',\n",
              " 'ngovernments',\n",
              " 'call',\n",
              " 'nresults',\n",
              " 'successful',\n",
              " 'tool',\n",
              " 'collected',\n",
              " 'seem',\n",
              " 'comparing',\n",
              " 'analyze',\n",
              " 'look',\n",
              " 'systematically',\n",
              " 'gives',\n",
              " 'professor',\n",
              " 'comments']"
            ]
          },
          "metadata": {
            "tags": []
          },
          "execution_count": 64
        }
      ]
    },
    {
      "cell_type": "markdown",
      "metadata": {
        "id": "JBCWaArOscl0"
      },
      "source": [
        "Again, little topic validity, worse than with test data. Probably due to shortness of relevant text"
      ]
    },
    {
      "cell_type": "markdown",
      "metadata": {
        "id": "x8o6G_Qkn8Y5"
      },
      "source": [
        "# Evaluation"
      ]
    },
    {
      "cell_type": "code",
      "metadata": {
        "id": "BO7Y_JiQmuUs",
        "colab": {
          "base_uri": "https://localhost:8080/"
        },
        "outputId": "afed0e97-2f6f-4e35-c0d6-3196a0378a23"
      },
      "source": [
        "from contextualized_topic_models.evaluation.measures import CoherenceNPMI\n",
        "\n",
        "#with train_preprocessed_documents_for_bow as fr:\n",
        "texts = [line.split() for line in train_preprocessed_documents_for_bow] # load text for NPMI\n",
        "\n",
        "npmi = CoherenceNPMI(texts=texts, topics=ctm.get_topic_lists(10))\n",
        "npmi.score()"
      ],
      "execution_count": 65,
      "outputs": [
        {
          "output_type": "execute_result",
          "data": {
            "text/plain": [
              "0.03651266930787447"
            ]
          },
          "metadata": {
            "tags": []
          },
          "execution_count": 65
        }
      ]
    },
    {
      "cell_type": "markdown",
      "metadata": {
        "id": "bYZa5stRGEuR"
      },
      "source": [
        "# Perform Matching"
      ]
    }
  ]
}