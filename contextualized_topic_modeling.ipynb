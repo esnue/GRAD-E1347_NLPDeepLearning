{
  "nbformat": 4,
  "nbformat_minor": 0,
  "metadata": {
    "accelerator": "GPU",
    "colab": {
      "name": "Tutorial (v1.8.1): Contextualized Topic Modeling with your Documents (with preprocessing). ",
      "provenance": [],
      "collapsed_sections": [],
      "toc_visible": true,
      "include_colab_link": true
    },
    "kernelspec": {
      "display_name": "Python 3",
      "name": "python3"
    },
    "widgets": {
      "application/vnd.jupyter.widget-state+json": {
        "fcc3de8e4c134dfcabc999cc701f6a9c": {
          "model_module": "@jupyter-widgets/controls",
          "model_name": "HBoxModel",
          "state": {
            "_view_name": "HBoxView",
            "_dom_classes": [],
            "_model_name": "HBoxModel",
            "_view_module": "@jupyter-widgets/controls",
            "_model_module_version": "1.5.0",
            "_view_count": null,
            "_view_module_version": "1.5.0",
            "box_style": "",
            "layout": "IPY_MODEL_b2d0fe1da21b4e48972c4927b60c14b8",
            "_model_module": "@jupyter-widgets/controls",
            "children": [
              "IPY_MODEL_87e9347a3098405ab688d3677f9ffdc4",
              "IPY_MODEL_9dc197d25afc4088825e4f852f7a3345",
              "IPY_MODEL_4ed6962bca5d4e9ca82d5d106f5e002f"
            ]
          }
        },
        "b2d0fe1da21b4e48972c4927b60c14b8": {
          "model_module": "@jupyter-widgets/base",
          "model_name": "LayoutModel",
          "state": {
            "_view_name": "LayoutView",
            "grid_template_rows": null,
            "right": null,
            "justify_content": null,
            "_view_module": "@jupyter-widgets/base",
            "overflow": null,
            "_model_module_version": "1.2.0",
            "_view_count": null,
            "flex_flow": null,
            "width": null,
            "min_width": null,
            "border": null,
            "align_items": null,
            "bottom": null,
            "_model_module": "@jupyter-widgets/base",
            "top": null,
            "grid_column": null,
            "overflow_y": null,
            "overflow_x": null,
            "grid_auto_flow": null,
            "grid_area": null,
            "grid_template_columns": null,
            "flex": null,
            "_model_name": "LayoutModel",
            "justify_items": null,
            "grid_row": null,
            "max_height": null,
            "align_content": null,
            "visibility": null,
            "align_self": null,
            "height": null,
            "min_height": null,
            "padding": null,
            "grid_auto_rows": null,
            "grid_gap": null,
            "max_width": null,
            "order": null,
            "_view_module_version": "1.2.0",
            "grid_template_areas": null,
            "object_position": null,
            "object_fit": null,
            "grid_auto_columns": null,
            "margin": null,
            "display": null,
            "left": null
          }
        },
        "87e9347a3098405ab688d3677f9ffdc4": {
          "model_module": "@jupyter-widgets/controls",
          "model_name": "HTMLModel",
          "state": {
            "_view_name": "HTMLView",
            "style": "IPY_MODEL_cea523ed52434abfb5983d285cc60bae",
            "_dom_classes": [],
            "description": "",
            "_model_name": "HTMLModel",
            "placeholder": "​",
            "_view_module": "@jupyter-widgets/controls",
            "_model_module_version": "1.5.0",
            "value": "Batches: 100%",
            "_view_count": null,
            "_view_module_version": "1.5.0",
            "description_tooltip": null,
            "_model_module": "@jupyter-widgets/controls",
            "layout": "IPY_MODEL_d3a26ebd8101402c9a4479e327406ffd"
          }
        },
        "9dc197d25afc4088825e4f852f7a3345": {
          "model_module": "@jupyter-widgets/controls",
          "model_name": "FloatProgressModel",
          "state": {
            "_view_name": "ProgressView",
            "style": "IPY_MODEL_a35b3f94d8cd475caac53a02caac54e2",
            "_dom_classes": [],
            "description": "",
            "_model_name": "FloatProgressModel",
            "bar_style": "success",
            "max": 5,
            "_view_module": "@jupyter-widgets/controls",
            "_model_module_version": "1.5.0",
            "value": 5,
            "_view_count": null,
            "_view_module_version": "1.5.0",
            "orientation": "horizontal",
            "min": 0,
            "description_tooltip": null,
            "_model_module": "@jupyter-widgets/controls",
            "layout": "IPY_MODEL_c9014658fd244e669790421abb14f964"
          }
        },
        "4ed6962bca5d4e9ca82d5d106f5e002f": {
          "model_module": "@jupyter-widgets/controls",
          "model_name": "HTMLModel",
          "state": {
            "_view_name": "HTMLView",
            "style": "IPY_MODEL_cdac6480285a4ecd80cfbf59568129d8",
            "_dom_classes": [],
            "description": "",
            "_model_name": "HTMLModel",
            "placeholder": "​",
            "_view_module": "@jupyter-widgets/controls",
            "_model_module_version": "1.5.0",
            "value": " 5/5 [00:20&lt;00:00,  3.42s/it]",
            "_view_count": null,
            "_view_module_version": "1.5.0",
            "description_tooltip": null,
            "_model_module": "@jupyter-widgets/controls",
            "layout": "IPY_MODEL_c2f9fa6df69b4fa2a0b0ff4a7de7fe1e"
          }
        },
        "cea523ed52434abfb5983d285cc60bae": {
          "model_module": "@jupyter-widgets/controls",
          "model_name": "DescriptionStyleModel",
          "state": {
            "_view_name": "StyleView",
            "_model_name": "DescriptionStyleModel",
            "description_width": "",
            "_view_module": "@jupyter-widgets/base",
            "_model_module_version": "1.5.0",
            "_view_count": null,
            "_view_module_version": "1.2.0",
            "_model_module": "@jupyter-widgets/controls"
          }
        },
        "d3a26ebd8101402c9a4479e327406ffd": {
          "model_module": "@jupyter-widgets/base",
          "model_name": "LayoutModel",
          "state": {
            "_view_name": "LayoutView",
            "grid_template_rows": null,
            "right": null,
            "justify_content": null,
            "_view_module": "@jupyter-widgets/base",
            "overflow": null,
            "_model_module_version": "1.2.0",
            "_view_count": null,
            "flex_flow": null,
            "width": null,
            "min_width": null,
            "border": null,
            "align_items": null,
            "bottom": null,
            "_model_module": "@jupyter-widgets/base",
            "top": null,
            "grid_column": null,
            "overflow_y": null,
            "overflow_x": null,
            "grid_auto_flow": null,
            "grid_area": null,
            "grid_template_columns": null,
            "flex": null,
            "_model_name": "LayoutModel",
            "justify_items": null,
            "grid_row": null,
            "max_height": null,
            "align_content": null,
            "visibility": null,
            "align_self": null,
            "height": null,
            "min_height": null,
            "padding": null,
            "grid_auto_rows": null,
            "grid_gap": null,
            "max_width": null,
            "order": null,
            "_view_module_version": "1.2.0",
            "grid_template_areas": null,
            "object_position": null,
            "object_fit": null,
            "grid_auto_columns": null,
            "margin": null,
            "display": null,
            "left": null
          }
        },
        "a35b3f94d8cd475caac53a02caac54e2": {
          "model_module": "@jupyter-widgets/controls",
          "model_name": "ProgressStyleModel",
          "state": {
            "_view_name": "StyleView",
            "_model_name": "ProgressStyleModel",
            "description_width": "",
            "_view_module": "@jupyter-widgets/base",
            "_model_module_version": "1.5.0",
            "_view_count": null,
            "_view_module_version": "1.2.0",
            "bar_color": null,
            "_model_module": "@jupyter-widgets/controls"
          }
        },
        "c9014658fd244e669790421abb14f964": {
          "model_module": "@jupyter-widgets/base",
          "model_name": "LayoutModel",
          "state": {
            "_view_name": "LayoutView",
            "grid_template_rows": null,
            "right": null,
            "justify_content": null,
            "_view_module": "@jupyter-widgets/base",
            "overflow": null,
            "_model_module_version": "1.2.0",
            "_view_count": null,
            "flex_flow": null,
            "width": null,
            "min_width": null,
            "border": null,
            "align_items": null,
            "bottom": null,
            "_model_module": "@jupyter-widgets/base",
            "top": null,
            "grid_column": null,
            "overflow_y": null,
            "overflow_x": null,
            "grid_auto_flow": null,
            "grid_area": null,
            "grid_template_columns": null,
            "flex": null,
            "_model_name": "LayoutModel",
            "justify_items": null,
            "grid_row": null,
            "max_height": null,
            "align_content": null,
            "visibility": null,
            "align_self": null,
            "height": null,
            "min_height": null,
            "padding": null,
            "grid_auto_rows": null,
            "grid_gap": null,
            "max_width": null,
            "order": null,
            "_view_module_version": "1.2.0",
            "grid_template_areas": null,
            "object_position": null,
            "object_fit": null,
            "grid_auto_columns": null,
            "margin": null,
            "display": null,
            "left": null
          }
        },
        "cdac6480285a4ecd80cfbf59568129d8": {
          "model_module": "@jupyter-widgets/controls",
          "model_name": "DescriptionStyleModel",
          "state": {
            "_view_name": "StyleView",
            "_model_name": "DescriptionStyleModel",
            "description_width": "",
            "_view_module": "@jupyter-widgets/base",
            "_model_module_version": "1.5.0",
            "_view_count": null,
            "_view_module_version": "1.2.0",
            "_model_module": "@jupyter-widgets/controls"
          }
        },
        "c2f9fa6df69b4fa2a0b0ff4a7de7fe1e": {
          "model_module": "@jupyter-widgets/base",
          "model_name": "LayoutModel",
          "state": {
            "_view_name": "LayoutView",
            "grid_template_rows": null,
            "right": null,
            "justify_content": null,
            "_view_module": "@jupyter-widgets/base",
            "overflow": null,
            "_model_module_version": "1.2.0",
            "_view_count": null,
            "flex_flow": null,
            "width": null,
            "min_width": null,
            "border": null,
            "align_items": null,
            "bottom": null,
            "_model_module": "@jupyter-widgets/base",
            "top": null,
            "grid_column": null,
            "overflow_y": null,
            "overflow_x": null,
            "grid_auto_flow": null,
            "grid_area": null,
            "grid_template_columns": null,
            "flex": null,
            "_model_name": "LayoutModel",
            "justify_items": null,
            "grid_row": null,
            "max_height": null,
            "align_content": null,
            "visibility": null,
            "align_self": null,
            "height": null,
            "min_height": null,
            "padding": null,
            "grid_auto_rows": null,
            "grid_gap": null,
            "max_width": null,
            "order": null,
            "_view_module_version": "1.2.0",
            "grid_template_areas": null,
            "object_position": null,
            "object_fit": null,
            "grid_auto_columns": null,
            "margin": null,
            "display": null,
            "left": null
          }
        },
        "f68521fd5eae455c8b8b05c7219becb7": {
          "model_module": "@jupyter-widgets/controls",
          "model_name": "HBoxModel",
          "state": {
            "_view_name": "HBoxView",
            "_dom_classes": [],
            "_model_name": "HBoxModel",
            "_view_module": "@jupyter-widgets/controls",
            "_model_module_version": "1.5.0",
            "_view_count": null,
            "_view_module_version": "1.5.0",
            "box_style": "",
            "layout": "IPY_MODEL_9b79abbf88e2434f8ea5d225e1dbb72f",
            "_model_module": "@jupyter-widgets/controls",
            "children": [
              "IPY_MODEL_207462144f4249efa30e5bdf6aeeb203",
              "IPY_MODEL_560ae618156e412c9fed6076d682ec4f",
              "IPY_MODEL_86bf87e826c04b44a9509848654e5fca"
            ]
          }
        },
        "9b79abbf88e2434f8ea5d225e1dbb72f": {
          "model_module": "@jupyter-widgets/base",
          "model_name": "LayoutModel",
          "state": {
            "_view_name": "LayoutView",
            "grid_template_rows": null,
            "right": null,
            "justify_content": null,
            "_view_module": "@jupyter-widgets/base",
            "overflow": null,
            "_model_module_version": "1.2.0",
            "_view_count": null,
            "flex_flow": null,
            "width": null,
            "min_width": null,
            "border": null,
            "align_items": null,
            "bottom": null,
            "_model_module": "@jupyter-widgets/base",
            "top": null,
            "grid_column": null,
            "overflow_y": null,
            "overflow_x": null,
            "grid_auto_flow": null,
            "grid_area": null,
            "grid_template_columns": null,
            "flex": null,
            "_model_name": "LayoutModel",
            "justify_items": null,
            "grid_row": null,
            "max_height": null,
            "align_content": null,
            "visibility": null,
            "align_self": null,
            "height": null,
            "min_height": null,
            "padding": null,
            "grid_auto_rows": null,
            "grid_gap": null,
            "max_width": null,
            "order": null,
            "_view_module_version": "1.2.0",
            "grid_template_areas": null,
            "object_position": null,
            "object_fit": null,
            "grid_auto_columns": null,
            "margin": null,
            "display": null,
            "left": null
          }
        },
        "207462144f4249efa30e5bdf6aeeb203": {
          "model_module": "@jupyter-widgets/controls",
          "model_name": "HTMLModel",
          "state": {
            "_view_name": "HTMLView",
            "style": "IPY_MODEL_96c833a731af408399d59bb238e89b8a",
            "_dom_classes": [],
            "description": "",
            "_model_name": "HTMLModel",
            "placeholder": "​",
            "_view_module": "@jupyter-widgets/controls",
            "_model_module_version": "1.5.0",
            "value": "Batches: 100%",
            "_view_count": null,
            "_view_module_version": "1.5.0",
            "description_tooltip": null,
            "_model_module": "@jupyter-widgets/controls",
            "layout": "IPY_MODEL_255c8ffe8dc742b48a26b963d5e3fe55"
          }
        },
        "560ae618156e412c9fed6076d682ec4f": {
          "model_module": "@jupyter-widgets/controls",
          "model_name": "FloatProgressModel",
          "state": {
            "_view_name": "ProgressView",
            "style": "IPY_MODEL_4853270376254dcaa34983abfa469f3a",
            "_dom_classes": [],
            "description": "",
            "_model_name": "FloatProgressModel",
            "bar_style": "success",
            "max": 1,
            "_view_module": "@jupyter-widgets/controls",
            "_model_module_version": "1.5.0",
            "value": 1,
            "_view_count": null,
            "_view_module_version": "1.5.0",
            "orientation": "horizontal",
            "min": 0,
            "description_tooltip": null,
            "_model_module": "@jupyter-widgets/controls",
            "layout": "IPY_MODEL_a1bafdcd5a5949cc9ae2168b3afbd21b"
          }
        },
        "86bf87e826c04b44a9509848654e5fca": {
          "model_module": "@jupyter-widgets/controls",
          "model_name": "HTMLModel",
          "state": {
            "_view_name": "HTMLView",
            "style": "IPY_MODEL_cfb3fa4aa5de493280b02ca1044ea358",
            "_dom_classes": [],
            "description": "",
            "_model_name": "HTMLModel",
            "placeholder": "​",
            "_view_module": "@jupyter-widgets/controls",
            "_model_module_version": "1.5.0",
            "value": " 1/1 [00:00&lt;00:00,  2.31it/s]",
            "_view_count": null,
            "_view_module_version": "1.5.0",
            "description_tooltip": null,
            "_model_module": "@jupyter-widgets/controls",
            "layout": "IPY_MODEL_7f3163beecf14512a5ffad71535f29bc"
          }
        },
        "96c833a731af408399d59bb238e89b8a": {
          "model_module": "@jupyter-widgets/controls",
          "model_name": "DescriptionStyleModel",
          "state": {
            "_view_name": "StyleView",
            "_model_name": "DescriptionStyleModel",
            "description_width": "",
            "_view_module": "@jupyter-widgets/base",
            "_model_module_version": "1.5.0",
            "_view_count": null,
            "_view_module_version": "1.2.0",
            "_model_module": "@jupyter-widgets/controls"
          }
        },
        "255c8ffe8dc742b48a26b963d5e3fe55": {
          "model_module": "@jupyter-widgets/base",
          "model_name": "LayoutModel",
          "state": {
            "_view_name": "LayoutView",
            "grid_template_rows": null,
            "right": null,
            "justify_content": null,
            "_view_module": "@jupyter-widgets/base",
            "overflow": null,
            "_model_module_version": "1.2.0",
            "_view_count": null,
            "flex_flow": null,
            "width": null,
            "min_width": null,
            "border": null,
            "align_items": null,
            "bottom": null,
            "_model_module": "@jupyter-widgets/base",
            "top": null,
            "grid_column": null,
            "overflow_y": null,
            "overflow_x": null,
            "grid_auto_flow": null,
            "grid_area": null,
            "grid_template_columns": null,
            "flex": null,
            "_model_name": "LayoutModel",
            "justify_items": null,
            "grid_row": null,
            "max_height": null,
            "align_content": null,
            "visibility": null,
            "align_self": null,
            "height": null,
            "min_height": null,
            "padding": null,
            "grid_auto_rows": null,
            "grid_gap": null,
            "max_width": null,
            "order": null,
            "_view_module_version": "1.2.0",
            "grid_template_areas": null,
            "object_position": null,
            "object_fit": null,
            "grid_auto_columns": null,
            "margin": null,
            "display": null,
            "left": null
          }
        },
        "4853270376254dcaa34983abfa469f3a": {
          "model_module": "@jupyter-widgets/controls",
          "model_name": "ProgressStyleModel",
          "state": {
            "_view_name": "StyleView",
            "_model_name": "ProgressStyleModel",
            "description_width": "",
            "_view_module": "@jupyter-widgets/base",
            "_model_module_version": "1.5.0",
            "_view_count": null,
            "_view_module_version": "1.2.0",
            "bar_color": null,
            "_model_module": "@jupyter-widgets/controls"
          }
        },
        "a1bafdcd5a5949cc9ae2168b3afbd21b": {
          "model_module": "@jupyter-widgets/base",
          "model_name": "LayoutModel",
          "state": {
            "_view_name": "LayoutView",
            "grid_template_rows": null,
            "right": null,
            "justify_content": null,
            "_view_module": "@jupyter-widgets/base",
            "overflow": null,
            "_model_module_version": "1.2.0",
            "_view_count": null,
            "flex_flow": null,
            "width": null,
            "min_width": null,
            "border": null,
            "align_items": null,
            "bottom": null,
            "_model_module": "@jupyter-widgets/base",
            "top": null,
            "grid_column": null,
            "overflow_y": null,
            "overflow_x": null,
            "grid_auto_flow": null,
            "grid_area": null,
            "grid_template_columns": null,
            "flex": null,
            "_model_name": "LayoutModel",
            "justify_items": null,
            "grid_row": null,
            "max_height": null,
            "align_content": null,
            "visibility": null,
            "align_self": null,
            "height": null,
            "min_height": null,
            "padding": null,
            "grid_auto_rows": null,
            "grid_gap": null,
            "max_width": null,
            "order": null,
            "_view_module_version": "1.2.0",
            "grid_template_areas": null,
            "object_position": null,
            "object_fit": null,
            "grid_auto_columns": null,
            "margin": null,
            "display": null,
            "left": null
          }
        },
        "cfb3fa4aa5de493280b02ca1044ea358": {
          "model_module": "@jupyter-widgets/controls",
          "model_name": "DescriptionStyleModel",
          "state": {
            "_view_name": "StyleView",
            "_model_name": "DescriptionStyleModel",
            "description_width": "",
            "_view_module": "@jupyter-widgets/base",
            "_model_module_version": "1.5.0",
            "_view_count": null,
            "_view_module_version": "1.2.0",
            "_model_module": "@jupyter-widgets/controls"
          }
        },
        "7f3163beecf14512a5ffad71535f29bc": {
          "model_module": "@jupyter-widgets/base",
          "model_name": "LayoutModel",
          "state": {
            "_view_name": "LayoutView",
            "grid_template_rows": null,
            "right": null,
            "justify_content": null,
            "_view_module": "@jupyter-widgets/base",
            "overflow": null,
            "_model_module_version": "1.2.0",
            "_view_count": null,
            "flex_flow": null,
            "width": null,
            "min_width": null,
            "border": null,
            "align_items": null,
            "bottom": null,
            "_model_module": "@jupyter-widgets/base",
            "top": null,
            "grid_column": null,
            "overflow_y": null,
            "overflow_x": null,
            "grid_auto_flow": null,
            "grid_area": null,
            "grid_template_columns": null,
            "flex": null,
            "_model_name": "LayoutModel",
            "justify_items": null,
            "grid_row": null,
            "max_height": null,
            "align_content": null,
            "visibility": null,
            "align_self": null,
            "height": null,
            "min_height": null,
            "padding": null,
            "grid_auto_rows": null,
            "grid_gap": null,
            "max_width": null,
            "order": null,
            "_view_module_version": "1.2.0",
            "grid_template_areas": null,
            "object_position": null,
            "object_fit": null,
            "grid_auto_columns": null,
            "margin": null,
            "display": null,
            "left": null
          }
        }
      }
    }
  },
  "cells": [
    {
      "cell_type": "markdown",
      "metadata": {
        "id": "view-in-github",
        "colab_type": "text"
      },
      "source": [
        "<a href=\"https://colab.research.google.com/github/esnue/ThesisAllocationSystem/blob/main/contextualized_topic_modeling.ipynb\" target=\"_parent\"><img src=\"https://colab.research.google.com/assets/colab-badge.svg\" alt=\"Open In Colab\"/></a>"
      ]
    },
    {
      "cell_type": "markdown",
      "metadata": {
        "id": "qmZ1uZecv7qW"
      },
      "source": [
        "# Tutorial: Contextualized Topic Models with Wikipedia Documents\n",
        "\n",
        "(last updated 11-01-2021)\n",
        "\n",
        "In this tutorial, we are going to use contextualized topic modeling to get topics out of a collections of articles you will upload here.\n",
        "\n",
        "## Topic Models \n",
        "\n",
        "Topic models allow you to discover latent topics in your documents in a completely unsupervised way. Just use your documents and get topics out.\n",
        "\n",
        "## Contextualized Topic Models\n",
        "\n",
        "\n",
        "What are Contextualized Topic Models? **CTMs** are a family of topic models that combine the expressive power of BERT embeddings with the unsupervised capabilities of topic models to get topics out of documents.\n",
        "\n",
        "## Python Package\n",
        "\n",
        "You can find our package [here](https://github.com/MilaNLProc/contextualized-topic-models).\n",
        "\n",
        "![https://travis-ci.com/MilaNLProc/contextualized-topic-models](https://travis-ci.com/MilaNLProc/contextualized-topic-models.svg) ![https://pypi.python.org/pypi/contextualized_topic_models](https://img.shields.io/pypi/v/contextualized_topic_models.svg) ![https://pepy.tech/badge/contextualized-topic-models](https://pepy.tech/badge/contextualized-topic-models)\n",
        "\n",
        "\n"
      ]
    },
    {
      "cell_type": "markdown",
      "metadata": {
        "id": "ln23-soXeQk3"
      },
      "source": [
        "# Enabling the GPU\n",
        "\n",
        "First, you'll need to enable GPUs for the notebook:\n",
        "\n",
        "- Navigate to Edit→Notebook Settings\n",
        "- select GPU from the Hardware Accelerator drop-down\n",
        "\n",
        "[Reference](https://colab.research.google.com/notebooks/gpu.ipynb)"
      ]
    },
    {
      "cell_type": "markdown",
      "metadata": {
        "id": "QsNRo8I8Yem2"
      },
      "source": [
        "# Installing Contextualized Topic Models\n",
        "\n",
        "Now, we install the contextualized topic model library"
      ]
    },
    {
      "cell_type": "code",
      "metadata": {
        "id": "BUw5EQi8v9r1"
      },
      "source": [
        "%%capture\n",
        "!pip install contextualized-topic-models==1.8.1\n",
        "!pip install torch==1.6.0+cu101 torchvision==0.7.0+cu101 -f https://download.pytorch.org/whl/torch_stable.html"
      ],
      "execution_count": 4,
      "outputs": []
    },
    {
      "cell_type": "markdown",
      "metadata": {
        "id": "sxeqAVYqsLle"
      },
      "source": [
        "## Data"
      ]
    },
    {
      "cell_type": "code",
      "metadata": {
        "id": "eB9ZJDmXXtjT",
        "colab": {
          "base_uri": "https://localhost:8080/"
        },
        "outputId": "24f0449b-4c5a-4633-87ae-52714346b063"
      },
      "source": [
        "from google.colab import drive\n",
        "drive.mount('/content/drive')"
      ],
      "execution_count": 2,
      "outputs": [
        {
          "output_type": "stream",
          "text": [
            "Mounted at /content/drive\n"
          ],
          "name": "stdout"
        }
      ]
    },
    {
      "cell_type": "code",
      "metadata": {
        "id": "KiJ3PMgOXrCH",
        "colab": {
          "base_uri": "https://localhost:8080/"
        },
        "outputId": "1b11c7ad-7e4a-457a-faaf-484634fc3cb0"
      },
      "source": [
        "import pandas as pd\n",
        "\n",
        "file = pd.read_csv(\"/content/drive/MyDrive/ThesisAllocationSystem/data_final/train-papers-final.csv\")\n",
        "#transform content column row values into a list\n",
        "train_file = file['Content'][1:].values.tolist()\n",
        "\n",
        "print(train_file[5])\n",
        "print(type(text_file))\n",
        "\n",
        "file2 = pd.read_csv(\"/content/drive/MyDrive/ThesisAllocationSystem/data_final/test-theses-final.csv\")\n",
        "test_file = file2['Content'][1:].values.tolist()\n",
        "\n",
        "print(test_file[5])\n",
        "print(type(test_file))"
      ],
      "execution_count": 6,
      "outputs": [
        {
          "output_type": "stream",
          "text": [
            "b\"Public Administration Reform in Europe  \\n\\nViews and Experiences from Senior Executives in 10 Countries \\n\\n \\nWP3 Cross-national Report as part of the COCOPS Research Project \\n\\n \\n\\n  \\n \\n\\n \\n\\n \\n\\n \\n\\n \\n\\n \\n\\n \\n\\n \\n\\n \\n\\n \\n\\n \\n\\n \\n\\n \\n\\n \\n\\n \\n\\nGerhard Hammerschmid \\nSteven Van de Walle \\n\\nRhys Andrews \\nPhilippe Bezes \\nAnja G\\xf6rnitz \\nAnca Oprisor \\n\\nVid timac \\n\\n \\n\\nJuly 2013 \\n\\n \\n\\n \\n\\n \\n\\n \\n\\n \\n\\nCoordination for Cohesion in the Public Sector of the Future (COCOPS): www.cocops.eu \\n\\n  \\n\\n \\n\\nhttp://www.cocops.eu/\\n\\n\\nCOCOPS Work Package 3  Cross-national Report, July 2013 Page 2 \\n\\nAbout COCOPS \\n\\nThe COCOPS project (Coordinating for Cohesion in the Public Sector of the Future) seeks to \\n\\ncomparatively and quantitatively assess the impact of New Public Management-style reforms in \\n\\nEuropean countries, drawing on a team of European public administration scholars from 11 \\n\\nuniversities in 10 countries. It analyses the impact of reforms in public management and public \\n\\nservices that address citizens service needs and social cohesion in Europe. Evaluating the extent and \\n\\nconsequences of NPMs alleged fragmenting tendencies and the resulting need for coordination is a \\n\\nkey part of assessing these impacts. It is funded under the European Unions 7th Framework \\n\\nProgramme as a Small or Medium-Scale Focused Research Project (2011-2014). \\n\\n \\n\\n \\n\\nAbout the Authors \\n\\nProf. Dr. Gerhard Hammerschmid is Associate Dean and Professor of Public and Financial \\nManagement at the Hertie School of Governance, Berlin.  \\n \\nProf. Dr. Steven Van de Walle is Professor of Public Administration at Erasmus University Rotterdam.  \\n \\nDr. Rhys Andrews is Reader in Public Management at Cardiff University.  \\n\\nDr. Philippe Bezes is researcher at the Centre d'\\xe9tudes et de recherches administratives et politiques \\n(CERSA), Paris. \\n \\nDr. Anja G\\xf6rnitz, Anca Oprisor and Vid timac are Research Associates at the Hertie School of \\n\\nGovernance, Berlin. \\n\\n \\n\\n \\n\\n \\n\\n \\n\\n \\n\\n \\n\\n \\n\\nThe research leading to these results has received funding from the European Unions Seventh \\n\\nFramework Programme under grant agreement No. 266887 (Project COCOPS), Socio-economic \\n\\nSciences & Humanities.  \\n\\n \\n\\n \\n\\n\\n\\nCOCOPS Work Package 3  Cross-national Report, July 2013 Page 3 \\n\\nContents \\n\\n \\n\\nExecutive summary ................................................................................................................................. 4 \\n\\n1. Introduction ......................................................................................................................................... 5 \\n\\n2. Public Management and Public Administration Reform in Central Government ............................... 9 \\n\\n2.1 The Work Context of Central Government Executives ................................................................. 9 \\n\\n2.2 Relevance and Direction of Public Administration Reforms ....................................................... 11 \\n\\n2.3 Impact of Public Administration Reform ..................................................................................... 29 \\n\\n3. Public Administration Reform in the Employment Sector ................................................................ 38 \\n\\n3.1 Relevance and Direction of Public Administration Reforms ....................................................... 38 \\n\\n3.2 Impact of Public Administration Reform ..................................................................................... 43 \\n\\n4. Public Administration Reform in the Health Sector .......................................................................... 49 \\n\\n4.1 Relevance and Direction of Public administration Reforms ........................................................ 49 \\n\\n4.2 Impact of Public Administration Reform ..................................................................................... 54 \\n\\n5. Conclusion and Outlook .................................................................................................................... 60 \\n\\nTables and Figures ................................................................................................................................. 64 \\n\\nReferences ............................................................................................................................................. 66 \\n\\n \\n\\n  \\n\\n\\n\\nCOCOPS Work Package 3  Cross-national Report, July 2013 Page 4 \\n\\nExecutive summary \\n \\n\\nThis report summarizes the aggregate results of the comparative COCOPS Executive Survey on Public \\n\\nSector Reform in Europe. Based on 4814 answers from the ten countries targeted (making this the \\n\\nlargest comparative empirical dataset on European administrative reforms), the report offers an \\n\\noverview of senior executives assessments of public administration developments across Europe.  \\n\\nIn a work context generally characterized by low management autonomy, but rather high goal \\n\\nambiguity and politicization (exceptions here are the Netherlands, Norway and the UK), executives \\n\\nclearly perceive factors limiting a full adoption of a managerial logic and performance management \\n\\nconcepts: in fact managerial ideas and instruments such as clear targets, measurement and use of \\n\\nperformance information are only moderately implemented across in European public \\n\\nadministrations. The tide of typical, structural NPM reforms (such as privatization, contracting out or \\n\\nagencification) has by now subsided, replaced by reform trends more closely connected to a network-\\n\\noriented understanding of government: transparent, open and/or e-government, as well as \\n\\ncollaboration and cooperation among different public sector actors. The ongoing fiscal crisis might \\n\\naccount for other important trends, such as public sector downsizing, stronger focus on outcomes and \\n\\nresults, and the reduction of internal bureaucracy. Overall, countries such as the UK, Estonia, Norway \\n\\nand the Netherlands appear to be more active, while Spain, France, Austria and Hungary are hesitant \\n\\nwith regard to implementing management tools. \\n\\nConcerning the overall impact of public administration reforms, executives make a predominantly \\n\\npositive assessment in Norway, Netherlands, Estonia, Hungary and to a lesser extent in Germany; \\n\\nreforms are judged  rather critically by executives in Spain and in the other survey countries (UK, \\n\\nFrance and, to a lesser extent, Italy and Austria), the assessment is mixed. Considering potential \\n\\nsuccess factors, aiming at service improvements (as opposed to solely cost-cutting), and higher public \\n\\ninvolvement seems to positively influence the overall perception of reforms. At policy field level \\n\\nmoderate improvement is seen in relation to managerial aspects such as cost and efficiency, service \\n\\nquality and innovation, but also concerning transparency and openness, fair treatment of citizens and \\n\\nethical behavior among public servants. On the contrary, slight deteriorations are associated to issues \\n\\nof staff motivation, attractiveness of the public sector as an employer, social cohesion and especially \\n\\ncitizen trust in government. Despite fears in this direction, we discover no clear evidence of negative \\n\\nimpacts on internal cohesion dimensions as a result of reforms: in countries with more pronounced \\n\\nperformance management we tend to find even somewhat higher levels of social capital and trust \\n\\nand work satisfaction, but also relatively lower organizational commitment, indicating the need for \\n\\nmore detailed analysis.  \\n\\nExecutives in the employment and health sectors, also under the surveys focus, assess reforms rather \\n\\nsimilarly to their counterparts in central government, with the exception that management \\n\\ninstruments are generally regarded as more relevant. Also, in both sectors we find that reforms \\n\\nassessed as more demanding are also considered more successful. Exceptionally, in health, we find a \\n\\ngreater importance of downsizing than in central government and employment.  \\n\\nWhile considerable variation can be identified between countries regarding reform intensity, those \\n\\ntypes of reform trends which are regarded as important are strikingly similar  which might indicate a \\n\\nshared sense of purpose across Europe with regards to public management reforms. \\n\\n  \\n\\n\\n\\nCOCOPS Work Package 3  Cross-national Report, July 2013 Page 5 \\n\\n1. Introduction \\n \\n\\nCoordinating for Cohesion in the Public Sector of the Future (COCOPS), as one of the largest \\n\\ncomparative public management research projects in Europe, intends to provide a comprehensive \\n\\npicture of the challenges facing the European public sector of the future and to systematically \\n\\nexplore the impact of New Public Management (NPM)-style reforms in Europe. The project brings \\n\\ntogether public administration scholars from eleven universities in ten countries\\n1\\n and is funded as \\n\\npart of the European Unions 7th Framework Programme; it runs from January 2011 until June 2014.\\n2\\n \\n\\nThe research is comparative and evidence-based, drawing on both existing data and innovative new \\n\\nquantitative and qualitative data collection. A cornerstone of the project is the COCOPS Executive \\n\\nSurvey on Public Sector Reform in Europe, an original survey of public sector senior executives in ten \\n\\nEuropean countries, and currently the largest of its kind implemented in Europe. The survey explores \\n\\nthe executives perceptions, experiences and opinions with regard to their work context and public \\n\\nadministrative reforms and the impact of these factors on public sector performance more generally; \\n\\nparticular attention is given to the employment and health policy sectors. \\n\\n \\n\\nIn designing the survey, the COCOPS team opted for a balanced approach, building on a binding set \\n\\nof rules with regards to sampling and data collection, but allowing for a degree of flexibility in order \\n\\nto ensure good response rates in the very different national contexts. The goal was to obtain 1) a \\n\\nquestionnaire text (in original and translated versions) which assured conceptual equivalence across \\n\\nall participating countries; 2) a sample which could allow systematic comparative analyses and 3) a \\n\\ndata collection strategy which produced (statistically sufficient) valid and informative responses.  \\n\\n \\n\\nAn original core questionnaire was developed by the survey team, first in English and then translated \\n\\nby each national team in their respective language(s); optional questions were added when assumed \\n\\nhelpful in certain countries. In defining the sample, the research team targeted senior executive, as \\n\\nkey knowledge carriers (Walker, Enticott 2004) who also play an essential role in policy making \\n\\n(Christensen, L\\xe6greid 1999; Ridder, Spier 2006). This type of approach has been debated intensively \\n\\nover the last years (e.g. Moyser, Wagstaffe 1987; Enticott et al. 2008; Walker and Enticott 2004). \\n\\nDefenders of this method argue that top managers should be surveyed because they have the best \\n\\nvantage point for viewing the entire organisational system (Enticott 2004, p. 320). According to \\n\\nAberbach et al. 1981 such a position-based definition of senior executives is the most efficient \\n\\napproach when doing comparative research where organizational differences are huge across the \\n\\nadministrative system but senior managerial roles may appear to be equivalent. In principle, this \\n\\nformal structural equivalence is likely to be a good proxy to informal functional equivalence, and so \\n\\na degree of respondent comparability can be achieved. On the other hand, elite surveys can \\n\\nintroduce significant sources of bias. Elite surveys only focus on one actors perception, which cannot \\n\\nnecessarily be taken as representative for the whole organisation (Enticott et al. 2008) as they may \\n\\nhave a vested interest in reporting favorable outcomes from new policy initiatives in order to present \\n\\na positive and successful image and to be in line with the current government in place. They can also \\n\\nbe expected to have different interests, needs and experiences than frontline bureaucrats, be more \\n\\n                                                           \\n1\\n Erasmus University Rotterdam, Hertie School of Governance Berlin, University of Bergen, Bocconi University, \\n\\nUniversity of Cantabria, Cardiff University, CNRS Paris, Corvinus University Budapest, University of Exeter, KU \\nLeuven, Tallinn University of Technology.  \\n2\\n More information on the project is available at www.cocops.eu.  \\n\\nhttp://www.cocops.eu/\\n\\n\\nCOCOPS Work Package 3  Cross-national Report, July 2013 Page 6 \\n\\ndisconnected from lower levels or simply overestimate results (Frazier and Swiss 2008). To respond \\n\\nto such concerns regarding possible biases, the sample included top bureaucrats from different  up \\n\\nto three  hierarchical levels, organization types (both Ministries and subordinated agencies) and \\n\\npolicy fields to allow for a broader diversity of views and experiences. It also should be noted that the \\n\\nsurvey explores the opinions, perceptions and observations of high-level executives, and not their \\n\\nbehavior. As Aberbach et al. 1981 argue in their study of Western bureaucrats, beliefs and \\n\\nperceptions are rather reliable predictors of actual behavior (1981:32), in other words, the closest \\n\\nindicators we have in establishing what and how bureaucrats decide and act.  \\n\\nWith regard to representativeness, the COCOPS executive survey is based on a full census of all \\n\\ncentral government ministries and agencies. Based on the binding sampling principles followed by all \\n\\nteams and reflecting a thorough mapping of national administrations, the sample covers all top and \\n\\nhigher-level public sector executives who, due to their respective positions, can be expected both to \\n\\nbe shaping the public administration reform processes but also be affected by such reforms. \\n\\nGenerally, within all central government ministries and subordinated agencies the two administrative \\n\\ntop-levels are addressed; in some cases invitations were also sent to executives on the third level \\n\\nwhen, due to their policy relevance, this was deemed appropriate. Local government and service \\n\\ndelivery levels are excluded for the purpose of this survey. In the fields of employment and health, as \\n\\nspecial focus areas, regional and lower level government entities are also included if relevant  \\n\\nwithout addressing however direct service delivery levels. \\n\\nThe survey was launched in May 2012 and implemented in two rounds (May-July 2012 and \\n\\nSeptember-November 2012). In these two rounds combined, it was sent out to over 20.000 high \\n\\nranking civil servants in the first ten participating countries via post and email. The survey was \\n\\nimplemented online, with standardized versions of the webpage being created in the national \\n\\nlanguage(s) for each country. Flexibility was allowed, and even recommended, in the strategies used \\n\\nby national teams to access the targeted respondents, due to major differences in administrative \\n\\ncultures between the countries; whereas some countries opted to send all invitations via email, \\n\\nothers sent them via post; and a third category used a mixed mode approach. November 2012 all \\n\\nsurveys were closed, and all datasets were cleaned, checked and harmonized according to a \\n\\nstandardised procedure for all countries (for details see the research report on the COCOPS \\n\\nwebpage; Hammerschmid et al. 2013). By the end of 2012 there were 4814 valid answers available \\n\\nfrom ten participating countries, amounting to an overall response rate of 23.7% (see Table 1).  \\n \\n\\nTable 1: Number of invitations and response rates of the COCOPS survey (10 country sample) \\n\\nCountry Invitations Sent* Survey completions Response rate % \\n\\nAustria 1745 637 36.50 \\n\\nEstonia 913 321 35.16 \\n\\nFrance 5297 1193 22.52 \\n\\nGermany  2295 566 24.66 \\n\\nHungary 1200 351 29.25 \\n\\nItaly 1703 343 20.14 \\n\\nNetherlands 977 293 29.99 \\n\\nNorway 1299 436 33.56 \\n\\nSpain 1778 321 18.05 \\n\\nUK 3100 353 11.39 \\n\\nTotal 20307 4814 23.71 \\n\\n*The number represents the final number of invitations, after the exclusion of any failure deliveries, wrong addresses etc.  \\n\\n\\n\\nCOCOPS Work Package 3  Cross-national Report, July 2013 Page 7 \\n\\n \\n\\nThe present cross-national report summarizes the aggregated results of the joint dataset with the \\n\\naim to provide an overview of senior executives assessments of public administration developments \\n\\nacross the participating countries (Austria, Estonia, France, Germany, Hungary, Italy, Netherlands, \\n\\nNorway, Spain and the UK) and especially explore country variations. The overall survey means \\n\\npresented are based on equal weighting assigned to each of the ten countries. As one of the \\n\\ndeliverables of the COCOPS Work Package 3, it complements the more detailed National Reports, \\n\\nwhich contextualize the survey results from each country, by adding a comparative dimension and \\n\\nintroducing a first set of overarching conclusions from the overall COCOPS dataset. The National \\n\\nReports, together with the Survey Research Report (detailing the methodology used; see \\n\\nHammerschmid et al. 2013) can be found at www.cocops.eu. \\n\\n \\n\\nFollowing the goals outlined in the COCOPS terms of reference, the survey focuses on executives in \\n\\ncentral government, and also more particularly in the employment and health sectors. As described \\n\\nabove, for reasons of representativeness, the survey sample has targeted all civil servants considered \\n\\nto have a policy relevant role in the context of reforms, including those at regional and sub-national \\n\\nlevels. For the following report the results are presented separately for the three major areas \\n\\ncovered by the survey: central government, employment and health. The central government sample \\n\\nreferred to in this report (or Sample 1) contains all answers by senior executives from ministries and \\n\\nagencies at central government level in all policy sectors and across all participant countries; in the \\n\\ncase of Germany and Spain, where due to the federal structure regional levels play a key policy role, \\n\\nresponses from these levels were also exceptionally included\\n3\\n (n=3173).  \\n\\nThe two other particular sub-samples considered in this report as a result of the COCOPS overall \\n\\nresearch design are the employment and health. As such, sample 2 consists of all answers by senior \\n\\nexecutives working in the policy field of employment both in ministries, agencies and at all \\n\\ngovernment levels (n=872); sample 3 consists of all answers by senior executives in the health sector \\n\\n(n=760) both in ministries, agencies and at all government levels. To delineate the analysis of these \\n\\nthree different samples more clearly, they have been analyzed in separate chapters.  \\n\\nChapter 2 offers an overview of developments and potential trends across European public \\n\\nadministrations based on the central government sub-sample and on a selection of the key survey \\n\\nresults related to the work experience of civil servants (section 2.1.), the relevance and direction of \\n\\npublic administration reforms (section 2.2.) and the impact of these reforms (section 2.3.). Chapters \\n\\n3 and 4 cover the employment and health sub-samples respectively and present a selection of results \\n\\nin these policy areas which focus on the differences between these and the central government \\n\\nsample. \\n\\nDespite the potential limitations and biases, which have to be taken into consideration when \\n\\ninterpreting the data, the survey presents much-lacking systematic and empirical evidence regarding \\n\\nthe dynamics of public administration reforms in Europe. It offers results from a large, \\n\\n                                                           \\n3\\n As the employment and health policy sectors were of particular interest for the COCOPS survey, the samples in \\n\\nthese sectors were defined more broadly broader in an attempt to gain a sufficiently high number of responses; \\n\\nin order to preserve the consistency of the central government sample, the answers from the agencies or \\n\\nsubordinate government (third hierarchical level or lower) in these two particular policy sectors have been \\n\\nexcluded. \\n\\nhttp://www.cocops.eu/\\n\\n\\nCOCOPS Work Package 3  Cross-national Report, July 2013 Page 8 \\n\\ncomprehensive European-wide sample, built on a thorough mapping of national administrative \\n\\nstructures in Europe. Moreover, through its cross-country dataset, it brings a comparative \\n\\nperspective on such reforms trends, difficult to extract otherwise from the more limited national-\\n\\nlevel data which has been predominantly collected until present in this field\\n4\\n. An important aspect, \\n\\nwhich sets the COCOPS survey apart from most other executives surveys in public administration is \\n\\nthat fact that it represents a full census of the target population defined and that there has been no \\n\\nsampling process. We cannot claim full representativeness for the data and the results cannot be \\n\\ngeneralized to the entire target population of senior public sector executives in European \\n\\nadministrations. However the response rates are well in line with other public sector executive \\n\\nsurveys, cover a substantial part of the targeted population and the distribution of respondents with \\n\\nregard to policy field, hierarchical level and organization type rather closely matches the distribution \\n\\nin the full target population and can be regarded as a good proxy and by far the most representative \\n\\ndataset for European public administrations collected up until now. \\n\\n \\n\\n \\n\\n  \\n\\n                                                           \\n4\\n For an overview of research gaps in current public administration research see Fitzpatrick et al. 2011; Pollitt, \\n\\nBouckaert 2011; Raadschelders, Lee 2011.  \\n\\n\\n\\nCOCOPS Work Package 3  Cross-national Report, July 2013 Page 9 \\n\\n2. Public Management and Public Administration Reform in Central \\n\\nGovernment \\n \\n\\nIn this chapter we present the results for senior executives working in central government, including \\n\\ncentral government executives from the Health and Employment sectors (n=3173).  \\n\\n2.1 The Work Context of Central Government Executives \\n\\nThe success of introducing management practices like performance management to the public sector \\n\\ndepends on the extent to which the specific work context in public administration resonates with the \\n\\nlogic behind the NPM paradigm. This chapter analyses how the top civil servants perceive their work \\n\\ncontext and evaluates to what extent the results indicate that management practices can be \\n\\ntransferred successfully to public administration. \\n\\nGoal ambiguity. Performance management and result-orientation is difficult to implement if goals \\n\\nare perceived to be ambiguous and activities or results are less measureable and easy to be observed \\n\\n(Rainy, Jung 2010). The senior executives were asked to what extent their goals are clearly stated and \\n\\ncommunicated, whether the number of goals they have is manageable and whether it is easy to \\n\\nobserve and measure their activities. Figure 1 depicts the aggregate mean for these items per \\n\\ncountry\\n5\\n. We find that goal ambiguity is perceived in all countries, albeit in overall to a rather modest \\n\\ndegree, and that there is a rather high homogeneity of the average assessments in the various \\n\\ncountries. A slightly lower degree of goal ambiguity is perceived by senior executives in the United \\n\\nKingdom (3.00), followed by the Netherlands and Estonia (3.36 resp. 3.53) indicating a somewhat \\n\\nhigher openness of these countries for performance management reforms. Senior executives in \\n\\nGermany and France, however, perceive a slightly higher degree of goal ambiguity (3.93 resp. 3.91). \\n\\nThe average is 3.60, which means that public sector goals are not perceived as particularly \\n\\nambiguous in all countries. This seems to be the case especially in countries where management \\n\\ntools have a rather long history in the public sectors.  \\n\\nFigure 1: Goal ambiguity (aggregate mean for four items per country; 1= very low goal ambiguity, 7=very high goal \\nambiguity) \\n\\n \\n \\n\\n                                                           \\n5\\n Item 1 Our goals are clearly stated; item 2 Our goals are communicated to all staff; item 3 We have a high \\n\\nnumber of goals (reversed); item 4 It is easy to observe and measure our activities. \\n\\n1 2 3 4 5 6 7\\n\\nUnited Kingdom\\n\\nThe Netherlands\\n\\nEstonia\\n\\nSpain\\n\\nAustria\\n\\nAverage\\n\\nNorway\\n\\nItaly\\n\\nHungary\\n\\nFrance\\n\\nGermany\\n\\n\\n\\nCOCOPS Work Package 3  Cross-national Report, July 2013 Page 10 \\n\\nDegree of autonomy. A further variable influencing the transferability of management practices to \\n\\nthe public sector is the degree to which senior executives dispose of autonomy. The senior \\n\\nexecutives were asked to what extent they have autonomy with regard to managerial aspects \\n\\n(contracting out services, personnel and budget decisions as well as changing the structure of the \\n\\norganization  6 items) and to what extent they have policy autonomy (choosing, designing and \\n\\nimplementing policies  two items). Figure 2 depicts the aggregate mean for these items per country. \\n\\nWe find that autonomy differs considerably across countries. Senior executives in the Netherlands \\n\\nperceive a rather high degree of autonomy (5.69), followed by those in Norway and Germany (4.97 \\n\\nresp. 4.91). Public officials in Italy and Spain perceive particularly low degrees of autonomy (3.39 \\n\\nresp. 3.45). The overall average is 4.31. \\n\\nFigure 2: Degree of management and policy autonomy (aggregate mean for eight items per country; 1=very low \\nautonomy, 7=very high autonomy) \\n\\n \\n\\nDegree of politicization. A further important aspect of the public administration work context is the \\n\\nextent to which public sector institutions can make decisions based on their expertise and knowledge \\n\\nor are subject to being influenced by political processes (on politicization and the difficult role of \\n\\nsenior executives between government and management cf. Derlien 2003; Schwanke, Ebinger 2005; \\n\\nvan der Meer et al. 2007; Aberbach et al. 1981; Peters, Pierre 2004). Senior executives in the COCOPS \\n\\nsurvey were asked to what extent politicians respect the technical expertise of the administration, to \\n\\nwhat extent politicians influence senior-level appointments and whether they interfere in routine \\n\\nactivities. Figure 3 depicts the aggregate mean for these three items\\n6\\n. Again, the results are rather \\n\\ndiverse across countries. The highest degree of politicization is perceived in Spain (4.54), followed by \\n\\nAustria and Italy (4.11 resp. 4.06). Senior executives in the Netherlands perceive a particularly low \\n\\nlevel of politicization (2.95) with similar assessments for Norway (3.30) and the United Kingdom \\n\\n(3.34). The overall average is 3.70 and can be interpreted as a clear indicator for the existence of \\n\\nsome (albeit modest) politicization in European public administrations. \\n\\n \\n\\n                                                           \\n6\\n Item 1 (Politicians respect the technical expertise of the administration) has been reversed for the \\n\\ncalculation of the aggregate mean. \\n\\n\\n\\nCOCOPS Work Package 3  Cross-national Report, July 2013 Page 11 \\n\\nFigure 3: Degree of politicization (aggregate mean of three items per country; 1=very low degree of politicization, 7=high \\ndegree of politicization) \\n\\n \\n\\n \\n\\nIn sum, the work context of senior executives in the ten countries varies considerably especially with \\n\\nregard to autonomy and politicization. Whereas executives in countries like the Netherlands, the \\n\\nUnited Kingdom and Norway perceive a high degree of autonomy and low politicization, countries \\n\\nlike Spain, Italy, Hungary and Austria perceive considerably lower degrees of autonomy and higher \\n\\ndegrees of politicization. It is not obvious whether high degrees of autonomy are conducive to \\n\\nmanagement reforms and practices or whether the introduction of management tools enhances \\n\\nautonomy. Here, we observe that those countries with the longest tradition of management reforms \\n\\nalso perceive higher levels of management autonomy. Goal ambiguity is perceived as rather \\n\\nmoderate in all countries with much smaller cross-country variations.  \\n\\n \\n\\n2.2 Relevance and Direction of Public Administration Reform \\n\\nThis section provides information on public sector executives perception of the implementation of \\n\\npublic administration reforms. The survey questions follow current public management literature \\n\\n(e.g. Lynn 2006; Raadschelders et al. 2007; Christensen, L\\xe6greid 1999; Christensen, L\\xe6greid 2011; \\n\\nPollitt, Bouckaert 2011; Raadschelders, Lee 2011;) distinguishing between NPM reforms and public \\n\\ngovernance or post-NPM reforms which are characterized by a stronger emphasis on coordination \\n\\nand networked forms of governance. The respondents have been asked to assess the type and \\n\\ncharacter of reform trends in their policy field (a), their organization (b) and in their own work (c). \\n\\n(a) Policy field level \\n\\nContent and importance of reform trends. Public administration reform trends can have very \\n\\ndifferent characteristics both with regard to content and implementation dynamics. While classical \\n\\nNPM reforms include measures like performance management, customer orientation, contracting \\n\\nout, privatization or the flexibilisation of employment, other reforms are of a more generic character \\n\\nand aim at enhancing transparency, citizen participation or reducing bureaucracy. Figure 4 depicts \\n\\nthe overall average plus the highest and lowest country average for each reform trend. The trends \\n\\n\\n\\nCOCOPS Work Package 3  Cross-national Report, July 2013 Page 12 \\n\\nare ordered in terms of importance. The most important reform trends in European public \\n\\nadministrations currently are clearly digital or e-government (with a mean of 5.12), collaboration and \\n\\ncooperation among different public sector actors (5.06) and transparency and open government \\n\\n(5.02). In contrast, classical NPM-type reforms such as privatization (2.62), \\n\\nagencification/corporatization (3.33) and contracting out (3.64) are considerably less important.  \\n\\n \\nFigure 4: Importance of reform trends (Q: How important are the following reform trends in your policy area?; 1=Not at \\nall, 7=To a large extent), graph depicts overall average plus highest/lowest country average; the red line indicates the \\noverall average for all reform trends \\n\\n \\n \\n\\n \\n \\n\\nThis may suggest that the main wave of NPM-style reforms is over, possibly because the bulk of \\n\\nprivatizations and agencifications hast already been implemented in the past. The findings also align \\n\\nwith initiatives in some European countries to re-departmentalize and merge agencies and to \\n\\ninsource provision of some services. Mergers are seen as a more important trend than \\n\\nautonomization. This again confirms the overall assumption in the COCOPS project that in a post-\\n\\n1\\n\\n2\\n\\n3\\n\\n4\\n\\n5\\n\\n6\\n\\n7\\n\\nDigital or e-\\ngovernment\\n\\nCollaboration and\\ncooperation\\n\\namong different\\npublic sector\\n\\nactors\\n\\nTransparency and\\nopen government\\n\\nPublic sector\\ndownsizing\\n\\nFocusing on\\noutcomes and\\n\\nresults\\n\\nInternal\\nbureaucracy\\nreduction /\\n\\ncutting red tape\\n\\nTreatment of\\nservice users as\\n\\ncustomers\\n\\nExternal\\npartnerships and\\nstrategic alliances\\n\\n1\\n\\n2\\n\\n3\\n\\n4\\n\\n5\\n\\n6\\n\\n7\\n\\nFlexible employment Mergers of\\ngovernment\\n\\norganisations\\n\\nCitizen participation\\nmethods/initiatives\\n\\nContracting out Extending state\\nprovision into new\\n\\nareas\\n\\nCreation of\\nautonomous\\nagencies or\\n\\ncorporatization\\n\\nPrivatisation\\n\\n\\n\\nCOCOPS Work Package 3  Cross-national Report, July 2013 Page 13 \\n\\nNPM area, public sectors are investing heavily in efforts to reduce policy and delivery fragmentation. \\n\\nAt the same time, however, state provision not commonly extended into new areas (3.56). The fiscal \\n\\ncrisis slumbers in the background. This is also visible in the great importance attributed to public \\n\\nsector downsizing (4.97), a stronger focusing on outcomes and results (4.81), and the reduction of \\n\\ninternal bureaucracy (4.75).  \\n\\n \\n\\nIt is also remarkable that there is considerable variation across countries with regard to central \\n\\ntrends such as downsizing, flexibilisation of employment, and focusing on outcomes. The more \\n\\ngeneric reform trends are answered in a much more homogeneous way across countries.  It is thus \\n\\ninteresting to take a closer look at the reform trends that exhibit a high degree of variation across the \\n\\ncountries. Wide cross-country variation is observable for public sector downsizing (see Figure 5) \\n\\nalthough mostly due to a rather low relevance of this trend in Norway. It is a clearly important \\n\\nreform trend in the UK (5.67), France (5.60), Estonia (5.49) and the Netherlands (5.45). This aligns \\n\\nwith public announcements on budget and workforce restructuring. Downsizing is the least \\n\\nimportant in Norway (with a mean of only 3.14), which is obviously attribut\"\n",
            "<class 'list'>\n",
            "b'I will attend: \\n\\nName\\n\\nPosition\\n\\nInstitution\\n\\nEmail \\n\\nAccompanied by\\n\\nRegistration\\n\\nStudent Paper Series\\nWelfare State Regimes & Youth Incarceration:\\n\\nA Comparison of Germany, Sweden, and the United States \\nBy Haley Reimbold (MPP/MPA 2015)\\n\\nAcademic Advisor: Prof. Dr. Klaus Hurrelmann\\nProfessor of Public Health and Education\\n\\n \\nHSSPS 02 | 2015\\n\\n\\n\\n\\t\\r \\xa0\\n\\nTABLE\\t\\r \\xa0OF\\t\\r \\xa0CONTENTS\\t\\r \\xa0\\n\\t\\r \\xa0\\n\\nI.\\t\\r \\xa0EXECUTIVE\\t\\r \\xa0SUMMARY\\t\\r \\xa0 1\\t\\r \\xa0\\n\\n\\t\\r \\xa0\\nII.\\t\\r \\xa0INTRODUCTION\\t\\r \\xa0\\t\\r \\xa0 2\\t\\r \\xa0\\n\\nA.\\t\\r \\xa0YOUTH\\t\\r \\xa0INCARCERATION:\\t\\r \\xa0A\\t\\r \\xa0CRITICAL\\t\\r \\xa0&\\t\\r \\xa0COMPLEX\\t\\r \\xa0ISSUE\\t\\r \\xa0\\t\\r \\xa0\\t\\r \\xa0 2\\t\\r \\xa0\\nB.\\t\\r \\xa0YOUTH\\t\\r \\xa0INCARCERATION\\t\\r \\xa0IN\\t\\r \\xa0SOCIETY\\t\\r \\xa0\\t\\r \\xa0 4\\t\\r \\xa0 \\t\\r \\xa0\\nC.\\t\\r \\xa0RESEARCH\\t\\r \\xa0QUESTION\\t\\r \\xa0&\\t\\r \\xa0HYPOTHESES\\t\\r \\xa0 5\\t\\r \\xa0\\nD.\\t\\r \\xa0RATIONALE\\t\\r \\xa0&\\t\\r \\xa0INTENTIONS\\t\\r \\xa0 6\\t\\r \\xa0\\n\\t\\r \\xa0\\n\\t\\r \\xa0\\nIII.\\t\\r \\xa0RESEARCH\\t\\r \\xa0DESIGN\\t\\r \\xa0 7\\t\\r \\xa0\\nA.\\t\\r \\xa0PRELIMINARY\\t\\r \\xa0ANALYSIS\\t\\r \\xa0 8\\t\\r \\xa0\\nB.\\t\\r \\xa0DEFINITION\\t\\r \\xa0OF\\t\\r \\xa0SCOPE\\t\\r \\xa0 9\\t\\r \\xa0\\nC.\\t\\r \\xa0DATA\\t\\r \\xa0ANALYSIS\\t\\r \\xa0&\\t\\r \\xa0COUNTRY\\t\\r \\xa0COMPARISON\\t\\r \\xa0 10\\t\\r \\xa0\\nD.\\t\\r \\xa0SYNTHESIS\\t\\r \\xa0OF\\t\\r \\xa0FINDINGS\\t\\r \\xa0 13\\t\\r \\xa0\\n\\t\\r \\xa0\\n\\nIV.\\t\\r \\xa0WELFARE\\t\\r \\xa0STATE\\t\\r \\xa0&\\t\\r \\xa0JUSTICE\\t\\r \\xa0SYSTEM\\t\\r \\xa0TYPOLOGIES\\t\\r \\xa0 13\\t\\r \\xa0\\n\\nA.\\t\\r \\xa0WELFARE\\t\\r \\xa0STATE\\t\\r \\xa0REGIME\\t\\r \\xa0TYPOLOGIES\\t\\r \\xa0 13\\t\\r \\xa0\\nB.\\t\\r \\xa0PUBLIC\\t\\r \\xa0SECTOR\\t\\r \\xa0&\\t\\r \\xa0JUSTICE\\t\\r \\xa0SYSTEM\\t\\r \\xa0TYPOLOGIES\\t\\r \\xa0 14\\t\\r \\xa0\\n\\t\\r \\xa0 \\t\\r \\xa0\\n\\nIV.\\t\\r \\xa0ANALYSIS\\t\\r \\xa0\\t\\r \\xa0 18\\t\\r \\xa0\\n\\nA.\\t\\r \\xa0YOUTH\\t\\r \\xa0INCARCERATION\\t\\r \\xa0IN\\t\\r \\xa0SWEDEN,\\t\\r \\xa0GERMANY,\\t\\r \\xa0AND\\t\\r \\xa0THE\\t\\r \\xa0UNITED\\t\\r \\xa0STATES\\t\\r \\xa0 18\\t\\r \\xa0\\nB.\\t\\r \\xa0COUNTRY\\t\\r \\xa0COMPARISON\\t\\r \\xa0 19\\t\\r \\xa0\\nC.\\t\\r \\xa0TYPOLOGY\\t\\r \\xa0DEVELOPMENT\\t\\r \\xa0 34\\t\\r \\xa0\\nD.\\t\\r \\xa0WELFARE\\t\\r \\xa0STATE\\t\\r \\xa0REGIMES\\t\\r \\xa0&\\t\\r \\xa0YOUTH\\t\\r \\xa0INCARCERATION\\t\\r \\xa0 38\\t\\r \\xa0\\n\\t\\r \\xa0\\n\\nV.\\t\\r \\xa0CONCLUSIONS\\t\\r \\xa0\\t\\r \\xa0 42\\t\\r \\xa0\\n\\nA.\\t\\r \\xa0SUMMARY\\t\\r \\xa0OF\\t\\r \\xa0RESULTS\\t\\r \\xa0 42\\t\\r \\xa0\\nB.\\t\\r \\xa0RECOMMENDATIONS\\t\\r \\xa0FOR\\t\\r \\xa0RESEARCH,\\t\\r \\xa0POLICY,\\t\\r \\xa0&\\t\\r \\xa0PRACTICE\\t\\r \\xa0 44\\t\\r \\xa0\\n\\t\\r \\xa0\\n\\nVI.\\t\\r \\xa0BIBLIOGRAPHY\\t\\r \\xa0\\t\\r \\xa0 49\\t\\r \\xa0\\n\\n\\n\\n\\t\\r \\xa0 1\\t\\r \\xa0\\n\\nI.\\t\\r \\xa0EXECUTIVE\\t\\r \\xa0SUMMARY\\t\\r \\xa0\\t\\r \\xa0\\n\\nDespite\\t\\r \\xa0international\\t\\r \\xa0consensus\\t\\r \\xa0among\\t\\r \\xa0researchers\\t\\r \\xa0that\\t\\r \\xa0incarcerating\\t\\r \\xa0youth\\t\\r \\xa0is\\t\\r \\xa0an\\t\\r \\xa0\\n\\nineffective\\t\\r \\xa0and\\t\\r \\xa0inefficient\\t\\r \\xa0response\\t\\r \\xa0to\\t\\r \\xa0crime,\\t\\r \\xa0this\\t\\r \\xa0practice\\t\\r \\xa0persiststo\\t\\r \\xa0widely\\t\\r \\xa0varying\\t\\r \\xa0\\n\\ndegreesin\\t\\r \\xa0every\\t\\r \\xa0country.\\t\\r \\xa0What\\t\\r \\xa0are\\t\\r \\xa0the\\t\\r \\xa0differences\\t\\r \\xa0in\\t\\r \\xa0youth\\t\\r \\xa0incarceration\\t\\r \\xa0in\\t\\r \\xa0disparate\\t\\r \\xa0\\n\\nwelfare\\t\\r \\xa0state\\t\\r \\xa0regimes?\\t\\r \\xa0To\\t\\r \\xa0answer\\t\\r \\xa0this\\t\\r \\xa0question,\\t\\r \\xa0this\\t\\r \\xa0paper\\t\\r \\xa0develops\\t\\r \\xa0a\\t\\r \\xa0youth\\t\\r \\xa0incarceration\\t\\r \\xa0\\n\\ntypology\\t\\r \\xa0by\\t\\r \\xa0comparing\\t\\r \\xa0three\\t\\r \\xa0cases:\\t\\r \\xa0that\\t\\r \\xa0of\\t\\r \\xa0Sweden,\\t\\r \\xa0Germany,\\t\\r \\xa0and\\t\\r \\xa0the\\t\\r \\xa0United\\t\\r \\xa0States.\\t\\r \\xa0The\\t\\r \\xa0\\n\\nfirst\\t\\r \\xa0multi-\\xaddimensional\\t\\r \\xa0typology\\t\\r \\xa0specific\\t\\r \\xa0to\\t\\r \\xa0youth\\t\\r \\xa0incarceration,\\t\\r \\xa0this\\t\\r \\xa0tool\\t\\r \\xa0encompasses\\t\\r \\xa0\\n\\nfour\\t\\r \\xa0key\\t\\r \\xa0domains\\t\\r \\xa0central\\t\\r \\xa0to\\t\\r \\xa0the\\t\\r \\xa0type\\t\\r \\xa0of\\t\\r \\xa0system\\t\\r \\xa0operated\\t\\r \\xa0in\\t\\r \\xa0a\\t\\r \\xa0nation.\\t\\r \\xa0These\\t\\r \\xa0include\\t\\r \\xa0the\\t\\r \\xa0\\n\\npurpose\\t\\r \\xa0and\\t\\r \\xa0extent\\t\\r \\xa0of\\t\\r \\xa0incarceration\\t\\r \\xa0use,\\t\\r \\xa0compliance\\t\\r \\xa0with\\t\\r \\xa0international\\t\\r \\xa0human\\t\\r \\xa0rights,\\t\\r \\xa0and\\t\\r \\xa0\\n\\nprivatization\\t\\r \\xa0receptiveness.\\t\\r \\xa0A\\t\\r \\xa0fifth\\t\\r \\xa0domain,\\t\\r \\xa0disproportionate\\t\\r \\xa0minority\\t\\r \\xa0incarceration,\\t\\r \\xa0was\\t\\r \\xa0\\n\\nconsidered\\t\\r \\xa0but\\t\\r \\xa0results\\t\\r \\xa0indicate\\t\\r \\xa0the\\t\\r \\xa0need\\t\\r \\xa0for\\t\\r \\xa0further\\t\\r \\xa0research\\t\\r \\xa0on\\t\\r \\xa0this\\t\\r \\xa0issue.\\t\\r \\xa0\\t\\r \\xa0\\n\\nThree\\t\\r \\xa0youth\\t\\r \\xa0incarceration\\t\\r \\xa0types,\\t\\r \\xa0aligned\\t\\r \\xa0with\\t\\r \\xa0welfare\\t\\r \\xa0state\\t\\r \\xa0regimes,\\t\\r \\xa0are\\t\\r \\xa0\\n\\ndeveloped\\t\\r \\xa0from\\t\\r \\xa0a\\t\\r \\xa0mixed\\t\\r \\xa0methods\\t\\r \\xa0research\\t\\r \\xa0design\\t\\r \\xa0comparing\\t\\r \\xa0the\\t\\r \\xa0countries\\t\\r \\xa0of\\t\\r \\xa0interest.\\t\\r \\xa0\\n\\nWith\\t\\r \\xa0juvenile\\t\\r \\xa0justice\\t\\r \\xa0systems\\t\\r \\xa0situated\\t\\r \\xa0within\\t\\r \\xa0justice\\t\\r \\xa0departments\\t\\r \\xa0and\\t\\r \\xa0a\\t\\r \\xa0central\\t\\r \\xa0aim\\t\\r \\xa0of\\t\\r \\xa0\\n\\npunishment,\\t\\r \\xa0liberal\\t\\r \\xa0regimes,\\t\\r \\xa0such\\t\\r \\xa0as\\t\\r \\xa0the\\t\\r \\xa0United\\t\\r \\xa0States,\\t\\r \\xa0demonstrate\\t\\r \\xa0low\\t\\r \\xa0compliance\\t\\r \\xa0with\\t\\r \\xa0\\n\\nhuman\\t\\r \\xa0rights,\\t\\r \\xa0and\\t\\r \\xa0the\\t\\r \\xa0highest\\t\\r \\xa0rates\\t\\r \\xa0of\\t\\r \\xa0prison\\t\\r \\xa0privatization.\\t\\r \\xa0Conservative\\t\\r \\xa0regimes,\\t\\r \\xa0based\\t\\r \\xa0\\n\\non\\t\\r \\xa0data\\t\\r \\xa0from\\t\\r \\xa0Germany,\\t\\r \\xa0exhibit\\t\\r \\xa0a\\t\\r \\xa0central\\t\\r \\xa0goal\\t\\r \\xa0of\\t\\r \\xa0rehabilitation,\\t\\r \\xa0low\\t\\r \\xa0privatization\\t\\r \\xa0\\n\\nreceptiveness,\\t\\r \\xa0and\\t\\r \\xa0ratification\\t\\r \\xa0of\\t\\r \\xa0human\\t\\r \\xa0rights\\t\\r \\xa0resolutions.\\t\\r \\xa0Social\\t\\r \\xa0democratic\\t\\r \\xa0regimes,\\t\\r \\xa0\\n\\nsuch\\t\\r \\xa0as\\t\\r \\xa0Sweden,\\t\\r \\xa0have\\t\\r \\xa0a\\t\\r \\xa0youth\\t\\r \\xa0rights-\\xadcentered\\t\\r \\xa0system,\\t\\r \\xa0with\\t\\r \\xa0no\\t\\r \\xa0privatization\\t\\r \\xa0and\\t\\r \\xa0full\\t\\r \\xa0\\n\\nadoption\\t\\r \\xa0of\\t\\r \\xa0human\\t\\r \\xa0rights\\t\\r \\xa0resolutions.\\t\\r \\xa0When\\t\\r \\xa0accounting\\t\\r \\xa0for\\t\\r \\xa0diversity\\t\\r \\xa0in\\t\\r \\xa0each\\t\\r \\xa0countrys\\t\\r \\xa0\\n\\npopulation,\\t\\r \\xa0Sweden\\t\\r \\xa0was\\t\\r \\xa0found\\t\\r \\xa0to\\t\\r \\xa0have\\t\\r \\xa0the\\t\\r \\xa0highest\\t\\r \\xa0levels\\t\\r \\xa0of\\t\\r \\xa0disproportionate\\t\\r \\xa0minority\\t\\r \\xa0\\n\\nincarceration\\t\\r \\xa0and\\t\\r \\xa0the\\t\\r \\xa0United\\t\\r \\xa0States\\t\\r \\xa0the\\t\\r \\xa0lowest,\\t\\r \\xa0with\\t\\r \\xa0Germany\\t\\r \\xa0between\\t\\r \\xa0the\\t\\r \\xa0two.\\t\\r \\xa0\\n\\nRegarding\\t\\r \\xa0this\\t\\r \\xa0domain,\\t\\r \\xa0further\\t\\r \\xa0research\\t\\r \\xa0is\\t\\r \\xa0required\\t\\r \\xa0to\\t\\r \\xa0determine\\t\\r \\xa0if\\t\\r \\xa0this\\t\\r \\xa0finding\\t\\r \\xa0is\\t\\r \\xa0\\n\\ncharacteristic\\t\\r \\xa0of\\t\\r \\xa0social\\t\\r \\xa0democratic\\t\\r \\xa0and\\t\\r \\xa0liberal\\t\\r \\xa0nations.\\t\\r \\xa0After\\t\\r \\xa0comparing\\t\\r \\xa0the\\t\\r \\xa0countries\\t\\r \\xa0of\\t\\r \\xa0\\n\\ninterest,\\t\\r \\xa0the\\t\\r \\xa0relationship\\t\\r \\xa0between\\t\\r \\xa0welfare\\t\\r \\xa0state\\t\\r \\xa0regime\\t\\r \\xa0types\\t\\r \\xa0and\\t\\r \\xa0juvenile\\t\\r \\xa0justice\\t\\r \\xa0systems\\t\\r \\xa0\\n\\nis\\t\\r \\xa0examined.\\t\\r \\xa0This\\t\\r \\xa0paper\\t\\r \\xa0concludes\\t\\r \\xa0with\\t\\r \\xa0recommendations\\t\\r \\xa0for\\t\\r \\xa0the\\t\\r \\xa0research,\\t\\r \\xa0policy,\\t\\r \\xa0and\\t\\r \\xa0\\n\\npractitioner\\t\\r \\xa0communities\\t\\r \\xa0to\\t\\r \\xa0advance\\t\\r \\xa0analysis\\t\\r \\xa0and\\t\\r \\xa0reforms\\t\\r \\xa0to\\t\\r \\xa0improve\\t\\r \\xa0the\\t\\r \\xa0effectiveness\\t\\r \\xa0\\n\\nand\\t\\r \\xa0efficiency\\t\\r \\xa0of\\t\\r \\xa0juvenile\\t\\r \\xa0justice\\t\\r \\xa0systems\\t\\r \\xa0internationally.\\t\\r \\xa0\\t\\r \\xa0\\n\\n\\n\\n\\t\\r \\xa0 2\\t\\r \\xa0\\n\\nII.\\t\\r \\xa0INTRODUCTION\\t\\r \\xa0\\n\\nA.\\t\\r \\xa0YOUTH\\t\\r \\xa0INCARCERATION:\\t\\r \\xa0A\\t\\r \\xa0CRITICAL\\t\\r \\xa0&\\t\\r \\xa0COMPLEX\\t\\r \\xa0ISSUE\\t\\r \\xa0\\n\\n1.\\t\\r \\xa0An\\t\\r \\xa0Ineffective\\t\\r \\xa0&\\t\\r \\xa0Inefficient\\t\\r \\xa0Response\\t\\r \\xa0to\\t\\r \\xa0Crime\\t\\r \\xa0\\n\\nIncarcerating\\t\\r \\xa0youth\\t\\r \\xa0is\\t\\r \\xa0a\\t\\r \\xa0harmful\\t\\r \\xa0practice\\t\\r \\xa0that\\t\\r \\xa0has\\t\\r \\xa0been\\t\\r \\xa0repeatedly\\t\\r \\xa0proven\\t\\r \\xa0to\\t\\r \\xa0\\n\\nproduce\\t\\r \\xa0a\\t\\r \\xa0host\\t\\r \\xa0of\\t\\r \\xa0negative\\t\\r \\xa0outcomes\\t\\r \\xa0for\\t\\r \\xa0youth,\\t\\r \\xa0families,\\t\\r \\xa0and\\t\\r \\xa0communities\\t\\r \\xa0(Aizer\\t\\r \\xa0&\\t\\r \\xa0Doyle,\\t\\r \\xa0\\n\\n2013;\\t\\r \\xa0Braman,\\t\\r \\xa02002;\\t\\r \\xa0Holman\\t\\r \\xa0&\\t\\r \\xa0Ziedenberg,\\t\\r \\xa02006;\\t\\r \\xa0Lambie\\t\\r \\xa0&\\t\\r \\xa0Randell,\\t\\r \\xa02013).\\t\\r \\xa0While\\t\\r \\xa0in\\t\\r \\xa0\\n\\nprison,\\t\\r \\xa0youth\\t\\r \\xa0are\\t\\r \\xa0at\\t\\r \\xa0risk\\t\\r \\xa0of\\t\\r \\xa0violence\\t\\r \\xa0and\\t\\r \\xa0abuse\\t\\r \\xa0at\\t\\r \\xa0the\\t\\r \\xa0hands\\t\\r \\xa0of\\t\\r \\xa0correctional\\t\\r \\xa0staff,\\t\\r \\xa0adult\\t\\r \\xa0\\n\\noffenders,\\t\\r \\xa0and\\t\\r \\xa0their\\t\\r \\xa0peers\\t\\r \\xa0(Abram\\t\\r \\xa0et\\t\\r \\xa0al.,\\t\\r \\xa02004;\\t\\r \\xa0Liefaard,\\t\\r \\xa0Reef,\\t\\r \\xa0&\\t\\r \\xa0Hazelzet,\\t\\r \\xa02014;\\t\\r \\xa0\\n\\nNeubacher,\\t\\r \\xa02014).\\t\\r \\xa0In\\t\\r \\xa0many\\t\\r \\xa0countriesincluding\\t\\r \\xa0developed\\t\\r \\xa0nationsyouth\\t\\r \\xa0prisons\\t\\r \\xa0lack\\t\\r \\xa0\\n\\nbasic\\t\\r \\xa0educational,\\t\\r \\xa0medical,\\t\\r \\xa0mental\\t\\r \\xa0health,\\t\\r \\xa0and\\t\\r \\xa0other\\t\\r \\xa0needed\\t\\r \\xa0services\\t\\r \\xa0(Cocozza\\t\\r \\xa0&\\t\\r \\xa0\\n\\nSkowyra,\\t\\r \\xa02000;\\t\\r \\xa0Dembo,\\t\\r \\xa01996;\\t\\r \\xa0Golzari,\\t\\r \\xa0Hunt,\\t\\r \\xa0&\\t\\r \\xa0Anoshiravani,\\t\\r \\xa02006;\\t\\r \\xa0Leone,\\t\\r \\xa01994).\\t\\r \\xa0Upon\\t\\r \\xa0\\n\\nbeing\\t\\r \\xa0released\\t\\r \\xa0from\\t\\r \\xa0prison,\\t\\r \\xa0youth\\t\\r \\xa0are\\t\\r \\xa0more\\t\\r \\xa0likely\\t\\r \\xa0to\\t\\r \\xa0reoffend\\t\\r \\xa0than\\t\\r \\xa0those\\t\\r \\xa0who\\t\\r \\xa0committed\\t\\r \\xa0\\n\\nsimilar\\t\\r \\xa0crimes\\t\\r \\xa0but\\t\\r \\xa0were\\t\\r \\xa0offered\\t\\r \\xa0alternative,\\t\\r \\xa0community-\\xadbased\\t\\r \\xa0programs\\t\\r \\xa0(Holman\\t\\r \\xa0&\\t\\r \\xa0\\n\\nZiedenberg,\\t\\r \\xa02006;\\t\\r \\xa0Mendel,\\t\\r \\xa02011;\\t\\r \\xa0Pfeiffer,\\t\\r \\xa01996).\\t\\r \\xa0If\\t\\r \\xa0the\\t\\r \\xa0goal\\t\\r \\xa0of\\t\\r \\xa0youth\\t\\r \\xa0incarceration\\t\\r \\xa0is\\t\\r \\xa0to\\t\\r \\xa0\\n\\nprevent\\t\\r \\xa0future\\t\\r \\xa0offending\\t\\r \\xa0and\\t\\r \\xa0improve\\t\\r \\xa0public\\t\\r \\xa0safety,\\t\\r \\xa0this\\t\\r \\xa0practice\\t\\r \\xa0is\\t\\r \\xa0failing.\\t\\r \\xa0\\n\\nIn\\t\\r \\xa0addition\\t\\r \\xa0to\\t\\r \\xa0being\\t\\r \\xa0an\\t\\r \\xa0ineffective\\t\\r \\xa0response\\t\\r \\xa0to\\t\\r \\xa0crime,\\t\\r \\xa0incarceration\\t\\r \\xa0is\\t\\r \\xa0inefficient.\\t\\r \\xa0A\\t\\r \\xa0\\n\\nrecent\\t\\r \\xa0report\\t\\r \\xa0found\\t\\r \\xa0that\\t\\r \\xa0state\\t\\r \\xa0and\\t\\r \\xa0local\\t\\r \\xa0governments\\t\\r \\xa0in\\t\\r \\xa0the\\t\\r \\xa0United\\t\\r \\xa0States\\t\\r \\xa0spent\\t\\r \\xa0$21\\t\\r \\xa0\\n\\nbillion\\t\\r \\xa0each\\t\\r \\xa0year\\t\\r \\xa0on\\t\\r \\xa0youth\\t\\r \\xa0incarceration,\\t\\r \\xa0with\\t\\r \\xa0an\\t\\r \\xa0average\\t\\r \\xa0per\\t\\r \\xa0child\\t\\r \\xa0daily\\t\\r \\xa0cost\\t\\r \\xa0of\\t\\r \\xa0over\\t\\r \\xa0$400\\t\\r \\xa0\\n\\nand\\t\\r \\xa0an\\t\\r \\xa0annual\\t\\r \\xa0cost\\t\\r \\xa0per\\t\\r \\xa0child\\t\\r \\xa0of\\t\\r \\xa0$148,767\\t\\r \\xa0(Petteruti,\\t\\r \\xa0Schindler,\\t\\r \\xa0&\\t\\r \\xa0Ziedenberg,\\t\\r \\xa02014).\\t\\r \\xa0Cost-\\xad\\n\\nbenefit\\t\\r \\xa0analyses\\t\\r \\xa0have\\t\\r \\xa0indicated\\t\\r \\xa0that\\t\\r \\xa0community-\\xadbased\\t\\r \\xa0alternatives\\t\\r \\xa0are\\t\\r \\xa0significantly\\t\\r \\xa0less\\t\\r \\xa0\\n\\nexpensive\\t\\r \\xa0than\\t\\r \\xa0incarceration,\\t\\r \\xa0thereby\\t\\r \\xa0improving\\t\\r \\xa0government\\t\\r \\xa0efficiency\\t\\r \\xa0while\\t\\r \\xa0producing\\t\\r \\xa0\\n\\nbetter\\t\\r \\xa0results\\t\\r \\xa0(Mendel,\\t\\r \\xa02001;\\t\\r \\xa0Robertson,\\t\\r \\xa0Grimes,\\t\\r \\xa0&\\t\\r \\xa0Rogers,\\t\\r \\xa02001).\\t\\r \\xa0\\t\\r \\xa0\\n\\n\\t\\r \\xa0\\n\\n2.\\t\\r \\xa0Divergence\\t\\r \\xa0in\\t\\r \\xa0Youth\\t\\r \\xa0Incarceration\\t\\r \\xa0Rates\\t\\r \\xa0\\t\\r \\xa0\\n\\nWhile\\t\\r \\xa0several\\t\\r \\xa0nations\\t\\r \\xa0have\\t\\r \\xa0worked\\t\\r \\xa0to\\t\\r \\xa0reduce\\t\\r \\xa0youth\\t\\r \\xa0incarceration\\t\\r \\xa0rates\\t\\r \\xa0in\\t\\r \\xa0recent\\t\\r \\xa0\\n\\nyears,\\t\\r \\xa0this\\t\\r \\xa0practice\\t\\r \\xa0is\\t\\r \\xa0increasing\\t\\r \\xa0in\\t\\r \\xa0other\\t\\r \\xa0jurisdictions\\t\\r \\xa0(Mendel,\\t\\r \\xa02011).\\t\\r \\xa0The\\t\\r \\xa0imprisonment\\t\\r \\xa0\\n\\nof\\t\\r \\xa0youth\\t\\r \\xa0persists\\t\\r \\xa0despite\\t\\r \\xa0four\\t\\r \\xa0international\\t\\r \\xa0human\\t\\r \\xa0rights\\t\\r \\xa0treatiesincluding\\t\\r \\xa0one\\t\\r \\xa0of\\t\\r \\xa0the\\t\\r \\xa0\\n\\nmost\\t\\r \\xa0widely\\t\\r \\xa0ratified\\t\\r \\xa0treaties,\\t\\r \\xa0the\\t\\r \\xa0Convention\\t\\r \\xa0on\\t\\r \\xa0the\\t\\r \\xa0Rights\\t\\r \\xa0of\\t\\r \\xa0the\\t\\r \\xa0Childholding\\t\\r \\xa0that\\t\\r \\xa0\\n\\n\\n\\n\\t\\r \\xa0 3\\t\\r \\xa0\\n\\nincarceration\\t\\r \\xa0should\\t\\r \\xa0only\\t\\r \\xa0be\\t\\r \\xa0used\\t\\r \\xa0as\\t\\r \\xa0a\\t\\r \\xa0measure\\t\\r \\xa0of\\t\\r \\xa0last\\t\\r \\xa0resort\\t\\r \\xa0(UNCRC,\\t\\r \\xa01989;\\t\\r \\xa0Riyadh,\\t\\r \\xa0\\n\\n1990;\\t\\r \\xa0Havana,\\t\\r \\xa01991;\\t\\r \\xa0Beijing,\\t\\r \\xa01985).\\t\\r \\xa0Given\\t\\r \\xa0the\\t\\r \\xa0widely\\t\\r \\xa0disparate\\t\\r \\xa0juvenile\\t\\r \\xa0imprisonment\\t\\r \\xa0\\n\\nrates\\t\\r \\xa0across\\t\\r \\xa0nations,\\t\\r \\xa0ranging\\t\\r \\xa0from\\t\\r \\xa01.6\\t\\r \\xa0to\\t\\r \\xa0298.2\\t\\r \\xa0per\\t\\r \\xa0100,000,\\t\\r \\xa0there\\t\\r \\xa0is\\t\\r \\xa0apparently\\t\\r \\xa0little\\t\\r \\xa0\\n\\nconsensus\\t\\r \\xa0on\\t\\r \\xa0the\\t\\r \\xa0meaning\\t\\r \\xa0of\\t\\r \\xa0this\\t\\r \\xa0directive\\t\\r \\xa0(Aebi\\t\\r \\xa0et\\t\\r \\xa0al.,\\t\\r \\xa02010).\\t\\r \\xa0A\\t\\r \\xa0recent\\t\\r \\xa0review\\t\\r \\xa0of\\t\\r \\xa0\\n\\nConvention\\t\\r \\xa0on\\t\\r \\xa0the\\t\\r \\xa0Rights\\t\\r \\xa0of\\t\\r \\xa0the\\t\\r \\xa0Child\\t\\r \\xa0Committee\\t\\r \\xa0reports\\t\\r \\xa0assessing\\t\\r \\xa0compliance\\t\\r \\xa0in\\t\\r \\xa015\\t\\r \\xa0\\n\\ncountries\\t\\r \\xa0in\\t\\r \\xa0Western\\t\\r \\xa0Europe\\t\\r \\xa0indicated\\t\\r \\xa0that\\t\\r \\xa0of\\t\\r \\xa0these,\\t\\r \\xa0only\\t\\r \\xa0Norway\\t\\r \\xa0met\\t\\r \\xa0standards\\t\\r \\xa0set\\t\\r \\xa0forth\\t\\r \\xa0\\n\\n(Muncie,\\t\\r \\xa02008).\\t\\r \\xa0The\\t\\r \\xa0most\\t\\r \\xa0commonly\\t\\r \\xa0cited\\t\\r \\xa0area\\t\\r \\xa0in\\t\\r \\xa0need\\t\\r \\xa0of\\t\\r \\xa0improvement\\t\\r \\xa0pertained\\t\\r \\xa0to\\t\\r \\xa0the\\t\\r \\xa0\\n\\noveruse\\t\\r \\xa0of\\t\\r \\xa0incarceration\\t\\r \\xa0and\\t\\r \\xa0need\\t\\r \\xa0for\\t\\r \\xa0additional\\t\\r \\xa0alternatives\\t\\r \\xa0to\\t\\r \\xa0imprisonment\\t\\r \\xa0(Muncie,\\t\\r \\xa0\\n\\n2008).\\t\\r \\xa0\\t\\r \\xa0\\n\\n\\t\\r \\xa0\\n\\n3.\\t\\r \\xa0Increasing\\t\\r \\xa0in\\t\\r \\xa0Complexity\\t\\r \\xa0\\t\\r \\xa0\\n\\nA\\t\\r \\xa0complex\\t\\r \\xa0mix\\t\\r \\xa0of\\t\\r \\xa0historical,\\t\\r \\xa0political,\\t\\r \\xa0legal,\\t\\r \\xa0economic,\\t\\r \\xa0and\\t\\r \\xa0social\\t\\r \\xa0factors\\t\\r \\xa0influence\\t\\r \\xa0\\n\\na\\t\\r \\xa0countrys\\t\\r \\xa0use\\t\\r \\xa0of\\t\\r \\xa0incarceration\\t\\r \\xa0as\\t\\r \\xa0a\\t\\r \\xa0response\\t\\r \\xa0to\\t\\r \\xa0youth\\t\\r \\xa0crime.\\t\\r \\xa0In\\t\\r \\xa0recent\\t\\r \\xa0years,\\t\\r \\xa0the\\t\\r \\xa0issue\\t\\r \\xa0of\\t\\r \\xa0\\n\\nyouth\\t\\r \\xa0incarceration\\t\\r \\xa0has\\t\\r \\xa0become\\t\\r \\xa0increasingly\\t\\r \\xa0complex\\t\\r \\xa0on\\t\\r \\xa0a\\t\\r \\xa0variety\\t\\r \\xa0of\\t\\r \\xa0levels.\\t\\r \\xa0Muncie\\t\\r \\xa0\\n\\n(2006)\\t\\r \\xa0attested\\t\\r \\xa0to\\t\\r \\xa0this\\t\\r \\xa0fact,\\t\\r \\xa0holding\\t\\r \\xa0that\\t\\r \\xa0juvenile\\t\\r \\xa0and\\t\\r \\xa0youth\\t\\r \\xa0justice\\t\\r \\xa0may\\t\\r \\xa0be\\t\\r \\xa0becoming\\t\\r \\xa0\\n\\nmore\\t\\r \\xa0globalized\\t\\r \\xa0through\\t\\r \\xa0the\\t\\r \\xa0impact\\t\\r \\xa0of\\t\\r \\xa0neo-\\xadliberalism,\\t\\r \\xa0policy\\t\\r \\xa0transfer\\t\\r \\xa0and\\t\\r \\xa0international\\t\\r \\xa0\\n\\nconventions,\\t\\r \\xa0but\\t\\r \\xa0at\\t\\r \\xa0the\\t\\r \\xa0same\\t\\r \\xa0time\\t\\r \\xa0it\\t\\r \\xa0is\\t\\r \\xa0becoming\\t\\r \\xa0more\\t\\r \\xa0localized\\t\\r \\xa0through\\t\\r \\xa0national,\\t\\r \\xa0\\n\\nregional\\t\\r \\xa0and\\t\\r \\xa0local\\t\\r \\xa0enclaves\\t\\r \\xa0of\\t\\r \\xa0difference,\\t\\r \\xa0coalition\\t\\r \\xa0and\\t\\r \\xa0resistance\\t\\r \\xa0(p.\\t\\r \\xa056).\\t\\r \\xa0Increasingly,\\t\\r \\xa0a\\t\\r \\xa0\\n\\ndiversified\\t\\r \\xa0set\\t\\r \\xa0of\\t\\r \\xa0players\\t\\r \\xa0are\\t\\r \\xa0involved\\t\\r \\xa0in\\t\\r \\xa0youth\\t\\r \\xa0incarceration\\t\\r \\xa0with\\t\\r \\xa0public-\\xadprivate\\t\\r \\xa0\\n\\npartnerships\\t\\r \\xa0bringing\\t\\r \\xa0for-\\xadprofit\\t\\r \\xa0entities\\t\\r \\xa0into\\t\\r \\xa0corrections\\t\\r \\xa0in\\t\\r \\xa0many\\t\\r \\xa0countries.\\t\\r \\xa0A\\t\\r \\xa0final\\t\\r \\xa0\\n\\ncontributor\\t\\r \\xa0to\\t\\r \\xa0the\\t\\r \\xa0rising\\t\\r \\xa0complexity\\t\\r \\xa0of\\t\\r \\xa0juvenile\\t\\r \\xa0justice\\t\\r \\xa0is\\t\\r \\xa0increased\\t\\r \\xa0cross-\\xadborder\\t\\r \\xa0mobility,\\t\\r \\xa0\\n\\nwhich\\t\\r \\xa0is\\t\\r \\xa0bringing\\t\\r \\xa0people\\t\\r \\xa0from\\t\\r \\xa0different\\t\\r \\xa0racial,\\t\\r \\xa0ethnic,\\t\\r \\xa0national,\\t\\r \\xa0and\\t\\r \\xa0religious\\t\\r \\xa0backgrounds\\t\\r \\xa0\\n\\nto\\t\\r \\xa0countries\\t\\r \\xa0that\\t\\r \\xa0may\\t\\r \\xa0struggle\\t\\r \\xa0with\\t\\r \\xa0challenges\\t\\r \\xa0that\\t\\r \\xa0increased\\t\\r \\xa0diversity\\t\\r \\xa0can\\t\\r \\xa0present.\\t\\r \\xa0\\t\\r \\xa0\\n\\n\\t\\r \\xa0\\n\\n4.\\t\\r \\xa0Limited\\t\\r \\xa0Cross-\\xadNational\\t\\r \\xa0Data\\t\\r \\xa0and\\t\\r \\xa0Research\\t\\r \\xa0\\n\\nComparative\\t\\r \\xa0international\\t\\r \\xa0data\\t\\r \\xa0regarding\\t\\r \\xa0adult\\t\\r \\xa0incarceration\\t\\r \\xa0rates\\t\\r \\xa0for\\t\\r \\xa0developed\\t\\r \\xa0\\n\\ncountries\\t\\r \\xa0is\\t\\r \\xa0readily\\t\\r \\xa0accessible\\t\\r \\xa0as\\t\\r \\xa0is\\t\\r \\xa0data\\t\\r \\xa0on\\t\\r \\xa0a\\t\\r \\xa0host\\t\\r \\xa0of\\t\\r \\xa0youth-\\xadrelated\\t\\r \\xa0issues\\t\\r \\xa0and\\t\\r \\xa0indicators,\\t\\r \\xa0\\n\\nsuch\\t\\r \\xa0as\\t\\r \\xa0education\\t\\r \\xa0and\\t\\r \\xa0health\\t\\r \\xa0(Walmsley,\\t\\r \\xa02013).\\t\\r \\xa0Despite\\t\\r \\xa0an\\t\\r \\xa0increasing\\t\\r \\xa0number\\t\\r \\xa0of\\t\\r \\xa0entities\\t\\r \\xa0\\n\\n\\n\\n\\t\\r \\xa0 4\\t\\r \\xa0\\n\\nat\\t\\r \\xa0national\\t\\r \\xa0and\\t\\r \\xa0international\\t\\r \\xa0levels\\t\\r \\xa0focused\\t\\r \\xa0on\\t\\r \\xa0juvenile\\t\\r \\xa0justice,\\t\\r \\xa0internationally\\t\\r \\xa0\\n\\ncomparable\\t\\r \\xa0data\\t\\r \\xa0on\\t\\r \\xa0the\\t\\r \\xa0use\\t\\r \\xa0of\\t\\r \\xa0incarceration\\t\\r \\xa0in\\t\\r \\xa0juvenile\\t\\r \\xa0justice\\t\\r \\xa0is\\t\\r \\xa0lacking\\t\\r \\xa0(Winterdyk\\t\\r \\xa0&\\t\\r \\xa0\\n\\nMiller,\\t\\r \\xa02014,\\t\\r \\xa0p.\\t\\r \\xa0464).\\t\\r \\xa0Where\\t\\r \\xa0data\\t\\r \\xa0on\\t\\r \\xa0youth\\t\\r \\xa0in\\t\\r \\xa0custody\\t\\r \\xa0does\\t\\r \\xa0exist,\\t\\r \\xa0it\\t\\r \\xa0is\\t\\r \\xa0rarely\\t\\r \\xa0comparable\\t\\r \\xa0\\n\\nacross\\t\\r \\xa0countries\\t\\r \\xa0due\\t\\r \\xa0to\\t\\r \\xa0inconsistent\\t\\r \\xa0definitional\\t\\r \\xa0and\\t\\r \\xa0measurement\\t\\r \\xa0standards.\\t\\r \\xa0The\\t\\r \\xa0ages\\t\\r \\xa0of\\t\\r \\xa0\\n\\nyouth\\t\\r \\xa0under\\t\\r \\xa0juvenile\\t\\r \\xa0justice\\t\\r \\xa0system\\t\\r \\xa0jurisdiction\\t\\r \\xa0vary,\\t\\r \\xa0as\\t\\r \\xa0do\\t\\r \\xa0the\\t\\r \\xa0types\\t\\r \\xa0of\\t\\r \\xa0custody.\\t\\r \\xa0Given\\t\\r \\xa0\\n\\nthis,\\t\\r \\xa0it\\t\\r \\xa0is\\t\\r \\xa0both\\t\\r \\xa0difficult\\t\\r \\xa0to\\t\\r \\xa0find\\t\\r \\xa0a\\t\\r \\xa0common\\t\\r \\xa0definition\\t\\r \\xa0for\\t\\r \\xa0youth\\t\\r \\xa0and\\t\\r \\xa0for\\t\\r \\xa0incarceration\\t\\r \\xa0\\n\\ninternationally.\\t\\r \\xa0\\t\\r \\xa0\\n\\n\\t\\r \\xa0\\n\\n5.\\t\\r \\xa0Public\\t\\r \\xa0Demands\\t\\r \\xa0for\\t\\r \\xa0Justice\\t\\r \\xa0System\\t\\r \\xa0Reforms\\t\\r \\xa0\\t\\r \\xa0\\n\\nThe\\t\\r \\xa0justice\\t\\r \\xa0reform\\t\\r \\xa0movement\\t\\r \\xa0has\\t\\r \\xa0gained\\t\\r \\xa0momentum\\t\\r \\xa0in\\t\\r \\xa0recent\\t\\r \\xa0years,\\t\\r \\xa0especially\\t\\r \\xa0in\\t\\r \\xa0\\n\\nthe\\t\\r \\xa0United\\t\\r \\xa0States,\\t\\r \\xa0in\\t\\r \\xa0response\\t\\r \\xa0to\\t\\r \\xa0widely\\t\\r \\xa0publicized\\t\\r \\xa0abuses\\t\\r \\xa0of\\t\\r \\xa0power\\t\\r \\xa0by\\t\\r \\xa0police,\\t\\r \\xa0youth\\t\\r \\xa0\\n\\ncourts,\\t\\r \\xa0and\\t\\r \\xa0youth\\t\\r \\xa0prisons.\\t\\r \\xa0The\\t\\r \\xa0killings\\t\\r \\xa0by\\t\\r \\xa0police\\t\\r \\xa0of\\t\\r \\xa0Michael\\t\\r \\xa0Brown\\t\\r \\xa0in\\t\\r \\xa0Ferguson,\\t\\r \\xa0Missouri\\t\\r \\xa0\\n\\nand\\t\\r \\xa0Trayvon\\t\\r \\xa0Martin\\t\\r \\xa0in\\t\\r \\xa0Sanford,\\t\\r \\xa0Floridaboth\\t\\r \\xa0unarmed\\t\\r \\xa0black\\t\\r \\xa0youthbrought\\t\\r \\xa0protesters\\t\\r \\xa0\\n\\nto\\t\\r \\xa0the\\t\\r \\xa0streets\\t\\r \\xa0in\\t\\r \\xa0cities\\t\\r \\xa0across\\t\\r \\xa0the\\t\\r \\xa0country\\t\\r \\xa0and\\t\\r \\xa0world\\t\\r \\xa0(McKay,\\t\\r \\xa02014).\\t\\r \\xa0The\\t\\r \\xa0highly\\t\\r \\xa0publicized\\t\\r \\xa0\\n\\n2008\\t\\r \\xa0Kids\\t\\r \\xa0for\\t\\r \\xa0Cash\\t\\r \\xa0scandal\\t\\r \\xa0in\\t\\r \\xa0Luzerne\\t\\r \\xa0County,\\t\\r \\xa0Pennsylvaniawhere\\t\\r \\xa0two\\t\\r \\xa0juvenile\\t\\r \\xa0court\\t\\r \\xa0\\n\\njudges\\t\\r \\xa0were\\t\\r \\xa0indicted\\t\\r \\xa0for\\t\\r \\xa0accepting\\t\\r \\xa0$2.1\\t\\r \\xa0million\\t\\r \\xa0in\\t\\r \\xa0kickbacks\\t\\r \\xa0over\\t\\r \\xa012\\t\\r \\xa0years\\t\\r \\xa0from\\t\\r \\xa0a\\t\\r \\xa0prison\\t\\r \\xa0\\n\\ndeveloper\\t\\r \\xa0for\\t\\r \\xa0sending\\t\\r \\xa0youth\\t\\r \\xa0to\\t\\r \\xa0this\\t\\r \\xa0private\\t\\r \\xa0facility\\t\\r \\xa0for\\t\\r \\xa0excessive\\t\\r \\xa0periods\\t\\r \\xa0of\\t\\r \\xa0timeresulted\\t\\r \\xa0\\n\\nin\\t\\r \\xa0organizations\\t\\r \\xa0and\\t\\r \\xa0communities\\t\\r \\xa0mobilizing\\t\\r \\xa0around\\t\\r \\xa0the\\t\\r \\xa0issue\\t\\r \\xa0of\\t\\r \\xa0prison\\t\\r \\xa0privatization\\t\\r \\xa0\\n\\n(Urbina,\\t\\r \\xa02009).\\t\\r \\xa0In\\t\\r \\xa0Germany,\\t\\r \\xa0the\\t\\r \\xa02006\\t\\r \\xa0death\\t\\r \\xa0of\\t\\r \\xa0Hermann\\t\\r \\xa0H.,\\t\\r \\xa0a\\t\\r \\xa0youth\\t\\r \\xa0who\\t\\r \\xa0was\\t\\r \\xa0tortured,\\t\\r \\xa0\\n\\nsexually\\t\\r \\xa0assaulted,\\t\\r \\xa0and\\t\\r \\xa0forced\\t\\r \\xa0to\\t\\r \\xa0hang\\t\\r \\xa0himself\\t\\r \\xa0by\\t\\r \\xa0his\\t\\r \\xa0three\\t\\r \\xa0cellmates,\\t\\r \\xa0brought\\t\\r \\xa0national\\t\\r \\xa0\\n\\nattention\\t\\r \\xa0to\\t\\r \\xa0the\\t\\r \\xa0issue\\t\\r \\xa0of\\t\\r \\xa0youth\\t\\r \\xa0incarceration\\t\\r \\xa0and\\t\\r \\xa0prompted\\t\\r \\xa0reforms\\t\\r \\xa0by\\t\\r \\xa0the\\t\\r \\xa0Justice\\t\\r \\xa0\\n\\nMinistry\\t\\r \\xa0(Boeticher\\t\\r \\xa0&\\t\\r \\xa0Feest,\\t\\r \\xa02008;\\t\\r \\xa0Abramsohn,\\t\\r \\xa02006).\\t\\r \\xa0\\n\\n\\t\\r \\xa0\\n\\nB.\\t\\r \\xa0YOUTH\\t\\r \\xa0INCARCERATION\\t\\r \\xa0IN\\t\\r \\xa0SOCIETY\\t\\r \\xa0\\n\\nYouth\\t\\r \\xa0prisons\\t\\r \\xa0are\\t\\r \\xa0longstanding\\t\\r \\xa0institutions\\t\\r \\xa0in\\t\\r \\xa0developed\\t\\r \\xa0countries,\\t\\r \\xa0with\\t\\r \\xa0the\\t\\r \\xa0first\\t\\r \\xa0\\n\\nfacility\\t\\r \\xa0on\\t\\r \\xa0record\\t\\r \\xa0established\\t\\r \\xa0in\\t\\r \\xa01825\\t\\r \\xa0in\\t\\r \\xa0New\\t\\r \\xa0York\\t\\r \\xa0(Fox,\\t\\r \\xa01970).\\t\\r \\xa0Prior\\t\\r \\xa0to\\t\\r \\xa0the\\t\\r \\xa0creation\\t\\r \\xa0of\\t\\r \\xa0\\n\\nseparate\\t\\r \\xa0youth\\t\\r \\xa0prisons,\\t\\r \\xa0young\\t\\r \\xa0people\\t\\r \\xa0were\\t\\r \\xa0treated\\t\\r \\xa0as\\t\\r \\xa0and\\t\\r \\xa0held\\t\\r \\xa0with\\t\\r \\xa0adults.\\t\\r \\xa0Juvenile\\t\\r \\xa0\\n\\ncourts\\t\\r \\xa0sentence\\t\\r \\xa0youth\\t\\r \\xa0to\\t\\r \\xa0prison\\t\\r \\xa0most\\t\\r \\xa0commonly\\t\\r \\xa0for\\t\\r \\xa0committing\\t\\r \\xa0crimes,\\t\\r \\xa0but\\t\\r \\xa0also\\t\\r \\xa0in\\t\\r \\xa0some\\t\\r \\xa0\\n\\n\\n\\n\\t\\r \\xa0 5\\t\\r \\xa0\\n\\ncountries\\t\\r \\xa0for\\t\\r \\xa0violations\\t\\r \\xa0of\\t\\r \\xa0probationor\\t\\r \\xa0failure\\t\\r \\xa0to\\t\\r \\xa0meet\\t\\r \\xa0court-\\xadordered\\t\\r \\xa0conditions\\t\\r \\xa0set\\t\\r \\xa0\\n\\nforth\\t\\r \\xa0in\\t\\r \\xa0their\\t\\r \\xa0release\\t\\r \\xa0agreementand\\t\\r \\xa0for\\t\\r \\xa0status\\t\\r \\xa0offenses,\\t\\r \\xa0which\\t\\r \\xa0are\\t\\r \\xa0acts\\t\\r \\xa0that\\t\\r \\xa0are\\t\\r \\xa0\\n\\nconsidered\\t\\r \\xa0criminal\\t\\r \\xa0only\\t\\r \\xa0when\\t\\r \\xa0committed\\t\\r \\xa0by\\t\\r \\xa0minors.\\t\\r \\xa0Lengths\\t\\r \\xa0of\\t\\r \\xa0stay\\t\\r \\xa0in\\t\\r \\xa0youth\\t\\r \\xa0prisons\\t\\r \\xa0\\n\\nvary\\t\\r \\xa0widely,\\t\\r \\xa0as\\t\\r \\xa0do\\t\\r \\xa0the\\t\\r \\xa0range\\t\\r \\xa0and\\t\\r \\xa0quality\\t\\r \\xa0of\\t\\r \\xa0services\\t\\r \\xa0available\\t\\r \\xa0to\\t\\r \\xa0youth\\t\\r \\xa0while\\t\\r \\xa0incarcerated\\t\\r \\xa0\\n\\nand\\t\\r \\xa0upon\\t\\r \\xa0re-\\xadentering\\t\\r \\xa0the\\t\\r \\xa0community.\\t\\r \\xa0\\t\\r \\xa0\\n\\nAt\\t\\r \\xa0the\\t\\r \\xa0most\\t\\r \\xa0basic\\t\\r \\xa0level,\\t\\r \\xa0the\\t\\r \\xa0function\\t\\r \\xa0of\\t\\r \\xa0youth\\t\\r \\xa0incarceration\\t\\r \\xa0is\\t\\r \\xa0to\\t\\r \\xa0remove\\t\\r \\xa0a\\t\\r \\xa0young\\t\\r \\xa0\\n\\nperson\\t\\r \\xa0from\\t\\r \\xa0society.\\t\\r \\xa0The\\t\\r \\xa0intention\\t\\r \\xa0behind\\t\\r \\xa0this\\t\\r \\xa0action\\t\\r \\xa0depends\\t\\r \\xa0on\\t\\r \\xa0the\\t\\r \\xa0context\\t\\r \\xa0of\\t\\r \\xa0the\\t\\r \\xa0\\n\\njuvenile\\t\\r \\xa0justice\\t\\r \\xa0system,\\t\\r \\xa0with\\t\\r \\xa0research\\t\\r \\xa0literature\\t\\r \\xa0identifying\\t\\r \\xa0two\\t\\r \\xa0central\\t\\r \\xa0models.\\t\\r \\xa0The\\t\\r \\xa0\\n\\nwelfare\\t\\r \\xa0model,\\t\\r \\xa0centered\\t\\r \\xa0on\\t\\r \\xa0protectionism\\t\\r \\xa0and\\t\\r \\xa0the\\t\\r \\xa0concept\\t\\r \\xa0of\\t\\r \\xa0parens\\t\\r \\xa0patriaethe\\t\\r \\xa0state\\t\\r \\xa0\\n\\nas\\t\\r \\xa0parentemphasizes\\t\\r \\xa0treatment\\t\\r \\xa0and\\t\\r \\xa0care\\t\\r \\xa0for\\t\\r \\xa0incarcerated\\t\\r \\xa0youth\\t\\r \\xa0(Alder\\t\\r \\xa0&\\t\\r \\xa0Wundersitz,\\t\\r \\xa0\\n\\n1994;\\t\\r \\xa0Hazel,\\t\\r \\xa02008).\\t\\r \\xa0The\\t\\r \\xa0basis\\t\\r \\xa0for\\t\\r \\xa0this\\t\\r \\xa0approach,\\t\\r \\xa0as\\t\\r \\xa0Alder\\t\\r \\xa0and\\t\\r \\xa0Wundersitz\\t\\r \\xa0(1994)\\t\\r \\xa0write,\\t\\r \\xa0is\\t\\r \\xa0\\n\\nthat\\t\\r \\xa0because\\t\\r \\xa0of\\t\\r \\xa0their\\t\\r \\xa0immaturity,\\t\\r \\xa0children\\t\\r \\xa0cannot\\t\\r \\xa0be\\t\\r \\xa0regarded\\t\\r \\xa0as\\t\\r \\xa0rational\\t\\r \\xa0or\\t\\r \\xa0self-\\xad\\t\\r \\xa0\\n\\ndetermining\\t\\r \\xa0agents,\\t\\r \\xa0but\\t\\r \\xa0rather\\t\\r \\xa0are\\t\\r \\xa0subject\\t\\r \\xa0to\\t\\r \\xa0and\\t\\r \\xa0are\\t\\r \\xa0the\\t\\r \\xa0product\\t\\r \\xa0of\\t\\r \\xa0the\\t\\r \\xa0environment\\t\\r \\xa0\\n\\nwithin\\t\\r \\xa0which\\t\\r \\xa0they\\t\\r \\xa0live.\\t\\r \\xa0Any\\t\\r \\xa0criminal\\t\\r \\xa0action\\t\\r \\xa0on\\t\\r \\xa0their\\t\\r \\xa0part\\t\\r \\xa0can\\t\\r \\xa0therefore\\t\\r \\xa0be\\t\\r \\xa0attributed\\t\\r \\xa0to\\t\\r \\xa0\\n\\ndysfunctional\\t\\r \\xa0elements\\t\\r \\xa0in\\t\\r \\xa0that\\t\\r \\xa0environment\\t\\r \\xa0(p.\\t\\r \\xa03).\\t\\r \\xa0In\\t\\r \\xa0contrast,\\t\\r \\xa0the\\t\\r \\xa0justice\\t\\r \\xa0model\\t\\r \\xa0focuses\\t\\r \\xa0\\n\\non\\t\\r \\xa0accountability,\\t\\r \\xa0punishment,\\t\\r \\xa0and\\t\\r \\xa0retribution\\t\\r \\xa0where\\t\\r \\xa0the\\t\\r \\xa0court\\t\\r \\xa0weighs\\t\\r \\xa0the\\t\\r \\xa0offense,\\t\\r \\xa0sets\\t\\r \\xa0a\\t\\r \\xa0\\n\\nsentence\\t\\r \\xa0proportional\\t\\r \\xa0to\\t\\r \\xa0the\\t\\r \\xa0crime,\\t\\r \\xa0and\\t\\r \\xa0the\\t\\r \\xa0youth\\t\\r \\xa0prison\\t\\r \\xa0delivers\\t\\r \\xa0this\\t\\r \\xa0punishment.\\t\\r \\xa0Alder\\t\\r \\xa0\\n\\nand\\t\\r \\xa0Wundersitz\\t\\r \\xa0(1994)\\t\\r \\xa0write\\t\\r \\xa0that\\t\\r \\xa0this\\t\\r \\xa0model\\t\\r \\xa0assumes\\t\\r \\xa0that\\t\\r \\xa0all\\t\\r \\xa0individuals\\t\\r \\xa0are\\t\\r \\xa0reasoning\\t\\r \\xa0\\n\\nagents\\t\\r \\xa0who\\t\\r \\xa0are\\t\\r \\xa0fully\\t\\r \\xa0responsible\\t\\r \\xa0for\\t\\r \\xa0their\\t\\r \\xa0actions\\t\\r \\xa0and\\t\\r \\xa0so\\t\\r \\xa0should\\t\\r \\xa0be\\t\\r \\xa0held\\t\\r \\xa0accountable\\t\\r \\xa0\\n\\nbefore\\t\\r \\xa0the\\t\\r \\xa0law\\t\\r \\xa0(p.\\t\\r \\xa03).\\t\\r \\xa0Additional\\t\\r \\xa0purposes\\t\\r \\xa0of\\t\\r \\xa0incarceration\\t\\r \\xa0of\\t\\r \\xa0note\\t\\r \\xa0discussed\\t\\r \\xa0by\\t\\r \\xa0\\n\\nMacKenzie\\t\\r \\xa0(2012)\\t\\r \\xa0include\\t\\r \\xa0deterrence,\\t\\r \\xa0incapacitation,\\t\\r \\xa0rehabilitation,\\t\\r \\xa0and\\t\\r \\xa0intervention.\\t\\r \\xa0\\t\\r \\xa0\\n\\n\\t\\r \\xa0\\n\\nC.\\t\\r \\xa0RESEARCH\\t\\r \\xa0QUESTION\\t\\r \\xa0&\\t\\r \\xa0HYPOTHESES\\t\\r \\xa0\\n\\nWhat\\t\\r \\xa0are\\t\\r \\xa0the\\t\\r \\xa0differences\\t\\r \\xa0in\\t\\r \\xa0youth\\t\\r \\xa0incarceration\\t\\r \\xa0in\\t\\r \\xa0disparate\\t\\r \\xa0welfare\\t\\r \\xa0state\\t\\r \\xa0\\n\\nregimes?\\t\\r \\xa0It\\t\\r \\xa0is\\t\\r \\xa0expected\\t\\r \\xa0that\\t\\r \\xa0differences\\t\\r \\xa0in\\t\\r \\xa0incarceration\\t\\r \\xa0policy\\t\\r \\xa0and\\t\\r \\xa0practices\\t\\r \\xa0will\\t\\r \\xa0exist\\t\\r \\xa0in\\t\\r \\xa0\\n\\nfive\\t\\r \\xa0primary\\t\\r \\xa0domains,\\t\\r \\xa0which\\t\\r \\xa0also\\t\\r \\xa0serve\\t\\r \\xa0as\\t\\r \\xa0the\\t\\r \\xa0categories\\t\\r \\xa0of\\t\\r \\xa0the\\t\\r \\xa0youth\\t\\r \\xa0incarceration\\t\\r \\xa0\\n\\ntypology.\\t\\r \\xa0The\\t\\r \\xa0following\\t\\r \\xa0hypotheses\\t\\r \\xa0will\\t\\r \\xa0be\\t\\r \\xa0tested:\\t\\r \\xa0\\t\\r \\xa0\\t\\r \\xa0\\n\\n\\n\\n\\t\\r \\xa0 6\\t\\r \\xa0\\n\\n H1:\\t\\r \\xa0PURPOSE\\t\\r \\xa0&\\t\\r \\xa0POSITIONING\\t\\r \\xa0OF\\t\\r \\xa0JUVENILE\\t\\r \\xa0JUSTICE\\t\\r \\xa0SYSTEM\\t\\r \\xa0(Domain\\t\\r \\xa01)\\t\\r \\xa0\\n\\nJuvenile\\t\\r \\xa0justice\\t\\r \\xa0systems\\t\\r \\xa0in\\t\\r \\xa0liberal\\t\\r \\xa0regimes\\t\\r \\xa0will\\t\\r \\xa0fall\\t\\r \\xa0under\\t\\r \\xa0the\\t\\r \\xa0purview\\t\\r \\xa0of\\t\\r \\xa0the\\t\\r \\xa0justice\\t\\r \\xa0\\n\\ndepartment\\t\\r \\xa0and\\t\\r \\xa0will\\t\\r \\xa0have\\t\\r \\xa0a\\t\\r \\xa0central\\t\\r \\xa0aim\\t\\r \\xa0of\\t\\r \\xa0punishment.\\t\\r \\xa0Conservative\\t\\r \\xa0regimes\\t\\r \\xa0will\\t\\r \\xa0\\n\\nfocus\\t\\r \\xa0on\\t\\r \\xa0rehabilitation\\t\\r \\xa0and\\t\\r \\xa0oversight\\t\\r \\xa0will\\t\\r \\xa0be\\t\\r \\xa0provided\\t\\r \\xa0by\\t\\r \\xa0both\\t\\r \\xa0justice\\t\\r \\xa0and\\t\\r \\xa0child\\t\\r \\xa0welfare\\t\\r \\xa0\\n\\nsystems.\\t\\r \\xa0Social\\t\\r \\xa0democratic\\t\\r \\xa0regimes\\t\\r \\xa0systems\\t\\r \\xa0will\\t\\r \\xa0be\\t\\r \\xa0within\\t\\r \\xa0a\\t\\r \\xa0child\\t\\r \\xa0welfare\\t\\r \\xa0department\\t\\r \\xa0\\n\\nand\\t\\r \\xa0will\\t\\r \\xa0center\\t\\r \\xa0on\\t\\r \\xa0the\\t\\r \\xa0care\\t\\r \\xa0and\\t\\r \\xa0rights\\t\\r \\xa0of\\t\\r \\xa0incarcerated\\t\\r \\xa0youth.\\t\\r \\xa0\\t\\r \\xa0\\n\\n H2:\\t\\r \\xa0USE\\t\\r \\xa0OF\\t\\r \\xa0YOUTH\\t\\r \\xa0INCARCERATION\\t\\r \\xa0(Domain\\t\\r \\xa02)\\t\\r \\xa0\\t\\r \\xa0\\n\\nLiberal\\t\\r \\xa0regimes\\t\\r \\xa0will\\t\\r \\xa0demonstrate\\t\\r \\xa0the\\t\\r \\xa0highest\\t\\r \\xa0youth\\t\\r \\xa0incarceration\\t\\r \\xa0rates\\t\\r \\xa0and\\t\\r \\xa0social\\t\\r \\xa0\\n\\ndemocratic\\t\\r \\xa0regimes\\t\\r \\xa0the\\t\\r \\xa0lowest,\\t\\r \\xa0with\\t\\r \\xa0conservative\\t\\r \\xa0regimes\\t\\r \\xa0between\\t\\r \\xa0the\\t\\r \\xa0two.\\t\\r \\xa0\\t\\r \\xa0\\n\\n H3:\\t\\r \\xa0COMPLIANCE\\t\\r \\xa0WITH\\t\\r \\xa0INTERNATIONAL\\t\\r \\xa0HUMAN\\t\\r \\xa0RIGHTS\\t\\r \\xa0(Domain\\t\\r \\xa03)\\t\\r \\xa0\\n\\nSocial\\t\\r \\xa0democratic\\t\\r \\xa0regimes\\t\\r \\xa0will\\t\\r \\xa0exhibit\\t\\r \\xa0the\\t\\r \\xa0highest\\t\\r \\xa0levels\\t\\r \\xa0of\\t\\r \\xa0compliance\\t\\r \\xa0with\\t\\r \\xa0\\n\\ninternational\\t\\r \\xa0human\\t\\r \\xa0rights\\t\\r \\xa0standards\\t\\r \\xa0regarding\\t\\r \\xa0youth\\t\\r \\xa0incarceration\\t\\r \\xa0followed\\t\\r \\xa0by\\t\\r \\xa0\\n\\nconservative\\t\\r \\xa0regimes.\\t\\r \\xa0Liberal\\t\\r \\xa0regimes\\t\\r \\xa0will\\t\\r \\xa0have\\t\\r \\xa0the\\t\\r \\xa0lowest\\t\\r \\xa0levels\\t\\r \\xa0of\\t\\r \\xa0compliance.\\t\\r \\xa0\\t\\r \\xa0\\n\\n H4:\\t\\r \\xa0EXTENT\\t\\r \\xa0OF\\t\\r \\xa0&\\t\\r \\xa0RECEPTIVENESS\\t\\r \\xa0TO\\t\\r \\xa0PRIVATIZATION\\t\\r \\xa0(Domain\\t\\r \\xa04)\\t\\r \\xa0\\n\\nLiberal\\t\\r \\xa0regimes\\t\\r \\xa0will\\t\\r \\xa0demonstrate\\t\\r \\xa0highest\\t\\r \\xa0privatization\\t\\r \\xa0receptiveness,\\t\\r \\xa0with\\t\\r \\xa0the\\t\\r \\xa0largest\\t\\r \\xa0\\n\\nproportion\\t\\r \\xa0of\\t\\r \\xa0privately\\t\\r \\xa0owned\\t\\r \\xa0and\\t\\r \\xa0operated\\t\\r \\xa0youth\\t\\r \\xa0prisons.\\t\\r \\xa0Social\\t\\r \\xa0democratic\\t\\r \\xa0regimes\\t\\r \\xa0\\n\\nwill\\t\\r \\xa0demonstrate\\t\\r \\xa0the\\t\\r \\xa0lowest,\\t\\r \\xa0with\\t\\r \\xa0conservative\\t\\r \\xa0regimes\\t\\r \\xa0situated\\t\\r \\xa0between\\t\\r \\xa0the\\t\\r \\xa0two.\\t\\r \\xa0\\t\\r \\xa0\\n\\n H5.\\t\\r \\xa0DISPROPORTIONATE\\t\\r \\xa0INCARCERATION\\t\\r \\xa0OF\\t\\r \\xa0MARGINALIZED\\t\\r \\xa0GROUPS\\t\\r \\xa0(Domain\\t\\r \\xa05)\\t\\r \\xa0\\n\\nLiberal\\t\\r \\xa0regimes\\t\\r \\xa0will\\t\\r \\xa0have\\t\\r \\xa0the\\t\\r \\xa0highest\\t\\r \\xa0rates\\t\\r \\xa0of\\t\\r \\xa0disproportionate\\t\\r \\xa0racial\\t\\r \\xa0(in\\t\\r \\xa0the\\t\\r \\xa0United\\t\\r \\xa0\\n\\nStates)\\t\\r \\xa0or\\t\\r \\xa0nationality-\\xadbased\\t\\r \\xa0(in\\t\\r \\xa0Sweden\\t\\r \\xa0and\\t\\r \\xa0Germany)\\t\\r \\xa0representation\\t\\r \\xa0in\\t\\r \\xa0youth\\t\\r \\xa0prisons\\t\\r \\xa0\\n\\nand\\t\\r \\xa0social\\t\\r \\xa0democratic\\t\\r \\xa0regimes\\t\\r \\xa0the\\t\\r \\xa0least,\\t\\r \\xa0with\\t\\r \\xa0conservative\\t\\r \\xa0regimes\\t\\r \\xa0between\\t\\r \\xa0the\\t\\r \\xa0two.\\t\\r \\xa0\\n\\n\\t\\r \\xa0\\n\\nC.\\t\\r \\xa0RATIONALE\\t\\r \\xa0&\\t\\r \\xa0INTENTIONS\\t\\r \\xa0\\t\\r \\xa0\\n\\nPublic\\t\\r \\xa0dissatisfaction\\t\\r \\xa0with\\t\\r \\xa0the\\t\\r \\xa0administration\\t\\r \\xa0of\\t\\r \\xa0justice\\t\\r \\xa0coupled\\t\\r \\xa0with\\t\\r \\xa0recent\\t\\r \\xa0fiscal\\t\\r \\xa0\\n\\ncrises\\t\\r \\xa0are\\t\\r \\xa0compelling\\t\\r \\xa0policymakers\\t\\r \\xa0around\\t\\r \\xa0the\\t\\r \\xa0world\\t\\r \\xa0to\\t\\r \\xa0address\\t\\r \\xa0youth\\t\\r \\xa0incarceration.\\t\\r \\xa0This\\t\\r \\xa0\\n\\npaper\\t\\r \\xa0provides\\t\\r \\xa0two\\t\\r \\xa0main\\t\\r \\xa0contributions\\t\\r \\xa0to\\t\\r \\xa0the\\t\\r \\xa0discussion\\t\\r \\xa0on\\t\\r \\xa0youth\\t\\r \\xa0prison\\t\\r \\xa0reform\\t\\r \\xa0\\n\\ninternationally.\\t\\r \\xa0Given\\t\\r \\xa0the\\t\\r \\xa0increasing\\t\\r \\xa0complexity\\t\\r \\xa0of\\t\\r \\xa0juvenile\\t\\r \\xa0justice\\t\\r \\xa0systems,\\t\\r \\xa0this\\t\\r \\xa0paper\\t\\r \\xa0has\\t\\r \\xa0\\n\\ndeveloped\\t\\r \\xa0a\\t\\r \\xa0multi-\\xaddimensional\\t\\r \\xa0typology\\t\\r \\xa0focused\\t\\r \\xa0on\\t\\r \\xa0youth\\t\\r \\xa0incarceration,\\t\\r \\xa0which\\t\\r \\xa0includes\\t\\r \\xa0\\n\\n\\n\\n\\t\\r \\xa0 7\\t\\r \\xa0\\n\\nconsideration\\t\\r \\xa0not\\t\\r \\xa0only\\t\\r \\xa0of\\t\\r \\xa0the\\t\\r \\xa0aims\\t\\r \\xa0of\\t\\r \\xa0the\\t\\r \\xa0system,\\t\\r \\xa0but\\t\\r \\xa0also\\t\\r \\xa0youth\\t\\r \\xa0incarceration\\t\\r \\xa0rates,\\t\\r \\xa0\\n\\ncompliance\\t\\r \\xa0with\\t\\r \\xa0human\\t\\r \\xa0rights\\t\\r \\xa0resolutions,\\t\\r \\xa0and\\t\\r \\xa0receptiveness\\t\\r \\xa0to\\t\\r \\xa0privatization.\\t\\r \\xa0\\n\\nAdditionally,\\t\\r \\xa0this\\t\\r \\xa0paper\\t\\r \\xa0places\\t\\r \\xa0the\\t\\r \\xa0practice\\t\\r \\xa0of\\t\\r \\xa0incarceration\\t\\r \\xa0within\\t\\r \\xa0the\\t\\r \\xa0context\\t\\r \\xa0of\\t\\r \\xa0the\\t\\r \\xa0\\n\\nwelfare\\t\\r \\xa0state\\t\\r \\xa0and\\t\\r \\xa0explores\\t\\r \\xa0relationships\\t\\r \\xa0and\\t\\r \\xa0interactions\\t\\r \\xa0between\\t\\r \\xa0a\\t\\r \\xa0nations\\t\\r \\xa0regime\\t\\r \\xa0type\\t\\r \\xa0\\n\\nand\\t\\r \\xa0its\\t\\r \\xa0juvenile\\t\\r \\xa0justice\\t\\r \\xa0system.\\t\\r \\xa0\\n\\nThis\\t\\r \\xa0paper\\t\\r \\xa0will\\t\\r \\xa0first\\t\\r \\xa0provide\\t\\r \\xa0an\\t\\r \\xa0overview\\t\\r \\xa0of\\t\\r \\xa0research\\t\\r \\xa0processes\\t\\r \\xa0and\\t\\r \\xa0methods\\t\\r \\xa0\\n\\nemployed,\\t\\r \\xa0followed\\t\\r \\xa0by\\t\\r \\xa0a\\t\\r \\xa0synthesis\\t\\r \\xa0of\\t\\r \\xa0the\\t\\r \\xa0welfare\\t\\r \\xa0state\\t\\r \\xa0and\\t\\r \\xa0justice\\t\\r \\xa0system\\t\\r \\xa0typology\\t\\r \\xa0\\n\\nliterature.\\t\\r \\xa0In\\t\\r \\xa0the\\t\\r \\xa0analysis\\t\\r \\xa0section,\\t\\r \\xa0after\\t\\r \\xa0providing\\t\\r \\xa0a\\t\\r \\xa0brief\\t\\r \\xa0overview\\t\\r \\xa0of\\t\\r \\xa0each\\t\\r \\xa0nation\\t\\r \\xa0of\\t\\r \\xa0\\n\\ninterests\\t\\r \\xa0juvenile\\t\\r \\xa0justice\\t\\r \\xa0system,\\t\\r \\xa0the\\t\\r \\xa0three\\t\\r \\xa0countries\\t\\r \\xa0will\\t\\r \\xa0be\\t\\r \\xa0compared\\t\\r \\xa0across\\t\\r \\xa0five\\t\\r \\xa0core\\t\\r \\xa0\\n\\nissue\\t\\r \\xa0areas\\t\\r \\xa0aligned\\t\\r \\xa0with\\t\\r \\xa0the\\t\\r \\xa0hypotheses\\t\\r \\xa0posited\\t\\r \\xa0above.\\t\\r \\xa0Using\\t\\r \\xa0these\\t\\r \\xa0findings,\\t\\r \\xa0a\\t\\r \\xa0juvenile\\t\\r \\xa0\\n\\njustice\\t\\r \\xa0typology\\t\\r \\xa0will\\t\\r \\xa0then\\t\\r \\xa0be\\t\\r \\xa0created.\\t\\r \\xa0A\\t\\r \\xa0discussion\\t\\r \\xa0of\\t\\r \\xa0the\\t\\r \\xa0relationship\\t\\r \\xa0between\\t\\r \\xa0welfare\\t\\r \\xa0\\n\\nstate\\t\\r \\xa0regime\\t\\r \\xa0types\\t\\r \\xa0and\\t\\r \\xa0youth\\t\\r \\xa0incarceration\\t\\r \\xa0will\\t\\r \\xa0follow,\\t\\r \\xa0concluding\\t\\r \\xa0with\\t\\r \\xa0a\\t\\r \\xa0summary\\t\\r \\xa0of\\t\\r \\xa0\\n\\nresults\\t\\r \\xa0and\\t\\r \\xa0recommendations\\t\\r \\xa0for\\t\\r \\xa0future\\t\\r \\xa0action\\t\\r \\xa0to\\t\\r \\xa0the\\t\\r \\xa0research,\\t\\r \\xa0policy,\\t\\r \\xa0and\\t\\r \\xa0practitioner\\t\\r \\xa0\\n\\ncommunities.\\t\\r \\xa0\\t\\r \\xa0\\n\\n\\t\\r \\xa0\\n\\nIII.\\t\\r \\xa0RESEARCH\\t\\r \\xa0DESIGN\\t\\r \\xa0\\n\\nThis\\t\\r \\xa0international\\t\\r \\xa0comparison\\t\\r \\xa0of\\t\\r \\xa0youth\\t\\r \\xa0incarceration\\t\\r \\xa0across\\t\\r \\xa0three\\t\\r \\xa0nations\\t\\r \\xa0\\n\\nrepresenting\\t\\r \\xa0disparate\\t\\r \\xa0welfare\\t\\r \\xa0state\\t\\r \\xa0regimes\\t\\r \\xa0employs\\t\\r \\xa0mixed\\t\\r \\xa0methods\\t\\r \\xa0research,\\t\\r \\xa0using\\t\\r \\xa0an\\t\\r \\xa0\\n\\napproach\\t\\r \\xa0that\\t\\r \\xa0is\\t\\r \\xa0both\\t\\r \\xa0quantitatively\\t\\r \\xa0and\\t\\r \\xa0qualitatively\\t\\r \\xa0driven.\\t\\r \\xa0The\\t\\r \\xa0four\\t\\r \\xa0phases\\t\\r \\xa0of\\t\\r \\xa0the\\t\\r \\xa0\\n\\nresearch\\t\\r \\xa0process,\\t\\r \\xa0detailed\\t\\r \\xa0in\\t\\r \\xa0Figure\\t\\r \\xa01,\\t\\r \\xa0include\\t\\r \\xa0preliminary\\t\\r \\xa0analysis,\\t\\r \\xa0definition\\t\\r \\xa0of\\t\\r \\xa0scope,\\t\\r \\xa0\\n\\ndata\\t\\r \\xa0analysis\\t\\r \\xa0and\\t\\r \\xa0country\\t\\r \\xa0comparison,\\t\\r \\xa0and\\t\\r \\xa0synthesis\\t\\r \\xa0of\\t\\r \\xa0findings.\\t\\r \\xa0\\t\\r \\xa0\\n\\n\\t\\r \\xa0\\n\\n\\t\\r \\xa0\\n\\n\\t\\r \\xa0\\n\\n\\t\\r \\xa0\\n\\n\\t\\r \\xa0\\n\\n\\t\\r \\xa0\\n\\n\\t\\r \\xa0\\n\\n\\n\\n\\t\\r \\xa0 8\\t\\r \\xa0\\n\\nFigure\\t\\r \\xa01.\\t\\r \\xa0Research\\t\\r \\xa0Process\\t\\r \\xa0\\n\\n\\t\\r \\xa0\\n\\n\\t\\r \\xa0\\n\\nA.\\t\\r \\xa0PRELIMINARY\\t\\r \\xa0ANALYSIS\\t\\r \\xa0 \\t\\r \\xa0\\n\\n1.\\t\\r \\xa0Literature\\t\\r \\xa0Review\\t\\r \\xa0\\n\\nFour\\t\\r \\xa0central\\t\\r \\xa0strains\\t\\r \\xa0of\\t\\r \\xa0literature\\t\\r \\xa0were\\t\\r \\xa0consulted\\t\\r \\xa0in\\t\\r \\xa0the\\t\\r \\xa0preliminary\\t\\r \\xa0analysis\\t\\r \\xa0phase\\t\\r \\xa0\\n\\nincluding\\t\\r \\xa0welfare\\t\\r \\xa0state\\t\\r \\xa0regime\\t\\r \\xa0theory;\\t\\r \\xa0incarceration,\\t\\r \\xa0social\\t\\r \\xa0control,\\t\\r \\xa0and\\t\\r \\xa0corrections\\t\\r \\xa0\\n\\ntheory;\\t\\r \\xa0public\\t\\r \\xa0sector\\t\\r \\xa0and\\t\\r \\xa0justice\\t\\r \\xa0system\\t\\r \\xa0typologies;\\t\\r \\xa0and\\t\\r \\xa0international\\t\\r \\xa0comparisons\\t\\r \\xa0of\\t\\r \\xa0\\n\\njustice\\t\\r \\xa0systems.\\t\\r \\xa0Particular\\t\\r \\xa0focus\\t\\r \\xa0was\\t\\r \\xa0given\\t\\r \\xa0to\\t\\r \\xa0the\\t\\r \\xa0three\\t\\r \\xa0countries\\t\\r \\xa0of\\t\\r \\xa0interest.\\t\\r \\xa0A\\t\\r \\xa0review\\t\\r \\xa0of\\t\\r \\xa0\\n\\n84\\t\\r \\xa0articles\\t\\r \\xa0resulted\\t\\r \\xa0in\\t\\r \\xa0the\\t\\r \\xa0creation\\t\\r \\xa0of\\t\\r \\xa0a\\t\\r \\xa0literature\\t\\r \\xa0review\\t\\r \\xa0matrix,\\t\\r \\xa0synthesizing\\t\\r \\xa0the\\t\\r \\xa0central\\t\\r \\xa0\\n\\nthemes,\\t\\r \\xa0methods,\\t\\r \\xa0approaches,\\t\\r \\xa0and\\t\\r \\xa0findings\\t\\r \\xa0from\\t\\r \\xa0each\\t\\r \\xa0article.\\t\\r \\xa0This\\t\\r \\xa0literature\\t\\r \\xa0review\\t\\r \\xa0\\n\\ninformed\\t\\r \\xa0the\\t\\r \\xa0identification\\t\\r \\xa0of\\t\\r \\xa0the\\t\\r \\xa0most\\t\\r \\xa0relevant\\t\\r \\xa0justice\\t\\r \\xa0typology\\t\\r \\xa0research\\t\\r \\xa0and\\t\\r \\xa0informed\\t\\r \\xa0\\n\\nthe\\t\\r \\xa0selection\\t\\r \\xa0of\\t\\r \\xa0cases\\t\\r \\xa0and\\t\\r \\xa0domains.\\t\\r \\xa0\\t\\r \\xa0\\n\\n\\t\\r \\xa0\\n\\n\\t\\r \\xa0\\n\\nPreliminary \\nAnalysis\\n\\nCase Selection\\n\\nDomain \\nIdentification\\n\\nDefinition of Scope\\nData Analysis & \\n\\nCountry Comparison\\nSynthesis of \\n\\nFindings\\n\\nDomain 1: \\nPurpose and \\n\\nPositioning of Juvenile \\nJustice System\\n\\nDomain 4:\\nExtent of & \\n\\nReceptiveness to \\nPrivatization\\n\\nDomain 3: \\nCompliance with \\n\\nInternational Human \\nRights\\n\\nDomain 5: \\nDisproportionate \\nIncarceration of \\n\\nMarginalized Groups\\n\\nTypology \\nDevelopment\\n\\nWelfare \\nRegimes and \\n\\nYouth \\nIncarceration \\nRelationship\\n\\nLiterature Review\\nDomain 2: \\n\\nUse of Youth \\nIncarceration\\n\\n\\n\\n\\t\\r \\xa0 9\\t\\r \\xa0\\n\\nB.\\t\\r \\xa0DEFINITION\\t\\r \\xa0OF\\t\\r \\xa0SCOPE\\t\\r \\xa0\\n\\n1.\\t\\r \\xa0Case\\t\\r \\xa0Selection\\t\\r \\xa0\\n\\nThe\\t\\r \\xa0primary\\t\\r \\xa0cases\\t\\r \\xa0considered\\t\\r \\xa0in\\t\\r \\xa0this\\t\\r \\xa0paper,\\t\\r \\xa0that\\t\\r \\xa0of\\t\\r \\xa0Sweden,\\t\\r \\xa0Germany,\\t\\r \\xa0and\\t\\r \\xa0the\\t\\r \\xa0\\n\\nUnited\\t\\r \\xa0States,\\t\\r \\xa0were\\t\\r \\xa0selected\\t\\r \\xa0for\\t\\r \\xa0several\\t\\r \\xa0reasons.\\t\\r \\xa0While\\t\\r \\xa0acknowledging\\t\\r \\xa0that\\t\\r \\xa0there\\t\\r \\xa0are\\t\\r \\xa0no\\t\\r \\xa0\\n\\nnations\\t\\r \\xa0that\\t\\r \\xa0perfectly\\t\\r \\xa0meet\\t\\r \\xa0all\\t\\r \\xa0the\\t\\r \\xa0criteria\\t\\r \\xa0for\\t\\r \\xa0one\\t\\r \\xa0welfare\\t\\r \\xa0state\\t\\r \\xa0regime\\t\\r \\xa0ideal\\t\\r \\xa0type,\\t\\r \\xa0the\\t\\r \\xa0\\n\\nselected\\t\\r \\xa0nations\\t\\r \\xa0serve\\t\\r \\xa0as\\t\\r \\xa0an\\t\\r \\xa0approximate\\t\\r \\xa0representation\\t\\r \\xa0of\\t\\r \\xa0each\\t\\r \\xa0of\\t\\r \\xa0Esping-\\xadAndersens\\t\\r \\xa0\\n\\n(1990)\\t\\r \\xa0three\\t\\r \\xa0central\\t\\r \\xa0types.\\t\\r \\xa0Sweden,\\t\\r \\xa0Germany,\\t\\r \\xa0and\\t\\r \\xa0the\\t\\r \\xa0United\\t\\r \\xa0States\\t\\r \\xa0were\\t\\r \\xa0identified\\t\\r \\xa0as\\t\\r \\xa0\\n\\ndissimilar\\t\\r \\xa0nations\\t\\r \\xa0by\\t\\r \\xa0Esping-\\xadAndersen\\t\\r \\xa0(1990)\\t\\r \\xa0and\\t\\r \\xa0were\\t\\r \\xa0used\\t\\r \\xa0in\\t\\r \\xa0his\\t\\r \\xa0analyses\\t\\r \\xa0as\\t\\r \\xa0archetypes\\t\\r \\xa0\\n\\nfor\\t\\r \\xa0each\\t\\r \\xa0of\\t\\r \\xa0the\\t\\r \\xa0three\\t\\r \\xa0core\\t\\r \\xa0regimes\\t\\r \\xa0identified.\\t\\r \\xa0The\\t\\r \\xa0identification\\t\\r \\xa0of\\t\\r \\xa0these\\t\\r \\xa0three\\t\\r \\xa0countries\\t\\r \\xa0\\n\\nas\\t\\r \\xa0prime\\t\\r \\xa0examples\\t\\r \\xa0is\\t\\r \\xa0confirmed\\t\\r \\xa0by\\t\\r \\xa0Ebbinghaus\\t\\r \\xa0(2012),\\t\\r \\xa0who\\t\\r \\xa0also\\t\\r \\xa0refers\\t\\r \\xa0to\\t\\r \\xa0them\\t\\r \\xa0as\\t\\r \\xa0\\n\\nplaceholders\\t\\r \\xa0for\\t\\r \\xa0the\\t\\r \\xa0three\\t\\r \\xa0ideal\\t\\r \\xa0types\\t\\r \\xa0(p.\\t\\r \\xa06).\\t\\r \\xa0\\t\\r \\xa0\\n\\n\\t\\r \\xa0\\n\\n2.\\t\\r \\xa0Domain\\t\\r \\xa0Identification\\t\\r \\xa0\\n\\nThe\\t\\r \\xa0literature\\t\\r \\xa0review\\t\\r \\xa0conducted\\t\\r \\xa0in\\t\\r \\xa0the\\t\\r \\xa0preliminary\\t\\r \\xa0analysis\\t\\r \\xa0led\\t\\r \\xa0to\\t\\r \\xa0the\\t\\r \\xa0\\n\\nidentification\\t\\r \\xa0of\\t\\r \\xa0the\\t\\r \\xa0five\\t\\r \\xa0hypotheses\\t\\r \\xa0and\\t\\r \\xa0potential\\t\\r \\xa0domains.\\t\\r \\xa0Developing\\t\\r \\xa0the\\t\\r \\xa0five\\t\\r \\xa0\\n\\nprospective\\t\\r \\xa0domains\\t\\r \\xa0began\\t\\r \\xa0with\\t\\r \\xa0the\\t\\r \\xa0compilation\\t\\r \\xa0of\\t\\r \\xa0all\\t\\r \\xa0justice\\t\\r \\xa0system\\t\\r \\xa0typology\\t\\r \\xa0domains\\t\\r \\xa0\\n\\npreviously\\t\\r \\xa0created\\t\\r \\xa0by\\t\\r \\xa0researchers,\\t\\r \\xa0a\\t\\r \\xa0condensed\\t\\r \\xa0version\\t\\r \\xa0of\\t\\r \\xa0which\\t\\r \\xa0is\\t\\r \\xa0presented\\t\\r \\xa0in\\t\\r \\xa0Table\\t\\r \\xa01.\\t\\r \\xa0\\n\\nTo\\t\\r \\xa0bolster\\t\\r \\xa0this,\\t\\r \\xa0international\\t\\r \\xa0juvenile\\t\\r \\xa0justice\\t\\r \\xa0comparisons\\t\\r \\xa0that\\t\\r \\xa0did\\t\\r \\xa0not\\t\\r \\xa0make\\t\\r \\xa0use\\t\\r \\xa0of\\t\\r \\xa0\\n\\ntypologies\\t\\r \\xa0were\\t\\r \\xa0also\\t\\r \\xa0consulted\\t\\r \\xa0to\\t\\r \\xa0identify\\t\\r \\xa0the\\t\\r \\xa0core\\t\\r \\xa0system\\t\\r \\xa0elements\\t\\r \\xa0that\\t\\r \\xa0researchers\\t\\r \\xa0took\\t\\r \\xa0\\n\\ninto\\t\\r \\xa0account\\t\\r \\xa0in\\t\\r \\xa0their\\t\\r \\xa0analyses.\\t\\r \\xa0From\\t\\r \\xa0this\\t\\r \\xa0research,\\t\\r \\xa0a\\t\\r \\xa0total\\t\\r \\xa0of\\t\\r \\xa016\\t\\r \\xa0possible\\t\\r \\xa0domains\\t\\r \\xa0related\\t\\r \\xa0\\n\\nto\\t\\r \\xa0youth\\t\\r \\xa0incarceration\\t\\r \\xa0were\\t\\r \\xa0identified.\\t\\r \\xa0These\\t\\r \\xa0include\\t\\r \\xa0the\\t\\r \\xa0five\\t\\r \\xa0central\\t\\r \\xa0domains\\t\\r \\xa0examined\\t\\r \\xa0\\n\\nin\\t\\r \\xa0this\\t\\r \\xa0paper\\t\\r \\xa0as\\t\\r \\xa0well\\t\\r \\xa0as\\t\\r \\xa0the\\t\\r \\xa0following:\\t\\r \\xa0alternatives\\t\\r \\xa0to\\t\\r \\xa0detention,\\t\\r \\xa0recidivism\\t\\r \\xa0rates,\\t\\r \\xa0average\\t\\r \\xa0\\n\\nlength\\t\\r \\xa0of\\t\\r \\xa0stay,\\t\\r \\xa0transfer\\t\\r \\xa0of\\t\\r \\xa0youth\\t\\r \\xa0to\\t\\r \\xa0adult\\t\\r \\xa0system,\\t\\r \\xa0existence\\t\\r \\xa0of\\t\\r \\xa0juvenile\\t\\r \\xa0life\\t\\r \\xa0without\\t\\r \\xa0parole,\\t\\r \\xa0\\n\\nages\\t\\r \\xa0of\\t\\r \\xa0youth\\t\\r \\xa0under\\t\\r \\xa0juvenile\\t\\r \\xa0jurisdiction,\\t\\r \\xa0proportion\\t\\r \\xa0of\\t\\r \\xa0juvenile\\t\\r \\xa0justice\\t\\r \\xa0budget\\t\\r \\xa0spent\\t\\r \\xa0on\\t\\r \\xa0\\n\\nincarceration,\\t\\r \\xa0centralization\\t\\r \\xa0or\\t\\r \\xa0decentralization\\t\\r \\xa0of\\t\\r \\xa0system\\t\\r \\xa0oversight,\\t\\r \\xa0visitation\\t\\r \\xa0and\\t\\r \\xa0family\\t\\r \\xa0\\n\\nengagement\\t\\r \\xa0policies,\\t\\r \\xa0ombudsman\\t\\r \\xa0services,\\t\\r \\xa0youth\\t\\r \\xa0voice\\t\\r \\xa0or\\t\\r \\xa0leadership\\t\\r \\xa0opportunities\\t\\r \\xa0in\\t\\r \\xa0\\n\\nfacility.\\t\\r \\xa0The\\t\\r \\xa0five\\t\\r \\xa0core\\t\\r \\xa0domains\\t\\r \\xa0for\\t\\r \\xa0consideration\\t\\r \\xa0were\\t\\r \\xa0identified\\t\\r \\xa0based\\t\\r \\xa0on\\t\\r \\xa0their\\t\\r \\xa0indicative\\t\\r \\xa0\\n\\npower\\t\\r \\xa0of\\t\\r \\xa0system\\t\\r \\xa0type,\\t\\r \\xa0the\\t\\r \\xa0ability\\t\\r \\xa0of\\t\\r \\xa0these\\t\\r \\xa0five\\t\\r \\xa0to\\t\\r \\xa0capture\\t\\r \\xa0elements\\t\\r \\xa0in\\t\\r \\xa0several\\t\\r \\xa0other\\t\\r \\xa0of\\t\\r \\xa0the\\t\\r \\xa0\\n\\n\\n\\n\\t\\r \\xa0 10\\t\\r \\xa0\\n\\n16\\t\\r \\xa0possible\\t\\r \\xa0indicators,\\t\\r \\xa0the\\t\\r \\xa0relevance\\t\\r \\xa0or\\t\\r \\xa0timeliness\\t\\r \\xa0of\\t\\r \\xa0the\\t\\r \\xa0particular\\t\\r \\xa0domain,\\t\\r \\xa0the\\t\\r \\xa0frequency\\t\\r \\xa0\\n\\nat\\t\\r \\xa0which\\t\\r \\xa0the\\t\\r \\xa0literature\\t\\r \\xa0mentioned\\t\\r \\xa0this\\t\\r \\xa0domain,\\t\\r \\xa0and\\t\\r \\xa0the\\t\\r \\xa0availability\\t\\r \\xa0of\\t\\r \\xa0comparable\\t\\r \\xa0data.\\t\\r \\xa0\\t\\r \\xa0\\n\\n\\t\\r \\xa0\\n\\nC.\\t\\r \\xa0DATA\\t\\r \\xa0ANALYSIS\\t\\r \\xa0&\\t\\r \\xa0COUNTRY\\t\\r \\xa0COMPARISON\\t\\r \\xa0\\n\\n1.\\t\\r \\xa0Purpose\\t\\r \\xa0and\\t\\r \\xa0Positioning\\t\\r \\xa0of\\t\\r \\xa0Juvenile\\t\\r \\xa0Justice\\t\\r \\xa0System\\t\\r \\xa0(Domain\\t\\r \\xa01)\\t\\r \\xa0\\n\\n\\t\\r \\xa0 A\\t\\r \\xa0qualitative\\t\\r \\xa0text\\t\\r \\xa0analysis\\t\\r \\xa0was\\t\\r \\xa0conducted\\t\\r \\xa0to\\t\\r \\xa0identify\\t\\r \\xa0both\\t\\r \\xa0the\\t\\r \\xa0purpose\\t\\r \\xa0and\\t\\r \\xa0\\n\\npositioning\\t\\r \\xa0of\\t\\r \\xa0each\\t\\r \\xa0countrys\\t\\r \\xa0juvenile\\t\\r \\xa0justice\\t\\r \\xa0system.\\t\\r \\xa0Sources\\t\\r \\xa0consulted\\t\\r \\xa0to\\t\\r \\xa0identify\\t\\r \\xa0the\\t\\r \\xa0\\n\\ncentral\\t\\r \\xa0aim\\t\\r \\xa0of\\t\\r \\xa0each\\t\\r \\xa0system\\t\\r \\xa0included\\t\\r \\xa0the\\t\\r \\xa0mission,\\t\\r \\xa0vision,\\t\\r \\xa0or\\t\\r \\xa0goal\\t\\r \\xa0statement\\t\\r \\xa0of\\t\\r \\xa0juvenile\\t\\r \\xa0\\n\\njustice-\\xadfocused\\t\\r \\xa0agencies,\\t\\r \\xa0national\\t\\r \\xa0or\\t\\r \\xa0state\\t\\r \\xa0legislation\\t\\r \\xa0setting\\t\\r \\xa0forth\\t\\r \\xa0mandates\\t\\r \\xa0for\\t\\r \\xa0the\\t\\r \\xa0\\n\\ncentral\\t\\r \\xa0aim\\t\\r \\xa0or\\t\\r \\xa0purpose\\t\\r \\xa0of\\t\\r \\xa0the\\t\\r \\xa0system,\\t\\r \\xa0and,\\t\\r \\xa0to\\t\\r \\xa0a\\t\\r \\xa0lesser\\t\\r \\xa0degree,\\t\\r \\xa0analyses\\t\\r \\xa0and\\t\\r \\xa0assessments\\t\\r \\xa0\\n\\nof\\t\\r \\xa0the\\t\\r \\xa0central\\t\\r \\xa0purpose\\t\\r \\xa0by\\t\\r \\xa0researchers.\\t\\r \\xa0All\\t\\r \\xa0of\\t\\r \\xa0the\\t\\r \\xa0expressed\\t\\r \\xa0aims\\t\\r \\xa0of\\t\\r \\xa0each\\t\\r \\xa0system\\t\\r \\xa0were\\t\\r \\xa0\\n\\ncompiled\\t\\r \\xa0and\\t\\r \\xa0the\\t\\r \\xa0most\\t\\r \\xa0frequent\\t\\r \\xa0word\\t\\r \\xa0or\\t\\r \\xa0theme\\t\\r \\xa0was\\t\\r \\xa0selected\\t\\r \\xa0as\\t\\r \\xa0the\\t\\r \\xa0central\\t\\r \\xa0aim.\\t\\r \\xa0The\\t\\r \\xa0\\n\\npositioning\\t\\r \\xa0of\\t\\r \\xa0juvenile\\t\\r \\xa0justice\\t\\r \\xa0was\\t\\r \\xa0determined\\t\\r \\xa0by\\t\\r \\xa0consulting\\t\\r \\xa0organizational\\t\\r \\xa0charts,\\t\\r \\xa0\\n\\ngovernment\\t\\r \\xa0directories,\\t\\r \\xa0and\\t\\r \\xa0legislation\\t\\r \\xa0in\\t\\r \\xa0each\\t\\r \\xa0country\\t\\r \\xa0to\\t\\r \\xa0identify\\t\\r \\xa0which\\t\\r \\xa0agency\\t\\r \\xa0\\n\\nmaintains\\t\\r \\xa0oversight.\\t\\r \\xa0\\t\\r \\xa0\\n\\n\\t\\r \\xa0\\n\\n2.\\t\\r \\xa0Use\\t\\r \\xa0of\\t\\r \\xa0Youth\\t\\r \\xa0Incarceration\\t\\r \\xa0(Domain\\t\\r \\xa02)\\t\\r \\xa0\\n\\nTo\\t\\r \\xa0identify\\t\\r \\xa0differences\\t\\r \\xa0in\\t\\r \\xa0youth\\t\\r \\xa0incarceration\\t\\r \\xa0rates\\t\\r \\xa0between\\t\\r \\xa0the\\t\\r \\xa0three\\t\\r \\xa0nations\\t\\r \\xa0of\\t\\r \\xa0\\n\\ninterest,\\t\\r \\xa0quantitative\\t\\r \\xa0data\\t\\r \\xa0was\\t\\r \\xa0triangulated\\t\\r \\xa0and\\t\\r \\xa0analyzed.\\t\\r \\xa0Available\\t\\r \\xa0data\\t\\r \\xa0included\\t\\r \\xa0the\\t\\r \\xa0\\n\\nnumber\\t\\r \\xa0of\\t\\r \\xa0youth\\t\\r \\xa0incarcerateda\\t\\r \\xa0stock\\t\\r \\xa0variable\\t\\r \\xa0from\\t\\r \\xa0a\\t\\r \\xa0point-\\xadin-\\xadtime\\t\\r \\xa0count\\t\\r \\xa0in\\t\\r \\xa0each\\t\\r \\xa0\\n\\ncountryand\\t\\r \\xa0the\\t\\r \\xa0total\\t\\r \\xa0number\\t\\r \\xa0of\\t\\r \\xa0youth\\t\\r \\xa0in\\t\\r \\xa0each\\t\\r \\xa0countrys\\t\\r \\xa0population\\t\\r \\xa0in\\t\\r \\xa0the\\t\\r \\xa0same\\t\\r \\xa0age\\t\\r \\xa0\\n\\nrange\\t\\r \\xa0and\\t\\r \\xa0year.\\t\\r \\xa0For\\t\\r \\xa0Sweden\\t\\r \\xa0and\\t\\r \\xa0Germany,\\t\\r \\xa0incarceration\\t\\r \\xa0data\\t\\r \\xa0was\\t\\r \\xa0from\\t\\r \\xa0the\\t\\r \\xa0European\\t\\r \\xa0\\n\\nSourcebook\\t\\r \\xa0of\\t\\r \\xa0Crime\\t\\r \\xa0and\\t\\r \\xa0Criminal\\t\\r \\xa0Justice\\t\\r \\xa0Statistics\\t\\r \\xa0(Aebi\\t\\r \\xa0et\\t\\r \\xa0al.,\\t\\r \\xa02010)\\t\\r \\xa0and\\t\\r \\xa0population\\t\\r \\xa0data\\t\\r \\xa0\\n\\nfrom\\t\\r \\xa0Eurostat\\t\\r \\xa0(teinbuka\\t\\r \\xa0&\\t\\r \\xa0Mercy,\\t\\r \\xa02009).\\t\\r \\xa0For\\t\\r \\xa0the\\t\\r \\xa0United\\t\\r \\xa0States,\\t\\r \\xa0national\\t\\r \\xa0justice\\t\\r \\xa0\\n\\ndepartment\\t\\r \\xa0and\\t\\r \\xa0census\\t\\r \\xa0bureau\\t\\r \\xa0data\\t\\r \\xa0were\\t\\r \\xa0used.\\t\\r \\xa0Using\\t\\r \\xa0this\\t\\r \\xa0data,\\t\\r \\xa0the\\t\\r \\xa0rate\\t\\r \\xa0of\\t\\r \\xa0youth\\t\\r \\xa0\\n\\nincarceration\\t\\r \\xa0per\\t\\r \\xa0100,000\\t\\r \\xa0youth\\t\\r \\xa0in\\t\\r \\xa0the\\t\\r \\xa0population\\t\\r \\xa0was\\t\\r \\xa0calculated,\\t\\r \\xa0countries\\t\\r \\xa0were\\t\\r \\xa0rank\\t\\r \\xa0\\n\\nordered\\t\\r \\xa0by\\t\\r \\xa0their\\t\\r \\xa0rate,\\t\\r \\xa0and\\t\\r \\xa0the\\t\\r \\xa0range,\\t\\r \\xa0mean,\\t\\r \\xa0and\\t\\r \\xa0median\\t\\r \\xa0were\\t\\r \\xa0determined\\t\\r \\xa0to\\t\\r \\xa0facilitate\\t\\r \\xa0\\n\\ncomparison.\\t\\r \\xa0\\t\\r \\xa0\\n\\n\\n\\n\\t\\r \\xa0 11\\t\\r \\xa0\\n\\nA\\t\\r \\xa0further\\t\\r \\xa0quantitative\\t\\r \\xa0analysis\\t\\r \\xa0and\\t\\r \\xa0data\\t\\r \\xa0triangulation\\t\\r \\xa0was\\t\\r \\xa0conducted\\t\\r \\xa0to\\t\\r \\xa0account\\t\\r \\xa0\\n\\nfor\\t\\r \\xa0differing\\t\\r \\xa0youth\\t\\r \\xa0arrest\\t\\r \\xa0rates\\t\\r \\xa0in\\t\\r \\xa0each\\t\\r \\xa0country,\\t\\r \\xa0comparing\\t\\r \\xa0the\\t\\r \\xa0percentage\\t\\r \\xa0of\\t\\r \\xa0arrested\\t\\r \\xa0\\n\\nyouth\\t\\r \\xa0to\\t\\r \\xa0those\\t\\r \\xa0who\\t\\r \\xa0are\\t\\r \\xa0incarcerated.\\t\\r \\xa0Arrest\\t\\r \\xa0data\\t\\r \\xa0in\\t\\r \\xa0Sweden\\t\\r \\xa0was\\t\\r \\xa0from\\t\\r \\xa0the\\t\\r \\xa0National\\t\\r \\xa0\\n\\nCouncil\\t\\r \\xa0for\\t\\r \\xa0Crime\\t\\r \\xa0Prevention,\\t\\r \\xa0in\\t\\r \\xa0the\\t\\r \\xa0United\\t\\r \\xa0States\\t\\r \\xa0from\\t\\r \\xa0the\\t\\r \\xa0Office\\t\\r \\xa0of\\t\\r \\xa0Juvenile\\t\\r \\xa0Justice\\t\\r \\xa0and\\t\\r \\xa0\\n\\nDelinquency\\t\\r \\xa0Prevention,\\t\\r \\xa0and\\t\\r \\xa0in\\t\\r \\xa0Germany\\t\\r \\xa0from\\t\\r \\xa0the\\t\\r \\xa0Federal\\t\\r \\xa0Criminal\\t\\r \\xa0Police\\t\\r \\xa0Office.\\t\\r \\xa0\\t\\r \\xa0\\t\\r \\xa0\\n\\n\\t\\r \\xa0\\n\\n3.\\t\\r \\xa0Compliance\\t\\r \\xa0with\\t\\r \\xa0International\\t\\r \\xa0Human\\t\\r \\xa0Rights\\t\\r \\xa0(Domain\\t\\r \\xa03)\\t\\r \\xa0\\n\\nTo\\t\\r \\xa0determine\\t\\r \\xa0the\\t\\r \\xa0degree\\t\\r \\xa0to\\t\\r \\xa0which\\t\\r \\xa0each\\t\\r \\xa0country\\t\\r \\xa0has\\t\\r \\xa0embraced\\t\\r \\xa0international\\t\\r \\xa0\\n\\nhuman\\t\\r \\xa0rights\\t\\r \\xa0standards\\t\\r \\xa0on\\t\\r \\xa0youth\\t\\r \\xa0incarceration,\\t\\r \\xa0four\\t\\r \\xa0resolutions\\t\\r \\xa0that\\t\\r \\xa0include\\t\\r \\xa0the\\t\\r \\xa0measure\\t\\r \\xa0\\n\\nof\\t\\r \\xa0last\\t\\r \\xa0resort\\t\\r \\xa0mandate\\t\\r \\xa0were\\t\\r \\xa0identified.\\t\\r \\xa0As\\t\\r \\xa0three\\t\\r \\xa0of\\t\\r \\xa0the\\t\\r \\xa0four\\t\\r \\xa0resolutions\\t\\r \\xa0are\\t\\r \\xa0soft\\t\\r \\xa0law,\\t\\r \\xa0\\n\\ncompliance\\t\\r \\xa0with\\t\\r \\xa0only\\t\\r \\xa0the\\t\\r \\xa0Convention\\t\\r \\xa0on\\t\\r \\xa0the\\t\\r \\xa0Rights\\t\\r \\xa0of\\t\\r \\xa0the\\t\\r \\xa0Child\\t\\r \\xa0was\\t\\r \\xa0assessed\\t\\r \\xa0through\\t\\r \\xa0\\n\\nqualitative\\t\\r \\xa0text\\t\\r \\xa0analysis.\\t\\r \\xa0Ratification\\t\\r \\xa0status\\t\\r \\xa0was\\t\\r \\xa0assessed\\t\\r \\xa0first;\\t\\r \\xa0for\\t\\r \\xa0the\\t\\r \\xa0two\\t\\r \\xa0countries\\t\\r \\xa0that\\t\\r \\xa0\\n\\ndid\\t\\r \\xa0ratify\\t\\r \\xa0the\\t\\r \\xa0Convention\\t\\r \\xa0on\\t\\r \\xa0the\\t\\r \\xa0Rights\\t\\r \\xa0of\\t\\r \\xa0the\\t\\r \\xa0Child,\\t\\r \\xa0the\\t\\r \\xa0extent\\t\\r \\xa0to\\t\\r \\xa0which\\t\\r \\xa0this\\t\\r \\xa0resolution\\t\\r \\xa0\\n\\nwas\\t\\r \\xa0integrated\\t\\r \\xa0into\\t\\r \\xa0government\\t\\r \\xa0systems\\t\\r \\xa0and\\t\\r \\xa0operations\\t\\r \\xa0through\\t\\r \\xa0national\\t\\r \\xa0laws,\\t\\r \\xa0offices,\\t\\r \\xa0\\n\\npolicies\\t\\r \\xa0and\\t\\r \\xa0plans\\t\\r \\xa0was\\t\\r \\xa0assessed.\\t\\r \\xa0Alignment\\t\\r \\xa0with\\t\\r \\xa0Convention\\t\\r \\xa0on\\t\\r \\xa0the\\t\\r \\xa0Rights\\t\\r \\xa0of\\t\\r \\xa0the\\t\\r \\xa0Child\\t\\r \\xa0\\n\\nprinciples\\t\\r \\xa0was\\t\\r \\xa0also\\t\\r \\xa0analyzed\\t\\r \\xa0through\\t\\r \\xa0a\\t\\r \\xa0review\\t\\r \\xa0of\\t\\r \\xa0Convention\\t\\r \\xa0on\\t\\r \\xa0the\\t\\r \\xa0Rights\\t\\r \\xa0of\\t\\r \\xa0the\\t\\r \\xa0Child\\t\\r \\xa0\\n\\nCommittee\\t\\r \\xa0Concluding\\t\\r \\xa0Observations\\t\\r \\xa0assessing\\t\\r \\xa0compliance\\t\\r \\xa0for\\t\\r \\xa0the\\t\\r \\xa0two\\t\\r \\xa0countries\\t\\r \\xa0that\\t\\r \\xa0\\n\\nratified\\t\\r \\xa0this\\t\\r \\xa0treaty.\\t\\r \\xa0\\t\\r \\xa0\\n\\n\\t\\r \\xa0\\n\\n4.\\t\\r \\xa0Extent\\t\\r \\xa0of\\t\\r \\xa0&\\t\\r \\xa0Receptiveness\\t\\r \\xa0to\\t\\r \\xa0Privatization\\t\\r \\xa0(Domain\\t\\r \\xa04)\\t\\r \\xa0\\n\\nQualitative\\t\\r \\xa0text\\t\\r \\xa0analysis\\t\\r \\xa0was\\t\\r \\xa0used\\t\\r \\xa0to\\t\\r \\xa0determine\\t\\r \\xa0a\\t\\r \\xa0countrys\\t\\r \\xa0receptiveness\\t\\r \\xa0toward\\t\\r \\xa0\\n\\nprivatization.\\t\\r \\xa0The\\t\\r \\xa0assessment\\t\\r \\xa0was\\t\\r \\xa0first\\t\\r \\xa0based\\t\\r \\xa0on\\t\\r \\xa0whether\\t\\r \\xa0any\\t\\r \\xa0private\\t\\r \\xa0prison\\t\\r \\xa0facilitiesfor\\t\\r \\xa0\\n\\nyouth,\\t\\r \\xa0adults,\\t\\r \\xa0or\\t\\r \\xa0'\n",
            "<class 'list'>\n"
          ],
          "name": "stdout"
        }
      ]
    },
    {
      "cell_type": "markdown",
      "metadata": {
        "id": "M0c_ftxjxY_H"
      },
      "source": [
        "## Importing what we need"
      ]
    },
    {
      "cell_type": "code",
      "metadata": {
        "id": "SZmTpQUov8y8"
      },
      "source": [
        "from contextualized_topic_models.models.ctm import CombinedTM\n",
        "from contextualized_topic_models.utils.data_preparation import bert_embeddings_from_list, TopicModelDataPreparation\n",
        "from contextualized_topic_models.datasets.dataset import CTMDataset\n",
        "from contextualized_topic_models.evaluation.measures import CoherenceNPMI, InvertedRBO\n",
        "from gensim.corpora.dictionary import Dictionary\n",
        "from gensim.test.utils import common_texts\n",
        "from gensim.models import ldamodel \n",
        "from contextualized_topic_models.utils.preprocessing import WhiteSpacePreprocessing\n",
        "import nltk\n",
        "import os\n",
        "import pickle"
      ],
      "execution_count": 8,
      "outputs": []
    },
    {
      "cell_type": "markdown",
      "metadata": {
        "id": "CQkeIrdWLU2m"
      },
      "source": [
        "## Preprocessing"
      ]
    },
    {
      "cell_type": "markdown",
      "metadata": {
        "id": "V-AM070Ez6lW"
      },
      "source": [
        "Let's pass our file with preprocess data to our text handler object. This object takes care of creating the bag of words for you.\n",
        "\n",
        "Why do we use the **preprocessed text** here? we need text without punctuation to build the bag of word. Also, we might want only to have the most frequent words inside the BoW. Too many words might not help."
      ]
    },
    {
      "cell_type": "code",
      "metadata": {
        "id": "HoKrSIkxaNBt",
        "colab": {
          "base_uri": "https://localhost:8080/"
        },
        "outputId": "e9cbca9b-0d7c-445e-95a3-764b79928635"
      },
      "source": [
        "nltk.download('stopwords')\n",
        "\n",
        "documents = train_file\n",
        "#documents = [line.strip() for line in open(text_file, encoding=\"utf-8\").readlines()]\n",
        "sp = WhiteSpacePreprocessing(documents, \"english\")\n",
        "train_preprocessed_documents_for_bow, train_unpreprocessed_corpus_for_contextual, vocab = sp.preprocess()"
      ],
      "execution_count": 11,
      "outputs": [
        {
          "output_type": "stream",
          "text": [
            "[nltk_data] Downloading package stopwords to /root/nltk_data...\n",
            "[nltk_data]   Package stopwords is already up-to-date!\n"
          ],
          "name": "stdout"
        }
      ]
    },
    {
      "cell_type": "code",
      "metadata": {
        "id": "dhUjirOKu2dj"
      },
      "source": [
        "documents = test_file\n",
        "#documents = [line.strip() for line in open(text_file, encoding=\"utf-8\").readlines()]\n",
        "sp = WhiteSpacePreprocessing(documents, \"english\")\n",
        "test_preprocessed_documents_for_bow, test_unpreprocessed_corpus_for_contextual, vocab = sp.preprocess()"
      ],
      "execution_count": 12,
      "outputs": []
    },
    {
      "cell_type": "markdown",
      "metadata": {
        "id": "vu0HY7KWGrk1"
      },
      "source": [
        "You might want to pickle the **training_dataset** object to avoid recomputing the BoW multiple times"
      ]
    },
    {
      "cell_type": "code",
      "metadata": {
        "id": "KhLt6VA3wvCB",
        "colab": {
          "base_uri": "https://localhost:8080/",
          "height": 66,
          "referenced_widgets": [
            "fcc3de8e4c134dfcabc999cc701f6a9c",
            "b2d0fe1da21b4e48972c4927b60c14b8",
            "87e9347a3098405ab688d3677f9ffdc4",
            "9dc197d25afc4088825e4f852f7a3345",
            "4ed6962bca5d4e9ca82d5d106f5e002f",
            "cea523ed52434abfb5983d285cc60bae",
            "d3a26ebd8101402c9a4479e327406ffd",
            "a35b3f94d8cd475caac53a02caac54e2",
            "c9014658fd244e669790421abb14f964",
            "cdac6480285a4ecd80cfbf59568129d8",
            "c2f9fa6df69b4fa2a0b0ff4a7de7fe1e"
          ]
        },
        "outputId": "73b5ed17-df12-4ea7-eb73-65cc386a686a"
      },
      "source": [
        "qt = TopicModelDataPreparation(\"bert-base-nli-mean-tokens\")\n",
        "\n",
        "training_dataset = qt.create_training_set(train_unpreprocessed_corpus_for_contextual, train_preprocessed_documents_for_bow)\n"
      ],
      "execution_count": 13,
      "outputs": [
        {
          "output_type": "stream",
          "text": [
            "100%|██████████| 405M/405M [00:10<00:00, 38.3MB/s]\n"
          ],
          "name": "stderr"
        },
        {
          "output_type": "display_data",
          "data": {
            "application/vnd.jupyter.widget-view+json": {
              "model_id": "fcc3de8e4c134dfcabc999cc701f6a9c",
              "version_minor": 0,
              "version_major": 2
            },
            "text/plain": [
              "Batches:   0%|          | 0/5 [00:00<?, ?it/s]"
            ]
          },
          "metadata": {
            "tags": []
          }
        }
      ]
    },
    {
      "cell_type": "markdown",
      "metadata": {
        "id": "i5agbVqhxdnY"
      },
      "source": [
        "## Training our Contextualized Topic Model\n",
        "\n",
        "Finally, we can fit our new topic model. We will ask the model to find 50 topics in our collection (n_component parameter of the CTM object)."
      ]
    },
    {
      "cell_type": "code",
      "metadata": {
        "id": "dALamw7HxLj-",
        "colab": {
          "base_uri": "https://localhost:8080/"
        },
        "outputId": "5a7135cc-3c6f-4a9d-b3fe-bf2007d5394c"
      },
      "source": [
        "ctm = CombinedTM(input_size=len(qt.vocab), bert_input_size=768, n_components=25, num_epochs=15)\n",
        "\n",
        "ctm.fit(training_dataset) "
      ],
      "execution_count": 14,
      "outputs": [
        {
          "output_type": "stream",
          "text": [
            "Epoch: [15/15]\t Seen Samples: [12150/12150]\tTrain Loss: 13186.887808641975\tTime: 0:00:00.483489: : 15it [00:07,  2.00it/s]\n"
          ],
          "name": "stderr"
        }
      ]
    },
    {
      "cell_type": "code",
      "metadata": {
        "colab": {
          "base_uri": "https://localhost:8080/"
        },
        "id": "o_gXYJNyvV7L",
        "outputId": "4728dcd0-800b-4fea-afed-daacd447e7e9"
      },
      "source": [
        "path = F\"/content/drive/MyDrive/ThesisAllocationSystem/models/ctm.bin\" \n",
        "ctm.save(path)"
      ],
      "execution_count": 19,
      "outputs": [
        {
          "output_type": "stream",
          "text": [
            "/usr/local/lib/python3.7/dist-packages/contextualized_topic_models/models/ctm.py:388: Warning: This is an experimental feature that we has not been fully tested. Refer to the following issue:https://github.com/MilaNLProc/contextualized-topic-models/issues/38\n",
            "  Warning)\n"
          ],
          "name": "stderr"
        }
      ]
    },
    {
      "cell_type": "markdown",
      "metadata": {
        "id": "-SEBG6wj9Zdu"
      },
      "source": [
        "# Topics\n",
        "\n",
        "After training, now it is the time to look at our topics: we can use the \n",
        "\n",
        "```\n",
        "get_topic_lists\n",
        "```\n",
        "\n",
        "function to get the topics. It also accepts a parameter that allows you to select how many words you want to see for each topic.\n",
        "\n",
        "If you look at the topics, you will see that they all make sense and are representative of a collection of documents that comes from Wikipedia (general knowledge)."
      ]
    },
    {
      "cell_type": "code",
      "metadata": {
        "id": "lxcKgjbx3V2o",
        "colab": {
          "base_uri": "https://localhost:8080/"
        },
        "outputId": "f96c1721-6e77-4e4a-8b59-ee2548711a0f"
      },
      "source": [
        "ctm.get_topic_lists(5)"
      ],
      "execution_count": 20,
      "outputs": [
        {
          "output_type": "execute_result",
          "data": {
            "text/plain": [
              "[['starting', 'equally', 'reach', 'perhaps', 'successful'],\n",
              " ['social', 'organizational', 'organizations', 'conflict', 'field'],\n",
              " ['economic', 'education', 'based', 'system', 'training'],\n",
              " ['firms', 'data', 'per', 'time', 'large'],\n",
              " ['making', 'actors', 'different', 'governance', 'nand'],\n",
              " ['germany', 'german', 'fertility', 'first', 'women'],\n",
              " ['gain', 'essential', 'nsome', 'class', 'define'],\n",
              " ['law', 'european', 'eds', 'rights', 'convention'],\n",
              " ['high', 'market', 'paper', 'different', 'nto'],\n",
              " ['economic', 'vote', 'price', 'energy', 'wind'],\n",
              " ['public', 'policy', 'administrative', 'political', 'government'],\n",
              " ['rights', 'human', 'law', 'eu', 'nthe'],\n",
              " ['political', 'government', 'governments', 'level', 'financial'],\n",
              " ['circumstances', 'allowing', 'forward', 'changing', 'refer'],\n",
              " ['data', 'results', 'time', 'using', 'used'],\n",
              " ['social', 'development', 'research', 'management', 'activities'],\n",
              " ['market', 'power', 'price', 'costs', 'energy'],\n",
              " ['media', 'political', 'government', 'new', 'party'],\n",
              " ['global', 'nations', 'health', 'development', 'org'],\n",
              " ['states', 'eu', 'law', 'protection', 'legal'],\n",
              " ['policy', 'government', 'political', 'power', 'decision'],\n",
              " ['paper', 'based', 'firms', 'data', 'sample'],\n",
              " ['public', 'government', 'countries', 'policy', 'bank'],\n",
              " ['nn', 'nin', 'nd', 'productivity', 'different'],\n",
              " ['eu', 'states', 'eds', 'european', 'nhttp']]"
            ]
          },
          "metadata": {
            "tags": []
          },
          "execution_count": 20
        }
      ]
    },
    {
      "cell_type": "markdown",
      "metadata": {
        "id": "jeNJfHvzjD2R"
      },
      "source": [
        "### Let's find our documents' topics\n",
        "\n",
        "Ok now we can take a document and see which topic has been asigned to it. Results will obviously change with respect to the documents you are using. For example, let's predict the topic of the first preprocessed document that is taling about a peninsula."
      ]
    },
    {
      "cell_type": "code",
      "metadata": {
        "id": "Zl5O1HExjI0e",
        "colab": {
          "base_uri": "https://localhost:8080/"
        },
        "outputId": "e93f30aa-76b3-4682-b518-9f83b7d19cba"
      },
      "source": [
        "topics_predictions = ctm.get_doc_topic_distribution(training_dataset, n_samples=20) # get all the topic predictions"
      ],
      "execution_count": 21,
      "outputs": [
        {
          "output_type": "stream",
          "text": [
            "Sampling: [20/20]: : 20it [00:08,  2.24it/s]\n"
          ],
          "name": "stderr"
        }
      ]
    },
    {
      "cell_type": "code",
      "metadata": {
        "id": "fFWsIxDYj0pC",
        "colab": {
          "base_uri": "https://localhost:8080/",
          "height": 120
        },
        "outputId": "ecb71084-40fc-49b6-939f-92c97e0f1f59"
      },
      "source": [
        "train_preprocessed_documents_for_bow[0] # see the text of our preprocessed document"
      ],
      "execution_count": 23,
      "outputs": [
        {
          "output_type": "execute_result",
          "data": {
            "application/vnd.google.colaboratory.intrinsic+json": {
              "type": "string"
            },
            "text/plain": [
              "'nsee discussions author publication https www researchgate net publication incentive preferences issues strategies local government first evidence narticle authors including nsome authors publication also working related projects open innovative governments view project public sector future view project publications nsee profile school governance publications nsee profile nall content following page september nthe user downloaded nhttps www researchgate net publication motivation incentive preferences issues strategies local government first evidence austria enrichid rgreq xxx enrichsource el esc publicationcoverpdf nhttps www researchgate net publication motivation incentive preferences issues strategies local government first evidence austria enrichid rgreq xxx enrichsource el esc publicationcoverpdf nhttps www researchgate net project open innovative governments enrichid rgreq xxx enrichsource el esc publicationcoverpdf nhttps www researchgate net project public sector future enrichid rgreq xxx enrichsource el esc publicationcoverpdf nhttps www researchgate net enrichid rgreq xxx enrichsource el esc publicationcoverpdf nhttps www researchgate net profile enrichid rgreq xxx enrichsource el esc publicationcoverpdf nhttps www researchgate net profile enrichid rgreq xxx enrichsource el esc publicationcoverpdf nhttps www researchgate net institution enrichid rgreq xxx enrichsource el esc publicationcoverpdf nhttps www researchgate net profile enrichid rgreq xxx enrichsource el esc publicationcoverpdf nhttps www researchgate net profile enrichid rgreq xxx enrichsource el esc publicationcoverpdf nhttps www researchgate net profile enrichid rgreq xxx enrichsource el esc publicationcoverpdf nhttps www researchgate net institution hertie school governance enrichid rgreq xxx enrichsource el esc publicationcoverpdf nhttps www researchgate net profile enrichid rgreq xxx enrichsource el esc publicationcoverpdf nhttps www researchgate net profile enrichid rgreq xxx enrichsource el esc publicationcoverpdf incentive preferences issues strategies local government nfirst evidence austria nabstract many countries contexts questions public service motivation topic empirical studies lack research german ncountries specific observed although exists nresearch civil service motivation specific recent time research little paid effects recent efforts initiatives implement management instruments perceptions values job public sector employees nin paper research concept public motivation public administration german context thereby focus government level german countries often argued npm reforms present first results na current public management research project based broad survey city quite different policy fields sample several features characteristics strong logic last years also became reform initiatives along ideas new public management nour research focus question specific dimensions characteristics public service value preferences observed differ according various factors size unit policy field type activity personal factors age duration nof employment private sector experience education gender nin analysis also link concept public service motivation independent variable issues public management reform survey includes questions job incentive preferences various types well assessment public management reforms various types nmanagement instruments interested far specific public sector motivation specific incentives respondents assessment various measures nmanagement instruments proposed paper forms part research project public service motivation characteristics public administration opportunities incentives public der page introduction research public sector motivation identity last decade context concept public service motivation developed us defined respond motives primarily public ninstitutions organizations authors followed used instance describe force nthat individuals perform public service general motivation serve interests community state nation addition although model specifically towards united states us american model model nthat also found european region different researchers analyze public service behavior without especially european authors use like public service conceptual discussions increasing last years nand applied empirical studies different countries several studies used dependent nand independent variable relationship public service motivation nand job organizational commitment performance organizational members high levels appear contribute various ways engage public interest higher levels organizational believe jobs important turn leads working likely high job less likely leave jobs overall nresearch far central issue strategies identity motivation important cultural dimension cannot one socio historical context next together empirical application within research questions national differences npublic sector motivation relevance page nof outside us recent research holds differences npublic service motivation different countries phenomenon needs nresearch cross cultural context nin order problem regional differences authors nwhich cover sense also types value behavioral instance values go beyond self interest organizational interest concern interest na larger political individuals act appropriate na definition according work values general values seen work values recent equally based initial definition nin research design draw original nthey argue motivation act specific way must rational costs benefits rather rational normative motives individuals highly public service work based three categories nin various studies support also found cross sector found nthat public private managers significant differences perceptions different types contrast private managers public managers public service work others important higher pay less important similar conclusions preferences government hybrid business sector managers understood series studies developed measure distinct dimensions public policy making commitment public interest self dimensions distinction three categories motives mentioned public npolicy making category rational motives involves actions utility participation public policy making ones self importance commitment public interest nthe category norm based motives self category motives help others one personal understood page neither normative type state nthe four different dimensions measured multiple scale however measure developed used studies fact across ndifferent empirical studies another opinion needs attention different dimensions kind overall suggested dimension distinct potentially unique form follow study supported different dimensions many recent studies using questions use overall score dimension rather studying effects dimensions especially socio contexts four dimensions nthis overall score many countries contexts questions public service motivation nhave increasingly topic empirical studies observe lack research ngerman countries specific although nhas research civil service motivation specific recent years field nbeen followed little attention paid effects recent efforts initiatives nto implement management concepts instruments perceptions values job public sector employees paper research concept public sector motivation public administration na german research context focus local government level ngerman countries often argued npm reforms present first results current npublic management research project based broad survey city quite different policy fields sample public employees features characteristics administration strong logic last years administrative reform initiatives along ideas npm also reputation one regions europe providing proposed paper part research project public service motivation characteristics public administration opportunities incentives public nmanagement der page nhigh quality life quality life survey based survey nof international city highest quality life within nthe european union nour research focus question specific dimensions characteristics npublic service motivation value preferences observed specific context nhow differ according various factors size unit policy field type personal factors age duration employment private sector experience neducation gender analysis also link concept public service motivation nto various issues public management reform survey includes questions job incentive preferences various types nof incentives well assessment public management reforms various types nmanagement instruments interested far specific public sector motivation preferences specific incentives respondents assessment measures management instruments particular interest different dimensions show similar significantly different relationships nwith factors need separate nan overall research strategy nas data collection recently present nresults early stage research paper therefore statistics nto descriptive results first complex regression analyses influence several independent variables dimensions next step features public administration austria nas organizational practices socially rule sets dependent institutional managerial work attention need country specific data similarly public management literature factors characteristics legal culture understanding public sector change nour study focus austria country described home administration specifically city first time nthat concept applied german public administration believe nis necessary discuss concept specific context page germany institutional logic public characterized approach still theory law first constitution rational form authority idea rules established stable political applied equal independent central flexibility strongly constitutional principles nas principle principle regulations consequence public administration strong emphasis rules together relatively high amount internal orientation described legal performance results although nthese features common austria nthe home administration system hierarchical administration civil shows law nand objective civil great sense expertise stability special professional state nin austria elements professional identity different forms expertise bodies knowledge health education infrastructure social especially legal central role public executives background legal studies strong legal focus nof training system public employment system detailed regulations relatively private sector employment little mobility within systems austria germany administrative observe specific professional civil specific relation state nand public tasks resulting germany see includes core elements civil identity around ideas towards nand citizen action political changes great sense administrative expertise office public interest societal interests features life ntime status protection including based page nthese general features public sector logic identity equally run levels thus also city administration capital republic austria million city far governance system specific features takes unique position austria city federal state federal constitution art federal state legislation city council state executive body wider power compared due role state also due historical reasons function capital city state characterized large size broad variety functions na high complexity governance system city trend source austria employees enterprises na specific feature considerable impact administration political one party social democratic party period often city na far way era first city population people social democratic government political culture policy means national education social policy main local social democratic administration various elements local welfare system type top nof government seen achieved important working class nbased city still ii held years coalition party end majority council nas already long term one political party leads na complex local government political private actors sense described form social democratic urban ngovernance et al responsible broad tasks areas education social affairs environmental protection employment state addition city administration responsible broad city administration functions related urban development culture management public management page city administration currently regional latter responsible nthe along system federal administration units developed quite distinct corporate identities often strong professional status within specific policy field decades hierarchical governance nsystem recently liberal models line npolitical eu countries et al late city administration became management initiatives along ideas npm similar federal administration nwith international trends order promote entrepreneurial city large addition according administrative led city self understanding refers large company focus citizens efficiency criteria nintroduction new management instruments contract management planning nthe concept relationship features developments would point direction high npublic interest political required public servants would make relatively motivation policy making hand new entrepreneurial clear opposition traditional self relation public servants nresearch interested extent features system social democratic influence legal hierarchical culture influence various dimensions well public sector general addition interested whether observe new logic starting values federal tasks according constitution art either federal authorities purpose authorities state level called federal administration case page data method study based mail employees city well one autonomous unit mit administrative job types addition also paper form selection nbased several criteria different policy fields cultural social internal external services core autonomous units included open questions general towards npublic services including questions job incentives management public administration asked personal background ninformation pre lower level executives prior survey employees mentioned city received executive study employees complete office hours data database form added database nwith respondents response rate mentioned sample area persons functions included leads overall sample although study public sector broad findings representative study whole city nnumber respondents also different questions questions nthe sample female male respondents years generally relatively force public sector regarding family status majority nin children concerning background majority public executives sample low middle level education degree whereas university degree respondents working capacity member npolitical party regard employment working npublic sector years relatively new five employment refer employment private sector'"
            ]
          },
          "metadata": {
            "tags": []
          },
          "execution_count": 23
        }
      ]
    },
    {
      "cell_type": "code",
      "metadata": {
        "id": "kJf1bP5PjqOQ",
        "colab": {
          "base_uri": "https://localhost:8080/"
        },
        "outputId": "a67bc68f-c3bb-4b50-eeae-a1e9fe6617b9"
      },
      "source": [
        "import numpy as np\n",
        "topic_number = np.argmax(topics_predictions[0]) # get the topic id of the first document\n",
        "topic_number"
      ],
      "execution_count": 24,
      "outputs": [
        {
          "output_type": "execute_result",
          "data": {
            "text/plain": [
              "4"
            ]
          },
          "metadata": {
            "tags": []
          },
          "execution_count": 24
        }
      ]
    },
    {
      "cell_type": "code",
      "metadata": {
        "id": "yMA9vUsgjwOi",
        "colab": {
          "base_uri": "https://localhost:8080/"
        },
        "outputId": "4225bea5-632b-4b33-b3f9-787988132026"
      },
      "source": [
        "ctm.get_topic_lists(5)[topic_number] #and the topic should and could be about public management related things"
      ],
      "execution_count": 25,
      "outputs": [
        {
          "output_type": "execute_result",
          "data": {
            "text/plain": [
              "['making', 'actors', 'different', 'governance', 'nand']"
            ]
          },
          "metadata": {
            "tags": []
          },
          "execution_count": 25
        }
      ]
    },
    {
      "cell_type": "markdown",
      "metadata": {
        "id": "galVyA1MsvRe"
      },
      "source": [
        "## Test\n",
        "\n",
        "We are using the test set to predict for unseen documents. "
      ]
    },
    {
      "cell_type": "code",
      "metadata": {
        "colab": {
          "base_uri": "https://localhost:8080/",
          "height": 66,
          "referenced_widgets": [
            "f68521fd5eae455c8b8b05c7219becb7",
            "9b79abbf88e2434f8ea5d225e1dbb72f",
            "207462144f4249efa30e5bdf6aeeb203",
            "560ae618156e412c9fed6076d682ec4f",
            "86bf87e826c04b44a9509848654e5fca",
            "96c833a731af408399d59bb238e89b8a",
            "255c8ffe8dc742b48a26b963d5e3fe55",
            "4853270376254dcaa34983abfa469f3a",
            "a1bafdcd5a5949cc9ae2168b3afbd21b",
            "cfb3fa4aa5de493280b02ca1044ea358",
            "7f3163beecf14512a5ffad71535f29bc"
          ]
        },
        "id": "zIq7_IUgs0kA",
        "outputId": "a8d336a1-6ad6-4b38-e096-a85ba6711031"
      },
      "source": [
        "testing_dataset = qt.create_test_set(test_unpreprocessed_corpus_for_contextual, test_preprocessed_documents_for_bow) # create dataset for the testset\n",
        "predictions = ctm.get_doc_topic_distribution(testing_dataset, n_samples=10)"
      ],
      "execution_count": 28,
      "outputs": [
        {
          "output_type": "display_data",
          "data": {
            "application/vnd.jupyter.widget-view+json": {
              "model_id": "f68521fd5eae455c8b8b05c7219becb7",
              "version_minor": 0,
              "version_major": 2
            },
            "text/plain": [
              "Batches:   0%|          | 0/1 [00:00<?, ?it/s]"
            ]
          },
          "metadata": {
            "tags": []
          }
        },
        {
          "output_type": "stream",
          "text": [
            "Sampling: [10/10]: : 10it [00:01,  5.34it/s]\n"
          ],
          "name": "stderr"
        }
      ]
    },
    {
      "cell_type": "code",
      "metadata": {
        "colab": {
          "base_uri": "https://localhost:8080/"
        },
        "id": "To-IcPtsv8bV",
        "outputId": "0f434847-6a0f-4228-dee1-284a11253081"
      },
      "source": [
        "print(test_unpreprocessed_corpus_for_contextual[2])\n",
        "\n",
        "topic_index = np.argmax(predictions[2])\n",
        "ctm.get_topic_lists(5)[topic_index]"
      ],
      "execution_count": 33,
      "outputs": [
        {
          "output_type": "stream",
          "text": [
            "b\"I will attend: \\n\\nName\\n\\nPosition\\n\\nInstitution\\n\\nEmail \\n\\nAccompanied by\\n\\nRegistration\\n\\nStudent Paper Series\\nThe EUs Extraterritorial Asylum Policies \\n\\n& Human Rights Obligations:\\nProspects, Limits and the Role of the European Courts \\n\\nBy Anna Hoffmann (MPP 2015)\\n\\nAcademic Advisor: Prof. Mark Dawson, PhD\\nProfessor of European Law and Governance\\n\\n \\nHSSPS 01 | 2015\\n\\n\\n\\nAcknowledgements \\n \\n\\nOne incurs many debts even when writing a rather short paper. I would like to thank \\n\\nmy supervisor Mark Dawson for the helpful comments and advice he provided in \\n\\nframing the research topic. This paper would not have emerged in this form without \\n\\nthe stimulating debates and insights provided in the course he co-taught with Dilek \\n\\nKurban. I am also grateful to Franziska Vilmar from Amnesty International for a \\n\\nproductive conversation about some of the topics covered in this thesis. My wonderful \\n\\nfriends were very supportive and Florien, Nick, Julia, Max, Nico, Pip, Pek, Maria, \\n\\nRobin, Juan, and Javier should be mentioned specifically. There will never be enough \\n\\nspace or enough occasions to thank my parents and my aunt for their constant love \\n\\nand guidance. A special thanks is also due to Michael for dropping everything and \\n\\ndoing a last minute review to weed out typos. Last but not least I thank Lukas  it is \\n\\nwonderful to have a partner who is not only emotionally supportive but also able and \\n\\nwilling to walk with you through the arguments again and again and to make them \\n\\nand yourself stronger and more coherent. Thank you for everything. \\n\\n \\n\\n \\n\\n \\n\\n \\n\\n \\n\\n \\n\\n \\n\\n \\n\\n \\n\\n \\n\\n \\n\\n \\n\\n \\n\\n \\n\\n \\n\\n \\n\\n \\n\\n\\n\\n\\t\\r \\xa0\\n\\t\\r \\xa0\\n\\n2\\t\\r \\xa0\\n\\n \\n\\n \\n\\n \\n\\n \\n\\n \\n\\n \\n\\n \\n\\n \\n\\n \\n\\nTo all those migrants who drowned while this thesis was written \\n\\nI hope they have reached better-managed shores. \\n \\n\\n \\n\\n \\n\\n \\n\\n \\n\\n \\n\\n \\n\\n \\n\\n \\n\\n \\n\\n \\n\\n \\n\\n \\n\\n \\n\\n \\n\\n \\n\\n \\n\\n \\n\\n \\n\\n \\n\\n\\n\\n\\t\\r \\xa0\\n\\t\\r \\xa0\\n\\n3\\t\\r \\xa0\\n\\nTable\\t\\r \\xa0of\\t\\r \\xa0Contents\\t\\r \\xa0\\n\\nABSTRACT .............................................................................................................. 4\\t\\r \\xa0\\n\\nINTRODUCTION...................................................................................................... 5\\t\\r \\xa0\\nThe\\t\\r \\xa0Context........................................................................................................................................................... 5\\t\\r \\xa0\\nOverview\\t\\r \\xa0of\\t\\r \\xa0the\\t\\r \\xa0Argument............................................................................................................................. 6\\t\\r \\xa0\\nThe\\t\\r \\xa0Methodology ............................................................................................................................................... 8\\t\\r \\xa0\\nTheoretical\\t\\r \\xa0Context\\t\\r \\xa0&\\t\\r \\xa0Debates.................................................................................................................. 10\\t\\r \\xa0\\n\\nCHAPTER\\t\\r \\xa0I:\\t\\r \\xa0The\\t\\r \\xa0Current\\t\\r \\xa0Scheme\\t\\r \\xa0of\\t\\r \\xa0Refugee\\t\\r \\xa0Protection\\t\\r \\xa0in\\t\\r \\xa0the\\t\\r \\xa0European\\t\\r \\xa0Context . 11\\t\\r \\xa0\\n1.1.\\t\\r \\xa0The\\t\\r \\xa0Common\\t\\r \\xa0European\\t\\r \\xa0Asylum\\t\\r \\xa0System\\t\\r \\xa0(CEAS)....................................................................... 12\\t\\r \\xa0\\n1.2\\t\\r \\xa0Joint\\t\\r \\xa0Operation\\t\\r \\xa0Triton ........................................................................................................................... 14\\t\\r \\xa0\\n1.3\\t\\r \\xa0The\\t\\r \\xa0Applicable\\t\\r \\xa0Law\\t\\r \\xa0of\\t\\r \\xa0The\\t\\r \\xa0Seas ........................................................................................................ 15\\t\\r \\xa0\\n1.4\\t\\r \\xa0In\\t\\r \\xa0Focus:\\t\\r \\xa0the\\t\\r \\xa0principle\\t\\r \\xa0of\\t\\r \\xa0Non-\\xadRefoulement ................................................................................. 16\\t\\r \\xa0\\n1.5\\t\\r \\xa0Case\\t\\r \\xa0Study:\\t\\r \\xa0Hirsi\\t\\r \\xa0Jamaa\\t\\r \\xa0and\\t\\r \\xa0Others\\t\\r \\xa0v\\t\\r \\xa0Italy\\t\\r \\xa0(ECtHR\\t\\r \\xa02012) .................................................... 18\\t\\r \\xa0\\n1.6\\t\\r \\xa0The\\t\\r \\xa0Persisting\\t\\r \\xa0Gaps\\t\\r \\xa0&\\t\\r \\xa0Perverse\\t\\r \\xa0Policy\\t\\r \\xa0Incentives .................................................................... 20\\t\\r \\xa0\\n\\nCHAPTER\\t\\r \\xa0II:\\t\\r \\xa0Extending\\t\\r \\xa0the\\t\\r \\xa0Scheme\\t\\r \\xa0of\\t\\r \\xa0Protection:\\t\\r \\xa0Human\\t\\r \\xa0Rights\\t\\r \\xa0for\\t\\r \\xa0Migrants\\t\\r \\xa0and\\t\\r \\xa0\\nthe\\t\\r \\xa0potential\\t\\r \\xa0of\\t\\r \\xa0the\\t\\r \\xa0ECHR ..................................................................................... 22\\t\\r \\xa0\\n2.1\\t\\r \\xa0Human\\t\\r \\xa0Rights\\t\\r \\xa0as\\t\\r \\xa0the\\t\\r \\xa0Foundation\\t\\r \\xa0for\\t\\r \\xa0a\\t\\r \\xa0Better\\t\\r \\xa0Protection\\t\\r \\xa0Scheme..................................... 22\\t\\r \\xa0\\n2.2\\t\\r \\xa0Sources\\t\\r \\xa0and\\t\\r \\xa0Specific\\t\\r \\xa0Instruments\\t\\r \\xa0of\\t\\r \\xa0Human\\t\\r \\xa0Rights................................................................. 23\\t\\r \\xa0\\nInternational\\t\\r \\xa0Human\\t\\r \\xa0Rights\\t\\r \\xa0Covenants................................................................................................ 24\\t\\r \\xa0\\nThe\\t\\r \\xa0European\\t\\r \\xa0Charter\\t\\r \\xa0of\\t\\r \\xa0Fundamental\\t\\r \\xa0Rights .................................................................................. 25\\t\\r \\xa0\\nThe\\t\\r \\xa0European\\t\\r \\xa0Convention\\t\\r \\xa0of\\t\\r \\xa0Human\\t\\r \\xa0Rights ....................................................................................... 26\\t\\r \\xa0\\n\\nCHAPTER\\t\\r \\xa0III:\\t\\r \\xa0The\\t\\r \\xa0Role\\t\\r \\xa0of\\t\\r \\xa0the\\t\\r \\xa0European\\t\\r \\xa0Courts ...................................................... 30\\t\\r \\xa0\\n3.1\\t\\r \\xa0Constitutional\\t\\r \\xa0Dialogues ...................................................................................................................... 30\\t\\r \\xa0\\n3.2\\t\\r \\xa0A\\t\\r \\xa0Note\\t\\r \\xa0on\\t\\r \\xa0Judicial\\t\\r \\xa0Activism ................................................................................................................. 34\\t\\r \\xa0\\n3.3\\t\\r \\xa0How\\t\\r \\xa0progressive\\t\\r \\xa0are\\t\\r \\xa0the\\t\\r \\xa0Courts?...................................................................................................... 35\\t\\r \\xa0\\n3.4\\t\\r \\xa0Constraints\\t\\r \\xa0and\\t\\r \\xa0Restraint:\\t\\r \\xa0How\\t\\r \\xa0Progressive\\t\\r \\xa0Can\\t\\r \\xa0the\\t\\r \\xa0Courts\\t\\r \\xa0Be? ...................................... 36\\t\\r \\xa0\\n3.4\\t\\r \\xa0Outlook\\t\\r \\xa0on\\t\\r \\xa0Future\\t\\r \\xa0Challenges:\\t\\r \\xa0Balancing\\t\\r \\xa0Rights\\t\\r \\xa0&\\t\\r \\xa0Effective\\t\\r \\xa0Policy ................................. 38\\t\\r \\xa0\\n\\nCONCLUSION........................................................................................................ 39\\t\\r \\xa0\\n\\nBIBLIOGRAPHY ..................................................................................................... 42\\t\\r \\xa0\\n\\nANNEX ................................................................................................................. 52\\t\\r \\xa0\\n\\nStatement\\t\\r \\xa0of\\t\\r \\xa0Authorship............................................. Error!\\t\\r \\xa0Bookmark\\t\\r \\xa0not\\t\\r \\xa0defined.\\t\\r \\xa0\\n\\t\\r \\xa0\\n \\n\\n \\n\\n \\n\\n \\n\\n \\n\\n \\n\\n \\n\\n\\n\\n\\t\\r \\xa0\\n\\t\\r \\xa0\\n\\n4\\t\\r \\xa0\\n\\n\\t\\r \\xa0\\n\\nABSTRACT\\t\\r \\xa0\\n \\n\\nThis paper presents an analysis of the underlying policy and legal mechanisms \\n\\ncontributing to the deaths of migrants attempting to reach the EU by crossing the \\n\\nMediterranean. It is structured into three sections, outlining, firstly, the deficits of the \\n\\ncurrent Common European Asylum System, especially its extraterritorial dimension. \\n\\nIt is argued that the reasons for the shortcomings of the current system are linked to \\n\\nthe traditional state-centred paradigm still pre-dominant in EU law and policy. \\n\\nSecondly, human rights are presented as the conceptually adequate instrument to fill \\n\\nthese gaps and to extend effective protection of migrants human rights beyond the \\n\\nshores of Europe. The European Convention of Human Rights is singled out as the \\n\\nmost promising system for doing so. Thirdly, analysing the role of the two major \\n\\nEuropean Courts in extending human rights protection extraterritorially, it further \\n\\noutlines the prospects and limits of such an approach. The importance of the Courts in \\n\\nclarifying and also extending the reach of human rights protection is demonstrated \\n\\nand the paper concludes with an outlook on future challenges facing the two Courts \\n\\nand the human rights system within the European region.    \\n\\n\\t\\r \\xa0\\n\\n\\t\\r \\xa0\\n\\n\\t\\r \\xa0\\n\\n\\t\\r \\xa0\\n\\t\\r \\xa0\\n\\t\\r \\xa0\\n\\t\\r \\xa0\\n\\t\\r \\xa0\\n\\t\\r \\xa0\\n\\n\\t\\r \\xa0\\n\\n\\n\\n\\t\\r \\xa0\\n\\t\\r \\xa0\\n\\n5\\t\\r \\xa0\\n\\n\\t\\r \\xa0\\n\\nINTRODUCTION\\t\\r \\xa0\\n \\n\\nThe Union is founded on the values of respect for human dignity, freedom, democracy, equality, the \\n\\nrule of law and respect for human rights, including the rights of persons belonging to minorities. These \\n\\nvalues are common to the Member States in a society in which pluralism, nondiscrimination, tolerance, \\n\\njustice, solidarity and equality between women and men prevail. - Article 2 TEU \\n\\n The art is to translate the rhetoric of human rights protection into a working reality that is \\n\\ncommensurate with human dignity, compatible with international obligations and consistent with the \\n\\nrule of law. - Goodwin Gill (2008)  \\n\\nThe\\t\\r \\xa0Context\\t\\r \\xa0\\n \\n\\nThis thesis deals with the increasingly relevant and visible problem of migrants \\n\\ndrowning in the Mediterranean Sea while trying to reach Europe. Within the final \\n\\nthree weeks of writing this paper, over 1000 migrants died in this manner. Over the \\n\\nlast decade the estimated number of deaths is around 20000 (IOM, 2014). 2014 has \\n\\nbeen the deadliest year on record with more than 3500 individuals drowning or dying \\n\\nof hunger, thirst or cold during the crossing and 2015 promises to be even worse. \\n\\nAfter a particularly dramatic incident off the coast of Lampedusa in 2013, Italy started \\n\\na major search and rescue operation, Mare Nostrum. However, due to the financial \\n\\nburden and lack of support by other European states, this program was ended in \\n\\nOctober 2014. Its replacement, Joint Operation Triton (JO Triton), has a much \\n\\nnarrower focus on securing the border and not on saving lives.1 This has led to a \\n\\nsituation in which an increasingly large number of people are in danger of drowning \\n\\nen route to Europe, without effective access to asylum and protection. This comes at a \\n\\ntime when the number of refugees and migrants is expected to grow substantially, \\n\\nmainly due to the deteriorating situation in the Middle East (UNHCR, 2014). This \\n\\nincrease is reflected both in the number of asylum applications lodged within the EU \\n\\n(see Graph Annex 1) and the reported irregular border crossings. According to \\n\\n\\t\\r \\xa0\\t\\r \\xa0\\t\\r \\xa0\\t\\r \\xa0\\t\\r \\xa0\\t\\r \\xa0\\t\\r \\xa0\\t\\r \\xa0\\t\\r \\xa0\\t\\r \\xa0\\t\\r \\xa0\\t\\r \\xa0\\t\\r \\xa0\\t\\r \\xa0\\t\\r \\xa0\\t\\r \\xa0\\t\\r \\xa0\\t\\r \\xa0\\t\\r \\xa0\\t\\r \\xa0\\t\\r \\xa0\\t\\r \\xa0\\t\\r \\xa0\\t\\r \\xa0\\t\\r \\xa0\\t\\r \\xa0\\t\\r \\xa0\\t\\r \\xa0\\t\\r \\xa0\\t\\r \\xa0\\t\\r \\xa0\\t\\r \\xa0\\t\\r \\xa0\\t\\r \\xa0\\t\\r \\xa0\\t\\r \\xa0\\t\\r \\xa0\\t\\r \\xa0\\t\\r \\xa0\\t\\r \\xa0\\t\\r \\xa0\\t\\r \\xa0\\t\\r \\xa0\\t\\r \\xa0\\t\\r \\xa0\\t\\r \\xa0\\t\\r \\xa0\\t\\r \\xa0\\t\\r \\xa0\\t\\r \\xa0\\t\\r \\xa0\\t\\r \\xa0\\t\\r \\xa0\\t\\r \\xa0\\t\\r \\xa0\\t\\r \\xa0\\n1 This has recently been made explicit again by the head of the European Border Agency: EU borders \\nchief says saving migrants' lives 'shouldn't be priority' for patrols (Guardian, 2015)  \\n \\n\\n\\n\\n\\t\\r \\xa0\\n\\t\\r \\xa0\\n\\n6\\t\\r \\xa0\\n\\nFrontex, there were about 278,000 irregular border crossings in 2014, twice as many \\n\\nas in 2011 (Frontex, 2014). \\n\\n \\n\\nThe European Union has met this larger influx with increased border controls, so \\n\\ncalled push-back operations pushing back migrant boats, and other increasingly \\n\\nextraterritorial mechanisms such as third country agreements (pull-back \\n\\nagreements) to hold back migrants, e.g. with Morocco or Libya, and increased \\n\\nobligations on airlines to control visa. These operations have been criticised by human \\n\\nrights NGOs for violating the principle of non-refoulement and violating other human \\n\\nrights of migrants (Amnesty International, 2014). Politicians have been very reluctant \\n\\nto accept responsibility for the fate of migrants on the high seas, due to a general \\n\\nrising anti-immigration sentiment within Europe (viz. Guiraudon and Lahav, 2013, \\n\\nDavidov et al, 2014). However, the European Courts, most notably, the European \\n\\nCourt of Human Rights, have been quite active in establishing the rights of refugees \\n\\non the high seas and the corresponding state duties. Nevertheless, there are limitations \\n\\nto what the courts can and will most likely do. The one thing that is clear in this \\n\\ncomplex dilemma is that the current system fails to protect the basic human rights of \\n\\nmigrants. The overarching question of this thesis is thus: What are the deficiencies \\n\\nin the protection scheme offered by the EU to migrants, on which legal basis could \\n\\nthese gaps be filled and what is the role of the Courts in filling these gaps?  \\n\\n \\n\\nOverview\\t\\r \\xa0of\\t\\r \\xa0the\\t\\r \\xa0Argument\\t\\r \\xa0\\n \\n\\nThis thesis seeks to tackle the problem by analysing the structural reasons behind \\n\\nmigrants deaths at sea with a special focus on the legal framework and the role of the \\n\\nEuropean Courts (hereafter often The Courts). It proceeds in a three-step analysis \\n\\nand argumentation: \\n\\n \\n\\n1. The paper outlines the salient features of the current EU asylum system with a \\n\\nfocus on extraterritorial asylum measures. It identifies gaps and shortcomings in \\n\\nthe current policy framework, which are rooted in the legal framing of refugee \\n\\nrights more generally. These pertain mostly to the underlying territoriality of the \\n\\n\\n\\n\\t\\r \\xa0\\n\\t\\r \\xa0\\n\\n7\\t\\r \\xa0\\n\\nprotection scheme, which does not include migrants at sea. Moreover, it is argued \\n\\nthat the extension of jurisdiction and state responsibility by Strasbourg in its Hirsi \\n\\njudgment may have created perverse incentives against rescuing refugees. The \\n\\nmove from Mare Nostrum to JO Triton can arguably be explained against this very \\n\\nbackground. In any case, it is clear that current search and rescue provisions based \\n\\non the United Nations Convention of the Law of the Seas (UNCLOS) are \\n\\ninsufficient in providing effective access to asylum and protection of basic human \\n\\nrights of migrants, such as the right to life. \\n\\n \\n\\n2. The paper asks which instrument would be most promising to fill these gaps, also \\n\\ntaking into account the limitations arising from the instruments themselves and \\n\\ntheir application and interpretation by the Courts. The argument is advanced that \\n\\nhuman rights instruments promise the best solution to the situation of migrants at \\n\\nsea as these individuals are often outside the jurisdiction of any state. The Charter, \\n\\nthe ECHR and international conventions are analysed as potential candidates and \\n\\nthe ECHR singled out as the most promising instrument to offer such protection \\n\\nwith clear limitations.  \\n\\n \\n\\n3. The paper asks what role the Courts have played in advancing refugee right \\n\\nprotection and human rights protection for migrants more generally.2 It uses the \\n\\nanalytical tool of looking at the dialogue of the Courts between themselves and \\n\\nwith Civil Society and EU institutions, to assess how progressive the Courts have \\n\\nbeen and indeed could be. This section will also argue that there are limits to what \\n\\nthe Courts can establish but that the Courts have a crucial role to play in \\n\\nsupervising the rapidly developing external dimension of European asylum policy. \\n\\nUltimately, the decisions will emanate from the political realm, as the current \\n\\ninterpretation of the legal instruments does not provide for a clear establishment of \\n\\na positive duty to search and rescue migrants. Humanitarian arguments and ethical \\n\\nimperatives will have to be brought to bear on governments from other actors, as \\n\\nthe Courts are limited by a legal system still restricted by its Westphalian roots.  \\n\\n \\n\\t\\r \\xa0\\t\\r \\xa0\\t\\r \\xa0\\t\\r \\xa0\\t\\r \\xa0\\t\\r \\xa0\\t\\r \\xa0\\t\\r \\xa0\\t\\r \\xa0\\t\\r \\xa0\\t\\r \\xa0\\t\\r \\xa0\\t\\r \\xa0\\t\\r \\xa0\\t\\r \\xa0\\t\\r \\xa0\\t\\r \\xa0\\t\\r \\xa0\\t\\r \\xa0\\t\\r \\xa0\\t\\r \\xa0\\t\\r \\xa0\\t\\r \\xa0\\t\\r \\xa0\\t\\r \\xa0\\t\\r \\xa0\\t\\r \\xa0\\t\\r \\xa0\\t\\r \\xa0\\t\\r \\xa0\\t\\r \\xa0\\t\\r \\xa0\\t\\r \\xa0\\t\\r \\xa0\\t\\r \\xa0\\t\\r \\xa0\\t\\r \\xa0\\t\\r \\xa0\\t\\r \\xa0\\t\\r \\xa0\\t\\r \\xa0\\t\\r \\xa0\\t\\r \\xa0\\t\\r \\xa0\\t\\r \\xa0\\t\\r \\xa0\\t\\r \\xa0\\t\\r \\xa0\\t\\r \\xa0\\t\\r \\xa0\\t\\r \\xa0\\t\\r \\xa0\\t\\r \\xa0\\t\\r \\xa0\\t\\r \\xa0\\t\\r \\xa0\\n2 Refugees and migrants are entitled to different schemes of protection, however, as the focus lies on \\nextraterritorial protection, this distinctiion has not yet been established and hence the protection offered \\nto mixed migration flows is analyzed. \\n\\n\\n\\n\\t\\r \\xa0\\n\\t\\r \\xa0\\n\\n8\\t\\r \\xa0\\n\\nThe\\t\\r \\xa0Methodology\\t\\r \\xa0\\n \\n\\nThe European extraterritorial asylum system is failing to control migration and to \\n\\nprovide effective access to asylum. This paper is based on a problem-driven, inter-\\n\\ndisciplinary analysis of this failure. Such an approach has been applied to various \\n\\ngovernance dilemmas and failures and has been developed significantly in the context \\n\\nof global economic policy analysis (The World Bank, 2009). This method follows a \\n\\nnumber of clear steps: \\n\\n \\n\\ni. Identifying the problem, opportunity or vulnerability to be addressed \\n\\nii. Mapping out the institutional and governance arrangements and weaknesses \\n\\niii. Drilling down to the political economy drivers, both to identify obstacles to \\n\\nprogressive change and to understand where a drive for positive change could \\n\\nemerge from (ibid. ix). \\n\\n \\n\\nThis approach has yielded good results and is the methodology underlying many \\n\\npolicy analyses. The present thesis has adapted this method to reflect the focus on the \\n\\nlegal framework underlying the problem and proceeds as follows: \\n\\n \\n\\ni. Identifying the problem to be addressed within the European extraterritorial \\n\\nasylum system with a focus on the legal reach of protection for refugee rights. \\n\\nii. Mapping out the legal governance arrangements and weaknesses by analysing the \\n\\npotential and limitations of different legal governance regimes. \\n\\niii. Drilling down to the key actors, the European Courts, both to identify obstacles to \\n\\nprogressive change and to understand where a drive for positive change could \\n\\nemerge from. \\n\\n \\n\\nIt is argued that a transposition of this problem driven methodology is well suited to \\n\\nthe problem at hand as it spans different disciplines. The method is based on a systems \\n\\napproach to policy problem analysis (e.g., Stewart and Ayres, 2011), arguing that the \\n\\ntask of public policy scholars and practitioners is to understand the complexity \\n\\nunderlying real world problems and approach them from a required inter-disciplinary \\n\\nperspective. Protection of migrants human rights and refugee rights not only requires \\n\\n\\n\\n\\t\\r \\xa0\\n\\t\\r \\xa0\\n\\n9\\t\\r \\xa0\\n\\nan understanding of policy questions, but also a sound understanding of the legal \\n\\nstructures within which solutions are sought and suggested. By using legal analysis \\n\\nboth in primary and secondary form and by focusing on dialogue between the Courts \\n\\nand other policy actors, this paper seeks to advance a broader and better-informed \\n\\nunderstanding of the underlying reasons for migrants deaths in the Mediterranean.  \\n\\n \\n\\nRegarding the legal analysis of the human rights instruments, this paper is situated \\n\\nbetween the legal reform research and expository legal research (closer to the \\n\\nreform side), using Arthurs classification of different legal research types (Arthurs, \\n\\n1983). Due to the problem focus, the thesis both analyses the reach of different legal \\n\\ninstruments while arguing that this is in some cases insufficient or has been \\n\\ninterpreted in a way that leaves migrants without effective protection and access to \\n\\nasylum. The thesis aims to be useful for public policy scholars and policy makers in \\n\\nunderstanding the legal framework, so the constituency is the professional world, with \\n\\nonly a few selected forays into theoretical debates. \\n\\n \\n\\nFigure 1: Legal Research Styles (Arthurs, 1983)  \\n\\n \\n \\n\\n \\n\\n\\n\\n\\t\\r \\xa0\\n\\t\\r \\xa0\\n\\n10\\t\\r \\xa0\\n\\nLastly, a brief word on terminology: migration studies is beset with terminology \\n\\nissues. In the public sphere, the terms foreigners, aliens, migrants, refugees, \\n\\nand asylum-seekers are often used interchangeably even though they denote \\n\\ndifferent groups who are entitled to different levels of protection. This study will use \\n\\nthe term refugee as shorthand for all persons entitled to international protection (as \\n\\nden Heijer, 2012) and the more general term migrant when referring to migrating \\n\\nindividuals whose protection status has not yet been determined. \\n\\n \\n\\nTheoretical\\t\\r \\xa0Context\\t\\r \\xa0&\\t\\r \\xa0Debates\\t\\r \\xa0\\n \\n\\nThe thesis touches upon many important theoretical debates. Two of them will be \\n\\nbriefly outlined here to position the paper more clearly.  \\n\\n \\n\\nFirstly, this is a case study for the limitations of an international legal system based on \\n\\na territorial understanding of state responsibility and also ultimately of rights. This \\n\\nchallenges the key promise of human rights as rights individuals have simply by \\n\\nvirtue of being human. The vulnerable migrant on the high seas embodies this deficit \\n\\nin the international legal order and her situation questions our notion of state \\n\\nresponsibility and the focus on inter-state regulation. The protective duty of a state is \\n\\nnot self-evident in the absence of a territorial linkage between the individual and the \\n\\nstate (den Heijer, 2012: 6). This paper shall outline this fundamental challenge but \\n\\nalso show the potential of human rights frameworks in remedying this shortcoming. \\n\\nNevertheless, it is currently not likely that Courts will interpret the requirements of \\n\\nthese human rights documents to entail a positive obligation to assist migrants beyond \\n\\nthe territorial waters. The philosopher Immanuel Kant specified the duty to aid others \\n\\nas an imperfect duty, as it was not fully specified and lacked correlative rights (Viz. \\n\\nGregor, 1986). The logic seems to be inverted here and it would be appropriate to \\n\\ndescribe the human rights of migrants as imperfect rights as they lack the \\n\\ncorrelative duty of states to protect these rights. Thus, a wide-scale search and rescue \\n\\noperation as demanded in the European Parliament at the time of writing, would be \\n\\nbased on a humanitarian and ethical rationale. Humanitarianism insists that extreme \\n\\nsituations give rise to special responsibilities (Gibney, 1999: 44). However, in the \\n\\n\\n\\n\\t\\r \\xa0\\n\\t\\r \\xa0\\n\\n11\\t\\r \\xa0\\n\\nlong run, humanitarian concerns cannot compensate for the conceptual gaps in \\n\\nrefugee rights and institutional reform is needed to grant the right to have rights to \\n\\nmigrants (Heuser, 2007). \\n\\n \\n\\nSecondly, the ethical debate about competing moral claims in the field of immigration \\n\\nprovides the background against which this analysis proceeds. The essential question \\n\\nhere is what is owed to people outside ones own political community, especially to \\n\\nthose in special need of protection. Taking a strong communitarian view, rights stem \\n\\nfrom a particular political community and the members of this community take \\n\\npriority over outsiders (e.g., Walzer, 1983). In contrast, global impartial liberalism \\n\\nsees human rights as universal and rejects the priority view, according migrants \\n\\neffectively the same rights and status as citizens of a particular state (e.g., Caney, \\n\\n2005 or Singer, 1972). The current international legal system favours the \\n\\ncommunitarian view with some global liberal aspirations, prominently espoused in \\n\\nhuman rights documents. A balance needs to be found, as neither approach is practical \\n\\nand morally defensible at the same time, and the dilemma of migrants drowning at sea \\n\\nposes a particular problem for Europe which has always emphasized its attachment to \\n\\na more impartial human rights perspective (Gibney, 1999). Extraterritorial asylum is \\n\\nessentially about reconciling the principle of territorial sovereignty with claims of \\n\\nhumanitarianism (Morgenstern, 1948: 236). The thesis demonstrates that the \\n\\nbalancing of these two values is still biased towards a communitarian view, with \\n\\nprogressive strides being made by the Courts in some areas. \\n\\nCHAPTER\\t\\r \\xa0I:\\t\\r \\xa0The\\t\\r \\xa0Current\\t\\r \\xa0Scheme\\t\\r \\xa0of\\t\\r \\xa0Refugee\\t\\r \\xa0Protection\\t\\r \\xa0in\\t\\r \\xa0the\\t\\r \\xa0\\nEuropean\\t\\r \\xa0Context\\t\\r \\xa0\\n \\n\\nAn analysis of the system of laws regulating and protecting refugee rights within the \\n\\nextraterritorial dimension of EU asylum policy is necessarily very complex and multi-\\n\\nlayered. Different levels of law need to be considered, the key instruments being the \\n\\nEuropean Asylum System and Union Law, the Law of the Seas, International Human \\n\\nRights and Refugee Conventions, and EU Human Rights Instruments (the Charter & \\n\\nConvention). This first Chapter focuses on the not explicitly human rights based \\n\\nsystems of protection. The explicit human rights documents will be discussed in more \\n\\n\\n\\n\\t\\r \\xa0\\n\\t\\r \\xa0\\n\\n12\\t\\r \\xa0\\n\\ndetail in Chapter 2 to offer a complementary approach for conceptualizing refugee \\n\\nrights and closing persisting gaps. \\n\\n \\n\\n1.1.\\t\\r \\xa0The\\t\\r \\xa0Common\\t\\r \\xa0European\\t\\r \\xa0Asylum\\t\\r \\xa0System\\t\\r \\xa0(CEAS)\\t\\r \\xa0\\n \\n\\nThe European Asylum Framework has developed rapidly in the last decade, from \\n\\ndistinct national policies, over some minimum common standards agreed upon in the \\n\\nTreaty of Amsterdam, towards the 2009 Stockholm Program where a common EU-\\n\\nframed policy was initiated for the first time and subsequently embedded in the \\n\\nLisbon Treaty. Articles 77(1)(c), 77(2)(d), 78(2)(g) and 79(1) TFEU call respectively \\n\\nfor the adoption of measures in the sphere of integrated border management, the \\n\\ncreation of partnerships with third countries for managing inflows of asylum seekers, \\n\\nmeasures relating to the prevention of illegal immigration, and measures relating to \\n\\nthe prevention of trafficking of human beings. In light of these fast developments, this \\n\\nfirst section shall outline the most important features of the regulatory framework \\n\\nwith a focus on the extraterritorial dimension. \\n\\n \\n\\nThe basic tension at the heart of the current European regulatory framework \\n\\nconcerned with migration and asylum is the tension between controlling migration \\n\\nflows, containing and managing them, and on the other hand protecting the rights of \\n\\nindividuals in need of protection. There is a clear consensus that the current system is \\n\\nbiased towards security concerns and reducing the flow of migration through ever \\n\\nincreasing control and also criminalization of migration (Guild and Moreno-Lax, \\n\\n2013: 9, Cholewinski in Guild et al, 2012: 178, Huysmans, 2000: 751, Mitsilegas, \\n\\n2014). Moreover, there has been vehement criticism of the internal dimension as well, \\n\\nmost notably, of the Dublin I-III regulations from many different sides3 and the \\n\\nEuropean Parliament has called repeatedly for a more holistic approach to asylum \\n\\nand migration, most recently in December 2014 (2014/2907(RSP)). The European \\n\\nCommission announced in March 2015 its review of a comprehensive European \\n\\nAgenda on Migration, to be presented in May 2015. However, the focus of this review \\n\\ndoes not lie on protection of refugee rights but rather emphasizes fighting irregular \\n\\n\\t\\r \\xa0\\t\\r \\xa0\\t\\r \\xa0\\t\\r \\xa0\\t\\r \\xa0\\t\\r \\xa0\\t\\r \\xa0\\t\\r \\xa0\\t\\r \\xa0\\t\\r \\xa0\\t\\r \\xa0\\t\\r \\xa0\\t\\r \\xa0\\t\\r \\xa0\\t\\r \\xa0\\t\\r \\xa0\\t\\r \\xa0\\t\\r \\xa0\\t\\r \\xa0\\t\\r \\xa0\\t\\r \\xa0\\t\\r \\xa0\\t\\r \\xa0\\t\\r \\xa0\\t\\r \\xa0\\t\\r \\xa0\\t\\r \\xa0\\t\\r \\xa0\\t\\r \\xa0\\t\\r \\xa0\\t\\r \\xa0\\t\\r \\xa0\\t\\r \\xa0\\t\\r \\xa0\\t\\r \\xa0\\t\\r \\xa0\\t\\r \\xa0\\t\\r \\xa0\\t\\r \\xa0\\t\\r \\xa0\\t\\r \\xa0\\t\\r \\xa0\\t\\r \\xa0\\t\\r \\xa0\\t\\r \\xa0\\t\\r \\xa0\\t\\r \\xa0\\t\\r \\xa0\\t\\r \\xa0\\t\\r \\xa0\\t\\r \\xa0\\t\\r \\xa0\\t\\r \\xa0\\t\\r \\xa0\\t\\r \\xa0\\t\\r \\xa0\\n3 See: https://internationalrefugeelaw.wordpress.com/2013/08/26/the-dublin-regulation-a-critical-\\nexamination-of-a-troubled-system/ \\n\\n\\n\\n\\t\\r \\xa0\\n\\t\\r \\xa0\\n\\n13\\t\\r \\xa0\\n\\nmigration (EUCOM, 4.3.2015) and does not address some of the key criticisms \\n\\nlevied against the current system, such as the fact that individual claims to protection \\n\\nare often not assessed when the applicant originates from a country that is categorized \\n\\nas safe (Guild in Kneebone, 2014: 169). This trend is further underlined by the ten-\\n\\npoint plan4 issued by the European Commission after the Refugee Crisis Summit in \\n\\nApril 2015. The points reflect a focus on control (combating the smugglers, \\n\\nincreasing intelligence and more return programs) and do not significantly alter the \\n\\nmandate of the relevant Operations (Triton and Poseidon) to allow for effective rescue \\n\\noperations close to the Libyan Coast (EurActiv, 2015). The phrase contained in the \\n\\nvery first point within the mandate of Frontex makes is clear that saving lives is not \\n\\na priority, as this is not Frontex mandate.  \\n\\n \\n\\nThe current key elements and actors of the CEAS are the following5: \\n\\n \\n\\n1) The Qualification Directive (2011) clarifies the grounds on which international \\n\\nprotection is granted to asylum-seekers. The criteria are directly based on the \\n\\nGeneva Refugee Convention. \\n\\n2) The Asylum Procedure Directive (2013) establishes common procedures for \\n\\ngranting and withdrawing international protection, while strengthening the rights \\n\\nof asylum-seekers during the asylum procedure.  \\n\\n3) The Reception Conditions Directive (2013) ensures a common standard in \\n\\nMember States for asylum-seekers' access to healthcare, education, employment, \\n\\netc. It stipulates that detention is possible only as a last resort and for a period as \\n\\nshort as possible. \\n\\n4) The Dublin III regulation (2013) establishes the criteria for determining which \\n\\nMember State is responsible for examining an application for international \\n\\nprotection to avoid the phenomenon of 'refugees in orbit' (asylum-seekers for \\n\\nwhich no Member State takes responsibility) and to prevent multiple asylum \\n\\n\\t\\r \\xa0\\t\\r \\xa0\\t\\r \\xa0\\t\\r \\xa0\\t\\r \\xa0\\t\\r \\xa0\\t\\r \\xa0\\t\\r \\xa0\\t\\r \\xa0\\t\\r \\xa0\\t\\r \\xa0\\t\\r \\xa0\\t\\r \\xa0\\t\\r \\xa0\\t\\r \\xa0\\t\\r \\xa0\\t\\r \\xa0\\t\\r \\xa0\\t\\r \\xa0\\t\\r \\xa0\\t\\r \\xa0\\t\\r \\xa0\\t\\r \\xa0\\t\\r \\xa0\\t\\r \\xa0\\t\\r \\xa0\\t\\r \\xa0\\t\\r \\xa0\\t\\r \\xa0\\t\\r \\xa0\\t\\r \\xa0\\t\\r \\xa0\\t\\r \\xa0\\t\\r \\xa0\\t\\r \\xa0\\t\\r \\xa0\\t\\r \\xa0\\t\\r \\xa0\\t\\r \\xa0\\t\\r \\xa0\\t\\r \\xa0\\t\\r \\xa0\\t\\r \\xa0\\t\\r \\xa0\\t\\r \\xa0\\t\\r \\xa0\\t\\r \\xa0\\t\\r \\xa0\\t\\r \\xa0\\t\\r \\xa0\\t\\r \\xa0\\t\\r \\xa0\\t\\r \\xa0\\t\\r \\xa0\\t\\r \\xa0\\t\\r \\xa0\\n4 http://europa.eu/rapid/press-release_IP-15-4813_en.htm \\n5 Due to limited scope, the more internally targeted legislations cannot be elaborated on in more detail, \\nsee for a broader analysis: Velluti, 2014, Chapter 3.  \\n\\n\\n\\n\\t\\r \\xa0\\n\\t\\r \\xa0\\n\\n14\\t\\r \\xa0\\n\\napplications. By default the first Member State that the applicant entered is \\n\\nresponsible.6 \\n\\n5) Frontex: This Agency, founded in 2004, is tasked with securing the European \\n\\nexternal borders. It has gained much bad press for disrespecting human rights in its \\n\\nactions. Some of these concerns were at least nominally addressed in its 2011 \\n\\nadoption of a code of human rights; nevertheless many of the problems persist and \\n\\nthe basic problem of lacking accountability is not solved (Amnesty International, \\n\\n2014). \\n\\n6) The Common European Asylum Office (EASO), started to operate in 2010 and \\n\\nis meant to provide information about best practice in the field of asylum policies \\n\\nand also assist member states which come under particular stress through the \\n\\nDublin system. It cooperates with the UNHCR. \\n\\n \\n\\nFor this study, the Asylum Procedure Directive is of special interest as it clarifies \\n\\nthe rights of refugees and the corresponding duties of the EU and its member states. \\n\\nThe Directive establishes more procedural rights for an effective remedy and sets \\n\\nstrict timeframes for the processing of asylum application (registration of application \\n\\nwithin 3 working days and length of a regular asylum procedure may not exceed 6 \\n\\nmonths). The Directive establishes a wide reading of the principles of non-\\n\\nrefoulement but limits its scope of application in Article 3.1 to claims made in the \\n\\nterritory or at the border. \\n\\n1.2\\t\\r \\xa0Joint\\t\\r \\xa0Operation\\t\\r \\xa0Triton7\\t\\r \\xa0\\n \\n\\nJO Triton is the Frontex-led successor for the Italian search and rescue operation \\n\\nMare Nostrum and started its operations on 1 November 2014. It currently is the \\n\\nEuropean external migration control and migrant protection mechanism and clearly \\n\\ndeficient. Mare Nostrum had a budget of 9 million per month and deployed at any \\n\\ngiven time five Italian Navy ships with their air units and some 900 staff. It was \\n\\n\\t\\r \\xa0\\t\\r \\xa0\\t\\r \\xa0\\t\\r \\xa0\\t\\r \\xa0\\t\\r \\xa0\\t\\r \\xa0\\t\\r \\xa0\\t\\r \\xa0\\t\\r \\xa0\\t\\r \\xa0\\t\\r \\xa0\\t\\r \\xa0\\t\\r \\xa0\\t\\r \\xa0\\t\\r \\xa0\\t\\r \\xa0\\t\\r \\xa0\\t\\r \\xa0\\t\\r \\xa0\\t\\r \\xa0\\t\\r \\xa0\\t\\r \\xa0\\t\\r \\xa0\\t\\r \\xa0\\t\\r \\xa0\\t\\r \\xa0\\t\\r \\xa0\\t\\r \\xa0\\t\\r \\xa0\\t\\r \\xa0\\t\\r \\xa0\\t\\r \\xa0\\t\\r \\xa0\\t\\r \\xa0\\t\\r \\xa0\\t\\r \\xa0\\t\\r \\xa0\\t\\r \\xa0\\t\\r \\xa0\\t\\r \\xa0\\t\\r \\xa0\\t\\r \\xa0\\t\\r \\xa0\\t\\r \\xa0\\t\\r \\xa0\\t\\r \\xa0\\t\\r \\xa0\\t\\r \\xa0\\t\\r \\xa0\\t\\r \\xa0\\t\\r \\xa0\\t\\r \\xa0\\t\\r \\xa0\\t\\r \\xa0\\t\\r \\xa0\\n6 \\nhttp://www.europarl.europa.eu/RegData/etudes/BRIE/2015/551333/EPRS_BRI%282015%29551333_\\nEN.pdf \\n7 The focus lies on JO Triton, as this replaced Mare Nostrum and leaves open the most deadly routes \\nfrom Libya towards Italy. The other Frontex-led sea operation JO Poseidon is smaller and covers the \\nGreek islands in the Aegean sea (plus Crete) and is also mandated with border control.  \\n \\n\\n\\n\\n\\t\\r \\xa0\\n\\t\\r \\xa0\\n\\n15\\t\\r \\xa0\\n\\ndesigned to maximize capacity to assist boats in distress, to host people in safety at \\n\\nsea, and to minimize time in port to disembark rescued people so that assets could be \\n\\nquickly back at sea to save others (Amnesty, 2015: 15). In contrast, JO Triton does \\n\\nnot have rescue of migrants in distress as its prime mandate. This is reflected in its \\n\\nmuch narrower area of operation, only within 30 sea miles of the Italian coast. \\n\\nFrontex and other experts regard Tritons budget, at 2.9 million per month, and its \\n\\nassets as adequate for its operational objectives, i.e. border control (ibid: 19). The \\n\\ncurrent operation is consciously inadequate to rescue lives of migrants beyond the \\n\\nterritorial waters of European countries. Civil society actors, such as the Migrant \\n\\nOffshore Aid Stations8 have started to fill this gap and saved thousands of lives. \\n\\nHowever, they face the problem of disembarking the migrants, as no state has the \\n\\nduty to accept them. However, this does not compensate adequately for the reluctance \\n\\nof European states and the EU to making migrants survival a true priority.  \\n\\n \\n\\n1.3\\t\\r \\xa0The\\t\\r \\xa0Applicable\\t\\r \\xa0Law\\t\\r \\xa0of\\t\\r \\xa0The\\t\\r \\xa0Seas\\t\\r \\xa0\\n \\n\\nBeyond the territorial waters and the Contiguous Zone and the Exclusive Economic \\n\\nZone (where states may exercise certain control functions, viz. UNCLOS 33(1)), the \\n\\nLaw of the Seas is applicable. The EU is a party to UNCLOS and all EU member \\n\\nstates have ratified the convention as well. On the High Seas, the two principles of \\n\\nfreedom of navigation and flag-state jurisdiction apply (UNCLOS Articles 92 and 94) \\n\\nand obligations for search & rescue are established for states and masters of ships in \\n\\nArticle 98. This provision builds on similar provisions in the 1974\"\n"
          ],
          "name": "stdout"
        },
        {
          "output_type": "execute_result",
          "data": {
            "text/plain": [
              "['rights', 'human', 'law', 'eu', 'nthe']"
            ]
          },
          "metadata": {
            "tags": []
          },
          "execution_count": 33
        }
      ]
    }
  ]
}