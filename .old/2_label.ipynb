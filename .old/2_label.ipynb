{
  "nbformat": 4,
  "nbformat_minor": 0,
  "metadata": {
    "colab": {
      "name": "Kopie von Thesis Allocation",
      "provenance": [],
      "collapsed_sections": [],
      "include_colab_link": true
    },
    "kernelspec": {
      "name": "python3",
      "display_name": "Python 3"
    }
  },
  "cells": [
    {
      "cell_type": "markdown",
      "metadata": {
        "id": "view-in-github",
        "colab_type": "text"
      },
      "source": [
        "<a href=\"https://colab.research.google.com/github/esnue/ThesisAllocationSystem/blob/main/label.ipynb\" target=\"_parent\"><img src=\"https://colab.research.google.com/assets/colab-badge.svg\" alt=\"Open In Colab\"/></a>"
      ]
    },
    {
      "cell_type": "markdown",
      "metadata": {
        "id": "FKLq9ntWGKop"
      },
      "source": [
        "# **Preparation**"
      ]
    },
    {
      "cell_type": "markdown",
      "metadata": {
        "id": "xqqOSnErFifL"
      },
      "source": [
        "As part of the workflow between GitHub and Google Colab, please follow these steps: \n",
        "1. Upload the [data](https://drive.google.com/drive/folders/1ExS7M2OOkbYS5Z5O9pbPbaCpSa0rhGet?usp=sharing) to a folder in your GDrive. \n",
        "2. Mount your GDrive.\n",
        "3. Set the data folder as your present working directory. "
      ]
    },
    {
      "cell_type": "code",
      "metadata": {
        "id": "8-JdJ7tJXPED",
        "colab": {
          "base_uri": "https://localhost:8080/"
        },
        "outputId": "29213a33-a9cf-4a9c-e51b-5946c57967a6"
      },
      "source": [
        "from google.colab import drive\n",
        "drive.mount('/content/drive')"
      ],
      "execution_count": 1,
      "outputs": [
        {
          "output_type": "stream",
          "text": [
            "Mounted at /content/drive\n"
          ],
          "name": "stdout"
        }
      ]
    },
    {
      "cell_type": "code",
      "metadata": {
        "id": "gyIoA5EkFK8E",
        "colab": {
          "base_uri": "https://localhost:8080/"
        },
        "outputId": "f7accce9-3fd8-403e-9675-979befb4974f"
      },
      "source": [
        "!pwd\n",
        "%cd /content/drive/MyDrive/ThesisAllocationSystem"
      ],
      "execution_count": 2,
      "outputs": [
        {
          "output_type": "stream",
          "text": [
            "/content\n",
            "/content/drive/MyDrive/ThesisAllocationSystem\n"
          ],
          "name": "stdout"
        }
      ]
    },
    {
      "cell_type": "markdown",
      "metadata": {
        "id": "gMN3TWCFre-0"
      },
      "source": [
        "# **Data Labelling: Train**\n",
        "\n",
        "We manually define a dictionary containing a categorical label for each professor, broadly describing their area of research. Thereafter, we integrate these labels into the existing train dataset."
      ]
    },
    {
      "cell_type": "code",
      "metadata": {
        "id": "HJ7u3ZElrdP9"
      },
      "source": [
        "import numpy as np\n",
        "import pandas as pd\n",
        "\n",
        "# creating prof/research categorical label\n",
        "domain_dict = {'anheier': 'non_profit',\n",
        "              'bryson': 'technology_governance',\n",
        "              'cis': 'international_security',\n",
        "              'cali': 'international_law',\n",
        "              'cingolani': 'development_studies',              \n",
        "              'costello': 'migration_law',\n",
        "              'clachsland': 'climate_sustainability',\n",
        "              'graf': 'education',\n",
        "              'hallerberg': 'fiscal_governance',\n",
        "              'hammerschmid': 'public_management',\n",
        "              'hassel': 'labour_policy',\n",
        "              'hirth': 'energy_economics',\n",
        "              'hustedt': 'public_administration',\n",
        "              'iacovone': 'development_economics',\n",
        "              'jachtenfuchs': 'european_governance',\n",
        "              'jankin': 'data_science',\n",
        "              'kayser': 'comparative_politics',\n",
        "              'kreyenfeld': 'social_policy',\n",
        "              'mair': 'strategic_management',\n",
        "              'mena': 'organisational_management',              \n",
        "              'mungiu-pippidi': 'democracy_studies',\n",
        "              'munzert': 'political_behaviour',\n",
        "              'patz': 'international_organizations',\n",
        "              'reh': 'european_politics',\n",
        "              'roemmele': 'political_communication',\n",
        "               'shaikh': 'health_economics',\n",
        "               'snower': 'macroeconomics',\n",
        "               'stockmann': 'digital_governance',\n",
        "               'traxler': 'taxation',\n",
        "               'wegrich': 'policy_process'\n",
        "\n",
        "}"
      ],
      "execution_count": 209,
      "outputs": []
    },
    {
      "cell_type": "code",
      "metadata": {
        "colab": {
          "base_uri": "https://localhost:8080/"
        },
        "id": "e3mFJUzgr34u",
        "outputId": "bde7fabd-a9bb-4e60-e4f7-4dc3730170f1"
      },
      "source": [
        "# Load train data\n",
        "data = pd.read_csv('/content/drive/MyDrive/ThesisAllocationSystem/data_final/train-papers-final.csv', encoding = 'latin1')\n",
        "\n",
        "# Remove FileNames from txt ending\n",
        "data[\"FileName\"] = data[\"FileName\"].str.replace('.txt$', '').str.replace('\\d+', '').str.lower().str.replace('\\W+','')\n",
        "\n",
        "print(data.sample(10))"
      ],
      "execution_count": 210,
      "outputs": [
        {
          "output_type": "stream",
          "text": [
            "       FileName                                            Content\n",
            "112      bryson  b'AFRL-AFOSR-UK-TR-2012-0023 \\n \\n \\n \\n \\n \\n...\n",
            "145      bryson  b'205\\n\\n23\\nSimulation and the Evolution of \\...\n",
            "601        mair  b'9780521518550c04 92..119\\n\\n\\nSee discussion...\n",
            "586   cingolani  b'Contents.indd\\n\\n\\n \\n\\n \\nBreaking the Cycl...\n",
            "643     munzert  b'Measuring the Importance of Political Elites...\n",
            "226  hallerberg  b'See discussions, stats, and author profiles ...\n",
            "387        mena  b\"Mansell book review OS accepted version\\n\\n\\...\n",
            "174  flachsland  b'Is the Paris Agreement effective? A systemat...\n",
            "791     wegrich  b'Urban governance innovations in Rio de Janei...\n",
            "180  flachsland  b\"OPTIONS FOR A CARBON PRICING REFORM - EXECUT...\n"
          ],
          "name": "stdout"
        }
      ]
    },
    {
      "cell_type": "code",
      "metadata": {
        "id": "kRfVAgZHuG7U"
      },
      "source": [
        "# Create & save new shape\n",
        "data_new = pd.DataFrame()\n",
        "data_new = data[['Content','FileName']]\n",
        "data_new = data_new.rename(columns = {'FileName': 'label',\n",
        "                           'Content':'text'})\n",
        "data_new.sample(10)\n",
        "\n",
        "data_new.to_csv('/content/drive/MyDrive/ThesisAllocationSystem/data_final/label_data2.csv', index = False)\n"
      ],
      "execution_count": 217,
      "outputs": []
    },
    {
      "cell_type": "code",
      "metadata": {
        "colab": {
          "base_uri": "https://localhost:8080/"
        },
        "id": "L8RyLJVQsDGH",
        "outputId": "86902330-da37-48ea-94bb-351027f7c011"
      },
      "source": [
        "# Create a domain column to facilitate mapping on dictionary keys and pass labels as value\n",
        "data[\"domain\"] = data[\"FileName\"].map(domain_dict)\n",
        "print(data)"
      ],
      "execution_count": 180,
      "outputs": [
        {
          "output_type": "stream",
          "text": [
            "         FileName  ...             domain\n",
            "0    hammerschmid  ...  public_management\n",
            "1    hammerschmid  ...  public_management\n",
            "2    hammerschmid  ...  public_management\n",
            "3    hammerschmid  ...  public_management\n",
            "4    hammerschmid  ...  public_management\n",
            "..            ...  ...                ...\n",
            "806       wegrich  ...     policy_process\n",
            "807       wegrich  ...     policy_process\n",
            "808       wegrich  ...     policy_process\n",
            "809       wegrich  ...     policy_process\n",
            "810       wegrich  ...     policy_process\n",
            "\n",
            "[811 rows x 3 columns]\n"
          ],
          "name": "stdout"
        }
      ]
    },
    {
      "cell_type": "code",
      "metadata": {
        "colab": {
          "base_uri": "https://localhost:8080/"
        },
        "id": "V61bparZsOGW",
        "outputId": "10f12f7b-9648-450e-de0f-ebdfb79ef0f6"
      },
      "source": [
        "# Create binary dummy one-hot encoder for each research domain label\n",
        "dum_df = pd.get_dummies(data, columns=[\"domain\"])\n",
        "type(dum_df['domain_comparative_politics'].iloc[1])"
      ],
      "execution_count": 181,
      "outputs": [
        {
          "output_type": "execute_result",
          "data": {
            "text/plain": [
              "numpy.uint8"
            ]
          },
          "metadata": {
            "tags": []
          },
          "execution_count": 181
        }
      ]
    },
    {
      "cell_type": "code",
      "metadata": {
        "id": "PmYtmIBMsmFb"
      },
      "source": [
        "# concate the two dataframes \n",
        "data = pd.concat([data.iloc[:,:2], dum_df.iloc[:,2:]], axis = 1)\n",
        "\n",
        "# Save for extraction of labels\n",
        "data.drop_duplicates(subset = ['FileName']).to_csv('/content/drive/MyDrive/ThesisAllocationSystem/data_final/label_data.csv', index = False)"
      ],
      "execution_count": 182,
      "outputs": []
    },
    {
      "cell_type": "code",
      "metadata": {
        "id": "-HvNan7fprh7"
      },
      "source": [
        "data.drop(['FileName'], inplace=True, axis=1)"
      ],
      "execution_count": 183,
      "outputs": []
    },
    {
      "cell_type": "code",
      "metadata": {
        "id": "OKsy0IgnpzPV",
        "colab": {
          "base_uri": "https://localhost:8080/"
        },
        "outputId": "edd5fa7e-9d45-473c-c84d-47dd01843d91"
      },
      "source": [
        "train_df = pd.DataFrame()\n",
        "train_df['content'] = data['Content']\n",
        "train_df['labels'] = data.iloc[:, 1:].values.tolist()\n",
        "\n",
        "# Check type and content\n",
        "print(train_df.sample(10))\n",
        "print(type(train_df['labels'].iloc[1]))\n",
        "print(type(train_df['labels'].iloc[1][1]))\n",
        "print(train_df.shape)\n",
        "print(len(train_df['labels'].iloc[1]))"
      ],
      "execution_count": 184,
      "outputs": [
        {
          "output_type": "stream",
          "text": [
            "                                               content                                             labels\n",
            "252  b'17Wissenschaft Januar 2015\\n\\nFor researcher...  [0, 0, 0, 0, 0, 1, 0, 0, 0, 0, 0, 0, 0, 0, 0, ...\n",
            "365  b'Anticipatory analysis and its alternatives i...  [0, 0, 0, 0, 0, 0, 0, 0, 0, 0, 0, 0, 0, 0, 0, ...\n",
            "703  b'untitled\\n\\n\\nEU legitimacy revisited: the n...  [0, 0, 0, 0, 0, 0, 0, 0, 1, 0, 0, 0, 0, 0, 0, ...\n",
            "504  b'causes1.qxp\\n\\n\\nSee discussions, stats, and...  [0, 0, 1, 0, 0, 0, 0, 0, 0, 0, 0, 0, 0, 0, 0, ...\n",
            "586  b'Contents.indd\\n\\n\\n \\n\\n \\nBreaking the Cycl...  [0, 0, 0, 1, 0, 0, 0, 0, 0, 0, 0, 0, 0, 0, 0, ...\n",
            "195  b'1 \\n \\n\\n \\n\\n \\n \\n\\n \\n\\nClimate Policy an...  [0, 0, 0, 0, 0, 0, 0, 0, 0, 0, 0, 0, 0, 0, 0, ...\n",
            "188  b'Decarbonization and EU ETS Reform: Introduci...  [0, 0, 0, 0, 0, 0, 0, 0, 0, 0, 0, 0, 0, 0, 0, ...\n",
            "575  b'Microsoft Word - Polsci 2, 2007.doc\\n\\n\\n   ...  [0, 0, 0, 0, 0, 0, 0, 0, 0, 0, 0, 0, 0, 0, 0, ...\n",
            "587  b'0003958859 154..185\\n\\n\\nSee discussions, st...  [0, 0, 0, 1, 0, 0, 0, 0, 0, 0, 0, 0, 0, 0, 0, ...\n",
            "622  b'Microsoft Word - Institutions and Economic I...  [0, 0, 0, 0, 0, 0, 0, 0, 0, 0, 0, 0, 0, 0, 0, ...\n",
            "<class 'list'>\n",
            "<class 'int'>\n",
            "(811, 2)\n",
            "28\n"
          ],
          "name": "stdout"
        }
      ]
    },
    {
      "cell_type": "code",
      "metadata": {
        "id": "UWRFs0Cmznkn"
      },
      "source": [
        "# Save labeled dataframe as csv \n",
        "train_df.to_csv('/content/drive/MyDrive/ThesisAllocationSystem/data_final/train-papers-label.csv', index = False)"
      ],
      "execution_count": 185,
      "outputs": []
    },
    {
      "cell_type": "markdown",
      "metadata": {
        "id": "-7Fy2h8v71jj"
      },
      "source": [
        "# **Extract labelled data**"
      ]
    },
    {
      "cell_type": "code",
      "metadata": {
        "id": "QkB6wJjuJg7O"
      },
      "source": [
        "dat_label = pd.read_csv('/content/drive/MyDrive/ThesisAllocationSystem/data_final/label_data.csv', encoding = 'latin1')"
      ],
      "execution_count": 198,
      "outputs": []
    },
    {
      "cell_type": "code",
      "metadata": {
        "id": "GS_FoXIu26Ti"
      },
      "source": [
        "dat_label.drop(['Content'], inplace = True, axis = 1)"
      ],
      "execution_count": 199,
      "outputs": []
    },
    {
      "cell_type": "code",
      "metadata": {
        "id": "tVpwqRBWKwmF"
      },
      "source": [
        "dat_label['labels'] = dat_label.iloc[:, 1:].values.tolist()"
      ],
      "execution_count": 200,
      "outputs": []
    },
    {
      "cell_type": "code",
      "metadata": {
        "id": "GW1LdmkQ2edP",
        "colab": {
          "base_uri": "https://localhost:8080/"
        },
        "outputId": "2f771942-03aa-4d6c-c6bf-3173001c1808"
      },
      "source": [
        "label_df = pd.DataFrame()\n",
        "label_df['FileName'] = dat_label['FileName']\n",
        "label_df['labels'] = dat_label['labels']\n",
        "\n",
        "# Check type\n",
        "print(type(label_df))\n",
        "print(type(label_df['labels'].iloc[1]))\n",
        "print(type(label_df['labels'].iloc[1][1]))\n",
        "print(len(label_df['labels'].iloc[1]))"
      ],
      "execution_count": 201,
      "outputs": [
        {
          "output_type": "stream",
          "text": [
            "<class 'pandas.core.frame.DataFrame'>\n",
            "<class 'list'>\n",
            "<class 'int'>\n",
            "28\n"
          ],
          "name": "stdout"
        }
      ]
    },
    {
      "cell_type": "code",
      "metadata": {
        "id": "IqHAdtcfK4Hb"
      },
      "source": [
        "label_df.to_csv('/content/drive/MyDrive/ThesisAllocationSystem/data_final/label_data.csv', index = False)"
      ],
      "execution_count": 202,
      "outputs": []
    },
    {
      "cell_type": "markdown",
      "metadata": {
        "id": "WgXqHD5eP1n8"
      },
      "source": [
        "# **Data Labelling: Test**\n",
        "\n"
      ]
    },
    {
      "cell_type": "markdown",
      "metadata": {
        "id": "PfwU0NX5QDCy"
      },
      "source": [
        "In this section, we assign the newly created labels to student thesis proposals, either referring to their first or second preference. The finished data set will serve as a validation/test dataset."
      ]
    },
    {
      "cell_type": "code",
      "metadata": {
        "id": "0mW4Pnb-QV4e"
      },
      "source": [
        "# Load test data\n",
        "data_test = pd.read_csv('/content/drive/MyDrive/ThesisAllocationSystem/data_final/test-proposals-final.csv', encoding = 'latin1')"
      ],
      "execution_count": 203,
      "outputs": []
    },
    {
      "cell_type": "code",
      "metadata": {
        "id": "DUkiOytkQiHW"
      },
      "source": [
        "# Requirements for function: dict & label\n",
        "domain_dict2 = {'thesisproposal1': 'munzert',\n",
        "                'thesisproposal2': 'traxler',\n",
        "                'thesisproposal3': 'bryson',\n",
        "                'thesisproposal4': 'shaikh',\n",
        "                'thesisproposal5': 'munzert',\n",
        "                'thesisproposal6': 'iacovone'\n",
        "}\n",
        "\n",
        "label_df = pd.read_csv('/content/drive/MyDrive/ThesisAllocationSystem/data_final/label_data.csv', converters={'labels': eval})"
      ],
      "execution_count": 204,
      "outputs": []
    },
    {
      "cell_type": "code",
      "metadata": {
        "colab": {
          "base_uri": "https://localhost:8080/"
        },
        "id": "8KCj5b3WMRbW",
        "outputId": "c17bf923-ed8e-498b-af6b-eefe04563170"
      },
      "source": [
        "# Required class list & int\n",
        "print(type(label_df['labels'].iloc[1]))\n",
        "print(type(label_df['labels'].iloc[1][1]))"
      ],
      "execution_count": 205,
      "outputs": [
        {
          "output_type": "stream",
          "text": [
            "<class 'list'>\n",
            "<class 'int'>\n"
          ],
          "name": "stdout"
        }
      ]
    },
    {
      "cell_type": "code",
      "metadata": {
        "id": "ChoPKhqsKY9s"
      },
      "source": [
        "def append_labels(data, dict, label):\n",
        "    data[\"FileName\"] = data[\"FileName\"].str.replace(r'.txt$', '').str.lower().str.replace('\\W+', '')\n",
        "    data[\"FileName\"] = data[\"FileName\"].map(dict)\n",
        "    df_new = pd.merge(data, label, on = 'FileName')\n",
        "    df_new_new = df_new.rename(columns = {'Content': 'content'})\n",
        "    df_new_new.drop(['FileName'], inplace = True, axis = 1)\n",
        "\n",
        "    return df_new_new"
      ],
      "execution_count": 206,
      "outputs": []
    },
    {
      "cell_type": "code",
      "metadata": {
        "colab": {
          "base_uri": "https://localhost:8080/"
        },
        "id": "5x26M4KoLNLr",
        "outputId": "eb091ec9-8831-4ad9-c105-64f8ca7a1b92"
      },
      "source": [
        "test_df = append_labels(data_test, domain_dict2, label_df)\n",
        "\n",
        "print(type(test_df['labels'].iloc[1]))\n",
        "print(type(test_df['labels'].iloc[1][1]))\n",
        "print(len(test_df['labels'].iloc[1]))"
      ],
      "execution_count": 207,
      "outputs": [
        {
          "output_type": "stream",
          "text": [
            "<class 'list'>\n",
            "<class 'int'>\n",
            "28\n"
          ],
          "name": "stdout"
        }
      ]
    },
    {
      "cell_type": "code",
      "metadata": {
        "id": "h1zavpTsQnXx"
      },
      "source": [
        "# Save df\n",
        "test_df.to_csv('/content/drive/MyDrive/ThesisAllocationSystem/data_final/test-proposals-label.csv', index = False)"
      ],
      "execution_count": 208,
      "outputs": []
    }
  ]
}
