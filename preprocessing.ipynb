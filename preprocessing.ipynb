{
  "nbformat": 4,
  "nbformat_minor": 0,
  "metadata": {
    "colab": {
      "name": "Thesis Allocation",
      "provenance": [],
      "collapsed_sections": [],
      "toc_visible": true,
      "include_colab_link": true
    },
    "kernelspec": {
      "name": "python3",
      "display_name": "Python 3"
    },
    "accelerator": "GPU"
  },
  "cells": [
    {
      "cell_type": "markdown",
      "metadata": {
        "id": "view-in-github",
        "colab_type": "text"
      },
      "source": [
        "<a href=\"https://colab.research.google.com/github/esnue/ThesisAllocationSystem/blob/main/preprocessing.ipynb\" target=\"_parent\"><img src=\"https://colab.research.google.com/assets/colab-badge.svg\" alt=\"Open In Colab\"/></a>"
      ]
    },
    {
      "cell_type": "markdown",
      "metadata": {
        "id": "FKLq9ntWGKop"
      },
      "source": [
        "# Preparation"
      ]
    },
    {
      "cell_type": "markdown",
      "metadata": {
        "id": "xqqOSnErFifL"
      },
      "source": [
        "As part of the workflow between GitHub and Google Colab, please follow these steps: \n",
        "1. Upload the data to a folder in your GDrive. \n",
        "2. Mount your GDrive.\n",
        "3. Set the data folder as your present working directory. "
      ]
    },
    {
      "cell_type": "code",
      "metadata": {
        "id": "8-JdJ7tJXPED",
        "outputId": "d1ddd227-fee0-4de1-dd4b-b0ae107eb73c",
        "colab": {
          "base_uri": "https://localhost:8080/"
        }
      },
      "source": [
        "from google.colab import drive\n",
        "drive.mount('/content/drive')"
      ],
      "execution_count": 2,
      "outputs": [
        {
          "output_type": "stream",
          "text": [
            "Mounted at /content/drive\n"
          ],
          "name": "stdout"
        }
      ]
    },
    {
      "cell_type": "code",
      "metadata": {
        "id": "gyIoA5EkFK8E"
      },
      "source": [
        "!pwd\n",
        "%cd /content/drive/MyDrive/ThesisAllocationSystem"
      ],
      "execution_count": null,
      "outputs": []
    },
    {
      "cell_type": "markdown",
      "metadata": {
        "id": "1aZ2PBcoKAWM"
      },
      "source": [
        "# Convert PDF to TXT\n",
        "\n",
        "Convert all PDF files in the current working directory to TXT files."
      ]
    },
    {
      "cell_type": "code",
      "metadata": {
        "id": "i8l5BUkKHPr_"
      },
      "source": [
        "!pip install tika"
      ],
      "execution_count": null,
      "outputs": []
    },
    {
      "cell_type": "code",
      "metadata": {
        "id": "0-F6ZWwFyMu_"
      },
      "source": [
        "import os\n",
        "from tika import parser\n",
        "\n",
        "def read_pdf(pdf_file):\n",
        "\n",
        "    text = parser.from_file(pdf_file)['content']\n",
        "    return text.encode(\"latin-1\",\"ignore\")\n",
        "\n",
        "def pdf_to_txt(folder_with_pdf, dest_folder):\n",
        "    pdf_files = []\n",
        "\n",
        "    for root, dirs, files in os.walk(folder_with_pdf):\n",
        "        for f in files:\n",
        "            if '.pdf' in f:\n",
        "                pdf_files.append(os.path.join(root, f))\n",
        "    #print(pdf_files)\n",
        "\n",
        "    for file_ in pdf_files:\n",
        "        text_file = os.path.splitext(os.path.basename(file_))[0]+'.txt'\n",
        "        with open(os.path.join(dest_folder,text_file), 'wb') as text_f:\n",
        "            text_f.write(read_pdf(file_))\n",
        "\n",
        "    return None"
      ],
      "execution_count": null,
      "outputs": []
    },
    {
      "cell_type": "code",
      "metadata": {
        "id": "Vf-rOj0yY5Or"
      },
      "source": [
        "pdf_to_txt('./supervisors', './supervisors-txt') "
      ],
      "execution_count": null,
      "outputs": []
    },
    {
      "cell_type": "code",
      "metadata": {
        "id": "w9K3_kR0ZPc-"
      },
      "source": [
        "pdf_to_txt('./train-papers', './train-papers-txt') "
      ],
      "execution_count": null,
      "outputs": []
    },
    {
      "cell_type": "code",
      "metadata": {
        "id": "u5FJ_Lp5Y656"
      },
      "source": [
        "pdf_to_txt('./raw dat', './output') "
      ],
      "execution_count": null,
      "outputs": []
    },
    {
      "cell_type": "code",
      "metadata": {
        "id": "NiseIwIkY67g"
      },
      "source": [
        "pdf_to_txt('./raw dat', './output') "
      ],
      "execution_count": null,
      "outputs": []
    },
    {
      "cell_type": "code",
      "metadata": {
        "id": "3oF6Ua6UY79z"
      },
      "source": [
        "pdf_to_txt('./raw dat', './output') "
      ],
      "execution_count": null,
      "outputs": []
    },
    {
      "cell_type": "markdown",
      "metadata": {
        "id": "7-y9-PCXFzyR"
      },
      "source": [
        "# Put TXT files into CSV\n",
        "\n",
        "After importing the packages, define the directory of interest and run the function below to create a CSV files that entails all TXT files in the following structure: \n",
        "\n",
        "Filename | Content "
      ]
    },
    {
      "cell_type": "code",
      "metadata": {
        "id": "5YsWuXaqF6FF"
      },
      "source": [
        "import csv\n",
        "from pathlib import Path"
      ],
      "execution_count": null,
      "outputs": []
    },
    {
      "cell_type": "code",
      "metadata": {
        "id": "BTVcRMNCF5H0"
      },
      "source": [
        "def txt_to_csv(x): \n",
        "\n",
        "    os.chdir('/content/drive/MyDrive/ThesisAllocationSystem/' + x)\n",
        "\n",
        "    with open(x + '.csv', 'w', encoding = 'Latin-1') as out_file:\n",
        "        csv_out = csv.writer(out_file)\n",
        "        csv_out.writerow(['FileName', 'Content'])\n",
        "        for fileName in Path('.').glob('*.txt'):\n",
        "            lines = [ ]\n",
        "            with open(str(fileName.absolute()),'rb') as one_text:\n",
        "                for line in one_text.readlines():\n",
        "                    lines.append(line.decode(encoding='Latin-1',errors='ignore').strip())\n",
        "            csv_out.writerow([str(fileName),' '.join(lines)])"
      ],
      "execution_count": null,
      "outputs": []
    },
    {
      "cell_type": "code",
      "metadata": {
        "id": "yxRTYK5PlzZJ"
      },
      "source": [
        "txt_to_csv('train-papers-txt')"
      ],
      "execution_count": null,
      "outputs": []
    },
    {
      "cell_type": "code",
      "metadata": {
        "id": "HX1nEDwsG4bu"
      },
      "source": [
        "txt_to_csv('test-theses')"
      ],
      "execution_count": null,
      "outputs": []
    },
    {
      "cell_type": "code",
      "metadata": {
        "id": "5i84oN3sG61t"
      },
      "source": [
        "txt_to_csv('test-proposals')"
      ],
      "execution_count": null,
      "outputs": []
    },
    {
      "cell_type": "code",
      "metadata": {
        "id": "YBZ_HTKUOHDx"
      },
      "source": [
        "txt_to_csv('supervisors')"
      ],
      "execution_count": null,
      "outputs": []
    },
    {
      "cell_type": "markdown",
      "metadata": {
        "id": "gMN3TWCFre-0"
      },
      "source": [
        "## **Data Labelling**\n",
        "\n",
        "We manually define a dictionary containing a categorical label for each professor broadly describing their area of research. "
      ]
    },
    {
      "cell_type": "code",
      "metadata": {
        "id": "HJ7u3ZElrdP9"
      },
      "source": [
        "import pandas as pd\n",
        "import numpy as np\n",
        "\n",
        "# creating prof/research categorical label\n",
        "domain_dict = {'Anheier': 'non_profit',\n",
        "              'Bryson': 'technology_governance',\n",
        "              'CIS': 'international_security',\n",
        "              'Cali': 'international_law',\n",
        "              'Cingolani': 'development_studies',              \n",
        "              'Costello': 'migration_law',\n",
        "              'Flachsland': 'climate_sustainability',\n",
        "              'Graf': 'education',\n",
        "              'Hallerberg': 'fiscal_governance',\n",
        "              'Hammerschmid': 'public_management',\n",
        "              'Hassel': 'labour_policy',\n",
        "              'Hirth': 'energy_economics',\n",
        "              'Hustedt': 'public_administration',\n",
        "              'Iacovone': 'development_economics',\n",
        "              'Jachtenfuchs': 'european_governance',\n",
        "              'Jankin': 'data_science',\n",
        "              'Kayser': 'comparative_politics',\n",
        "              'Kreyenfeld': 'social_policy',\n",
        "              'Mair': 'strategic_management',\n",
        "              'Mena': 'organisational_management',              \n",
        "              'Mungiu-Pippidi': 'democracy_studies',\n",
        "              'Munzert': 'political_behaviour',\n",
        "              'Patz': 'international_organizations',\n",
        "              'Reh': 'european_politics',\n",
        "              'Roemmele': 'political_communication'                         \n",
        "}\n"
      ],
      "execution_count": 3,
      "outputs": []
    },
    {
      "cell_type": "code",
      "metadata": {
        "id": "e3mFJUzgr34u",
        "outputId": "d33a64d1-c2e7-4fbd-e291-845308eb2789",
        "colab": {
          "base_uri": "https://localhost:8080/"
        }
      },
      "source": [
        "#load training data frame \n",
        "train_df = pd.read_csv('/content/drive/MyDrive/ThesisAllocationSystem/train-papers-txt/train-papers-txt.csv', encoding='latin1')\n",
        "\n",
        "#clean FileNames from txt ending\n",
        "train_df[\"FileName\"] = train_df[\"FileName\"].str.replace(r'.txt$', '').str.replace(r'\\d+', '')\n",
        "\n",
        "print(train_df)"
      ],
      "execution_count": 8,
      "outputs": [
        {
          "output_type": "stream",
          "text": [
            "         FileName                                            Content\n",
            "0    Hammerschmid                                                ...\n",
            "1    Hammerschmid                                         2007 EG...\n",
            "2    Hammerschmid                                                ...\n",
            "3    Hammerschmid                                               C...\n",
            "4    Hammerschmid                                                ...\n",
            "..            ...                                                ...\n",
            "377    Kreyenfeld                                                ...\n",
            "378        Bryson                                            Gaud...\n",
            "379        Bryson                                                ...\n",
            "380        Bryson                                         1240027...\n",
            "381        Bryson                                                ...\n",
            "\n",
            "[382 rows x 2 columns]\n"
          ],
          "name": "stdout"
        }
      ]
    },
    {
      "cell_type": "code",
      "metadata": {
        "id": "L8RyLJVQsDGH",
        "outputId": "9f336f93-43a1-4c1d-d5e6-5c2126ab47c1",
        "colab": {
          "base_uri": "https://localhost:8080/"
        }
      },
      "source": [
        "#create a domain column to facilitate mapping on dictionary keys and pass labels as value\n",
        "train_df[\"domain\"] = train_df[\"FileName\"].map(domain_dict)\n",
        "\n",
        "print(train_df)"
      ],
      "execution_count": 10,
      "outputs": [
        {
          "output_type": "stream",
          "text": [
            "         FileName  ...                 domain\n",
            "0    Hammerschmid  ...      public_management\n",
            "1    Hammerschmid  ...      public_management\n",
            "2    Hammerschmid  ...      public_management\n",
            "3    Hammerschmid  ...      public_management\n",
            "4    Hammerschmid  ...      public_management\n",
            "..            ...  ...                    ...\n",
            "377    Kreyenfeld  ...          social_policy\n",
            "378        Bryson  ...  technology_governance\n",
            "379        Bryson  ...  technology_governance\n",
            "380        Bryson  ...  technology_governance\n",
            "381        Bryson  ...  technology_governance\n",
            "\n",
            "[382 rows x 3 columns]\n"
          ],
          "name": "stdout"
        }
      ]
    },
    {
      "cell_type": "code",
      "metadata": {
        "id": "V61bparZsOGW",
        "outputId": "0c58ca2a-55fd-4d2f-96df-2ea26ccd905b",
        "colab": {
          "base_uri": "https://localhost:8080/",
          "height": 439
        }
      },
      "source": [
        "#create binary dummy one-hot encoder for each research domain label\n",
        "dum_df = pd.get_dummies(train_df, columns=[\"domain\"])\n",
        "dum_df"
      ],
      "execution_count": 11,
      "outputs": [
        {
          "output_type": "execute_result",
          "data": {
            "text/html": [
              "<div>\n",
              "<style scoped>\n",
              "    .dataframe tbody tr th:only-of-type {\n",
              "        vertical-align: middle;\n",
              "    }\n",
              "\n",
              "    .dataframe tbody tr th {\n",
              "        vertical-align: top;\n",
              "    }\n",
              "\n",
              "    .dataframe thead th {\n",
              "        text-align: right;\n",
              "    }\n",
              "</style>\n",
              "<table border=\"1\" class=\"dataframe\">\n",
              "  <thead>\n",
              "    <tr style=\"text-align: right;\">\n",
              "      <th></th>\n",
              "      <th>FileName</th>\n",
              "      <th>Content</th>\n",
              "      <th>domain_climate_sustainability</th>\n",
              "      <th>domain_data_science</th>\n",
              "      <th>domain_education</th>\n",
              "      <th>domain_fiscal_governance</th>\n",
              "      <th>domain_international_law</th>\n",
              "      <th>domain_labour_policy</th>\n",
              "      <th>domain_migration_law</th>\n",
              "      <th>domain_non_profit</th>\n",
              "      <th>domain_political_communication</th>\n",
              "      <th>domain_public_administration</th>\n",
              "      <th>domain_public_management</th>\n",
              "      <th>domain_social_policy</th>\n",
              "      <th>domain_technology_governance</th>\n",
              "    </tr>\n",
              "  </thead>\n",
              "  <tbody>\n",
              "    <tr>\n",
              "      <th>0</th>\n",
              "      <td>Hammerschmid</td>\n",
              "      <td>...</td>\n",
              "      <td>0</td>\n",
              "      <td>0</td>\n",
              "      <td>0</td>\n",
              "      <td>0</td>\n",
              "      <td>0</td>\n",
              "      <td>0</td>\n",
              "      <td>0</td>\n",
              "      <td>0</td>\n",
              "      <td>0</td>\n",
              "      <td>0</td>\n",
              "      <td>1</td>\n",
              "      <td>0</td>\n",
              "      <td>0</td>\n",
              "    </tr>\n",
              "    <tr>\n",
              "      <th>1</th>\n",
              "      <td>Hammerschmid</td>\n",
              "      <td>2007 EG...</td>\n",
              "      <td>0</td>\n",
              "      <td>0</td>\n",
              "      <td>0</td>\n",
              "      <td>0</td>\n",
              "      <td>0</td>\n",
              "      <td>0</td>\n",
              "      <td>0</td>\n",
              "      <td>0</td>\n",
              "      <td>0</td>\n",
              "      <td>0</td>\n",
              "      <td>1</td>\n",
              "      <td>0</td>\n",
              "      <td>0</td>\n",
              "    </tr>\n",
              "    <tr>\n",
              "      <th>2</th>\n",
              "      <td>Hammerschmid</td>\n",
              "      <td>...</td>\n",
              "      <td>0</td>\n",
              "      <td>0</td>\n",
              "      <td>0</td>\n",
              "      <td>0</td>\n",
              "      <td>0</td>\n",
              "      <td>0</td>\n",
              "      <td>0</td>\n",
              "      <td>0</td>\n",
              "      <td>0</td>\n",
              "      <td>0</td>\n",
              "      <td>1</td>\n",
              "      <td>0</td>\n",
              "      <td>0</td>\n",
              "    </tr>\n",
              "    <tr>\n",
              "      <th>3</th>\n",
              "      <td>Hammerschmid</td>\n",
              "      <td>C...</td>\n",
              "      <td>0</td>\n",
              "      <td>0</td>\n",
              "      <td>0</td>\n",
              "      <td>0</td>\n",
              "      <td>0</td>\n",
              "      <td>0</td>\n",
              "      <td>0</td>\n",
              "      <td>0</td>\n",
              "      <td>0</td>\n",
              "      <td>0</td>\n",
              "      <td>1</td>\n",
              "      <td>0</td>\n",
              "      <td>0</td>\n",
              "    </tr>\n",
              "    <tr>\n",
              "      <th>4</th>\n",
              "      <td>Hammerschmid</td>\n",
              "      <td>...</td>\n",
              "      <td>0</td>\n",
              "      <td>0</td>\n",
              "      <td>0</td>\n",
              "      <td>0</td>\n",
              "      <td>0</td>\n",
              "      <td>0</td>\n",
              "      <td>0</td>\n",
              "      <td>0</td>\n",
              "      <td>0</td>\n",
              "      <td>0</td>\n",
              "      <td>1</td>\n",
              "      <td>0</td>\n",
              "      <td>0</td>\n",
              "    </tr>\n",
              "    <tr>\n",
              "      <th>...</th>\n",
              "      <td>...</td>\n",
              "      <td>...</td>\n",
              "      <td>...</td>\n",
              "      <td>...</td>\n",
              "      <td>...</td>\n",
              "      <td>...</td>\n",
              "      <td>...</td>\n",
              "      <td>...</td>\n",
              "      <td>...</td>\n",
              "      <td>...</td>\n",
              "      <td>...</td>\n",
              "      <td>...</td>\n",
              "      <td>...</td>\n",
              "      <td>...</td>\n",
              "      <td>...</td>\n",
              "    </tr>\n",
              "    <tr>\n",
              "      <th>377</th>\n",
              "      <td>Kreyenfeld</td>\n",
              "      <td>...</td>\n",
              "      <td>0</td>\n",
              "      <td>0</td>\n",
              "      <td>0</td>\n",
              "      <td>0</td>\n",
              "      <td>0</td>\n",
              "      <td>0</td>\n",
              "      <td>0</td>\n",
              "      <td>0</td>\n",
              "      <td>0</td>\n",
              "      <td>0</td>\n",
              "      <td>0</td>\n",
              "      <td>1</td>\n",
              "      <td>0</td>\n",
              "    </tr>\n",
              "    <tr>\n",
              "      <th>378</th>\n",
              "      <td>Bryson</td>\n",
              "      <td>Gaud...</td>\n",
              "      <td>0</td>\n",
              "      <td>0</td>\n",
              "      <td>0</td>\n",
              "      <td>0</td>\n",
              "      <td>0</td>\n",
              "      <td>0</td>\n",
              "      <td>0</td>\n",
              "      <td>0</td>\n",
              "      <td>0</td>\n",
              "      <td>0</td>\n",
              "      <td>0</td>\n",
              "      <td>0</td>\n",
              "      <td>1</td>\n",
              "    </tr>\n",
              "    <tr>\n",
              "      <th>379</th>\n",
              "      <td>Bryson</td>\n",
              "      <td>...</td>\n",
              "      <td>0</td>\n",
              "      <td>0</td>\n",
              "      <td>0</td>\n",
              "      <td>0</td>\n",
              "      <td>0</td>\n",
              "      <td>0</td>\n",
              "      <td>0</td>\n",
              "      <td>0</td>\n",
              "      <td>0</td>\n",
              "      <td>0</td>\n",
              "      <td>0</td>\n",
              "      <td>0</td>\n",
              "      <td>1</td>\n",
              "    </tr>\n",
              "    <tr>\n",
              "      <th>380</th>\n",
              "      <td>Bryson</td>\n",
              "      <td>1240027...</td>\n",
              "      <td>0</td>\n",
              "      <td>0</td>\n",
              "      <td>0</td>\n",
              "      <td>0</td>\n",
              "      <td>0</td>\n",
              "      <td>0</td>\n",
              "      <td>0</td>\n",
              "      <td>0</td>\n",
              "      <td>0</td>\n",
              "      <td>0</td>\n",
              "      <td>0</td>\n",
              "      <td>0</td>\n",
              "      <td>1</td>\n",
              "    </tr>\n",
              "    <tr>\n",
              "      <th>381</th>\n",
              "      <td>Bryson</td>\n",
              "      <td>...</td>\n",
              "      <td>0</td>\n",
              "      <td>0</td>\n",
              "      <td>0</td>\n",
              "      <td>0</td>\n",
              "      <td>0</td>\n",
              "      <td>0</td>\n",
              "      <td>0</td>\n",
              "      <td>0</td>\n",
              "      <td>0</td>\n",
              "      <td>0</td>\n",
              "      <td>0</td>\n",
              "      <td>0</td>\n",
              "      <td>1</td>\n",
              "    </tr>\n",
              "  </tbody>\n",
              "</table>\n",
              "<p>382 rows × 15 columns</p>\n",
              "</div>"
            ],
            "text/plain": [
              "         FileName  ... domain_technology_governance\n",
              "0    Hammerschmid  ...                            0\n",
              "1    Hammerschmid  ...                            0\n",
              "2    Hammerschmid  ...                            0\n",
              "3    Hammerschmid  ...                            0\n",
              "4    Hammerschmid  ...                            0\n",
              "..            ...  ...                          ...\n",
              "377    Kreyenfeld  ...                            0\n",
              "378        Bryson  ...                            1\n",
              "379        Bryson  ...                            1\n",
              "380        Bryson  ...                            1\n",
              "381        Bryson  ...                            1\n",
              "\n",
              "[382 rows x 15 columns]"
            ]
          },
          "metadata": {
            "tags": []
          },
          "execution_count": 11
        }
      ]
    },
    {
      "cell_type": "code",
      "metadata": {
        "id": "PmYtmIBMsmFb",
        "outputId": "a1e8e25d-2f5e-4010-fe4e-c418f88f7864",
        "colab": {
          "base_uri": "https://localhost:8080/",
          "height": 439
        }
      },
      "source": [
        "#concate the two dataframes\n",
        "train_df = pd.concat([train_df, dum_df], axis = 1)\n",
        "train_df"
      ],
      "execution_count": 14,
      "outputs": [
        {
          "output_type": "execute_result",
          "data": {
            "text/html": [
              "<div>\n",
              "<style scoped>\n",
              "    .dataframe tbody tr th:only-of-type {\n",
              "        vertical-align: middle;\n",
              "    }\n",
              "\n",
              "    .dataframe tbody tr th {\n",
              "        vertical-align: top;\n",
              "    }\n",
              "\n",
              "    .dataframe thead th {\n",
              "        text-align: right;\n",
              "    }\n",
              "</style>\n",
              "<table border=\"1\" class=\"dataframe\">\n",
              "  <thead>\n",
              "    <tr style=\"text-align: right;\">\n",
              "      <th></th>\n",
              "      <th>FileName</th>\n",
              "      <th>Content</th>\n",
              "      <th>domain</th>\n",
              "      <th>FileName</th>\n",
              "      <th>Content</th>\n",
              "      <th>domain_climate_sustainability</th>\n",
              "      <th>domain_data_science</th>\n",
              "      <th>domain_education</th>\n",
              "      <th>domain_fiscal_governance</th>\n",
              "      <th>domain_international_law</th>\n",
              "      <th>domain_labour_policy</th>\n",
              "      <th>domain_migration_law</th>\n",
              "      <th>domain_non_profit</th>\n",
              "      <th>domain_political_communication</th>\n",
              "      <th>domain_public_administration</th>\n",
              "      <th>domain_public_management</th>\n",
              "      <th>domain_social_policy</th>\n",
              "      <th>domain_technology_governance</th>\n",
              "    </tr>\n",
              "  </thead>\n",
              "  <tbody>\n",
              "    <tr>\n",
              "      <th>0</th>\n",
              "      <td>Hammerschmid</td>\n",
              "      <td>...</td>\n",
              "      <td>public_management</td>\n",
              "      <td>Hammerschmid</td>\n",
              "      <td>...</td>\n",
              "      <td>0</td>\n",
              "      <td>0</td>\n",
              "      <td>0</td>\n",
              "      <td>0</td>\n",
              "      <td>0</td>\n",
              "      <td>0</td>\n",
              "      <td>0</td>\n",
              "      <td>0</td>\n",
              "      <td>0</td>\n",
              "      <td>0</td>\n",
              "      <td>1</td>\n",
              "      <td>0</td>\n",
              "      <td>0</td>\n",
              "    </tr>\n",
              "    <tr>\n",
              "      <th>1</th>\n",
              "      <td>Hammerschmid</td>\n",
              "      <td>2007 EG...</td>\n",
              "      <td>public_management</td>\n",
              "      <td>Hammerschmid</td>\n",
              "      <td>2007 EG...</td>\n",
              "      <td>0</td>\n",
              "      <td>0</td>\n",
              "      <td>0</td>\n",
              "      <td>0</td>\n",
              "      <td>0</td>\n",
              "      <td>0</td>\n",
              "      <td>0</td>\n",
              "      <td>0</td>\n",
              "      <td>0</td>\n",
              "      <td>0</td>\n",
              "      <td>1</td>\n",
              "      <td>0</td>\n",
              "      <td>0</td>\n",
              "    </tr>\n",
              "    <tr>\n",
              "      <th>2</th>\n",
              "      <td>Hammerschmid</td>\n",
              "      <td>...</td>\n",
              "      <td>public_management</td>\n",
              "      <td>Hammerschmid</td>\n",
              "      <td>...</td>\n",
              "      <td>0</td>\n",
              "      <td>0</td>\n",
              "      <td>0</td>\n",
              "      <td>0</td>\n",
              "      <td>0</td>\n",
              "      <td>0</td>\n",
              "      <td>0</td>\n",
              "      <td>0</td>\n",
              "      <td>0</td>\n",
              "      <td>0</td>\n",
              "      <td>1</td>\n",
              "      <td>0</td>\n",
              "      <td>0</td>\n",
              "    </tr>\n",
              "    <tr>\n",
              "      <th>3</th>\n",
              "      <td>Hammerschmid</td>\n",
              "      <td>C...</td>\n",
              "      <td>public_management</td>\n",
              "      <td>Hammerschmid</td>\n",
              "      <td>C...</td>\n",
              "      <td>0</td>\n",
              "      <td>0</td>\n",
              "      <td>0</td>\n",
              "      <td>0</td>\n",
              "      <td>0</td>\n",
              "      <td>0</td>\n",
              "      <td>0</td>\n",
              "      <td>0</td>\n",
              "      <td>0</td>\n",
              "      <td>0</td>\n",
              "      <td>1</td>\n",
              "      <td>0</td>\n",
              "      <td>0</td>\n",
              "    </tr>\n",
              "    <tr>\n",
              "      <th>4</th>\n",
              "      <td>Hammerschmid</td>\n",
              "      <td>...</td>\n",
              "      <td>public_management</td>\n",
              "      <td>Hammerschmid</td>\n",
              "      <td>...</td>\n",
              "      <td>0</td>\n",
              "      <td>0</td>\n",
              "      <td>0</td>\n",
              "      <td>0</td>\n",
              "      <td>0</td>\n",
              "      <td>0</td>\n",
              "      <td>0</td>\n",
              "      <td>0</td>\n",
              "      <td>0</td>\n",
              "      <td>0</td>\n",
              "      <td>1</td>\n",
              "      <td>0</td>\n",
              "      <td>0</td>\n",
              "    </tr>\n",
              "    <tr>\n",
              "      <th>...</th>\n",
              "      <td>...</td>\n",
              "      <td>...</td>\n",
              "      <td>...</td>\n",
              "      <td>...</td>\n",
              "      <td>...</td>\n",
              "      <td>...</td>\n",
              "      <td>...</td>\n",
              "      <td>...</td>\n",
              "      <td>...</td>\n",
              "      <td>...</td>\n",
              "      <td>...</td>\n",
              "      <td>...</td>\n",
              "      <td>...</td>\n",
              "      <td>...</td>\n",
              "      <td>...</td>\n",
              "      <td>...</td>\n",
              "      <td>...</td>\n",
              "      <td>...</td>\n",
              "    </tr>\n",
              "    <tr>\n",
              "      <th>377</th>\n",
              "      <td>Kreyenfeld</td>\n",
              "      <td>...</td>\n",
              "      <td>social_policy</td>\n",
              "      <td>Kreyenfeld</td>\n",
              "      <td>...</td>\n",
              "      <td>0</td>\n",
              "      <td>0</td>\n",
              "      <td>0</td>\n",
              "      <td>0</td>\n",
              "      <td>0</td>\n",
              "      <td>0</td>\n",
              "      <td>0</td>\n",
              "      <td>0</td>\n",
              "      <td>0</td>\n",
              "      <td>0</td>\n",
              "      <td>0</td>\n",
              "      <td>1</td>\n",
              "      <td>0</td>\n",
              "    </tr>\n",
              "    <tr>\n",
              "      <th>378</th>\n",
              "      <td>Bryson</td>\n",
              "      <td>Gaud...</td>\n",
              "      <td>technology_governance</td>\n",
              "      <td>Bryson</td>\n",
              "      <td>Gaud...</td>\n",
              "      <td>0</td>\n",
              "      <td>0</td>\n",
              "      <td>0</td>\n",
              "      <td>0</td>\n",
              "      <td>0</td>\n",
              "      <td>0</td>\n",
              "      <td>0</td>\n",
              "      <td>0</td>\n",
              "      <td>0</td>\n",
              "      <td>0</td>\n",
              "      <td>0</td>\n",
              "      <td>0</td>\n",
              "      <td>1</td>\n",
              "    </tr>\n",
              "    <tr>\n",
              "      <th>379</th>\n",
              "      <td>Bryson</td>\n",
              "      <td>...</td>\n",
              "      <td>technology_governance</td>\n",
              "      <td>Bryson</td>\n",
              "      <td>...</td>\n",
              "      <td>0</td>\n",
              "      <td>0</td>\n",
              "      <td>0</td>\n",
              "      <td>0</td>\n",
              "      <td>0</td>\n",
              "      <td>0</td>\n",
              "      <td>0</td>\n",
              "      <td>0</td>\n",
              "      <td>0</td>\n",
              "      <td>0</td>\n",
              "      <td>0</td>\n",
              "      <td>0</td>\n",
              "      <td>1</td>\n",
              "    </tr>\n",
              "    <tr>\n",
              "      <th>380</th>\n",
              "      <td>Bryson</td>\n",
              "      <td>1240027...</td>\n",
              "      <td>technology_governance</td>\n",
              "      <td>Bryson</td>\n",
              "      <td>1240027...</td>\n",
              "      <td>0</td>\n",
              "      <td>0</td>\n",
              "      <td>0</td>\n",
              "      <td>0</td>\n",
              "      <td>0</td>\n",
              "      <td>0</td>\n",
              "      <td>0</td>\n",
              "      <td>0</td>\n",
              "      <td>0</td>\n",
              "      <td>0</td>\n",
              "      <td>0</td>\n",
              "      <td>0</td>\n",
              "      <td>1</td>\n",
              "    </tr>\n",
              "    <tr>\n",
              "      <th>381</th>\n",
              "      <td>Bryson</td>\n",
              "      <td>...</td>\n",
              "      <td>technology_governance</td>\n",
              "      <td>Bryson</td>\n",
              "      <td>...</td>\n",
              "      <td>0</td>\n",
              "      <td>0</td>\n",
              "      <td>0</td>\n",
              "      <td>0</td>\n",
              "      <td>0</td>\n",
              "      <td>0</td>\n",
              "      <td>0</td>\n",
              "      <td>0</td>\n",
              "      <td>0</td>\n",
              "      <td>0</td>\n",
              "      <td>0</td>\n",
              "      <td>0</td>\n",
              "      <td>1</td>\n",
              "    </tr>\n",
              "  </tbody>\n",
              "</table>\n",
              "<p>382 rows × 18 columns</p>\n",
              "</div>"
            ],
            "text/plain": [
              "         FileName  ... domain_technology_governance\n",
              "0    Hammerschmid  ...                            0\n",
              "1    Hammerschmid  ...                            0\n",
              "2    Hammerschmid  ...                            0\n",
              "3    Hammerschmid  ...                            0\n",
              "4    Hammerschmid  ...                            0\n",
              "..            ...  ...                          ...\n",
              "377    Kreyenfeld  ...                            0\n",
              "378        Bryson  ...                            1\n",
              "379        Bryson  ...                            1\n",
              "380        Bryson  ...                            1\n",
              "381        Bryson  ...                            1\n",
              "\n",
              "[382 rows x 18 columns]"
            ]
          },
          "metadata": {
            "tags": []
          },
          "execution_count": 14
        }
      ]
    }
  ]
}