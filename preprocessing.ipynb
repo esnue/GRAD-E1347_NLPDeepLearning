{
  "nbformat": 4,
  "nbformat_minor": 0,
  "metadata": {
    "colab": {
      "name": "Thesis Allocation",
      "provenance": [],
      "collapsed_sections": [],
      "toc_visible": true,
      "include_colab_link": true
    },
    "kernelspec": {
      "name": "python3",
      "display_name": "Python 3"
    }
  },
  "cells": [
    {
      "cell_type": "markdown",
      "metadata": {
        "id": "view-in-github",
        "colab_type": "text"
      },
      "source": [
        "<a href=\"https://colab.research.google.com/github/esnue/ThesisAllocationSystem/blob/main/preprocessing.ipynb\" target=\"_parent\"><img src=\"https://colab.research.google.com/assets/colab-badge.svg\" alt=\"Open In Colab\"/></a>"
      ]
    },
    {
      "cell_type": "markdown",
      "metadata": {
        "id": "FKLq9ntWGKop"
      },
      "source": [
        "# Preparation"
      ]
    },
    {
      "cell_type": "markdown",
      "metadata": {
        "id": "xqqOSnErFifL"
      },
      "source": [
        "As part of the workflow between GitHub and Google Colab, please follow these steps: \n",
        "1. Upload the data to a folder in your GDrive. \n",
        "2. Mount your GDrive.\n",
        "3. Set the data folder as your present working directory. "
      ]
    },
    {
      "cell_type": "code",
      "metadata": {
        "id": "8-JdJ7tJXPED"
      },
      "source": [
        "from google.colab import drive\n",
        "drive.mount('/content/drive')"
      ],
      "execution_count": null,
      "outputs": []
    },
    {
      "cell_type": "code",
      "metadata": {
        "id": "gyIoA5EkFK8E"
      },
      "source": [
        "!pwd\n",
        "%cd /content/drive/MyDrive/ThesisAllocationSystem"
      ],
      "execution_count": null,
      "outputs": []
    },
    {
      "cell_type": "markdown",
      "metadata": {
        "id": "1aZ2PBcoKAWM"
      },
      "source": [
        "# Convert PDF to TXT\n",
        "\n",
        "Convert all PDF files in the current working directory to TXT files."
      ]
    },
    {
      "cell_type": "code",
      "metadata": {
        "id": "i8l5BUkKHPr_"
      },
      "source": [
        "!pip install tika"
      ],
      "execution_count": null,
      "outputs": []
    },
    {
      "cell_type": "code",
      "metadata": {
        "id": "jbdJXRlIJeC8"
      },
      "source": [
        "from tika import parser\n",
        "import os\n",
        "\n",
        "def extract_text_from_pdfs_recursively(dir):\n",
        "  \n",
        "    for root, dirs, files in os.walk(dir):\n",
        "        for file in files:\n",
        "            path_to_pdf = os.path.join(root, file)\n",
        "            [stem, ext] = os.path.splitext(path_to_pdf)\n",
        "            if ext == '.pdf':\n",
        "                print(\"Processing \" + path_to_pdf)\n",
        "                pdf_contents = parser.from_file(path_to_pdf)\n",
        "                path_to_txt = stem + '.txt'\n",
        "                with open(path_to_txt, 'w') as txt_file:\n",
        "                    print(\"Writing contents to \" + path_to_txt)\n",
        "                    txt_file.write(pdf_contents['content'])\n",
        "\n",
        "\n",
        "if __name__ == \"__main__\":\n",
        "    extract_text_from_pdfs_recursively(os.getcwd())"
      ],
      "execution_count": null,
      "outputs": []
    },
    {
      "cell_type": "markdown",
      "metadata": {
        "id": "7-y9-PCXFzyR"
      },
      "source": [
        "# Put TXT files into CSV\n",
        "\n",
        "After importing the packages, define the directory of interest and run the function below to create a CSV files that entails all TXT files in the following structure: \n",
        "\n",
        "Filename | Content "
      ]
    },
    {
      "cell_type": "code",
      "metadata": {
        "id": "5YsWuXaqF6FF"
      },
      "source": [
        "import csv\n",
        "from pathlib import Path"
      ],
      "execution_count": null,
      "outputs": []
    },
    {
      "cell_type": "code",
      "metadata": {
        "id": "BTVcRMNCF5H0"
      },
      "source": [
        "def pdf_to_txt(x): \n",
        "\n",
        "    os.chdir('/content/drive/MyDrive/ThesisAllocationSystem/' + x)\n",
        "\n",
        "    with open(x + '.csv', 'w', encoding='Latin-1') as out_file:\n",
        "        csv_out = csv.writer(out_file)\n",
        "        csv_out.writerow(['FileName', 'Content'])\n",
        "        for fileName in Path('.').glob('*.txt'):\n",
        "            lines = [ ]\n",
        "            with open(str(fileName.absolute()),'rb') as one_text:\n",
        "                for line in one_text.readlines():\n",
        "                    lines.append(line.decode(encoding='Latin-1',errors='ignore').strip())\n",
        "            csv_out.writerow([str(fileName),' '.join(lines)])"
      ],
      "execution_count": null,
      "outputs": []
    },
    {
      "cell_type": "code",
      "metadata": {
        "id": "YBZ_HTKUOHDx"
      },
      "source": [
        "pdf_to_txt('proposals')\r\n",
        "pdf_to_txt('supervisors')"
      ],
      "execution_count": null,
      "outputs": []
    }
  ]
}