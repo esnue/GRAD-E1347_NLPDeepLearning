{
  "nbformat": 4,
  "nbformat_minor": 0,
  "metadata": {
    "colab": {
      "name": "Thesis Allocation",
      "provenance": [],
      "collapsed_sections": [],
      "include_colab_link": true
    },
    "kernelspec": {
      "name": "python3",
      "display_name": "Python 3"
    }
  },
  "cells": [
    {
      "cell_type": "markdown",
      "metadata": {
        "id": "view-in-github",
        "colab_type": "text"
      },
      "source": [
        "<a href=\"https://colab.research.google.com/github/esnue/ThesisAllocationSystem/blob/main/preprocessing.ipynb\" target=\"_parent\"><img src=\"https://colab.research.google.com/assets/colab-badge.svg\" alt=\"Open In Colab\"/></a>"
      ]
    },
    {
      "cell_type": "markdown",
      "metadata": {
        "id": "FKLq9ntWGKop"
      },
      "source": [
        "# Preparation"
      ]
    },
    {
      "cell_type": "markdown",
      "metadata": {
        "id": "xqqOSnErFifL"
      },
      "source": [
        "As part of the workflow between GitHub and Google Colab, please follow these steps: \n",
        "1. Upload the data to a folder in your GDrive. \n",
        "2. Mount your GDrive.\n",
        "3. Set the data folder as your present working directory. "
      ]
    },
    {
      "cell_type": "code",
      "metadata": {
        "id": "8-JdJ7tJXPED",
        "colab": {
          "base_uri": "https://localhost:8080/"
        },
        "outputId": "7f1b2f27-8e16-460c-f0fe-2d127053b2b4"
      },
      "source": [
        "from google.colab import drive\n",
        "drive.mount('/content/drive')"
      ],
      "execution_count": 1,
      "outputs": [
        {
          "output_type": "stream",
          "text": [
            "Drive already mounted at /content/drive; to attempt to forcibly remount, call drive.mount(\"/content/drive\", force_remount=True).\n"
          ],
          "name": "stdout"
        }
      ]
    },
    {
      "cell_type": "code",
      "metadata": {
        "id": "gyIoA5EkFK8E",
        "outputId": "960055d0-e593-425d-d545-ac2384e7cf13",
        "colab": {
          "base_uri": "https://localhost:8080/"
        }
      },
      "source": [
        "!pwd\n",
        "%cd /content/drive/MyDrive/ThesisAllocationSystem"
      ],
      "execution_count": 2,
      "outputs": [
        {
          "output_type": "stream",
          "text": [
            "/content\n",
            "/content/drive/MyDrive/ThesisAllocationSystem\n"
          ],
          "name": "stdout"
        }
      ]
    },
    {
      "cell_type": "markdown",
      "metadata": {
        "id": "1aZ2PBcoKAWM"
      },
      "source": [
        "# Convert PDF to TXT\n",
        "\n",
        "Convert all PDF files in the current working directory to TXT files."
      ]
    },
    {
      "cell_type": "code",
      "metadata": {
        "id": "i8l5BUkKHPr_",
        "outputId": "45136253-4a98-41f8-b929-140eeb8b411b",
        "colab": {
          "base_uri": "https://localhost:8080/"
        }
      },
      "source": [
        "!pip install tika"
      ],
      "execution_count": 3,
      "outputs": [
        {
          "output_type": "stream",
          "text": [
            "Requirement already satisfied: tika in /usr/local/lib/python3.7/dist-packages (1.24)\n",
            "Requirement already satisfied: setuptools in /usr/local/lib/python3.7/dist-packages (from tika) (54.1.2)\n",
            "Requirement already satisfied: requests in /usr/local/lib/python3.7/dist-packages (from tika) (2.23.0)\n",
            "Requirement already satisfied: chardet<4,>=3.0.2 in /usr/local/lib/python3.7/dist-packages (from requests->tika) (3.0.4)\n",
            "Requirement already satisfied: idna<3,>=2.5 in /usr/local/lib/python3.7/dist-packages (from requests->tika) (2.10)\n",
            "Requirement already satisfied: urllib3!=1.25.0,!=1.25.1,<1.26,>=1.21.1 in /usr/local/lib/python3.7/dist-packages (from requests->tika) (1.24.3)\n",
            "Requirement already satisfied: certifi>=2017.4.17 in /usr/local/lib/python3.7/dist-packages (from requests->tika) (2020.12.5)\n"
          ],
          "name": "stdout"
        }
      ]
    },
    {
      "cell_type": "code",
      "metadata": {
        "id": "0-F6ZWwFyMu_"
      },
      "source": [
        "import os\n",
        "from tika import parser \n",
        "import re\n",
        "\n",
        "def read_pdf(pdf_file):\n",
        "\n",
        "    text = parser.from_file(pdf_file)['content']\n",
        "    non_bytes = text.encode().decode()\n",
        "    no_space = non_bytes.strip()\n",
        "    final = no_space.strip('\\n')\n",
        "    return final.encode(\"latin-1\",\"ignore\")\n",
        "\n",
        "def pdf_to_txt(folder_with_pdf, dest_folder):\n",
        "    pdf_files = []\n",
        "\n",
        "    for root, dirs, files in os.walk(folder_with_pdf):\n",
        "        for f in files:\n",
        "            if '.pdf' in f:\n",
        "                pdf_files.append(os.path.join(root, f))\n",
        "    #print(pdf_files)\n",
        "\n",
        "    for file_ in pdf_files:\n",
        "        text_file = os.path.splitext(os.path.basename(file_))[0]+'.txt'\n",
        "        with open(os.path.join(dest_folder,text_file), 'wb') as text_f:\n",
        "            text_f.write(read_pdf(file_))\n",
        "\n",
        "    return None"
      ],
      "execution_count": 4,
      "outputs": []
    },
    {
      "cell_type": "code",
      "metadata": {
        "id": "Vf-rOj0yY5Or"
      },
      "source": [
        "# This is a final version\n",
        "# pdf_to_txt('./supervisors', './supervisors-txt') "
      ],
      "execution_count": 32,
      "outputs": []
    },
    {
      "cell_type": "code",
      "metadata": {
        "id": "w9K3_kR0ZPc-"
      },
      "source": [
        "# Warning: There is no progress bar to this function yet and it will run for a couple minutes.\n",
        "pdf_to_txt('./train-papers', './train-papers-txt') "
      ],
      "execution_count": 5,
      "outputs": []
    },
    {
      "cell_type": "code",
      "metadata": {
        "id": "u5FJ_Lp5Y656"
      },
      "source": [
        "pdf_to_txt('./test-theses', './test-theses-txt') "
      ],
      "execution_count": 6,
      "outputs": []
    },
    {
      "cell_type": "code",
      "metadata": {
        "id": "NiseIwIkY67g"
      },
      "source": [
        "pdf_to_txt('./test-proposals', './test-proposals-txt') "
      ],
      "execution_count": 7,
      "outputs": []
    },
    {
      "cell_type": "markdown",
      "metadata": {
        "id": "7-y9-PCXFzyR"
      },
      "source": [
        "# Put TXT files into CSV\n",
        "\n",
        "After importing the packages, define the directory of interest and run the function below to create a CSV files that entails all TXT files in the following structure: \n",
        "\n",
        "Filename | Content "
      ]
    },
    {
      "cell_type": "code",
      "metadata": {
        "id": "5YsWuXaqF6FF"
      },
      "source": [
        "import csv\n",
        "from pathlib import Path"
      ],
      "execution_count": 8,
      "outputs": []
    },
    {
      "cell_type": "code",
      "metadata": {
        "id": "BTVcRMNCF5H0"
      },
      "source": [
        "def txt_to_csv(x): \n",
        "\n",
        "    os.chdir('/content/drive/MyDrive/ThesisAllocationSystem/' + x)\n",
        "\n",
        "    with open(x + '.csv', 'w', encoding = 'Latin-1') as out_file:\n",
        "        csv_out = csv.writer(out_file)\n",
        "        csv_out.writerow(['FileName', 'Content'])\n",
        "        for fileName in Path('.').glob('*.txt'):\n",
        "            lines = [ ]\n",
        "            with open(str(fileName.absolute()),'rb') as one_text:\n",
        "                for line in one_text.readlines():\n",
        "                    lines.append(line.decode(encoding='Latin-1',errors='ignore').strip())\n",
        "            csv_out.writerow([str(fileName),' '.join(lines)])"
      ],
      "execution_count": 9,
      "outputs": []
    },
    {
      "cell_type": "code",
      "metadata": {
        "id": "yxRTYK5PlzZJ"
      },
      "source": [
        "txt_to_csv('train-papers-txt')"
      ],
      "execution_count": 10,
      "outputs": []
    },
    {
      "cell_type": "code",
      "metadata": {
        "id": "HX1nEDwsG4bu"
      },
      "source": [
        "txt_to_csv('test-theses-txt')"
      ],
      "execution_count": null,
      "outputs": []
    },
    {
      "cell_type": "code",
      "metadata": {
        "id": "5i84oN3sG61t"
      },
      "source": [
        "txt_to_csv('test-proposals-txt')"
      ],
      "execution_count": null,
      "outputs": []
    },
    {
      "cell_type": "code",
      "metadata": {
        "id": "YBZ_HTKUOHDx"
      },
      "source": [
        "# This is a final version\n",
        "# txt_to_csv('supervisors-txt')"
      ],
      "execution_count": 35,
      "outputs": []
    },
    {
      "cell_type": "markdown",
      "metadata": {
        "id": "gMN3TWCFre-0"
      },
      "source": [
        "## **Data Labelling**\n",
        "\n",
        "We manually define a dictionary containing a categorical label for each professor, broadly describing their area of research. "
      ]
    },
    {
      "cell_type": "code",
      "metadata": {
        "id": "HJ7u3ZElrdP9"
      },
      "source": [
        "import pandas as pd\n",
        "import numpy as np\n",
        "\n",
        "# creating prof/research categorical label\n",
        "domain_dict = {'Anheier': 'non_profit',\n",
        "              'Bryson': 'technology_governance',\n",
        "              'CIS': 'international_security',\n",
        "              'Cali': 'international_law',\n",
        "              'Cingolani': 'development_studies',              \n",
        "              'Costello': 'migration_law',\n",
        "              'Flachsland': 'climate_sustainability',\n",
        "              'Graf': 'education',\n",
        "              'Hallerberg': 'fiscal_governance',\n",
        "              'Hammerschmid': 'public_management',\n",
        "              'Hassel': 'labour_policy',\n",
        "              'Hirth': 'energy_economics',\n",
        "              'Hustedt': 'public_administration',\n",
        "              'Iacovone': 'development_economics',\n",
        "              'Jachtenfuchs': 'european_governance',\n",
        "              'Jankin': 'data_science',\n",
        "              'Kayser': 'comparative_politics',\n",
        "              'Kreyenfeld': 'social_policy',\n",
        "              'Mair': 'strategic_management',\n",
        "              'Mena': 'organisational_management',              \n",
        "              'Mungiu-Pippidi': 'democracy_studies',\n",
        "              'Munzert': 'political_behaviour',\n",
        "              'Patz': 'international_organizations',\n",
        "              'Reh': 'european_politics',\n",
        "              'Roemmele': 'political_communication'                         \n",
        "}\n"
      ],
      "execution_count": 12,
      "outputs": []
    },
    {
      "cell_type": "code",
      "metadata": {
        "colab": {
          "base_uri": "https://localhost:8080/"
        },
        "id": "e3mFJUzgr34u",
        "outputId": "9b49ccf9-dbca-4990-b2d8-a7d1915e57ef"
      },
      "source": [
        "# Load train data\n",
        "train_df = pd.read_csv('/content/drive/MyDrive/ThesisAllocationSystem/train-papers-txt/train-papers-txt.csv', encoding='latin1')\n",
        "\n",
        "# Remove FileNames from txt ending\n",
        "train_df[\"FileName\"] = train_df[\"FileName\"].str.replace(r'.txt$', '').str.replace(r'\\d+', '')\n",
        "\n",
        "print(train_df)"
      ],
      "execution_count": 13,
      "outputs": [
        {
          "output_type": "stream",
          "text": [
            "         FileName                                            Content\n",
            "0    Hammerschmid  The Governance of Infrastructure    Edited by ...\n",
            "1    Hammerschmid  PUBLIC PRIVATE PARTNERSHIP BETWEEN EUPHORIA AN...\n",
            "2    Hammerschmid  More delegation, more political control? Polit...\n",
            "3    Hammerschmid  1   Curry, D., Hammerschmid, G., Jilke, S., Va...\n",
            "4    Hammerschmid  2007 EGPA_paper1109.doc   See discussions, sta...\n",
            "..            ...                                                ...\n",
            "406  jachtenfuchs  Balancing sub-unit autonomy and collective pro...\n",
            "407  jachtenfuchs  From Market Integration to Core State Powers: ...\n",
            "408  jachtenfuchs  More integration, less federation: the Europea...\n",
            "409  jachtenfuchs  From Market Integration to Core State Powers: ...\n",
            "410  jachtenfuchs  Deepening and widening integration theory   De...\n",
            "\n",
            "[411 rows x 2 columns]\n"
          ],
          "name": "stdout"
        }
      ]
    },
    {
      "cell_type": "code",
      "metadata": {
        "colab": {
          "base_uri": "https://localhost:8080/"
        },
        "id": "L8RyLJVQsDGH",
        "outputId": "b4c9e42c-aa69-429f-9a53-2c996ca9abc2"
      },
      "source": [
        "# Create a domain column to facilitate mapping on dictionary keys and pass labels as value\n",
        "train_df[\"domain\"] = train_df[\"FileName\"].map(domain_dict)\n",
        "\n",
        "print(train_df)"
      ],
      "execution_count": 17,
      "outputs": [
        {
          "output_type": "stream",
          "text": [
            "         FileName  ...             domain\n",
            "0    Hammerschmid  ...  public_management\n",
            "1    Hammerschmid  ...  public_management\n",
            "2    Hammerschmid  ...  public_management\n",
            "3    Hammerschmid  ...  public_management\n",
            "4    Hammerschmid  ...  public_management\n",
            "..            ...  ...                ...\n",
            "406  jachtenfuchs  ...                NaN\n",
            "407  jachtenfuchs  ...                NaN\n",
            "408  jachtenfuchs  ...                NaN\n",
            "409  jachtenfuchs  ...                NaN\n",
            "410  jachtenfuchs  ...                NaN\n",
            "\n",
            "[411 rows x 3 columns]\n"
          ],
          "name": "stdout"
        }
      ]
    },
    {
      "cell_type": "code",
      "metadata": {
        "colab": {
          "base_uri": "https://localhost:8080/",
          "height": 791
        },
        "id": "V61bparZsOGW",
        "outputId": "dc3210d3-c452-4737-84ae-b5105d8683a4"
      },
      "source": [
        "# Create binary dummy one-hot encoder for each research domain label\n",
        "dum_df = pd.get_dummies(train_df, columns=[\"domain\"])\n",
        "dum_df"
      ],
      "execution_count": 18,
      "outputs": [
        {
          "output_type": "execute_result",
          "data": {
            "text/html": [
              "<div>\n",
              "<style scoped>\n",
              "    .dataframe tbody tr th:only-of-type {\n",
              "        vertical-align: middle;\n",
              "    }\n",
              "\n",
              "    .dataframe tbody tr th {\n",
              "        vertical-align: top;\n",
              "    }\n",
              "\n",
              "    .dataframe thead th {\n",
              "        text-align: right;\n",
              "    }\n",
              "</style>\n",
              "<table border=\"1\" class=\"dataframe\">\n",
              "  <thead>\n",
              "    <tr style=\"text-align: right;\">\n",
              "      <th></th>\n",
              "      <th>FileName</th>\n",
              "      <th>Content</th>\n",
              "      <th>domain_climate_sustainability</th>\n",
              "      <th>domain_data_science</th>\n",
              "      <th>domain_education</th>\n",
              "      <th>domain_fiscal_governance</th>\n",
              "      <th>domain_international_law</th>\n",
              "      <th>domain_labour_policy</th>\n",
              "      <th>domain_migration_law</th>\n",
              "      <th>domain_non_profit</th>\n",
              "      <th>domain_political_communication</th>\n",
              "      <th>domain_public_administration</th>\n",
              "      <th>domain_public_management</th>\n",
              "      <th>domain_social_policy</th>\n",
              "      <th>domain_technology_governance</th>\n",
              "    </tr>\n",
              "  </thead>\n",
              "  <tbody>\n",
              "    <tr>\n",
              "      <th>0</th>\n",
              "      <td>Hammerschmid</td>\n",
              "      <td>The Governance of Infrastructure    Edited by ...</td>\n",
              "      <td>0</td>\n",
              "      <td>0</td>\n",
              "      <td>0</td>\n",
              "      <td>0</td>\n",
              "      <td>0</td>\n",
              "      <td>0</td>\n",
              "      <td>0</td>\n",
              "      <td>0</td>\n",
              "      <td>0</td>\n",
              "      <td>0</td>\n",
              "      <td>1</td>\n",
              "      <td>0</td>\n",
              "      <td>0</td>\n",
              "    </tr>\n",
              "    <tr>\n",
              "      <th>1</th>\n",
              "      <td>Hammerschmid</td>\n",
              "      <td>PUBLIC PRIVATE PARTNERSHIP BETWEEN EUPHORIA AN...</td>\n",
              "      <td>0</td>\n",
              "      <td>0</td>\n",
              "      <td>0</td>\n",
              "      <td>0</td>\n",
              "      <td>0</td>\n",
              "      <td>0</td>\n",
              "      <td>0</td>\n",
              "      <td>0</td>\n",
              "      <td>0</td>\n",
              "      <td>0</td>\n",
              "      <td>1</td>\n",
              "      <td>0</td>\n",
              "      <td>0</td>\n",
              "    </tr>\n",
              "    <tr>\n",
              "      <th>2</th>\n",
              "      <td>Hammerschmid</td>\n",
              "      <td>More delegation, more political control? Polit...</td>\n",
              "      <td>0</td>\n",
              "      <td>0</td>\n",
              "      <td>0</td>\n",
              "      <td>0</td>\n",
              "      <td>0</td>\n",
              "      <td>0</td>\n",
              "      <td>0</td>\n",
              "      <td>0</td>\n",
              "      <td>0</td>\n",
              "      <td>0</td>\n",
              "      <td>1</td>\n",
              "      <td>0</td>\n",
              "      <td>0</td>\n",
              "    </tr>\n",
              "    <tr>\n",
              "      <th>3</th>\n",
              "      <td>Hammerschmid</td>\n",
              "      <td>1   Curry, D., Hammerschmid, G., Jilke, S., Va...</td>\n",
              "      <td>0</td>\n",
              "      <td>0</td>\n",
              "      <td>0</td>\n",
              "      <td>0</td>\n",
              "      <td>0</td>\n",
              "      <td>0</td>\n",
              "      <td>0</td>\n",
              "      <td>0</td>\n",
              "      <td>0</td>\n",
              "      <td>0</td>\n",
              "      <td>1</td>\n",
              "      <td>0</td>\n",
              "      <td>0</td>\n",
              "    </tr>\n",
              "    <tr>\n",
              "      <th>4</th>\n",
              "      <td>Hammerschmid</td>\n",
              "      <td>2007 EGPA_paper1109.doc   See discussions, sta...</td>\n",
              "      <td>0</td>\n",
              "      <td>0</td>\n",
              "      <td>0</td>\n",
              "      <td>0</td>\n",
              "      <td>0</td>\n",
              "      <td>0</td>\n",
              "      <td>0</td>\n",
              "      <td>0</td>\n",
              "      <td>0</td>\n",
              "      <td>0</td>\n",
              "      <td>1</td>\n",
              "      <td>0</td>\n",
              "      <td>0</td>\n",
              "    </tr>\n",
              "    <tr>\n",
              "      <th>...</th>\n",
              "      <td>...</td>\n",
              "      <td>...</td>\n",
              "      <td>...</td>\n",
              "      <td>...</td>\n",
              "      <td>...</td>\n",
              "      <td>...</td>\n",
              "      <td>...</td>\n",
              "      <td>...</td>\n",
              "      <td>...</td>\n",
              "      <td>...</td>\n",
              "      <td>...</td>\n",
              "      <td>...</td>\n",
              "      <td>...</td>\n",
              "      <td>...</td>\n",
              "      <td>...</td>\n",
              "    </tr>\n",
              "    <tr>\n",
              "      <th>406</th>\n",
              "      <td>jachtenfuchs</td>\n",
              "      <td>Balancing sub-unit autonomy and collective pro...</td>\n",
              "      <td>0</td>\n",
              "      <td>0</td>\n",
              "      <td>0</td>\n",
              "      <td>0</td>\n",
              "      <td>0</td>\n",
              "      <td>0</td>\n",
              "      <td>0</td>\n",
              "      <td>0</td>\n",
              "      <td>0</td>\n",
              "      <td>0</td>\n",
              "      <td>0</td>\n",
              "      <td>0</td>\n",
              "      <td>0</td>\n",
              "    </tr>\n",
              "    <tr>\n",
              "      <th>407</th>\n",
              "      <td>jachtenfuchs</td>\n",
              "      <td>From Market Integration to Core State Powers: ...</td>\n",
              "      <td>0</td>\n",
              "      <td>0</td>\n",
              "      <td>0</td>\n",
              "      <td>0</td>\n",
              "      <td>0</td>\n",
              "      <td>0</td>\n",
              "      <td>0</td>\n",
              "      <td>0</td>\n",
              "      <td>0</td>\n",
              "      <td>0</td>\n",
              "      <td>0</td>\n",
              "      <td>0</td>\n",
              "      <td>0</td>\n",
              "    </tr>\n",
              "    <tr>\n",
              "      <th>408</th>\n",
              "      <td>jachtenfuchs</td>\n",
              "      <td>More integration, less federation: the Europea...</td>\n",
              "      <td>0</td>\n",
              "      <td>0</td>\n",
              "      <td>0</td>\n",
              "      <td>0</td>\n",
              "      <td>0</td>\n",
              "      <td>0</td>\n",
              "      <td>0</td>\n",
              "      <td>0</td>\n",
              "      <td>0</td>\n",
              "      <td>0</td>\n",
              "      <td>0</td>\n",
              "      <td>0</td>\n",
              "      <td>0</td>\n",
              "    </tr>\n",
              "    <tr>\n",
              "      <th>409</th>\n",
              "      <td>jachtenfuchs</td>\n",
              "      <td>From Market Integration to Core State Powers: ...</td>\n",
              "      <td>0</td>\n",
              "      <td>0</td>\n",
              "      <td>0</td>\n",
              "      <td>0</td>\n",
              "      <td>0</td>\n",
              "      <td>0</td>\n",
              "      <td>0</td>\n",
              "      <td>0</td>\n",
              "      <td>0</td>\n",
              "      <td>0</td>\n",
              "      <td>0</td>\n",
              "      <td>0</td>\n",
              "      <td>0</td>\n",
              "    </tr>\n",
              "    <tr>\n",
              "      <th>410</th>\n",
              "      <td>jachtenfuchs</td>\n",
              "      <td>Deepening and widening integration theory   De...</td>\n",
              "      <td>0</td>\n",
              "      <td>0</td>\n",
              "      <td>0</td>\n",
              "      <td>0</td>\n",
              "      <td>0</td>\n",
              "      <td>0</td>\n",
              "      <td>0</td>\n",
              "      <td>0</td>\n",
              "      <td>0</td>\n",
              "      <td>0</td>\n",
              "      <td>0</td>\n",
              "      <td>0</td>\n",
              "      <td>0</td>\n",
              "    </tr>\n",
              "  </tbody>\n",
              "</table>\n",
              "<p>411 rows × 15 columns</p>\n",
              "</div>"
            ],
            "text/plain": [
              "         FileName  ... domain_technology_governance\n",
              "0    Hammerschmid  ...                            0\n",
              "1    Hammerschmid  ...                            0\n",
              "2    Hammerschmid  ...                            0\n",
              "3    Hammerschmid  ...                            0\n",
              "4    Hammerschmid  ...                            0\n",
              "..            ...  ...                          ...\n",
              "406  jachtenfuchs  ...                            0\n",
              "407  jachtenfuchs  ...                            0\n",
              "408  jachtenfuchs  ...                            0\n",
              "409  jachtenfuchs  ...                            0\n",
              "410  jachtenfuchs  ...                            0\n",
              "\n",
              "[411 rows x 15 columns]"
            ]
          },
          "metadata": {
            "tags": []
          },
          "execution_count": 18
        }
      ]
    },
    {
      "cell_type": "code",
      "metadata": {
        "colab": {
          "base_uri": "https://localhost:8080/",
          "height": 791
        },
        "id": "PmYtmIBMsmFb",
        "outputId": "ac21b605-fb3a-45f2-e7b8-ea794d916bd3"
      },
      "source": [
        "# concate the two dataframes \n",
        "train_df = pd.concat([train_df.iloc[:,:2], dum_df.iloc[:,2:]], axis = 1)\n",
        "train_df"
      ],
      "execution_count": 19,
      "outputs": [
        {
          "output_type": "execute_result",
          "data": {
            "text/html": [
              "<div>\n",
              "<style scoped>\n",
              "    .dataframe tbody tr th:only-of-type {\n",
              "        vertical-align: middle;\n",
              "    }\n",
              "\n",
              "    .dataframe tbody tr th {\n",
              "        vertical-align: top;\n",
              "    }\n",
              "\n",
              "    .dataframe thead th {\n",
              "        text-align: right;\n",
              "    }\n",
              "</style>\n",
              "<table border=\"1\" class=\"dataframe\">\n",
              "  <thead>\n",
              "    <tr style=\"text-align: right;\">\n",
              "      <th></th>\n",
              "      <th>FileName</th>\n",
              "      <th>Content</th>\n",
              "      <th>domain_climate_sustainability</th>\n",
              "      <th>domain_data_science</th>\n",
              "      <th>domain_education</th>\n",
              "      <th>domain_fiscal_governance</th>\n",
              "      <th>domain_international_law</th>\n",
              "      <th>domain_labour_policy</th>\n",
              "      <th>domain_migration_law</th>\n",
              "      <th>domain_non_profit</th>\n",
              "      <th>domain_political_communication</th>\n",
              "      <th>domain_public_administration</th>\n",
              "      <th>domain_public_management</th>\n",
              "      <th>domain_social_policy</th>\n",
              "      <th>domain_technology_governance</th>\n",
              "    </tr>\n",
              "  </thead>\n",
              "  <tbody>\n",
              "    <tr>\n",
              "      <th>0</th>\n",
              "      <td>Hammerschmid</td>\n",
              "      <td>The Governance of Infrastructure    Edited by ...</td>\n",
              "      <td>0</td>\n",
              "      <td>0</td>\n",
              "      <td>0</td>\n",
              "      <td>0</td>\n",
              "      <td>0</td>\n",
              "      <td>0</td>\n",
              "      <td>0</td>\n",
              "      <td>0</td>\n",
              "      <td>0</td>\n",
              "      <td>0</td>\n",
              "      <td>1</td>\n",
              "      <td>0</td>\n",
              "      <td>0</td>\n",
              "    </tr>\n",
              "    <tr>\n",
              "      <th>1</th>\n",
              "      <td>Hammerschmid</td>\n",
              "      <td>PUBLIC PRIVATE PARTNERSHIP BETWEEN EUPHORIA AN...</td>\n",
              "      <td>0</td>\n",
              "      <td>0</td>\n",
              "      <td>0</td>\n",
              "      <td>0</td>\n",
              "      <td>0</td>\n",
              "      <td>0</td>\n",
              "      <td>0</td>\n",
              "      <td>0</td>\n",
              "      <td>0</td>\n",
              "      <td>0</td>\n",
              "      <td>1</td>\n",
              "      <td>0</td>\n",
              "      <td>0</td>\n",
              "    </tr>\n",
              "    <tr>\n",
              "      <th>2</th>\n",
              "      <td>Hammerschmid</td>\n",
              "      <td>More delegation, more political control? Polit...</td>\n",
              "      <td>0</td>\n",
              "      <td>0</td>\n",
              "      <td>0</td>\n",
              "      <td>0</td>\n",
              "      <td>0</td>\n",
              "      <td>0</td>\n",
              "      <td>0</td>\n",
              "      <td>0</td>\n",
              "      <td>0</td>\n",
              "      <td>0</td>\n",
              "      <td>1</td>\n",
              "      <td>0</td>\n",
              "      <td>0</td>\n",
              "    </tr>\n",
              "    <tr>\n",
              "      <th>3</th>\n",
              "      <td>Hammerschmid</td>\n",
              "      <td>1   Curry, D., Hammerschmid, G., Jilke, S., Va...</td>\n",
              "      <td>0</td>\n",
              "      <td>0</td>\n",
              "      <td>0</td>\n",
              "      <td>0</td>\n",
              "      <td>0</td>\n",
              "      <td>0</td>\n",
              "      <td>0</td>\n",
              "      <td>0</td>\n",
              "      <td>0</td>\n",
              "      <td>0</td>\n",
              "      <td>1</td>\n",
              "      <td>0</td>\n",
              "      <td>0</td>\n",
              "    </tr>\n",
              "    <tr>\n",
              "      <th>4</th>\n",
              "      <td>Hammerschmid</td>\n",
              "      <td>2007 EGPA_paper1109.doc   See discussions, sta...</td>\n",
              "      <td>0</td>\n",
              "      <td>0</td>\n",
              "      <td>0</td>\n",
              "      <td>0</td>\n",
              "      <td>0</td>\n",
              "      <td>0</td>\n",
              "      <td>0</td>\n",
              "      <td>0</td>\n",
              "      <td>0</td>\n",
              "      <td>0</td>\n",
              "      <td>1</td>\n",
              "      <td>0</td>\n",
              "      <td>0</td>\n",
              "    </tr>\n",
              "    <tr>\n",
              "      <th>...</th>\n",
              "      <td>...</td>\n",
              "      <td>...</td>\n",
              "      <td>...</td>\n",
              "      <td>...</td>\n",
              "      <td>...</td>\n",
              "      <td>...</td>\n",
              "      <td>...</td>\n",
              "      <td>...</td>\n",
              "      <td>...</td>\n",
              "      <td>...</td>\n",
              "      <td>...</td>\n",
              "      <td>...</td>\n",
              "      <td>...</td>\n",
              "      <td>...</td>\n",
              "      <td>...</td>\n",
              "    </tr>\n",
              "    <tr>\n",
              "      <th>406</th>\n",
              "      <td>jachtenfuchs</td>\n",
              "      <td>Balancing sub-unit autonomy and collective pro...</td>\n",
              "      <td>0</td>\n",
              "      <td>0</td>\n",
              "      <td>0</td>\n",
              "      <td>0</td>\n",
              "      <td>0</td>\n",
              "      <td>0</td>\n",
              "      <td>0</td>\n",
              "      <td>0</td>\n",
              "      <td>0</td>\n",
              "      <td>0</td>\n",
              "      <td>0</td>\n",
              "      <td>0</td>\n",
              "      <td>0</td>\n",
              "    </tr>\n",
              "    <tr>\n",
              "      <th>407</th>\n",
              "      <td>jachtenfuchs</td>\n",
              "      <td>From Market Integration to Core State Powers: ...</td>\n",
              "      <td>0</td>\n",
              "      <td>0</td>\n",
              "      <td>0</td>\n",
              "      <td>0</td>\n",
              "      <td>0</td>\n",
              "      <td>0</td>\n",
              "      <td>0</td>\n",
              "      <td>0</td>\n",
              "      <td>0</td>\n",
              "      <td>0</td>\n",
              "      <td>0</td>\n",
              "      <td>0</td>\n",
              "      <td>0</td>\n",
              "    </tr>\n",
              "    <tr>\n",
              "      <th>408</th>\n",
              "      <td>jachtenfuchs</td>\n",
              "      <td>More integration, less federation: the Europea...</td>\n",
              "      <td>0</td>\n",
              "      <td>0</td>\n",
              "      <td>0</td>\n",
              "      <td>0</td>\n",
              "      <td>0</td>\n",
              "      <td>0</td>\n",
              "      <td>0</td>\n",
              "      <td>0</td>\n",
              "      <td>0</td>\n",
              "      <td>0</td>\n",
              "      <td>0</td>\n",
              "      <td>0</td>\n",
              "      <td>0</td>\n",
              "    </tr>\n",
              "    <tr>\n",
              "      <th>409</th>\n",
              "      <td>jachtenfuchs</td>\n",
              "      <td>From Market Integration to Core State Powers: ...</td>\n",
              "      <td>0</td>\n",
              "      <td>0</td>\n",
              "      <td>0</td>\n",
              "      <td>0</td>\n",
              "      <td>0</td>\n",
              "      <td>0</td>\n",
              "      <td>0</td>\n",
              "      <td>0</td>\n",
              "      <td>0</td>\n",
              "      <td>0</td>\n",
              "      <td>0</td>\n",
              "      <td>0</td>\n",
              "      <td>0</td>\n",
              "    </tr>\n",
              "    <tr>\n",
              "      <th>410</th>\n",
              "      <td>jachtenfuchs</td>\n",
              "      <td>Deepening and widening integration theory   De...</td>\n",
              "      <td>0</td>\n",
              "      <td>0</td>\n",
              "      <td>0</td>\n",
              "      <td>0</td>\n",
              "      <td>0</td>\n",
              "      <td>0</td>\n",
              "      <td>0</td>\n",
              "      <td>0</td>\n",
              "      <td>0</td>\n",
              "      <td>0</td>\n",
              "      <td>0</td>\n",
              "      <td>0</td>\n",
              "      <td>0</td>\n",
              "    </tr>\n",
              "  </tbody>\n",
              "</table>\n",
              "<p>411 rows × 15 columns</p>\n",
              "</div>"
            ],
            "text/plain": [
              "         FileName  ... domain_technology_governance\n",
              "0    Hammerschmid  ...                            0\n",
              "1    Hammerschmid  ...                            0\n",
              "2    Hammerschmid  ...                            0\n",
              "3    Hammerschmid  ...                            0\n",
              "4    Hammerschmid  ...                            0\n",
              "..            ...  ...                          ...\n",
              "406  jachtenfuchs  ...                            0\n",
              "407  jachtenfuchs  ...                            0\n",
              "408  jachtenfuchs  ...                            0\n",
              "409  jachtenfuchs  ...                            0\n",
              "410  jachtenfuchs  ...                            0\n",
              "\n",
              "[411 rows x 15 columns]"
            ]
          },
          "metadata": {
            "tags": []
          },
          "execution_count": 19
        }
      ]
    },
    {
      "cell_type": "code",
      "metadata": {
        "id": "UWRFs0Cmznkn"
      },
      "source": [
        "#save labeled dataframe as csv \n",
        "train_df.to_csv('/content/drive/MyDrive/ThesisAllocationSystem/train-papers-txt/train-papers-labeled.csv')"
      ],
      "execution_count": 20,
      "outputs": []
    }
  ]
}