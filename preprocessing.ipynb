{
  "nbformat": 4,
  "nbformat_minor": 0,
  "metadata": {
    "colab": {
      "name": "Thesis Allocation",
      "provenance": [],
      "collapsed_sections": [],
      "include_colab_link": true
    },
    "kernelspec": {
      "name": "python3",
      "display_name": "Python 3"
    },
    "accelerator": "GPU"
  },
  "cells": [
    {
      "cell_type": "markdown",
      "metadata": {
        "id": "view-in-github",
        "colab_type": "text"
      },
      "source": [
        "<a href=\"https://colab.research.google.com/github/esnue/ThesisAllocationSystem/blob/main/preprocessing.ipynb\" target=\"_parent\"><img src=\"https://colab.research.google.com/assets/colab-badge.svg\" alt=\"Open In Colab\"/></a>"
      ]
    },
    {
      "cell_type": "markdown",
      "metadata": {
        "id": "FKLq9ntWGKop"
      },
      "source": [
        "# Preparation"
      ]
    },
    {
      "cell_type": "markdown",
      "metadata": {
        "id": "xqqOSnErFifL"
      },
      "source": [
        "As part of the workflow between GitHub and Google Colab, please follow these steps: \n",
        "1. Upload the data to a folder in your GDrive. \n",
        "2. Mount your GDrive.\n",
        "3. Set the data folder as your present working directory. "
      ]
    },
    {
      "cell_type": "code",
      "metadata": {
        "id": "8-JdJ7tJXPED",
        "colab": {
          "base_uri": "https://localhost:8080/"
        },
        "outputId": "96da801b-cbcc-4cbd-dff0-212d8e1b2cec"
      },
      "source": [
        "from google.colab import drive\n",
        "drive.mount('/content/drive')"
      ],
      "execution_count": 1,
      "outputs": [
        {
          "output_type": "stream",
          "text": [
            "Mounted at /content/drive\n"
          ],
          "name": "stdout"
        }
      ]
    },
    {
      "cell_type": "code",
      "metadata": {
        "id": "gyIoA5EkFK8E",
        "colab": {
          "base_uri": "https://localhost:8080/"
        },
        "outputId": "68896f79-1dba-47c1-a62e-4f520b656707"
      },
      "source": [
        "!pwd\n",
        "%cd /content/drive/MyDrive/ThesisAllocationSystem"
      ],
      "execution_count": 2,
      "outputs": [
        {
          "output_type": "stream",
          "text": [
            "/content\n",
            "/content/drive/.shortcut-targets-by-id/1ExS7M2OOkbYS5Z5O9pbPbaCpSa0rhGet/ThesisAllocationSystem\n"
          ],
          "name": "stdout"
        }
      ]
    },
    {
      "cell_type": "markdown",
      "metadata": {
        "id": "1aZ2PBcoKAWM"
      },
      "source": [
        "# Convert PDF to TXT\n",
        "\n",
        "Convert all PDF files in the current working directory to TXT files."
      ]
    },
    {
      "cell_type": "code",
      "metadata": {
        "id": "i8l5BUkKHPr_",
        "colab": {
          "base_uri": "https://localhost:8080/"
        },
        "outputId": "4daabd50-ea77-4dc2-8699-ddedd344e760"
      },
      "source": [
        "!pip install tika"
      ],
      "execution_count": null,
      "outputs": [
        {
          "output_type": "stream",
          "text": [
            "Collecting tika\n",
            "  Downloading https://files.pythonhosted.org/packages/96/07/244fbb9c74c0de8a3745cc9f3f496077a29f6418c7cbd90d68fd799574cb/tika-1.24.tar.gz\n",
            "Requirement already satisfied: setuptools in /usr/local/lib/python3.7/dist-packages (from tika) (54.1.2)\n",
            "Requirement already satisfied: requests in /usr/local/lib/python3.7/dist-packages (from tika) (2.23.0)\n",
            "Requirement already satisfied: urllib3!=1.25.0,!=1.25.1,<1.26,>=1.21.1 in /usr/local/lib/python3.7/dist-packages (from requests->tika) (1.24.3)\n",
            "Requirement already satisfied: certifi>=2017.4.17 in /usr/local/lib/python3.7/dist-packages (from requests->tika) (2020.12.5)\n",
            "Requirement already satisfied: chardet<4,>=3.0.2 in /usr/local/lib/python3.7/dist-packages (from requests->tika) (3.0.4)\n",
            "Requirement already satisfied: idna<3,>=2.5 in /usr/local/lib/python3.7/dist-packages (from requests->tika) (2.10)\n",
            "Building wheels for collected packages: tika\n",
            "  Building wheel for tika (setup.py) ... \u001b[?25l\u001b[?25hdone\n",
            "  Created wheel for tika: filename=tika-1.24-cp37-none-any.whl size=32885 sha256=a9282d359a878bb4137fba227398437c84d485d7330e0446b64bb12788fa8b22\n",
            "  Stored in directory: /root/.cache/pip/wheels/73/9c/f5/0b1b738442fc2a2862bef95b908b374f8e80215550fb2a8975\n",
            "Successfully built tika\n",
            "Installing collected packages: tika\n",
            "Successfully installed tika-1.24\n"
          ],
          "name": "stdout"
        }
      ]
    },
    {
      "cell_type": "code",
      "metadata": {
        "id": "0-F6ZWwFyMu_"
      },
      "source": [
        "import os\n",
        "from tika import parser \n",
        "import re\n",
        "\n",
        "def read_pdf(pdf_file):\n",
        "\n",
        "    text = parser.from_file(pdf_file)['content']\n",
        "    non_bytes = text.encode().decode()\n",
        "    no_space = non_bytes.strip()\n",
        "    final = no_space.strip('\\n')\n",
        "    return final.encode(\"latin-1\",\"ignore\")\n",
        "\n",
        "def pdf_to_txt(folder_with_pdf, dest_folder):\n",
        "    pdf_files = []\n",
        "\n",
        "    for root, dirs, files in os.walk(folder_with_pdf):\n",
        "        for f in files:\n",
        "            if '.pdf' in f:\n",
        "                pdf_files.append(os.path.join(root, f))\n",
        "    #print(pdf_files)\n",
        "\n",
        "    for file_ in pdf_files:\n",
        "        text_file = os.path.splitext(os.path.basename(file_))[0]+'.txt'\n",
        "        with open(os.path.join(dest_folder,text_file), 'wb') as text_f:\n",
        "            text_f.write(read_pdf(file_))\n",
        "\n",
        "    return None"
      ],
      "execution_count": null,
      "outputs": []
    },
    {
      "cell_type": "code",
      "metadata": {
        "id": "Vf-rOj0yY5Or"
      },
      "source": [
        "pdf_to_txt('./supervisors', './supervisors-txt') "
      ],
      "execution_count": null,
      "outputs": []
    },
    {
      "cell_type": "code",
      "metadata": {
        "id": "w9K3_kR0ZPc-"
      },
      "source": [
        "# Warning: This will run a couple minutes\n",
        "pdf_to_txt('./train-papers', './train-papers-txt') "
      ],
      "execution_count": null,
      "outputs": []
    },
    {
      "cell_type": "code",
      "metadata": {
        "id": "u5FJ_Lp5Y656"
      },
      "source": [
        "pdf_to_txt('./test-theses', './test-theses-txt') "
      ],
      "execution_count": null,
      "outputs": []
    },
    {
      "cell_type": "code",
      "metadata": {
        "id": "NiseIwIkY67g"
      },
      "source": [
        "pdf_to_txt('./test-proposals', './test-proposals-txt') "
      ],
      "execution_count": null,
      "outputs": []
    },
    {
      "cell_type": "markdown",
      "metadata": {
        "id": "7-y9-PCXFzyR"
      },
      "source": [
        "# Put TXT files into CSV\n",
        "\n",
        "After importing the packages, define the directory of interest and run the function below to create a CSV files that entails all TXT files in the following structure: \n",
        "\n",
        "Filename | Content "
      ]
    },
    {
      "cell_type": "code",
      "metadata": {
        "id": "My5iltPWpLwl"
      },
      "source": [
        "from glob import glob\n",
        "import pandas as pd"
      ],
      "execution_count": 3,
      "outputs": []
    },
    {
      "cell_type": "code",
      "metadata": {
        "id": "q5l3oUDheGn2"
      },
      "source": [
        "def txt_to_csv(input_dir, output_dir, new_filename): \n",
        "  \n",
        "  files = glob('/content/drive/MyDrive/ThesisAllocationSystem/' + input_dir + '/*.txt')\n",
        "  data = [[i, open(i, 'rb').read()] for i in files]\n",
        "  df = pd.DataFrame(data, columns = ['FileName', 'Content'])\n",
        "  df['FileName'] = df['FileName'].str.replace('/content/drive/MyDrive/ThesisAllocationSystem/' + input_dir + '/', '')\n",
        "  df['Content'] = df['Content'].str.slice(start = 0, stop = 32767) # Upper limit of strings per cell in csv\n",
        "  df.to_csv(output_dir + '/' + new_filename + '.csv', index = False)\n",
        "  if not df.empty: \n",
        "    print('Succesfully converted txt files in directory' + os.path.basename('/content/drive/MyDrive/ThesisAllocationSystem/' + input_dir + ' to single csv file.'))\n",
        "  else: \n",
        "    print('File empty.') \n",
        "  return None"
      ],
      "execution_count": null,
      "outputs": []
    },
    {
      "cell_type": "code",
      "metadata": {
        "id": "yxRTYK5PlzZJ",
        "colab": {
          "base_uri": "https://localhost:8080/"
        },
        "outputId": "79f090f8-721d-45b6-ab9d-bb4a3ae1cc29"
      },
      "source": [
        "txt_to_csv('train-papers-txt', 'data_final', 'train-papers-final')"
      ],
      "execution_count": null,
      "outputs": [
        {
          "output_type": "stream",
          "text": [
            "Succesfully converted txt files in directorytrain-papers-txt to single csv file.\n"
          ],
          "name": "stdout"
        }
      ]
    },
    {
      "cell_type": "code",
      "metadata": {
        "id": "HX1nEDwsG4bu",
        "colab": {
          "base_uri": "https://localhost:8080/"
        },
        "outputId": "f2df3f8c-9317-4a55-972c-cbff9a91539d"
      },
      "source": [
        "txt_to_csv('test-theses-txt', 'data_final', 'test-theses-final')"
      ],
      "execution_count": null,
      "outputs": [
        {
          "output_type": "stream",
          "text": [
            "Succesfully converted txt files in directorytest-theses-txt to single csv file.\n"
          ],
          "name": "stdout"
        }
      ]
    },
    {
      "cell_type": "code",
      "metadata": {
        "colab": {
          "base_uri": "https://localhost:8080/"
        },
        "id": "TJjMMlJ17Erx",
        "outputId": "3f8bf128-e643-432f-aff7-389739d13b4c"
      },
      "source": [
        "txt_to_csv('test-proposals-txt', 'data_final', 'test-proposals-final')"
      ],
      "execution_count": null,
      "outputs": [
        {
          "output_type": "stream",
          "text": [
            "Succesfully converted txt files in directorytest-proposals-txt to single csv file.\n"
          ],
          "name": "stdout"
        }
      ]
    },
    {
      "cell_type": "code",
      "metadata": {
        "id": "YBZ_HTKUOHDx",
        "colab": {
          "base_uri": "https://localhost:8080/"
        },
        "outputId": "e62caecc-d0fc-42a8-9185-2adffd6d2591"
      },
      "source": [
        "txt_to_csv('supervisors-txt', 'data_final', 'supervisors-final')"
      ],
      "execution_count": null,
      "outputs": [
        {
          "output_type": "stream",
          "text": [
            "Succesfully converted txt files in directorysupervisors-txt to single csv file.\n"
          ],
          "name": "stdout"
        }
      ]
    },
    {
      "cell_type": "markdown",
      "metadata": {
        "id": "gMN3TWCFre-0"
      },
      "source": [
        "## **Data Labelling**\n",
        "\n",
        "We manually define a dictionary containing a categorical label for each professor, broadly describing their area of research. "
      ]
    },
    {
      "cell_type": "code",
      "metadata": {
        "id": "HJ7u3ZElrdP9"
      },
      "source": [
        "import numpy as np\n",
        "\n",
        "# creating prof/research categorical label\n",
        "domain_dict = {'anheier': 'non_profit',\n",
        "              'bryson': 'technology_governance',\n",
        "              'cis': 'international_security',\n",
        "              'cali': 'international_law',\n",
        "              'cingolani': 'development_studies',              \n",
        "              'costello': 'migration_law',\n",
        "              'clachsland': 'climate_sustainability',\n",
        "              'graf': 'education',\n",
        "              'hallerberg': 'fiscal_governance',\n",
        "              'hammerschmid': 'public_management',\n",
        "              'hassel': 'labour_policy',\n",
        "              'hirth': 'energy_economics',\n",
        "              'hustedt': 'public_administration',\n",
        "              'iacovone': 'development_economics',\n",
        "              'jachtenfuchs': 'european_governance',\n",
        "              'jankin': 'data_science',\n",
        "              'kayser': 'comparative_politics',\n",
        "              'kreyenfeld': 'social_policy',\n",
        "              'mair': 'strategic_management',\n",
        "              'mena': 'organisational_management',              \n",
        "              'mungiu-pippidi': 'democracy_studies',\n",
        "              'munzert': 'political_behaviour',\n",
        "              'patz': 'international_organizations',\n",
        "              'reh': 'european_politics',\n",
        "              'roemmele': 'political_communication'                         \n",
        "}"
      ],
      "execution_count": 15,
      "outputs": []
    },
    {
      "cell_type": "code",
      "metadata": {
        "colab": {
          "base_uri": "https://localhost:8080/"
        },
        "id": "e3mFJUzgr34u",
        "outputId": "148decd8-88b4-4e36-8e45-78b34ba9cd4f"
      },
      "source": [
        "# Load train data\n",
        "data = pd.read_csv('/content/drive/MyDrive/ThesisAllocationSystem/data_final/train-papers-final.csv', encoding = 'latin1')\n",
        "\n",
        "# Remove FileNames from txt ending\n",
        "data[\"FileName\"] = data[\"FileName\"].str.replace(r'.txt$', '').str.replace(r'\\d+', '').str.lower()\n",
        "\n",
        "print(data.sample(10))"
      ],
      "execution_count": 16,
      "outputs": [
        {
          "output_type": "stream",
          "text": [
            "           FileName                                            Content\n",
            "190      flachsland  b'Decarbonization and EU ETS Reform: Introduci...\n",
            "211      hallerberg  b'The Role of  Fiscal Coordination and Partisa...\n",
            "91           bryson  b\"Citation for published version:\\nWortham, RH...\n",
            "262            graf  b'The Hybridization of Vocational Training and...\n",
            "73           jankin  b'Deep_Learning_for_Political_Science\\n\\n\\nDee...\n",
            "381            mena  b\"Mena & Rintamaki, 2019, Managing the past re...\n",
            "611            mair  b'FRONT-STAGE AND BACKSTAGE CONVENING: THE TRA...\n",
            "200      flachsland  b\"Advocates or cartographers? Scientific advis...\n",
            "561  mungiu-pippidi  b\"Twenty Years of Postcommunism: The Other Tra...\n",
            "105          bryson  b'See discussions, stats, and author profiles ...\n"
          ],
          "name": "stdout"
        }
      ]
    },
    {
      "cell_type": "code",
      "metadata": {
        "colab": {
          "base_uri": "https://localhost:8080/"
        },
        "id": "L8RyLJVQsDGH",
        "outputId": "2de96974-e25c-4356-b68e-e2166ff2db39"
      },
      "source": [
        "# Create a domain column to facilitate mapping on dictionary keys and pass labels as value\n",
        "data[\"domain\"] = data[\"FileName\"].map(domain_dict)\n",
        "\n",
        "print(data)"
      ],
      "execution_count": 17,
      "outputs": [
        {
          "output_type": "stream",
          "text": [
            "         FileName  ...                domain\n",
            "0    hammerschmid  ...     public_management\n",
            "1    hammerschmid  ...     public_management\n",
            "2    hammerschmid  ...     public_management\n",
            "3    hammerschmid  ...     public_management\n",
            "4    hammerschmid  ...     public_management\n",
            "..            ...  ...                   ...\n",
            "633          mair  ...  strategic_management\n",
            "634          mair  ...  strategic_management\n",
            "635          mair  ...  strategic_management\n",
            "636          mair  ...  strategic_management\n",
            "637          mair  ...  strategic_management\n",
            "\n",
            "[638 rows x 3 columns]\n"
          ],
          "name": "stdout"
        }
      ]
    },
    {
      "cell_type": "code",
      "metadata": {
        "colab": {
          "base_uri": "https://localhost:8080/"
        },
        "id": "V61bparZsOGW",
        "outputId": "2fd621e8-33ce-4ef6-fd26-45db16a668c7"
      },
      "source": [
        "# Create binary dummy one-hot encoder for each research domain label\n",
        "dum_df = pd.get_dummies(data, columns=[\"domain\"])\n",
        "dum_df\n",
        "\n",
        "type(dum_df['domain_comparative_politics'].iloc[1])"
      ],
      "execution_count": 20,
      "outputs": [
        {
          "output_type": "execute_result",
          "data": {
            "text/plain": [
              "numpy.uint8"
            ]
          },
          "metadata": {
            "tags": []
          },
          "execution_count": 20
        }
      ]
    },
    {
      "cell_type": "code",
      "metadata": {
        "colab": {
          "base_uri": "https://localhost:8080/",
          "height": 643
        },
        "id": "PmYtmIBMsmFb",
        "outputId": "a3cae8e9-1187-481d-cd1f-9f47bf824123"
      },
      "source": [
        "# concate the two dataframes \n",
        "data = pd.concat([data.iloc[:,:2], dum_df.iloc[:,2:]], axis = 1)\n",
        "data"
      ],
      "execution_count": 21,
      "outputs": [
        {
          "output_type": "execute_result",
          "data": {
            "text/html": [
              "<div>\n",
              "<style scoped>\n",
              "    .dataframe tbody tr th:only-of-type {\n",
              "        vertical-align: middle;\n",
              "    }\n",
              "\n",
              "    .dataframe tbody tr th {\n",
              "        vertical-align: top;\n",
              "    }\n",
              "\n",
              "    .dataframe thead th {\n",
              "        text-align: right;\n",
              "    }\n",
              "</style>\n",
              "<table border=\"1\" class=\"dataframe\">\n",
              "  <thead>\n",
              "    <tr style=\"text-align: right;\">\n",
              "      <th></th>\n",
              "      <th>FileName</th>\n",
              "      <th>Content</th>\n",
              "      <th>domain_comparative_politics</th>\n",
              "      <th>domain_data_science</th>\n",
              "      <th>domain_democracy_studies</th>\n",
              "      <th>domain_development_economics</th>\n",
              "      <th>domain_development_studies</th>\n",
              "      <th>domain_education</th>\n",
              "      <th>domain_european_governance</th>\n",
              "      <th>domain_fiscal_governance</th>\n",
              "      <th>domain_international_law</th>\n",
              "      <th>domain_international_organizations</th>\n",
              "      <th>domain_international_security</th>\n",
              "      <th>domain_labour_policy</th>\n",
              "      <th>domain_migration_law</th>\n",
              "      <th>domain_non_profit</th>\n",
              "      <th>domain_organisational_management</th>\n",
              "      <th>domain_political_communication</th>\n",
              "      <th>domain_public_administration</th>\n",
              "      <th>domain_public_management</th>\n",
              "      <th>domain_social_policy</th>\n",
              "      <th>domain_strategic_management</th>\n",
              "      <th>domain_technology_governance</th>\n",
              "    </tr>\n",
              "  </thead>\n",
              "  <tbody>\n",
              "    <tr>\n",
              "      <th>0</th>\n",
              "      <td>hammerschmid</td>\n",
              "      <td>b'2007 EGPA_paper1109.doc\\n\\n\\nSee discussions...</td>\n",
              "      <td>0</td>\n",
              "      <td>0</td>\n",
              "      <td>0</td>\n",
              "      <td>0</td>\n",
              "      <td>0</td>\n",
              "      <td>0</td>\n",
              "      <td>0</td>\n",
              "      <td>0</td>\n",
              "      <td>0</td>\n",
              "      <td>0</td>\n",
              "      <td>0</td>\n",
              "      <td>0</td>\n",
              "      <td>0</td>\n",
              "      <td>0</td>\n",
              "      <td>0</td>\n",
              "      <td>0</td>\n",
              "      <td>0</td>\n",
              "      <td>1</td>\n",
              "      <td>0</td>\n",
              "      <td>0</td>\n",
              "      <td>0</td>\n",
              "    </tr>\n",
              "    <tr>\n",
              "      <th>1</th>\n",
              "      <td>hammerschmid</td>\n",
              "      <td>b'The Governance of Infrastructure \\n\\n \\n\\nEd...</td>\n",
              "      <td>0</td>\n",
              "      <td>0</td>\n",
              "      <td>0</td>\n",
              "      <td>0</td>\n",
              "      <td>0</td>\n",
              "      <td>0</td>\n",
              "      <td>0</td>\n",
              "      <td>0</td>\n",
              "      <td>0</td>\n",
              "      <td>0</td>\n",
              "      <td>0</td>\n",
              "      <td>0</td>\n",
              "      <td>0</td>\n",
              "      <td>0</td>\n",
              "      <td>0</td>\n",
              "      <td>0</td>\n",
              "      <td>0</td>\n",
              "      <td>1</td>\n",
              "      <td>0</td>\n",
              "      <td>0</td>\n",
              "      <td>0</td>\n",
              "    </tr>\n",
              "    <tr>\n",
              "      <th>2</th>\n",
              "      <td>hammerschmid</td>\n",
              "      <td>b'1 \\n \\n\\nCurry, D., Hammerschmid, G., Jilke,...</td>\n",
              "      <td>0</td>\n",
              "      <td>0</td>\n",
              "      <td>0</td>\n",
              "      <td>0</td>\n",
              "      <td>0</td>\n",
              "      <td>0</td>\n",
              "      <td>0</td>\n",
              "      <td>0</td>\n",
              "      <td>0</td>\n",
              "      <td>0</td>\n",
              "      <td>0</td>\n",
              "      <td>0</td>\n",
              "      <td>0</td>\n",
              "      <td>0</td>\n",
              "      <td>0</td>\n",
              "      <td>0</td>\n",
              "      <td>0</td>\n",
              "      <td>1</td>\n",
              "      <td>0</td>\n",
              "      <td>0</td>\n",
              "      <td>0</td>\n",
              "    </tr>\n",
              "    <tr>\n",
              "      <th>3</th>\n",
              "      <td>hammerschmid</td>\n",
              "      <td>b\"COCOPS Working Paper no. 1\\n\\n\\nCoordinating...</td>\n",
              "      <td>0</td>\n",
              "      <td>0</td>\n",
              "      <td>0</td>\n",
              "      <td>0</td>\n",
              "      <td>0</td>\n",
              "      <td>0</td>\n",
              "      <td>0</td>\n",
              "      <td>0</td>\n",
              "      <td>0</td>\n",
              "      <td>0</td>\n",
              "      <td>0</td>\n",
              "      <td>0</td>\n",
              "      <td>0</td>\n",
              "      <td>0</td>\n",
              "      <td>0</td>\n",
              "      <td>0</td>\n",
              "      <td>0</td>\n",
              "      <td>1</td>\n",
              "      <td>0</td>\n",
              "      <td>0</td>\n",
              "      <td>0</td>\n",
              "    </tr>\n",
              "    <tr>\n",
              "      <th>4</th>\n",
              "      <td>hammerschmid</td>\n",
              "      <td>b'Administrative tradition and management refo...</td>\n",
              "      <td>0</td>\n",
              "      <td>0</td>\n",
              "      <td>0</td>\n",
              "      <td>0</td>\n",
              "      <td>0</td>\n",
              "      <td>0</td>\n",
              "      <td>0</td>\n",
              "      <td>0</td>\n",
              "      <td>0</td>\n",
              "      <td>0</td>\n",
              "      <td>0</td>\n",
              "      <td>0</td>\n",
              "      <td>0</td>\n",
              "      <td>0</td>\n",
              "      <td>0</td>\n",
              "      <td>0</td>\n",
              "      <td>0</td>\n",
              "      <td>1</td>\n",
              "      <td>0</td>\n",
              "      <td>0</td>\n",
              "      <td>0</td>\n",
              "    </tr>\n",
              "    <tr>\n",
              "      <th>...</th>\n",
              "      <td>...</td>\n",
              "      <td>...</td>\n",
              "      <td>...</td>\n",
              "      <td>...</td>\n",
              "      <td>...</td>\n",
              "      <td>...</td>\n",
              "      <td>...</td>\n",
              "      <td>...</td>\n",
              "      <td>...</td>\n",
              "      <td>...</td>\n",
              "      <td>...</td>\n",
              "      <td>...</td>\n",
              "      <td>...</td>\n",
              "      <td>...</td>\n",
              "      <td>...</td>\n",
              "      <td>...</td>\n",
              "      <td>...</td>\n",
              "      <td>...</td>\n",
              "      <td>...</td>\n",
              "      <td>...</td>\n",
              "      <td>...</td>\n",
              "      <td>...</td>\n",
              "      <td>...</td>\n",
              "    </tr>\n",
              "    <tr>\n",
              "      <th>633</th>\n",
              "      <td>mair</td>\n",
              "      <td>b'Microsoft Word - DI-0610-E.doc\\n\\n\\n \\n1 \\n\\...</td>\n",
              "      <td>0</td>\n",
              "      <td>0</td>\n",
              "      <td>0</td>\n",
              "      <td>0</td>\n",
              "      <td>0</td>\n",
              "      <td>0</td>\n",
              "      <td>0</td>\n",
              "      <td>0</td>\n",
              "      <td>0</td>\n",
              "      <td>0</td>\n",
              "      <td>0</td>\n",
              "      <td>0</td>\n",
              "      <td>0</td>\n",
              "      <td>0</td>\n",
              "      <td>0</td>\n",
              "      <td>0</td>\n",
              "      <td>0</td>\n",
              "      <td>0</td>\n",
              "      <td>0</td>\n",
              "      <td>1</td>\n",
              "      <td>0</td>\n",
              "    </tr>\n",
              "    <tr>\n",
              "      <th>634</th>\n",
              "      <td>mair</td>\n",
              "      <td>b'Adapting for Innovation: Including Divestitu...</td>\n",
              "      <td>0</td>\n",
              "      <td>0</td>\n",
              "      <td>0</td>\n",
              "      <td>0</td>\n",
              "      <td>0</td>\n",
              "      <td>0</td>\n",
              "      <td>0</td>\n",
              "      <td>0</td>\n",
              "      <td>0</td>\n",
              "      <td>0</td>\n",
              "      <td>0</td>\n",
              "      <td>0</td>\n",
              "      <td>0</td>\n",
              "      <td>0</td>\n",
              "      <td>0</td>\n",
              "      <td>0</td>\n",
              "      <td>0</td>\n",
              "      <td>0</td>\n",
              "      <td>0</td>\n",
              "      <td>1</td>\n",
              "      <td>0</td>\n",
              "    </tr>\n",
              "    <tr>\n",
              "      <th>635</th>\n",
              "      <td>mair</td>\n",
              "      <td>b'Social Entrepreneurship\\n\\nJohanna Mair, Jef...</td>\n",
              "      <td>0</td>\n",
              "      <td>0</td>\n",
              "      <td>0</td>\n",
              "      <td>0</td>\n",
              "      <td>0</td>\n",
              "      <td>0</td>\n",
              "      <td>0</td>\n",
              "      <td>0</td>\n",
              "      <td>0</td>\n",
              "      <td>0</td>\n",
              "      <td>0</td>\n",
              "      <td>0</td>\n",
              "      <td>0</td>\n",
              "      <td>0</td>\n",
              "      <td>0</td>\n",
              "      <td>0</td>\n",
              "      <td>0</td>\n",
              "      <td>0</td>\n",
              "      <td>0</td>\n",
              "      <td>1</td>\n",
              "      <td>0</td>\n",
              "    </tr>\n",
              "    <tr>\n",
              "      <th>636</th>\n",
              "      <td>mair</td>\n",
              "      <td>b'Going global: how middle managers approach t...</td>\n",
              "      <td>0</td>\n",
              "      <td>0</td>\n",
              "      <td>0</td>\n",
              "      <td>0</td>\n",
              "      <td>0</td>\n",
              "      <td>0</td>\n",
              "      <td>0</td>\n",
              "      <td>0</td>\n",
              "      <td>0</td>\n",
              "      <td>0</td>\n",
              "      <td>0</td>\n",
              "      <td>0</td>\n",
              "      <td>0</td>\n",
              "      <td>0</td>\n",
              "      <td>0</td>\n",
              "      <td>0</td>\n",
              "      <td>0</td>\n",
              "      <td>0</td>\n",
              "      <td>0</td>\n",
              "      <td>1</td>\n",
              "      <td>0</td>\n",
              "    </tr>\n",
              "    <tr>\n",
              "      <th>637</th>\n",
              "      <td>mair</td>\n",
              "      <td>b'Microsoft Word - DI-593-E.doc\\n\\n\\n \\n1 \\n\\n...</td>\n",
              "      <td>0</td>\n",
              "      <td>0</td>\n",
              "      <td>0</td>\n",
              "      <td>0</td>\n",
              "      <td>0</td>\n",
              "      <td>0</td>\n",
              "      <td>0</td>\n",
              "      <td>0</td>\n",
              "      <td>0</td>\n",
              "      <td>0</td>\n",
              "      <td>0</td>\n",
              "      <td>0</td>\n",
              "      <td>0</td>\n",
              "      <td>0</td>\n",
              "      <td>0</td>\n",
              "      <td>0</td>\n",
              "      <td>0</td>\n",
              "      <td>0</td>\n",
              "      <td>0</td>\n",
              "      <td>1</td>\n",
              "      <td>0</td>\n",
              "    </tr>\n",
              "  </tbody>\n",
              "</table>\n",
              "<p>638 rows × 23 columns</p>\n",
              "</div>"
            ],
            "text/plain": [
              "         FileName  ... domain_technology_governance\n",
              "0    hammerschmid  ...                            0\n",
              "1    hammerschmid  ...                            0\n",
              "2    hammerschmid  ...                            0\n",
              "3    hammerschmid  ...                            0\n",
              "4    hammerschmid  ...                            0\n",
              "..            ...  ...                          ...\n",
              "633          mair  ...                            0\n",
              "634          mair  ...                            0\n",
              "635          mair  ...                            0\n",
              "636          mair  ...                            0\n",
              "637          mair  ...                            0\n",
              "\n",
              "[638 rows x 23 columns]"
            ]
          },
          "metadata": {
            "tags": []
          },
          "execution_count": 21
        }
      ]
    },
    {
      "cell_type": "code",
      "metadata": {
        "id": "-HvNan7fprh7"
      },
      "source": [
        "data.drop(['FileName'], inplace=True, axis=1)"
      ],
      "execution_count": 22,
      "outputs": []
    },
    {
      "cell_type": "code",
      "metadata": {
        "id": "OKsy0IgnpzPV",
        "colab": {
          "base_uri": "https://localhost:8080/"
        },
        "outputId": "673e1b9f-23e2-4f50-9d7e-31d53854addb"
      },
      "source": [
        "train_df = pd.DataFrame()\n",
        "train_df['content'] = data['Content']\n",
        "train_df['labels'] = data.iloc[:, 1:].values.tolist()\n",
        "\n",
        "print(train_df.sample(10))\n",
        "\n",
        "#type(train_df['labels'].iloc[1])\n",
        "\n",
        "#label = train_df['labels'].iloc[1]\n",
        "\n",
        "#type(label[1])"
      ],
      "execution_count": 27,
      "outputs": [
        {
          "output_type": "stream",
          "text": [
            "                                               content                                             labels\n",
            "474  b'Does formal or informal power-sharing produc...  [0, 0, 0, 0, 0, 0, 0, 0, 0, 0, 1, 0, 0, 0, 0, ...\n",
            "523  b'swp0000.dvi\\n\\n\\nInnovation When The Market ...  [0, 0, 0, 1, 0, 0, 0, 0, 0, 0, 0, 0, 0, 0, 0, ...\n",
            "611  b'FRONT-STAGE AND BACKSTAGE CONVENING: THE TRA...  [0, 0, 0, 0, 0, 0, 0, 0, 0, 0, 0, 0, 0, 0, 0, ...\n",
            "41   b\"NimbusRomNo9L-Regu\\n\\n\\nThis is an Open Acce...  [0, 1, 0, 0, 0, 0, 0, 0, 0, 0, 0, 0, 0, 0, 0, ...\n",
            "26   b'truth and consequence in web\\ncampaigning: i...  [0, 0, 0, 0, 0, 0, 0, 0, 0, 0, 0, 0, 0, 0, 0, ...\n",
            "620  b'r Academy of Management Journal\\n2019, Vol. ...  [0, 0, 0, 0, 0, 0, 0, 0, 0, 0, 0, 0, 0, 0, 0, ...\n",
            "451  b'Voting in the Shadow of Violence: Electoral ...  [0, 0, 0, 0, 0, 0, 0, 0, 0, 0, 1, 0, 0, 0, 0, ...\n",
            "306  b'Pathways of change in CMEs\\n\\n\\njakob\\nTextf...  [0, 0, 0, 0, 0, 0, 0, 0, 0, 0, 0, 1, 0, 0, 0, ...\n",
            "530  b\"1 \\n \\n\\n \\n\\nBureaucratic politics and the ...  [0, 0, 0, 0, 0, 0, 0, 0, 0, 1, 0, 0, 0, 0, 0, ...\n",
            "625  b'No Job Name\\n\\n\\nSOURCE AND PATTERNS OF ORGA...  [0, 0, 0, 0, 0, 0, 0, 0, 0, 0, 0, 0, 0, 0, 0, ...\n"
          ],
          "name": "stdout"
        }
      ]
    },
    {
      "cell_type": "code",
      "metadata": {
        "id": "UWRFs0Cmznkn"
      },
      "source": [
        "#save labeled dataframe as csv \n",
        "train_df.to_csv('/content/drive/MyDrive/ThesisAllocationSystem/data_final/train-papers-label.csv', index = False)"
      ],
      "execution_count": 29,
      "outputs": []
    }
  ]
}