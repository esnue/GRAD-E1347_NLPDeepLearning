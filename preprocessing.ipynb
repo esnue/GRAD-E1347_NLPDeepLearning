{
  "nbformat": 4,
  "nbformat_minor": 0,
  "metadata": {
    "colab": {
      "name": "Thesis Allocation",
      "provenance": [],
      "collapsed_sections": [],
      "toc_visible": true,
      "include_colab_link": true
    },
    "kernelspec": {
      "name": "python3",
      "display_name": "Python 3"
    }
  },
  "cells": [
    {
      "cell_type": "markdown",
      "metadata": {
        "id": "view-in-github",
        "colab_type": "text"
      },
      "source": [
        "<a href=\"https://colab.research.google.com/github/esnue/ThesisAllocationSystem/blob/main/preprocessing.ipynb\" target=\"_parent\"><img src=\"https://colab.research.google.com/assets/colab-badge.svg\" alt=\"Open In Colab\"/></a>"
      ]
    },
    {
      "cell_type": "markdown",
      "metadata": {
        "id": "FKLq9ntWGKop"
      },
      "source": [
        "# Preparation"
      ]
    },
    {
      "cell_type": "markdown",
      "metadata": {
        "id": "xqqOSnErFifL"
      },
      "source": [
        "As part of the workflow between GitHub and Google Colab, please follow these steps: \n",
        "1. Upload the data to a folder in your GDrive. \n",
        "2. Mount your GDrive.\n",
        "3. Set the data folder as your present working directory. "
      ]
    },
    {
      "cell_type": "code",
      "metadata": {
        "id": "8-JdJ7tJXPED",
        "outputId": "73e0e7f9-ec2b-4776-8149-c0dbce870315",
        "colab": {
          "base_uri": "https://localhost:8080/"
        }
      },
      "source": [
        "from google.colab import drive\n",
        "drive.mount('/content/drive')"
      ],
      "execution_count": 1,
      "outputs": [
        {
          "output_type": "stream",
          "text": [
            "Mounted at /content/drive\n"
          ],
          "name": "stdout"
        }
      ]
    },
    {
      "cell_type": "code",
      "metadata": {
        "id": "gyIoA5EkFK8E",
        "outputId": "09fc451d-6d64-4ff3-ea0f-659e2a2b36aa",
        "colab": {
          "base_uri": "https://localhost:8080/"
        }
      },
      "source": [
        "!pwd\n",
        "%cd /content/drive/MyDrive/ThesisAllocationSystem"
      ],
      "execution_count": 2,
      "outputs": [
        {
          "output_type": "stream",
          "text": [
            "/content\n",
            "/content/drive/.shortcut-targets-by-id/1ExS7M2OOkbYS5Z5O9pbPbaCpSa0rhGet/ThesisAllocationSystem\n"
          ],
          "name": "stdout"
        }
      ]
    },
    {
      "cell_type": "markdown",
      "metadata": {
        "id": "1aZ2PBcoKAWM"
      },
      "source": [
        "# Convert PDF to TXT\n",
        "\n",
        "Convert all PDF files in the current working directory to TXT files."
      ]
    },
    {
      "cell_type": "code",
      "metadata": {
        "id": "i8l5BUkKHPr_",
        "outputId": "a0b0af50-770d-431a-adff-0e4e8ad51765",
        "colab": {
          "base_uri": "https://localhost:8080/"
        }
      },
      "source": [
        "!pip install tika"
      ],
      "execution_count": 4,
      "outputs": [
        {
          "output_type": "stream",
          "text": [
            "Collecting tika\n",
            "  Downloading https://files.pythonhosted.org/packages/96/07/244fbb9c74c0de8a3745cc9f3f496077a29f6418c7cbd90d68fd799574cb/tika-1.24.tar.gz\n",
            "Requirement already satisfied: setuptools in /usr/local/lib/python3.7/dist-packages (from tika) (54.1.2)\n",
            "Requirement already satisfied: requests in /usr/local/lib/python3.7/dist-packages (from tika) (2.23.0)\n",
            "Requirement already satisfied: idna<3,>=2.5 in /usr/local/lib/python3.7/dist-packages (from requests->tika) (2.10)\n",
            "Requirement already satisfied: certifi>=2017.4.17 in /usr/local/lib/python3.7/dist-packages (from requests->tika) (2020.12.5)\n",
            "Requirement already satisfied: chardet<4,>=3.0.2 in /usr/local/lib/python3.7/dist-packages (from requests->tika) (3.0.4)\n",
            "Requirement already satisfied: urllib3!=1.25.0,!=1.25.1,<1.26,>=1.21.1 in /usr/local/lib/python3.7/dist-packages (from requests->tika) (1.24.3)\n",
            "Building wheels for collected packages: tika\n",
            "  Building wheel for tika (setup.py) ... \u001b[?25l\u001b[?25hdone\n",
            "  Created wheel for tika: filename=tika-1.24-cp37-none-any.whl size=32885 sha256=dc14b572241bd4ad07ad62289192d8c4f2430b26c5e013668f10a153f2b90b6d\n",
            "  Stored in directory: /root/.cache/pip/wheels/73/9c/f5/0b1b738442fc2a2862bef95b908b374f8e80215550fb2a8975\n",
            "Successfully built tika\n",
            "Installing collected packages: tika\n",
            "Successfully installed tika-1.24\n"
          ],
          "name": "stdout"
        }
      ]
    },
    {
      "cell_type": "code",
      "metadata": {
        "id": "jbdJXRlIJeC8",
        "outputId": "86c9ac9a-9624-4933-cb1b-3827c1368415",
        "colab": {
          "base_uri": "https://localhost:8080/",
          "height": 1000
        }
      },
      "source": [
        "from tika import parser\n",
        "import os\n",
        "\n",
        "def extract_text_from_pdfs_recursively(dir):\n",
        "  \n",
        "    for root, dirs, files in os.walk(dir):\n",
        "        for file in files:\n",
        "            path_to_pdf = os.path.join(root, file)\n",
        "            [stem, ext] = os.path.splitext(path_to_pdf)\n",
        "            if ext == '.pdf':\n",
        "                print(\"Processing \" + path_to_pdf)\n",
        "                pdf_contents = parser.from_file(path_to_pdf)\n",
        "                path_to_txt = stem + '.txt'\n",
        "                with open(path_to_txt, 'w') as txt_file:\n",
        "                    print(\"Writing contents to \" + path_to_txt)\n",
        "                    txt_file.write(pdf_contents['content'])\n",
        "            else:\n",
        "                pass\n",
        "\n",
        "\n",
        "if __name__ == \"__main__\":\n",
        "    extract_text_from_pdfs_recursively(os.getcwd())"
      ],
      "execution_count": 6,
      "outputs": [
        {
          "output_type": "stream",
          "text": [
            "Processing /content/drive/.shortcut-targets-by-id/1ExS7M2OOkbYS5Z5O9pbPbaCpSa0rhGet/ThesisAllocationSystem/supervisors/Roemmele_MIA_MPP_Supervision plan_AY 2020-2021.pdf\n",
            "Writing contents to /content/drive/.shortcut-targets-by-id/1ExS7M2OOkbYS5Z5O9pbPbaCpSa0rhGet/ThesisAllocationSystem/supervisors/Roemmele_MIA_MPP_Supervision plan_AY 2020-2021.txt\n",
            "Processing /content/drive/.shortcut-targets-by-id/1ExS7M2OOkbYS5Z5O9pbPbaCpSa0rhGet/ThesisAllocationSystem/supervisors/Hammerschmid_MIA_MPP_Supervision plan_AY 2020-2021.pdf\n",
            "Writing contents to /content/drive/.shortcut-targets-by-id/1ExS7M2OOkbYS5Z5O9pbPbaCpSa0rhGet/ThesisAllocationSystem/supervisors/Hammerschmid_MIA_MPP_Supervision plan_AY 2020-2021.txt\n",
            "Processing /content/drive/.shortcut-targets-by-id/1ExS7M2OOkbYS5Z5O9pbPbaCpSa0rhGet/ThesisAllocationSystem/supervisors/Anheier_MIA_MPP_Supervision plan_AY 2020-2021.pdf\n",
            "Writing contents to /content/drive/.shortcut-targets-by-id/1ExS7M2OOkbYS5Z5O9pbPbaCpSa0rhGet/ThesisAllocationSystem/supervisors/Anheier_MIA_MPP_Supervision plan_AY 2020-2021.txt\n",
            "Processing /content/drive/.shortcut-targets-by-id/1ExS7M2OOkbYS5Z5O9pbPbaCpSa0rhGet/ThesisAllocationSystem/supervisors/Hassel_MIA_MPP_Supervision plan_AY 2020-2021 (002).pdf\n",
            "Writing contents to /content/drive/.shortcut-targets-by-id/1ExS7M2OOkbYS5Z5O9pbPbaCpSa0rhGet/ThesisAllocationSystem/supervisors/Hassel_MIA_MPP_Supervision plan_AY 2020-2021 (002).txt\n",
            "Processing /content/drive/.shortcut-targets-by-id/1ExS7M2OOkbYS5Z5O9pbPbaCpSa0rhGet/ThesisAllocationSystem/supervisors/Jankin_MIA_MPP_Supervision plan AY 2020-2021.pdf\n",
            "Writing contents to /content/drive/.shortcut-targets-by-id/1ExS7M2OOkbYS5Z5O9pbPbaCpSa0rhGet/ThesisAllocationSystem/supervisors/Jankin_MIA_MPP_Supervision plan AY 2020-2021.txt\n",
            "Processing /content/drive/.shortcut-targets-by-id/1ExS7M2OOkbYS5Z5O9pbPbaCpSa0rhGet/ThesisAllocationSystem/supervisors/Jachtenfuchs MIA_MPP_supervision plan AY 2020-2021.pdf\n",
            "Writing contents to /content/drive/.shortcut-targets-by-id/1ExS7M2OOkbYS5Z5O9pbPbaCpSa0rhGet/ThesisAllocationSystem/supervisors/Jachtenfuchs MIA_MPP_supervision plan AY 2020-2021.txt\n",
            "Processing /content/drive/.shortcut-targets-by-id/1ExS7M2OOkbYS5Z5O9pbPbaCpSa0rhGet/ThesisAllocationSystem/supervisors/Kayser_MIA_MPP_Supervision plan_AY 2020-2021.pdf\n",
            "Writing contents to /content/drive/.shortcut-targets-by-id/1ExS7M2OOkbYS5Z5O9pbPbaCpSa0rhGet/ThesisAllocationSystem/supervisors/Kayser_MIA_MPP_Supervision plan_AY 2020-2021.txt\n",
            "Processing /content/drive/.shortcut-targets-by-id/1ExS7M2OOkbYS5Z5O9pbPbaCpSa0rhGet/ThesisAllocationSystem/supervisors/CIS Supervision Plan as of 29.10.2020_AY 2020-2021 (3).pdf\n",
            "Writing contents to /content/drive/.shortcut-targets-by-id/1ExS7M2OOkbYS5Z5O9pbPbaCpSa0rhGet/ThesisAllocationSystem/supervisors/CIS Supervision Plan as of 29.10.2020_AY 2020-2021 (3).txt\n",
            "Processing /content/drive/.shortcut-targets-by-id/1ExS7M2OOkbYS5Z5O9pbPbaCpSa0rhGet/ThesisAllocationSystem/supervisors/Iacovone_MIA_MPP_Supervision plan_AY 2020-2021.pdf\n",
            "Writing contents to /content/drive/.shortcut-targets-by-id/1ExS7M2OOkbYS5Z5O9pbPbaCpSa0rhGet/ThesisAllocationSystem/supervisors/Iacovone_MIA_MPP_Supervision plan_AY 2020-2021.txt\n",
            "Processing /content/drive/.shortcut-targets-by-id/1ExS7M2OOkbYS5Z5O9pbPbaCpSa0rhGet/ThesisAllocationSystem/supervisors/Patz_MIA_MPP_Supervision plan_AY 2020-2021.pdf\n",
            "Writing contents to /content/drive/.shortcut-targets-by-id/1ExS7M2OOkbYS5Z5O9pbPbaCpSa0rhGet/ThesisAllocationSystem/supervisors/Patz_MIA_MPP_Supervision plan_AY 2020-2021.txt\n",
            "Processing /content/drive/.shortcut-targets-by-id/1ExS7M2OOkbYS5Z5O9pbPbaCpSa0rhGet/ThesisAllocationSystem/supervisors/Bryson MIA_MPP supervision plan AY 2020-2021.pdf\n",
            "Writing contents to /content/drive/.shortcut-targets-by-id/1ExS7M2OOkbYS5Z5O9pbPbaCpSa0rhGet/ThesisAllocationSystem/supervisors/Bryson MIA_MPP supervision plan AY 2020-2021.txt\n",
            "Processing /content/drive/.shortcut-targets-by-id/1ExS7M2OOkbYS5Z5O9pbPbaCpSa0rhGet/ThesisAllocationSystem/supervisors/Costello_Supervision Plan AY20-21.pdf\n",
            "Writing contents to /content/drive/.shortcut-targets-by-id/1ExS7M2OOkbYS5Z5O9pbPbaCpSa0rhGet/ThesisAllocationSystem/supervisors/Costello_Supervision Plan AY20-21.txt\n",
            "Processing /content/drive/.shortcut-targets-by-id/1ExS7M2OOkbYS5Z5O9pbPbaCpSa0rhGet/ThesisAllocationSystem/supervisors/Hallerberg_MIA_MPP_Supervision plan_AY 2020-2021.pdf\n",
            "Writing contents to /content/drive/.shortcut-targets-by-id/1ExS7M2OOkbYS5Z5O9pbPbaCpSa0rhGet/ThesisAllocationSystem/supervisors/Hallerberg_MIA_MPP_Supervision plan_AY 2020-2021.txt\n",
            "Processing /content/drive/.shortcut-targets-by-id/1ExS7M2OOkbYS5Z5O9pbPbaCpSa0rhGet/ThesisAllocationSystem/supervisors/Kreyenfeld_MIA_MPP_Supervision plan_AY 2020-2021.pdf\n",
            "Writing contents to /content/drive/.shortcut-targets-by-id/1ExS7M2OOkbYS5Z5O9pbPbaCpSa0rhGet/ThesisAllocationSystem/supervisors/Kreyenfeld_MIA_MPP_Supervision plan_AY 2020-2021.txt\n",
            "Processing /content/drive/.shortcut-targets-by-id/1ExS7M2OOkbYS5Z5O9pbPbaCpSa0rhGet/ThesisAllocationSystem/supervisors/Cali_MIA_MPP_Supervision plan AY 2020-2021.pdf\n",
            "Writing contents to /content/drive/.shortcut-targets-by-id/1ExS7M2OOkbYS5Z5O9pbPbaCpSa0rhGet/ThesisAllocationSystem/supervisors/Cali_MIA_MPP_Supervision plan AY 2020-2021.txt\n",
            "Processing /content/drive/.shortcut-targets-by-id/1ExS7M2OOkbYS5Z5O9pbPbaCpSa0rhGet/ThesisAllocationSystem/supervisors/Munzert_MIA_MPP_Supervision plan_AY 2020-2021.pdf\n",
            "Writing contents to /content/drive/.shortcut-targets-by-id/1ExS7M2OOkbYS5Z5O9pbPbaCpSa0rhGet/ThesisAllocationSystem/supervisors/Munzert_MIA_MPP_Supervision plan_AY 2020-2021.txt\n",
            "Processing /content/drive/.shortcut-targets-by-id/1ExS7M2OOkbYS5Z5O9pbPbaCpSa0rhGet/ThesisAllocationSystem/supervisors/Hirth_MIA_MPP_Supervision plan AY 2020-2021.pdf\n",
            "Writing contents to /content/drive/.shortcut-targets-by-id/1ExS7M2OOkbYS5Z5O9pbPbaCpSa0rhGet/ThesisAllocationSystem/supervisors/Hirth_MIA_MPP_Supervision plan AY 2020-2021.txt\n",
            "Processing /content/drive/.shortcut-targets-by-id/1ExS7M2OOkbYS5Z5O9pbPbaCpSa0rhGet/ThesisAllocationSystem/supervisors/Reh_MIA_MPP_Supervision Plan_AY 2020-2021.pdf\n",
            "Writing contents to /content/drive/.shortcut-targets-by-id/1ExS7M2OOkbYS5Z5O9pbPbaCpSa0rhGet/ThesisAllocationSystem/supervisors/Reh_MIA_MPP_Supervision Plan_AY 2020-2021.txt\n",
            "Processing /content/drive/.shortcut-targets-by-id/1ExS7M2OOkbYS5Z5O9pbPbaCpSa0rhGet/ThesisAllocationSystem/supervisors/Mair_MIA_MPP_supervision plan_AY 2020-2021.pdf\n",
            "Writing contents to /content/drive/.shortcut-targets-by-id/1ExS7M2OOkbYS5Z5O9pbPbaCpSa0rhGet/ThesisAllocationSystem/supervisors/Mair_MIA_MPP_supervision plan_AY 2020-2021.txt\n",
            "Processing /content/drive/.shortcut-targets-by-id/1ExS7M2OOkbYS5Z5O9pbPbaCpSa0rhGet/ThesisAllocationSystem/supervisors/Cingolani_MIA_MPP_Supervision plan_AY 2020-2021.pdf\n",
            "Writing contents to /content/drive/.shortcut-targets-by-id/1ExS7M2OOkbYS5Z5O9pbPbaCpSa0rhGet/ThesisAllocationSystem/supervisors/Cingolani_MIA_MPP_Supervision plan_AY 2020-2021.txt\n",
            "Processing /content/drive/.shortcut-targets-by-id/1ExS7M2OOkbYS5Z5O9pbPbaCpSa0rhGet/ThesisAllocationSystem/supervisors/Mungiu-Pippidi_MIA_MPP_Supervision plan_AY 2020-2021.pdf\n",
            "Writing contents to /content/drive/.shortcut-targets-by-id/1ExS7M2OOkbYS5Z5O9pbPbaCpSa0rhGet/ThesisAllocationSystem/supervisors/Mungiu-Pippidi_MIA_MPP_Supervision plan_AY 2020-2021.txt\n",
            "Processing /content/drive/.shortcut-targets-by-id/1ExS7M2OOkbYS5Z5O9pbPbaCpSa0rhGet/ThesisAllocationSystem/supervisors/Flachsland_MIA_MPP_ Supervision plan_AY 2020-2021.pdf\n",
            "Writing contents to /content/drive/.shortcut-targets-by-id/1ExS7M2OOkbYS5Z5O9pbPbaCpSa0rhGet/ThesisAllocationSystem/supervisors/Flachsland_MIA_MPP_ Supervision plan_AY 2020-2021.txt\n",
            "Processing /content/drive/.shortcut-targets-by-id/1ExS7M2OOkbYS5Z5O9pbPbaCpSa0rhGet/ThesisAllocationSystem/supervisors/Graf_MIA_MPP_Supervision plan_2020-2021.pdf\n",
            "Writing contents to /content/drive/.shortcut-targets-by-id/1ExS7M2OOkbYS5Z5O9pbPbaCpSa0rhGet/ThesisAllocationSystem/supervisors/Graf_MIA_MPP_Supervision plan_2020-2021.txt\n",
            "Processing /content/drive/.shortcut-targets-by-id/1ExS7M2OOkbYS5Z5O9pbPbaCpSa0rhGet/ThesisAllocationSystem/supervisors/Mena_MIA_MPP_Supervision_AY 2020-2021.pdf\n",
            "Writing contents to /content/drive/.shortcut-targets-by-id/1ExS7M2OOkbYS5Z5O9pbPbaCpSa0rhGet/ThesisAllocationSystem/supervisors/Mena_MIA_MPP_Supervision_AY 2020-2021.txt\n",
            "Processing /content/drive/.shortcut-targets-by-id/1ExS7M2OOkbYS5Z5O9pbPbaCpSa0rhGet/ThesisAllocationSystem/supervisors/Hustedt_MIA_MPP_Supervision_AY2020-21.pdf\n",
            "Writing contents to /content/drive/.shortcut-targets-by-id/1ExS7M2OOkbYS5Z5O9pbPbaCpSa0rhGet/ThesisAllocationSystem/supervisors/Hustedt_MIA_MPP_Supervision_AY2020-21.txt\n",
            "Processing /content/drive/.shortcut-targets-by-id/1ExS7M2OOkbYS5Z5O9pbPbaCpSa0rhGet/ThesisAllocationSystem/train-papers/Hammerschmid1.pdf\n",
            "Writing contents to /content/drive/.shortcut-targets-by-id/1ExS7M2OOkbYS5Z5O9pbPbaCpSa0rhGet/ThesisAllocationSystem/train-papers/Hammerschmid1.txt\n",
            "Processing /content/drive/.shortcut-targets-by-id/1ExS7M2OOkbYS5Z5O9pbPbaCpSa0rhGet/ThesisAllocationSystem/train-papers/Hammerschmid2.pdf\n",
            "Writing contents to /content/drive/.shortcut-targets-by-id/1ExS7M2OOkbYS5Z5O9pbPbaCpSa0rhGet/ThesisAllocationSystem/train-papers/Hammerschmid2.txt\n",
            "Processing /content/drive/.shortcut-targets-by-id/1ExS7M2OOkbYS5Z5O9pbPbaCpSa0rhGet/ThesisAllocationSystem/train-papers/Hammerschmid3.pdf\n",
            "Writing contents to /content/drive/.shortcut-targets-by-id/1ExS7M2OOkbYS5Z5O9pbPbaCpSa0rhGet/ThesisAllocationSystem/train-papers/Hammerschmid3.txt\n",
            "Processing /content/drive/.shortcut-targets-by-id/1ExS7M2OOkbYS5Z5O9pbPbaCpSa0rhGet/ThesisAllocationSystem/train-papers/Hammerschmid4.pdf\n",
            "Writing contents to /content/drive/.shortcut-targets-by-id/1ExS7M2OOkbYS5Z5O9pbPbaCpSa0rhGet/ThesisAllocationSystem/train-papers/Hammerschmid4.txt\n",
            "Processing /content/drive/.shortcut-targets-by-id/1ExS7M2OOkbYS5Z5O9pbPbaCpSa0rhGet/ThesisAllocationSystem/train-papers/Hammerschmid5.pdf\n",
            "Writing contents to /content/drive/.shortcut-targets-by-id/1ExS7M2OOkbYS5Z5O9pbPbaCpSa0rhGet/ThesisAllocationSystem/train-papers/Hammerschmid5.txt\n",
            "Processing /content/drive/.shortcut-targets-by-id/1ExS7M2OOkbYS5Z5O9pbPbaCpSa0rhGet/ThesisAllocationSystem/train-papers/Hammerschmid6.pdf\n",
            "Writing contents to /content/drive/.shortcut-targets-by-id/1ExS7M2OOkbYS5Z5O9pbPbaCpSa0rhGet/ThesisAllocationSystem/train-papers/Hammerschmid6.txt\n",
            "Processing /content/drive/.shortcut-targets-by-id/1ExS7M2OOkbYS5Z5O9pbPbaCpSa0rhGet/ThesisAllocationSystem/train-papers/Hammerschmid7.pdf\n",
            "Writing contents to /content/drive/.shortcut-targets-by-id/1ExS7M2OOkbYS5Z5O9pbPbaCpSa0rhGet/ThesisAllocationSystem/train-papers/Hammerschmid7.txt\n",
            "Processing /content/drive/.shortcut-targets-by-id/1ExS7M2OOkbYS5Z5O9pbPbaCpSa0rhGet/ThesisAllocationSystem/train-papers/Hammerschmid8.pdf\n",
            "Writing contents to /content/drive/.shortcut-targets-by-id/1ExS7M2OOkbYS5Z5O9pbPbaCpSa0rhGet/ThesisAllocationSystem/train-papers/Hammerschmid8.txt\n",
            "Processing /content/drive/.shortcut-targets-by-id/1ExS7M2OOkbYS5Z5O9pbPbaCpSa0rhGet/ThesisAllocationSystem/train-papers/Hammerschmid9.pdf\n",
            "Writing contents to /content/drive/.shortcut-targets-by-id/1ExS7M2OOkbYS5Z5O9pbPbaCpSa0rhGet/ThesisAllocationSystem/train-papers/Hammerschmid9.txt\n",
            "Processing /content/drive/.shortcut-targets-by-id/1ExS7M2OOkbYS5Z5O9pbPbaCpSa0rhGet/ThesisAllocationSystem/train-papers/Hammerschmid10.pdf\n",
            "Writing contents to /content/drive/.shortcut-targets-by-id/1ExS7M2OOkbYS5Z5O9pbPbaCpSa0rhGet/ThesisAllocationSystem/train-papers/Hammerschmid10.txt\n",
            "Processing /content/drive/.shortcut-targets-by-id/1ExS7M2OOkbYS5Z5O9pbPbaCpSa0rhGet/ThesisAllocationSystem/train-papers/Hammerschmid11.pdf\n",
            "Writing contents to /content/drive/.shortcut-targets-by-id/1ExS7M2OOkbYS5Z5O9pbPbaCpSa0rhGet/ThesisAllocationSystem/train-papers/Hammerschmid11.txt\n",
            "Processing /content/drive/.shortcut-targets-by-id/1ExS7M2OOkbYS5Z5O9pbPbaCpSa0rhGet/ThesisAllocationSystem/train-papers/Hammerschmid12.pdf\n",
            "Writing contents to /content/drive/.shortcut-targets-by-id/1ExS7M2OOkbYS5Z5O9pbPbaCpSa0rhGet/ThesisAllocationSystem/train-papers/Hammerschmid12.txt\n",
            "Processing /content/drive/.shortcut-targets-by-id/1ExS7M2OOkbYS5Z5O9pbPbaCpSa0rhGet/ThesisAllocationSystem/train-papers/Hammerschmid13.pdf\n",
            "Writing contents to /content/drive/.shortcut-targets-by-id/1ExS7M2OOkbYS5Z5O9pbPbaCpSa0rhGet/ThesisAllocationSystem/train-papers/Hammerschmid13.txt\n",
            "Processing /content/drive/.shortcut-targets-by-id/1ExS7M2OOkbYS5Z5O9pbPbaCpSa0rhGet/ThesisAllocationSystem/train-papers/Hammerschmid14.pdf\n",
            "Writing contents to /content/drive/.shortcut-targets-by-id/1ExS7M2OOkbYS5Z5O9pbPbaCpSa0rhGet/ThesisAllocationSystem/train-papers/Hammerschmid14.txt\n",
            "Processing /content/drive/.shortcut-targets-by-id/1ExS7M2OOkbYS5Z5O9pbPbaCpSa0rhGet/ThesisAllocationSystem/train-papers/Hammerschmid15.pdf\n",
            "Writing contents to /content/drive/.shortcut-targets-by-id/1ExS7M2OOkbYS5Z5O9pbPbaCpSa0rhGet/ThesisAllocationSystem/train-papers/Hammerschmid15.txt\n",
            "Processing /content/drive/.shortcut-targets-by-id/1ExS7M2OOkbYS5Z5O9pbPbaCpSa0rhGet/ThesisAllocationSystem/train-papers/Hammerschmid16.pdf\n",
            "Writing contents to /content/drive/.shortcut-targets-by-id/1ExS7M2OOkbYS5Z5O9pbPbaCpSa0rhGet/ThesisAllocationSystem/train-papers/Hammerschmid16.txt\n",
            "Processing /content/drive/.shortcut-targets-by-id/1ExS7M2OOkbYS5Z5O9pbPbaCpSa0rhGet/ThesisAllocationSystem/train-papers/Hammerschmid17.pdf\n",
            "Writing contents to /content/drive/.shortcut-targets-by-id/1ExS7M2OOkbYS5Z5O9pbPbaCpSa0rhGet/ThesisAllocationSystem/train-papers/Hammerschmid17.txt\n",
            "Processing /content/drive/.shortcut-targets-by-id/1ExS7M2OOkbYS5Z5O9pbPbaCpSa0rhGet/ThesisAllocationSystem/train-papers/Hammerschmid18.pdf\n",
            "Writing contents to /content/drive/.shortcut-targets-by-id/1ExS7M2OOkbYS5Z5O9pbPbaCpSa0rhGet/ThesisAllocationSystem/train-papers/Hammerschmid18.txt\n"
          ],
          "name": "stdout"
        },
        {
          "output_type": "error",
          "ename": "TypeError",
          "evalue": "ignored",
          "traceback": [
            "\u001b[0;31m---------------------------------------------------------------------------\u001b[0m",
            "\u001b[0;31mTypeError\u001b[0m                                 Traceback (most recent call last)",
            "\u001b[0;32m<ipython-input-6-843ca25d5c23>\u001b[0m in \u001b[0;36m<module>\u001b[0;34m()\u001b[0m\n\u001b[1;32m     20\u001b[0m \u001b[0;34m\u001b[0m\u001b[0m\n\u001b[1;32m     21\u001b[0m \u001b[0;32mif\u001b[0m \u001b[0m__name__\u001b[0m \u001b[0;34m==\u001b[0m \u001b[0;34m\"__main__\"\u001b[0m\u001b[0;34m:\u001b[0m\u001b[0;34m\u001b[0m\u001b[0;34m\u001b[0m\u001b[0m\n\u001b[0;32m---> 22\u001b[0;31m     \u001b[0mextract_text_from_pdfs_recursively\u001b[0m\u001b[0;34m(\u001b[0m\u001b[0mos\u001b[0m\u001b[0;34m.\u001b[0m\u001b[0mgetcwd\u001b[0m\u001b[0;34m(\u001b[0m\u001b[0;34m)\u001b[0m\u001b[0;34m)\u001b[0m\u001b[0;34m\u001b[0m\u001b[0;34m\u001b[0m\u001b[0m\n\u001b[0m",
            "\u001b[0;32m<ipython-input-6-843ca25d5c23>\u001b[0m in \u001b[0;36mextract_text_from_pdfs_recursively\u001b[0;34m(dir)\u001b[0m\n\u001b[1;32m     14\u001b[0m                 \u001b[0;32mwith\u001b[0m \u001b[0mopen\u001b[0m\u001b[0;34m(\u001b[0m\u001b[0mpath_to_txt\u001b[0m\u001b[0;34m,\u001b[0m \u001b[0;34m'w'\u001b[0m\u001b[0;34m)\u001b[0m \u001b[0;32mas\u001b[0m \u001b[0mtxt_file\u001b[0m\u001b[0;34m:\u001b[0m\u001b[0;34m\u001b[0m\u001b[0;34m\u001b[0m\u001b[0m\n\u001b[1;32m     15\u001b[0m                     \u001b[0mprint\u001b[0m\u001b[0;34m(\u001b[0m\u001b[0;34m\"Writing contents to \"\u001b[0m \u001b[0;34m+\u001b[0m \u001b[0mpath_to_txt\u001b[0m\u001b[0;34m)\u001b[0m\u001b[0;34m\u001b[0m\u001b[0;34m\u001b[0m\u001b[0m\n\u001b[0;32m---> 16\u001b[0;31m                     \u001b[0mtxt_file\u001b[0m\u001b[0;34m.\u001b[0m\u001b[0mwrite\u001b[0m\u001b[0;34m(\u001b[0m\u001b[0mpdf_contents\u001b[0m\u001b[0;34m[\u001b[0m\u001b[0;34m'content'\u001b[0m\u001b[0;34m]\u001b[0m\u001b[0;34m)\u001b[0m\u001b[0;34m\u001b[0m\u001b[0;34m\u001b[0m\u001b[0m\n\u001b[0m\u001b[1;32m     17\u001b[0m             \u001b[0;32melse\u001b[0m\u001b[0;34m:\u001b[0m\u001b[0;34m\u001b[0m\u001b[0;34m\u001b[0m\u001b[0m\n\u001b[1;32m     18\u001b[0m                 \u001b[0;32mpass\u001b[0m\u001b[0;34m\u001b[0m\u001b[0;34m\u001b[0m\u001b[0m\n",
            "\u001b[0;31mTypeError\u001b[0m: write() argument must be str, not None"
          ]
        }
      ]
    },
    {
      "cell_type": "markdown",
      "metadata": {
        "id": "7-y9-PCXFzyR"
      },
      "source": [
        "# Put TXT files into CSV\n",
        "\n",
        "After importing the packages, define the directory of interest and run the function below to create a CSV files that entails all TXT files in the following structure: \n",
        "\n",
        "Filename | Content "
      ]
    },
    {
      "cell_type": "code",
      "metadata": {
        "id": "5YsWuXaqF6FF"
      },
      "source": [
        "import csv\n",
        "from pathlib import Path"
      ],
      "execution_count": null,
      "outputs": []
    },
    {
      "cell_type": "code",
      "metadata": {
        "id": "BTVcRMNCF5H0"
      },
      "source": [
        "def pdf_to_txt(x): \n",
        "\n",
        "    os.chdir('/content/drive/MyDrive/ThesisAllocationSystem/' + x)\n",
        "\n",
        "    with open(x + '.csv', 'w', encoding='Latin-1') as out_file:\n",
        "        csv_out = csv.writer(out_file)\n",
        "        csv_out.writerow(['FileName', 'Content'])\n",
        "        for fileName in Path('.').glob('*.txt'):\n",
        "            lines = [ ]\n",
        "            with open(str(fileName.absolute()),'rb') as one_text:\n",
        "                for line in one_text.readlines():\n",
        "                    lines.append(line.decode(encoding='Latin-1',errors='ignore').strip())\n",
        "            csv_out.writerow([str(fileName),' '.join(lines)])"
      ],
      "execution_count": null,
      "outputs": []
    },
    {
      "cell_type": "code",
      "metadata": {
        "id": "YBZ_HTKUOHDx"
      },
      "source": [
        "pdf_to_txt('test-theses')\n",
        "pdf_to_txt('test-proposals')\n",
        "pdf_to_txt('supervisors')\n",
        "pdf_to_txt('train-papers')"
      ],
      "execution_count": null,
      "outputs": []
    }
  ]
}