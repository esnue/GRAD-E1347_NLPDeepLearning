{
  "nbformat": 4,
  "nbformat_minor": 0,
  "metadata": {
    "colab": {
      "name": "Thesis Allocation",
      "provenance": [],
      "collapsed_sections": [],
      "include_colab_link": true
    },
    "kernelspec": {
      "name": "python3",
      "display_name": "Python 3"
    }
  },
  "cells": [
    {
      "cell_type": "markdown",
      "metadata": {
        "id": "view-in-github",
        "colab_type": "text"
      },
      "source": [
        "<a href=\"https://colab.research.google.com/github/esnue/ThesisAllocationSystem/blob/main/reader.ipynb\" target=\"_parent\"><img src=\"https://colab.research.google.com/assets/colab-badge.svg\" alt=\"Open In Colab\"/></a>"
      ]
    },
    {
      "cell_type": "markdown",
      "metadata": {
        "id": "FKLq9ntWGKop"
      },
      "source": [
        "# Preperation"
      ]
    },
    {
      "cell_type": "markdown",
      "metadata": {
        "id": "xqqOSnErFifL"
      },
      "source": [
        "As part of the workflow between GitHub and Google Colab, please follow these steps: \n",
        "1. Upload the data to a folder in your GDrive. \n",
        "2. Mount your GDrive.\n",
        "3. Set the data folder as your present working directory. "
      ]
    },
    {
      "cell_type": "code",
      "metadata": {
        "id": "nWhcjcZVEtFv"
      },
      "source": [
        " from google.colab import drive\n",
        " drive.mount('/content/drive')"
      ],
      "execution_count": null,
      "outputs": []
    },
    {
      "cell_type": "code",
      "metadata": {
        "id": "gyIoA5EkFK8E",
        "outputId": "7d80f580-9953-4339-a5a4-1d359696d882",
        "colab": {
          "base_uri": "https://localhost:8080/"
        }
      },
      "source": [
        "!pwd\n",
        "%cd /content/drive/MyDrive/ThesisAllocationSystem"
      ],
      "execution_count": 7,
      "outputs": [
        {
          "output_type": "stream",
          "text": [
            "/content\n",
            "/content/drive/MyDrive/ThesisAllocationSystem\n"
          ],
          "name": "stdout"
        }
      ]
    },
    {
      "cell_type": "markdown",
      "metadata": {
        "id": "amNDJ32bGOZQ"
      },
      "source": [
        "# 1. Method: Read the PDF files"
      ]
    },
    {
      "cell_type": "code",
      "metadata": {
        "id": "KSdWOoGdI7Pe",
        "colab": {
          "base_uri": "https://localhost:8080/"
        },
        "outputId": "a9606573-3b8f-4e0b-d0f9-19afa535131d"
      },
      "source": [
        "!pip install PyPDF2"
      ],
      "execution_count": 1,
      "outputs": [
        {
          "output_type": "stream",
          "text": [
            "Collecting PyPDF2\n",
            "\u001b[?25l  Downloading https://files.pythonhosted.org/packages/b4/01/68fcc0d43daf4c6bdbc6b33cc3f77bda531c86b174cac56ef0ffdb96faab/PyPDF2-1.26.0.tar.gz (77kB)\n",
            "\r\u001b[K     |████▎                           | 10kB 15.4MB/s eta 0:00:01\r\u001b[K     |████████▌                       | 20kB 21.8MB/s eta 0:00:01\r\u001b[K     |████████████▊                   | 30kB 18.0MB/s eta 0:00:01\r\u001b[K     |█████████████████               | 40kB 14.9MB/s eta 0:00:01\r\u001b[K     |█████████████████████▏          | 51kB 16.8MB/s eta 0:00:01\r\u001b[K     |█████████████████████████▍      | 61kB 14.9MB/s eta 0:00:01\r\u001b[K     |█████████████████████████████▋  | 71kB 12.4MB/s eta 0:00:01\r\u001b[K     |████████████████████████████████| 81kB 5.4MB/s \n",
            "\u001b[?25hBuilding wheels for collected packages: PyPDF2\n",
            "  Building wheel for PyPDF2 (setup.py) ... \u001b[?25l\u001b[?25hdone\n",
            "  Created wheel for PyPDF2: filename=PyPDF2-1.26.0-cp37-none-any.whl size=61085 sha256=79470fa063ecb031df54b1e63da5a019bc03532e7dc0bbf88601f2a53175788d\n",
            "  Stored in directory: /root/.cache/pip/wheels/53/84/19/35bc977c8bf5f0c23a8a011aa958acd4da4bbd7a229315c1b7\n",
            "Successfully built PyPDF2\n",
            "Installing collected packages: PyPDF2\n",
            "Successfully installed PyPDF2-1.26.0\n"
          ],
          "name": "stdout"
        }
      ]
    },
    {
      "cell_type": "code",
      "metadata": {
        "id": "qkDZX84yEn3X"
      },
      "source": [
        "import PyPDF2\n",
        "import re\n",
        "import glob"
      ],
      "execution_count": 10,
      "outputs": []
    },
    {
      "cell_type": "code",
      "metadata": {
        "id": "W6-srAcjAON1"
      },
      "source": [
        "def read_pdfs(path):\r\n",
        "\r\n",
        "  for file in glob.glob(path + \"/*.pdf\"):\r\n",
        "      print(file)\r\n",
        "      if file.endswith('.pdf'):\r\n",
        "          fileReader = PyPDF2.PdfFileReader(open(file, \"rb\"))\r\n",
        "          count = 0\r\n",
        "          count = fileReader.numPages\r\n",
        "          while count >= 0:\r\n",
        "              count -= 1\r\n",
        "              pageObj = fileReader.getPage(count)\r\n",
        "              text = pageObj.extractText()\r\n",
        "              #print(text)\r\n",
        "          num = re.findall(r'[0-9]+', text)\r\n",
        "          print(num)\r\n",
        "      else:\r\n",
        "          print(\"Please provide .pdf file\")"
      ],
      "execution_count": 12,
      "outputs": []
    },
    {
      "cell_type": "code",
      "metadata": {
        "id": "BStVEa9tigJ5",
        "colab": {
          "base_uri": "https://localhost:8080/"
        },
        "outputId": "b90ba0f1-8aa3-45c0-8f98-f35af5a6e69c"
      },
      "source": [
        "supervisor = \"/content/drive/MyDrive/ThesisAllocationSystem/supervisors\"\r\n",
        "proposals = \"/content/drive/MyDrive/ThesisAllocationSystem/proposals\"\r\n",
        "\r\n",
        "read_pdfs(supervisor)\r\n",
        "read_pdfs(proposals)"
      ],
      "execution_count": 18,
      "outputs": [
        {
          "output_type": "stream",
          "text": [
            "/content/drive/MyDrive/ThesisAllocationSystem/supervisors/Roemmele_MIA_MPP_Supervision plan_AY 2020-2021.pdf\n",
            "['2020', '2021', '4', '3', '2021', '4', '2021', '5', '2021', '6', '2021']\n",
            "/content/drive/MyDrive/ThesisAllocationSystem/supervisors/Hammerschmid_MIA_MPP_Supervision plan_AY 2020-2021.pdf\n",
            "['2020', '2021', '4', '2', '7', '2020', '18', '00', '20', '00', '2', '30', '3', '8', '2021', '18', '00', '20', '00', '2', '30', '1', '4', '1', '7', '2', '5', '29', '18', '00', '20', '00', '6', '12', '18', '00', '20', '00']\n",
            "/content/drive/MyDrive/ThesisAllocationSystem/supervisors/Anheier_MIA_MPP_Supervision plan_AY 2020-2021.pdf\n",
            "['2020', '2021', '5', '3', '11', '1', '2', '2021', '10', '12', '10', '7', '4', '02', '2021', '7', '5', '03', '2021', '10', '6', '04', '2021', '10']\n",
            "/content/drive/MyDrive/ThesisAllocationSystem/supervisors/Hassel_MIA_MPP_Supervision plan_AY 2020-2021 (002).pdf\n",
            "['2020', '2021', '4', '3', '3', '2', '2021', '5', '8', '2008', '2', '4', '24', '2', '2021', '2', '2008', '3', '5', '24', '3', '2021', '2008', '4', '6', '7', '4', '2021']\n",
            "/content/drive/MyDrive/ThesisAllocationSystem/supervisors/Jankin_MIA_MPP_Supervision plan AY 2020-2021.pdf\n",
            "['2020', '2021', '7', '5', '6', '7', '8', '9', '10', '11', '8', '30', '202', '1', '6', '13', '04', '202', '1']\n",
            "/content/drive/MyDrive/ThesisAllocationSystem/supervisors/MIA_MPP_Template supervision plan_Hustedt.pdf\n",
            "['2020', '2021', '6', '5', '2021', '5', '10', '6', '2021', '5', '10']\n",
            "/content/drive/MyDrive/ThesisAllocationSystem/supervisors/Supervision Plan (Mena) AY 2020-2021.pdf\n",
            "['2020', '2021', '5', '5', '03', '2021', '6', '04', '2021', '10']\n",
            "/content/drive/MyDrive/ThesisAllocationSystem/supervisors/Jachtenfuchs MIA_MPP_supervision plan AY 2020-2021.pdf\n",
            "['2020', '2021', '5', '6', '2021']\n",
            "/content/drive/MyDrive/ThesisAllocationSystem/supervisors/Kayser_MIA_MPP_Supervision plan_AY 2020-2021.pdf\n",
            "['2020', '2021', '4', '3', '1', '0', '02', '2021', '4', '0', '2', '03', '2021', '5', '3', '0', '03', '2021', '6', '20', '04', '2021']\n",
            "/content/drive/MyDrive/ThesisAllocationSystem/supervisors/CIS Supervision Plan as of 29.10.2020_AY 2020-2021 (3).pdf\n",
            "['2020', '2021', '6', '1', '1', '2', '5', '2021', '6', '2021']\n",
            "/content/drive/MyDrive/ThesisAllocationSystem/supervisors/Iacovone_MIA_MPP_Supervision plan_AY 2020-2021.pdf\n",
            "['2020', '2021', '5', '5', '2021', '5', '6', '2021', '5', '6', '1']\n",
            "/content/drive/MyDrive/ThesisAllocationSystem/supervisors/Patz_MIA_MPP_Supervision plan_AY 2020-2021.pdf\n",
            "['2020', '2021', '5', '4', '22', '26', '2021', '3', '4', '5', '26', '2021', '10', '15', '6', '2021', '19']\n",
            "/content/drive/MyDrive/ThesisAllocationSystem/supervisors/Bryson MIA_MPP supervision plan AY 2020-2021.pdf\n",
            "['2020', '2021', '4', '31', '7', '28', '27', '28', '29', '16']\n",
            "/content/drive/MyDrive/ThesisAllocationSystem/supervisors/Costello_Supervision Plan AY20-21.pdf\n",
            "['2020', '2021', '4', '3', '4', '5', '6']\n",
            "/content/drive/MyDrive/ThesisAllocationSystem/supervisors/Hallerberg_MIA_MPP_Supervision plan_AY 2020-2021.pdf\n",
            "['2020', '2021', '4', '3', '2021', '4', '2021', '5', '2021', '6', '2021']\n",
            "/content/drive/MyDrive/ThesisAllocationSystem/supervisors/Kreyenfeld_MIA_MPP_Supervision plan_AY 2020-2021.pdf\n",
            "['2020', '2021', '4', '2', '2', '020', '5', '1', '500', '3', '6', '2021', '10', '15']\n",
            "/content/drive/MyDrive/ThesisAllocationSystem/supervisors/Cali_MIA_MPP_Supervision plan AY 2020-2021.pdf\n",
            "['2020', '2021', '6', '4', '2021', '5', '2021', '6', '2021']\n",
            "/content/drive/MyDrive/ThesisAllocationSystem/supervisors/Munzert_MIA_MPP_Supervision plan_AY 2020-2021.pdf\n",
            "['2020', '2021', '6', '6', '1', '202', '1']\n",
            "/content/drive/MyDrive/ThesisAllocationSystem/supervisors/Hirth_MIA_MPP_Supervision plan AY 2020-2021.pdf\n",
            "['2020', '2021', '9', '15', '6', '2021', '8', '7', '12', '2014', '150', '8', '5']\n",
            "/content/drive/MyDrive/ThesisAllocationSystem/supervisors/Reh_MIA_MPP_Supervision Plan_AY 2020-2021.pdf\n",
            "['2020', '2021', '4', '1', '2020', '1', '2', '2020', '2', '3', '2020', '1', '4', '2021', '2', '5', '2021', '3', '6', '2021', '3']\n",
            "/content/drive/MyDrive/ThesisAllocationSystem/supervisors/Mair_MIA_MPP_supervision plan_AY 2020-2021.pdf\n",
            "['2020', '2021', '5', '5', '202', '1', '5', '7', '6', '202', '1', '5', '7']\n",
            "/content/drive/MyDrive/ThesisAllocationSystem/supervisors/Cingolani_MIA_MPP_Supervision plan_AY 2020-2021.pdf\n",
            "['2020', '2021', '5', '4', '2021', '5', '2021', '6', '2021']\n",
            "/content/drive/MyDrive/ThesisAllocationSystem/supervisors/Mungiu-Pippidi_MIA_MPP_Supervision plan_AY 2020-2021.pdf\n",
            "['2020', '2021', '7', '217', '249', '3', '2021', '06', '06', '06', '0606', '4', '5', '2021', '1', '6', '2021', '2']\n",
            "/content/drive/MyDrive/ThesisAllocationSystem/supervisors/Flachsland_MIA_MPP_ Supervision plan_AY 2020-2021.pdf\n",
            "['2020', '2021', '8', '150', '10', '5']\n",
            "/content/drive/MyDrive/ThesisAllocationSystem/supervisors/Graf_MIA_MPP_Supervision plan_2020-2021.pdf\n",
            "['2020', '2021', '5', '3', '2021']\n",
            "/content/drive/MyDrive/ThesisAllocationSystem/proposals/ThesisProposal_Berjon.pdf\n",
            "['5', '6', '2019', '7', '1', '2', '3', '1', '2', '3']\n",
            "/content/drive/MyDrive/ThesisAllocationSystem/proposals/ThesisProposal_Anon.pdf\n",
            "['6', '1994', '201', '7', '1994', '201', '7', '1994', '202', '07', '1', '2', '3', '3', '2020', '2021']\n",
            "/content/drive/MyDrive/ThesisAllocationSystem/proposals/ThesisProposal_Dannyelle.pdf\n",
            "[]\n",
            "/content/drive/MyDrive/ThesisAllocationSystem/proposals/ThesisProposal_Georg.pdf\n",
            "['6', '1994', '201', '7', '1994', '201', '7', '1994', '202', '07', '1', '2', '3', '3', '2020', '2021']\n",
            "/content/drive/MyDrive/ThesisAllocationSystem/proposals/ThesisProposal_Joshita.pdf\n",
            "[]\n",
            "/content/drive/MyDrive/ThesisAllocationSystem/proposals/ThesisProposal_Le_Williams.pdf\n",
            "['20', '20', '202', '1', '0', '191277', '701162', '1', '2', '3', '4', '5', '6', '7']\n"
          ],
          "name": "stdout"
        }
      ]
    },
    {
      "cell_type": "markdown",
      "metadata": {
        "id": "1aZ2PBcoKAWM"
      },
      "source": [
        "# 2. Method: Convert PDF to TXT"
      ]
    },
    {
      "cell_type": "code",
      "metadata": {
        "id": "i8l5BUkKHPr_"
      },
      "source": [
        "!pip install tika"
      ],
      "execution_count": null,
      "outputs": []
    },
    {
      "cell_type": "code",
      "metadata": {
        "id": "jbdJXRlIJeC8"
      },
      "source": [
        "from tika import parser\n",
        "import os\n",
        "\n",
        "def extract_text_from_pdfs_recursively(dir):\n",
        "    for root, dirs, files in os.walk(dir):\n",
        "        for file in files:\n",
        "            path_to_pdf = os.path.join(root, file)\n",
        "            [stem, ext] = os.path.splitext(path_to_pdf)\n",
        "            if ext == '.pdf':\n",
        "                print(\"Processing \" + path_to_pdf)\n",
        "                pdf_contents = parser.from_file(path_to_pdf)\n",
        "                path_to_txt = stem + '.txt'\n",
        "                with open(path_to_txt, 'w') as txt_file:\n",
        "                    print(\"Writing contents to \" + path_to_txt)\n",
        "                    txt_file.write(pdf_contents['content'])\n",
        "\n",
        "\n",
        "if __name__ == \"__main__\":\n",
        "    extract_text_from_pdfs_recursively(os.getcwd())"
      ],
      "execution_count": null,
      "outputs": []
    }
  ]
}