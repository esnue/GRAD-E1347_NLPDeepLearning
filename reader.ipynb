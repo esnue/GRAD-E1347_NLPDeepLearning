{
  "nbformat": 4,
  "nbformat_minor": 0,
  "metadata": {
    "colab": {
      "name": "Thesis Allocation",
      "provenance": [],
      "collapsed_sections": [],
      "mount_file_id": "https://github.com/esnue/ThesisAllocationSystem/blob/main/Thesis_Allocation.ipynb",
      "authorship_tag": "ABX9TyNE/msWJfWbNL9T3V2V1kys",
      "include_colab_link": true
    },
    "kernelspec": {
      "name": "python3",
      "display_name": "Python 3"
    }
  },
  "cells": [
    {
      "cell_type": "markdown",
      "metadata": {
        "id": "view-in-github",
        "colab_type": "text"
      },
      "source": [
        "<a href=\"https://colab.research.google.com/github/esnue/ThesisAllocationSystem/blob/main/Thesis_Allocation.ipynb\" target=\"_parent\"><img src=\"https://colab.research.google.com/assets/colab-badge.svg\" alt=\"Open In Colab\"/></a>"
      ]
    },
    {
      "cell_type": "code",
      "metadata": {
        "id": "KSdWOoGdI7Pe",
        "colab": {
          "base_uri": "https://localhost:8080/"
        },
        "outputId": "b04ff447-da90-44b2-8984-c21ec27cc398"
      },
      "source": [
        "#for handling pdf text files\r\n",
        "!pip install PyPDF2\r\n"
      ],
      "execution_count": 2,
      "outputs": [
        {
          "output_type": "stream",
          "text": [
            "Collecting PyPDF2\n",
            "\u001b[?25l  Downloading https://files.pythonhosted.org/packages/b4/01/68fcc0d43daf4c6bdbc6b33cc3f77bda531c86b174cac56ef0ffdb96faab/PyPDF2-1.26.0.tar.gz (77kB)\n",
            "\r\u001b[K     |████▎                           | 10kB 15.4MB/s eta 0:00:01\r\u001b[K     |████████▌                       | 20kB 22.1MB/s eta 0:00:01\r\u001b[K     |████████████▊                   | 30kB 15.7MB/s eta 0:00:01\r\u001b[K     |█████████████████               | 40kB 16.6MB/s eta 0:00:01\r\u001b[K     |█████████████████████▏          | 51kB 14.9MB/s eta 0:00:01\r\u001b[K     |█████████████████████████▍      | 61kB 14.7MB/s eta 0:00:01\r\u001b[K     |█████████████████████████████▋  | 71kB 13.1MB/s eta 0:00:01\r\u001b[K     |████████████████████████████████| 81kB 4.7MB/s \n",
            "\u001b[?25hBuilding wheels for collected packages: PyPDF2\n",
            "  Building wheel for PyPDF2 (setup.py) ... \u001b[?25l\u001b[?25hdone\n",
            "  Created wheel for PyPDF2: filename=PyPDF2-1.26.0-cp37-none-any.whl size=61085 sha256=61d52ba67f649e97b0b42fb8fb6da42a9004090c04c16b7b5dc611ba52f7635d\n",
            "  Stored in directory: /root/.cache/pip/wheels/53/84/19/35bc977c8bf5f0c23a8a011aa958acd4da4bbd7a229315c1b7\n",
            "Successfully built PyPDF2\n",
            "Installing collected packages: PyPDF2\n",
            "Successfully installed PyPDF2-1.26.0\n"
          ],
          "name": "stdout"
        }
      ]
    },
    {
      "cell_type": "code",
      "metadata": {
        "id": "W6-srAcjAON1"
      },
      "source": [
        "import PyPDF2\r\n",
        "import re\r\n",
        "import glob\r\n",
        "\r\n",
        "def read_pdfs(path):\r\n",
        "\r\n",
        "  for file in glob.glob(path + \"/*.pdf\"):\r\n",
        "      print(file)\r\n",
        "      if file.endswith('.pdf'):\r\n",
        "          fileReader = PyPDF2.PdfFileReader(open(file, \"rb\"))\r\n",
        "          count = 0\r\n",
        "          count = fileReader.numPages\r\n",
        "          while count >= 0:\r\n",
        "              count -= 1\r\n",
        "              pageObj = fileReader.getPage(count)\r\n",
        "              text = pageObj.extractText()\r\n",
        "              #print(text)\r\n",
        "          num = re.findall(r'[0-9]+', text)\r\n",
        "          print(num)\r\n",
        "      else:\r\n",
        "          print(\"Please provide .pdf file\")"
      ],
      "execution_count": 3,
      "outputs": []
    },
    {
      "cell_type": "code",
      "metadata": {
        "id": "BStVEa9tigJ5",
        "outputId": "57b42d3c-5a43-4b8a-eaf7-ac44e5bcf4d6",
        "colab": {
          "base_uri": "https://localhost:8080/"
        }
      },
      "source": [
        "read_pdfs(\"/content/drive/MyDrive/Uni/Hertie_MPP/NLP/data/supervisors\")\r\n",
        "read_pdfs(\"/content/drive/MyDrive/Uni/Hertie_MPP/NLP/data/proposals\")"
      ],
      "execution_count": 4,
      "outputs": [
        {
          "output_type": "stream",
          "text": [
            "/content/drive/MyDrive/Uni/Hertie_MPP/NLP/data/supervisors/Iacovone_MIA_MPP_Supervision plan_AY 2020-2021.pdf\n",
            "['2020', '2021', '5', '5', '2021', '5', '6', '2021', '5', '6', '1']\n",
            "/content/drive/MyDrive/Uni/Hertie_MPP/NLP/data/supervisors/CIS Supervision Plan as of 29.10.2020_AY 2020-2021 (3).pdf\n",
            "['2020', '2021', '6', '1', '1', '2', '5', '2021', '6', '2021']\n",
            "/content/drive/MyDrive/Uni/Hertie_MPP/NLP/data/supervisors/Jachtenfuchs MIA_MPP_supervision plan AY 2020-2021.pdf\n",
            "['2020', '2021', '5', '6', '2021']\n",
            "/content/drive/MyDrive/Uni/Hertie_MPP/NLP/data/supervisors/Hirth_MIA_MPP_Supervision plan AY 2020-2021.pdf\n",
            "['2020', '2021', '9', '15', '6', '2021', '8', '7', '12', '2014', '150', '8', '5']\n",
            "/content/drive/MyDrive/Uni/Hertie_MPP/NLP/data/supervisors/Hammerschmid_MIA_MPP_Supervision plan_AY 2020-2021.pdf\n",
            "['2020', '2021', '4', '2', '7', '2020', '18', '00', '20', '00', '2', '30', '3', '8', '2021', '18', '00', '20', '00', '2', '30', '1', '4', '1', '7', '2', '5', '29', '18', '00', '20', '00', '6', '12', '18', '00', '20', '00']\n",
            "/content/drive/MyDrive/Uni/Hertie_MPP/NLP/data/supervisors/Hallerberg_MIA_MPP_Supervision plan_AY 2020-2021.pdf\n",
            "['2020', '2021', '4', '3', '2021', '4', '2021', '5', '2021', '6', '2021']\n",
            "/content/drive/MyDrive/Uni/Hertie_MPP/NLP/data/supervisors/Graf_MIA_MPP_Supervision plan_2020-2021.pdf\n",
            "['2020', '2021', '5', '3', '2021']\n",
            "/content/drive/MyDrive/Uni/Hertie_MPP/NLP/data/supervisors/Hassel_MIA_MPP_Supervision plan_AY 2020-2021 (002).pdf\n",
            "['2020', '2021', '4', '3', '3', '2', '2021', '5', '8', '2008', '2', '4', '24', '2', '2021', '2', '2008', '3', '5', '24', '3', '2021', '2008', '4', '6', '7', '4', '2021']\n",
            "/content/drive/MyDrive/Uni/Hertie_MPP/NLP/data/supervisors/Anheier_MIA_MPP_Supervision plan_AY 2020-2021.pdf\n",
            "['2020', '2021', '5', '3', '11', '1', '2', '2021', '10', '12', '10', '7', '4', '02', '2021', '7', '5', '03', '2021', '10', '6', '04', '2021', '10']\n",
            "/content/drive/MyDrive/Uni/Hertie_MPP/NLP/data/supervisors/Flachsland_MIA_MPP_ Supervision plan_AY 2020-2021.pdf\n",
            "['2020', '2021', '8', '150', '10', '5']\n",
            "/content/drive/MyDrive/Uni/Hertie_MPP/NLP/data/supervisors/Cali_MIA_MPP_Supervision plan AY 2020-2021.pdf\n",
            "['2020', '2021', '6', '4', '2021', '5', '2021', '6', '2021']\n",
            "/content/drive/MyDrive/Uni/Hertie_MPP/NLP/data/supervisors/Cingolani_MIA_MPP_Supervision plan_AY 2020-2021.pdf\n",
            "['2020', '2021', '5', '4', '2021', '5', '2021', '6', '2021']\n",
            "/content/drive/MyDrive/Uni/Hertie_MPP/NLP/data/supervisors/Bryson MIA_MPP supervision plan AY 2020-2021.pdf\n",
            "['2020', '2021', '4', '31', '7', '28', '27', '28', '29', '16']\n",
            "/content/drive/MyDrive/Uni/Hertie_MPP/NLP/data/supervisors/Costello_Supervision Plan AY20-21.pdf\n",
            "['2020', '2021', '4', '3', '4', '5', '6']\n",
            "/content/drive/MyDrive/Uni/Hertie_MPP/NLP/data/supervisors/Mair_MIA_MPP_supervision plan_AY 2020-2021.pdf\n",
            "['2020', '2021', '5', '5', '202', '1', '5', '7', '6', '202', '1', '5', '7']\n",
            "/content/drive/MyDrive/Uni/Hertie_MPP/NLP/data/supervisors/Kreyenfeld_MIA_MPP_Supervision plan_AY 2020-2021.pdf\n",
            "['2020', '2021', '4', '2', '2', '020', '5', '1', '500', '3', '6', '2021', '10', '15']\n",
            "/content/drive/MyDrive/Uni/Hertie_MPP/NLP/data/supervisors/Mungiu-Pippidi_MIA_MPP_Supervision plan_AY 2020-2021.pdf\n",
            "['2020', '2021', '7', '217', '249', '3', '2021', '06', '06', '06', '0606', '4', '5', '2021', '1', '6', '2021', '2']\n",
            "/content/drive/MyDrive/Uni/Hertie_MPP/NLP/data/supervisors/MIA_MPP_Template supervision plan_Hustedt.pdf\n",
            "['2020', '2021', '6', '5', '2021', '5', '10', '6', '2021', '5', '10']\n",
            "/content/drive/MyDrive/Uni/Hertie_MPP/NLP/data/supervisors/Reh_MIA_MPP_Supervision Plan_AY 2020-2021.pdf\n",
            "['2020', '2021', '4', '1', '2020', '1', '2', '2020', '2', '3', '2020', '1', '4', '2021', '2', '5', '2021', '3', '6', '2021', '3']\n",
            "/content/drive/MyDrive/Uni/Hertie_MPP/NLP/data/supervisors/Roemmele_MIA_MPP_Supervision plan_AY 2020-2021.pdf\n",
            "['2020', '2021', '4', '3', '2021', '4', '2021', '5', '2021', '6', '2021']\n",
            "/content/drive/MyDrive/Uni/Hertie_MPP/NLP/data/supervisors/Supervision Plan (Mena) AY 2020-2021.pdf\n",
            "['2020', '2021', '5', '5', '03', '2021', '6', '04', '2021', '10']\n",
            "/content/drive/MyDrive/Uni/Hertie_MPP/NLP/data/supervisors/Patz_MIA_MPP_Supervision plan_AY 2020-2021.pdf\n",
            "['2020', '2021', '5', '4', '22', '26', '2021', '3', '4', '5', '26', '2021', '10', '15', '6', '2021', '19']\n",
            "/content/drive/MyDrive/Uni/Hertie_MPP/NLP/data/supervisors/Munzert_MIA_MPP_Supervision plan_AY 2020-2021.pdf\n",
            "['2020', '2021', '6', '6', '1', '202', '1']\n",
            "/content/drive/MyDrive/Uni/Hertie_MPP/NLP/data/supervisors/Kayser_MIA_MPP_Supervision plan_AY 2020-2021.pdf\n",
            "['2020', '2021', '4', '3', '1', '0', '02', '2021', '4', '0', '2', '03', '2021', '5', '3', '0', '03', '2021', '6', '20', '04', '2021']\n",
            "/content/drive/MyDrive/Uni/Hertie_MPP/NLP/data/supervisors/Jankin_MIA_MPP_Supervision plan AY 2020-2021.pdf\n",
            "['2020', '2021', '7', '5', '6', '7', '8', '9', '10', '11', '8', '30', '202', '1', '6', '13', '04', '202', '1']\n",
            "/content/drive/MyDrive/Uni/Hertie_MPP/NLP/data/proposals/ThesisProposal_Berjon.pdf\n",
            "['5', '6', '2019', '7', '1', '2', '3', '1', '2', '3']\n",
            "/content/drive/MyDrive/Uni/Hertie_MPP/NLP/data/proposals/ThesisProposal_Anon.pdf\n",
            "['6', '1994', '201', '7', '1994', '201', '7', '1994', '202', '07', '1', '2', '3', '3', '2020', '2021']\n",
            "/content/drive/MyDrive/Uni/Hertie_MPP/NLP/data/proposals/ThesisProposal_Dannyelle.pdf\n",
            "[]\n"
          ],
          "name": "stdout"
        }
      ]
    }
  ]
}
