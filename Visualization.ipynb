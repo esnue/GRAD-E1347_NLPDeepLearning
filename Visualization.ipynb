{
  "nbformat": 4,
  "nbformat_minor": 0,
  "metadata": {
    "colab": {
      "name": "Visualization.ipynb",
      "provenance": [],
      "include_colab_link": true
    },
    "kernelspec": {
      "name": "python3",
      "display_name": "Python 3"
    },
    "language_info": {
      "name": "python"
    },
    "accelerator": "GPU"
  },
  "cells": [
    {
      "cell_type": "markdown",
      "metadata": {
        "id": "view-in-github",
        "colab_type": "text"
      },
      "source": [
        "<a href=\"https://colab.research.google.com/github/esnue/ThesisAllocationSystem/blob/main/Visualization.ipynb\" target=\"_parent\"><img src=\"https://colab.research.google.com/assets/colab-badge.svg\" alt=\"Open In Colab\"/></a>"
      ]
    },
    {
      "cell_type": "markdown",
      "metadata": {
        "id": "VWjDwnqJdYht"
      },
      "source": [
        "# Visualization of CTM output results\n",
        "In this notebook, we will visualize our CTM output. "
      ]
    },
    {
      "cell_type": "markdown",
      "metadata": {
        "id": "JTudzMQqeCZV"
      },
      "source": [
        "## Import what we need"
      ]
    },
    {
      "cell_type": "code",
      "metadata": {
        "id": "66vi-i35dhGD"
      },
      "source": [
        "import pandas as pd\n",
        "import numpy as np\n",
        "import matplotlib.pyplot as plt\n",
        "from collections import Counter\n",
        "import matplotlib.colors as mcolors"
      ],
      "execution_count": 2,
      "outputs": []
    },
    {
      "cell_type": "markdown",
      "metadata": {
        "id": "PF42c6exdo5N"
      },
      "source": [
        "## Data\n",
        "Let's import the dataframe that holds all of the relevant CTM outputs for our corpus of academic papers. "
      ]
    },
    {
      "cell_type": "code",
      "metadata": {
        "colab": {
          "base_uri": "https://localhost:8080/"
        },
        "id": "eO_o0RrsdmD7",
        "outputId": "31a0ad02-bdd2-4273-86a8-87570b9e9480"
      },
      "source": [
        "from google.colab import drive\n",
        "drive.mount('/content/drive')"
      ],
      "execution_count": 3,
      "outputs": [
        {
          "output_type": "stream",
          "text": [
            "Mounted at /content/drive\n"
          ],
          "name": "stdout"
        }
      ]
    },
    {
      "cell_type": "code",
      "metadata": {
        "colab": {
          "base_uri": "https://localhost:8080/"
        },
        "id": "M7CttUE0d5-T",
        "outputId": "e1a657c8-14f7-41f5-c716-3b2ecf030c3a"
      },
      "source": [
        "topics_df = pd.read_csv('/content/drive/MyDrive/ThesisAllocationSystem/data_final/ctm_label/train-label.csv')\n",
        "\n",
        "print(topics_df.sample(10))"
      ],
      "execution_count": 4,
      "outputs": [
        {
          "output_type": "stream",
          "text": [
            "             prof  ...                                       distribution\n",
            "227  hallerberg26  ...  [0.04171965891423639, 0.002655826914988779, 0....\n",
            "314      hassel28  ...  [0.042763884947635236, 0.016416304133599624, 0...\n",
            "242         graf9  ...  [0.04266304750926793, 0.003691805247217417, 0....\n",
            "664        hirth9  ...  [0.02127260002307594, 0.05010329093784094, 0.0...\n",
            "138        cali19  ...  [0.0010166505457164022, 0.002553408141830005, ...\n",
            "697          reh7  ...  [0.05016885180812096, 0.034057022887282073, 0....\n",
            "161    costello13  ...  [0.0068769132136367265, 0.01121039957506582, 0...\n",
            "140        cali21  ...  [0.0008098986793811491, 0.0018325893825021922,...\n",
            "436          cis1  ...  [0.04709343886934221, 0.07696788934990764, 0.0...\n",
            "256        graf23  ...  [0.09609744829213014, 0.0040196503377956105, 0...\n",
            "\n",
            "[10 rows x 4 columns]\n"
          ],
          "name": "stdout"
        }
      ]
    },
    {
      "cell_type": "markdown",
      "metadata": {
        "id": "oNa1mn2CRz1i"
      },
      "source": [
        "## Create wide & long format"
      ]
    },
    {
      "cell_type": "code",
      "metadata": {
        "colab": {
          "base_uri": "https://localhost:8080/",
          "height": 215
        },
        "id": "huhss1ZzOAol",
        "outputId": "f0781fbe-febd-4f2b-902a-54622b0f477c"
      },
      "source": [
        "# Extract list of topic proportions \n",
        "list_prop = topics_df.iloc[:,3]\n",
        "\n",
        "# Convert to float array\n",
        "ar_float = np.array([[float(i) for i in j[1:-1].split(', ')] for j in list_prop])\n",
        "\n",
        "# Create col labels \n",
        "topics = []\n",
        "for i in list(range(0, 28)):\n",
        "     topics.append('Topic' + str(i))\n",
        "\n",
        "# Add col labels to float array\n",
        "topiclab_df = pd.DataFrame(data = ar_float, columns=topics)\n",
        "topiclab_df.head()"
      ],
      "execution_count": 5,
      "outputs": [
        {
          "output_type": "execute_result",
          "data": {
            "text/html": [
              "<div>\n",
              "<style scoped>\n",
              "    .dataframe tbody tr th:only-of-type {\n",
              "        vertical-align: middle;\n",
              "    }\n",
              "\n",
              "    .dataframe tbody tr th {\n",
              "        vertical-align: top;\n",
              "    }\n",
              "\n",
              "    .dataframe thead th {\n",
              "        text-align: right;\n",
              "    }\n",
              "</style>\n",
              "<table border=\"1\" class=\"dataframe\">\n",
              "  <thead>\n",
              "    <tr style=\"text-align: right;\">\n",
              "      <th></th>\n",
              "      <th>Topic0</th>\n",
              "      <th>Topic1</th>\n",
              "      <th>Topic2</th>\n",
              "      <th>Topic3</th>\n",
              "      <th>Topic4</th>\n",
              "      <th>Topic5</th>\n",
              "      <th>Topic6</th>\n",
              "      <th>Topic7</th>\n",
              "      <th>Topic8</th>\n",
              "      <th>Topic9</th>\n",
              "      <th>Topic10</th>\n",
              "      <th>Topic11</th>\n",
              "      <th>Topic12</th>\n",
              "      <th>Topic13</th>\n",
              "      <th>Topic14</th>\n",
              "      <th>Topic15</th>\n",
              "      <th>Topic16</th>\n",
              "      <th>Topic17</th>\n",
              "      <th>Topic18</th>\n",
              "      <th>Topic19</th>\n",
              "      <th>Topic20</th>\n",
              "      <th>Topic21</th>\n",
              "      <th>Topic22</th>\n",
              "      <th>Topic23</th>\n",
              "      <th>Topic24</th>\n",
              "      <th>Topic25</th>\n",
              "      <th>Topic26</th>\n",
              "      <th>Topic27</th>\n",
              "    </tr>\n",
              "  </thead>\n",
              "  <tbody>\n",
              "    <tr>\n",
              "      <th>0</th>\n",
              "      <td>0.007617</td>\n",
              "      <td>0.011388</td>\n",
              "      <td>0.043832</td>\n",
              "      <td>0.014364</td>\n",
              "      <td>0.020481</td>\n",
              "      <td>0.006957</td>\n",
              "      <td>0.017882</td>\n",
              "      <td>0.005846</td>\n",
              "      <td>0.006433</td>\n",
              "      <td>0.105581</td>\n",
              "      <td>0.009290</td>\n",
              "      <td>0.027109</td>\n",
              "      <td>0.017887</td>\n",
              "      <td>0.063412</td>\n",
              "      <td>0.005752</td>\n",
              "      <td>0.032014</td>\n",
              "      <td>0.012873</td>\n",
              "      <td>0.033323</td>\n",
              "      <td>0.074364</td>\n",
              "      <td>0.102481</td>\n",
              "      <td>0.011663</td>\n",
              "      <td>0.081695</td>\n",
              "      <td>0.015003</td>\n",
              "      <td>0.004601</td>\n",
              "      <td>0.004648</td>\n",
              "      <td>0.007496</td>\n",
              "      <td>0.250168</td>\n",
              "      <td>0.005839</td>\n",
              "    </tr>\n",
              "    <tr>\n",
              "      <th>1</th>\n",
              "      <td>0.024517</td>\n",
              "      <td>0.016639</td>\n",
              "      <td>0.049658</td>\n",
              "      <td>0.013194</td>\n",
              "      <td>0.014712</td>\n",
              "      <td>0.019593</td>\n",
              "      <td>0.014759</td>\n",
              "      <td>0.009580</td>\n",
              "      <td>0.030882</td>\n",
              "      <td>0.024051</td>\n",
              "      <td>0.037934</td>\n",
              "      <td>0.107400</td>\n",
              "      <td>0.027896</td>\n",
              "      <td>0.042427</td>\n",
              "      <td>0.033954</td>\n",
              "      <td>0.025247</td>\n",
              "      <td>0.036476</td>\n",
              "      <td>0.019214</td>\n",
              "      <td>0.097950</td>\n",
              "      <td>0.099500</td>\n",
              "      <td>0.018998</td>\n",
              "      <td>0.037302</td>\n",
              "      <td>0.065800</td>\n",
              "      <td>0.018773</td>\n",
              "      <td>0.006648</td>\n",
              "      <td>0.016782</td>\n",
              "      <td>0.076794</td>\n",
              "      <td>0.013320</td>\n",
              "    </tr>\n",
              "    <tr>\n",
              "      <th>2</th>\n",
              "      <td>0.035848</td>\n",
              "      <td>0.001610</td>\n",
              "      <td>0.005467</td>\n",
              "      <td>0.005517</td>\n",
              "      <td>0.001657</td>\n",
              "      <td>0.037659</td>\n",
              "      <td>0.002507</td>\n",
              "      <td>0.092979</td>\n",
              "      <td>0.142037</td>\n",
              "      <td>0.028727</td>\n",
              "      <td>0.016458</td>\n",
              "      <td>0.004215</td>\n",
              "      <td>0.043899</td>\n",
              "      <td>0.001490</td>\n",
              "      <td>0.005473</td>\n",
              "      <td>0.010783</td>\n",
              "      <td>0.125345</td>\n",
              "      <td>0.012862</td>\n",
              "      <td>0.006455</td>\n",
              "      <td>0.001103</td>\n",
              "      <td>0.123404</td>\n",
              "      <td>0.004545</td>\n",
              "      <td>0.012896</td>\n",
              "      <td>0.046433</td>\n",
              "      <td>0.129222</td>\n",
              "      <td>0.049025</td>\n",
              "      <td>0.003912</td>\n",
              "      <td>0.048472</td>\n",
              "    </tr>\n",
              "    <tr>\n",
              "      <th>3</th>\n",
              "      <td>0.011855</td>\n",
              "      <td>0.023321</td>\n",
              "      <td>0.032876</td>\n",
              "      <td>0.021375</td>\n",
              "      <td>0.012057</td>\n",
              "      <td>0.010459</td>\n",
              "      <td>0.011519</td>\n",
              "      <td>0.011965</td>\n",
              "      <td>0.013303</td>\n",
              "      <td>0.088639</td>\n",
              "      <td>0.035930</td>\n",
              "      <td>0.040342</td>\n",
              "      <td>0.038739</td>\n",
              "      <td>0.048417</td>\n",
              "      <td>0.014271</td>\n",
              "      <td>0.019150</td>\n",
              "      <td>0.017844</td>\n",
              "      <td>0.020186</td>\n",
              "      <td>0.089197</td>\n",
              "      <td>0.089927</td>\n",
              "      <td>0.010183</td>\n",
              "      <td>0.077993</td>\n",
              "      <td>0.047796</td>\n",
              "      <td>0.003997</td>\n",
              "      <td>0.008492</td>\n",
              "      <td>0.008275</td>\n",
              "      <td>0.184336</td>\n",
              "      <td>0.007555</td>\n",
              "    </tr>\n",
              "    <tr>\n",
              "      <th>4</th>\n",
              "      <td>0.009613</td>\n",
              "      <td>0.015862</td>\n",
              "      <td>0.043615</td>\n",
              "      <td>0.009901</td>\n",
              "      <td>0.029389</td>\n",
              "      <td>0.010319</td>\n",
              "      <td>0.013241</td>\n",
              "      <td>0.008602</td>\n",
              "      <td>0.007651</td>\n",
              "      <td>0.042200</td>\n",
              "      <td>0.014387</td>\n",
              "      <td>0.031873</td>\n",
              "      <td>0.027205</td>\n",
              "      <td>0.021180</td>\n",
              "      <td>0.019408</td>\n",
              "      <td>0.034305</td>\n",
              "      <td>0.010615</td>\n",
              "      <td>0.022399</td>\n",
              "      <td>0.068203</td>\n",
              "      <td>0.127182</td>\n",
              "      <td>0.011444</td>\n",
              "      <td>0.052249</td>\n",
              "      <td>0.020590</td>\n",
              "      <td>0.007489</td>\n",
              "      <td>0.007830</td>\n",
              "      <td>0.011275</td>\n",
              "      <td>0.315658</td>\n",
              "      <td>0.006316</td>\n",
              "    </tr>\n",
              "  </tbody>\n",
              "</table>\n",
              "</div>"
            ],
            "text/plain": [
              "     Topic0    Topic1    Topic2  ...   Topic25   Topic26   Topic27\n",
              "0  0.007617  0.011388  0.043832  ...  0.007496  0.250168  0.005839\n",
              "1  0.024517  0.016639  0.049658  ...  0.016782  0.076794  0.013320\n",
              "2  0.035848  0.001610  0.005467  ...  0.049025  0.003912  0.048472\n",
              "3  0.011855  0.023321  0.032876  ...  0.008275  0.184336  0.007555\n",
              "4  0.009613  0.015862  0.043615  ...  0.011275  0.315658  0.006316\n",
              "\n",
              "[5 rows x 28 columns]"
            ]
          },
          "metadata": {
            "tags": []
          },
          "execution_count": 5
        }
      ]
    },
    {
      "cell_type": "code",
      "metadata": {
        "id": "uWmXGGEzFXpZ"
      },
      "source": [
        "# Change col name \n",
        "topics_df.rename(columns={\"topic\": \"topic_words\"}, inplace = True)\n",
        "\n",
        "# Append wide format to topics_df\n",
        "topics_df_wide = pd.concat([topics_df.iloc[:, 0:3], topiclab_df], axis = 1)\n",
        "\n",
        "# Reshape to long format\n",
        "topics_df_long = topics_df_wide.melt(id_vars = ['prof', 'topic_id', 'topic_words'],\n",
        "                                     var_name = 'topic',\n",
        "                                     value_name = 'topic_prop')"
      ],
      "execution_count": 6,
      "outputs": []
    },
    {
      "cell_type": "code",
      "metadata": {
        "id": "2BtfScfcWvp8",
        "colab": {
          "base_uri": "https://localhost:8080/"
        },
        "outputId": "ff71fa21-31d1-4be9-c4fd-345430961300"
      },
      "source": [
        "print(\"This is the wide format.\\n\", topics_df_wide.head(5))\n",
        "print(\"This is the long format.\\n\", topics_df_long.head(5))"
      ],
      "execution_count": 7,
      "outputs": [
        {
          "output_type": "stream",
          "text": [
            "This is the wide format.\n",
            "             prof  topic_id  ...   Topic26   Topic27\n",
            "0  hammerschmid1        26  ...  0.250168  0.005839\n",
            "1  hammerschmid2        11  ...  0.076794  0.013320\n",
            "2  hammerschmid3         8  ...  0.003912  0.048472\n",
            "3  hammerschmid4        26  ...  0.184336  0.007555\n",
            "4  hammerschmid5        26  ...  0.315658  0.006316\n",
            "\n",
            "[5 rows x 31 columns]\n",
            "This is the long format.\n",
            "             prof  topic_id  ...   topic topic_prop\n",
            "0  hammerschmid1        26  ...  Topic0   0.007617\n",
            "1  hammerschmid2        11  ...  Topic0   0.024517\n",
            "2  hammerschmid3         8  ...  Topic0   0.035848\n",
            "3  hammerschmid4        26  ...  Topic0   0.011855\n",
            "4  hammerschmid5        26  ...  Topic0   0.009613\n",
            "\n",
            "[5 rows x 5 columns]\n"
          ],
          "name": "stdout"
        }
      ]
    },
    {
      "cell_type": "markdown",
      "metadata": {
        "id": "DJROyYUCo8Eq"
      },
      "source": [
        "## Stacked Bar Chart"
      ]
    },
    {
      "cell_type": "code",
      "metadata": {
        "id": "nY2PUFB0oc5g",
        "outputId": "dc5f6bfb-cb76-478d-96f3-53a16f273805",
        "colab": {
          "base_uri": "https://localhost:8080/"
        }
      },
      "source": [
        "# Confirm percentage distribution by summing the percentages in each topic\n",
        "topics_df_wide.iloc[:, 4:31].sum(axis=1) "
      ],
      "execution_count": 8,
      "outputs": [
        {
          "output_type": "execute_result",
          "data": {
            "text/plain": [
              "0      0.992383\n",
              "1      0.975483\n",
              "2      0.964152\n",
              "3      0.988145\n",
              "4      0.990387\n",
              "         ...   \n",
              "806    0.971396\n",
              "807    0.983707\n",
              "808    0.974660\n",
              "809    0.979365\n",
              "810    0.986049\n",
              "Length: 811, dtype: float64"
            ]
          },
          "metadata": {
            "tags": []
          },
          "execution_count": 8
        }
      ]
    },
    {
      "cell_type": "code",
      "metadata": {
        "id": "79Jsf4whspSL"
      },
      "source": [
        "# Remove number from prof\n",
        "topics_df_wide['prof'] = topics_df_wide['prof'].str.replace('[0-9]', '')\n",
        "\n",
        "# Create bar chart df \n",
        "bardat1 = pd.concat([topics_df_wide['prof'], topics_df_wide.iloc[:, 3:31]], axis = 1)\n",
        "\n",
        "# Set prof as index\n",
        "bardat1.set_index('prof')"
      ],
      "execution_count": null,
      "outputs": []
    },
    {
      "cell_type": "code",
      "metadata": {
        "id": "i8WE7T-H5WtR"
      },
      "source": [
        "bardat2 = bardat1[bardat1['prof'] == \"hammerschmid\"]"
      ],
      "execution_count": 18,
      "outputs": []
    },
    {
      "cell_type": "code",
      "metadata": {
        "id": "OGLeQbW-4UYo",
        "outputId": "e347733b-e625-4525-f1f7-9cc6e6835999",
        "colab": {
          "base_uri": "https://localhost:8080/",
          "height": 476
        }
      },
      "source": [
        "bardat2.plot.barh(stacked = True)"
      ],
      "execution_count": 20,
      "outputs": [
        {
          "output_type": "execute_result",
          "data": {
            "text/plain": [
              "<matplotlib.axes._subplots.AxesSubplot at 0x7f3a7904a150>"
            ]
          },
          "metadata": {
            "tags": []
          },
          "execution_count": 20
        },
        {
          "output_type": "display_data",
          "data": {
            "image/png": "[encoded data removed]",
            "text/plain": [
              "<Figure size 432x288 with 1 Axes>"
            ]
          },
          "metadata": {
            "tags": [],
            "needs_background": "light"
          }
        }
      ]
    },
    {
      "cell_type": "code",
      "metadata": {
        "id": "fLY6ZhJ1w0bh",
        "outputId": "a2d4d128-9259-435d-dc14-fae407cccd6a",
        "colab": {
          "base_uri": "https://localhost:8080/",
          "height": 464
        }
      },
      "source": [
        "import pandas as pd\n",
        "import matplotlib.pyplot as plt\n",
        "import numpy as np\n",
        "import seaborn as sns\n",
        "\n",
        "X = np.random.rand(10,4)\n",
        "X/= X.sum(axis=1,keepdims=True)\n",
        "\n",
        "df = pd.DataFrame(X, columns = ['A', 'B', 'C', 'D'])\n",
        "\n",
        "print(df)\n",
        "df.plot.bar(stacked=True)"
      ],
      "execution_count": 96,
      "outputs": [
        {
          "output_type": "stream",
          "text": [
            "          A         B         C         D\n",
            "0  0.396402  0.243974  0.015268  0.344357\n",
            "1  0.243086  0.173049  0.254870  0.328995\n",
            "2  0.350361  0.329740  0.018082  0.301818\n",
            "3  0.371622  0.165851  0.289283  0.173245\n",
            "4  0.263605  0.367149  0.178046  0.191199\n",
            "5  0.472775  0.023370  0.420572  0.083284\n",
            "6  0.192623  0.248311  0.265460  0.293606\n",
            "7  0.339379  0.079707  0.084317  0.496598\n",
            "8  0.091267  0.222760  0.564415  0.121559\n",
            "9  0.385159  0.049611  0.459297  0.105934\n"
          ],
          "name": "stdout"
        },
        {
          "output_type": "execute_result",
          "data": {
            "text/plain": [
              "<matplotlib.axes._subplots.AxesSubplot at 0x7f003d835150>"
            ]
          },
          "metadata": {
            "tags": []
          },
          "execution_count": 96
        },
        {
          "output_type": "display_data",
          "data": {
            "image/png": "[encoded data removed]",
            "text/plain": [
              "<Figure size 432x288 with 1 Axes>"
            ]
          },
          "metadata": {
            "tags": [],
            "needs_background": "light"
          }
        }
      ]
    },
    {
      "cell_type": "code",
      "metadata": {
        "id": "I8QPDrlJxVIn",
        "outputId": "68405458-5ecc-41c4-aabd-7dd6e10c87f7",
        "colab": {
          "base_uri": "https://localhost:8080/",
          "height": 254
        }
      },
      "source": [
        "speed = [0.1, 17.5, 40, 48, 52, 69, 88]\n",
        "lifespan = [2, 8, 70, 1.5, 25, 12, 28]\n",
        "index = ['snail', 'pig', 'elephant',\n",
        "         'rabbit', 'giraffe', 'coyote', 'horse']\n",
        "df = pd.DataFrame({'speed': speed,\n",
        "                   'lifespan': lifespan}, index=index)\n",
        "ax = df.plot.bar(rot=0)"
      ],
      "execution_count": 100,
      "outputs": [
        {
          "output_type": "execute_result",
          "data": {
            "text/html": [
              "<div>\n",
              "<style scoped>\n",
              "    .dataframe tbody tr th:only-of-type {\n",
              "        vertical-align: middle;\n",
              "    }\n",
              "\n",
              "    .dataframe tbody tr th {\n",
              "        vertical-align: top;\n",
              "    }\n",
              "\n",
              "    .dataframe thead th {\n",
              "        text-align: right;\n",
              "    }\n",
              "</style>\n",
              "<table border=\"1\" class=\"dataframe\">\n",
              "  <thead>\n",
              "    <tr style=\"text-align: right;\">\n",
              "      <th></th>\n",
              "      <th>speed</th>\n",
              "      <th>lifespan</th>\n",
              "    </tr>\n",
              "  </thead>\n",
              "  <tbody>\n",
              "    <tr>\n",
              "      <th>snail</th>\n",
              "      <td>0.1</td>\n",
              "      <td>2.0</td>\n",
              "    </tr>\n",
              "    <tr>\n",
              "      <th>pig</th>\n",
              "      <td>17.5</td>\n",
              "      <td>8.0</td>\n",
              "    </tr>\n",
              "    <tr>\n",
              "      <th>elephant</th>\n",
              "      <td>40.0</td>\n",
              "      <td>70.0</td>\n",
              "    </tr>\n",
              "    <tr>\n",
              "      <th>rabbit</th>\n",
              "      <td>48.0</td>\n",
              "      <td>1.5</td>\n",
              "    </tr>\n",
              "    <tr>\n",
              "      <th>giraffe</th>\n",
              "      <td>52.0</td>\n",
              "      <td>25.0</td>\n",
              "    </tr>\n",
              "    <tr>\n",
              "      <th>coyote</th>\n",
              "      <td>69.0</td>\n",
              "      <td>12.0</td>\n",
              "    </tr>\n",
              "    <tr>\n",
              "      <th>horse</th>\n",
              "      <td>88.0</td>\n",
              "      <td>28.0</td>\n",
              "    </tr>\n",
              "  </tbody>\n",
              "</table>\n",
              "</div>"
            ],
            "text/plain": [
              "          speed  lifespan\n",
              "snail       0.1       2.0\n",
              "pig        17.5       8.0\n",
              "elephant   40.0      70.0\n",
              "rabbit     48.0       1.5\n",
              "giraffe    52.0      25.0\n",
              "coyote     69.0      12.0\n",
              "horse      88.0      28.0"
            ]
          },
          "metadata": {
            "tags": []
          },
          "execution_count": 100
        }
      ]
    },
    {
      "cell_type": "markdown",
      "metadata": {
        "id": "dO-lg7xdomOl"
      },
      "source": [
        "## Bar Chart: Word Counts of Topic Keywords"
      ]
    },
    {
      "cell_type": "code",
      "metadata": {
        "id": "ceDrg6dRpnjh",
        "outputId": "a5f20d23-12b0-4156-84bf-5ee2d0806380",
        "colab": {
          "base_uri": "https://localhost:8080/",
          "height": 570
        }
      },
      "source": [
        "topics_df_long"
      ],
      "execution_count": 11,
      "outputs": [
        {
          "output_type": "execute_result",
          "data": {
            "text/html": [
              "<div>\n",
              "<style scoped>\n",
              "    .dataframe tbody tr th:only-of-type {\n",
              "        vertical-align: middle;\n",
              "    }\n",
              "\n",
              "    .dataframe tbody tr th {\n",
              "        vertical-align: top;\n",
              "    }\n",
              "\n",
              "    .dataframe thead th {\n",
              "        text-align: right;\n",
              "    }\n",
              "</style>\n",
              "<table border=\"1\" class=\"dataframe\">\n",
              "  <thead>\n",
              "    <tr style=\"text-align: right;\">\n",
              "      <th></th>\n",
              "      <th>prof</th>\n",
              "      <th>topic_id</th>\n",
              "      <th>topic_words</th>\n",
              "      <th>topic</th>\n",
              "      <th>topic_prop</th>\n",
              "    </tr>\n",
              "  </thead>\n",
              "  <tbody>\n",
              "    <tr>\n",
              "      <th>0</th>\n",
              "      <td>hammerschmid1</td>\n",
              "      <td>26</td>\n",
              "      <td>['public', 'policy', 'countries', 'administrat...</td>\n",
              "      <td>Topic0</td>\n",
              "      <td>0.007617</td>\n",
              "    </tr>\n",
              "    <tr>\n",
              "      <th>1</th>\n",
              "      <td>hammerschmid2</td>\n",
              "      <td>11</td>\n",
              "      <td>['public', 'social', 'policy', 'actors', 'poli...</td>\n",
              "      <td>Topic0</td>\n",
              "      <td>0.024517</td>\n",
              "    </tr>\n",
              "    <tr>\n",
              "      <th>2</th>\n",
              "      <td>hammerschmid3</td>\n",
              "      <td>8</td>\n",
              "      <td>['enable', 'attempt', 'govern', 'existence', '...</td>\n",
              "      <td>Topic0</td>\n",
              "      <td>0.035848</td>\n",
              "    </tr>\n",
              "    <tr>\n",
              "      <th>3</th>\n",
              "      <td>hammerschmid4</td>\n",
              "      <td>26</td>\n",
              "      <td>['public', 'policy', 'countries', 'administrat...</td>\n",
              "      <td>Topic0</td>\n",
              "      <td>0.011855</td>\n",
              "    </tr>\n",
              "    <tr>\n",
              "      <th>4</th>\n",
              "      <td>hammerschmid5</td>\n",
              "      <td>26</td>\n",
              "      <td>['public', 'policy', 'countries', 'administrat...</td>\n",
              "      <td>Topic0</td>\n",
              "      <td>0.009613</td>\n",
              "    </tr>\n",
              "    <tr>\n",
              "      <th>...</th>\n",
              "      <td>...</td>\n",
              "      <td>...</td>\n",
              "      <td>...</td>\n",
              "      <td>...</td>\n",
              "      <td>...</td>\n",
              "    </tr>\n",
              "    <tr>\n",
              "      <th>22703</th>\n",
              "      <td>wegrich2</td>\n",
              "      <td>19</td>\n",
              "      <td>['political', 'public', 'media', 'information'...</td>\n",
              "      <td>Topic27</td>\n",
              "      <td>0.013572</td>\n",
              "    </tr>\n",
              "    <tr>\n",
              "      <th>22704</th>\n",
              "      <td>wegrich14</td>\n",
              "      <td>18</td>\n",
              "      <td>['public', 'policy', 'political', 'government'...</td>\n",
              "      <td>Topic27</td>\n",
              "      <td>0.010232</td>\n",
              "    </tr>\n",
              "    <tr>\n",
              "      <th>22705</th>\n",
              "      <td>wegrich22</td>\n",
              "      <td>1</td>\n",
              "      <td>['different', 'power', 'literature', 'effect',...</td>\n",
              "      <td>Topic27</td>\n",
              "      <td>0.027023</td>\n",
              "    </tr>\n",
              "    <tr>\n",
              "      <th>22706</th>\n",
              "      <td>wegrich19</td>\n",
              "      <td>26</td>\n",
              "      <td>['public', 'policy', 'countries', 'administrat...</td>\n",
              "      <td>Topic27</td>\n",
              "      <td>0.013749</td>\n",
              "    </tr>\n",
              "    <tr>\n",
              "      <th>22707</th>\n",
              "      <td>wegrich12</td>\n",
              "      <td>10</td>\n",
              "      <td>['social', 'entrepreneurship', 'groups', 'busi...</td>\n",
              "      <td>Topic27</td>\n",
              "      <td>0.008218</td>\n",
              "    </tr>\n",
              "  </tbody>\n",
              "</table>\n",
              "<p>22708 rows × 5 columns</p>\n",
              "</div>"
            ],
            "text/plain": [
              "                prof  topic_id  ...    topic topic_prop\n",
              "0      hammerschmid1        26  ...   Topic0   0.007617\n",
              "1      hammerschmid2        11  ...   Topic0   0.024517\n",
              "2      hammerschmid3         8  ...   Topic0   0.035848\n",
              "3      hammerschmid4        26  ...   Topic0   0.011855\n",
              "4      hammerschmid5        26  ...   Topic0   0.009613\n",
              "...              ...       ...  ...      ...        ...\n",
              "22703       wegrich2        19  ...  Topic27   0.013572\n",
              "22704      wegrich14        18  ...  Topic27   0.010232\n",
              "22705      wegrich22         1  ...  Topic27   0.027023\n",
              "22706      wegrich19        26  ...  Topic27   0.013749\n",
              "22707      wegrich12        10  ...  Topic27   0.008218\n",
              "\n",
              "[22708 rows x 5 columns]"
            ]
          },
          "metadata": {
            "tags": []
          },
          "execution_count": 11
        }
      ]
    },
    {
      "cell_type": "code",
      "metadata": {
        "id": "N8axYQaUi6xY"
      },
      "source": [
        "#from: https://www.machinelearningplus.com/nlp/topic-modeling-visualization-how-to-present-results-lda-models/\n",
        "# Plot Word Count and Weights of Topic Keywords\n",
        "topics = topics_df[\"topic_words\"]\n",
        "topic_id = topics_df[\"topic_id\"]\n",
        "dist = topics_df[\"distribution\"]\n",
        "\n",
        "#too many loops -> breaks RAM \n",
        "out = []\n",
        "for word in topics:\n",
        "    for d in dist:\n",
        "      for i in topic_id:\n",
        "          out.append([word, dist, i]) #we don't have word count from the CTM -> could it be added?\n",
        "\n",
        "\n",
        "df = pd.DataFrame(out, columns=['word', 'topic_id', 'importance', 'word_count'])        \n",
        "\n",
        "# Plot Word Count and Weights of Topic Keywords\n",
        "fig, axes = plt.subplots(2, 2, figsize=(16,10), sharey=True, dpi=160)\n",
        "cols = [color for name, color in mcolors.TABLEAU_COLORS.items()]\n",
        "for i, ax in enumerate(axes.flatten()):\n",
        "    ax.bar(x='word', height=\"word_count\", data=df.loc[df.topic_id==i, :], color=cols[i], width=0.5, alpha=0.3, label='Word Count')\n",
        "    ax_twin = ax.twinx()\n",
        "    ax_twin.bar(x='word', height=\"importance\", data=df.loc[df.topic_id==i, :], color=cols[i], width=0.2, label='Weights')\n",
        "    ax.set_ylabel('Word Count', color=cols[i])\n",
        "    ax_twin.set_ylim(0, 0.030); ax.set_ylim(0, 3500)\n",
        "    ax.set_title('Topic: ' + str(i), color=cols[i], fontsize=16)\n",
        "    ax.tick_params(axis='y', left=False)\n",
        "    ax.set_xticklabels(df.loc[df.topic_id==i, 'word'], rotation=30, horizontalalignment= 'right')\n",
        "    ax.legend(loc='upper left'); ax_twin.legend(loc='upper right')\n",
        "\n",
        "fig.tight_layout(w_pad=2)    \n",
        "fig.suptitle('Word Count and Importance of Topic Keywords', fontsize=22, y=1.05)    \n",
        "plt.show()"
      ],
      "execution_count": null,
      "outputs": []
    }
  ]
}