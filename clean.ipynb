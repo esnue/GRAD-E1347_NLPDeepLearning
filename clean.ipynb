{
  "nbformat": 4,
  "nbformat_minor": 0,
  "metadata": {
    "colab": {
      "name": "clean.ipynb",
      "provenance": [],
      "toc_visible": true,
      "include_colab_link": true
    },
    "kernelspec": {
      "display_name": "Python 3",
      "name": "python3"
    },
    "language_info": {
      "name": "python"
    }
  },
  "cells": [
    {
      "cell_type": "markdown",
      "metadata": {
        "id": "view-in-github",
        "colab_type": "text"
      },
      "source": [
        "<a href=\"https://colab.research.google.com/github/esnue/ThesisAllocationSystem/blob/main/clean.ipynb\" target=\"_parent\"><img src=\"https://colab.research.google.com/assets/colab-badge.svg\" alt=\"Open In Colab\"/></a>"
      ]
    },
    {
      "cell_type": "markdown",
      "metadata": {
        "id": "Fk8RSA4B4NqA"
      },
      "source": [
        "This script is used to clean the text files."
      ]
    },
    {
      "cell_type": "markdown",
      "metadata": {
        "id": "9uI09z_a3inO"
      },
      "source": [
        "# Requirements"
      ]
    },
    {
      "cell_type": "code",
      "metadata": {
        "id": "naQvbmAZ3ZRE"
      },
      "source": [
        "# Modules \n",
        "import pandas as pd \n",
        "import re\n",
        "import csv"
      ],
      "execution_count": 2,
      "outputs": []
    },
    {
      "cell_type": "code",
      "metadata": {
        "id": "maBBKwh_3iK7"
      },
      "source": [
        "# Setting up the device for GPU usage\n",
        "\n",
        "from torch import cuda\n",
        "device = 'cuda' if cuda.is_available() else 'gpu'"
      ],
      "execution_count": 3,
      "outputs": []
    },
    {
      "cell_type": "code",
      "metadata": {
        "colab": {
          "base_uri": "https://localhost:8080/"
        },
        "id": "JOhmEU_k3yd3",
        "outputId": "391a630d-b46d-4b3a-c222-8a999f5ca4ff"
      },
      "source": [
        "from google.colab import drive\n",
        "drive.mount('/content/drive')"
      ],
      "execution_count": 4,
      "outputs": [
        {
          "output_type": "stream",
          "text": [
            "Mounted at /content/drive\n"
          ],
          "name": "stdout"
        }
      ]
    },
    {
      "cell_type": "markdown",
      "metadata": {
        "id": "3YmVHuhe3S5T"
      },
      "source": [
        "# Import data"
      ]
    },
    {
      "cell_type": "code",
      "metadata": {
        "id": "E1ZFXvkm3PkB"
      },
      "source": [
        "train_df = pd.read_csv('/content/drive/MyDrive/ThesisAllocationSystem/data_final/train-papers-final.csv')"
      ],
      "execution_count": 5,
      "outputs": []
    },
    {
      "cell_type": "markdown",
      "metadata": {
        "id": "YhsiJYFRIwLj"
      },
      "source": [
        "Lena attempt"
      ]
    },
    {
      "cell_type": "code",
      "metadata": {
        "id": "Ykw7ZniVIgw5"
      },
      "source": [
        "#academic papers\n",
        "file1 = pd.read_csv(\"/content/drive/MyDrive/ThesisAllocationSystem/data_final/train-papers-final.csv\")\n",
        "# transform content column row values into a list\n",
        "train_file = file1['Content'].values.tolist()"
      ],
      "execution_count": null,
      "outputs": []
    },
    {
      "cell_type": "code",
      "metadata": {
        "id": "2PhI_ex_IyCn"
      },
      "source": [
        "stoplist = \"gov anheier xxx et enrichsource al rgreq al often nin nm nd nw nn ns ng np ne na nat nt nio may net even use publicationcoverpdf researchgate likely dataset nwe aims throughout nbecause nonly gov ncan ncan even bryson simple reducing net example jankin results first esc shows also utc jstor nu nh nb doi www tandfonline nhttps nof nthe well new nand paper co however kreyenfeld nsource ny el ng nri nio neu nbut nif ets echr used\""
      ],
      "execution_count": null,
      "outputs": []
    },
    {
      "cell_type": "code",
      "metadata": {
        "colab": {
          "background_save": true
        },
        "id": "OtUZbnhNI90C"
      },
      "source": [
        "texts = [line.split() for line in train_file]\n",
        "\n",
        "#for s in stoplist:\n",
        "    #if s in texts:\n"
      ],
      "execution_count": null,
      "outputs": []
    },
    {
      "cell_type": "markdown",
      "metadata": {
        "id": "uPR21pIIIy6H"
      },
      "source": [
        "Lena attempt end"
      ]
    },
    {
      "cell_type": "markdown",
      "metadata": {
        "id": "JFQbhb564Hky"
      },
      "source": [
        "# Clean\n"
      ]
    },
    {
      "cell_type": "code",
      "metadata": {
        "id": "hWCLJMSHIs61"
      },
      "source": [
        "with open('/content/drive/MyDrive/ThesisAllocationSystem/data_final/train-papers-final.csv', 'r') as reader, open('/content/drive/MyDrive/ThesisAllocationSystem/data_final/train-papers-clean.csv','w') as writer:\n",
        "    for row in reader:\n",
        "        writer.write(row.replace('\\\\n','').replace('((https?):((//)|(\\\\\\\\))+([\\w\\d:#@%/;$()~_?\\+-=\\\\\\.&](#!)?)*)', '').replace('241\\\\xa9', '').replace('xxx', '').replace('researchgate', ''))"
      ],
      "execution_count": 160,
      "outputs": []
    },
    {
      "cell_type": "code",
      "metadata": {
        "id": "NrGN2LvcCIGr"
      },
      "source": [
        "test = pd.read_csv('/content/drive/MyDrive/ThesisAllocationSystem/data_final/train-papers-clean.csv')"
      ],
      "execution_count": 161,
      "outputs": []
    },
    {
      "cell_type": "code",
      "metadata": {
        "colab": {
          "base_uri": "https://localhost:8080/",
          "height": 360
        },
        "id": "JHkobrRuCSOV",
        "outputId": "3ec7bb9b-c388-454e-cf23-f5e71abfa301"
      },
      "source": [
        "print(test.shape)\n",
        "test.sample(10)"
      ],
      "execution_count": 163,
      "outputs": [
        {
          "output_type": "stream",
          "text": [
            "(811, 2)\n"
          ],
          "name": "stdout"
        },
        {
          "output_type": "execute_result",
          "data": {
            "text/html": [
              "<div>\n",
              "<style scoped>\n",
              "    .dataframe tbody tr th:only-of-type {\n",
              "        vertical-align: middle;\n",
              "    }\n",
              "\n",
              "    .dataframe tbody tr th {\n",
              "        vertical-align: top;\n",
              "    }\n",
              "\n",
              "    .dataframe thead th {\n",
              "        text-align: right;\n",
              "    }\n",
              "</style>\n",
              "<table border=\"1\" class=\"dataframe\">\n",
              "  <thead>\n",
              "    <tr style=\"text-align: right;\">\n",
              "      <th></th>\n",
              "      <th>FileName</th>\n",
              "      <th>Content</th>\n",
              "    </tr>\n",
              "  </thead>\n",
              "  <tbody>\n",
              "    <tr>\n",
              "      <th>190</th>\n",
              "      <td>Flachsland19.txt</td>\n",
              "      <td>b\"The treatment of divergent viewpoints in glo...</td>\n",
              "    </tr>\n",
              "    <tr>\n",
              "      <th>317</th>\n",
              "      <td>Hassel31.txt</td>\n",
              "      <td>b'Are There AusterityRelated Policy Changes in...</td>\n",
              "    </tr>\n",
              "    <tr>\n",
              "      <th>483</th>\n",
              "      <td>Iacovone5.txt</td>\n",
              "      <td>b'Supplier Responses to Wal-Marts Invasion of ...</td>\n",
              "    </tr>\n",
              "    <tr>\n",
              "      <th>699</th>\n",
              "      <td>reh18.txt</td>\n",
              "      <td>b'Binnenwerk-Collegium24-10090217Towards an In...</td>\n",
              "    </tr>\n",
              "    <tr>\n",
              "      <th>771</th>\n",
              "      <td>traxler9.txt</td>\n",
              "      <td>b'Nudges at the DentistSteffen Altmann and Chr...</td>\n",
              "    </tr>\n",
              "    <tr>\n",
              "      <th>23</th>\n",
              "      <td>Roemmele5.txt</td>\n",
              "      <td>b'Beyond Regulation: Approaching the challenge...</td>\n",
              "    </tr>\n",
              "    <tr>\n",
              "      <th>558</th>\n",
              "      <td>Mungiu-Pippidi12.txt</td>\n",
              "      <td>b\"Explaining Eastern Europe: Romania's Italian...</td>\n",
              "    </tr>\n",
              "    <tr>\n",
              "      <th>439</th>\n",
              "      <td>cis4.txt</td>\n",
              "      <td>b'Studying the Internet and Violent conflictAr...</td>\n",
              "    </tr>\n",
              "    <tr>\n",
              "      <th>796</th>\n",
              "      <td>wegrich18.txt</td>\n",
              "      <td>b'Infrastructure Governance and Government Dec...</td>\n",
              "    </tr>\n",
              "    <tr>\n",
              "      <th>414</th>\n",
              "      <td>kayser8.txt</td>\n",
              "      <td>b'Diffusion or Confusion? Clustered Shocks and...</td>\n",
              "    </tr>\n",
              "  </tbody>\n",
              "</table>\n",
              "</div>"
            ],
            "text/plain": [
              "                 FileName                                            Content\n",
              "190      Flachsland19.txt  b\"The treatment of divergent viewpoints in glo...\n",
              "317          Hassel31.txt  b'Are There AusterityRelated Policy Changes in...\n",
              "483         Iacovone5.txt  b'Supplier Responses to Wal-Marts Invasion of ...\n",
              "699             reh18.txt  b'Binnenwerk-Collegium24-10090217Towards an In...\n",
              "771          traxler9.txt  b'Nudges at the DentistSteffen Altmann and Chr...\n",
              "23          Roemmele5.txt  b'Beyond Regulation: Approaching the challenge...\n",
              "558  Mungiu-Pippidi12.txt  b\"Explaining Eastern Europe: Romania's Italian...\n",
              "439              cis4.txt  b'Studying the Internet and Violent conflictAr...\n",
              "796         wegrich18.txt  b'Infrastructure Governance and Government Dec...\n",
              "414           kayser8.txt  b'Diffusion or Confusion? Clustered Shocks and..."
            ]
          },
          "metadata": {
            "tags": []
          },
          "execution_count": 163
        }
      ]
    }
  ]
}