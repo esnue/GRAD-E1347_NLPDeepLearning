{
  "nbformat": 4,
  "nbformat_minor": 0,
  "metadata": {
    "colab": {
      "name": "Tutorial (v1.8.1): Contextualized Topic Modeling with your Documents (with preprocessing). ",
      "provenance": [],
      "collapsed_sections": [],
      "toc_visible": true,
      "include_colab_link": true
    },
    "kernelspec": {
      "display_name": "Python 3",
      "name": "python3"
    },
    "widgets": {
      "application/vnd.jupyter.widget-state+json": {
        "519b169aa4d5417b97e7cb7ae90a57b3": {
          "model_module": "@jupyter-widgets/controls",
          "model_name": "HBoxModel",
          "state": {
            "_view_name": "HBoxView",
            "_dom_classes": [],
            "_model_name": "HBoxModel",
            "_view_module": "@jupyter-widgets/controls",
            "_model_module_version": "1.5.0",
            "_view_count": null,
            "_view_module_version": "1.5.0",
            "box_style": "",
            "layout": "IPY_MODEL_c1bc4cf1cdc644f28e390987db1c8a03",
            "_model_module": "@jupyter-widgets/controls",
            "children": [
              "IPY_MODEL_2aa13d7ae5e24a318f6902b6a1dd8054",
              "IPY_MODEL_984d7f89555846dd9980e22e390d592a",
              "IPY_MODEL_dde509b220f8449ea2b0eedf985cac99"
            ]
          }
        },
        "c1bc4cf1cdc644f28e390987db1c8a03": {
          "model_module": "@jupyter-widgets/base",
          "model_name": "LayoutModel",
          "state": {
            "_view_name": "LayoutView",
            "grid_template_rows": null,
            "right": null,
            "justify_content": null,
            "_view_module": "@jupyter-widgets/base",
            "overflow": null,
            "_model_module_version": "1.2.0",
            "_view_count": null,
            "flex_flow": null,
            "width": null,
            "min_width": null,
            "border": null,
            "align_items": null,
            "bottom": null,
            "_model_module": "@jupyter-widgets/base",
            "top": null,
            "grid_column": null,
            "overflow_y": null,
            "overflow_x": null,
            "grid_auto_flow": null,
            "grid_area": null,
            "grid_template_columns": null,
            "flex": null,
            "_model_name": "LayoutModel",
            "justify_items": null,
            "grid_row": null,
            "max_height": null,
            "align_content": null,
            "visibility": null,
            "align_self": null,
            "height": null,
            "min_height": null,
            "padding": null,
            "grid_auto_rows": null,
            "grid_gap": null,
            "max_width": null,
            "order": null,
            "_view_module_version": "1.2.0",
            "grid_template_areas": null,
            "object_position": null,
            "object_fit": null,
            "grid_auto_columns": null,
            "margin": null,
            "display": null,
            "left": null
          }
        },
        "2aa13d7ae5e24a318f6902b6a1dd8054": {
          "model_module": "@jupyter-widgets/controls",
          "model_name": "HTMLModel",
          "state": {
            "_view_name": "HTMLView",
            "style": "IPY_MODEL_56652c1dce54404485397aceeed02e23",
            "_dom_classes": [],
            "description": "",
            "_model_name": "HTMLModel",
            "placeholder": "​",
            "_view_module": "@jupyter-widgets/controls",
            "_model_module_version": "1.5.0",
            "value": "Batches: 100%",
            "_view_count": null,
            "_view_module_version": "1.5.0",
            "description_tooltip": null,
            "_model_module": "@jupyter-widgets/controls",
            "layout": "IPY_MODEL_ff7abb8478ba44098650bb5afd3751db"
          }
        },
        "984d7f89555846dd9980e22e390d592a": {
          "model_module": "@jupyter-widgets/controls",
          "model_name": "FloatProgressModel",
          "state": {
            "_view_name": "ProgressView",
            "style": "IPY_MODEL_1ea8110cabf44e6da87a45f2d77b05d3",
            "_dom_classes": [],
            "description": "",
            "_model_name": "FloatProgressModel",
            "bar_style": "success",
            "max": 5,
            "_view_module": "@jupyter-widgets/controls",
            "_model_module_version": "1.5.0",
            "value": 5,
            "_view_count": null,
            "_view_module_version": "1.5.0",
            "orientation": "horizontal",
            "min": 0,
            "description_tooltip": null,
            "_model_module": "@jupyter-widgets/controls",
            "layout": "IPY_MODEL_ef63dd120b844170830fbb0c6244f5d8"
          }
        },
        "dde509b220f8449ea2b0eedf985cac99": {
          "model_module": "@jupyter-widgets/controls",
          "model_name": "HTMLModel",
          "state": {
            "_view_name": "HTMLView",
            "style": "IPY_MODEL_9ded911867ae4edb917707b5926ba38f",
            "_dom_classes": [],
            "description": "",
            "_model_name": "HTMLModel",
            "placeholder": "​",
            "_view_module": "@jupyter-widgets/controls",
            "_model_module_version": "1.5.0",
            "value": " 5/5 [00:22&lt;00:00,  3.86s/it]",
            "_view_count": null,
            "_view_module_version": "1.5.0",
            "description_tooltip": null,
            "_model_module": "@jupyter-widgets/controls",
            "layout": "IPY_MODEL_5331d81f56984ad18fc1ea3c4c9630e8"
          }
        },
        "56652c1dce54404485397aceeed02e23": {
          "model_module": "@jupyter-widgets/controls",
          "model_name": "DescriptionStyleModel",
          "state": {
            "_view_name": "StyleView",
            "_model_name": "DescriptionStyleModel",
            "description_width": "",
            "_view_module": "@jupyter-widgets/base",
            "_model_module_version": "1.5.0",
            "_view_count": null,
            "_view_module_version": "1.2.0",
            "_model_module": "@jupyter-widgets/controls"
          }
        },
        "ff7abb8478ba44098650bb5afd3751db": {
          "model_module": "@jupyter-widgets/base",
          "model_name": "LayoutModel",
          "state": {
            "_view_name": "LayoutView",
            "grid_template_rows": null,
            "right": null,
            "justify_content": null,
            "_view_module": "@jupyter-widgets/base",
            "overflow": null,
            "_model_module_version": "1.2.0",
            "_view_count": null,
            "flex_flow": null,
            "width": null,
            "min_width": null,
            "border": null,
            "align_items": null,
            "bottom": null,
            "_model_module": "@jupyter-widgets/base",
            "top": null,
            "grid_column": null,
            "overflow_y": null,
            "overflow_x": null,
            "grid_auto_flow": null,
            "grid_area": null,
            "grid_template_columns": null,
            "flex": null,
            "_model_name": "LayoutModel",
            "justify_items": null,
            "grid_row": null,
            "max_height": null,
            "align_content": null,
            "visibility": null,
            "align_self": null,
            "height": null,
            "min_height": null,
            "padding": null,
            "grid_auto_rows": null,
            "grid_gap": null,
            "max_width": null,
            "order": null,
            "_view_module_version": "1.2.0",
            "grid_template_areas": null,
            "object_position": null,
            "object_fit": null,
            "grid_auto_columns": null,
            "margin": null,
            "display": null,
            "left": null
          }
        },
        "1ea8110cabf44e6da87a45f2d77b05d3": {
          "model_module": "@jupyter-widgets/controls",
          "model_name": "ProgressStyleModel",
          "state": {
            "_view_name": "StyleView",
            "_model_name": "ProgressStyleModel",
            "description_width": "",
            "_view_module": "@jupyter-widgets/base",
            "_model_module_version": "1.5.0",
            "_view_count": null,
            "_view_module_version": "1.2.0",
            "bar_color": null,
            "_model_module": "@jupyter-widgets/controls"
          }
        },
        "ef63dd120b844170830fbb0c6244f5d8": {
          "model_module": "@jupyter-widgets/base",
          "model_name": "LayoutModel",
          "state": {
            "_view_name": "LayoutView",
            "grid_template_rows": null,
            "right": null,
            "justify_content": null,
            "_view_module": "@jupyter-widgets/base",
            "overflow": null,
            "_model_module_version": "1.2.0",
            "_view_count": null,
            "flex_flow": null,
            "width": null,
            "min_width": null,
            "border": null,
            "align_items": null,
            "bottom": null,
            "_model_module": "@jupyter-widgets/base",
            "top": null,
            "grid_column": null,
            "overflow_y": null,
            "overflow_x": null,
            "grid_auto_flow": null,
            "grid_area": null,
            "grid_template_columns": null,
            "flex": null,
            "_model_name": "LayoutModel",
            "justify_items": null,
            "grid_row": null,
            "max_height": null,
            "align_content": null,
            "visibility": null,
            "align_self": null,
            "height": null,
            "min_height": null,
            "padding": null,
            "grid_auto_rows": null,
            "grid_gap": null,
            "max_width": null,
            "order": null,
            "_view_module_version": "1.2.0",
            "grid_template_areas": null,
            "object_position": null,
            "object_fit": null,
            "grid_auto_columns": null,
            "margin": null,
            "display": null,
            "left": null
          }
        },
        "9ded911867ae4edb917707b5926ba38f": {
          "model_module": "@jupyter-widgets/controls",
          "model_name": "DescriptionStyleModel",
          "state": {
            "_view_name": "StyleView",
            "_model_name": "DescriptionStyleModel",
            "description_width": "",
            "_view_module": "@jupyter-widgets/base",
            "_model_module_version": "1.5.0",
            "_view_count": null,
            "_view_module_version": "1.2.0",
            "_model_module": "@jupyter-widgets/controls"
          }
        },
        "5331d81f56984ad18fc1ea3c4c9630e8": {
          "model_module": "@jupyter-widgets/base",
          "model_name": "LayoutModel",
          "state": {
            "_view_name": "LayoutView",
            "grid_template_rows": null,
            "right": null,
            "justify_content": null,
            "_view_module": "@jupyter-widgets/base",
            "overflow": null,
            "_model_module_version": "1.2.0",
            "_view_count": null,
            "flex_flow": null,
            "width": null,
            "min_width": null,
            "border": null,
            "align_items": null,
            "bottom": null,
            "_model_module": "@jupyter-widgets/base",
            "top": null,
            "grid_column": null,
            "overflow_y": null,
            "overflow_x": null,
            "grid_auto_flow": null,
            "grid_area": null,
            "grid_template_columns": null,
            "flex": null,
            "_model_name": "LayoutModel",
            "justify_items": null,
            "grid_row": null,
            "max_height": null,
            "align_content": null,
            "visibility": null,
            "align_self": null,
            "height": null,
            "min_height": null,
            "padding": null,
            "grid_auto_rows": null,
            "grid_gap": null,
            "max_width": null,
            "order": null,
            "_view_module_version": "1.2.0",
            "grid_template_areas": null,
            "object_position": null,
            "object_fit": null,
            "grid_auto_columns": null,
            "margin": null,
            "display": null,
            "left": null
          }
        },
        "c41510c4234a4c0a82c88208b244a421": {
          "model_module": "@jupyter-widgets/controls",
          "model_name": "HBoxModel",
          "state": {
            "_view_name": "HBoxView",
            "_dom_classes": [],
            "_model_name": "HBoxModel",
            "_view_module": "@jupyter-widgets/controls",
            "_model_module_version": "1.5.0",
            "_view_count": null,
            "_view_module_version": "1.5.0",
            "box_style": "",
            "layout": "IPY_MODEL_5f95f2aeca5b4e9a870e30e9ff022acf",
            "_model_module": "@jupyter-widgets/controls",
            "children": [
              "IPY_MODEL_cedbcb0c540c4b6da2f44d2c3b9941a7",
              "IPY_MODEL_f04f1b28868145d59e02c3550d09ad96",
              "IPY_MODEL_73bbedc569d5478eb83c8d6044f234e9"
            ]
          }
        },
        "5f95f2aeca5b4e9a870e30e9ff022acf": {
          "model_module": "@jupyter-widgets/base",
          "model_name": "LayoutModel",
          "state": {
            "_view_name": "LayoutView",
            "grid_template_rows": null,
            "right": null,
            "justify_content": null,
            "_view_module": "@jupyter-widgets/base",
            "overflow": null,
            "_model_module_version": "1.2.0",
            "_view_count": null,
            "flex_flow": null,
            "width": null,
            "min_width": null,
            "border": null,
            "align_items": null,
            "bottom": null,
            "_model_module": "@jupyter-widgets/base",
            "top": null,
            "grid_column": null,
            "overflow_y": null,
            "overflow_x": null,
            "grid_auto_flow": null,
            "grid_area": null,
            "grid_template_columns": null,
            "flex": null,
            "_model_name": "LayoutModel",
            "justify_items": null,
            "grid_row": null,
            "max_height": null,
            "align_content": null,
            "visibility": null,
            "align_self": null,
            "height": null,
            "min_height": null,
            "padding": null,
            "grid_auto_rows": null,
            "grid_gap": null,
            "max_width": null,
            "order": null,
            "_view_module_version": "1.2.0",
            "grid_template_areas": null,
            "object_position": null,
            "object_fit": null,
            "grid_auto_columns": null,
            "margin": null,
            "display": null,
            "left": null
          }
        },
        "cedbcb0c540c4b6da2f44d2c3b9941a7": {
          "model_module": "@jupyter-widgets/controls",
          "model_name": "HTMLModel",
          "state": {
            "_view_name": "HTMLView",
            "style": "IPY_MODEL_955fa8516da94a6186f8370f26986125",
            "_dom_classes": [],
            "description": "",
            "_model_name": "HTMLModel",
            "placeholder": "​",
            "_view_module": "@jupyter-widgets/controls",
            "_model_module_version": "1.5.0",
            "value": "Batches: 100%",
            "_view_count": null,
            "_view_module_version": "1.5.0",
            "description_tooltip": null,
            "_model_module": "@jupyter-widgets/controls",
            "layout": "IPY_MODEL_765b91394baa4a99a246cfee4d3dbf2c"
          }
        },
        "f04f1b28868145d59e02c3550d09ad96": {
          "model_module": "@jupyter-widgets/controls",
          "model_name": "FloatProgressModel",
          "state": {
            "_view_name": "ProgressView",
            "style": "IPY_MODEL_3b1d82887b9a4e71bcb4f7b8ec23b592",
            "_dom_classes": [],
            "description": "",
            "_model_name": "FloatProgressModel",
            "bar_style": "success",
            "max": 1,
            "_view_module": "@jupyter-widgets/controls",
            "_model_module_version": "1.5.0",
            "value": 1,
            "_view_count": null,
            "_view_module_version": "1.5.0",
            "orientation": "horizontal",
            "min": 0,
            "description_tooltip": null,
            "_model_module": "@jupyter-widgets/controls",
            "layout": "IPY_MODEL_15beb61a527c43f29d3ed0c5a03361f8"
          }
        },
        "73bbedc569d5478eb83c8d6044f234e9": {
          "model_module": "@jupyter-widgets/controls",
          "model_name": "HTMLModel",
          "state": {
            "_view_name": "HTMLView",
            "style": "IPY_MODEL_493d4e0c585b445ca92c4e73e6b34986",
            "_dom_classes": [],
            "description": "",
            "_model_name": "HTMLModel",
            "placeholder": "​",
            "_view_module": "@jupyter-widgets/controls",
            "_model_module_version": "1.5.0",
            "value": " 1/1 [00:00&lt;00:00,  6.23it/s]",
            "_view_count": null,
            "_view_module_version": "1.5.0",
            "description_tooltip": null,
            "_model_module": "@jupyter-widgets/controls",
            "layout": "IPY_MODEL_bb456adc28284639872b0c2965257bea"
          }
        },
        "955fa8516da94a6186f8370f26986125": {
          "model_module": "@jupyter-widgets/controls",
          "model_name": "DescriptionStyleModel",
          "state": {
            "_view_name": "StyleView",
            "_model_name": "DescriptionStyleModel",
            "description_width": "",
            "_view_module": "@jupyter-widgets/base",
            "_model_module_version": "1.5.0",
            "_view_count": null,
            "_view_module_version": "1.2.0",
            "_model_module": "@jupyter-widgets/controls"
          }
        },
        "765b91394baa4a99a246cfee4d3dbf2c": {
          "model_module": "@jupyter-widgets/base",
          "model_name": "LayoutModel",
          "state": {
            "_view_name": "LayoutView",
            "grid_template_rows": null,
            "right": null,
            "justify_content": null,
            "_view_module": "@jupyter-widgets/base",
            "overflow": null,
            "_model_module_version": "1.2.0",
            "_view_count": null,
            "flex_flow": null,
            "width": null,
            "min_width": null,
            "border": null,
            "align_items": null,
            "bottom": null,
            "_model_module": "@jupyter-widgets/base",
            "top": null,
            "grid_column": null,
            "overflow_y": null,
            "overflow_x": null,
            "grid_auto_flow": null,
            "grid_area": null,
            "grid_template_columns": null,
            "flex": null,
            "_model_name": "LayoutModel",
            "justify_items": null,
            "grid_row": null,
            "max_height": null,
            "align_content": null,
            "visibility": null,
            "align_self": null,
            "height": null,
            "min_height": null,
            "padding": null,
            "grid_auto_rows": null,
            "grid_gap": null,
            "max_width": null,
            "order": null,
            "_view_module_version": "1.2.0",
            "grid_template_areas": null,
            "object_position": null,
            "object_fit": null,
            "grid_auto_columns": null,
            "margin": null,
            "display": null,
            "left": null
          }
        },
        "3b1d82887b9a4e71bcb4f7b8ec23b592": {
          "model_module": "@jupyter-widgets/controls",
          "model_name": "ProgressStyleModel",
          "state": {
            "_view_name": "StyleView",
            "_model_name": "ProgressStyleModel",
            "description_width": "",
            "_view_module": "@jupyter-widgets/base",
            "_model_module_version": "1.5.0",
            "_view_count": null,
            "_view_module_version": "1.2.0",
            "bar_color": null,
            "_model_module": "@jupyter-widgets/controls"
          }
        },
        "15beb61a527c43f29d3ed0c5a03361f8": {
          "model_module": "@jupyter-widgets/base",
          "model_name": "LayoutModel",
          "state": {
            "_view_name": "LayoutView",
            "grid_template_rows": null,
            "right": null,
            "justify_content": null,
            "_view_module": "@jupyter-widgets/base",
            "overflow": null,
            "_model_module_version": "1.2.0",
            "_view_count": null,
            "flex_flow": null,
            "width": null,
            "min_width": null,
            "border": null,
            "align_items": null,
            "bottom": null,
            "_model_module": "@jupyter-widgets/base",
            "top": null,
            "grid_column": null,
            "overflow_y": null,
            "overflow_x": null,
            "grid_auto_flow": null,
            "grid_area": null,
            "grid_template_columns": null,
            "flex": null,
            "_model_name": "LayoutModel",
            "justify_items": null,
            "grid_row": null,
            "max_height": null,
            "align_content": null,
            "visibility": null,
            "align_self": null,
            "height": null,
            "min_height": null,
            "padding": null,
            "grid_auto_rows": null,
            "grid_gap": null,
            "max_width": null,
            "order": null,
            "_view_module_version": "1.2.0",
            "grid_template_areas": null,
            "object_position": null,
            "object_fit": null,
            "grid_auto_columns": null,
            "margin": null,
            "display": null,
            "left": null
          }
        },
        "493d4e0c585b445ca92c4e73e6b34986": {
          "model_module": "@jupyter-widgets/controls",
          "model_name": "DescriptionStyleModel",
          "state": {
            "_view_name": "StyleView",
            "_model_name": "DescriptionStyleModel",
            "description_width": "",
            "_view_module": "@jupyter-widgets/base",
            "_model_module_version": "1.5.0",
            "_view_count": null,
            "_view_module_version": "1.2.0",
            "_model_module": "@jupyter-widgets/controls"
          }
        },
        "bb456adc28284639872b0c2965257bea": {
          "model_module": "@jupyter-widgets/base",
          "model_name": "LayoutModel",
          "state": {
            "_view_name": "LayoutView",
            "grid_template_rows": null,
            "right": null,
            "justify_content": null,
            "_view_module": "@jupyter-widgets/base",
            "overflow": null,
            "_model_module_version": "1.2.0",
            "_view_count": null,
            "flex_flow": null,
            "width": null,
            "min_width": null,
            "border": null,
            "align_items": null,
            "bottom": null,
            "_model_module": "@jupyter-widgets/base",
            "top": null,
            "grid_column": null,
            "overflow_y": null,
            "overflow_x": null,
            "grid_auto_flow": null,
            "grid_area": null,
            "grid_template_columns": null,
            "flex": null,
            "_model_name": "LayoutModel",
            "justify_items": null,
            "grid_row": null,
            "max_height": null,
            "align_content": null,
            "visibility": null,
            "align_self": null,
            "height": null,
            "min_height": null,
            "padding": null,
            "grid_auto_rows": null,
            "grid_gap": null,
            "max_width": null,
            "order": null,
            "_view_module_version": "1.2.0",
            "grid_template_areas": null,
            "object_position": null,
            "object_fit": null,
            "grid_auto_columns": null,
            "margin": null,
            "display": null,
            "left": null
          }
        },
        "432be5a2d1ae49d88e1784b3358557f5": {
          "model_module": "@jupyter-widgets/controls",
          "model_name": "HBoxModel",
          "state": {
            "_view_name": "HBoxView",
            "_dom_classes": [],
            "_model_name": "HBoxModel",
            "_view_module": "@jupyter-widgets/controls",
            "_model_module_version": "1.5.0",
            "_view_count": null,
            "_view_module_version": "1.5.0",
            "box_style": "",
            "layout": "IPY_MODEL_1eccc1aafabe472a9e284fbc289f4626",
            "_model_module": "@jupyter-widgets/controls",
            "children": [
              "IPY_MODEL_4bce78948a804063bf48661103be4e3c",
              "IPY_MODEL_7be263fc0a274dc1b9369d63a18b899a",
              "IPY_MODEL_3d1f217e704a48cca253f4eb41fac0c4"
            ]
          }
        },
        "1eccc1aafabe472a9e284fbc289f4626": {
          "model_module": "@jupyter-widgets/base",
          "model_name": "LayoutModel",
          "state": {
            "_view_name": "LayoutView",
            "grid_template_rows": null,
            "right": null,
            "justify_content": null,
            "_view_module": "@jupyter-widgets/base",
            "overflow": null,
            "_model_module_version": "1.2.0",
            "_view_count": null,
            "flex_flow": null,
            "width": null,
            "min_width": null,
            "border": null,
            "align_items": null,
            "bottom": null,
            "_model_module": "@jupyter-widgets/base",
            "top": null,
            "grid_column": null,
            "overflow_y": null,
            "overflow_x": null,
            "grid_auto_flow": null,
            "grid_area": null,
            "grid_template_columns": null,
            "flex": null,
            "_model_name": "LayoutModel",
            "justify_items": null,
            "grid_row": null,
            "max_height": null,
            "align_content": null,
            "visibility": null,
            "align_self": null,
            "height": null,
            "min_height": null,
            "padding": null,
            "grid_auto_rows": null,
            "grid_gap": null,
            "max_width": null,
            "order": null,
            "_view_module_version": "1.2.0",
            "grid_template_areas": null,
            "object_position": null,
            "object_fit": null,
            "grid_auto_columns": null,
            "margin": null,
            "display": null,
            "left": null
          }
        },
        "4bce78948a804063bf48661103be4e3c": {
          "model_module": "@jupyter-widgets/controls",
          "model_name": "HTMLModel",
          "state": {
            "_view_name": "HTMLView",
            "style": "IPY_MODEL_507b1c7ff08d4930b4b80f1b32514143",
            "_dom_classes": [],
            "description": "",
            "_model_name": "HTMLModel",
            "placeholder": "​",
            "_view_module": "@jupyter-widgets/controls",
            "_model_module_version": "1.5.0",
            "value": "Batches: 100%",
            "_view_count": null,
            "_view_module_version": "1.5.0",
            "description_tooltip": null,
            "_model_module": "@jupyter-widgets/controls",
            "layout": "IPY_MODEL_8c4529c54c1d4573a1d86dcf1fee88cc"
          }
        },
        "7be263fc0a274dc1b9369d63a18b899a": {
          "model_module": "@jupyter-widgets/controls",
          "model_name": "FloatProgressModel",
          "state": {
            "_view_name": "ProgressView",
            "style": "IPY_MODEL_03ddd4a1c744450a9c130c5104bab115",
            "_dom_classes": [],
            "description": "",
            "_model_name": "FloatProgressModel",
            "bar_style": "success",
            "max": 1,
            "_view_module": "@jupyter-widgets/controls",
            "_model_module_version": "1.5.0",
            "value": 1,
            "_view_count": null,
            "_view_module_version": "1.5.0",
            "orientation": "horizontal",
            "min": 0,
            "description_tooltip": null,
            "_model_module": "@jupyter-widgets/controls",
            "layout": "IPY_MODEL_6c461b2101ce4eaf811bf6cc12ae0175"
          }
        },
        "3d1f217e704a48cca253f4eb41fac0c4": {
          "model_module": "@jupyter-widgets/controls",
          "model_name": "HTMLModel",
          "state": {
            "_view_name": "HTMLView",
            "style": "IPY_MODEL_db28f5c5fad841d09e6dd0de5555c3ee",
            "_dom_classes": [],
            "description": "",
            "_model_name": "HTMLModel",
            "placeholder": "​",
            "_view_module": "@jupyter-widgets/controls",
            "_model_module_version": "1.5.0",
            "value": " 1/1 [00:00&lt;00:00,  1.96it/s]",
            "_view_count": null,
            "_view_module_version": "1.5.0",
            "description_tooltip": null,
            "_model_module": "@jupyter-widgets/controls",
            "layout": "IPY_MODEL_5bb79ab2d9184fe6be29fbcd0f6cb0a5"
          }
        },
        "507b1c7ff08d4930b4b80f1b32514143": {
          "model_module": "@jupyter-widgets/controls",
          "model_name": "DescriptionStyleModel",
          "state": {
            "_view_name": "StyleView",
            "_model_name": "DescriptionStyleModel",
            "description_width": "",
            "_view_module": "@jupyter-widgets/base",
            "_model_module_version": "1.5.0",
            "_view_count": null,
            "_view_module_version": "1.2.0",
            "_model_module": "@jupyter-widgets/controls"
          }
        },
        "8c4529c54c1d4573a1d86dcf1fee88cc": {
          "model_module": "@jupyter-widgets/base",
          "model_name": "LayoutModel",
          "state": {
            "_view_name": "LayoutView",
            "grid_template_rows": null,
            "right": null,
            "justify_content": null,
            "_view_module": "@jupyter-widgets/base",
            "overflow": null,
            "_model_module_version": "1.2.0",
            "_view_count": null,
            "flex_flow": null,
            "width": null,
            "min_width": null,
            "border": null,
            "align_items": null,
            "bottom": null,
            "_model_module": "@jupyter-widgets/base",
            "top": null,
            "grid_column": null,
            "overflow_y": null,
            "overflow_x": null,
            "grid_auto_flow": null,
            "grid_area": null,
            "grid_template_columns": null,
            "flex": null,
            "_model_name": "LayoutModel",
            "justify_items": null,
            "grid_row": null,
            "max_height": null,
            "align_content": null,
            "visibility": null,
            "align_self": null,
            "height": null,
            "min_height": null,
            "padding": null,
            "grid_auto_rows": null,
            "grid_gap": null,
            "max_width": null,
            "order": null,
            "_view_module_version": "1.2.0",
            "grid_template_areas": null,
            "object_position": null,
            "object_fit": null,
            "grid_auto_columns": null,
            "margin": null,
            "display": null,
            "left": null
          }
        },
        "03ddd4a1c744450a9c130c5104bab115": {
          "model_module": "@jupyter-widgets/controls",
          "model_name": "ProgressStyleModel",
          "state": {
            "_view_name": "StyleView",
            "_model_name": "ProgressStyleModel",
            "description_width": "",
            "_view_module": "@jupyter-widgets/base",
            "_model_module_version": "1.5.0",
            "_view_count": null,
            "_view_module_version": "1.2.0",
            "bar_color": null,
            "_model_module": "@jupyter-widgets/controls"
          }
        },
        "6c461b2101ce4eaf811bf6cc12ae0175": {
          "model_module": "@jupyter-widgets/base",
          "model_name": "LayoutModel",
          "state": {
            "_view_name": "LayoutView",
            "grid_template_rows": null,
            "right": null,
            "justify_content": null,
            "_view_module": "@jupyter-widgets/base",
            "overflow": null,
            "_model_module_version": "1.2.0",
            "_view_count": null,
            "flex_flow": null,
            "width": null,
            "min_width": null,
            "border": null,
            "align_items": null,
            "bottom": null,
            "_model_module": "@jupyter-widgets/base",
            "top": null,
            "grid_column": null,
            "overflow_y": null,
            "overflow_x": null,
            "grid_auto_flow": null,
            "grid_area": null,
            "grid_template_columns": null,
            "flex": null,
            "_model_name": "LayoutModel",
            "justify_items": null,
            "grid_row": null,
            "max_height": null,
            "align_content": null,
            "visibility": null,
            "align_self": null,
            "height": null,
            "min_height": null,
            "padding": null,
            "grid_auto_rows": null,
            "grid_gap": null,
            "max_width": null,
            "order": null,
            "_view_module_version": "1.2.0",
            "grid_template_areas": null,
            "object_position": null,
            "object_fit": null,
            "grid_auto_columns": null,
            "margin": null,
            "display": null,
            "left": null
          }
        },
        "db28f5c5fad841d09e6dd0de5555c3ee": {
          "model_module": "@jupyter-widgets/controls",
          "model_name": "DescriptionStyleModel",
          "state": {
            "_view_name": "StyleView",
            "_model_name": "DescriptionStyleModel",
            "description_width": "",
            "_view_module": "@jupyter-widgets/base",
            "_model_module_version": "1.5.0",
            "_view_count": null,
            "_view_module_version": "1.2.0",
            "_model_module": "@jupyter-widgets/controls"
          }
        },
        "5bb79ab2d9184fe6be29fbcd0f6cb0a5": {
          "model_module": "@jupyter-widgets/base",
          "model_name": "LayoutModel",
          "state": {
            "_view_name": "LayoutView",
            "grid_template_rows": null,
            "right": null,
            "justify_content": null,
            "_view_module": "@jupyter-widgets/base",
            "overflow": null,
            "_model_module_version": "1.2.0",
            "_view_count": null,
            "flex_flow": null,
            "width": null,
            "min_width": null,
            "border": null,
            "align_items": null,
            "bottom": null,
            "_model_module": "@jupyter-widgets/base",
            "top": null,
            "grid_column": null,
            "overflow_y": null,
            "overflow_x": null,
            "grid_auto_flow": null,
            "grid_area": null,
            "grid_template_columns": null,
            "flex": null,
            "_model_name": "LayoutModel",
            "justify_items": null,
            "grid_row": null,
            "max_height": null,
            "align_content": null,
            "visibility": null,
            "align_self": null,
            "height": null,
            "min_height": null,
            "padding": null,
            "grid_auto_rows": null,
            "grid_gap": null,
            "max_width": null,
            "order": null,
            "_view_module_version": "1.2.0",
            "grid_template_areas": null,
            "object_position": null,
            "object_fit": null,
            "grid_auto_columns": null,
            "margin": null,
            "display": null,
            "left": null
          }
        }
      }
    },
    "accelerator": "GPU"
  },
  "cells": [
    {
      "cell_type": "markdown",
      "metadata": {
        "id": "view-in-github",
        "colab_type": "text"
      },
      "source": [
        "<a href=\"https://colab.research.google.com/github/esnue/ThesisAllocationSystem/blob/main/3_contextualized_topic_modeling.ipynb\" target=\"_parent\"><img src=\"https://colab.research.google.com/assets/colab-badge.svg\" alt=\"Open In Colab\"/></a>"
      ]
    },
    {
      "cell_type": "markdown",
      "metadata": {
        "id": "aIH2ZY7eUGW1"
      },
      "source": [
        "\n",
        "adapted from: https://github.com/MilaNLProc/contextualized-topic-models"
      ]
    },
    {
      "cell_type": "markdown",
      "metadata": {
        "id": "qmZ1uZecv7qW"
      },
      "source": [
        "## Contextualized Topic Models \n",
        "\n",
        "We are going to use contextualized topic modeling to get topics out of a supervisors' academic papers, student proposals and supervision plans.\n",
        "\n",
        "## Topic Models \n",
        "\n",
        "Topic models allow you to discover latent topics in text documents in a completely unsupervised way. \n",
        "\n",
        "## Contextualized Topic Models\n",
        "\n",
        "What are Contextualized Topic Models? **CTMs** are a family of topic models that combine the expressive power of BERT embeddings with the unsupervised capabilities of topic models to get topics out of documents.\n",
        "\n",
        "\n"
      ]
    },
    {
      "cell_type": "markdown",
      "metadata": {
        "id": "ln23-soXeQk3"
      },
      "source": [
        "# Enabling the GPU\n",
        "\n",
        "First, you'll need to enable GPUs for the notebook. If GPU is not available, it will switch to CPU."
      ]
    },
    {
      "cell_type": "code",
      "metadata": {
        "id": "dCtVeF6t0ajc"
      },
      "source": [
        "# Setting up the device for GPU usage\n",
        "\n",
        "from torch import cuda\n",
        "device = 'cuda' if cuda.is_available() else 'gpu'"
      ],
      "execution_count": 1,
      "outputs": []
    },
    {
      "cell_type": "markdown",
      "metadata": {
        "id": "QsNRo8I8Yem2"
      },
      "source": [
        "# Installing Contextualized Topic Models\n",
        "\n",
        "Now, we install the contextualized topic model library"
      ]
    },
    {
      "cell_type": "code",
      "metadata": {
        "id": "BUw5EQi8v9r1"
      },
      "source": [
        "%%capture\n",
        "!pip install contextualized-topic-models==1.8.1\n",
        "!pip install torch==1.6.0+cu101 torchvision==0.7.0+cu101 -f https://download.pytorch.org/whl/torch_stable.html"
      ],
      "execution_count": 2,
      "outputs": []
    },
    {
      "cell_type": "markdown",
      "metadata": {
        "id": "sxeqAVYqsLle"
      },
      "source": [
        "## Data"
      ]
    },
    {
      "cell_type": "code",
      "metadata": {
        "id": "eB9ZJDmXXtjT",
        "colab": {
          "base_uri": "https://localhost:8080/"
        },
        "outputId": "1c8d89a3-0443-4cad-e08f-8d700c977880"
      },
      "source": [
        "from google.colab import drive\n",
        "drive.mount('/content/drive')"
      ],
      "execution_count": 3,
      "outputs": [
        {
          "output_type": "stream",
          "text": [
            "Drive already mounted at /content/drive; to attempt to forcibly remount, call drive.mount(\"/content/drive\", force_remount=True).\n"
          ],
          "name": "stdout"
        }
      ]
    },
    {
      "cell_type": "code",
      "metadata": {
        "id": "KiJ3PMgOXrCH",
        "colab": {
          "base_uri": "https://localhost:8080/"
        },
        "outputId": "04d95a70-3bd2-4cfb-9529-6772800b1e7a"
      },
      "source": [
        "import pandas as pd\n",
        "\n",
        "#academic papers\n",
        "file1 = pd.read_csv(\"/content/drive/MyDrive/ThesisAllocationSystem/data_final/train-papers-final.csv\")\n",
        "#transform content column row values into a list\n",
        "train_file = file1['Content'].values.tolist()\n",
        "\n",
        "print(train_file[:5])\n",
        "print(type(train_file))\n",
        "\n",
        "#thesis proposals\n",
        "file2 = pd.read_csv(\"/content/drive/MyDrive/ThesisAllocationSystem/data_final/test-proposals-final.csv\")\n",
        "test_file = file2['Content'].values.tolist()\n",
        "\n",
        "print(test_file[2])\n",
        "print(type(test_file))\n",
        "\n",
        "#supervision plans\n",
        "file3 = pd.read_csv(\"/content/drive/MyDrive/ThesisAllocationSystem/data_final/supervisors-final.csv\")\n",
        "val_file = file3['Content'].values.tolist()\n",
        "\n",
        "print(val_file[5])\n",
        "print(type(val_file))"
      ],
      "execution_count": 4,
      "outputs": [
        {
          "output_type": "stream",
          "text": [
            "[\"b'1 \\\\n \\\\n\\\\nCurry, D., Hammerschmid, G., Jilke, S., Van de Walle, S. (2015). Executive Perceptions of Public Sector \\\\n\\\\nReform in Europe. In: Massey, A. & Johnston, K. (eds). International Handbook of Public \\\\n\\\\nAdministration and Governance. Cheltenham: Edward Elgar. Pp. 369-398. \\\\n\\\\n \\\\n\\\\nThe State and Perceptions of Public Sector Reform in Europe1 \\\\n\\\\nDion Curry, Gerhard Hammerschmid, Sebastian Jilke, Steven Van de Walle \\\\n\\\\nLike most other areas of the world, the public sector in Europe has undergone significant reform in \\\\n\\\\nthe past two decades, shaped in part by a broader New Public Management (NPM) paradigm, but \\\\n\\\\none that also introduces a unique European flavour to this form of public management. Whilst NPM \\\\n\\\\nand public administration in Europe shares similarities with other cases, the added complexity of \\\\n\\\\ndiffering starting points and the EU layer provide interesting insight into the nature of public \\\\n\\\\nadministration. This chapter will draw on a large-scale survey of top European executives in central \\\\n\\\\ngovernment, in order to develop a comprehensive picture of the perceptions of NPM reforms and \\\\n\\\\ntheir effects over the last five years. Focusing on a cross-selection of EU countries (plus Norway),2 \\\\n\\\\nthe chapter will present findings about choice of policy instruments, relevance of different reform \\\\n\\\\ntrends and their general success and impact within the case countries.   \\\\n\\\\nThe chapter will first provide a general overview of the state of the public sector in the European \\\\n\\\\ncountries under study before turning to how the public sector and its reform are perceived by top \\\\n\\\\nexecutives. This will focus on key trends in the public sector in terms of both NPM and post-NPM \\\\n\\\\nreforms, including usage of different policy instruments and the prevalence of trends regarding \\\\n\\\\nissues such as transparency, cooperation, digital/e-government, downsizing, red tape, citizen \\\\n\\\\nparticipation, contracting out and others. The chapter will look at the importance of these trends in \\\\n\\\\nthe various case countries and across Europe before examining the nature of these reforms. Finally, \\\\n\\\\nthe perceived success and overall impact of these reforms will be assessed, along with a brief \\\\n\\\\nexamination of the impacts of the fiscal crisis on reforms in Europe. Throughout, the chapter will \\\\n\\\\nexplore convergences and divergences in these issues across the European countries under study, \\\\n\\\\nbefore providing some conclusions about the state of the public sector, its reform and prospects for \\\\n\\\\nits future. \\\\n\\\\nThe Public Sector in Europe: a General Overview \\\\n\\\\nThe public sector in Europe has always drawn on a diverse set of starting points in terms of ideals, \\\\n\\\\nwealth and breadth. New Public Management-style reforms have also moved at different times, \\\\n\\\\npaces and extents through Europe. While the United Kingdom was at the forefront of such reforms, \\\\n\\\\ncountries on the continent, especially in southern countries and the post-Communist states were \\\\n\\\\nslower to adopt change. In all countries, these changes came about through various combinations of \\\\n\\\\nnecessity, innovation, ability and will. At the base of any reforms in Europe lies different and often \\\\n\\\\ncompeting traditions of public administration. Napoleonic traditions in many of the southern \\\\n\\\\nEuropean countries (Ongaro, 2009) come from a very different starting point than the former \\\\n\\\\n                                                           \\\\n1 The research leading to these results has received funding from the European Unions Seventh Framework \\\\nProgramme under grant agreement No. 266887 (Project COCOPS), Socio-economic Sciences & Humanities. \\\\n2 Austria, Estonia, France, Germany, Hungary, Italy, Netherlands, Norway, Spain, UK. \\\\n\\\\n\\\\n\\\\n2 \\\\n \\\\n\\\\nCommunist states in terms of both what the public sector should do and how it should do it. Anglo-\\\\n\\\\nSaxon and Scandinavian models also add to the mix. The EU has also acted to shape the nature of \\\\n\\\\nreform, especially through accession criteria for new member states. Reforms to these traditions \\\\n\\\\nhave then been driven by political will or a lack thereof, with some countries having politicians with \\\\n\\\\nclear and distinct driving ambitions for the public sector, whereas in other countries reforms have \\\\n\\\\nbeen more piecemeal and less ideologically driven. Political will is often also shaped by the power of \\\\n\\\\nthe trade unions representing the public sector, which in turn affects the nature and extent of \\\\n\\\\nreform. Finally, the economic boom of the 1990s and the current economic crisis have necessitated \\\\n\\\\nchanges in direction and approach.  \\\\n\\\\nWhile classic NPM issues are still relevant to any discussion of the state of the public sector and its \\\\n\\\\nfuture reform, in recent years other factors have risen in importance. Questions of civic engagement \\\\n\\\\nthrough forms such as digital and e-governance have become more important with technological \\\\n\\\\nand ideational shifts (Dunleavy, Margetts, Bastow & Tinkler, 2006). Hand-in-hand, there is more \\\\n\\\\nemphasis on making public management more transparent and accountable, potentially opening it \\\\n\\\\nto new public and private actors. At the same time, within the public sector, there has been an \\\\n\\\\nincreasing prevalence of cooperation and collaboration in many different directions (OLeary & \\\\n\\\\nBlomgren Bingham, 2009). A more bottom-up approach has been championed in some public sector \\\\n\\\\napproaches as either a positive way to engage governments and citizens on the ground, or as an \\\\n\\\\nattempt to download services and costs to lower levels of government. There has also been a \\\\n\\\\nconsolidation of public services as a way of improving efficiency and streamlining public services. \\\\n\\\\nThese factors all create a complex stew of factors that act differently in diverse country contexts to \\\\n\\\\nboth drive and impede reform in European countries. \\\\n\\\\nThe Case Countries \\\\n\\\\nThe case countries cover a broad swathe of European countries and provide a varied but detailed \\\\n\\\\npicture of how public sector reforms have taken root in different European contexts. They draw \\\\n\\\\nfrom countries of varying economic, social and political conditions, as well as covering both \\\\n\\\\ntraditionally West and East countries, and both northern and southern blocs.  \\\\n\\\\nCase Countries \\\\n\\\\n Austria \\\\n\\\\n Estonia \\\\n\\\\n France \\\\n\\\\n Germany \\\\n\\\\n Hungary \\\\n\\\\n Italy \\\\n\\\\n Netherlands \\\\n\\\\n Norway \\\\n\\\\n Spain \\\\n\\\\n United Kingdom \\\\n\\\\n \\\\n\\\\nAdministrative reform in Austria has been an integral part of most government programmes over \\\\n\\\\nthe last decades and frequently described as a never-ending story. The influx and rise of a more \\\\n\\\\nmanagerial agenda started in the late nineties (1989-1993) with a relatively comprehensive public \\\\n\\\\n\\\\n\\\\n3 \\\\n \\\\n\\\\nmanagement reform project that was later succeeded by administrative innovation programmes \\\\n\\\\nwith a similar managerial emphasis (Hammerschmid & Meyer 2005). These programmes included a \\\\n\\\\ncommitment to efficiency and cost-saving, corporatisation, customer orientation, modern personnel \\\\n\\\\nmanagement, management instruments and performance measurement mostly implemented in the \\\\n\\\\nform of small-scale projects. With a fundamental political change in 2000 that brought a nearly 60 \\\\n\\\\nyear period of social-democratic government involvement to an end, public sector reforms strongly \\\\n\\\\ngained momentum. A large number of corporatisations, in addition to civil service system reforms \\\\n\\\\nand other restructuring of the machinery of government, played an important role in this phase, \\\\n\\\\nwhich culminated in a prominent Austrian convent (2003-2005) for fundamental state and \\\\n\\\\nadministrative reform. However, this had only very modest outcomes in administrative practice. \\\\n\\\\nMore recent years have been marked by far-reaching budgetary reform in 2007 and a strong e-\\\\n\\\\ngovernment agenda that has put Austria in a top position in the EU e-government benchmark. The \\\\n\\\\nbudget reform resulted in a government-wide change towards outcome-based budgeting and \\\\n\\\\naccrual accounting, as well as other key elements of a performance management logic that came \\\\n\\\\ninto force in 2013.   \\\\n\\\\nIn Estonia, reforms started after the country regained its independence from the Soviet Union in \\\\n\\\\n1991. There were three main three periods of public administration reform. In the first period after \\\\n\\\\ntransition (1991-1996), broad reforms were carried out and privatisation, regulation and de-\\\\n\\\\nmonopolisation all occurred. In the lead-up to EU accession (1996-2004), more specific reforms took \\\\n\\\\nplace to meet EU accession criteria and address issues such as transparency, accountability and \\\\n\\\\naccessibility of services. Post EU-accession (2004 to present), Estonian public service reform has \\\\n\\\\nbeen disjointed, although some NPM-style reforms have taken place, such as harmonising public and \\\\n\\\\nprivate working conditions. In general, Estonia has been amenable to NPM reforms, and regularly \\\\n\\\\nuses tools such as contracting out and performance-based indicators. It is also widely recognised for \\\\n\\\\nits e-government reforms (Savi & Metsma, 2013). \\\\n\\\\nIn France, public service reforms have occurred slowly and have been relatively resistant to NPM-\\\\n\\\\nstyle reforms (Rouban, 2008; Pollitt and Bouckaert, 2011). Frances limited application and slow roll-\\\\n\\\\nout of NPM public administration reforms in the 1980s and 1990s have given it a considerably \\\\n\\\\ndifferent outlook on the role and values of public administration compared to other countries in the \\\\n\\\\nstudy. However, Frances approach to public administration did evolve, but more incrementally and \\\\n\\\\nselectively than in other countries. This in part may be due to the Napoleonic traditions still valued in \\\\n\\\\nFrance, and the high degree of centralisation of the French state. In the 1980s, reforms in France \\\\n\\\\nfirst favoured decentralisation over efficiency or managerial reform, but did address some NPM \\\\n\\\\nissues such as service quality, user concerns and various management reforms. Throughout the \\\\n\\\\n1990s, NPM policy instruments and tools were increasingly used in the French public service. The \\\\n\\\\nmain reforms were in the area of budgetary processes, introducing tools such as programme-\\\\n\\\\noriented budgets, an increased emphasis on performance management and new accountability \\\\n\\\\nmeasures. Under Sarkozy in 2007, there was also a General Public Policy Review intended to look at \\\\n\\\\nefficient use of objectives, instruments and implementation, again drawing from NPM-style ideas. \\\\n\\\\nThe biggest reforms were seen to occur under Sarkozys government. These reforms have altered \\\\n\\\\nthe French public service, moving it away from Napoleonic ideas of centrality and uniformity and \\\\n\\\\nintroducing more performance management techniques. In contrast, approaches such as \\\\n\\\\nagencification have occurred to a much lesser  and less systematic - extent in France (Bezes & \\\\n\\\\nJeannot, 2013).  \\\\n\\\\n\\\\n\\\\n4 \\\\n \\\\n\\\\nIn Germany, public administration reform has been a recurring phenomenon made up of several \\\\n\\\\ndifferent strands. While Germany originally espoused an idea of an active state where state \\\\n\\\\nplanning and intervention were seen as ways to drive further development, this shifted in the 1980s \\\\n\\\\nand 1990s to an NPM-like emphasis on a lean state focused on privatisation and public sector \\\\n\\\\ndownsizing. Since the late 1990s, this has again shifted to the idea of an activating state built on \\\\n\\\\nengagement with all aspects of society to both guarantee public services at the state level, but also \\\\n\\\\nto engage with new ways of financing and delivering these services (Jann, 2003). These reforms \\\\n\\\\nclosely mirrored NPM reforms until quite recently, with an emphasis on ideas such as better public \\\\n\\\\nmanagement and structural streamlining. While many of the reforms have become more focused on \\\\n\\\\nNPM-type moves, Germany is considered to be a latecomer and at an early stage of building a true \\\\n\\\\nNPM-style system (Bouckaert and Halligan, 2008). These limited reforms are due to several factors. \\\\n\\\\nFirst, the federal nature of the German state limits the imposition of centralised administrative \\\\n\\\\nreforms. This is coupled with a decentralised power structure at the federal level involving many \\\\n\\\\nactors. Finally, an emphasis on stability and formalised processes has also helped to minimise \\\\n\\\\nsweeping reforms to the public sector. Recent reforms have now started to move towards newer \\\\n\\\\npost-NPM ideas such as transparency and network-based solutions (Pollitt and Bouckaert, 2011), but \\\\n\\\\nthese are still very much an evolution of previous reforms, rather than a complete break into \\\\n\\\\nsomething new (Hammerschmid et al., 2013b).  \\\\n\\\\nHungary has also significantly reformed its public administration since the fall of communism. A \\\\n\\\\nunitary state, it makes extensive use of both ministries and agencies, with the former largely \\\\n\\\\nresponsible for policy-making and the latter responsible for implementing these policies. Since 1990, \\\\n\\\\nHungary has undergone significant agencification, but these agencies largely lacked any overarching \\\\n\\\\nstructural or legal framework until 2006, when a law was enacted that set out the basic \\\\n\\\\nrequirements of these agencies as part of the larger government apparatus. Local governments were \\\\n\\\\nresponsible for a large amount of public service delivery as well, but in 2011 many services, including \\\\n\\\\nhealth and education, were centralised. A combination of a strong legislature responsible for many \\\\n\\\\nexecutive functions, a high, 2/3 vote threshold for the change of many laws, a strong system of \\\\n\\\\nchecks and balances, a separate judicial administration and a strong network of ombudsmen created \\\\n\\\\na system of regulatory impotence (Hajnal, 2010) that placed limits on what policy makers could do. \\\\n\\\\nWide-sweeping administrative change has been undertaken since 2010 when the Viktor Orb\\\\xe1n \\\\n\\\\ngovernment secured a 2/3 majority in cabinet and thus was able to undertake significant reforms. \\\\n\\\\nThese changes have removed many of the checks and balances that previously directed public \\\\n\\\\nadministration in the country, and strengthened political and hierarchical control over most facets of \\\\n\\\\nadministration, partly as a way of dealing with the financial crisis at the time. Ministries were \\\\n\\\\noverhauled and replaced by eight superministries, regional agencies have come under tighter \\\\n\\\\ncentral control, local government power has been reduced and bureaucratic recruitment is now \\\\n\\\\ncontrolled more hierarchically (Hajnal, 2013). \\\\n\\\\nIn Italy, the administrative systems and structures have been relatively unstable over the last twenty \\\\n\\\\nyears. Instead, new and old structures have been introduced or changed in a sometimes overlapping \\\\n\\\\nfashion without improving stability in these structures. The administrative situation has also been \\\\n\\\\naffected by the changing political landscape, with centre-right and centre-left coalitions treating \\\\n\\\\nadministrative needs differently, and the installation of a technical government in 2011/2012. Italys \\\\n\\\\nattitudes towards Europe have altered the administrative landscape in both normal and austerity-\\\\n\\\\nera politics and policy. Whilst the centre-left largely abided by EU standards, the centre-right \\\\n\\\\n\\\\n\\\\n5 \\\\n \\\\n\\\\ncoalition was more willing to break from these, but the debt crisis in the country has pushed EU \\\\n\\\\ninstitutions into playing a more prominent role in public management reform in the country. While \\\\n\\\\nItaly has long displayed some patterns of southern public administration, such as clientelism and a \\\\n\\\\ncertain absence of an administrative elite, reform in the early 1990s has allowed for the \\\\n\\\\ndevelopment of a more autonomous administrative body and the introduction of NPM-like ideas. \\\\n\\\\nRelations between government and the bureaucracy were brought more in line with the public \\\\n\\\\nsector in terms of employment conditions and performance management measures were \\\\n\\\\nintroduced. Many reforms related to public service employment conditions, with further reforms \\\\n\\\\nincreasing transparency of contracts and introducing further performance assessment measures. \\\\n\\\\nHowever, other issues have remained relatively unchanged, including political appointments to \\\\n\\\\nmiddle-level civil service positions and the centrality of trade unions in issues related to public \\\\n\\\\nservice employment practices. Interestingly, NPM-style reforms have taken place in one policy area \\\\n\\\\n health care  to a much greater extent than in any other policy area (Ongaro, et al., 2013). \\\\n\\\\nIn the Netherlands, the central government is mostly responsible for policy-making tasks, with \\\\n\\\\nexecutive and implementation tasks undertaken by agencies or local levels of government (although \\\\n\\\\nfinanced centrally). Dutch politics is consensual, and as a result ministries are relatively open to \\\\n\\\\nhearing external viewpoints from opposition parties, science and industry, but ministers retain \\\\n\\\\nultimate responsibility for decisions. Although a unitary system, the Netherlands mostly avoids \\\\n\\\\ncentralised government, and this is reflected in administrative reforms. For the most part, these \\\\n\\\\nreforms have aimed to slim down central government by decentralising more tasks to agencies and \\\\n\\\\nlocal levels. NPM-type reforms such as results-based budgeting and performance measurement have \\\\n\\\\nbeen used, with a move to private sector-like approaches being undertaken in the 1980s. This \\\\n\\\\nslowed in the 1990s due to an easing of financial pressures and a desire to return to the primacy of \\\\n\\\\npolitics (Pollitt and Bouckaert, 2011, p. 291). Under the second Balkenende government starting in \\\\n\\\\n2003, reforms were also undertaken at the state level, focusing on quality of services, savings on \\\\n\\\\noverhead costs and reducing the administrative burden of governments (Van Twist, Van der Steen, \\\\n\\\\nKarr\\\\xe9, Peeters, & Van Ostaijen, 2009, p. 32). At the central level, there was also a push to reduce \\\\n\\\\nadministrative burden and bureaucracy, improve organisation, clarify central government tasks and \\\\n\\\\ndevelop e-government approaches (Pollitt & Bouckaert, 2011, p. 296). While efficiency was a goal of \\\\n\\\\nthis reform, it was more focused on reducing budgets and not on reducing the size of the civil \\\\n\\\\nservice. Since 2007, reforms have focused on the central level of government, again looking to \\\\n\\\\nimprove efficiency by promoting cooperation between departments and reducing fragmentation, \\\\n\\\\nbut now also by reducing staff (Luts et al., 2008, p. 41; Van de Walle, Jilke & van Delft, 2013). \\\\n\\\\nNorway has a large civil service due mainly to its universal welfare state, and trust in government \\\\n\\\\nhas been high while the effects of the financial crisis have been small. While it is a unitary state, \\\\n\\\\nthere is some political and administrative decentralisation. There are two ministerial levels in the \\\\n\\\\ncountry, with relatively powerful sectoral ministries and weaker supra-ministries that mainly play a \\\\n\\\\ncoordination role between ministries (Christensen, 2003). There is a strong local level of \\\\n\\\\ngovernment, and this level both develops and implements local-level policy and implements \\\\n\\\\ncentrally-decided policy. While economic strength and political and administrative culture have \\\\n\\\\nlargely dampened the effects of NPM reforms in Norway, some changes have occurred in line with \\\\n\\\\ninternational waves of NPM reform. In the mid-1980s there were moves to reform the central level \\\\n\\\\nalong some NPM-style lines, with more reform in the 1990s under pressure from the OECD to pursue \\\\n\\\\nfurther change. However, these reforms have not been consistent over time and tend to be \\\\n\\\\n\\\\n\\\\n6 \\\\n \\\\n\\\\npiecemeal in nature. They have focused mainly on efficiency aspects within the public administration \\\\n\\\\nand have largely avoided other reforms such as privatisation or downsizing the state. There has also \\\\n\\\\nbeen a shift towards developing more autonomous agencies, with a move since the 1990s to \\\\n\\\\ncreating more autonomous state-owned companies in many sectors, along with a greater focus on \\\\n\\\\nNPM reforms within these bodies, such as performance measurement and results-based budgeting. \\\\n\\\\nWhile these changes have increased vertical coordination, there is little horizontal coordination \\\\n\\\\nacross sectors. In addition, the current government has attempted to roll back some of these NPM \\\\n\\\\nreforms. However, there is disagreement within the governing coalition about the state of the \\\\n\\\\nadministration, resulting in a rebalancing rather than transformation of NPM reforms already \\\\n\\\\nimplemented. This has created a layered and hybridised form of public administration combining old \\\\n\\\\nand new ideas (Christensen, Lie and L\\\\xe6greid 2007; Christensen and L\\\\xe6greid 2011; L\\\\xe6greid, Dyrnes \\\\n\\\\nNord\\\\xf8 and Rykkja, 2013). \\\\n\\\\nPublic administration reform in Spain has been undertaken both to get rid of Franco-style public \\\\n\\\\nadministration ideals and also as an attempt to modernise the public sector. Starting from a broad \\\\n\\\\nNapoleonic tradition, Spanish reform in the late 1970s focused on reducing bureaucracy and red \\\\n\\\\ntape by reorganising administrative and ministerial bodies. In the 1980s, the focus shifted to \\\\n\\\\ndecentralisation with the creation of regional governments and regulation of local governments. A \\\\n\\\\ngreater emphasis was placed on modernisation in the 1990s as a way to improve relations between \\\\n\\\\nthe administration and citizens. This included NPM-type ideas such as treating the citizen as a \\\\n\\\\ncustomer, streamlining administrative procedures and increasing the focus on efficiency, \\\\n\\\\neffectiveness and quality of services. However, there was some resistance from senior executives to \\\\n\\\\ncertain NPM objectives such as managerial autonomy, management by objectives and a results-\\\\n\\\\nbased focus, which limited the actual reform that took place in the country. Since the late 1990s, \\\\n\\\\nSpain has had a clear reform agenda with an NPM focus, aiming for a flexible and efficient \\\\n\\\\norganisational structure, reform of administrative courts, new regulatory frameworks for \\\\n\\\\nrecruitment, efficiency and quality in service delivery, and the incorporation of new technology in \\\\n\\\\nthe process (Torres and Pina, 2004). Other post-NPM reforms have started to appear in the 2000s, \\\\n\\\\nsuch as efforts to improve transparency and cooperation and collaboration among different public \\\\n\\\\nbodies. Since the crisis, most reforms have been driven by budgetary restrictions (Alonso and Clifton, \\\\n\\\\n2013).  \\\\n\\\\nFinally, public administration reform has been a persistent theme in the United Kingdom, albeit one \\\\n\\\\nthat ebbs and flows. The extent of changes and the focus on many private-sector ideals in public \\\\n\\\\nadministration have generally led to the UK being seen as the purest and most extensive form of \\\\n\\\\nNPM in Europe. While this is true, the differences between the UK example and other European \\\\n\\\\ncases should not be overstated (Pollitt and Bouckaert, 2011).  After the establishment of the welfare \\\\n\\\\nstate and a gradual professionalization of the civil service, in the 1970s the focus moved to \\\\n\\\\nimproving efficiency and effectiveness of public institutions, including a drastic reorganisation and \\\\n\\\\nreduction of local governments in 1974. After the economic crises of the 1970s and the election of \\\\n\\\\nThatcher in 1979, significant NPM-style reform of the public sector was undertaken. Key goals were \\\\n\\\\nto reduce the size of the public sector, open it to market forces and run it more like a private-sector \\\\n\\\\nbusiness. The civil service, previously under its own department, was put under control of the \\\\n\\\\nTreasury and business-like arrangements such as target-based management and, in some cases, \\\\n\\\\nperformance-based pay were introduced. Compulsory competitive tendering was launched at the \\\\n\\\\nlocal level along with further competition in providing public services. Tony Blairs election in 1997 \\\\n\\\\n\\\\n\\\\n7 \\\\n \\\\n\\\\nmarked the beginning of a Third Way approach of balancing the market, state and civil society in \\\\n\\\\nproviding services. This approach retained business-inspired ideas such as performance measures \\\\n\\\\nand contracting out, whilst attempting to balance this with a top-down focus on continuous \\\\n\\\\nimprovement and targets-based planning, along with a post-NPM aim to strengthen relationships \\\\n\\\\nand coordination between the various actors in delivering public services. This Third Way approach \\\\n\\\\nleft a public service driven largely by market and NPM-style public administration coupled with a \\\\n\\\\nwilful effort to steer the management of these disparate actors at the central governmental level. \\\\n\\\\nSince the election of the Conservative/Liberal-Democrat coalition in 2010, the focus of public \\\\n\\\\nadministration reform has been clearly on reducing costs and the size of the public sector (Andrews, \\\\n\\\\nDowne & Guarneros-Meza, 2013).  \\\\n\\\\nFactors Affecting Reform: Goal Ambiguity and Public Sector Autonomy \\\\n\\\\nThe Survey \\\\n\\\\nA 31 question survey was sent electronically or via post to over 21,000 high-ranking civil servants in \\\\n\\\\n10 European countries. The surveys aim was threefold: (1) to capture perceptions on the current \\\\n\\\\nstatus of management, coordination and administration reforms; (2) gauge the effects of NPM-style \\\\n\\\\nreforms on performance, values/identities, coordination and social cohesions; and (3) to examine \\\\n\\\\nthe impact of the financial crisis on public administration. The survey was sent to the entire \\\\n\\\\npopulation of top and medium-high level civil servants in each country, translated into each \\\\n\\\\ncountries national language. The overall response rate for the survey was 23.7%, with individual \\\\n\\\\ncountry response rates varying from 11.4% (UK) to 36.5% (Austria). While the overall response rate \\\\n\\\\nis somewhat low, it is consistent with other surveys of executives and in each country there were at \\\\n\\\\nleast 300 responses recorded, with a total number of responses of 4814.3  \\\\n\\\\nAs outlined above, many factors affect the ability of public sector reform to be introduced, and in \\\\n\\\\nturn the success of these reforms hinges on the ability for them to be undertaken in an effective \\\\n\\\\nmanner by the public service. Two factors that have an impact on how easily reforms are \\\\n\\\\nimplemented are the nature of the goals of reform and the autonomy of the public sector in \\\\n\\\\nimplementing technical changes without political interference.  \\\\n\\\\nGoal Ambiguity \\\\n\\\\nReforms to performance management are best executed when goals are limited, clearly state and \\\\n\\\\ncommunicated, and easy to observe and measure (Rainy, Jung 2010). In looking at clarity of goals \\\\n\\\\nbased on these three factors, all the countries studied showed a relatively uniform slightly negative \\\\n\\\\nview of how measurable and well-defined results and objectives were. While several countries \\\\n\\\\n(Germany and France) proved to think somewhat more favourably about the clarity of goals and \\\\n\\\\nothers more negatively (United Kingdom, the Netherlands), overall perceptions in all countries were \\\\n\\\\non the negative side of the scale. In general, managers of agencies reported less goal ambiguity than \\\\n\\\\n                                                           \\\\n3 For a more detailed outline of the survey methodology and process, please see Hammerschmid, Oprisor and \\\\ntimac, 2013. \\\\n\\\\n\\\\n\\\\n8 \\\\n \\\\n\\\\nmanagers in ministries. While this lack of clarity was seen as a challenge, it nonetheless was not \\\\n\\\\nperceived to be a barrier to introducing NPM-style tools into public sector practices.4   \\\\n\\\\nFigure 1: Perceived goal ambiguity and measurability (aggregate mean for several items per country; 1= low goal \\\\nambiguity, 7=high goal ambiguity) \\\\n\\\\n \\\\n\\\\nThere was some variation between countries. Spanish executives tended to feel more negatively \\\\n\\\\nthan the average about the clarity of their goals and how they are stated to staff. Germany overall \\\\n\\\\nhad a relatively high view of goal ambiguity, but there was significant difference in types of \\\\n\\\\nambiguity. In terms of whether their activities were easy to observe and measure, over half felt their \\\\n\\\\nactivities were not clear. They had a much more favourable view of whether their goals are clearly \\\\n\\\\nstated and are clearly communicated to staff, where over half felt that these issues were not \\\\n\\\\nambiguous. To the same but lesser extents, Norway and the Netherlands displayed a comparable \\\\n\\\\nsplit, where both felt that goals were clearly stated but it was not so easy to observe and measure \\\\n\\\\nactivities related to these goals. The UK had the lowest perceived goal ambiguity by a significant \\\\n\\\\nmargin. Executives strongly felt that goals were clear and clearly communicated to staff. However, a \\\\n\\\\nmajority of UK executives also felt that the number of goals was high and not easily measured or \\\\n\\\\nassessed, painting a slightly more complicated picture as regards goal ambiguity. Interestingly, the \\\\n\\\\nresults in Italy were highly sector-dependent. In general, Italian executives felt that goals were \\\\n\\\\nclearly stated and communicated, but not as easy to observe or measure. This was profoundly \\\\n\\\\ndifferent and opposite for those working in the health sector, who felt that it was easy to observe \\\\n\\\\nand measure their activities but that these goals were not clearly stated or communicated (Ongaro \\\\n\\\\net al., 2013).  \\\\n\\\\nAutonomy of the Public Sector \\\\n\\\\nThe autonomy of the public sector vis-\\\\xe0-vis political institutions also has an impact on the nature and \\\\n\\\\nquality of reform. Autonomy consists of both managerial autonomy (the ability to make \\\\n\\\\norganisational and structural changes, as well as decisions on personnel, budget and contracting out) \\\\n\\\\nas well as policy autonomy (over how to design, decide on and implement policies), and the extent \\\\n\\\\n                                                           \\\\n4 See Hammerschmid, Oprisor and timac, 2013 and Hammerschmid et al. (2013a) for a more detailed \\\\ndescription of scales and questions.  \\\\n\\\\n1 2 3 4 5 6 7\\\\n\\\\nUnited Kingdom\\\\n\\\\nThe Netherlands\\\\n\\\\nEstonia\\\\n\\\\nSpain\\\\n\\\\nAustria\\\\n\\\\nAverage\\\\n\\\\nNorway\\\\n\\\\nItaly\\\\n\\\\nHungary\\\\n\\\\nFrance\\\\n\\\\nGermany\\\\n\\\\n\\\\n\\\\n9 \\\\n \\\\n\\\\nto which public sector institutions can make technical decisions free from political interference will \\\\n\\\\nhave an effect on reform. While some country executives felt they had a high degree of autonomy \\\\n\\\\n(the Netherlands), others felt a low degree of autonomy to manage or make decisions freely (Italy).  \\\\n\\\\nFigure 2: Perceived degree of management and policy autonomy (aggregate mean for several items per country; 1=very \\\\nlow autonomy, 7=very high autonomy) \\\\n\\\\n  \\\\n\\\\nIn different countries, different types of autonomy were noted as being either stronger or weaker by \\\\n\\\\npublic sector executives. For instance, in the UK, all forms of autonomy were perceived as higher \\\\n\\\\nthan average, but especially in allocating budgets, organisational structuring and implementation of \\\\n\\\\npolicies. Autonomy of the public sector in the Netherlands was perceived as high, and this applied \\\\n\\\\nacross the board. Autonomy was seen to be highest in managerial tasks and implementing policy, \\\\n\\\\nbut even in designing and choosing policies, executives were mostly positive about their levels of \\\\n\\\\nautonomy. In Norway executives perceived higher levels of autonomy in managerial issues such as \\\\n\\\\nhiring staff or organisational structure, as well as policy implementation. However, they felt they had \\\\n\\\\nlower autonomy in contracting out or choosing or designing policies. Estonian executives perceived a \\\\n\\\\nhigh degree of autonomy in making personnel decisions and implementing policy, but a much lower \\\\n\\\\nlevel in terms of structuring the organisation or contracting out services. This was similar in Hungary, \\\\n\\\\nwhere the lowest level of autonomy was felt in contracting out services, and the highest level in \\\\n\\\\nimplementing policies. Interestingly, in Germany executives felt they had more autonomy in \\\\n\\\\nchoosing and designing policies compared to implementing these policies. While their autonomy in \\\\n\\\\nchoosing and designing policies was perceived as significantly higher than average in the European \\\\n\\\\ncountries studied, their control over implementing the policies was actually lower (Hammerschmid \\\\n\\\\net al., 2013b).  \\\\n\\\\nIn France, in contrast, where perceptions of autonomy were below average, civil servants felt they \\\\n\\\\nhad very little autonomy over recruitment, budgeting decisions and, especially, getting rid of staff. \\\\n\\\\nOn the policy side, French executives felt little autonomy in deciding on public policy decisions, but \\\\n\\\\nmore autonomy in implementing them. Different groups of executives also felt different levels of \\\\n\\\\ncontrol. While agency directors reported a high level of autonomy, directors of inter-ministerial units \\\\n\\\\nat the d\\\\xe9partemental level felt they had little autonomy in most areas (Bezes and Jeannot, 2013).  \\\\n\\\\n\\\\n\\\\n10 \\\\n \\\\n\\\\nAutonomy was perceived as particularly low in Italy and Spain. In Spain, executives felt they had a \\\\n\\\\nlow level of autonomy almost across the board in both policy and managerial senses. Spanish results \\\\n\\\\nwere well below the European average in choosing and designing policies, implementing policies, \\\\n\\\\norganisational structures, contracting out, allocating budgets, and is particularly low in promoting, \\\\n\\\\nhiring or removing staff. Italian executives had little autonomy over managerial decisions such as \\\\n\\\\nhiring and di'\", \"b'2007 EGPA_paper1109.doc\\\\n\\\\n\\\\nSee discussions, stats, and author profiles for this publication at: https://www.researchgate.net/publication/253752502\\\\n\\\\nMotivation, Identification and Incentive Preferences as Issues for\\\\n\\\\nModernisation and HR Strategies in Local Government - First Evidence from\\\\n\\\\nAustria\\\\n\\\\nArticle\\\\n\\\\nCITATIONS\\\\n\\\\n7\\\\nREADS\\\\n\\\\n661\\\\n\\\\n3 authors, including:\\\\n\\\\nSome of the authors of this publication are also working on these related projects:\\\\n\\\\nTROPICO - Transforming into Open, Innovative and Collaborative Governments View project\\\\n\\\\nCOCOPS - Coordinating for Cohesion in the Public Sector of the Future View project\\\\n\\\\nIsabell Egger-Peitler\\\\n\\\\nWirtschaftsuniversit\\\\xe4t Wien\\\\n\\\\n11 PUBLICATIONS\\\\xa0\\\\xa0\\\\xa0185 CITATIONS\\\\xa0\\\\xa0\\\\xa0\\\\n\\\\nSEE PROFILE\\\\n\\\\nGerhard Hammerschmid\\\\n\\\\nHertie School of Governance\\\\n\\\\n53 PUBLICATIONS\\\\xa0\\\\xa0\\\\xa01,181 CITATIONS\\\\xa0\\\\xa0\\\\xa0\\\\n\\\\nSEE PROFILE\\\\n\\\\nAll content following this page was uploaded by Gerhard Hammerschmid on 08 September 2014.\\\\n\\\\nThe user has requested enhancement of the downloaded file.\\\\n\\\\nhttps://www.researchgate.net/publication/253752502_Motivation_Identification_and_Incentive_Preferences_as_Issues_for_Modernisation_and_HR_Strategies_in_Local_Government_-_First_Evidence_from_Austria?enrichId=rgreq-ea3c6484c2303f2cad18a35cdf058b0c-XXX&enrichSource=Y292ZXJQYWdlOzI1Mzc1MjUwMjtBUzoxMzkxMjMzOTAxNjA5MDNAMTQxMDE4MTAwOTg2Mw%3D%3D&el=1_x_2&_esc=publicationCoverPdf\\\\nhttps://www.researchgate.net/publication/253752502_Motivation_Identification_and_Incentive_Preferences_as_Issues_for_Modernisation_and_HR_Strategies_in_Local_Government_-_First_Evidence_from_Austria?enrichId=rgreq-ea3c6484c2303f2cad18a35cdf058b0c-XXX&enrichSource=Y292ZXJQYWdlOzI1Mzc1MjUwMjtBUzoxMzkxMjMzOTAxNjA5MDNAMTQxMDE4MTAwOTg2Mw%3D%3D&el=1_x_3&_esc=publicationCoverPdf\\\\nhttps://www.researchgate.net/project/TROPICO-Transforming-into-Open-Innovative-and-Collaborative-Governments?enrichId=rgreq-ea3c6484c2303f2cad18a35cdf058b0c-XXX&enrichSource=Y292ZXJQYWdlOzI1Mzc1MjUwMjtBUzoxMzkxMjMzOTAxNjA5MDNAMTQxMDE4MTAwOTg2Mw%3D%3D&el=1_x_9&_esc=publicationCoverPdf\\\\nhttps://www.researchgate.net/project/COCOPS-Coordinating-for-Cohesion-in-the-Public-Sector-of-the-Future?enrichId=rgreq-ea3c6484c2303f2cad18a35cdf058b0c-XXX&enrichSource=Y292ZXJQYWdlOzI1Mzc1MjUwMjtBUzoxMzkxMjMzOTAxNjA5MDNAMTQxMDE4MTAwOTg2Mw%3D%3D&el=1_x_9&_esc=publicationCoverPdf\\\\nhttps://www.researchgate.net/?enrichId=rgreq-ea3c6484c2303f2cad18a35cdf058b0c-XXX&enrichSource=Y292ZXJQYWdlOzI1Mzc1MjUwMjtBUzoxMzkxMjMzOTAxNjA5MDNAMTQxMDE4MTAwOTg2Mw%3D%3D&el=1_x_1&_esc=publicationCoverPdf\\\\nhttps://www.researchgate.net/profile/Isabell-Egger-Peitler?enrichId=rgreq-ea3c6484c2303f2cad18a35cdf058b0c-XXX&enrichSource=Y292ZXJQYWdlOzI1Mzc1MjUwMjtBUzoxMzkxMjMzOTAxNjA5MDNAMTQxMDE4MTAwOTg2Mw%3D%3D&el=1_x_4&_esc=publicationCoverPdf\\\\nhttps://www.researchgate.net/profile/Isabell-Egger-Peitler?enrichId=rgreq-ea3c6484c2303f2cad18a35cdf058b0c-XXX&enrichSource=Y292ZXJQYWdlOzI1Mzc1MjUwMjtBUzoxMzkxMjMzOTAxNjA5MDNAMTQxMDE4MTAwOTg2Mw%3D%3D&el=1_x_5&_esc=publicationCoverPdf\\\\nhttps://www.researchgate.net/institution/Wirtschaftsuniversitaet-Wien?enrichId=rgreq-ea3c6484c2303f2cad18a35cdf058b0c-XXX&enrichSource=Y292ZXJQYWdlOzI1Mzc1MjUwMjtBUzoxMzkxMjMzOTAxNjA5MDNAMTQxMDE4MTAwOTg2Mw%3D%3D&el=1_x_6&_esc=publicationCoverPdf\\\\nhttps://www.researchgate.net/profile/Isabell-Egger-Peitler?enrichId=rgreq-ea3c6484c2303f2cad18a35cdf058b0c-XXX&enrichSource=Y292ZXJQYWdlOzI1Mzc1MjUwMjtBUzoxMzkxMjMzOTAxNjA5MDNAMTQxMDE4MTAwOTg2Mw%3D%3D&el=1_x_7&_esc=publicationCoverPdf\\\\nhttps://www.researchgate.net/profile/Gerhard-Hammerschmid?enrichId=rgreq-ea3c6484c2303f2cad18a35cdf058b0c-XXX&enrichSource=Y292ZXJQYWdlOzI1Mzc1MjUwMjtBUzoxMzkxMjMzOTAxNjA5MDNAMTQxMDE4MTAwOTg2Mw%3D%3D&el=1_x_4&_esc=publicationCoverPdf\\\\nhttps://www.researchgate.net/profile/Gerhard-Hammerschmid?enrichId=rgreq-ea3c6484c2303f2cad18a35cdf058b0c-XXX&enrichSource=Y292ZXJQYWdlOzI1Mzc1MjUwMjtBUzoxMzkxMjMzOTAxNjA5MDNAMTQxMDE4MTAwOTg2Mw%3D%3D&el=1_x_5&_esc=publicationCoverPdf\\\\nhttps://www.researchgate.net/institution/Hertie_School_of_Governance?enrichId=rgreq-ea3c6484c2303f2cad18a35cdf058b0c-XXX&enrichSource=Y292ZXJQYWdlOzI1Mzc1MjUwMjtBUzoxMzkxMjMzOTAxNjA5MDNAMTQxMDE4MTAwOTg2Mw%3D%3D&el=1_x_6&_esc=publicationCoverPdf\\\\nhttps://www.researchgate.net/profile/Gerhard-Hammerschmid?enrichId=rgreq-ea3c6484c2303f2cad18a35cdf058b0c-XXX&enrichSource=Y292ZXJQYWdlOzI1Mzc1MjUwMjtBUzoxMzkxMjMzOTAxNjA5MDNAMTQxMDE4MTAwOTg2Mw%3D%3D&el=1_x_7&_esc=publicationCoverPdf\\\\nhttps://www.researchgate.net/profile/Gerhard-Hammerschmid?enrichId=rgreq-ea3c6484c2303f2cad18a35cdf058b0c-XXX&enrichSource=Y292ZXJQYWdlOzI1Mzc1MjUwMjtBUzoxMzkxMjMzOTAxNjA5MDNAMTQxMDE4MTAwOTg2Mw%3D%3D&el=1_x_10&_esc=publicationCoverPdf\\\\n\\\\n\\\\n \\\\n\\\\n \\\\n\\\\n \\\\n\\\\nMotivation, Identification and Incentive Preferences as Issues for \\\\n\\\\nModernisation and HR Strategies in Local Government   \\\\n\\\\nFirst Evidence from Austria \\\\n\\\\n \\\\n\\\\nIsabell Egger-Peitler, Gerhard Hammerschmid and Renate Meyer \\\\n\\\\nWirtschaftsuniversit\\\\xe4t Wien \\\\n\\\\n \\\\n \\\\n\\\\nAbstract \\\\n \\\\nWhereas in many countries and contexts questions of public service motivation and ethos have \\\\nincreasingly been topic of empirical studies a noticeable lack of such research in German speaking \\\\ncountries with their specific legalistic Rechtsstaattradition can be observed. Although there exists a \\\\nresearch tradition on civil service motivation and a specific Beamtenethos (Ellwein/Zoll 1973; \\\\nLuhmann/Mayntz 1973; Bosetzky 1988) in recent time this research has not been continued. Little \\\\nattention has been paid to the effects of recent efforts and initiatives to implement management \\\\nconcepts and instruments on the perceptions, values and job satisfaction of public sector employees. \\\\n \\\\nIn our paper we will pick-up this research deficit by transferring and translating the concept of public \\\\nsector motivation to public administration in a German-speaking context. We will thereby focus on \\\\nlocal government level which in German speaking countries is often argued as being at the forefront of \\\\nimplementing NPM-influenced reforms (Neues Steuerungsmodell). We will present first results from \\\\na current public management research project based on a broad questionnaire survey in the City of \\\\nVienna covering departments from quite different policy fields and a sample of several thousand \\\\nemployees.1 Vienna traditionally features typical characteristics of a legalistic Rechtsstaat \\\\nadministration with a strong procedural logic but during the last years has also became exposed to \\\\nadministrative reform initiatives along the ideas of new public management (Theimer 1999). \\\\n \\\\nOur research will focus on the question which specific dimensions and characteristics of public service \\\\nmotivation and value preferences can be observed and how these differ according to various \\\\ncontextual factors (eg. size of unit, policy field, type of activity) and personal factors (eg. age, duration \\\\nof employment, private sector experience, education, gender).  \\\\n \\\\nIn our analysis we also will link the concept of public service motivation as independent variable to \\\\nvarious issues of HRM and public management reform. Our survey includes questions on \\\\nidentification, job satisfaction and incentive preferences (intrinsic vs. extrinsic; various types of \\\\nincentives) as well as the assessment of public management reforms and various types of \\\\nmanagement instruments. We are interested how far a specific public sector motivation correlates with \\\\npreferences for specific incentives and the respondents\\\\xb4 assessment of various HRM measures and \\\\nmanagement instruments.  \\\\n \\\\n \\\\n \\\\n\\\\n                                                 \\\\n1  The proposed paper forms part of a research project Public Service Motivation  Characteristics of \\\\n\\\\nmotivation in public administration and opportunities for improving incentives in public managment, \\\\nfunded by the Jubil\\\\xe4umsfonds der Stadt Wien. \\\\n\\\\n\\\\n\\\\nEgger-Peitler/Hammerschmid/Meyer: EGPA 2007 page 2 \\\\n\\\\n1. Introduction \\\\n\\\\n \\\\n\\\\nDiscussions and research on public sector ethics, motivation and identity have gained \\\\n\\\\nincreasing attraction during the last decade (eg. Perry 1996; Pratchett/Wingfield 1996; \\\\n\\\\nNeedham 2006; Vandenabeele/Scheepers/Hondeghem 2006; Hammerschmid/Meyer 2006; \\\\n\\\\nAckroyd/Kirckpatrick/Walker 2007). In this context, the concept of Public Service Motivation \\\\n\\\\n(PSM) was developed in the US by Perry and Wise (1990) and orginally defined as an \\\\n\\\\nindividuals predisposition to respond to motives grounded primarily or uniquely in public \\\\n\\\\ninstitutions and organizations. Other authors followed in their footsteps but used their own \\\\n\\\\ndefinitions. For instance, Brewer and Selden (1998) describe PSM as the motivational force \\\\n\\\\nthat induces individuals to perform meaningful public service. Rainey and Steinbauer (1999) \\\\n\\\\ncharacterize PSM as a general altruistic motivation to serve the interests of a community of \\\\n\\\\npeople, a state, a nation or humankind. In addition, although Perrys model is specifically \\\\n\\\\noriented towards the United States, PSM is not an US-American model only  it is a model \\\\n\\\\nthat is also found in the European region, but under different names and appearances as \\\\n\\\\nseveral other researchers analyze public service motivated behavior without drawing on the \\\\n\\\\nterm at all. Especially European authors use notions like public service ethos \\\\n\\\\n(Pratchett/Wingfield 1996; Vandenabeele/Horton 2006) or l\\\\xe9thique du bien commun \\\\n\\\\n(Chanlat 2003).  \\\\n\\\\n \\\\n\\\\nDespite conceptual discussions PSM has gained increasing popularity during the last years \\\\n\\\\nand has been applied in empirical studies in different countries (Kim 2005; Camilleri 2006; \\\\n\\\\nCastaing 2006; Vandenbabeele 2006). Several studies have used PSM both as dependent \\\\n\\\\nand independent variable and examined the relationship between public service motivation \\\\n\\\\nand job satisfaction (Naff/Crum 1999), organizational commitment (Crewson, 1997), \\\\n\\\\nemployee performance (Alonso/Lewis 2001; Frank/Lewis 2004) or organizational \\\\n\\\\nperformance (Brewer/Selden, 2000; Kim, 2005). Members with high levels of PSM appear to \\\\n\\\\npositively contribute in various ways: They are more willing to engage in whistle blowing to \\\\n\\\\nprotect the public interest (Brewer/Selden 1998); they exhibit higher levels of organizational \\\\n\\\\ncommitment (Crewson 1997); they believe that their jobs are important, which in turn leads to \\\\n\\\\nemployees working harder (Wright, 2003); they are more likely to be high performers, enjoy \\\\n\\\\nhigher job satisfaction and are less likely to leave their jobs (Naff/Crum 1999). Overall, \\\\n\\\\nresearch so far identifies PSM as a central issue for modernisation and HR strategies. \\\\n\\\\n \\\\n\\\\nConcepts of identity, ethics and motivation have an important cultural dimension and cannot \\\\n\\\\neasily be transferred from one socio-historical context to the next. Together with its \\\\n\\\\nincreasing empirical application within research designs, questions of national differences in \\\\n\\\\npublic sector motivation and the appropriateness and relevance of Perrys conceptualization \\\\n\\\\n\\\\n\\\\nEgger-Peitler/Hammerschmid/Meyer: EGPA 2007 page 3 \\\\n\\\\nof PSM outside the US came to the fore. Recent research (eg. \\\\n\\\\nVandenabeele/Scheepers/Hondeghem 2006) holds that there are marked differences in \\\\n\\\\npublic service motivation in different countries and that the phenomenon needs further \\\\n\\\\nresearch in a cross cultural context.  \\\\n\\\\nIn order to overcome the problem of regional differences some authors prefer definitions \\\\n\\\\nwhich not only cover PSM in the narrow sense, but also other types of value laden behavioral \\\\n\\\\ndeterminants. For instance Vandenabeele (2006) describes PSM as the belief, values and \\\\n\\\\nattitudes that go beyond self-interest and organizational interest, that concern the interest of \\\\n\\\\na larger political entity and that motivate individuals to act accordingly whenever appropriate, \\\\n\\\\na definition that, according to Steijn (2006) mixes up work values with more general values \\\\n\\\\n(e.g. religion) that have to be seen separately as antecedents of work values. Recent \\\\n\\\\npublications equally based on the initial definition by Perry and Wise (1990) (e.g. \\\\n\\\\nMoynihan/Pandey 2007; Wright/Pandey 2005; Steijn 2006) \\\\n\\\\n \\\\n\\\\nIn our research design, we draw on the original conceptualization by Perry and Wise (1990). \\\\n\\\\nThey argue that the motivation to act in a specific way must not regarded as merely a rational \\\\n\\\\ncalculation of costs and benefits, but rather as an interplay of rational, normative and \\\\n\\\\naffective motives. Some individuals are highly attracted to public service work based on a \\\\n\\\\ndistinct configuration of all three categories. The PSM constructs validity has been confirmed \\\\n\\\\nin various studies (Brewer, Selden and Facer 2000; Coursey and Pandey 2004; Perry 1996; \\\\n\\\\n1997). Support for PSM was also found in cross-sector comparisons. Rainey (1982) found \\\\n\\\\nthat public and private managers showed significant differences in their perceptions of the \\\\n\\\\nimportance of different types of rewards. In contrast to private managers, public managers \\\\n\\\\nregarded public service and work that is helpful to others as important, while higher pay, \\\\n\\\\nstatus and prestige were less important. Wittmer (1991) came to similar conclusions in his \\\\n\\\\nexamination of reward preferences for government, hybrid and business sector managers. \\\\n\\\\n \\\\n\\\\nPSM is understood as a multidimensional construct. In a series of studies, Perry (1996, \\\\n\\\\n1997) developed a 24 item measure of PSM consisting of the 4 distinct dimensions: \\\\n\\\\nattraction to public policy making, commitment to the public interest, compassion and self-\\\\n\\\\nsacrifice. Perry derives these dimensions theoretically from Knoke and Wright-Isaks (1982) \\\\n\\\\nanalytical distinction of the three categories of motives mentioned above. Attraction to public \\\\n\\\\npolicy making falls in the category of rational motives, which involves actions grounded in \\\\n\\\\nindividual utility maximization. Participation in public policy making can be undertaken with a \\\\n\\\\nview to reinforcing ones image of self-importance. Commitment to the public interest falls in \\\\n\\\\nthe category of norm-based motives. Self-sacrifice falls in the category of affective motives; it \\\\n\\\\nrefers to the willingness to help others because one is moved emotionally by observing these \\\\n\\\\nothers in distress and irrespective of personal rewards. Compassion can be understood \\\\n\\\\n\\\\n\\\\nEgger-Peitler/Hammerschmid/Meyer: EGPA 2007 page 4 \\\\n\\\\neither as a normative or as an affective type of motive, but Perry tends to classify this as an \\\\n\\\\nemotional state.  \\\\n\\\\n \\\\n\\\\nThe four different dimensions of PSM are measured by a multiple item scale. However, the \\\\n\\\\ncomplete 24 item measure of PSM developed by Perry has only been used by very few \\\\n\\\\nsubsequent studies (e.g. Bright 2005), a fact that considerably impairs comparisons across \\\\n\\\\ndifferent empirical studies. Another aspect that in our opinion needs more attention is the \\\\n\\\\naggregation of the different dimensions into some kind of overall PSM. Perry (1996) \\\\n\\\\noriginally suggested that each dimension captures a distinct and potentially unique form of \\\\n\\\\nPSM that should be studied independently and his follow-up study (1997) supported the \\\\n\\\\ndistinctiveness of the different dimensions. Contrary to this, many recent studies using a \\\\n\\\\nsubset of PSM questions use an overall PSM score by summing up or averaging the \\\\n\\\\nmeasures of each dimension rather than studying the effects of each dimensions separately \\\\n\\\\n(eg. Brewer/Selden 2000; Camilleri 2006; Moynihan/Pandey 2007). Especially in socio-\\\\n\\\\nhistorical contexts in which the four dimensions are counter-directional, the interpretability of \\\\n\\\\nthis overall score is questionable.  \\\\n\\\\n \\\\n\\\\nWhereas in many countries and contexts questions of public service motivation and ethos \\\\n\\\\nhave increasingly been the topic of empirical studies, we observe a lack of such research in \\\\n\\\\nGerman speaking countries with their specific legalistic Rechtsstaattradition. Although there \\\\n\\\\nhas been a research tradition on civil service motivation and a specific Beamtenethos \\\\n\\\\n(Ellwein/Zoll 1973; Luhmann/Mayntz 1973; Bosetzky 1988), in recent years this field has not \\\\n\\\\nbeen followed up. Little attention has been paid to the effects of recent efforts and initiatives \\\\n\\\\nto implement management concepts and instruments on the perceptions, values and job \\\\n\\\\nsatisfaction of public sector employees. In our paper we will pick-up this research deficit by \\\\n\\\\ntransferring and translating the concept of public sector motivation to public administration in \\\\n\\\\na German-speaking research context. We will focus on the local government level which, in \\\\n\\\\nGerman speaking countries, is often argued as being at the forefront of implementing NPM-\\\\n\\\\ninfluenced reforms (Neues Steuerungsmodell). We will present first results from a current \\\\n\\\\npublic management research project based on a broad questionnaire survey in the City of \\\\n\\\\nVienna covering departments from quite different policy fields and a sample of 1.652 public \\\\n\\\\nsector employees.2 Vienna traditionally features typical characteristics of a legalistic \\\\n\\\\nRechtsstaat administration with a strong procedural logic but has, during the last years, \\\\n\\\\nbecome exposed to administrative reform initiatives along the ideas of NPM (Theimer 1999). \\\\n\\\\nVienna has also a reputation of being one of the wealthiest regions in Europe providing a \\\\n\\\\n                                                 \\\\n2  The proposed paper is part of a research project Public Service Motivation  Characteristics of \\\\n\\\\nmotivation in public administration and opportunities for improving incentives in public \\\\nmanagement, funded by the Jubil\\\\xe4umsfonds der Stadt Wien. \\\\n\\\\n\\\\n\\\\nEgger-Peitler/Hammerschmid/Meyer: EGPA 2007 page 5 \\\\n\\\\nhigh quality of life. In the 2005 worldwide quality of life survey by Mercer, based on a survey \\\\n\\\\nof 219 international cities, Vienna was ranked as the city with the highest quality of life within \\\\n\\\\nthe European Union.  \\\\n\\\\n \\\\n\\\\nOur research will focus on the question which specific dimensions and characteristics of \\\\n\\\\npublic service motivation and value preferences can be observed for this specific context and \\\\n\\\\nhow these differ according to various contextual factors (eg. size of unit, policy field, type of \\\\n\\\\nactivity) and personal factors (eg. age, duration of employment, private sector experience, \\\\n\\\\neducation, gender). In our analysis, we also will link the concept of public service motivation \\\\n\\\\nto various issues of HRM and public management reform. Our survey includes questions on \\\\n\\\\nidentification, job satisfaction and incentive preferences (intrinsic vs. extrinsic; various types \\\\n\\\\nof incentives) as well as the assessment of public management reforms and various types of \\\\n\\\\nmanagement instruments. We are interested in how far a specific public sector motivation \\\\n\\\\ncorrelates with preferences for specific incentives and the respondents\\\\xb4 assessment of \\\\n\\\\nvarious HRM measures and management instruments. Of particular interest will be the \\\\n\\\\nquestion if the different dimensions of PSM show similar or significantly different relationships \\\\n\\\\nwith these factors  indicating the need for keeping them separate  or if an aggregation to \\\\n\\\\nan overall PSM is a viable research strategy. \\\\n\\\\n \\\\n\\\\nAs the data collection has only recently been finished, we can only present very preliminary \\\\n\\\\nresults in this early stage of our research. In this paper, we will therefore confine the statistics \\\\n\\\\nto descriptive results and first tentative correlations. More complex regression analyses to \\\\n\\\\nexplain the influence of several independent variables on the PSM dimensions will be carried \\\\n\\\\nout in a next step.  \\\\n\\\\n \\\\n\\\\n \\\\n\\\\n2. Features of Public Administration in Austria/Vienna \\\\n\\\\n \\\\n\\\\nAs all organizational practices are influenced by socially construed rule sets which have \\\\n\\\\npath-dependent histories (eg. Scott 2001), institutional embeddedness of managerial work \\\\n\\\\nshould attract further scholarly attention and highlight the need for country-specific data \\\\n\\\\n(Noordegraaf/Stewart 2000). Similarly, public management literature regularly stresses the \\\\n\\\\nrelevance of contextual factors such as polity characteristics, legal frameworks or \\\\n\\\\nadministrative culture for understanding public sector change (eg. Pollitt/Bouckaert 2004). In \\\\n\\\\nour study, we focus on Austria, a country described by Naschold (1996) as home of \\\\n\\\\nlegalistic administration, and, more specifically, on the City of Vienna. As this is the first time \\\\n\\\\nthat the concept of PSM is applied to a German-speaking public administration, we believe it \\\\n\\\\nis necessary to briefly discuss the suitability of the concept for this specific context. \\\\n\\\\n\\\\n\\\\nEgger-Peitler/Hammerschmid/Meyer: EGPA 2007 page 6 \\\\n\\\\n \\\\n\\\\nSimilar to Germany, the institutional logic (Alford/Friedland 1991) of the Austrian public \\\\n\\\\nadministration is characterized by an overriding legalistic Rechtsstaat approach \\\\n\\\\n(Meyer/Hammerschmid 2006). Grounded in the still influential pure theory of law by Hans \\\\n\\\\nKelsen, the father of Austrias first Constitution in 1920, and in Max Webers (1968) rational-\\\\n\\\\nlegal form of authority, the idea of a sovereign bound by rules that are established in a \\\\n\\\\ndemocratic forum, stable against political turmoil and applied in a fair and equal manner by \\\\n\\\\npolitically neutral and independent administrators is central for the Austrian Rechtsstaat \\\\n\\\\nunderstanding (Ziller, 2003). Flexibility is strongly impaired by constitutional principles such \\\\n\\\\nas a principle of directives, a principle of legality and dense regulations. As a consequence, \\\\n\\\\ntraditional Austrian public administration is characterised by a strong emphasis on \\\\n\\\\nprocesses, rules and directives together with a relatively high amount of informality and a \\\\n\\\\nprimarily internal orientation (departmental patriotism) as described by Crozier (1964). In this \\\\n\\\\nlogic, legal and procedural correctness prevails over performance and results. Although \\\\n\\\\nthese features are common to Rechtsstaattradition, Naschold (1996, p. 43) labelled Austria \\\\n\\\\nthe home of legalistic administration. Welan (1996) describes the Austrian system as a \\\\n\\\\nrepublic of mandarines with a tradition of autocratic-hierarchical administration through civil \\\\n\\\\nservants with tenure as guarantor of the Rechtsstaat. The picture drawn shows a law-abiding \\\\n\\\\nand objective civil servant with a great sense of duty combining expertise, stability and \\\\n\\\\ncontinuity with a special professional ethos as bearer of state sovereignty.  \\\\n\\\\n \\\\n\\\\nIn Austria, elements of a professional identity can be traced to different forms of expertise \\\\n\\\\ndrawing on distinctive bodies of knowledge (eg. in health, education, infrastructure, social \\\\n\\\\nsecurity) but especially to the legal profession. The latters central role is manifest in the \\\\n\\\\nmajority of public executives having a background in legal studies and the strong legal focus \\\\n\\\\nof the training system. The public employment system is shaped by detailed regulations \\\\n\\\\nresulting in a relatively strict differentiation from private sector employment with only little \\\\n\\\\nintersectoral mobility. Within legalistic systems such as Austria or Germany, administrative \\\\n\\\\nscientists (eg Mayntz, 1997; Welan, 1996) observe a specific professional ethos of civil \\\\n\\\\nservants, the Berufsbeamtentum, that is legitimized by the specific duty relation to the state \\\\n\\\\nand the sovereign character of public tasks. The resulting Beamtenethos (for Germany see \\\\n\\\\nEllwein/Zoll 1973; Luhmann/Mayntz 1973; Bosetzky 1988) includes core elements of the civil \\\\n\\\\nservants identity and revolves around ideas of neutrality and impartiality towards sovereign \\\\n\\\\nand citizen, legality of action, continuity against political changes, a great sense of duty \\\\n\\\\ncombined with administrative expertise, equity and office secrecy, public interest, and the \\\\n\\\\nbalancing of disparate societal interests (Meyer/Hammerschmid 2006). Features such as life-\\\\n\\\\ntime tenure and status protection including closed career paths with promotion based on \\\\n\\\\nseniority that entail the sectoral closeness are regarded as necessity to guarantee this ethos.  \\\\n\\\\n\\\\n\\\\nEgger-Peitler/Hammerschmid/Meyer: EGPA 2007 page 7 \\\\n\\\\n \\\\n\\\\nThese general features of public sector logic and identity equally run through all levels of \\\\n\\\\nadministration and are, thus, also characteristic for the City of Vienna administration. The \\\\n\\\\nCity of Vienna is the capital of the Republic of Austria and with 1.65 million inhabitants the \\\\n\\\\ncountrys biggest city by far and its governance system is characterised by specific features. \\\\n\\\\nVienna takes a unique position in Austria as it is both city and federal state anchored in the \\\\n\\\\nAustrian Federal Constitution (B-VG art. 108-112). As a federal state, Vienna is entitled to its \\\\n\\\\nown legislation (in the hands of the City Council) and state executive body giving it \\\\n\\\\nconsiderably wider power compared to other municipalities. Due to its twin role as state and \\\\n\\\\ncity but also due to some historical reasons and to its function as capital city, Viennas state \\\\n\\\\napparatus is characterized by its large size, the execution of a broad variety of functions and \\\\n\\\\na high complexity of its governance system. In 2004, the City of Vienna had 65,637 \\\\n\\\\nemployees (with a slightly decreasing trend; source: Statistik Austria 2004) and further \\\\n\\\\n45,000 employees in corporatised enterprises.  \\\\n\\\\n \\\\n\\\\nA specific feature of Vienna with considerable impact on administration is the political \\\\n\\\\npredominance of one party, the Austrian Social Democratic Party (SP\\\\xd6). Between 1919 and \\\\n\\\\n1934  a period often labelled as Red Vienna  the ruling SP\\\\xd6 shaped the City of Vienna in \\\\n\\\\na far-reaching way. This era  with Vienna being the first city worldwide with a population of a \\\\n\\\\nmillion people governed by a social-democratic government  was coined by a political \\\\n\\\\nprogram with subsidized housings, culture policy as means to national education and a \\\\n\\\\ncapacious social policy as main columns. The local social democratic administration \\\\n\\\\nintroduced various elements of a local welfare system arranged in a type of top-down mode \\\\n\\\\nof government which is seen to have achieved important improvements for the working class. \\\\n\\\\nBased on this legacy, the City of Vienna is still owner of approx. 220,000 municipal flats \\\\n\\\\ntoday. After WW II, the SP\\\\xd6 held  interrupted by only a few years in coalition with the \\\\n\\\\nConservative Party at the end of the 1990ies  the absolute majority in the Vienna Council. \\\\n\\\\nAs Ulram already outlined in 1978, such a long-term dominance of one political party leads to \\\\n\\\\na complex linkage between local government and political and private actors. In this sense, \\\\n\\\\nVienna has been described as a flagship of a corporatist form of social democratic urban \\\\n\\\\ngovernance (Novy et al. 2001, 131).  \\\\n\\\\n \\\\n\\\\nVienna is responsible for a broad spectrum of tasks in the areas of education, social affairs, \\\\n\\\\ntrade and commerce, citizenship and registration, environmental protection or veterinary \\\\n\\\\naffairs. The employment of about 10,000 state teachers in Vienna falls under these \\\\n\\\\ncompetencies. In addition, Vienna City Administration is responsible for a broad spectrum of \\\\n\\\\ntypical city administration functions related to urban development, traffic and transport, \\\\n\\\\nhospitals, sports and culture, waste management, public utilities, water management or \\\\n\\\\n\\\\n\\\\nEgger-Peitler/Hammerschmid/Meyer: EGPA 2007 page 8 \\\\n\\\\nhousing. City Administration is composed of currently 60 municipal departments \\\\n\\\\n(Magistratsabteilungen, MAs) and 18 regional district offices, the latter being responsible for \\\\n\\\\nthe district competencies along the Austrian system of indirect federal administration.3 The \\\\n\\\\nvarious departments and units have developed quite distinct corporate identities, often \\\\n\\\\nreflecting a strong professional status within their specific policy field \\\\n\\\\n(Astleithner/Hamedinger 2003). After decades, Viennas corporatist hierarchical governance \\\\n\\\\nsystem has recently been supplemented by more liberal and participatory models in line with \\\\n\\\\npolitical restructuring in other EU countries (eg. Novy et. al. 2001; Astleithner/Hamedinger \\\\n\\\\n2003). During the late 1990ies, the City Administration became exposed to management \\\\n\\\\nreform initiatives along the ideas of NPM. Similar to federal administration and in accordance \\\\n\\\\nwith international trends, in order to promote the spirit of an entrepreneurial city, large \\\\n\\\\ncorporatisations were carried out. In addition, according to an administrative modernisation \\\\n\\\\nprogram led by the CEO, the City Administrations self-understanding refers to a large \\\\n\\\\nservice company with a focus on citizens as customers, efficiency criteria and the \\\\n\\\\nintroduction of new management instruments such as controlling, contract management and \\\\n\\\\nstrategic planning (Theimer 1999).  \\\\n\\\\n \\\\n\\\\nThe concept of PSM stands in an interesting relationship to the features and developments \\\\n\\\\ndecribed above: While the classical Beamtenethos would point into the direction of a high \\\\n\\\\npublic interest, the political neutrality required from public servants would make a relatively \\\\n\\\\nlow motivation in policy making expectable. On the other hand, the new entrepreneurial or \\\\n\\\\nmanagerial spirit stands in clear opposition to both, the traditional Beamtenethos and self \\\\n\\\\nsacrifice and compassion, and redefines the relation of public servants and polity. In our \\\\n\\\\nresearch, we are interested to what extent the features of the Viennese system and \\\\n\\\\nadministration (social democratic influence, legal-Rechtsstaat tradition, hierarchical culture \\\\n\\\\netc.) have influence on the various dimensions of PSM as well as HRM and public sector \\\\n\\\\nreform in general. In addition, we are interested whether we can observe a new \\\\n\\\\nmanagerialist logic starting to prevail over other values and motivations. \\\\n\\\\n \\\\n\\\\n                                                 \\\\n3  Federal tasks  according to the Constitution (B-VG art. 102) are either carried out by federal authorities \\\\n\\\\nestablished for that purpose or are referred to authorities at the state and the municipal level, then called \\\\nindirect federal administration which can be regarded as classic case of decentralisation.  \\\\n\\\\n\\\\n\\\\nEgger-Peitler/Hammerschmid/Meyer: EGPA 2007 page 9 \\\\n\\\\n3. Data and Method \\\\n\\\\n \\\\n\\\\nSample. This study is based on a questionnaire that was sent by mail to 5,695 employees of \\\\n\\\\n14 City departments (MAs) as well one autonomous unit (Betrieb mit eigenem \\\\n\\\\nRechnungskreis) occupying all administrative grades and job types. In addition, the \\\\n\\\\nquestionnaire was also sent in paper form to all kindergartens in Vienna. The selection was \\\\n\\\\nbased on several criteria: different policy fields (cultural, infrastructural, social and regulative \\\\n\\\\ntasks), internal vs. external services; core departments and semi-autonomous units. The \\\\n\\\\nquestionnaire included 67 (open and closed) questions covering the general attitude towards \\\\n\\\\npublic services (including the PSM questions), job satisfaction and incentives, management \\\\n\\\\ninstruments and public administration modernisation and asked for personal background \\\\n\\\\ninformation. The questionnaire was pre-tested with 20 lower-level executives. Prior to the \\\\n\\\\nactual survey, the employees of the above mentioned 14 City departments received an e-\\\\n\\\\nmail message from their executive informing them of the study and encouraging their \\\\n\\\\nparticipation. The employees were authorised to complete the questionnaire during office \\\\n\\\\nworking hours. The data were automatically written to a database (SPSS 13.0) after the \\\\n\\\\nsurvey was completed or, for the questionnaires that were returned in printed form  \\\\n\\\\nmanually added to the database.  \\\\n\\\\n \\\\n\\\\nWith 1,417 respondents, the response rate from the above mentioned sample was \\\\n\\\\napproximately 25%. For the area of Kindergartens only questionnaires from persons with \\\\n\\\\nexecutive functions (n=235) were included which leads to an overall sample of 1.652 \\\\n\\\\nrespondents. Although the study covers the Austrian public sector on a reasonably broad \\\\n\\\\nscale, the findings do not constitute a representative study of the whole City of Vienna. The \\\\n\\\\nnumber of respondents also varies considerably between the different questions as not all \\\\n\\\\nrespondents did fill out all questions. \\\\n\\\\n \\\\n\\\\nThe sample consists of 56.4% female and 43.6% male respondents. 46.6% are older than 45 \\\\n\\\\nyears (vs. 20.6% younger than 34 years) in accordance with a generally relatively mature \\\\n\\\\nlabour force in the Austrian public sector. Regarding family status, a majority of 73.6% lives \\\\n\\\\nin a partnership (thereof 49.5% with children) and 20.5% are singles. Concerning the \\\\n\\\\neducational background, a majority of the public executives in our sample has a low (27.5%) \\\\n\\\\nor middle (43.0%) level education degree whereas only 12.7% have a university degree. \\\\n\\\\n23.2% of the respondents are working in an honorary capacity and 25.6% are member of a \\\\n\\\\npolitical party. With regard to the length of employment, 48.3% have been working in the \\\\n\\\\npublic sector for more than 20 years. Only 11.3% are relatively new with a maximum of five \\\\n\\\\nyears of employment. 34.4% can refer to an employment in the private sector of more than '\", \"b'The Governance of Infrastructure \\\\n\\\\n \\\\n\\\\nEdited by Kai Wegrich, Genia Kostka, and Gerhard Hammerschmid \\\\n\\\\nPublished by Oxford University Press, Oxford, 2017 \\\\n\\\\nChapter Abstracts \\\\n\\\\n1. The Challenges of Infrastructure: Complexity, (Ir)rationalities, and the Search for Better \\\\n\\\\nGovernance \\\\n\\\\nKai Wegrich, Gerhard Hammerschmid, and Genia Kostka \\\\n\\\\nThis chapter introduces the key challenges of infrastructure governance, in particular the complexity, \\\\n\\\\nuncertainty, and ambiguity inherent to this field and the multiple rationalities that come with those \\\\n\\\\nissues. The chapter places the volume and its contributions into the context of both the discussion \\\\n\\\\nabout infrastructure governancehow it works, what goes wrong and how to improve itand into \\\\n\\\\nthe wider literature on governance. It stresses the need and relevance of a perspective that takes the \\\\n\\\\ninsights of decades of governance research seriously, in particular the limits to simple, seemingly \\\\n\\\\nrational solutions to complex problems and the implications of diverse actor constellations that \\\\n\\\\nshape the field of infrastructure governance. \\\\n\\\\n \\\\n\\\\nPart I. Theoretical Perspectives \\\\n\\\\n2. Infrastructure Governance as Political Choice \\\\n\\\\nKai Wegrich and Gerhard Hammerschmid \\\\n\\\\nThis chapter explores political decision-making relating to infrastructure investments in light of the \\\\n\\\\nrecent trends towards establishing independent expert bodies to guide this process. The chapter \\\\n\\\\nargues that the complexity of infrastructure governance leads to patterns of decision-making shaped \\\\n\\\\nby mechanisms of bounded rationality and selective perception. Drawing on the concept of political \\\\n\\\\nchoice, it also shows that current debates about such independent expert bodies too often seek to \\\\n\\\\nreplace the political logic with a technocratic one, instead of exploring ways to increase the \\\\n\\\\nintelligence of inherently political processes. Institutional design debates suffer from naive \\\\n\\\\ninstitutionalism overestimating the effects of formal institutional changes and ignoring the role of \\\\n\\\\ninformal political dynamics. Overall, the institutional design debate in infrastructure governance \\\\n\\\\nshould be more reflective and consider experiences with institutional reforms and attempts to \\\\n\\\\ndepoliticise the policy process with tools of rational analysis.  \\\\n\\\\n \\\\n\\\\n3. Accountability Challenges in the Governance of Infrastructure \\\\n\\\\nJacint Jordana \\\\n\\\\nUnder what conditions will policy-makers be more likely to opt for additional social accountability \\\\n\\\\nmechanisms in order to increase legitimacy, thereby assuming the risk that their projected public \\\\n\\\\ninvestment may incur significant modifications or even a reversal? This chapter suggests that when \\\\n\\\\ntime is the main concern, policy-makers will try to establish accountability mechanisms in order to \\\\n\\\\nimprove transparency and increase information available to the public. When the main concerns are \\\\n\\\\npotential impacts of infrastructure on a territory and further externalities, typical social \\\\n\\\\naccountability mechanisms will tend to focus on facilitating negotiations and mutual exchanges of \\\\n\\\\nviews, or at the very least providing information to those concerned. However, in most cases, \\\\n\\\\nsignificant effort to translate technical arguments into debates about social risks and dilemmas and \\\\n\\\\nto involve the acceptance of a new layer of uncertainty in the policy-making process is required. \\\\n\\\\n\\\\n\\\\n4. Infrastructure and the Principle of the Hiding Hand \\\\n\\\\nHelmut K. Anheier \\\\n\\\\nIntroduced by Albert O. Hirschman in the 1960s to describe development programmes at the time, \\\\n\\\\nthe principle of the Hiding Hand describes the systematic discrepancy between what proponents \\\\n\\\\npropose when seeking permission for projects and what processes actually lead to certain outcomes. \\\\n\\\\nThis chapter explores the recent renaissance of the principle and elaborates on its distinctness \\\\n\\\\namong related concepts in (organisational) sociology, organisational psychology, and economics. By \\\\n\\\\nexamining multiple combinations of two critical dimensions in infrastructure planningestimation of \\\\n\\\\ncomplexity and overall awareness of plannersa typology of four Hands is proposed: the Hiding \\\\n\\\\nHand, the Protecting Hand, the Malevolent Hand, and the Passive Hand. Each Hand is associated with \\\\n\\\\nadvantages leading to potential benefits, as well as disadvantages leading to potentially detrimental \\\\n\\\\noutcomes and unintended consequences. The Hiding Hand is offered as an argument in support of \\\\n\\\\ninfrastructure planning beyond purely rationalist approaches. \\\\n\\\\n \\\\n\\\\nPart II. Delivering Infrastructure \\\\n\\\\n5. Risk Management for Megaprojects \\\\n\\\\nWerner Rothengatter \\\\n\\\\nMegaprojects are characterised by technological, economic, aesthetic, or political sublimes such \\\\n\\\\nthat they appear to be unique for a region or even for a country. High political and private ambition \\\\n\\\\nhas encouraged decision-makers in the past to take decisions without considering risk carefully. Risk \\\\n\\\\nmanagement is not an isolated activity performed once in the life of a megaproject but rather a \\\\n\\\\ncontinuous process in project management. This chapter addresses all phases of the life cycle of a \\\\n\\\\nmegaproject to elaborate the lever points for effective risk management. From a scientific point of \\\\n\\\\nview, it is important not only to apply promising methods that have been developed in graph theory \\\\n\\\\nor statistics but also to focus on the optimisation of information processes by developing appropriate \\\\n\\\\ninstruments. Critical tasks of risk or change management require reliable information inputs and fast \\\\n\\\\nsimulations for estimating technical, economic, and financial impacts of risk mitigating actions. \\\\n\\\\n \\\\n\\\\n6. Public-private Partnership: A Framework for Private Sector Involvement in Public \\\\n\\\\nInfrastructure Projects \\\\n\\\\nCarlos Oliveira Cruz and Nuno F. da Cruz \\\\n\\\\nThe discussion around public versus private delivery of key infrastructure projects has been marked \\\\n\\\\nby several twists and turns over the years and across jurisdictions. In the never-ending cycle of \\\\n\\\\n(re)nationalisations and (re)privatisations the current setting seems to call for some degree of \\\\n\\\\ninvolvement of private actors in public infrastructure projects. This chapter discusses the reasons \\\\n\\\\nbehind this tendency and the typical nature of this involvement, usually operationalised through \\\\n\\\\npublic-private partnership (PPP) arrangements. On the basis of available research and international \\\\n\\\\nevidence, it is argued that the promise of PPPs falls short in terms of actual outcomes. Although \\\\n\\\\noften times the causes for disappointing results lie with unfit motives for taking on the PPP route, \\\\n\\\\nmany of the intrinsic features of these arrangements make them particularly susceptible to damaging \\\\n\\\\nthe public interestparticularly for governments lacking the capacity to be effective monitors and \\\\n\\\\nenforcers of complex contracts. \\\\n\\\\n \\\\n\\\\n\\\\n\\\\n7. Scale, Risk, and Construction Cost Overruns for Electricity Infrastructure: Governance and \\\\n\\\\nPolicy Implications \\\\n\\\\nBenjamin K. Sovacool, Autumn Proudlove, and Nathaniel Green \\\\n\\\\nThis chapter focuses on a topic of growing importance to infrastructure governance: cost overruns, \\\\n\\\\nwhen a project ends up exceeding its anticipated budget. This chapter presents the results of a linear \\\\n\\\\nregression analysis of the construction costs involved with 401 electricity infrastructure projects built \\\\n\\\\nbetween 1936 and 2014 in 57 countries. Included in this sample are dozens of hydroelectric dams, \\\\n\\\\nnuclear reactors, thermoelectric power plants, utility-scale solar facilities, wind farms, and \\\\n\\\\ntransmission projects that collectively required more than $800 billion of investment and constituted \\\\n\\\\nmore than 325,000 megawatts of capacity.  The chapter shows that larger projects such as \\\\n\\\\nhydroelectric dams and nuclear power plants are highly correlated with cost overruns, and that wind \\\\n\\\\nfarms and solar facilities are negatively correlated.  This finding implies that smaller, more flexible, \\\\n\\\\ndecentralized systems have a suite of (possibly undervalued) factors that make them less prone to \\\\n\\\\nthe risk of an overrun. \\\\n\\\\n \\\\n\\\\n8. Improving Public Procurement \\\\n\\\\nMatthias Haber \\\\n\\\\nPublic procurement accounts for a significant portion of countries GDP and offers large potential for \\\\n\\\\nsavings in times of austerity. To improve the effectiveness of their infrastructure investments many \\\\n\\\\ncountries have taken various steps to modernise public procurement processes. However, due to the \\\\n\\\\nmagnitude of available options, governments are increasingly faced with the challenge to reconcile \\\\n\\\\nmultiple objectives and to select the ones with the largest potential for benefits. This chapter \\\\n\\\\nexplores how well countries have managed to introduce innovative strategies and tools to modernize \\\\n\\\\ntheir public procurement processes. Using Item Response Theory for estimating countries policy \\\\n\\\\ncapacity and the difficulty of its implementation, a set of indicators explores five key areas that are \\\\n\\\\nrecommended to boost the efficiency of public infrastructure procurement. The analysis \\\\n\\\\ndemonstrates that countries vary in their capacities to modernize procurement processes and only \\\\n\\\\nfew governments manage to perform well across the five areas. \\\\n\\\\n \\\\n\\\\nPart III. Regional Challenges \\\\n\\\\n9. Infrastructure for Whom? Corruption Risks in Infrastructure Provision Across Europe \\\\n\\\\nMih\\\\xe1ly Fazekas and Bence T\\\\xf3th \\\\n\\\\nInfrastructure construction involves vast public funds in highly complex projects comprehensible only \\\\n\\\\nto a few. Central and Eastern European and Mediterranean countries engage in public infrastructure \\\\n\\\\nprocurement at a higher corruption risk than Western European countries. Public goals can be \\\\n\\\\ncompromised in at least three direct ways: 1) distorting spending structure and project design; 2) \\\\n\\\\ninflating prices; and 3) contributing to delayed and low quality provision, even non-completion. This \\\\n\\\\nchapter analyses the first two of these to assess problem hotspots. The findings indicate that \\\\n\\\\ncorruption steers infrastructure spending towards high value investment projects and inflates prices \\\\n\\\\nby 30-50 per cent on average, with the largest excesses in high corruption risk regions. Based on \\\\n\\\\nthese findings, this chapter recommends that infrastructure be monitored using open datasets and \\\\n\\\\nstate-of-the-art analytical tools, that spending is closely linked to user demand, and that a tailor-\\\\n\\\\nmade implementation regime is applied to large European Union-funded projects. \\\\n\\\\n \\\\n\\\\n\\\\n\\\\n10. Pioneer Risks in Large Infrastructure Projects in Germany \\\\n\\\\nNiklas Anzinger and Genia Kostka \\\\n\\\\nThis chapter analyses learning effects in the planning of large infrastructure projects in Germany. It \\\\n\\\\ncombines insights from the analysis of a database of large-scale infrastructure projects (also known \\\\n\\\\nas megaprojects) across sectors over time with four in-depth case studies of offshore wind parks. \\\\n\\\\nAlthough previous studies have found that no learning takes place, this chapter finds variation in \\\\n\\\\nlearning effects across sectors. In the building and transport sectors, no learning from previous \\\\n\\\\nproject delivery experience takes place; in the construction of nuclear power plants, there is inverse \\\\n\\\\nlearning; and in the construction and installation of offshore wind parks, there is positive learning. An \\\\n\\\\nin-depth analysis of the construction and installation of offshore wind parks shows that in sectors \\\\n\\\\nwhere project technology is more standardised and operated by a competitive private industry, \\\\n\\\\nplanning inaccuracies can decrease because certain risk factors become more manageable and cost \\\\n\\\\nassessments more realistic over time. \\\\n\\\\n \\\\n\\\\n11. The Governance of Infrastructure in Multiparty Presidentialism \\\\n\\\\nMarcus Andr\\\\xe9 Melo and Carlos Pereira \\\\n\\\\nThis chapter explores the political and institutional factors explaining the dismal performance in the \\\\n\\\\nimplementation of infrastructure investment programmes in Brazil. Rather than simply stating that \\\\n\\\\npoor infrastructure is a constraint to economic growth and productivity, this chapter focuses on the \\\\n\\\\npolitical reasons why the choices have led to underperformance and persisted over time. By factoring \\\\n\\\\ninto the analysis political and institutional dynamics, we identify which interest groups are affected \\\\n\\\\nby infrastructure policy and which political actors are involved in making those choices. By focusing \\\\n\\\\non the preferences and relative powers of these actors, as well as on their interaction in terms of \\\\n\\\\ncoalition management all of which are determined by political institutionsa clearer picture \\\\n\\\\nemerges of the determinants of policy choices and outcomes that emphasises the trade-offs, \\\\n\\\\nrestrictions and interdependencies with other policy areas that are crucial given the general \\\\n\\\\nequilibrium nature of those choices. \\\\n\\\\n \\\\n\\\\n12. Strategic Environmental Assessment and Public Participation in Infrastructure Siting: Klickitat \\\\n\\\\nCounty, Washingtons Wind Energy Overlay Zone \\\\n\\\\nHilary S. Boudet and Joseph Grandolfo \\\\n\\\\nThe use of strategic (or programmatic) environmental assessment has been touted as a way to assess \\\\n\\\\nproject impacts earlier and more comprehensively. Less well understood is how such an assessment \\\\n\\\\noccurs in practice and its implications for future public participation. This chapter presents a case \\\\n\\\\nstudy of wind energy siting in Klickitat County, Washington stateone of the first counties in the US \\\\n\\\\nto implement a wind energy overlay zone using a programmatic environmental impact assessment. \\\\n\\\\nThe findings detailed in this chapter indicate that a dubious settlement agreement between local \\\\n\\\\nopponents and the developers of a landfill created an opportunity to mobilise support for a wind \\\\n\\\\nenergy overlay zone. The zone facilitated development but limited future opportunities for opponent \\\\n\\\\nparticipation. The case raises questions about the role of strategic environmental assessment in \\\\n\\\\nexpediting renewable energy development while maintaining the right of local communities to \\\\n\\\\nexercise meaningful voice.'\", 'b\"COCOPS Working Paper no. 1\\\\n\\\\n\\\\nCoordinating for Cohesion in the Public Sector of the Future  www.cocops.eu \\\\n\\\\n \\\\n\\\\n \\\\n \\\\n\\\\n \\\\n\\\\n \\\\n\\\\n \\\\n\\\\n \\\\n\\\\n \\\\n\\\\nCOORDINATING FOR COHESION IN THE \\\\n\\\\nPUBLIC SECTOR OF THE FUTURE \\\\n\\\\nCOCOPS PROJECT BACKGROUND PAPER \\\\n\\\\n \\\\n \\\\n\\\\nCOCOPS Working Paper No. 1 \\\\n \\\\n\\\\nSteven Van de Walle \\\\n\\\\nGerhard Hammerschmid \\\\n\\\\n \\\\n\\\\n25 March 2011 \\\\n\\\\n \\\\n\\\\n \\\\n\\\\n \\\\n\\\\n \\\\n\\\\n \\\\n\\\\n \\\\n\\\\n \\\\n\\\\n \\\\n\\\\n\\\\n\\\\nCOCOPS Project Background Paper \\\\n\\\\nCOCOPS Working Paper No. 1 1\\\\n\\\\n \\\\n\\\\n\\\\xa9 COCOPS 2011 \\\\n\\\\n \\\\n\\\\nAbout COCOPS \\\\n\\\\nThe COCOPS project (Coordinating for Cohesion in the Public Sector of the Future) seeks to \\\\n\\\\ncomparatively and quantitatively assess the impact of New Public Management-style reforms \\\\n\\\\nin European countries, drawing on a team of European public administration scholars from 11 \\\\n\\\\nuniversities in 10 countries. It will analyse the impact of reforms in public management and \\\\n\\\\npublic services that address citizens service needs and social cohesion in Europe. Evaluating \\\\n\\\\nthe extent and consequences of NPMs alleged fragmenting tendencies and the resulting need \\\\n\\\\nfor coordination is a key part of assessing these impacts. It is funded under the European \\\\n\\\\nCommissions 7th Framework Programme as a Small or Medium-Scale Focused Research \\\\n\\\\nProject (2011-2014). \\\\n\\\\n \\\\n\\\\n \\\\n\\\\nAbout the Authors \\\\n\\\\nDr Steven Van de Walle is Associate Professor of Public Administration at Erasmus \\\\n\\\\nUniversity Rotterdam \\\\n\\\\n \\\\n\\\\nProf. Dr. Gerhard Hammerschmid is Professor of Public and Financial Management at the \\\\n\\\\nHertie School of Governance, Berlin. \\\\n\\\\n \\\\n\\\\n \\\\n\\\\n \\\\n\\\\n \\\\n\\\\n \\\\n\\\\nThe research leading to these results has received funding from the European Communitys \\\\n\\\\nSeventh Framework Programme under grant agreement No. 266887 (Project COCOPS), \\\\n\\\\nSocio-economic Sciences & Humanities \\\\n\\\\n \\\\n\\\\nISSN 2211-2006  \\\\n\\\\n \\\\n\\\\n\\\\n\\\\nCOCOPS Project Background Paper \\\\n\\\\nCOCOPS Working Paper No. 1 2\\\\n\\\\nCOORDINATING FOR COHESION IN THE PUBLIC SECTOR OF THE FUTURE: \\\\n\\\\nCOCOPS PROJECT BACKGROUND PAPER \\\\n\\\\nAbstract \\\\n\\\\nThis first COCOPS Working Paper outlines the background to the COCOPS project. It \\\\n\\\\nintroduces the concept of New Public Management (NPM) both as a set of managerial \\\\n\\\\ninnovations in the public sector and as a set of new ideas about the role of government. The \\\\n\\\\nPaper presents an overview of the state of the art of evaluating the impact of NPM and we \\\\n\\\\nargue that there are a number of major gaps in current studies on the impact of NPM reforms. \\\\n\\\\nThese include limited coverage of European countries and an overall lack of cross-national \\\\n\\\\nresearch, a limited empirical base in many assessments of NPM, and a tendency to focus on \\\\n\\\\nspecific elements of NPM-style reforms or specific policy sectors rather than on public sector \\\\n\\\\nreforms in general. Furthermore, we identify two unintended effects of NPM-style reforms \\\\n\\\\nthat severely impact the public sector of the futures ability to build and sustain social \\\\n\\\\ncohesion. One is the fragmentation of the public sector; the other consists of effects of the \\\\n\\\\nreforms on equity. Innovative practices have to provide an answer to these two challenges. \\\\n\\\\nWe end this working paper by collating the first tentative empirical evidence of emerging \\\\n\\\\nmodels for the governance of public services beyond NPM, including outcome-based \\\\n\\\\napproaches and whole-of-government models, and reflect on the implications of the financial \\\\n\\\\ncrisis for these developments. \\\\n\\\\n \\\\n\\\\nKeywords \\\\n\\\\nNew public management, Europe, evaluation, fragmentation, cohesion, coordination \\\\n\\\\n \\\\n\\\\n \\\\n\\\\n \\\\n\\\\n \\\\n\\\\n \\\\n\\\\n \\\\n\\\\n \\\\n\\\\n \\\\n\\\\n \\\\n\\\\n \\\\n\\\\n \\\\n\\\\n\\\\n\\\\nCOCOPS Project Background Paper \\\\n\\\\nCOCOPS Working Paper No. 1 3\\\\n\\\\nCOORDINATING FOR COHESION IN THE PUBLIC SECTOR OF THE FUTURE: \\\\n\\\\nCOCOPS PROJECT BACKGROUND PAPER \\\\n\\\\nEvaluating the impact of New Public Management and beyond: What do we know? \\\\n\\\\nAssessing the impact of New Public Management reforms on the public sector and specific \\\\n\\\\npolicy domains is not straightforward because New Public Management is not a well-defined, \\\\n\\\\nintegrated, and coherent set of reforms. Instead, it is a set of broadly similar reform ideas, \\\\n\\\\nthemes and practices that cannot easily be reduced to evaluation checklists. This difficulty is \\\\n\\\\nreflected in the relative scarcity of such evaluations and impact studies. As a result, there is no \\\\n\\\\nintegrated overview of the intended and unintended effects of New Public Management, \\\\n\\\\nespecially not from a European comparative perspective. However, some studies do exist and \\\\n\\\\na major contribution of our project is to bring together the highest quality work on these \\\\n\\\\ntopics to develop an integrated perspective that is of use to policy makers in Europe and \\\\n\\\\nbeyond. \\\\n\\\\n \\\\n\\\\nLikewise, innovative practices beyond New Public Management are widely divergent, and \\\\n\\\\nhave only been studied within specific national contexts, using specific terminology. These \\\\n\\\\npractices have in common that they attempt to address the public sectors need for delivering \\\\n\\\\nservices in an ever-complex world to citizens with diverse and diverging lives. Maintaining \\\\n\\\\nsocial cohesion thus becomes a key challenge. \\\\n\\\\n \\\\n\\\\nIn this background paper, we argue that there are a number of major gaps in current studies on \\\\n\\\\nthe impact of New Public Management reforms. These include limited coverage of European \\\\n\\\\ncountries and an overall lack of cross-national research, a limited empirical base in many \\\\n\\\\nassessments of New Public Management, and a tendency to focus on specific elements of \\\\n\\\\nNPM-style reforms or specific policy sectors rather than on public sector reforms in general. \\\\n\\\\n \\\\n\\\\nFurthermore, we identify two unintended effects of NPM-style reforms that severely impact \\\\n\\\\nthe public sector of the futures ability to build and sustain social cohesion. One is the \\\\n\\\\nfragmentation of the public sector; the other consists of effects of the reforms on equity. \\\\n\\\\nInnovative practices have to provide an answer to these two challenges. \\\\n\\\\n \\\\n\\\\nThis background paper first introduces the concept of New Public Management and attempts \\\\n\\\\nto define it in all its cross-national variety. It distinguishes between NPM as a set of \\\\n\\\\nmanagerial innovations in the public sector, and NPM as a set of new ideas about the role of \\\\n\\\\ngovernment. We subsequently introduce two major unintended effects of NPM-style reforms, \\\\n\\\\nand present the current empirical evidence about the impact of NPM on the public sector and \\\\n\\\\n\\\\n\\\\nCOCOPS Project Background Paper \\\\n\\\\nCOCOPS Working Paper No. 1 4\\\\n\\\\nselected policy domains. Specific attention goes to studies analysing the effect of NPM on \\\\n\\\\npublic sector fragmentation and on social cohesion. We end this background paper section by \\\\n\\\\ncollating the first tentative empirical evidence of emerging models for the governance of \\\\n\\\\npublic services beyond NPM, including outcome-based approaches and whole-of-government \\\\n\\\\nmodels, and reflect on the implications of the financial crisis for these developments.  \\\\n\\\\nAnalysing the impact of an ill-defined concept  \\\\n\\\\nAnalysing the impact of NPM on aspects such as efficiency, effectiveness, accountability, \\\\n\\\\nsocial cohesion etc. is not straightforward, because NPM is not a well-defined or coherent set \\\\n\\\\nof ideas (Wegrich 2009). It merely reflects a number of changes in public sector management \\\\n\\\\nthat started to develop in the 1980s, and many of its associated reforms were not planned \\\\n\\\\nstrategically and implemented at a precise point in time.  \\\\n\\\\n \\\\n\\\\nNew Public Management has a hybrid character (Christensen and L\\\\xe6greid 2002) and is \\\\n\\\\ngenerally used as an umbrella term for a collection of trends; this is also reflected in the \\\\n\\\\nalternative wordings used to describe the changes that have occurred in public sectors in \\\\n\\\\nEurope and elsewhere in the 1980s and 1990s: managerialism (Pollitt 1990), market-based \\\\n\\\\npublic administration, post-bureaucratic organisation (Barzelay 1992), entrepreneurial \\\\n\\\\ngovernment (Hughes 1998) etc. This means that, in order to analyse impact, we have to drill \\\\n\\\\ndown the analyses to a number of key trends. Just like McLaughlin et al. (2002: 1) we are \\\\n\\\\ninterested not just in the concept of NPM, but in the empirical reality of it.  \\\\n\\\\n \\\\n\\\\nThere is considerable discussion about the nature of NPM (Barzelay 2002). For Lane, NPM is \\\\n\\\\nmainly a contractualist model (Lane 2000). Other authors have downplayed the contractualist \\\\n\\\\napproach, and have equated NPM with a much wider range of business-like managerial \\\\n\\\\nreforms, or with any type of reform or efficiency saving during the last decades of the \\\\n\\\\nprevious century. K\\\\xf6nig dubbed NPM as a mixture of management theories, business \\\\n\\\\nmotivation psychology and neo-liberal economy (K\\\\xf6nig 1997: 219). Barzelay distinguished \\\\n\\\\nbetween four widely different models of NPM: a contractualist model, a managerialist model, \\\\n\\\\na consumerist model, and a reformist model. Each of these is based on different assumptions \\\\n\\\\nand principles (Barzelay 2002).  \\\\n\\\\n \\\\n\\\\nAll this makes NPM more a recognizable term than a fully established concept (Barzelay \\\\n\\\\n2002: 15), which makes analysing its impact difficult. Because of its ill-defined nature, NPM \\\\n\\\\nhas at times been described as a fad (Pollitt 1995; Lynn Jr 1998), a mythical recipe \\\\n\\\\n(Christensen, Laegreid et al. 2008), or a shopping basket of management ideas and techniques \\\\n\\\\n(Painter 2003: 211). There is considerable scepticism about the consistency of NPM: NPM \\\\n\\\\n\\\\n\\\\nCOCOPS Project Background Paper \\\\n\\\\nCOCOPS Working Paper No. 1 5\\\\n\\\\nis, in other words, not a consistent and integrated theory for modernizing the public sector, \\\\n\\\\nbut is better characterized as a wave of reforms composed of some principal reform ideas \\\\n\\\\ntogether with a loose cluster of reform initiatives pointing in various directions. (Christensen, \\\\n\\\\nLaegreid et al. 2008: 128). In analysing the impact of NPM, it is crucial to distinguish \\\\n\\\\nbetween talk and reality. Just studying canonical texts (for example, Barzelay 1992; Osborne \\\\n\\\\nand Gaebler 1992) teaches us very little about actual implementation. In addition, there is \\\\n\\\\nmuch talk about reform, without action, but with hypocrisy and double-talk (Brunsson 1989). \\\\n\\\\nFurthermore, public sectors have often introduced specific innovations traditionally \\\\n\\\\nassociated with NPM, but without also embracing the NPM public choice philosophy. \\\\n\\\\nA first set of changes  NPM as managerial innovation \\\\n\\\\nNew ways of thinking about the role and nature of government and public administration, \\\\n\\\\npartly inspired by public choice theory, and a series of gradual and less gradual reforms in \\\\n\\\\nWestern public sectors gave rise to what would later be known as the New Public \\\\n\\\\nManagement. Definitions of New Public Management abound, as do variations. They have in \\\\n\\\\ncommon the attempt to implement management ideas from business and private sector into \\\\n\\\\nthe public services (Haynes 2003). Donald Kettl identified productivity, marketization, \\\\n\\\\nservice orientation, decentralisation, policy, and accountability for results as the key \\\\n\\\\ningredients of the global public management revolution (Kettl 2000: 1-2). Likewise, Ferlie et \\\\n\\\\nal. developed a typology of four NPM models: the efficiency drive, downsizing and \\\\n\\\\ndecentralization, in search of excellence, and public service orientation (Ferlie, Ashburner et \\\\n\\\\nal. 1996: 10-15). A review of the literature turns up many different lists of NPM \\\\n\\\\ncharacteristics, which have a common core (Hood 1991; Borins 1995; Kettl 2000).  \\\\n\\\\n \\\\n\\\\nChristopher Hoods 1991 article A public management for all seasons is widely regarded as \\\\n\\\\nthe key source on New Public Management. It distinguishes between seven doctrines of NPM \\\\n\\\\n(Hood 1991)  \\\\n\\\\n Hands-on and entrepreneurial management \\\\n\\\\n Explicit standards and measures of performance \\\\n\\\\n Output controls \\\\n\\\\n Desegregation and decentralisation \\\\n\\\\n Competition in the provision of public services \\\\n\\\\n Stress on private sector styles of management \\\\n\\\\n Discipline and parsimony in resource allocation \\\\n\\\\nOther characteristics, such as separating political decision making from direct management \\\\n\\\\nand community governance, are often added to this list (McLaughlin, Osborne et al. 2002: 9) \\\\n\\\\n\\\\n\\\\nCOCOPS Project Background Paper \\\\n\\\\nCOCOPS Working Paper No. 1 6\\\\n\\\\n \\\\n\\\\nSuch a wide set of characteristics opens up several ways to study the impact of NPM. Some \\\\n\\\\nchanges have been more fundamental than others though, and have profoundly changed the \\\\n\\\\nnature of the public sector. Other changes have seen more marginal implementation, or were \\\\n\\\\nrenewed attempts at introducing older ideas.  \\\\n\\\\n \\\\n\\\\nA key characteristic of the New Public Management was the desire to do away with \\\\n\\\\nhierarchist public sector monoliths, which were, both presumed and in many cases actually, \\\\n\\\\ninefficient. Solutions were searched for to break up these monoliths, introducing competition \\\\n\\\\nbetween these new units, and imposing tighter controls over those units that did not operate in \\\\n\\\\nmarkets or quasi-markets. Such processes of devolution, disaggregation and decentralisation \\\\n\\\\n(Gray and Jenkins 1995) were believed to lead to greater clarity and simplicity in the public \\\\n\\\\nsector.  \\\\n\\\\nThese reforms went against the dominant mode of thinking in the 1960s-70s where giant \\\\n\\\\ndepartments were the flavour. The motive for such large departments was that were believed \\\\n\\\\nto be better able to attract better staff, to coordinate policy and implementation, and to \\\\n\\\\nimprove efficiency though scale advantages. Public choice thinkers in the 1960s, and \\\\n\\\\nespecially the 1970s argued that such mega-aggregation could not work because they lead to \\\\n\\\\ninformation-deficits and asymmetries, and stimulated self-serving behaviour (Tullock 1965; \\\\n\\\\nDowns 1967; Niskanen 1971). Inside organisations, the new thinking led to a differentiation \\\\n\\\\nof tasks such as regulation, policy advice, ownership functions, control, etc., that had \\\\n\\\\ntraditionally been organised together, into separate units (Christensen and Laegreid 2003). \\\\n\\\\nThis practice of disaggregating the public sector into autonomous agencies, business units, \\\\n\\\\nand competing public, market and non-profit bodies has, in turn, also come under pressure. \\\\n\\\\nRhodes warned very early of a replacement of line bureaucracies delivering any service all \\\\n\\\\nover the country by a patchwork quilt of organizations\\'. (Rhodes 1994: 142). Also, NPM-\\\\n\\\\nstyle reforms have not always proved to be sustainable (Meyer-Sahling 2009). \\\\n\\\\n \\\\n\\\\nImplications for the project: The project consortium will evaluate the impact of New Public \\\\n\\\\nManagement (NPM) style reforms in European public sectors, through a meta-analysis of \\\\n\\\\nevaluation studies, and a survey of senior public sector officials in three sectors in ten \\\\n\\\\nEuropean countries (work packages 1 and 3). \\\\n\\\\nA second set of changes - NPM ideas about the role of government \\\\n\\\\nNew Public Management is not just a set of managerial and service delivery innovations. It is \\\\n\\\\nalso based on a set of ideas about the nature of man and the role of the state in society. With \\\\n\\\\n\\\\n\\\\nCOCOPS Project Background Paper \\\\n\\\\nCOCOPS Working Paper No. 1 7\\\\n\\\\nits roots in public choice thinking, and the Chicago School economists ideas of deregulation, \\\\n\\\\nprivatization, and also later marketisation (Lane 1997), the NPM philosophy has been largely \\\\n\\\\nbased on a new right agenda of privatisation, deregulation, marketisation, and a small state \\\\n\\\\n(Lane 2000). While those ideas are not visible in all NPM-style reforms, NPM has been \\\\n\\\\nblamed for its focus on individual rights rather than collective rights, its belief in individual \\\\n\\\\nself-interest as a key guiding principle, and its strong reliance on markets as a core steering \\\\n\\\\nmechanism.  \\\\n\\\\n \\\\n\\\\nOften, these criticisms have also been inspired by the real or perceived disappearance of \\\\n\\\\nneighbourhood services, or by the public sector workforces fears about job security. Protests \\\\n\\\\nagainst NPM-style reforms have indeed been channelled by public sector unions, and some \\\\n\\\\ncountries have been more critical about the reforms than others (H\\\\xe9ritier 2001; Van de Walle \\\\n\\\\n2008). The start of reforms and search for improved public performance was seen by some as \\\\n\\\\na questioning of the welfare state (Lane 1997: 2), and reforms of services of general interest \\\\n\\\\nand former state monopolies have been criticised for their potential negative effects on social \\\\n\\\\ncohesion and equity. At the same time, there has been no correlation between NPM emphasis \\\\n\\\\nand political incumbency (Hood 1995). \\\\n\\\\n \\\\n\\\\nThe emergence of NPM meant a shift in the values of the public sector. New values such as \\\\n\\\\nefficiency and individualism replaced traditional values such as universalism, equity etc. (du \\\\n\\\\nGay 2000). Central to this shift was a belief that managing public sector organisations is not \\\\n\\\\ndifferent from running private sector organisations - a controversial claim (Allison 1983; \\\\n\\\\nBoyne 2002). This managerialism should therefore not just be seen as the introduction of new \\\\n\\\\nmanagement methods, but also as a new ideology about the role of the state and the public \\\\n\\\\nmanager (Clarke and Newman 1997). Research has focused on changes in public servants \\\\n\\\\nvalues, shifts of citizens to customers (Fountain 2001; Clarke and Newman 2007), or changes \\\\n\\\\nin administrative law and good governance principles. Likewise, changes to the role of \\\\n\\\\ngovernment in providing services through privatisation, deregulation, etc. have also received \\\\n\\\\nconsiderable attention (Prosser 2000; Clifton, Comin et al. 2003; Clifton and Diaz Fuentes \\\\n\\\\n2005; Prosser 2005; Clifton, Com\\\\xedn et al. 2006). \\\\n\\\\n \\\\n\\\\nWhile private sector ideas have dominated public sector reform thinking in the 1990s, we \\\\n\\\\nhave recently seen the emergence of new models for thinking about the role of the public \\\\n\\\\nsector, such as Public Value or Neo-Weberianism. While many public sectors went ever \\\\n\\\\nfurther in embracing NPM ideas, even in countries or sectors where the diagnosis was \\\\n\\\\ndifferent from that in e.g. the UK or New Zealand, doubts about whether the core assumptions \\\\n\\\\non which NPM is based are actually correct started to grow in the 1990s. Since the heydays of \\\\n\\\\n\\\\n\\\\nCOCOPS Project Background Paper \\\\n\\\\nCOCOPS Working Paper No. 1 8\\\\n\\\\nNPM, we have witnessed a growing belief that many NPM ideas, grounded in new \\\\n\\\\ninstitutional economics, may actually be based on untested assumptions including the idea \\\\n\\\\nthat monopolies and hierarchies cannot work, that the state is too big, that the public sector \\\\n\\\\nhinders economic development, etc. (Flynn 2002). \\\\n\\\\n \\\\n\\\\nImplications for the project: The project consortium will analyse the effects of 25 years of \\\\n\\\\nNPM-style reforms on government outlays and stakeholder attitudes towards the values \\\\n\\\\nunderlying NPM (work package 2 & 3). \\\\n\\\\n \\\\n\\\\nConvergence and divergence in NPM-reform: Why a cross-national European study of \\\\n\\\\nNPM impacts is necessary \\\\n\\\\nNPM has become a global reform movement (Kettl 2000), not least through the existence of \\\\n\\\\nan active NPM missionary, increasing policy transfer activity and the role of international \\\\n\\\\norganizations such as OECDs Public Management Committee (Common 1998; Premfors \\\\n\\\\n1998; OECD 2005). Some countries are considered to be core NPM countries, and this list \\\\n\\\\nincludes the UK, the US, Canada, Australia, New Zealand, and also to some extent the \\\\n\\\\nNetherlands and Sweden. According to Halligan, NPM has only been a comprehensive \\\\n\\\\nreform movement in three countries: the UK, New Zealand and Australia (Halligan 1998). \\\\n\\\\n \\\\n\\\\nIn NPM studies, some countries have been studied more extensively than others (Aucoin \\\\n\\\\n1996; Olsen and Peters 1996). This includes especially New Zealand, which is widely \\\\n\\\\nregarded as one of the early and more extreme examples of NPM (Boston, Martin et al. 1991; \\\\n\\\\nSchick 1996). While most public management researchers know all of the details about \\\\n\\\\nBritish or New Zealand reforms, few of them would be able to recall even the key \\\\n\\\\ncharacteristics of the Neue Steuerungsmodel in Germany, or the wide-ranging reforms in the \\\\n\\\\nhospital sector in Italy. France has been experimenting with public management reforms for a \\\\n\\\\nlong time, and has a long tradition of strategic planning, resulting in the Loi organique \\\\n\\\\nrelative aux Lois de finances (LOLF). When reforming their public sector, countries tend to \\\\n\\\\nlook to some of their neighbours for policy innovations, but not to others. The UK closely \\\\n\\\\nmonitors what happens in the US, Australia or New Zealand, but knows much less about \\\\n\\\\npublic management reform in Ireland or France (Rose 1993). This often leads to innovations \\\\n\\\\nthat are in fact not innovations. \\\\n\\\\n \\\\n\\\\nBecause of its clear roots in certain sets of ideas and its rise in particular countries, doubts \\\\n\\\\nhave been raised about the transferability of NPM beyond its Anglo-Saxon origins, and \\\\n\\\\n\\\\n\\\\nCOCOPS Project Background Paper \\\\n\\\\nCOCOPS Working Paper No. 1 9\\\\n\\\\nespecially to developing countries and new democracies (Laking 1999; Randma-Liiv 2009). \\\\n\\\\nThe NPM fashion in the West coincided with state-building efforts in Central and Eastern \\\\n\\\\nEurope (CEE) in the early 1990s and thus influenced the adoption of similar ideas in CEE. \\\\n\\\\nThe NPM ideology sat well with post-communist countries that did not like big state \\\\n\\\\napparatuses, were abolishing their one-sector economies and carrying out large-scale \\\\n\\\\nprivatizations. However, several studies have demonstrated that NPM is particularly unfitting \\\\n\\\\nand even destructive for new democracies (Verheijen 1998; Dreschler 2005; Randma-Liiv \\\\n\\\\n2009). Despite such criticism, NPM has been very influential beyond the Western world \\\\n\\\\n(Manning 2001). As McLaughlin et al. argue, NPM has not been introduced as a single \\\\n\\\\nmodel, but instead, we have seen various evolutions where elements and aspects of NPM \\\\n\\\\nhave been introduced. Countries have had their own focus, with some focusing more on \\\\n\\\\nshifting to private delivery, others to output controls, etc. (Osborne and McLaughlin 2002: \\\\n\\\\n10-11). This means that studying NPM can only be done while taking the wider context into \\\\n\\\\naccount (Flynn 2002; Pollitt and Bouckaert 2004). All too often, NPM is presented as if \\\\n\\\\nmodels of service delivery can be decoupled from a single country context (Dunleavy 1994). \\\\n\\\\n  \\\\n\\\\nThere are many variations in NPM style reforms worldwide and across the continent (Ferlie, \\\\n\\\\nAshburner et al. 1996; Hammerschmid, Meyer et al. 2007). Due to its heterogeneous nature \\\\n\\\\n(Lynn Jr 1998), NPM has been translated and implemented differently in European countries \\\\n\\\\n(Pollitt, van Thiel et al. 2007). The definition and implementation of NPM varies depending \\\\n\\\\non different national cultural and institutional settings (Torres and Pina 2004). The \\\\n\\\\nimplementation may also be influenced by the administrative law tradition in some countries \\\\n\\\\n(Torres and Pina 2004; Hammerschmid and Meyer 2005). Pollitt and Bouckaert distinguished \\\\n\\\\nbetween four major reform models in Western countries: Marketise, Minimise, Maintain, and \\\\n\\\\nModernise, and indicated that different countries tend to follow different models (Pollitt and \\\\n\\\\nBouckaert 2004). Kettl distinguished between two broad types of reform: the first, \\\\n\\\\nWestminster-style managerialism, consists of broad-sweeping reforms which were \\\\n\\\\ncomprehensive, ambitious, and aggressive, and which were largely drawn from economic \\\\n\\\\ntheories. The second, American-style reinvention, is a more incremental reform process, with \\\\n\\\\na more pragmatic rather than ideological content (Kettl 2000). Halligan (2001), reflecting on \\\\n\\\\nthis diversity in NPM implementation, distinguished between four main types of public sector \\\\n\\\\nreformers: reluctant reformers (some reforms, shy, incremental); specialist reformers (focus \\\\n\\\\non some distinctive elements of reform); ambivalent reformers (committed to change, but \\\\n\\\\nimplementation varies); and comprehensive reformers (major commitment and a range of \\\\n\\\\nreform measures).  \\\\n\\\\n \\\\n\\\\n\\\\n\\\\nCOCOPS Project Background Paper \\\\n\\\\nCOCOPS Working Paper No. 1 10\\\\n\\\\nEven when based on similar sets of ideas, NPM-inspired national public sector reforms differ \\\\n\\\\nconsiderably. This variety of reforms, interacting with an even greater variety of \\\\n\\\\nadministrative systems and administrative cultures in Europe, has led to a considerable \\\\n\\\\ndivergence in NPM implementation across Europe. Despite quite similar lists of NPM \\\\n\\\\ncharacteristics in the literature, there is no single model of NPM-style administrative reforms \\\\n\\\\nacross countries (Lynn Jr 1998). There is considerable discussion between believers and \\\\n\\\\ncritics about whether convergence is taking place in national public sector reform trajectories \\\\n\\\\n(Pollitt 2007). There are some broad trends, but much more national variation (Kettl 2000), \\\\n\\\\nand there are fewer commonalities and convergence than generally assumed (Pollitt 2002). \\\\n\\\\nPollitt and Bouckaert see clear differences between a core NPM group of marketizers \\\\n\\\\nincluding Australia, New Zealand the UK and sometimes the US; and a second group of \\\\n\\\\nContinental European modernizers who continue to give the state a central role (Pollitt and \\\\n\\\\nBouckaert 2004). For this reason, processes of convergence and divergence in public sector \\\\n\\\\nreform have received considerable attention. Understanding national variation is essential to \\\\n\\\\nhypothesize about the prospects of a European Administrative Space. \\\\n\\\\n \\\\n\\\\nAdministrative cultures differ widely, especially in Europe, which means that in each of these \\\\n\\\\ncountries, government and administrative law have had a different role (Hajnal 2004; Proeller \\\\n\\\\nand Schedler 2005; Hammerschmid, Meyer et al. 2007; Kickert 2007; Painter and Peters \\\\n\\\\n2010). It should therefore not come as a surprise if some elements of the reforms have failed \\\\n\\\\nin some countries (Hammerschmid and Meyer 2005; Kickert 2007; Bouckaert, Nemec et al. \\\\n\\\\n2008; Kuhlmann, Bogumil et al. 2008). This national and regional variation means that no \\\\n\\\\nstudy on the impact of NPM can afford to only look at a single country, or one particular \\\\n\\\\ngroup of countries. Furthermore, there exists considerable fragmentation in the methods, \\\\n\\\\nconcepts and approaches used, making cross-national comparisons difficult.  \\\\n\\\\n \\\\n\\\\nImplications for the project: Evaluating the impact of New Public Management requires \\\\n\\\\nfocusing on differential national experiences within Europe. NPM values align better with \\\\n\\\\nsome administrative cultures than with others. Our research consortium includes partners \\\\n\\\\ncovering all major administrative traditions and cultures in Europe. The project will also \\\\n\\\\ninvest heavily in the development of cross-national datasets covering a maximum number of \\\\n\\\\nEuropean countries. \\\\n\\\\n\\\\n\\\\nCOCOPS Project Background Paper \\\\n\\\\nCOCOPS Working Paper No. 1 11\\\\n\\\\nIntended and unintended effects of NPM-style reforms \\\\n\\\\nFragmentation vs. coordination in the public sector \\\\n\\\\nOne of the key recommendations of the NPM-movement was to disaggregate large, \\\\n\\\\nmultifunctional public bodies and replace them with a series of single-purpose bodies. This \\\\n\\\\ndisaggregation extended to hiving off public tasks to the private and not-for-profit sector. The \\\\n\\\\nphilosophy was that a deliberate fragmentation and distribution of functions would result in \\\\n\\\\nclear lines of control and boundaries, and possibly to competition between these new entities. \\\\n\\\\nFurthermore, performance was to be monitored using specific and detailed sets of \\\\n\\\\nperformance indicators and targets (van Thiel and Leeuw 2002; Pollitt, Talbot et al. 2004). \\\\n\\\\n \\\\n\\\\nDisaggregation, and a related increase in accountability and control systems focusing on \\\\n\\\\nrelatively narrow objectives have, for public services and public managers narrowed the \\\\n\\\\nnature of the work, creating focus at the expense of coordination (Norman 2003: 200). \\\\n\\\\nDisaggregation became fragmentation at the detriment of institutional development, \\\\n\\\\ndevelopment of strategic capability and expertise, and institutional memory (Pollitt 2000; \\\\n\\\\nNorman 2003; Pollitt 2008). Early on, fragmentation was identified as an unintended effect of \\\\n\\\\nNPM-style reforms. Coordination rapidly came to be seen as the key problem in making NPM \\\\n\\\\nwork (Webb 1991), and the structural disaggregation of the public sector was seen to lead to \\\\n\\\\ndeficient coordination, duplication and even waste (Rhodes 1994). With Schicks 1996 report \\\\n\\\\n\\'The spirit of reform\\' on public sector reforms in New Zealand, fragmentation of the public \\\\n\\\\nsector became to be seen as a major unintended effect of NPM reforms. It identified a \\\\n\\\\ntendency to focus on the short-term production of outputs and annual actions, rather than the \\\\n\\\\ndevelopment of long-term strategic planning (Schick 1996: 8).  \\\\n\\\\n \\\\n\\\\nNew systems of control, evaluation and incentives tended to incentivise against collaboration \\\\n\\\\nwith other departments or services, despite the big idea of more collaboration in public \\\\n\\\\nservices (Norman 2003). Disaggregation may have lead to a replacement of traditional \\\\n\\\\nministry- or department-based silos by new types of silos. \\\\n\\\\n \\\\n\\\\nThe reforms led to the fragmentation of a previously monolithic public sector, and a related \\\\n\\\\nloss of strategic capacity at the centre of government (Painter 2003). Rather than becoming \\\\n\\\\nefficient, effective and entrepreneurial, public sectors influenced by NPM risked becoming \\\\n\\\\nhollow states (Greve 2008) or fragmented states (Christensen and L\\\\xe6greid 2004), and the \\\\n\\\\nstrategic alignment of government has become one of the key challenges for the future of the \\\\n\\\\npublic sector. Furthermore, the reforms were seen as undermining political control through \\\\n\\\\n\\\\n\\\\nCOCOPS Project Background Paper \\\\n\\\\nCOCOPS Working Paper No. 1 12\\\\n\\\\nthe strict separation of political and administrative functions, and a wide-ranging \\\\n\\\\ncontractualisation and devolution (Christensen and Laegreid 2003). Through letting the \\\\n\\\\nmanagers manage, overall political control became difficult. This problem is further \\\\n\\\\ncomplicated by low steering capacity in departments (principals) to control the agencies \\\\n\\\\n(agents) because of a supposed hollowing out of policy functions through extensive \\\\n\\\\ndifferentiation and short-term employment contracts. \\\\n\\\\n \\\\n\\\\nThe advantages and disadvantages of disaggregation strategies have been studied from \\\\n\\\\nvarious perspectives (Talbot and Johnson 2007; Verhoest et al. 2010), but there is relatively \\\\n\\\\nlittle overall assessment of the total impact of NPM-style reforms on fragmentation and \\\\n\\\\ncoordination in the public sector. An analysis by Boyne on the effect of NPM-inspired \\\\n\\\\ninstitutional disaggregation on institutional performance in British local authorities revealed \\\\n\\\\nthat one of the key assumptions of NPM, that disaggregation leads to better performance and \\\\n\\\\nthat large organisations are poor performers, does not hold (Boyne 1996). Indeed, subsequent \\\\n\\\\nresearch suggested that large consolidated organizational units are likely to benefit from \\\\n\\\\nlower administrative overheads (Andrews and Boyne 2009). Painter, in a study on housing \\\\n\\\\npolicy in Australia, found mixed effects of disaggregation and NPM-style reforms on policy \\\\n\\\\ncapacity (Painter 2003).  \\\\n\\\\n \\\\n\\\\nAs a result of this real or perceived fragmentation, recent trends can be seen towards \\\\n\\\\nstrengthening the overall steering capacity of government through a new agenda of \\\\n\\\\ncoordination (Verhoest, Bouckaert et al. 2007). New agendas focusing on strengthening the \\\\n\\\\npolicy cohesion of the public sector have emerged, and governments have further attempted \\\\n\\\\nto regain a certain degree of control over hived-off tasks through a new regulation agenda. \\\\n\\\\nThe tendency towards departmentalisation and towards the development of whole-of-\\\\n\\\\ngovernment approaches is a good illustration of this trend. Norman and Gregory (2003) talk \\\\n\\\\nabout pendulum swings in administrative doctrine, with ideas moving back and forth. The \\\\n\\\\nNPM-style move towards smaller organisations in reaction to large bureaucracies is now \\\\n\\\\nbeing challenged by a move towards amalgamations of organisations and networks of \\\\n\\\\norganisations in reaction to fragmentation. The partial rolling back of agencification and \\\\n\\\\naddition of coordinating structures in the UK is a good example (James 2003; James 2004; \\\\n\\\\nTalbot and Johnson 2007). Through recoordinating the public sector, it is hoped that the \\\\n\\\\npublic sector will be better able to design and implement policies in a coherent way, in order \\\\n\\\\nto achieve broad social outcomes such as social cohesion. \\\\n\\\\n \\\\n\\\\n\\\\n\\\\nCOCOPS Project Background Paper \\\\n\\\\nCOCOPS Working Paper No. 1 13\\\\n\\\\nImplications for the project: In this project we will assess the extent to which New Public \\\\n\\\\nManagement style reforms have led to managerial and organisational fragmentation in the \\\\n\\\\npublic sector (work packages 1, 3, and 5). \\\\n\\\\nNPM-style reforms and the effect on equity and social cohesion \\\\n\\\\nNPM-style reforms have been widely associated with neo-liberal thinking and blamed for \\\\n\\\\ntheir effect on the public service ethos, the (un)equal treatment of citizens, and a \\\\n\\\\ncorresponding decline in the cohesiveness of local communities. The suitability of NPM ideas \\\\n\\\\nfor a public sector context has been questioned, especially as they are sometimes seen as \\\\n\\\\nundermining shared public values and the pursui\"', \"b'Administrative tradition and management reforms: a comparison of agency chief executive accountability in four Continental Rechtsstaat countries\\\\n\\\\n\\\\nFull Terms & Conditions of access and use can be found at\\\\nhttps://www.tandfonline.com/action/journalInformation?journalCode=rpxm20\\\\n\\\\nPublic Management Review\\\\n\\\\nISSN: 1471-9037 (Print) 1471-9045 (Online) Journal homepage: https://www.tandfonline.com/loi/rpxm20\\\\n\\\\nAdministrative tradition and management\\\\nreforms: a comparison of agency chief executive\\\\naccountability in four Continental Rechtsstaat\\\\ncountries\\\\n\\\\nTobias Bach, Sandra van Thiel, Gerhard Hammerschmid & Reto Steiner\\\\n\\\\nTo cite this article: Tobias Bach, Sandra van Thiel, Gerhard Hammerschmid & Reto Steiner\\\\n(2017) Administrative tradition and management reforms: a comparison of agency chief executive\\\\naccountability in four Continental Rechtsstaat countries, Public Management Review, 19:6,\\\\n765-784, DOI: 10.1080/14719037.2016.1210205\\\\n\\\\nTo link to this article:  https://doi.org/10.1080/14719037.2016.1210205\\\\n\\\\nPublished online: 03 Aug 2016.\\\\n\\\\nSubmit your article to this journal \\\\n\\\\nArticle views: 612\\\\n\\\\nView related articles \\\\n\\\\nView Crossmark data\\\\n\\\\nCiting articles: 10 View citing articles \\\\n\\\\nhttps://www.tandfonline.com/action/journalInformation?journalCode=rpxm20\\\\nhttps://www.tandfonline.com/loi/rpxm20\\\\nhttps://www.tandfonline.com/action/showCitFormats?doi=10.1080/14719037.2016.1210205\\\\nhttps://doi.org/10.1080/14719037.2016.1210205\\\\nhttps://www.tandfonline.com/action/authorSubmission?journalCode=rpxm20&show=instructions\\\\nhttps://www.tandfonline.com/action/authorSubmission?journalCode=rpxm20&show=instructions\\\\nhttps://www.tandfonline.com/doi/mlt/10.1080/14719037.2016.1210205\\\\nhttps://www.tandfonline.com/doi/mlt/10.1080/14719037.2016.1210205\\\\nhttp://crossmark.crossref.org/dialog/?doi=10.1080/14719037.2016.1210205&domain=pdf&date_stamp=2016-08-03\\\\nhttp://crossmark.crossref.org/dialog/?doi=10.1080/14719037.2016.1210205&domain=pdf&date_stamp=2016-08-03\\\\nhttps://www.tandfonline.com/doi/citedby/10.1080/14719037.2016.1210205#tabModule\\\\nhttps://www.tandfonline.com/doi/citedby/10.1080/14719037.2016.1210205#tabModule\\\\n\\\\n\\\\nAdministrative tradition and management reforms:\\\\na comparison of agency chief executive accountability in\\\\nfour Continental Rechtsstaat countries\\\\nTobias Bacha, Sandra van Thielb, Gerhard Hammerschmidc and Reto Steiner d\\\\n\\\\naDepartment of Political Science, University of Oslo, Oslo, Norway; bDepartment of Public\\\\nAdministration, Institute for Management Research, Radboud University, Nijmegen, The\\\\nNetherlands; cHertie School of Governance, Berlin, Germany; dCenter of Competence for Public\\\\nManagement, University of Bern, Bern, Switzerland\\\\n\\\\nABSTRACT\\\\nThis article investigates perceived accountability patterns of national agencies chief\\\\nexecutives in four countries with a Rechtsstaat tradition and tests theoretical expec-\\\\ntations about potential tensions between managerial reforms and administrative\\\\nvalues using survey data (N = 453). All countries combine old and new forms of\\\\naccountability requirements, while legal and financial accountability have not been\\\\nreplaced with results accountability. Switzerland and the Netherlands score highest\\\\non results accountability, though in combination with legal and financial account-\\\\nability, which are dominant in Germany and Austria. Nation-specific characteristics\\\\nseem more important for core values of public administration than generic char-\\\\nacteristics of the Rechtsstaat model.\\\\n\\\\nKEYWORDS Administrative tradition; accountability; public sector organisations management reform;\\\\ncomparative public administration\\\\n\\\\nIntroduction\\\\n\\\\nTwenty-five years ago, Hood (1991) criticized the universalistic aspirations of the\\\\nNew Public Management (NPM) as a panacea to all kinds of illnesses plaguing public\\\\nbureaucracies. In particular, the claim of early NPM advocates that industrialized\\\\ncountries are inevitably converging towards a single model has been shown to have\\\\nlimited empirical validity (Christensen and L\\\\xe6greid 2001; Lynn 2006; Pollitt and\\\\nBouckaert 2011; Suleiman 2003). National institutions, traditions and legacies have\\\\naffected and hybridized reforms like agencification (Verhoest et al. 2012). However,\\\\ndespite these differences, the convergence metaphor continues to serve as a useful\\\\nmyth (Pollitt 2001) to confer legitimacy to administrative reforms.\\\\n\\\\nA key explanation for divergence is that administrative reforms are shaped by\\\\nadministrative traditions shared by families of nations (Painter and Peters 2010;\\\\nPollitt and Bouckaert 2011; Proeller and Schedler 2005). Administrative traditions\\\\nconsist of ideas about the nature of government which define what types of reforms\\\\n\\\\nCONTACT Tobias Bach tobias.bach@stv.uio.no Department of Political Science, University of Oslo,\\\\nP.O. Box 1097, Blindern, 0317 Oslo, Norway\\\\n\\\\xa9 2016 Informa UK Limited, trading as Taylor & Francis Group\\\\n\\\\nPUBLIC MANAGEMENT REVIEW, 2017\\\\nVOL. 19, NO. 6, 765784\\\\nhttp://dx.doi.org/10.1080/14719037.2016.1210205\\\\n\\\\nhttp://orcid.org/0000-0003-0260-3094\\\\nhttp://www.tandfonline.com\\\\nhttp://crossmark.crossref.org/dialog/?doi=10.1080/14719037.2016.1210205&domain=pdf\\\\n\\\\n\\\\nare considered appropriate, and of institutions of government which define the rules\\\\nof the game for reform activities (Yesilkagit 2010, 151). As a consequence, generic\\\\nreform ideas are assumed to undergo a cultural screening and are more likely to be\\\\nadopted if they match with the dominant ideas and values of the local context\\\\n(Smullen 2010; Christensen and L\\\\xe6greid 2001).\\\\n\\\\nThis article aims to study the interaction of administrative traditions and reform\\\\nideas in four countries belonging to the Rechtsstaat tradition (Painter and Peters\\\\n2010; Ziller 2003): Austria, Germany, the Netherlands and Switzerland. The\\\\nRechtsstaat tradition is often considered as an obstacle towards managerial reforms\\\\n(Hammerschmid and Meyer 2005). Pollitt and Bouckaert (2011) argue that\\\\nRechtsstaat systems are stickier and slower to reform, as reforms usually require\\\\nlegal changes. Moreover, civil servants predominantly trained in administrative law\\\\nmay find it difficult to shift to a managerial or performance-oriented perspective.\\\\nThis article develops and empirically tests theoretical expectations about tensions and\\\\ntrade-offs between the underlying values of NPM reforms and the Rechtsstaat tradi-\\\\ntion (cf. Frederickson 1996; Hood 1991; Olsen 2006; Lynn 2006; Painter and Peters\\\\n2010; Pollitt and Bouckaert 2011).\\\\n\\\\nThe empirical focus is on the relevance of distinct administrative values in relations\\\\nof upward accountability (Verschuere et al. 2006) or vertical accountability (Bovens\\\\n2010) between chief executives of semi-autonomous agencies (who is accountable) and\\\\ntheir hierarchical superiors (i.e. parent ministries; to whom) at the national level. Also,\\\\nwe are interested in the content of accountability (for what) as perceived by those\\\\nactors rendering account to their superiors. The central research questions are: Which\\\\naccountability patterns of agency chief executives can be observed at the national level in\\\\nthe four countries? To what extent are these patterns similar to each other? Do they\\\\nreflect variation in national trajectories of administrative reforms? Finally, to what\\\\nextent do patterns of perceived accountability vary according to organizational char-\\\\nacteristics, as opposed to national context?\\\\n\\\\nThe next section sketches the Rechtsstaat tradition and its effects on agencification\\\\nand accountability arrangements between agencies and ministries. A number of\\\\nhypotheses will be formulated about expected similarities  or lack thereof  between\\\\ncountries and agencies, which will then be put to the test using survey data (N = 453)\\\\ncollected in the four countries. After presenting the results, we draw conclusions and\\\\ndiscuss our findings.\\\\n\\\\nThe Continental Rechtsstaat tradition, administrative values and\\\\nmanagement reforms\\\\n\\\\nIt has almost become a truism that contextual conditions for public management reforms\\\\nin Continental European countries differ substantially from their counterparts in the\\\\nAnglo-American parts of the world (Christensen and L\\\\xe6greid 2001; K\\\\xf6nig 2000; Lynn\\\\n2006; Pollitt and Bouckaert 2011; Suleiman 2003). These differences can be analytically\\\\ngrasped by the notion of administrative tradition, which distinguishes the Rechtsstaat\\\\ntradition from the common law tradition (Painter and Peters 2010). The idea of a\\\\nsovereign bound by rules applied in an objective and equal manner by independent\\\\nand politically neutral administrators is central for the Continental European Rechtsstaat\\\\ntradition (Ziller 2003). A key feature of this tradition is an internally consistent hierarchy\\\\nof law and a system of administrative courts (K\\\\xf6nig 2000). In consequence, public\\\\n\\\\n766 T. BACH ET AL.\\\\n\\\\n\\\\n\\\\nmanagement in Rechtsstaat countries is traditionally understood as the application of\\\\nlaw, as administrative decisions are always potentially subject to judicial review.\\\\n\\\\nThis article analyzes administrative traditions and administrative reforms through\\\\nthe analytical lens of administrative values (Frederickson 1996; Hood 1991; Lynn\\\\n2006; Olsen 2006). Our main argument is that administrative traditions and admin-\\\\nistrative reforms embody particular administrative values which stand for a distinct\\\\nmodel of good administration, and that these values imply trade-offs and incompat-\\\\nibilities (Hood 1991; Pollitt and Bouckaert 2011). Administrative traditions contain\\\\ndistinct expectations about good administration which are embodied in the actor\\\\norientations of policy makers (Yesilkagit 2010). Accordingly, the latter will use these\\\\nstandards as a benchmark when holding public officials to account. However, admin-\\\\nistrative traditions are not immutable, and reforms may challenge dominant admin-\\\\nistrative values (Lynn 2006; Painter and Peters 2010). We will get back to this\\\\ninterplay of traditions and reforms when developing our hypotheses.\\\\n\\\\nAlthough faced with various starting conditions, many developed countries\\\\nembarked  at least rhetorically  on the modernization recipes of the NPM\\\\n(Christensen and L\\\\xe6greid 2001; Pollitt 2001; Pollitt and Bouckaert 2011;\\\\nSuleiman 2003). In this context, several authors have argued that NPM is incom-\\\\npatible with traditional public administration as a result of a clash of the funda-\\\\nmental values underlying both models. In a widely-cited article, Hood (1991)\\\\nquestions the universalistic nature of NPM on the grounds that the reform\\\\nmodel is based on a distinct set of administrative values which are in conflict\\\\nwith other values associated with traditional administration. The main emphasis of\\\\nNPM is on frugality or the matching of resources to tasks for given goals (Hood\\\\n1991, 11) as the standard for good administration and control over the output of\\\\nthe bureaucracy as a necessary ingredient to assess efficiency. Another set of values\\\\nare honesty and fairness of administrative conduct. These values put a premium on\\\\nthe proper discharge of duties in procedural and substantive terms (Hood 1991,\\\\n13), which coincides with an emphasis on procedural correctness or how the job\\\\nis done rather than output control. A third standard of administrative success is\\\\nthe resilience and reliability of bureaucracy in adverse conditions such as cata-\\\\nstrophes. The standard of assessing success is the robustness of service provisions\\\\nand the provision of security and survival, which is again associated with an\\\\nemphasis on input and processes.\\\\n\\\\nHood (1991) argues that frugality, honesty and resilience cannot be satisfied at the\\\\nsame time. Moreover, he points out that NPM tends to assume honesty and neu-\\\\ntrality as given values, which leads to the empirical question whether frugality (i.e.\\\\nNPM reforms) crowds out honesty and resilience in the long run. In a similar vein,\\\\nFrederickson (1996, 266) stresses the trade-offs between the rationalities of mission-\\\\ndriven government and rule-driven government: If efficiency and flexibility are\\\\npreferred, then a rationality of tossing out rules and substituting the superiority of\\\\nmission is called for. A dominance of output-orientation is likely to result in more\\\\nefficient innovative, and flexible government, and government that is less fair and\\\\nmore open to abuse and corruption (Frederickson 1996, 266).\\\\n\\\\nOlsen (2006) emphasizes the difficult balancing of administrative values too, and\\\\nchallenges the universalistic nature of principles of organizational design which he\\\\nclaims are partial, time- and space-bound interpretations (Olsen 2006, 14).\\\\nMoreover, he argues that bureaucratic organizations inculcate genuinely democratic\\\\n\\\\nPUBLIC MANAGEMENT REVIEW 767\\\\n\\\\n\\\\n\\\\nvalues such as fairness and equality into their members. Likewise, Suleiman (2003)\\\\nstresses the problematic consequences of NPM reforms on democratic governance\\\\nand emphasizes that managerial reforms imply skepticism about the existence of a\\\\npublic-service institution (Suleiman 2003, 47).\\\\n\\\\nThis article contributes to the question how competing administrative values are\\\\nbalanced in a tradition of rule-bound administration. We empirically test the wide-\\\\nspread assumption that managerial reforms focus on performance and measuring\\\\noutputs is at odds with the Rechtsstaat tradition with its strong emphasis on hierarchy\\\\nand legality i.e. formal rules and procedures (Lynn 2006; Pollitt and Bouckaert 2011;\\\\nProeller and Schedler 2005).\\\\n\\\\nAgencification in four Continental European countries\\\\n\\\\nAgencification is part of the complex of NPM reforms (Pollitt and Bouckaert 2011;\\\\nSmullen 2010; Verhoest et al. 2012). These reforms were based on the expectation\\\\nthat breaking up government departments by delegating executive and regulatory\\\\ntasks to single-purpose agencies and introducing business-like instruments would\\\\nboost performance. In exchange for more autonomy, agencies would however also\\\\nhave to report about their performance (Moynihan and Pandey 2006). This section\\\\ngives a short overview of agencification in the four countries under study.1\\\\n\\\\nAlbeit looking back to a long tradition of public agencies and authorities outside\\\\ncore ministerial departments, agencification reforms did not become popular in\\\\nAustria until the 1990s. They involved the creation of legally independent but fully\\\\ngovernment-owned incorporated organizations through statutory law. Such corpor-\\\\natizations based both on public and private law became increasingly popular to\\\\nescape from supposedly inflexible budget and civil service laws but also allowed to\\\\nhive-off public sector deficits (Hammerschmid, Krischock, and Steigenberger 2012).\\\\nThe corporatization fever within the Austrian federal government instigated some\\\\ncontroversy about accountability and fragmentation issues, to which the government\\\\nresponded by introducing a new type of agency status which grants selected govern-\\\\nment units a more flexible and discretionary use of financial resources on the basis of\\\\nstatutory performance agreements. In contrast to corporatizations, these semi-auton-\\\\nomous agencies remain within the federal legal framework.\\\\n\\\\nSimilarly, Germany has a long tradition of delegation to public law based organi-\\\\nzations outside ministerial departments. A large number of federal agencies were\\\\ncreated in the post-war period, whereas since the 1990s most reforms involved\\\\nmergers of existing organizations, as well as the formal autonomization of a limited\\\\nnumber of public law agencies through changing their legal status from semi-auton-\\\\nomous to legally independent organizations (Bach and Jann 2010). The rhetoric of\\\\nmanagerial reforms came later to Germany than to most other Western European\\\\ncountries, and their implementation remained rather limited, at least at the federal\\\\nlevel (Pollitt and Bouckaert 2011). Most importantly, administrative reforms have a\\\\nstrong sectoral focus, which is related to the strong departmental principle, according\\\\nto which parent ministries decide how much autonomy agencies can have, and how\\\\nthey are held accountable.\\\\n\\\\nSteiner and Huber (2012, 191) typify the Swiss pattern of administrative reforms as\\\\nevolutionary change where radical reforms rarely occur. That said, since the 1990s\\\\nseveral public law bodies were granted more budgetary autonomy, and performance\\\\n\\\\n768 T. BACH ET AL.\\\\n\\\\n\\\\n\\\\ncontracts were introduced for those semi-autonomous organizations. In addition,\\\\nlegally independent units (public or private law) were created in the 1990s, including\\\\nlarge organizations such as the Swiss Railways and the Swiss Post. Though increased\\\\nautonomy from politics was the main driver of these developments, government and\\\\nparliament are reluctant to fully switch to a managerial steering model because they\\\\nprefer to retain the possibility to intervene directly. However, the parallel existence of\\\\nold and modern agencies has created tensions (Steiner and Huber 2012), and the\\\\ngovernment has recently embarked on a comprehensive reform of governing arrange-\\\\nments for agencies.\\\\n\\\\nThe Netherlands has a long-standing tradition in the creation of agencies\\\\n(Yesilkagit and van Thiel 2012). However, under influence of NPM in the 1980s,\\\\nthe number of agencies skyrocketed, in particular the legally independent ZBOs\\\\n(zelfstandige bestuursorganen). Similar to Austria this led to a hot political debate,\\\\nfuelled by reports about poor legal and accountability arrangements. The government\\\\nresponded by creating a new type of semi-autonomous agency (agentschap) that\\\\nwould remain closer to the government (limited autonomy, full ministerial account-\\\\nability). The Dutch debate on agencies focuses on ministerial accountability for\\\\nZBOs, which is limited. However, there are no generic guidelines on the boundaries\\\\nof this (limited) accountability. Parent ministries can decide individually how they\\\\nmonitor and control agencies (Yesilkagit and van Thiel 2012). The arrangement is\\\\nlaid down in some form of contract or protocol. In sum, there is a large variety in\\\\nagency arrangements, despite the advent of a charter law for ZBOs (Overman, van\\\\nThiel, and Lafarge 2014).\\\\n\\\\nAfter this brief outline of agency reforms in the four countries, we will now\\\\ndevelop theoretical expectations regarding the impact of agency reforms on the\\\\naccountability of agency chief executives in countries with a Rechtsstaat tradition.\\\\n\\\\nManagerial reforms, administrative values and accountability\\\\n\\\\nAccountability is an important concept in the NPM paradigm, although in different\\\\nways and for different reasons (Aucoin and Heintzman 2000; Bovens 2010; L\\\\xe6greid\\\\n2014; Schillemans 2008). On the one hand, the quest for improved accountability was\\\\none of the main driving forces to implement administrative reforms. On the other\\\\nhand, under NPM new forms of accountability have been introduced, especially for\\\\nsemi-autonomous agencies (Overman, van Thiel, and van Genugten 2015;\\\\nSchillemans 2008; Verschuere et al. 2006). Such new types of accountability include\\\\ndownward towards stakeholders and users (Verschuere et al. 2006) and horizontal\\\\ntowards boards etc. that are not hierarchical superiors of agencies (Schillemans 2008).\\\\nYet these new types hardly seem to replace the relevance of the vertical dimension of\\\\naccountability towards parent ministries, nor have they proven to be a solution to the\\\\nnew accountability concerns that were raised after agencification because of the\\\\nweakening of the traditional vertical accountability to ministries.\\\\n\\\\nTurning to the substance of accountability relations, L\\\\xe6greid (2014, 325326)\\\\nargues that NPM reforms focus on individual managerial accountability rather than\\\\ncollective and political accountability, shifting the focus from processes and com-\\\\npliance with rules and input (finances) to output and results. More traditional\\\\nnotions of accountability, such as accountability for fairness and for processes, have\\\\nbeen challenged by notions of increased efficiency, competition, and cost\\\\n\\\\nPUBLIC MANAGEMENT REVIEW 769\\\\n\\\\n\\\\n\\\\neffectiveness. These elements of managerial accountability  more individual, more\\\\nmanagerial, different foci  correspond to a vision of politicians as strategic super-\\\\nvisors of agencies. In practice, this will create tensions as politicians, and civil servants\\\\nalike, find it difficult to refrain from intervention, even in daily managerial matters\\\\n(Pollitt 2005). As a result, they may choose to supplement existing accountability\\\\narrangements with new elements, which would in effect reduce the autonomy just\\\\ngranted to agencies or even exceed previous requirements (Pollitt and Bouckaert\\\\n2011, 197198).\\\\n\\\\nThe Rechtsstaat tradition is characterized by an emphasis on input and procedural\\\\ncontrol, rather than output control. These different foci address very different sets of\\\\nadministrative values. Input control is associated with the democratic chain of\\\\ndelegation and accountability, while procedural control is in line with the obligation\\\\nto follow predefined rules and procedures. Managerial values stress output control\\\\nand emphasize performance and efficiency. If countries adopt the logic of the NPM,\\\\nagency accountability should become focused mostly on results or performance, and\\\\nrequire agencies to provide information ex post rather than ex ante (Moynihan and\\\\nPandey 2006; Verschuere et al. 2006). Put differently, managing to outputs and\\\\noutcomes gives preference to results over compliance with input controls and pre-\\\\nscribed processes (Aucoin and Heintzman 2000, 47). For governments in a\\\\nRechtsstaat model, this is quite a change from the traditional focus on the legality\\\\nof decisions and expenditures. In the analyses below we will include three kinds of\\\\naccountability: on finances (as indicator of procedural control linked to the input\\\\ndimension), legality (as indicator of procedural control linked to how organizations\\\\nperform their tasks) and results (as indicator of performance control).2\\\\n\\\\nTo be sure, a shared administrative tradition does not imply that countries are\\\\nidentical. Therefore, a comparative analysis of national patterns of agency chief\\\\nexecutive accountability will have to take into account country-specific trajectories.\\\\nAlso, different public sector organizations might emphasize different types of admin-\\\\nistrative values, and patterns of accountability might converge among similar orga-\\\\nnizations, rather than within national contexts. We outline both analytical\\\\nperspectives in the following subsections.\\\\n\\\\nNational patterns approach\\\\n\\\\nFollowing Painter and Peters (2010), our four countries represent the Rechtsstaat\\\\nmodel. Arguably, Germany and Austria are closest to this ideal-type model, yet also\\\\nthe Netherlands and Switzerland have traditionally been strongly influenced by it.\\\\nThat said, the countries also display considerable differences (Bach and Huber 2012).\\\\nFor instance, Austria, Germany and Switzerland have independent administrative\\\\ncourts, which is not the case for the Netherlands. Moreover, whereas Germany and to\\\\na lesser degree Austria have a separated civil service system, public sector employ-\\\\nment in the Netherlands and Switzerland is less clearly differentiated from the private\\\\nsector. Finally, all countries except for the Netherlands have a federal state structure,\\\\nand it could be that federal agencies perform different tasks than national agencies.\\\\nTherefore, we will control for task (policy sector) in our analysis below. We will now\\\\nformulate three hypotheses on the interplay of administrative reforms and adminis-\\\\ntrative traditions (see Table 1 for an overview of the hypotheses).\\\\n\\\\n770 T. BACH ET AL.\\\\n\\\\n\\\\n\\\\nThe first hypothesis, the instrumental hypothesis (H1), assumes that administrative\\\\nreforms will lead to desired effects, and that the balancing of different values in\\\\nagencies vertical accountability can be deliberately designed and changed. This\\\\nperspective draws on the idea of administrative reform as institutional design by\\\\npoliticians aiming at the achievement of specific objectives (Painter and Yee 2011).\\\\nAlthough administrative traditions (and particularly the Rechtsstaat tradition) are\\\\noften assumed to constrain the possibilities for deliberate reforms, this does not mean\\\\nthat such reforms are impossible. After all, administrative traditions are only one\\\\nexplanatory factor for administrative reform processes (Yesilkagit 2010). Yet assum-\\\\ning that deliberate design is possible has important implications for our conceptual\\\\nunderstanding of administrative traditions. Most importantly, the question is whether\\\\npossible changes in the balance of administrative values imply a significant change in\\\\nthe nature of a countrys administrative tradition (cf. Yesilkagit 2010). We will return\\\\nto this question when presenting our third hypothesis.\\\\n\\\\nFollowing the instrumental hypothesis, input and process as standards of chief\\\\nexecutive accountability will have been replaced by output standards of accountability\\\\nin countries where NPM reforms have been pursued most rigorously. Against the\\\\nbackground of agency reforms in the four countries described above (see also Bach and\\\\nHuber 2012), as well as more general assessments of administrative reforms and their\\\\neffects in those countries (Hammerschmid and Meyer 2005; Pollitt and Bouckaert\\\\n2011; Proeller and Schedler 2005), we consider the Netherlands and Switzerland as\\\\nmore eager reformers, compared to Austria and Germany. To be sure, this hypothesis\\\\ndoes not naively assume that traditional values have completely disappeared, but rather\\\\nthat performance accountability has taken a dominant position.\\\\n\\\\nIn contrast, the continuity hypothesis (H2) suggests a high degree of stability in\\\\nadministrative traditions and hence accountability patterns in all four Rechtsstaat\\\\ncountries. More precisely, we would expect high degrees of financial and legal\\\\naccountability (which are associated with input and process control patterns) and\\\\nlow degrees of performance accountability (output control). The continuity hypoth-\\\\nesis draws on an institutionalist argument, suggesting that reform success depends on\\\\nthe cultural compatibility between the underlying values of the reform and the\\\\nnational context (Christensen and L\\\\xe6greid 2001; Pollitt and Bouckaert 2011). This\\\\n\\\\nTable 1. Hypotheses.\\\\n\\\\nNational patterns approach\\\\nH1: Instrumental hypothesis Chief executives are held accountable on performance rather than on\\\\n\\\\ninput and process in countries where more comprehensive NPM\\\\nreforms have been pursued (i.e. The Netherlands and Switzerland).\\\\n\\\\nH2: Continuity hypothesis Chief executives are held accountable on input and process rather than\\\\non performance, which reflects the shared administrative tradition of\\\\nthe four countries.\\\\n\\\\nH3: Layering hypothesis Chief executives are held accountable on input, process and output in\\\\ncountries where more comprehensive NPM reforms have been\\\\npursued (i.e. The Netherlands and Switzerland).\\\\n\\\\nOrganizational patterns approach\\\\nH4: Agency type hypothesis Formally more autonomous agencies will report lower degrees of\\\\n\\\\naccountability on all dimensions.\\\\nH5: Autonomy-accountability-\\\\nbalance hypothesis\\\\n\\\\nMore formally autonomous agencies are more accountable on results,\\\\nbut less accountable on input and process.\\\\n\\\\nH6: Agency funding hypothesis The more the agency budget is self-funded, the lower its financial\\\\naccountability.\\\\n\\\\nPUBLIC MANAGEMENT REVIEW 771\\\\n\\\\n\\\\n\\\\nview assumes that administrative traditions are stable and cannot be easily changed\\\\n(Lynn 2006; Painter and Peters 2010). Accordingly, accountability patterns in\\\\nRechtsstaat countries are unlikely to incorporate performance as a core value.\\\\n\\\\nThe third hypothesis provides some analytical middle ground between the instru-\\\\nmental and continuity hypotheses. A layering hypothesis (H3) suggests that reforms\\\\ndo not replace the existing system, but rather add new elements to the existing system\\\\nthrough a process of addition, not demolition of the traditional elements (Pollitt and\\\\nBouckaert 2011, 120; Lapsley 2008; Lodge and Gill 2011). This assumption corre-\\\\nsponds to what Pollitt and Bouckaert (2011) have labelled the Neo-Weberian State\\\\n(NWS), which implies a combination of traditional values such as honesty and\\\\nfairness with values of frugality. Thus an administrative tradition can continue to\\\\nexist, although in a slightly modified version. With regard to administrative account-\\\\nability relations, the NWS implies a shift in the balance from ex-ante to ex-post\\\\ncontrols, but not a complete abandonment of the former (Pollitt and Bouckaert 2011,\\\\n119). In terms of accountability arrangements, H3 predicts an equal emphasis on\\\\nfinancial, legal and results accountability in those countries where managerial reforms\\\\nhave been pursued most rigorously.\\\\n\\\\nOrganizational patterns approach\\\\n\\\\nA complementary perspective suggests that patterns of chief executive accountability\\\\nvary between agencies, with similar values being emphasized in similar organizations\\\\n(Bach 2014; Pollitt 2006; Verhoest et al. 2010). This article focuses on two organiza-\\\\ntional characteristics: agency type and agency financing. An institutional choice\\\\nperspective assumes that formal-legal structures are the result of deliberate design,\\\\nand that these structures matter for actual patterns of decision-making (Christensen\\\\n2001; Painter and Yee 2011). Accordingly, differences in formal autonomy are\\\\nassumed to translate into variation in the actual relationship with parent ministries,\\\\nincluding accountability relations. This is particularly relevant for Rechtsstaat coun-\\\\ntries, where decision-makers have a limited repertoire of structural elements (legal\\\\ntypes) at their disposal when designing public organizations (Bach and Jann 2010).\\\\nThe agency type hypothesis (H4) suggests that chief executives of formally more\\\\nautonomous agencies will report lower degrees of accountability on all dimensions.\\\\nHowever, considering the central tenet of NPM that performance accountability\\\\nshould go hand in hand with high degrees of managerial autonomy, a more fine-\\\\ngrained autonomy-accountability-balance hypothesis (H5) suggests that more formally\\\\nautonomous agencies are more accountable on results, but less accountable on input\\\\nand process. The ideal-typical modern agency is characterized by high degrees of\\\\nmanagerial autonomy in the use of inputs (e.g. through lump-sum budgets) and the\\\\ninternal management of the organization (e.g. through agency-specific personnel\\\\nregulations), as well as high focus on results (Moynihan and Pandey 2006;\\\\nVerschuere et al. 2006). Assuming that administrative reforms used this model as a\\\\nblueprint, we would hence expect a somewhat paradoxical effect of the degree of\\\\nformal autonomy on perceived levels of accountability, namely both more (results)\\\\nand less (financial and legal) accountability. The mode of agency financing is also\\\\nassumed to affect day-to-day agency governance. Arguably parent ministries have\\\\nlimited leverage over agencies which are fully or partially self-funded, as they are\\\\nunable to use financial appropriations as a steering instrument (Pollitt 2006). A high\\\\n\\\\n772 T. BACH ET AL.\\\\n\\\\n\\\\n\\\\nproportion of self-generated funds may even reverse dependency relationships, as\\\\nministries may rely on agencies for revenues. Additionally, self-funded agencies will\\\\npush for discretion in the use of their resources (Verhoest et al. 2010). The agency\\\\nfunding hypothesis (H6) suggests that higher degrees of self-funding imply lower\\\\ndegrees of accountability, specifically with regard to financial accountability.\\\\n\\\\nData and methods\\\\n\\\\nData were collected by similar surveys of agency chief executives in all four countries.\\\\nThis research is part of the COBRA network, an international research project, which\\\\nhas been carried out in 18 countries.3 Table 2 reports information about sample size\\\\nand response rates. All response rates are above the average for surveys of senior\\\\nmanagers answering on behalf of the entire organization (Baruch and Holtom 2008).\\\\nNational samples were compared to the population with regard to organizational\\\\ncharacteristics, and found to be representative of the population in terms of poten-\\\\ntially relevant organizational characteristics (e.g. agency type). The questionnaires\\\\nwere sent to the chief executives of the entire population of agencies in the four\\\\ncountries, and they were asked to answer on behalf of their organization, rather than\\\\nreporting their personal views. Surveying chief executives is a widespread methodo-\\\\nlogical approach in comparative research on agency autonomy and accountability\\\\ntargeted at the organizational level of analysis (e.g. Hanretty and Koop 2012; Maggetti\\\\n2012; Verschuere et al. 2006). Although chief executives cannot be familiar with every\\\\ndetail of the day-to-day-management of their organization, their position entails a\\\\ngreat deal of knowledge about the demands imposed on the organization by their\\\\nparent ministry, which they acquire throug'\"]\n",
            "<class 'list'>\n",
            "b\"New Thesis Proposal Form \\n\\nAY 2019-2020 \\n\\n  \\n  \\n\\n1. What is your research topic? \\n  \\n\\nPlease list the academic field and interest of your planned project. \\n \\nWe would like to explore the intersection between economics and sociology to understand \\nhow various policy suggestions would fare in reducing police interactions, police brutality \\nand prison populations in the United States, particularly as they exacerbate or alleviate the \\nrole of racial bias and inequality. While there are many ideas and public discussions about \\npossible alleviations, there is not a lot of research on restorative justice measures. \\nLikewise, there tends to be an overfocus in the literature on evaluating policies by the \\namount of arrests or prison sentences.  \\n\\n \\n 2. What is your research question? \\n  \\n\\nAt this stage, your research question will not be fully formed, and you may currently be                \\nconsidering more than one question. Your question will also change and evolve            \\nthroughout the project. Nevertheless, it is important for us and for you to know which               \\nquestions you consider addressing, so please list your key question(s) of interest. \\n \\nWe are considering multiple areas to focus on: \\n\\n Causal link between the strength of a police union and the number of incidents              \\nof police brutality. Many analysts identify police unions as the primary reason police             \\nofficers cannot be fired or charged with murder when commiting acts of violence. The              \\nstrength of police unions varies by state and locality and local and federal laws also               \\nintersect to form a web of policies that create a high level of inconsistency among               \\nunions. Options for research questions include:  \\n\\n Is there a causal link between the strength of police unions and the number of               \\nincidents of police brutality? \\n\\n Is there a causal link between the 6 factors of unionised policing and their              \\neffects on police brutality? (As indicated by the Police Union Contract Project:            \\nhttps://www.checkthepolice.org/#review) \\n\\n  \\n  \\n\\n Impact of the CAHOOTS program in Eugene, Oregon. The CAHOOTS program           \\ndiverts about 15% of the citys 911 calls away from armed police to other responders               \\nfor cases of domestic violence, suicide, substance abuse, housing crises, etc. The            \\n\\nhttps://www.checkthepolice.org/#review\\n\\n\\nidea being that lowering the appearance of armed police will reduce the incidence of              \\npolice interactions and police brutality. Options for a research question include:  \\n\\n What is the impact of the program after 30 years in operation? We would              \\ncompare it to another city (similar in size, demographics, crime profile, and            \\nregion  such as Humboldt, California) to see if there is an appreciable             \\ndifference in police violence that can be attributed to the program.  \\n\\n Does implicit bias by 911 callers or responders affect which calls are diverted             \\nto CAHOOTS and which remain in the hands of the police?  \\n\\n Lastly, the impact and effectiveness of policy alternatives to the cash bail bond             \\nsystem: In recent years, cities in New Jersey and the district of DC have launched               \\nalternatives to bail bond systems including minimizing the use of pretrial detention and             \\ninstituting practices to ensure defendants appear in court such as transportation           \\nvouchers, child care, and court date reminders. These come as experts show there is              \\nno evidence that bail bonds increase the defendants likelihood to appear in court.             \\nPossible research questions include: \\n\\n What is the impact/effectiveness of these alternative programs?  \\n Is there a causal link between the increased safety of the community and             \\n\\nalternative programs?(or at least no appreciable rise in crime). A part of our             \\nthesis would also be predictive, analysing what part of risk assessments and            \\nother alternatives to bail bonds are factors in the success of the policy. \\n\\n Lastly, currently on the California ballot there is a proposition to institute risk             \\nassessment as an alternative for cash bail bonds. We can use the analysis of              \\nthe above work to make a prediction about the future of Californias pretrial jail              \\nsystem under the new policy if it passes.  \\n\\n  \\n\\n3. Why would you like to explore this topic and question? \\n  \\n\\nPlease let us know why you are curious about your research topic, and why you think your \\nquestion(s) are worth exploring. \\n \\nWe are primarily interested in this topic as awareness of Black Lives Matter has reignited \\nthe debate about how to fix the broken policing and incarceration problem in the United \\nStates. Current empirical research lacks conclusive evidence regarding which policies are \\nmost effective and rarely analyzes policies and programs through the intersection of policy \\nideas in contrast to how it is implemented in real time. We also find it important to \\nempirically study alternatives to the current system in order to create better policies in the \\npublic discourse. We are driven to understand which parts of the system can be leveraged \\nto sufficiently lower centuries of racial bias in the system. We believe the system must be \\naddressed at every level, with proper policies designed to remove bias.  \\n \\nFurthermore, we are extremely interested in causality, impact, inequality, and labour \\nunions. Many of the topics we are interested in neatly converge on these topics and there \\nis an abundance of detailed research questions we could pursue and add value to the field \\nwrit-large.  \\n\\n  \\n\\n\\n\\n4. What are the debates to which your dissertation will relate? \\n  \\n\\nThese debates can be theoretical, empirical, normative, related to policy, or a combination \\nof these. \\n \\nOur research would likely contribute to the following debates:  \\n\\n Is weakening police unions the answer to less police brutality? How and in what \\nmanner? \\n\\n Can defunding/debundling the police lead to better public safety, fewer police \\ninteractions and less police brutality? What role does bias play in determining \\nwhich incidents can be handled by alternative task forces as opposed to the \\narmed police? \\n\\n What is the best alternative to the cash bail bond system in reducing pretrial \\nprison populations? What are the best ways to ensure offenders appear in court? \\nAre cite and release programs effective/do they make the community safer or \\nmore dangerous? What are the effects of risk assessment programs on the \\ncriminal justice system? \\n\\n5. What is your proposed methodology? \\n \\n\\nQuantitative (causal inference + impact assessment) + Normative + Comparative \\n \\nMethodology will vary slightly based on which question is selected. The methodology will \\nlikely involve a policy evaluation and empirical research, which may include a \\ncomparative analysis across cities and/or states. All analyses will evaluate policy in \\nterms of alleviating racial bias and inequality and will therefore include a normative \\nanalysis as well. \\n\\n  \\n6. What type of data do you need?  \\nHave you thought about data access? If your data proves to be inaccessible, have you \\nconsidered a Plan B? \\n\\nOn data access, a brief search shows that much of the data on crime and prisons is publicly \\navailable. In some cases, we may need to do considerable work cleaning or wrangling the \\ndata: \\n\\n Police Unions: National data set by FBI -- only 40% of the police unions are \\ncollected. We would only attempt to analyse the local effect, so this would still be \\nfeasible. \\n\\n CAHOOTS: 911 calls are public data (but we do not know how detailed they are for \\nethnicity, race, gender, etc), crime stats can be requested publicly. CAHOOTS has \\npublicly shared data as interest has grown in the program, further inquiry could be \\nmade directly with the program. The biggest problem would be how to define bias in \\n\\n\\n\\ncalls that were not diverted and there may not be visibility into why one call is \\ndiverted and another is not.  \\n\\n Cash Bail Bonds: Data should mostly be available through public records. \\n \\nSome datasets may require payment, but we think the fees are nominal and would hope to \\nsee some sort of reimbursement for them. The other factor we are concerned about is \\nprocessing time to receive the data we need. To be safe we would aim to identify the data \\nspecifically as early as possible to mitigate the time delay.  \\n \\nLastly, if the data we are interested in doesn't exist, we can redefine the problem in terms of \\nhow we define the outcome variable or look at other localities, types of crime, etc. Overall, \\nwe dont foresee this being a big issue as crime data in the USA is abundant.\"\n",
            "<class 'list'>\n",
            "b'MIA/MPP - Supervision Plan AY2020/2021        1 \\n\\n \\n \\n\\nMaster Thesis Supervision Plan \\nAcademic Year 2020-2021 \\n\\nMIA/MPP \\n \\n\\nName: Ronny Patz \\n\\nProfessor of (Lecturer replacing the Professorship for) International Political \\n\\nEconomy  \\n\\n  \\nAdvisor Information  \\n\\nOffice TBC \\n\\nE-Mail patz@hertie-school.org \\n\\nFaculty Assistant Bernadette Boddin \\n\\nOffice Hours On appointment (on site or virtual) \\n\\n \\nResearch & Advising Profile: \\n \\n\\nGeneral Academic Field: What is your academic field, and what are your areas of supervision? \\n\\nMy focus over the past years have been international organizations (IOs), in particular the role of \\nthe international bureaucrats and international officials therein. This includes the complex \\nrelations between IO bureaucracies and state politicians, diplomats and bureaucrats. I have done \\nfield research on UN organizations in Geneva, New York, Brussels, Paris, and Amman/Jerusalem. \\nIn 2020, I am co-chairing the section 21st Century International Organizations at ECPR General \\nConference, so my interest in this domain is very broad: \\n\\nhttps://ecpr.eu/Events/SectionDetails.aspx?SectionID=1004&EventID=156 \\n\\nBefore focusing on IOs more broadly, my main focus was on EU lobbying and EU \\nsecrecy/transparency, so Im comfortable with a broad range of EU-related topics including for \\nexample theses focused on particular EU institutions and agencies. I have worked for the EU \\nOffice of Transparency International in Brussels for multiple years, so am familiar with Brussels \\nand Luxembourg institutional and lobbying/advocacy dynamics also on the ground. \\n\\n \\n\\nSpecific Expertise: What is your specific area of expertise, and what topics are you supervising? \\n\\nGeneral Global Governance \\n\\nInternational Bureaucracy (i.e. the administrations of international organizations) \\n\\nFinancing and Resourcing of International Organizations, including in history (League of Nations, \\npre-WWI international unions) \\n\\nGlobal Refugee Policy, including Palestine Refugees \\n\\nEuropean Union \\n\\nEU Lobbying & Interest Groups \\n\\nEU Secrecy & Transparency \\n\\n\\n\\n  MIA/MPP - Supervision Plan AY2020/2021        2 \\n\\nUnited Nations System \\n\\nDifferent UN system agencies (e.g. UN Secretariat, WHO, ILO, UNESCO, UNHCR, UNRWA, IOM, \\nUN Women) as well as inter-agency dynamics \\n\\n \\n\\nMethodology: What methodologies and methods are you able to supervise?  \\n\\nQualitative research \\n\\n- expert interviews (e.g. in international organizations) \\n\\n- archival/document research \\n\\nQuantitative reesarch \\n\\nText-as-data, in particular sentiment analysis (very interested to supervise quantitative text \\n\\nanalysis in general but other Hertie colleagues are specialized methods experts in this domain) \\n\\nNetwork analysis (methods used for my PhD thesis) \\n\\nBasic statistics (happy to supervise more complex statistics but am no expert) \\n\\nOpen for mixed methods \\n\\n \\nSupervision Style: Please include information on what your advisees can expect from you in terms \\nof supervision format. \\n\\nCombination of colloquium and individual/team meetings & retreat \\n\\nHappy to supervise teams (especially on topics proposed below) \\n\\n \\nExamples of Previously Supervised Thesis Topics: (if applicable) \\n\\n- various MA and BA theses on EU lobbying \\n\\n- various BA theses on EU and UNHCR funding or the emergence of the role of ICAN \\n\\n \\n\\nRecommended General Readings: (if applicable) \\nThe following texts are general readings material relevant for all advisees: \\n\\n \\nPanke, Diana (2018). Research design & method selection: making good choices in the social \\nsciences. Sage. \\n \\n\\n \\n\\nProposed Projects: (if applicable)  \\n\\nProject Title (only suggestions to show potential directions, \\n\\nprojects can be qualitative, quantitative or mixed methods) \\n\\nPractice Partner (happy to \\n\\ndiscuss how to connect with \\n\\nacademic, IO or NGO partners \\n\\nfor these topics) \\n\\nWomen, Peace and Security in UN Security Council Speeches \\n\\n(working qualitatively or quantitatively with this dataset: \\n\\nhttps://dataverse.harvard.edu/dataset.xhtml?persistentId=doi\\n\\n:10.7910/DVN/KGVSYH)  \\n\\n \\n\\n\\n\\n  MIA/MPP - Supervision Plan AY2020/2021        3 \\n\\nThe SDGs and the Emergence of a New Language of \\n\\nSustainable Development in the United Nations System (e.g. \\n\\ntext-as-data approach, focus on gender-related aspects) \\n\\n \\n\\nEU Financing of UN (or other International) Agencies  \\n\\nThe Causes/Effects/Relevance of Large-Scale Donor \\n\\nConferences for UN System Financing \\n \\n\\nCOVID19 and the Financing of International Organizations  \\n\\n \\n\\nPlagiarism:  \\n\\nPlagiarism is an infringement of \\xa7 11 Good Academic Conduct, 2a: Infringements of the standards of \\n\\ngood academic conduct include for instance to use wordings, ideas or other intellectual work of others \\n\\nin an academic work without clearly indicating the author. The obligation to indicate the authorship \\n\\nof others shall apply irrespective of whether or not the sources used are protected by copyright (See: \\n\\nExam Rules, \\xa7 11 Good Academic Conduct for more information). \\n\\nIt is vital to keep track of your sources and to cite all material properly. \\n\\nThe Library will offer a session available to all students on resource management and proper citation. \\n\\n \\n\\nAttendance:  \\n\\nStudents receive 8 ECTS for the Master\\xb4s thesis colloquium. Attendance for supervisionwhether \\n\\nin the form of a colloquium or an individual meetingis compulsory. Students are expected to be \\n\\npresent, prepared, and engaged in each session, and to adhere to deadlines set for assignments.  \\n\\nIn case of an excused absence, students must notify their supervisor. Absence must be \\n\\ncompensated with an additional assignment.  \\n\\nStudents on an academic exchange programme in the Fall Semester should be given the \\n\\nopportunity of remote supervision.  \\n\\n \\n\\nParticipation & Milestones: \\n\\nWhat do you expect students to prepare for each session? \\n\\nPossible assignments include (the following are just examples): \\n\\n Short research outline (1-pager)  \\n\\n Extended research design (5-pager + references) \\n\\n Intermediate presentation of empirical results \\n\\n Group presentation \\n\\n Writing retreat \\n\\n \\n\\n \\n\\n \\n\\n \\n\\n \\n\\n\\n\\n  MIA/MPP - Supervision Plan AY2020/2021        4 \\n\\nColloquium & Meeting Information: \\n\\n Colloquium Dates Session Title \\n\\nMeeting times  Session 1: 6 Nov 2020 Designing Research: \\n\\nQuantitative, Qualitative and \\n\\nMixed Method Approaches \\n\\nSession 2: 27 Nov 2020 Defending Your Research \\n\\nDesign (group meeting) \\n\\nSession 3: 1-5 February 2021 Individual consultations \\n\\n(progress support) \\n\\nSession 4: 22-26 February Individual consultations \\n\\n(progress report) \\n\\nSession 5: 26 March 2021 Thesis presentation \\n\\nSession 6: Mid-April 2021 4-day writing retreat \\n\\nColloquium Sessions: \\n\\nSession 1: 06 Nov 2020 \\n\\nDesigning Research: Quantitative, Qualitative and Mixed Method Approaches (group meeting) \\n\\nAim Find a research question and possible approach to address that \\n\\nquestion \\n\\nAssignment  1-page research design outline, including research questions, \\n\\nsummary of key recent literature (minimum: 1 monograph/edited \\n\\nvolume and 4 academic papers published in the last 5 years), \\n\\nrequired data/information and ways to access these; choice of \\n\\nqual/quant methods for the analysis (or options for methods if \\n\\nundecided) \\n\\nReadings (if applicable) Panke (2018) - see above [or other recent textbook on research \\n\\ndesign] \\n\\n \\n\\nSession 2: 27 Nov 2020 \\n\\nDefending Your Research Design (group meeting) \\n\\nAim Develop your research design to a realistic stage, defend in the group, \\n\\nand revise it to a pre-final version  \\n\\nAssignment  6-page research design, including a more advanced literature review, an \\n\\noperationalization of the research strategy, and a description of available \\n\\ndata/information (or the strategy and timeline to collect it) \\n\\nReadings (if applicable) - \\n\\n \\n\\nSession 3: 1-5 February 2021 (on appointment) \\n\\n\\n\\n  MIA/MPP - Supervision Plan AY2020/2021        5 \\n\\nIndividual consultations (individual progress support) \\n\\nAim Discuss the progress of your empirical research and potential solutions \\n\\nfor challenges \\n\\nAssignment  Revise your data collection plan in line with challenges faced; send \\n\\nquestions in advance \\n\\nReadings (if applicable) - \\n\\n \\n\\nSession 4: 22-26 February 2021 (on appointment) \\n\\nIndividual consultations (individual progress report) \\n\\nAim Present and discuss your preliminary findings \\n\\nAssignment (e.g. first \\n\\nchapter) \\n\\nPresent a first version of your empirical analysis on 3-4 pages, including \\n\\nthe most interesting findings so far \\n\\nReadings (if applicable) - \\n\\n \\n\\nSession 5: 26 March 2021 \\n\\nThesis presentation (group meeting) \\n\\nAim Present your thesis to the group. \\n\\nAssignment  Prepare a 10-15 minute pre-recorded presentation and discuss one follow \\n\\nstudents presentation during the joint group meeting \\n\\nReadings (if applicable) - \\n\\n \\n\\nSession 6: Around mid-April 2021 (date to be agreed) \\n\\nFour-day writing retreat (COVID19 permitting in real life, otherwise virtual/both)  \\n\\nAim Joint retreat (real, virtual or both) including Ronny & all supervisees to \\n\\nshift motivate each other to get things done. \\n\\nAssignment  Be as far with your thesis as possible and get as far to finalization as \\n\\npossible during those days, including joint support sessions. \\n\\nReadings (if applicable) -'\n",
            "<class 'list'>\n"
          ],
          "name": "stdout"
        }
      ]
    },
    {
      "cell_type": "markdown",
      "metadata": {
        "id": "M0c_ftxjxY_H"
      },
      "source": [
        "## Importing what we need"
      ]
    },
    {
      "cell_type": "markdown",
      "metadata": {
        "id": "sYpCc6tdA8Cg"
      },
      "source": [
        "For some reasons it sometimes returns an error when the cell runs at first time, just try again and it should work."
      ]
    },
    {
      "cell_type": "code",
      "metadata": {
        "id": "SZmTpQUov8y8"
      },
      "source": [
        "from contextualized_topic_models.models.ctm import CombinedTM\n",
        "from contextualized_topic_models.utils.data_preparation import bert_embeddings_from_list, TopicModelDataPreparation\n",
        "from contextualized_topic_models.datasets.dataset import CTMDataset\n",
        "from contextualized_topic_models.evaluation.measures import CoherenceNPMI, InvertedRBO\n",
        "from gensim.corpora.dictionary import Dictionary\n",
        "from gensim.test.utils import common_texts\n",
        "from gensim.models import ldamodel \n",
        "import nltk\n",
        "import os\n",
        "import pickle"
      ],
      "execution_count": 5,
      "outputs": []
    },
    {
      "cell_type": "markdown",
      "metadata": {
        "id": "CQkeIrdWLU2m"
      },
      "source": [
        "## Preprocessing"
      ]
    },
    {
      "cell_type": "markdown",
      "metadata": {
        "id": "V-AM070Ez6lW"
      },
      "source": [
        "Let's pass our file with preprocess data to our text handler object. This object takes care of creating the bag of words for you.\n",
        "\n",
        "Why do we use the **preprocessed text** here? we need text without punctuation to build the bag of word. Also, we might want only to have the most frequent words inside the BoW. Too many words might not help."
      ]
    },
    {
      "cell_type": "markdown",
      "metadata": {
        "id": "lP-t9rDmK0PU"
      },
      "source": [
        "#### Train data\n",
        "\n",
        "Due to publisher layout and other \"noisy\" words we need to eliminate more stopwords than are included in nltk stopwords. We add them into a separate list, `stoplist`."
      ]
    },
    {
      "cell_type": "code",
      "metadata": {
        "id": "ndt_lBcBerlX",
        "colab": {
          "base_uri": "https://localhost:8080/"
        },
        "outputId": "deb58681-a958-4476-88ab-2fe58579dc2c"
      },
      "source": [
        "import sys\n",
        "sys.path.insert(0,'/content/drive/MyDrive/ThesisAllocationSystem')\n",
        "%cd '/content/drive/MyDrive/ThesisAllocationSystem'"
      ],
      "execution_count": 6,
      "outputs": [
        {
          "output_type": "stream",
          "text": [
            "/content/drive/.shortcut-targets-by-id/1ExS7M2OOkbYS5Z5O9pbPbaCpSa0rhGet/ThesisAllocationSystem\n"
          ],
          "name": "stdout"
        }
      ]
    },
    {
      "cell_type": "code",
      "metadata": {
        "id": "QHuLa6_ke0UW",
        "colab": {
          "base_uri": "https://localhost:8080/"
        },
        "outputId": "14ad2613-fb32-4cfc-adc5-686039cfa7e2"
      },
      "source": [
        "from WPpreprocessing import WhiteSpacePreprocessing"
      ],
      "execution_count": 7,
      "outputs": [
        {
          "output_type": "stream",
          "text": [
            "[nltk_data] Downloading package stopwords to /root/nltk_data...\n",
            "[nltk_data]   Package stopwords is already up-to-date!\n"
          ],
          "name": "stdout"
        }
      ]
    },
    {
      "cell_type": "code",
      "metadata": {
        "id": "q4yzT8-ZPsNL"
      },
      "source": [
        "stoplist = ['gov', 'anheier', 'xxx', 'et', 'enrichsource', 'al', 'rgreq', 'al', 'often', 'nin', 'nm', 'nd', 'nw', 'nn', 'ns',\n",
        "    'ng', 'np', 'ne', 'na', 'nat', 'nt', 'nio', 'may', 'net', 'even', 'use', 'publicationcoverpdf', '\\\\n', '\\n', 'researchgate' \n",
        "    'likely', 'dataset', 'nwe', 'aims', 'throughout', 'nbecause', 'nonly', 'gov', 'ncan', 'even', 'bryson', 'simple', \n",
        "    'reducing','net', 'example', 'jankin', 'results', 'first', 'esc', 'shows', 'also', 'utc', 'jstor', 'nu', 'nh', 'nb', 'doi' \n",
        "    'www', 'tandfonline', 'nhttps', 'nof', 'nthe', 'well', 'new', 'nand', 'paper', 'co', 'however', 'kreyenfeld', '\\\\xa0See', \n",
        "    '\\\\xa0BIaS?','wegrich', 'mena', 'nsource', 'ny', 'el', 'ng', 'nri', 'nio', 'neu', 'nbut', 'nif', 'ets', 'echr', 'used', 'using',\n",
        "    'vet', 'real', 'one', 'sample', 'noted', 'der', 'die', 'auch', 'nunder', 'nalthough', 'und', 'die', 'nnon', 'oxford', 'nar', 'nnew', \n",
        "    'npm', 'nwether', 'nshould', 'nmost', 'etc']"
      ],
      "execution_count": 8,
      "outputs": []
    },
    {
      "cell_type": "code",
      "metadata": {
        "id": "HoKrSIkxaNBt"
      },
      "source": [
        "sp = WhiteSpacePreprocessing(documents = train_file, new_stopwords = stoplist)\n",
        "train_preprocessed_documents_for_bow, train_unpreprocessed_corpus_for_contextual, vocab = sp.preprocess()"
      ],
      "execution_count": 9,
      "outputs": []
    },
    {
      "cell_type": "code",
      "metadata": {
        "id": "KhLt6VA3wvCB",
        "colab": {
          "base_uri": "https://localhost:8080/",
          "height": 49,
          "referenced_widgets": [
            "519b169aa4d5417b97e7cb7ae90a57b3",
            "c1bc4cf1cdc644f28e390987db1c8a03",
            "2aa13d7ae5e24a318f6902b6a1dd8054",
            "984d7f89555846dd9980e22e390d592a",
            "dde509b220f8449ea2b0eedf985cac99",
            "56652c1dce54404485397aceeed02e23",
            "ff7abb8478ba44098650bb5afd3751db",
            "1ea8110cabf44e6da87a45f2d77b05d3",
            "ef63dd120b844170830fbb0c6244f5d8",
            "9ded911867ae4edb917707b5926ba38f",
            "5331d81f56984ad18fc1ea3c4c9630e8"
          ]
        },
        "outputId": "30f36ef5-6813-451d-87cf-6d7be31bdd78"
      },
      "source": [
        "qt = TopicModelDataPreparation(\"bert-base-nli-mean-tokens\")\n",
        "\n",
        "training_dataset = qt.create_training_set(train_unpreprocessed_corpus_for_contextual, train_preprocessed_documents_for_bow)"
      ],
      "execution_count": 10,
      "outputs": [
        {
          "output_type": "display_data",
          "data": {
            "application/vnd.jupyter.widget-view+json": {
              "model_id": "519b169aa4d5417b97e7cb7ae90a57b3",
              "version_minor": 0,
              "version_major": 2
            },
            "text/plain": [
              "Batches:   0%|          | 0/5 [00:00<?, ?it/s]"
            ]
          },
          "metadata": {
            "tags": []
          }
        }
      ]
    },
    {
      "cell_type": "markdown",
      "metadata": {
        "id": "vu0HY7KWGrk1"
      },
      "source": [
        "You might want to pickle the **training_dataset** object to avoid recomputing the BoW multiple times"
      ]
    },
    {
      "cell_type": "code",
      "metadata": {
        "id": "9kakuf-0BbDm"
      },
      "source": [
        "#pickle the training dataset\n",
        "with open('training.pickle', 'wb') as f:\n",
        "    pickle.dump(training_dataset, f)"
      ],
      "execution_count": 11,
      "outputs": []
    },
    {
      "cell_type": "markdown",
      "metadata": {
        "id": "i5agbVqhxdnY"
      },
      "source": [
        "## Training our Contextualized Topic Model\n",
        "\n",
        "Finally, we can fit our new topic model. We will ask the model to find 14 topics in our collection (n_component parameter of the CTM object)."
      ]
    },
    {
      "cell_type": "code",
      "metadata": {
        "id": "dALamw7HxLj-",
        "colab": {
          "base_uri": "https://localhost:8080/"
        },
        "outputId": "15ce8400-f0a1-4768-e5a7-7ba1d6f8238d"
      },
      "source": [
        "ctm = CombinedTM(input_size=len(qt.vocab), bert_input_size=768, num_epochs=25, n_components=14)\n",
        "\n",
        "ctm.fit(training_dataset) "
      ],
      "execution_count": 12,
      "outputs": [
        {
          "output_type": "stream",
          "text": [
            "Epoch: [25/25]\t Seen Samples: [20225/20225]\tTrain Loss: 11872.80446538937\tTime: 0:00:00.433182: : 25it [00:11,  2.21it/s]\n"
          ],
          "name": "stderr"
        }
      ]
    },
    {
      "cell_type": "markdown",
      "metadata": {
        "id": "NVNmZrvGDgoL"
      },
      "source": [
        "## Saving the Model"
      ]
    },
    {
      "cell_type": "code",
      "metadata": {
        "colab": {
          "base_uri": "https://localhost:8080/"
        },
        "id": "o_gXYJNyvV7L",
        "outputId": "6311ca0e-fcdf-43fe-b22b-eb78d46443e0"
      },
      "source": [
        "path = F\"/content/drive/MyDrive/ThesisAllocationSystem/models/ctm-25e.bin\" \n",
        "ctm.save(path)"
      ],
      "execution_count": 13,
      "outputs": [
        {
          "output_type": "stream",
          "text": [
            "/usr/local/lib/python3.7/dist-packages/contextualized_topic_models/models/ctm.py:388: Warning: This is an experimental feature that we has not been fully tested. Refer to the following issue:https://github.com/MilaNLProc/contextualized-topic-models/issues/38\n",
            "  Warning)\n"
          ],
          "name": "stderr"
        }
      ]
    },
    {
      "cell_type": "markdown",
      "metadata": {
        "id": "KKAMm2eRDic6"
      },
      "source": [
        "## Loading the Model "
      ]
    },
    {
      "cell_type": "code",
      "metadata": {
        "id": "IlkU_lg4DmiU"
      },
      "source": [
        "del ctm"
      ],
      "execution_count": null,
      "outputs": []
    },
    {
      "cell_type": "code",
      "metadata": {
        "id": "295mzsUFDp2i"
      },
      "source": [
        "ctm = CombinedTM(input_size=len(qt.vocab), bert_input_size=768, num_epochs=25, n_components=14)\n",
        "\n",
        "# When inserting path dir, please go to models > ctm.bin > contextualized_... \n",
        "ctm.load(\"/content/drive/MyDrive/ThesisAllocationSystem/models/ctm.bin/contextualized_topic_model_nc_14_tpm_0.0_tpv_0.9285714285714286_hs_prodLDA_ac_(100, 100)_do_softplus_lr_0.2_mo_0.002_rp_0.99\", epoch = 24)"
      ],
      "execution_count": null,
      "outputs": []
    },
    {
      "cell_type": "markdown",
      "metadata": {
        "id": "-SEBG6wj9Zdu"
      },
      "source": [
        "# Topics\n",
        "\n",
        "After training, now it is the time to look at our topics: we can use the \n",
        "`get_topic_lists` function to get the topics. It also accepts a parameter that allows you to select how many words you want to see for each topic."
      ]
    },
    {
      "cell_type": "code",
      "metadata": {
        "id": "lxcKgjbx3V2o",
        "colab": {
          "base_uri": "https://localhost:8080/"
        },
        "outputId": "b7d5164a-b02f-4d25-8e05-1e9d4bd96485"
      },
      "source": [
        "print(\"Here are the first two keywords per topic.\")\n",
        "ctm.get_topic_lists(2)"
      ],
      "execution_count": 14,
      "outputs": [
        {
          "output_type": "stream",
          "text": [
            "Here are the first two keywords per topic.\n"
          ],
          "name": "stdout"
        },
        {
          "output_type": "execute_result",
          "data": {
            "text/plain": [
              "[['climate', 'policy'],\n",
              " ['rights', 'law'],\n",
              " ['ngovernance', 'nthose'],\n",
              " ['party', 'political'],\n",
              " ['groups', 'ethnic'],\n",
              " ['reported', 'education'],\n",
              " ['firms', 'firm'],\n",
              " ['agents', 'robot'],\n",
              " ['german', 'germany'],\n",
              " ['social', 'business'],\n",
              " ['organizational', 'training'],\n",
              " ['protection', 'asylum'],\n",
              " ['member', 'eu'],\n",
              " ['market', 'costs']]"
            ]
          },
          "metadata": {
            "tags": []
          },
          "execution_count": 14
        }
      ]
    },
    {
      "cell_type": "markdown",
      "metadata": {
        "id": "jeNJfHvzjD2R"
      },
      "source": [
        "### Let's find the papers' topics\n",
        "\n",
        "Now we can take a paper and see which topic has been asigned to it. For example, let's predict the topic of the first preprocessed paper."
      ]
    },
    {
      "cell_type": "code",
      "metadata": {
        "id": "Zl5O1HExjI0e",
        "colab": {
          "base_uri": "https://localhost:8080/"
        },
        "outputId": "3e4b3798-dcb3-4875-a3a5-1494a5757ecf"
      },
      "source": [
        "topics_predictions = ctm.get_doc_topic_distribution(training_dataset, n_samples=20) # get all the topic predictions"
      ],
      "execution_count": 15,
      "outputs": [
        {
          "output_type": "stream",
          "text": [
            "Sampling: [20/20]: : 20it [00:08,  2.46it/s]\n"
          ],
          "name": "stderr"
        }
      ]
    },
    {
      "cell_type": "code",
      "metadata": {
        "id": "fFWsIxDYj0pC",
        "colab": {
          "base_uri": "https://localhost:8080/",
          "height": 120
        },
        "outputId": "2fec144d-fc46-4108-b3e8-fc5ca9e11845"
      },
      "source": [
        "train_preprocessed_documents_for_bow[0] # see the text of the first preprocessed document"
      ],
      "execution_count": 16,
      "outputs": [
        {
          "output_type": "execute_result",
          "data": {
            "application/vnd.google.colaboratory.intrinsic+json": {
              "type": "string"
            },
            "text/plain": [
              "'van de executive perceptions public sector europe eds international public governance pp state perceptions public sector reform van de areas world public sector europe significant reform past two decades shaped part broader public management none unique european form public management public administration europe shares cases added complexity starting points eu provide nature public chapter draw large scale survey top european executives central ngovernment order develop comprehensive perceptions reforms ntheir effects last five years focusing cross selection eu countries chapter present findings choice policy instruments relevance different reform general success impact within case countries chapter provide general overview state public sector european ncountries study public sector reform perceived top focus key trends public sector terms post including usage different policy instruments trends regarding transparency cooperation digital government citizen others chapter look importance trends various case countries across europe nature reforms finally perceived success overall impact reforms along impacts fiscal crisis reforms europe chapter issues across european countries study providing conclusions state public sector reform nits future public sector europe general overview public sector europe always diverse set starting points terms public management reforms different times europe united kingdom reforms ncountries especially countries post communist states adopt change countries changes various innovation ability base reforms europe different public administration many neuropean countries come different starting point former research leading received funding european unions framework grant agreement project socio economic sciences austria france germany italy netherlands spain uk states terms public sector models eu shape nature especially criteria member states reforms nhave driven political lack countries politicians distinct public sector whereas countries reforms nbeen less driven political shaped power trade unions public sector turn affects nature extent finally economic current economic crisis direction approach nwhile issues still relevant discussion state public sector reform recent years factors importance questions engagement nthrough forms digital governance become important technological shifts hand hand making public management transparent potentially nto public private actors time within public sector cooperation collaboration many different bottom approach public sector either positive way engage governments citizens services costs lower levels government public services way efficiency public services nthese factors create complex factors act diverse country contexts nboth drive reform european countries case countries case countries cover broad european countries provide detailed public sector reforms taken different european contexts draw nfrom countries economic social political conditions west east countries countries austria france germany italy netherlands spain united kingdom reform austria part government programmes last decades frequently described never rise agenda started late relatively comprehensive public nmanagement reform project later administrative innovation programmes nwith similar managerial emphasis programmes included efficiency cost orientation modern nmanagement management instruments performance measurement mostly implemented small scale projects fundamental political change nearly period social democratic government involvement end public sector reforms strongly large number addition civil service system reforms government important role phase nwhich prominent fundamental state reform outcomes administrative practice nmore recent years far budgetary reform strong ngovernment agenda put austria top position eu government reform government wide change towards outcome based budgeting accounting key elements performance management logic force reforms started country independence union three main three periods public administration reform period broad reforms regulation de lead eu specific reforms took meet eu criteria address issues transparency accountability services post eu present public service reform nbeen although reforms taken place public working conditions general reforms tools performance based indicators widely nits government reforms france public service reforms relatively reforms limited application public administration reforms given ndifferent role values public administration compared countries approach public administration countries part due still high degree french state reforms france nfirst efficiency managerial reform address service quality user concerns various management reforms policy instruments tools increasingly french public service reforms area budgetary processes tools programme increased emphasis performance management accountability general public policy review look objectives instruments implementation ideas reforms seen occur government reforms french public service away ideas performance management techniques contrast approaches much less systematic extent france germany public administration reform phenomenon made several ndifferent germany idea active state state intervention seen ways drive development like emphasis state focused public sector since late idea state aspects society public services state level nto engage ways financing services reforms reforms quite recently emphasis ideas better public nmanagement structural many reforms become focused type germany considered early stage building true system limited reforms due several factors nfirst federal nature german state limits administrative power structure federal level many nactors finally emphasis stability processes reforms public sector recent reforms started move towards ideas transparency network based solutions nthese still much evolution previous reforms rather complete significantly public administration since fall state makes extensive ministries agencies former largely policy making latter responsible policies since significant agencies largely legal framework law set basic agencies part larger government local governments large amount public service many services including education combination strong responsible many functions high vote threshold change many laws strong system separate judicial administration strong network created system regulatory limits policy makers could administrative change since ngovernment majority cabinet thus able significant reforms nthese changes many previously public country political hierarchical control way financial crisis time ministries regional agencies come control local government power reduced bureaucratic italy administrative systems structures relatively last instead old structures introduced changed sometimes without stability structures administrative situation changing political centre right centre left needs technical government towards europe administrative politics policy centre left largely eu standards centre right debt crisis country eu ninstitutions prominent role public management reform country long patterns public administration absence administrative elite reform early allowed ndevelopment autonomous administrative body introduction like ideas government bureaucracy line public terms employment conditions performance management measures many reforms related public service employment conditions reforms transparency contracts performance assessment measures nhowever issues remained relatively including political level civil service positions trade unions issues related public employment practices reforms taken place policy area health care much greater extent policy area netherlands central government mostly responsible policy making tasks implementation tasks agencies local levels government although politics result ministries relatively open external opposition parties science industry ministers responsibility decisions although system netherlands mostly government reflected administrative reforms part aimed central government tasks agencies levels type reforms based budgeting performance measurement nbeen move private sector like approaches due financial pressures return second government starting reforms state level focusing quality services costs administrative governments van van van central level reduce bureaucracy improve organisation central government tasks government approaches efficiency goal nthis reform focused size civil since reforms focused central level government looking efficiency cooperation staff van de van large civil service due mainly welfare state trust government nhas high effects financial crisis small state nthere political administrative two ministerial levels ncountry relatively powerful sectoral ministries ministries mainly play role ministries strong local level ngovernment level local level policy policy economic strength political administrative culture effects reforms changes line ninternational reform mid reform central level lines reform pressure oecd change reforms consistent time tend nature focused mainly efficiency aspects within public administration largely reforms state nbeen shift towards developing autonomous agencies move since autonomous state companies many sectors along greater focus reforms within bodies performance measurement based budgeting nwhile changes increased coordination little horizontal coordination sectors addition current government back within governing coalition state resulting rather transformation reforms already created form public administration old ideas npublic administration reform spain get public attempt public sector starting broad tradition reform late focused bureaucracy administrative ministerial bodies focus creation regional governments regulation local governments emphasis way improve relations administration citizens included type ideas citizen administrative procedures increasing focus efficiency quality services executives objectives managerial autonomy management objectives nbased focus limited actual reform took place country since late clear reform agenda focus flexible efficient structure reform administrative courts regulatory efficiency quality service technology process post reforms started appear nsuch efforts improve transparency cooperation collaboration among different public since crisis reforms driven budgetary nfinally public administration reform united kingdom nthat extent changes focus many private sector public generally led uk seen extensive form europe true differences uk european welfare nstate civil service focus efficiency effectiveness public institutions including local governments economic crises election significant reform public sector key goals nto reduce size public sector open market forces run like private sector civil service previously department put control business like arrangements target based management cases based pay introduced competitive level along competition providing public services election beginning third way approach balancing market state civil society services approach business ideas performance measures balance top focus targets based planning along post aim relationships coordination various actors public services third way approach public service driven largely market public administration effort management actors central governmental level nsince election liberal coalition focus public reform clearly costs size public sector reform goal public sector autonomy survey question survey via post high civil servants european countries surveys aim capture perceptions current management coordination administration reforms effects performance values identities coordination social examine impact financial crisis public administration survey entire top medium high level civil servants country ncountries national language overall response rate survey individual ncountry response rates uk austria overall response rate nis low consistent surveys executives country responses total number responses nas many factors affect ability public sector reform introduced success reforms ability effective public service two factors impact easily reforms nature goals reform autonomy public sector technical changes without political performance management best goals limited clearly state observe measure looking goals nbased three factors countries studied relatively negative defined objectives several countries germany france think goals united kingdom netherlands overall perceptions countries non negative side scale general managers agencies reported less goal detailed survey process see ministries lack seen challenge tools public sector practices nfigure perceived goal aggregate mean several items per country low goal high goal nthere variation countries executives nthan average goals staff germany overall relatively high view goal significant difference types terms whether activities observe measure half clear much view whether goals clearly clearly staff half issues netherlands goals clearly observe measure related goals uk perceived goal significant executives strongly goals clear clearly staff uk executives number goals high easily measured goal nresults italy highly sector dependent general executives goals observe measure ndifferent working health sector observe measure activities goals clearly public sector autonomy public sector vis vis political institutions impact nature reform autonomy managerial autonomy ability make structural changes decisions budget nas policy autonomy design implement policies extent see detailed questions kingdom netherlands ngermany nto public sector institutions make technical decisions free political nhave effect reform country executives high degree autonomy netherlands others low degree autonomy make decisions italy nfigure perceived degree management policy autonomy aggregate mean several items per country autonomy high autonomy different countries different types autonomy either stronger npublic sector executives instance uk forms autonomy perceived higher nthan average especially implementation autonomy public sector netherlands perceived high applied board autonomy seen highest managerial tasks policy policies executives mostly positive levels executives perceived higher levels autonomy managerial issues staff structure policy implementation autonomy policies executives perceived nhigh degree autonomy making decisions policy much lower nlevel terms organisation services similar nwhere level autonomy services highest level policies germany executives autonomy policies compared policies autonomy policies perceived significantly higher average european ncountries studied control policies actually lower france contrast perceptions autonomy average civil servants little autonomy budgeting decisions especially staff non policy side french executives little autonomy public policy decisions nmore autonomy different groups executives different levels agency reported high level autonomy inter ministerial units level little autonomy areas perceived particularly low italy spain spain executives level autonomy almost across board policy managerial nwere european average policies policies structures particularly low staff executives little autonomy managerial decisions'"
            ]
          },
          "metadata": {
            "tags": []
          },
          "execution_count": 16
        }
      ]
    },
    {
      "cell_type": "code",
      "metadata": {
        "id": "kJf1bP5PjqOQ",
        "colab": {
          "base_uri": "https://localhost:8080/"
        },
        "outputId": "8ecf35b2-1df4-4d83-8ce0-02af8355491f"
      },
      "source": [
        "import numpy as np\n",
        "topic_number = np.argmax(topics_predictions[0]) # get the topic id of the first document\n",
        "topic_number"
      ],
      "execution_count": 17,
      "outputs": [
        {
          "output_type": "execute_result",
          "data": {
            "text/plain": [
              "3"
            ]
          },
          "metadata": {
            "tags": []
          },
          "execution_count": 17
        }
      ]
    },
    {
      "cell_type": "code",
      "metadata": {
        "id": "yMA9vUsgjwOi",
        "colab": {
          "base_uri": "https://localhost:8080/"
        },
        "outputId": "fe2851b6-d4e7-442b-bc39-2e80c04a994e"
      },
      "source": [
        "ctm.get_topic_lists(10)[topic_number] #and the topic should and could be about public management related things"
      ],
      "execution_count": 18,
      "outputs": [
        {
          "output_type": "execute_result",
          "data": {
            "text/plain": [
              "['party',\n",
              " 'political',\n",
              " 'economic',\n",
              " 'election',\n",
              " 'media',\n",
              " 'vote',\n",
              " 'national',\n",
              " 'parties',\n",
              " 'electoral',\n",
              " 'public']"
            ]
          },
          "metadata": {
            "tags": []
          },
          "execution_count": 18
        }
      ]
    },
    {
      "cell_type": "markdown",
      "metadata": {
        "id": "ND8mG7WlWQIc"
      },
      "source": [
        "### Visualization of a topic\n",
        "\n",
        "We can visualize the topic of our first document's topic id. We want the wordcloud to display 20 words of the topic."
      ]
    },
    {
      "cell_type": "code",
      "metadata": {
        "colab": {
          "base_uri": "https://localhost:8080/",
          "height": 686
        },
        "id": "95aVGj1jWO5x",
        "outputId": "2b9c0966-e435-484c-f7d8-c05d1a6d8d54"
      },
      "source": [
        "ctm.get_wordcloud(topic_id=topic_number, n_words=20)"
      ],
      "execution_count": 19,
      "outputs": [
        {
          "output_type": "display_data",
          "data": {
            "image/png": "[encoded data removed]",
            "text/plain": [
              "<Figure size 2000x800 with 1 Axes>"
            ]
          },
          "metadata": {
            "tags": [],
            "needs_background": "light"
          }
        }
      ]
    },
    {
      "cell_type": "code",
      "metadata": {
        "colab": {
          "base_uri": "https://localhost:8080/"
        },
        "id": "CmbLUC3HU9Kg",
        "outputId": "7f2126a8-925d-4a19-9a2f-f0063c19ea7b"
      },
      "source": [
        "print(type(topics_predictions))\n",
        "print(len(topics_predictions))\n",
        "\n",
        "#convert topics_predictions array to list\n",
        "topic_pred = topics_predictions.tolist()\n",
        "\n",
        "#workaround, number of test files available\n",
        "docs =  list(range(809))\n",
        "\n",
        "topic_id = []\n",
        "topic_labels = []\n",
        "\n",
        "#get all vars of interest for each document in the train data set\n",
        "for doc in docs: \n",
        "    topic_index = np.argmax(topics_predictions[doc])\n",
        "    topic_id.append(topic_index)\n",
        "    topic = ctm.get_topic_lists(20)[topic_index]\n",
        "    topic_labels.append(topic)\n",
        "\n",
        "#this list contains the topic ids for all test documents\n",
        "print(\"These are the topic id's for the first 10 documents:\",topic_id[0:10], \".\")\n",
        "# this list contains the labels for all test documents given their respective topic id\n",
        "print(\"These are the labels for the first two documents:\", topic_labels[0:2], \".\")"
      ],
      "execution_count": 20,
      "outputs": [
        {
          "output_type": "stream",
          "text": [
            "<class 'numpy.ndarray'>\n",
            "809\n",
            "These are the topic id's for the first 10 documents: [3, 9, 2, 9, 3, 9, 3, 3, 0, 12] .\n",
            "These are the labels for the first two documents: [['party', 'political', 'economic', 'election', 'media', 'vote', 'national', 'parties', 'electoral', 'public', 'elections', 'voters', 'fiscal', 'governments', 'economy', 'countries', 'government', 'wage', 'politics', 'tax'], ['social', 'business', 'entrepreneurship', 'nsocial', 'needs', 'sector', 'society', 'entrepreneurial', 'entrepreneurs', 'public', 'organizations', 'activities', 'management', 'resources', 'poverty', 'economics', 'identity', 'people', 'field', 'profit']] .\n"
          ],
          "name": "stdout"
        }
      ]
    },
    {
      "cell_type": "markdown",
      "metadata": {
        "id": "rroW2JpBZNrd"
      },
      "source": [
        "We are using the created topics with each 20 words to contain test data content, but without the inherent bias coming from writing style and word choice. Furthermore, we could use either the topic ids or the professors as labels which we then plan to input into a distilBERT classifier model. "
      ]
    },
    {
      "cell_type": "code",
      "metadata": {
        "id": "LtGly2toU38H",
        "colab": {
          "base_uri": "https://localhost:8080/"
        },
        "outputId": "3738d372-769c-40c6-d655-8134a41d3c9d"
      },
      "source": [
        "import pandas as pd\n",
        "\n",
        "train_label_df = pd.DataFrame()\n",
        "\n",
        "train_label_df[\"prof\"] = file1[\"FileName\"]\n",
        "train_label_df[\"topic_id\"] = topic_id\n",
        "train_label_df[\"topic\"] = topic_labels\n",
        "train_label_df[\"distribution\"] = topic_pred\n",
        "\n",
        "print(\"There are\", len(train_label_df['topic_id'].unique()), \" unique topics.\")\n",
        "\n",
        "train_label_df.to_csv('/content/drive/MyDrive/ThesisAllocationSystem/data_final/ctm_label/train-label.csv', index = False)"
      ],
      "execution_count": 21,
      "outputs": [
        {
          "output_type": "stream",
          "text": [
            "There are 14  unique topics.\n"
          ],
          "name": "stdout"
        }
      ]
    },
    {
      "cell_type": "markdown",
      "metadata": {
        "id": "galVyA1MsvRe"
      },
      "source": [
        "# Test\n",
        "\n",
        "We are using the test set to predict for unseen documents. "
      ]
    },
    {
      "cell_type": "code",
      "metadata": {
        "id": "NVPrOOQoV81U",
        "colab": {
          "base_uri": "https://localhost:8080/"
        },
        "outputId": "f02c477e-49b8-4386-aaf6-1b89f49a9af7"
      },
      "source": [
        "sp = WhiteSpacePreprocessing(documents = test_file)\n",
        "test_preprocessed_documents_for_bow, test_unpreprocessed_corpus_for_contextual, vocab = sp.preprocess()"
      ],
      "execution_count": 22,
      "outputs": [
        {
          "output_type": "stream",
          "text": [
            "/usr/local/lib/python3.7/dist-packages/nltk/corpus/reader/wordlist.py:28: ResourceWarning: unclosed file <_io.BufferedReader name='/root/nltk_data/corpora/stopwords/english'>\n",
            "  return concat([self.open(f).read() for f in fileids])\n",
            "ResourceWarning: Enable tracemalloc to get the object allocation traceback\n"
          ],
          "name": "stderr"
        }
      ]
    },
    {
      "cell_type": "code",
      "metadata": {
        "colab": {
          "base_uri": "https://localhost:8080/",
          "height": 66,
          "referenced_widgets": [
            "c41510c4234a4c0a82c88208b244a421",
            "5f95f2aeca5b4e9a870e30e9ff022acf",
            "cedbcb0c540c4b6da2f44d2c3b9941a7",
            "f04f1b28868145d59e02c3550d09ad96",
            "73bbedc569d5478eb83c8d6044f234e9",
            "955fa8516da94a6186f8370f26986125",
            "765b91394baa4a99a246cfee4d3dbf2c",
            "3b1d82887b9a4e71bcb4f7b8ec23b592",
            "15beb61a527c43f29d3ed0c5a03361f8",
            "493d4e0c585b445ca92c4e73e6b34986",
            "bb456adc28284639872b0c2965257bea"
          ]
        },
        "id": "zIq7_IUgs0kA",
        "outputId": "3f797626-929b-48db-8c06-cd527784f14d"
      },
      "source": [
        "testing_dataset = qt.create_test_set(test_unpreprocessed_corpus_for_contextual, test_preprocessed_documents_for_bow) # create dataset for the testset\n",
        "predictions = ctm.get_doc_topic_distribution(testing_dataset, n_samples=10)"
      ],
      "execution_count": 23,
      "outputs": [
        {
          "output_type": "display_data",
          "data": {
            "application/vnd.jupyter.widget-view+json": {
              "model_id": "c41510c4234a4c0a82c88208b244a421",
              "version_minor": 0,
              "version_major": 2
            },
            "text/plain": [
              "Batches:   0%|          | 0/1 [00:00<?, ?it/s]"
            ]
          },
          "metadata": {
            "tags": []
          }
        },
        {
          "output_type": "stream",
          "text": [
            "Sampling: [10/10]: : 10it [00:02,  4.78it/s]\n"
          ],
          "name": "stderr"
        }
      ]
    },
    {
      "cell_type": "code",
      "metadata": {
        "colab": {
          "base_uri": "https://localhost:8080/"
        },
        "id": "To-IcPtsv8bV",
        "outputId": "bd68b30e-8821-454b-8605-e8662b948d77"
      },
      "source": [
        "print(test_unpreprocessed_corpus_for_contextual[3])\n",
        "\n",
        "topic_index = np.argmax(predictions[3])\n",
        "ctm.get_topic_lists(20)[topic_index]"
      ],
      "execution_count": 24,
      "outputs": [
        {
          "output_type": "stream",
          "text": [
            "b'Master_Thesis_Proposal\\n\\n\\nMaster Thesis Proposal \\n\\nClass: 2021 \\n\\nAY: 2020-2021\\n\\n\\n1. What is your research topic?\\n\\nTopic: Forecasting election results of federal and state-level elections in Germany using \\ndifferent machine learning techniques with macro-economic data as input.\\n\\nAcademic Fields: \\n1. Political Science:\\n-> Political behavior and voting\\n-> Election forecasting\\n2. Data Science: \\n-> Machine Learning \\n-> Artificial neural networks\\n\\n2. What is your research question?\\n\\nWhat role do changes in the over all economy of an election district play regarding the \\napproval, i.e. the vote share, of an incumbent direct-candidate in the respective election \\ndistrict. To analyze the factors that actually have the biggest influence on the vote share of \\nan incumbent candidate, several macro-economic variables are analyzed using different \\nmachine learning techniques (potentially including neural networks). \\n\\nStudied objects: \\n- General elections from 1994-2017\\n- 299 electoral districts for general election in Germany\\n- Incumbent candidates in the respective districts \\n- Predicting the changes in vote share of incumbent direct candidates for the upcoming \\n\\ngeneral election 2020 \\n\\nDependent Variable: Normalized change in vote share of incumbent (or change in \\ncandidate of the incumbent party-dummy) \\n\\nIV: Macro-economic data on district-level for all 299 districts from 1994-2017 (examples: \\nGDP, rent level, \\xa0unemployment rate, \\xa0 population,   R&D spending \\n(public&private),  economic development compared to neighboring districts, Property \\nprices,  median income, investments )\\n\\n1 AY: 2020-2021\\n\\n\\n\\nPossible Controls (on election district level): average city size in district, population density, \\nchange of candidate own party, change of candidate other parties, former election results \\n(direct and indirect vote, difference in vote share compared to other candidates), change in \\nnumber of candidates running in the district, east/west state, gender of candidate, gender of \\nmost promising rival from other parties, academic title of candidate \\n\\nPossible methods applied: Naive Bayes, Support Vector Machine, Random Forest, Linear \\nand Logistic Regression\\n\\nAlternative but very much related topic idea: \\nIdentification of Swing States in Germany: Constituencies where the average change in the \\nvote share of all parties is greater than the national average change in voteshare; clustering \\nof these constituencies and identification of characteristics using machine learning \\ntechniques; analysis of the influence of macro-economic data in a second step.\\n\\n3. Why would you like to explore this topic and question?\\n\\nI think the topic and the research question are highly relevant because they answer the question to what degree macro-economic developments effect voting decision. The findings are important not only for the scientific community but also for parties and \\npolticidal candidates searching reelection. Moreover, I find particularly interesting to assess \\nnot only who wins an election, but also who vote shares change even though there was no \\nchange in office. Additionally, I am very much interested in machine learning and deep \\nlearning techniques and look forward to deepen my knowledge in these areas by applying \\ntheir techniques as part of my master thesis research. \\n\\n4. What are the debates to which your dissertation will relate?\\n\\nIts the economy, stupid! The most important debate my research will touch upon is the \\nquestion to what degree economic developments influence election outcomes. It also relates \\nto the debate which factors are most important regarding election decisions and wether the \\ninfluence of economic factors is negligible or not. Moreover, it will relate to an ongoing \\ndiscussion and research about the possibilities and best methods to predict election \\noutcomes. \\n\\n5. What is your proposed methodology?\\n\\nMy proposed methodology is mostly quantitate using analytical modeling.\\n\\n2 AY: 2020-2021\\n\\n\\n\\nTo predict election outcomes and analyze the scope of the influence of certain economic \\nindicators on the vote share (and also to potentially cluster different districts) I am planning \\non using different machine learning techniques such as Naive Bayes, Support Vector \\nMachine, Random Forest, Linear and Logistic Regression. Especially for the forecasting \\npart of the thesis I am also planning on using artificial neural networks. \\n\\n6. What type of data do you need? \\n\\nAll of the data needed is public and most likely early accessible. It could be that the \\neconomic data is not available tailored to election districts (which problem could be solves \\nwith some data manipulation).\\n\\n- German general elections results on district level from 1994-2017\\n- German general elections candidates on district level from 1994-2017\\n- Macro-economic data (several indicators) on district level from 1994-2020\\n\\n7. Who are your proposed supervisors?\\n\\n1st:  Prof. Simon Munzert \\n2nd:  Prof. Slava Jankin \\n3rd:  Prof. Mark Kayser \\n\\n3 AY: 2020-2021'\n"
          ],
          "name": "stdout"
        },
        {
          "output_type": "execute_result",
          "data": {
            "text/plain": [
              "['agents',\n",
              " 'robot',\n",
              " 'machine',\n",
              " 'intelligence',\n",
              " 'behaviour',\n",
              " 'agent',\n",
              " 'robots',\n",
              " 'experiments',\n",
              " 'humans',\n",
              " 'learning',\n",
              " 'appears',\n",
              " 'improve',\n",
              " 'keep',\n",
              " 'useful',\n",
              " 'require',\n",
              " 'move',\n",
              " 'essential',\n",
              " 'necessary',\n",
              " 'autonomous',\n",
              " 'described']"
            ]
          },
          "metadata": {
            "tags": []
          },
          "execution_count": 24
        }
      ]
    },
    {
      "cell_type": "markdown",
      "metadata": {
        "id": "mOrKAWcbDBP1"
      },
      "source": [
        "Topics seem to show mixed coherence here, might be due to shortness of the proposal text as well as the small sample size. "
      ]
    },
    {
      "cell_type": "code",
      "metadata": {
        "colab": {
          "base_uri": "https://localhost:8080/"
        },
        "id": "SoFcwE0eKiI2",
        "outputId": "4380b70f-4d0f-48e3-f59b-c0145192c308"
      },
      "source": [
        "print(type(topics_predictions))\n",
        "#print(topics_predictions)\n",
        "\n",
        "print(len(test_file))\n",
        "\n",
        "# Workaround: Update number of test files if necessary!\n",
        "docs =  list(range(7))\n",
        "\n",
        "topic_id = []\n",
        "topic_labels = []\n",
        "#get all topic ids for each document in the test data set\n",
        "for doc in docs: \n",
        "    topic_index = np.argmax(topics_predictions[doc])\n",
        "    topic_id.append(topic_index)\n",
        "    topic = ctm.get_topic_lists(20)[topic_index]\n",
        "    topic_labels.append(topic)\n",
        "\n",
        "print(\"This list contains the topic id's for all test documents:\", len(topic_id), \"topics.\")\n",
        "print(\"This list contains the labels for all test documents given their respective topic id's:\", len(topic_labels), \"topics.\")\n"
      ],
      "execution_count": 25,
      "outputs": [
        {
          "output_type": "stream",
          "text": [
            "<class 'numpy.ndarray'>\n",
            "7\n",
            "This list contains the topic id's for all test documents: 7 topics.\n",
            "This list contains the labels for all test documents given their respective topic id's: 7 topics.\n"
          ],
          "name": "stdout"
        }
      ]
    },
    {
      "cell_type": "code",
      "metadata": {
        "id": "YcZvYiZIp_pq"
      },
      "source": [
        "test_label_df = pd.DataFrame()\n",
        "\n",
        "test_label_df['proposal'] = file2['FileName']\n",
        "test_label_df[\"topic_id\"] = topic_id\n",
        "test_label_df[\"topic\"] = topic_labels\n",
        "test_label_df\n",
        "\n",
        "test_label_df.to_csv('/content/drive/MyDrive/ThesisAllocationSystem/data_final/ctm_label/test-label.csv', index = False)"
      ],
      "execution_count": 26,
      "outputs": []
    },
    {
      "cell_type": "markdown",
      "metadata": {
        "id": "6MY9lFYJOle-"
      },
      "source": [
        "Eventually, we might need to change the column `proposal` with the top preference of supervisor to perform matching."
      ]
    },
    {
      "cell_type": "markdown",
      "metadata": {
        "id": "ja_Zzz80B664"
      },
      "source": [
        "## Validation\n",
        "\n",
        "We are using the supervision plans to predict for topics that professors offer their students to write their thesis about."
      ]
    },
    {
      "cell_type": "code",
      "metadata": {
        "id": "1kNUZ9vWWLWg",
        "colab": {
          "base_uri": "https://localhost:8080/"
        },
        "outputId": "99ea0527-d692-4daf-ca81-d349d29d7d6a"
      },
      "source": [
        "documents = val_file\n",
        "\n",
        "sp = WhiteSpacePreprocessing(documents)\n",
        "val_preprocessed_documents_for_bow, val_unpreprocessed_corpus_for_contextual, vocab = sp.preprocess()"
      ],
      "execution_count": 27,
      "outputs": [
        {
          "output_type": "stream",
          "text": [
            "/usr/local/lib/python3.7/dist-packages/nltk/corpus/reader/wordlist.py:28: ResourceWarning: unclosed file <_io.BufferedReader name='/root/nltk_data/corpora/stopwords/english'>\n",
            "  return concat([self.open(f).read() for f in fileids])\n",
            "ResourceWarning: Enable tracemalloc to get the object allocation traceback\n"
          ],
          "name": "stderr"
        }
      ]
    },
    {
      "cell_type": "code",
      "metadata": {
        "colab": {
          "base_uri": "https://localhost:8080/",
          "height": 66,
          "referenced_widgets": [
            "432be5a2d1ae49d88e1784b3358557f5",
            "1eccc1aafabe472a9e284fbc289f4626",
            "4bce78948a804063bf48661103be4e3c",
            "7be263fc0a274dc1b9369d63a18b899a",
            "3d1f217e704a48cca253f4eb41fac0c4",
            "507b1c7ff08d4930b4b80f1b32514143",
            "8c4529c54c1d4573a1d86dcf1fee88cc",
            "03ddd4a1c744450a9c130c5104bab115",
            "6c461b2101ce4eaf811bf6cc12ae0175",
            "db28f5c5fad841d09e6dd0de5555c3ee",
            "5bb79ab2d9184fe6be29fbcd0f6cb0a5"
          ]
        },
        "id": "rx0yT4urCvSS",
        "outputId": "cd56b874-f9c9-4eca-9f08-c26aea9f7bb4"
      },
      "source": [
        "validation_dataset = qt.create_test_set(val_unpreprocessed_corpus_for_contextual, val_preprocessed_documents_for_bow) # create dataset for the val set\n",
        "predictions = ctm.get_doc_topic_distribution(validation_dataset, n_samples=10)"
      ],
      "execution_count": 28,
      "outputs": [
        {
          "output_type": "display_data",
          "data": {
            "application/vnd.jupyter.widget-view+json": {
              "model_id": "432be5a2d1ae49d88e1784b3358557f5",
              "version_minor": 0,
              "version_major": 2
            },
            "text/plain": [
              "Batches:   0%|          | 0/1 [00:00<?, ?it/s]"
            ]
          },
          "metadata": {
            "tags": []
          }
        },
        {
          "output_type": "stream",
          "text": [
            "Sampling: [10/10]: : 10it [00:02,  4.65it/s]\n"
          ],
          "name": "stderr"
        }
      ]
    },
    {
      "cell_type": "code",
      "metadata": {
        "colab": {
          "base_uri": "https://localhost:8080/"
        },
        "id": "K9XftG7oFB_d",
        "outputId": "9d641f52-8043-417e-eecc-c3a39a33ecbf"
      },
      "source": [
        "print(val_unpreprocessed_corpus_for_contextual[4])\n",
        "\n",
        "topic_index = np.argmax(predictions[3])\n",
        "ctm.get_topic_lists(20)[topic_index]"
      ],
      "execution_count": 29,
      "outputs": [
        {
          "output_type": "stream",
          "text": [
            "b'MIA/MPP - Supervision Plan AY2020/2021 1 \\n \\n\\n \\n \\n\\nMaster Thesis Supervision Plan \\nAcademic Year 2020-2021 \\n\\n  MIA/MPP  \\n \\n\\nName: Gerhard Hammerschmid \\n\\nProfessor of Public and Financial Management \\n\\n \\nAdvisor Information \\n\\n \\n\\nOffice 2.58 \\n\\nE-Mail hammerschmid@hertie-school.org \\n\\nFaculty Assistant Ines Andre-Schulze andre-schulze@hertie-school.org \\n\\nOffice Hours by appointment \\n\\n \\n \\n\\nResearch & Advising Profile: \\nGeneral Academic Field: What is your academic field, and what are your areas of supervision? \\n\\n \\n\\nSpecific Expertise: What is your specific area of expertise, and what topics are you supervising? \\n\\nMy academic field of public management covers all aspects of managing public sector \\norganisations (e.g. strategic management, digitalization/e-government, performance \\nmanagement, budget management, personnel management, innovation management) and \\nespecially the adoption/implementation of public administration reforms in order to improve \\npublic administration capacity and performance. \\n\\nMy specific areas of expertise and current research are on comparative public administration, \\npublic administration reform, digital/e-government, public sector innovation, public sector \\nmotivation and personnel management, performance management and collaborative \\nmanagement/leadership in the public sector. \\n\\nAs director of the Digital Governance Centre I am especially interested to supervise topics related \\nto the impact of digitalization on specific government organisations but also the public sector in \\ngeneral. This specifically relates to the following broader topics: \\n\\n1) Digital government: the impact of digitalization on public management and public \\nadministration reform; this includes topics such as digital governance, digital \\ntransformation, smart cities, digitalisation strategies, digital leadership and developing \\ndigital capacity which are of relevance for the Hertie School Digital Governance Centre. \\n\\n2) Public sector innovation and collaborative arrangements of policy making and service \\ndelivery (see also http://tropico-project.eu/) \\n\\n \\n\\nIn case of convincing suggestions I also would be open for thesis topics in the broader field of public \\nmanagement (e.g. strategic management, performance management, human resource \\nmanagement etc. for public administration/government organizations) and public administration \\nreform (e.g. transparency and accountability, service delivery, structures and processes, HRM/civil \\nservice systems). \\n\\nmailto:hammerschmid@hertie-school.org\\nmailto:andre-schulze@hertie-school.org\\nhttp://tropico-project.eu/\\n\\n\\nMIA/MPP - Supervision Plan AY2020/2021 2 \\n \\n\\nMethodology: What methodologies and methods are you able to supervise? \\n\\n \\nSupervision Style: Please include information on what your advisees can expect from you in terms \\nof supervision format (for instance, are you supervising by colloquium only; are you offering \\nindividual meetings; are you supervising team projects?) Please be informed that there will be \\nboth onsite/online options according to your availability: \\n\\nFor me the initial phase till the development of the thesis proposal is crucial and I prefer to \\narrange 2-3 individual meetings (onsite or offsite) to discuss and support this based on a \\nfirst sketch mailed by the student. \\nI do not read drafts; when I read your thesis, I am reading it to grade it. I however will also be \\navailable outside the colloquium for questions and advice based on individual appointments \\n(online or in my office). \\nThese individual meetings will be offered in addition to the colloquium sessions which aim \\nto address more generic aspects and to allow a peer-learning among the students. \\n\\nI prefer single thesis topics, but I am also open for co-authored theses if you can clearly argue \\nthe rationale and benefit of doing it together with a colleague. \\n\\n \\n\\nExamples of Previously Supervised Thesis Topics: (if applicable) \\n\\n \\n\\nRecommended General Readings: (if applicable) \\n\\n \\n\\nProposed Projects: (if applicable) \\n \\n\\nProject Title Practice Partner (if applicable) \\n\\nGovernment and private sector collaboration in the context \\n\\nof Smart City implementation \\n\\nKPMG Institut f\\xfcr \\n\\nden \\xf6ffentlichen \\n\\nSektor \\n\\nCollaboration of Start-ups and government in the context \\n\\nof digitalization \\n\\nKPMG Institut f\\xfcr \\n\\nden \\xf6ffentlichen \\n\\nSektor \\n\\nBoth qualitative (interview- or case study based) and quantitative research. With regard to the \\nlatter my expertise is mostly on survey research and rather established forms of methods/analyses \\nsuch as various forms of regression analysis or SEM. \\n\\n The Inclusive (Smart) City: Can the inclusiveness rhetoric transform the smart city? \\n\\n The Untapped Potential of Data: How Germanys Local Public Administration can make \\nbetter use of their data \\n\\n Fostering Innovation in government organizations: the role of Talent Management - An \\noutlook from Colombia \\n\\n The Digital Refeudalization: Modern Internet Regulation Modelsand the Deterioration of \\nthe Digital Public Sphere \\n\\n Active Citizenry in Singapore: Investigating the Influence of Digital Participation Tools \\n Artificial Intelligence in the German Public Administration: Challenges in Building \\n\\nAdministrative Capacity \\n\\n The State of GovTech in Germany: Scope, Actors, and Challenges \\n\\n What does it take for change management to succeed in the Public Sector? \\n Smart Partnerships: Innovative Approaches to Public-Private Partnerships in Smart \\n\\nMobility \\n\\nThe following texts are general readings material relevant for all advisees: \\nSandra van Thiel (2014): Research Methods in Public Administration and Management: An \\nIntroduction, London: Routledge. \\n\\n\\n\\nMIA/MPP - Supervision Plan AY2020/2021 3 \\n \\n\\nHow Governments can compete for digital/data \\n\\nexperts: International Initiatives and Experiences \\n\\n \\n\\nAI in Government: International experiences and analysis \\n\\nof use cases \\n\\n \\n\\nGovernment strategies/approaches to build up \\n\\ndata/AI/digitalisation capacity in government: \\n\\ninternational comparative perspective \\n\\n \\n\\nGovernment approaches to foster the convergence \\n\\nof digitalisation and sustainability \\n\\n \\n\\nManaging IT projects: learning from failures  \\n\\nThe Impact of Covid-19 on government digitalisation  \\n\\n \\n\\nPlagiarism: \\n\\nPlagiarism is an infringement of \\xa7 11 Good Academic Conduct, 2a: Infringements of the standards of \\n\\ngood academic conduct include for instance to use wordings, ideas or other intellectual work of others \\n\\nin an academic work without clearly indicating the author. The obligation to indicate the authorship of \\n\\nothers shall apply irrespective of whether or not the sources used are protected by copyright (See: \\n\\nExam Rules, \\xa7 11 Good Academic Conduct for more information). \\n\\nIt is vital to keep track of your sources and to cite all material properly. \\n\\nThe Library will offer a session available to all students on resource management and proper citation. \\n \\n \\n\\n \\n\\nColloquium & Meeting Information: \\n \\n\\n Colloquium Dates Session Title & Content \\n\\nMeeting times \\n\\nPreferred onsite \\n\\nbut if necessary \\n\\nalso offsite \\n\\nSession 1: \\n\\nMo November 9th 2020 18.00-20.00 \\n\\n(room 2.30) \\n\\nGetting Started \\n\\nPresent and discuss fist thesis \\nproposals and provide \\n\\ninputs/feedback for further \\n\\nelaboration of thesis \\n\\nconcepts; overall expectations \\n\\nfor a master thesis research \\n\\nand looking for synergies \\n\\nbetween the different theses \\n\\nAttendance: \\n\\nStudents receive 8 ECTS for the Master\\xb4s thesis colloquium. Attendance for supervisionwhether \\n\\nin the form of a colloquium or an individual meetingis compulsory. Students are expected to be \\n\\npresent, prepared, and engaged in each session, and to adhere to deadlines set for assignments. \\n\\nIn case of an excused absence, students must notify their supervisor. Absence must be compensated \\n\\nwith an additional assignment. \\n\\nStudents on an academic exchange programme in the Fall Semester should be given the opportunity \\n\\nof remote supervision. \\n\\n\\n\\nMIA/MPP - Supervision Plan AY2020/2021 4 \\n \\n\\n Session 2: \\n\\nMo December 7th 2020 18.00-20.00 \\n\\n(room 2.30) \\n\\nResearch Proposal \\n\\nat this time the students should \\nbe able to present and discuss \\n\\ntheir thesis proposal (research \\n\\nquestions, research design and \\n\\nmethod, key literature) \\n\\nDiscussing key \\n\\nmethodological questions \\n\\nSession 3: \\n\\nMo February 8th 2021 18.00-20.00 \\n\\n(room 2.30) \\n\\nProgress Report 1 \\n\\nfocusing on questions/ \\n\\nchallenges of data collection, \\n\\nvariable operationalisation \\n\\nand literature review \\n\\nSession 4: \\n\\nweek March 1st till 7th \\n\\nProgress Report 2 \\n\\nindividual coaching sessions \\n\\nSession 5: \\n\\nMo March 29th 18.00-20.00 \\n\\n(room tbc.) \\n\\nPreliminary Findings \\n\\npresentation and discussion of \\n\\npreliminary findings \\n\\nSession 6: \\n\\nMo April 12th 18.00-20.00 (room tbc) \\n\\nFinalizing the thesis \\n\\nformal requirements/questions \\nand flexible depending on \\n\\nneeds/demands of the students'\n"
          ],
          "name": "stdout"
        },
        {
          "output_type": "execute_result",
          "data": {
            "text/plain": [
              "['ngovernance',\n",
              " 'nthose',\n",
              " 'billion',\n",
              " 'learn',\n",
              " 'steps',\n",
              " 'machine',\n",
              " 'intelligence',\n",
              " 'spread',\n",
              " 'ethical',\n",
              " 'nresults',\n",
              " 'profile',\n",
              " 'diverse',\n",
              " 'publications',\n",
              " 'improve',\n",
              " 'ten',\n",
              " 'equally',\n",
              " 'proposed',\n",
              " 'insights',\n",
              " 'nits',\n",
              " 'solutions']"
            ]
          },
          "metadata": {
            "tags": []
          },
          "execution_count": 29
        }
      ]
    },
    {
      "cell_type": "markdown",
      "metadata": {
        "id": "JBCWaArOscl0"
      },
      "source": [
        "Again, little topic coherence, worse than with test data. Probably due to shortness of relevant text"
      ]
    },
    {
      "cell_type": "markdown",
      "metadata": {
        "id": "x8o6G_Qkn8Y5"
      },
      "source": [
        "# Evaluation"
      ]
    },
    {
      "cell_type": "code",
      "metadata": {
        "id": "BO7Y_JiQmuUs",
        "colab": {
          "base_uri": "https://localhost:8080/"
        },
        "outputId": "c970c787-f61d-4656-851c-417ad3a9deca"
      },
      "source": [
        "from contextualized_topic_models.evaluation.measures import CoherenceNPMI\n",
        "\n",
        "texts = [line.split() for line in train_preprocessed_documents_for_bow] # load text for NPMI\n",
        "\n",
        "npmi = CoherenceNPMI(texts=texts, topics=ctm.get_topic_lists(10))\n",
        "npmi.score()"
      ],
      "execution_count": 30,
      "outputs": [
        {
          "output_type": "execute_result",
          "data": {
            "text/plain": [
              "0.09765611123269505"
            ]
          },
          "metadata": {
            "tags": []
          },
          "execution_count": 30
        }
      ]
    },
    {
      "cell_type": "markdown",
      "metadata": {
        "id": "9M2xWJRtWWMM"
      },
      "source": [
        "Warning: Coherence Word Embedding takes ca. 8 minutes"
      ]
    },
    {
      "cell_type": "code",
      "metadata": {
        "colab": {
          "base_uri": "https://localhost:8080/"
        },
        "id": "1woPb4pjRQsm",
        "outputId": "e70fa56e-4835-44b6-959d-1f9851d59959"
      },
      "source": [
        "from contextualized_topic_models.evaluation.measures import CoherenceWordEmbeddings\n",
        "\n",
        "wordemb = CoherenceWordEmbeddings(topics=ctm.get_topic_lists(10))\n",
        "wordemb.score()"
      ],
      "execution_count": 33,
      "outputs": [
        {
          "output_type": "stream",
          "text": [
            "/usr/local/lib/python3.7/dist-packages/gensim/models/keyedvectors.py:1549: ResourceWarning: unclosed file <_io.BufferedReader name='/root/gensim-data/word2vec-google-news-300/word2vec-google-news-300.gz'>\n",
            "  limit=limit, datatype=datatype)\n",
            "ResourceWarning: Enable tracemalloc to get the object allocation traceback\n"
          ],
          "name": "stderr"
        },
        {
          "output_type": "execute_result",
          "data": {
            "text/plain": [
              "0.17030354"
            ]
          },
          "metadata": {
            "tags": []
          },
          "execution_count": 33
        }
      ]
    },
    {
      "cell_type": "code",
      "metadata": {
        "colab": {
          "base_uri": "https://localhost:8080/"
        },
        "id": "QpWVArYCysRJ",
        "outputId": "e9e4bea2-1a8e-4e23-ed7b-38e0a5686d7a"
      },
      "source": [
        "from contextualized_topic_models.evaluation.measures import InvertedRBO\n",
        "\n",
        "rbo = InvertedRBO(topics=ctm.get_topic_lists(10))\n",
        "rbo.score()"
      ],
      "execution_count": 32,
      "outputs": [
        {
          "output_type": "execute_result",
          "data": {
            "text/plain": [
              "0.9904118689854788"
            ]
          },
          "metadata": {
            "tags": []
          },
          "execution_count": 32
        }
      ]
    }
  ]
}